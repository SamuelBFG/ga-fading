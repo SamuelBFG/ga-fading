{
  "nbformat": 4,
  "nbformat_minor": 0,
  "metadata": {
    "colab": {
      "name": "GeneticAlgorithm_CurveFitting.ipynb",
      "provenance": [],
      "collapsed_sections": [],
      "toc_visible": true,
      "authorship_tag": "ABX9TyNU6KEOEtLSQnclWaFcVE5I",
      "include_colab_link": true
    },
    "kernelspec": {
      "name": "python3",
      "display_name": "Python 3"
    },
    "language_info": {
      "name": "python"
    }
  },
  "cells": [
    {
      "cell_type": "markdown",
      "metadata": {
        "id": "view-in-github",
        "colab_type": "text"
      },
      "source": [
        "<a href=\"https://colab.research.google.com/github/SamuelBFG/ga-fading/blob/main/GeneticAlgorithm_CurveFitting.ipynb\" target=\"_parent\"><img src=\"https://colab.research.google.com/assets/colab-badge.svg\" alt=\"Open In Colab\"/></a>"
      ]
    },
    {
      "cell_type": "code",
      "execution_count": 1,
      "metadata": {
        "id": "b09UaaMttfaU"
      },
      "outputs": [],
      "source": [
        "import os\n",
        "import numpy as np\n",
        "import pandas as pd\n",
        "import seaborn as sns\n",
        "import random\n",
        "import matplotlib.pyplot as plt\n",
        "from scipy import special as sp\n",
        "from scipy.stats import gaussian_kde\n",
        "from scipy.io import loadmat\n",
        "from sklearn.neighbors import KernelDensity\n",
        "\n",
        "plt.rcParams.update({'figure.max_open_warning': 0})\n",
        "%matplotlib inline\n",
        "\n",
        "## Set up directories\n",
        "paths = ['plots', \n",
        "            'plots/gen/', \n",
        "        ]\n",
        "for i in paths:\n",
        "    if not os.path.exists(i):\n",
        "        os.makedirs(i)"
      ]
    },
    {
      "cell_type": "code",
      "source": [
        "class DataLoad():\n",
        "  def __init__(self):\n",
        "    return\n",
        "  \n",
        "  def datasets_AB_2Khz(self):   \n",
        "    ap_1 = pd.read_csv('/content/pathAB_SSF_dB_AP1_downsampled2Khz_win100.txt', sep=\" \", header=None)\n",
        "    ap_2 = pd.read_csv('/contentt/pathAB_SSF_dB_AP2_downsampled2Khz_win100.txt', sep=\" \", header=None)\n",
        "    ap_3 = pd.read_csv('/content/pathAB_SSF_dB_AP3_downsampled2Khz_win100.txt', sep=\" \", header=None)\n",
        "    ap_4 = pd.read_csv('/content/pathAB_SSF_dB_AP4_downsampled2Khz_win100.txt', sep=\" \", header=None)\n",
        "    ap_5 = pd.read_csv('/content/pathAB_SSF_dB_AP5_downsampled2Khz_win100.txt', sep=\" \", header=None)\n",
        "    ap_6 = pd.read_csv('/content/pathAB_SSF_dB_AP6_downsampled2Khz_win100.txt', sep=\" \", header=None)\n",
        "    ap_7 = pd.read_csv('/content/pathAB_SSF_dB_AP7_downsampled2Khz_win100.txt', sep=\" \", header=None)\n",
        "    ap_8 = pd.read_csv('/content/pathAB_SSF_dB_AP8_downsampled2Khz_win100.txt', sep=\" \", header=None)\n",
        "    ap_9 = pd.read_csv('/content/pathAB_SSF_dB_AP9_downsampled2Khz_win100.txt', sep=\" \", header=None)\n",
        "\n",
        "    return ap_1, ap_2, ap_3, ap_4, ap_5, ap_6, ap_7, ap_8, ap_9\n",
        "\n",
        "  def datasets_AB_1Khz(self):\n",
        "    ap_1 = pd.read_csv('/content/pathAB_SSF_dB_AP1_downsampled1Khz_win50.txt', sep=\" \", header=None)\n",
        "    ap_2 = pd.read_csv('/content/pathAB_SSF_dB_AP2_downsampled1Khz_win50.txt', sep=\" \", header=None)\n",
        "    ap_3 = pd.read_csv('/content/pathAB_SSF_dB_AP3_downsampled1Khz_win50.txt', sep=\" \", header=None)\n",
        "    ap_4 = pd.read_csv('/content/pathAB_SSF_dB_AP4_downsampled1Khz_win50.txt', sep=\" \", header=None)\n",
        "    ap_5 = pd.read_csv('/content/pathAB_SSF_dB_AP5_downsampled1Khz_win50.txt', sep=\" \", header=None)\n",
        "    ap_6 = pd.read_csv('/content/pathAB_SSF_dB_AP6_downsampled1Khz_win50.txt', sep=\" \", header=None)\n",
        "    ap_7 = pd.read_csv('/content/pathAB_SSF_dB_AP7_downsampled1Khz_win50.txt', sep=\" \", header=None)\n",
        "    ap_8 = pd.read_csv('/content/pathAB_SSF_dB_AP8_downsampled1Khz_win50.txt', sep=\" \", header=None)\n",
        "    ap_9 = pd.read_csv('/content/pathAB_SSF_dB_AP9_downsampled1Khz_win50.txt', sep=\" \", header=None)\n",
        "\n",
        "    return ap_1, ap_2, ap_3, ap_4, ap_5, ap_6, ap_7, ap_8, ap_9\n",
        "\n",
        "  def datasets_BA_2Khz(self):\n",
        "    ap_1 = pd.read_csv('/content/pathBA_SSF_dB_AP1_downsampled2Khz_win100.txt', sep=\" \", header=None)\n",
        "    ap_2 = pd.read_csv('/content/pathBA_SSF_dB_AP2_downsampled2Khz_win100.txt', sep=\" \", header=None)\n",
        "    ap_3 = pd.read_csv('/content/pathBA_SSF_dB_AP3_downsampled2Khz_win100.txt', sep=\" \", header=None)\n",
        "    ap_4 = pd.read_csv('/content/pathBA_SSF_dB_AP4_downsampled2Khz_win100.txt', sep=\" \", header=None)\n",
        "    ap_5 = pd.read_csv('/content/pathBA_SSF_dB_AP5_downsampled2Khz_win100.txt', sep=\" \", header=None)\n",
        "    ap_6 = pd.read_csv('/content/pathBA_SSF_dB_AP6_downsampled2Khz_win100.txt', sep=\" \", header=None)\n",
        "    ap_7 = pd.read_csv('/content/pathBA_SSF_dB_AP7_downsampled2Khz_win100.txt', sep=\" \", header=None)\n",
        "    ap_8 = pd.read_csv('/content/pathBA_SSF_dB_AP8_downsampled2Khz_win100.txt', sep=\" \", header=None)\n",
        "    ap_9 = pd.read_csv('/content/pathBA_SSF_dB_AP9_downsampled2Khz_win100.txt', sep=\" \", header=None)\n",
        "\n",
        "    return ap_1, ap_2, ap_3, ap_4, ap_5, ap_6, ap_7, ap_8, ap_9\n",
        "\n",
        "  def datasets_BA_1Khz(self):\n",
        "    ap_1 = pd.read_csv('/content/pathBA_SSF_dB_AP1_downsampled1Khz_win50.txt', sep=\" \", header=None)\n",
        "    ap_2 = pd.read_csv('/content/pathBA_SSF_dB_AP2_downsampled1Khz_win50.txt', sep=\" \", header=None)\n",
        "    ap_3 = pd.read_csv('/content/pathBA_SSF_dB_AP3_downsampled1Khz_win50.txt', sep=\" \", header=None)\n",
        "    ap_4 = pd.read_csv('/content/pathBA_SSF_dB_AP4_downsampled1Khz_win50.txt', sep=\" \", header=None)\n",
        "    ap_5 = pd.read_csv('/content/pathBA_SSF_dB_AP5_downsampled1Khz_win50.txt', sep=\" \", header=None)\n",
        "    ap_6 = pd.read_csv('/content/pathBA_SSF_dB_AP6_downsampled1Khz_win50.txt', sep=\" \", header=None)\n",
        "    ap_7 = pd.read_csv('/content/pathBA_SSF_dB_AP7_downsampled1Khz_win50.txt', sep=\" \", header=None)\n",
        "    ap_8 = pd.read_csv('/content/pathBA_SSF_dB_AP8_downsampled1Khz_win50.txt', sep=\" \", header=None)\n",
        "    ap_9 = pd.read_csv('/content/pathBA_SSF_dB_AP9_downsampled1Khz_win50.txt', sep=\" \", header=None)\n",
        "\n",
        "    return ap_1, ap_2, ap_3, ap_4, ap_5, ap_6, ap_7, ap_8, ap_9\n",
        "\n",
        "######################\n",
        "#### LOAD PATH AB ####\n",
        "######################\n",
        "pathAB_dB = pd.DataFrame()\n",
        "pathAB_dB['AP1'], pathAB_dB['AP2'], pathAB_dB['AP3'], pathAB_dB['AP4'], pathAB_dB['AP5'], pathAB_dB['AP6'], pathAB_dB['AP7'], pathAB_dB['AP8'], pathAB_dB['AP9'] = DataLoad().datasets_AB_1Khz() \n",
        "\n",
        "\n",
        "pathAB_linear = {}\n",
        "pathAB_linear['AP1'] = np.power(10, pathAB_dB['AP1']/20)\n",
        "pathAB_linear['AP2'] = np.power(10, pathAB_dB['AP2']/20)\n",
        "pathAB_linear['AP3'] = np.power(10, pathAB_dB['AP3']/20)\n",
        "pathAB_linear['AP4'] = np.power(10, pathAB_dB['AP4']/20)\n",
        "pathAB_linear['AP5'] = np.power(10, pathAB_dB['AP5']/20)\n",
        "pathAB_linear['AP6'] = np.power(10, pathAB_dB['AP6']/20)\n",
        "pathAB_linear['AP7'] = np.power(10, pathAB_dB['AP7']/20)\n",
        "pathAB_linear['AP8'] = np.power(10, pathAB_dB['AP8']/20)\n",
        "pathAB_linear['AP9'] = np.power(10, pathAB_dB['AP9']/20)\n",
        "pathAB_linear = pd.DataFrame(pathAB_linear)\n",
        "\n",
        "######################\n",
        "#### LOAD PATH AB ####\n",
        "######################\n",
        "pathBA_dB = pd.DataFrame()\n",
        "pathBA_dB['AP1'], pathBA_dB['AP2'], pathBA_dB['AP3'], pathBA_dB['AP4'], pathBA_dB['AP5'], pathBA_dB['AP6'], pathBA_dB['AP7'], pathBA_dB['AP8'], pathBA_dB['AP9'] = DataLoad().datasets_BA_1Khz()\n",
        "\n",
        "\n",
        "pathBA_linear = {}\n",
        "pathBA_linear['AP1'] = np.power(10, pathBA_dB['AP1']/20)\n",
        "pathBA_linear['AP2'] = np.power(10, pathBA_dB['AP2']/20)\n",
        "pathBA_linear['AP3'] = np.power(10, pathBA_dB['AP3']/20)\n",
        "pathBA_linear['AP4'] = np.power(10, pathBA_dB['AP4']/20)\n",
        "pathBA_linear['AP5'] = np.power(10, pathBA_dB['AP5']/20)\n",
        "pathBA_linear['AP6'] = np.power(10, pathBA_dB['AP6']/20)\n",
        "pathBA_linear['AP7'] = np.power(10, pathBA_dB['AP7']/20)\n",
        "pathBA_linear['AP8'] = np.power(10, pathBA_dB['AP8']/20)\n",
        "pathBA_linear['AP9'] = np.power(10, pathBA_dB['AP9']/20)\n",
        "pathBA_linear = pd.DataFrame(pathBA_linear)\n",
        "\n",
        "print('Path AB (dB) Statistics:')\n",
        "display(pathAB_dB.describe())\n",
        "print('Path AB (linear) Statistics:')\n",
        "display(pathAB_linear.describe())\n",
        "print('Path BA (dB) Statistics:')\n",
        "display(pathBA_dB.describe())\n",
        "print('Path BA (linear) Statistics:')\n",
        "display(pathBA_linear.describe())\n"
      ],
      "metadata": {
        "colab": {
          "base_uri": "https://localhost:8080/",
          "height": 1000
        },
        "id": "ek0d_oyPvITn",
        "outputId": "4b4aa0d6-9297-4523-adcd-8ecc15b52f6a"
      },
      "execution_count": 2,
      "outputs": [
        {
          "output_type": "stream",
          "name": "stdout",
          "text": [
            "Path AB (dB) Statistics:\n"
          ]
        },
        {
          "output_type": "display_data",
          "data": {
            "text/plain": [
              "                AP1          AP2           AP3          AP4          AP5  \\\n",
              "count  10697.000000  8812.000000  10656.000000  9927.000000  9395.000000   \n",
              "mean      -0.679144    -0.678685     -0.891395    -0.618300    -0.638215   \n",
              "std        3.755317     3.727851      4.148268     3.481536     3.523801   \n",
              "min      -23.270000   -25.995000    -29.257000   -23.439000   -26.626000   \n",
              "25%       -1.992900    -2.078275     -2.785375    -1.758650    -1.908150   \n",
              "50%        0.018903    -0.096474     -0.152590    -0.033933    -0.029619   \n",
              "75%        1.533700     1.476525      1.818025     1.298050     1.420300   \n",
              "max        8.057100     9.495200      8.997100    10.364000     9.217000   \n",
              "\n",
              "               AP6          AP7          AP8          AP9  \n",
              "count  8645.000000  9343.000000  9281.000000  9125.000000  \n",
              "mean     -0.955131    -0.906079    -0.808394    -0.980556  \n",
              "std       4.381667     4.206115     3.948882     4.360623  \n",
              "min     -28.295000   -24.263000   -23.097000   -25.785000  \n",
              "25%      -3.072200    -2.969000    -2.730100    -3.206400  \n",
              "50%      -0.132410    -0.155200    -0.187850    -0.247910  \n",
              "75%       1.953700     1.949350     1.754300     1.991900  \n",
              "max       8.636300     9.117800     8.691000     8.649700  "
            ],
            "text/html": [
              "\n",
              "  <div id=\"df-a04c1ea3-5ca8-408e-bc36-9ecab61f65d6\">\n",
              "    <div class=\"colab-df-container\">\n",
              "      <div>\n",
              "<style scoped>\n",
              "    .dataframe tbody tr th:only-of-type {\n",
              "        vertical-align: middle;\n",
              "    }\n",
              "\n",
              "    .dataframe tbody tr th {\n",
              "        vertical-align: top;\n",
              "    }\n",
              "\n",
              "    .dataframe thead th {\n",
              "        text-align: right;\n",
              "    }\n",
              "</style>\n",
              "<table border=\"1\" class=\"dataframe\">\n",
              "  <thead>\n",
              "    <tr style=\"text-align: right;\">\n",
              "      <th></th>\n",
              "      <th>AP1</th>\n",
              "      <th>AP2</th>\n",
              "      <th>AP3</th>\n",
              "      <th>AP4</th>\n",
              "      <th>AP5</th>\n",
              "      <th>AP6</th>\n",
              "      <th>AP7</th>\n",
              "      <th>AP8</th>\n",
              "      <th>AP9</th>\n",
              "    </tr>\n",
              "  </thead>\n",
              "  <tbody>\n",
              "    <tr>\n",
              "      <th>count</th>\n",
              "      <td>10697.000000</td>\n",
              "      <td>8812.000000</td>\n",
              "      <td>10656.000000</td>\n",
              "      <td>9927.000000</td>\n",
              "      <td>9395.000000</td>\n",
              "      <td>8645.000000</td>\n",
              "      <td>9343.000000</td>\n",
              "      <td>9281.000000</td>\n",
              "      <td>9125.000000</td>\n",
              "    </tr>\n",
              "    <tr>\n",
              "      <th>mean</th>\n",
              "      <td>-0.679144</td>\n",
              "      <td>-0.678685</td>\n",
              "      <td>-0.891395</td>\n",
              "      <td>-0.618300</td>\n",
              "      <td>-0.638215</td>\n",
              "      <td>-0.955131</td>\n",
              "      <td>-0.906079</td>\n",
              "      <td>-0.808394</td>\n",
              "      <td>-0.980556</td>\n",
              "    </tr>\n",
              "    <tr>\n",
              "      <th>std</th>\n",
              "      <td>3.755317</td>\n",
              "      <td>3.727851</td>\n",
              "      <td>4.148268</td>\n",
              "      <td>3.481536</td>\n",
              "      <td>3.523801</td>\n",
              "      <td>4.381667</td>\n",
              "      <td>4.206115</td>\n",
              "      <td>3.948882</td>\n",
              "      <td>4.360623</td>\n",
              "    </tr>\n",
              "    <tr>\n",
              "      <th>min</th>\n",
              "      <td>-23.270000</td>\n",
              "      <td>-25.995000</td>\n",
              "      <td>-29.257000</td>\n",
              "      <td>-23.439000</td>\n",
              "      <td>-26.626000</td>\n",
              "      <td>-28.295000</td>\n",
              "      <td>-24.263000</td>\n",
              "      <td>-23.097000</td>\n",
              "      <td>-25.785000</td>\n",
              "    </tr>\n",
              "    <tr>\n",
              "      <th>25%</th>\n",
              "      <td>-1.992900</td>\n",
              "      <td>-2.078275</td>\n",
              "      <td>-2.785375</td>\n",
              "      <td>-1.758650</td>\n",
              "      <td>-1.908150</td>\n",
              "      <td>-3.072200</td>\n",
              "      <td>-2.969000</td>\n",
              "      <td>-2.730100</td>\n",
              "      <td>-3.206400</td>\n",
              "    </tr>\n",
              "    <tr>\n",
              "      <th>50%</th>\n",
              "      <td>0.018903</td>\n",
              "      <td>-0.096474</td>\n",
              "      <td>-0.152590</td>\n",
              "      <td>-0.033933</td>\n",
              "      <td>-0.029619</td>\n",
              "      <td>-0.132410</td>\n",
              "      <td>-0.155200</td>\n",
              "      <td>-0.187850</td>\n",
              "      <td>-0.247910</td>\n",
              "    </tr>\n",
              "    <tr>\n",
              "      <th>75%</th>\n",
              "      <td>1.533700</td>\n",
              "      <td>1.476525</td>\n",
              "      <td>1.818025</td>\n",
              "      <td>1.298050</td>\n",
              "      <td>1.420300</td>\n",
              "      <td>1.953700</td>\n",
              "      <td>1.949350</td>\n",
              "      <td>1.754300</td>\n",
              "      <td>1.991900</td>\n",
              "    </tr>\n",
              "    <tr>\n",
              "      <th>max</th>\n",
              "      <td>8.057100</td>\n",
              "      <td>9.495200</td>\n",
              "      <td>8.997100</td>\n",
              "      <td>10.364000</td>\n",
              "      <td>9.217000</td>\n",
              "      <td>8.636300</td>\n",
              "      <td>9.117800</td>\n",
              "      <td>8.691000</td>\n",
              "      <td>8.649700</td>\n",
              "    </tr>\n",
              "  </tbody>\n",
              "</table>\n",
              "</div>\n",
              "      <button class=\"colab-df-convert\" onclick=\"convertToInteractive('df-a04c1ea3-5ca8-408e-bc36-9ecab61f65d6')\"\n",
              "              title=\"Convert this dataframe to an interactive table.\"\n",
              "              style=\"display:none;\">\n",
              "        \n",
              "  <svg xmlns=\"http://www.w3.org/2000/svg\" height=\"24px\"viewBox=\"0 0 24 24\"\n",
              "       width=\"24px\">\n",
              "    <path d=\"M0 0h24v24H0V0z\" fill=\"none\"/>\n",
              "    <path d=\"M18.56 5.44l.94 2.06.94-2.06 2.06-.94-2.06-.94-.94-2.06-.94 2.06-2.06.94zm-11 1L8.5 8.5l.94-2.06 2.06-.94-2.06-.94L8.5 2.5l-.94 2.06-2.06.94zm10 10l.94 2.06.94-2.06 2.06-.94-2.06-.94-.94-2.06-.94 2.06-2.06.94z\"/><path d=\"M17.41 7.96l-1.37-1.37c-.4-.4-.92-.59-1.43-.59-.52 0-1.04.2-1.43.59L10.3 9.45l-7.72 7.72c-.78.78-.78 2.05 0 2.83L4 21.41c.39.39.9.59 1.41.59.51 0 1.02-.2 1.41-.59l7.78-7.78 2.81-2.81c.8-.78.8-2.07 0-2.86zM5.41 20L4 18.59l7.72-7.72 1.47 1.35L5.41 20z\"/>\n",
              "  </svg>\n",
              "      </button>\n",
              "      \n",
              "  <style>\n",
              "    .colab-df-container {\n",
              "      display:flex;\n",
              "      flex-wrap:wrap;\n",
              "      gap: 12px;\n",
              "    }\n",
              "\n",
              "    .colab-df-convert {\n",
              "      background-color: #E8F0FE;\n",
              "      border: none;\n",
              "      border-radius: 50%;\n",
              "      cursor: pointer;\n",
              "      display: none;\n",
              "      fill: #1967D2;\n",
              "      height: 32px;\n",
              "      padding: 0 0 0 0;\n",
              "      width: 32px;\n",
              "    }\n",
              "\n",
              "    .colab-df-convert:hover {\n",
              "      background-color: #E2EBFA;\n",
              "      box-shadow: 0px 1px 2px rgba(60, 64, 67, 0.3), 0px 1px 3px 1px rgba(60, 64, 67, 0.15);\n",
              "      fill: #174EA6;\n",
              "    }\n",
              "\n",
              "    [theme=dark] .colab-df-convert {\n",
              "      background-color: #3B4455;\n",
              "      fill: #D2E3FC;\n",
              "    }\n",
              "\n",
              "    [theme=dark] .colab-df-convert:hover {\n",
              "      background-color: #434B5C;\n",
              "      box-shadow: 0px 1px 3px 1px rgba(0, 0, 0, 0.15);\n",
              "      filter: drop-shadow(0px 1px 2px rgba(0, 0, 0, 0.3));\n",
              "      fill: #FFFFFF;\n",
              "    }\n",
              "  </style>\n",
              "\n",
              "      <script>\n",
              "        const buttonEl =\n",
              "          document.querySelector('#df-a04c1ea3-5ca8-408e-bc36-9ecab61f65d6 button.colab-df-convert');\n",
              "        buttonEl.style.display =\n",
              "          google.colab.kernel.accessAllowed ? 'block' : 'none';\n",
              "\n",
              "        async function convertToInteractive(key) {\n",
              "          const element = document.querySelector('#df-a04c1ea3-5ca8-408e-bc36-9ecab61f65d6');\n",
              "          const dataTable =\n",
              "            await google.colab.kernel.invokeFunction('convertToInteractive',\n",
              "                                                     [key], {});\n",
              "          if (!dataTable) return;\n",
              "\n",
              "          const docLinkHtml = 'Like what you see? Visit the ' +\n",
              "            '<a target=\"_blank\" href=https://colab.research.google.com/notebooks/data_table.ipynb>data table notebook</a>'\n",
              "            + ' to learn more about interactive tables.';\n",
              "          element.innerHTML = '';\n",
              "          dataTable['output_type'] = 'display_data';\n",
              "          await google.colab.output.renderOutput(dataTable, element);\n",
              "          const docLink = document.createElement('div');\n",
              "          docLink.innerHTML = docLinkHtml;\n",
              "          element.appendChild(docLink);\n",
              "        }\n",
              "      </script>\n",
              "    </div>\n",
              "  </div>\n",
              "  "
            ]
          },
          "metadata": {}
        },
        {
          "output_type": "stream",
          "name": "stdout",
          "text": [
            "Path AB (linear) Statistics:\n"
          ]
        },
        {
          "output_type": "display_data",
          "data": {
            "text/plain": [
              "                AP1          AP2           AP3          AP4          AP5  \\\n",
              "count  10697.000000  8812.000000  10656.000000  9927.000000  9395.000000   \n",
              "mean       0.998028     0.999134      0.994438     0.996579     0.996164   \n",
              "std        0.344062     0.357581      0.398839     0.334285     0.337584   \n",
              "min        0.068628     0.050148      0.034447     0.067305     0.046634   \n",
              "25%        0.794978     0.787202      0.725657     0.816709     0.802773   \n",
              "50%        1.002179     0.988955      0.982586     0.996101     0.996596   \n",
              "75%        1.193122     1.185294      1.232824     1.161188     1.177647   \n",
              "max        2.528454     2.983733      2.817442     3.297615     2.889682   \n",
              "\n",
              "               AP6          AP7          AP8          AP9  \n",
              "count  8645.000000  9343.000000  9281.000000  9125.000000  \n",
              "mean      0.998017     0.996402     0.996772     0.996079  \n",
              "std       0.420995     0.407807     0.390212     0.428052  \n",
              "min       0.038481     0.061214     0.070008     0.051375  \n",
              "25%       0.702085     0.710477     0.730289     0.691321  \n",
              "50%       0.984871     0.982291     0.978605     0.971862  \n",
              "75%       1.252233     1.251606     1.223813     1.257752  \n",
              "max       2.702807     2.856867     2.719882     2.706980  "
            ],
            "text/html": [
              "\n",
              "  <div id=\"df-032ee46e-531f-41f0-96bd-b92f7d1a04d3\">\n",
              "    <div class=\"colab-df-container\">\n",
              "      <div>\n",
              "<style scoped>\n",
              "    .dataframe tbody tr th:only-of-type {\n",
              "        vertical-align: middle;\n",
              "    }\n",
              "\n",
              "    .dataframe tbody tr th {\n",
              "        vertical-align: top;\n",
              "    }\n",
              "\n",
              "    .dataframe thead th {\n",
              "        text-align: right;\n",
              "    }\n",
              "</style>\n",
              "<table border=\"1\" class=\"dataframe\">\n",
              "  <thead>\n",
              "    <tr style=\"text-align: right;\">\n",
              "      <th></th>\n",
              "      <th>AP1</th>\n",
              "      <th>AP2</th>\n",
              "      <th>AP3</th>\n",
              "      <th>AP4</th>\n",
              "      <th>AP5</th>\n",
              "      <th>AP6</th>\n",
              "      <th>AP7</th>\n",
              "      <th>AP8</th>\n",
              "      <th>AP9</th>\n",
              "    </tr>\n",
              "  </thead>\n",
              "  <tbody>\n",
              "    <tr>\n",
              "      <th>count</th>\n",
              "      <td>10697.000000</td>\n",
              "      <td>8812.000000</td>\n",
              "      <td>10656.000000</td>\n",
              "      <td>9927.000000</td>\n",
              "      <td>9395.000000</td>\n",
              "      <td>8645.000000</td>\n",
              "      <td>9343.000000</td>\n",
              "      <td>9281.000000</td>\n",
              "      <td>9125.000000</td>\n",
              "    </tr>\n",
              "    <tr>\n",
              "      <th>mean</th>\n",
              "      <td>0.998028</td>\n",
              "      <td>0.999134</td>\n",
              "      <td>0.994438</td>\n",
              "      <td>0.996579</td>\n",
              "      <td>0.996164</td>\n",
              "      <td>0.998017</td>\n",
              "      <td>0.996402</td>\n",
              "      <td>0.996772</td>\n",
              "      <td>0.996079</td>\n",
              "    </tr>\n",
              "    <tr>\n",
              "      <th>std</th>\n",
              "      <td>0.344062</td>\n",
              "      <td>0.357581</td>\n",
              "      <td>0.398839</td>\n",
              "      <td>0.334285</td>\n",
              "      <td>0.337584</td>\n",
              "      <td>0.420995</td>\n",
              "      <td>0.407807</td>\n",
              "      <td>0.390212</td>\n",
              "      <td>0.428052</td>\n",
              "    </tr>\n",
              "    <tr>\n",
              "      <th>min</th>\n",
              "      <td>0.068628</td>\n",
              "      <td>0.050148</td>\n",
              "      <td>0.034447</td>\n",
              "      <td>0.067305</td>\n",
              "      <td>0.046634</td>\n",
              "      <td>0.038481</td>\n",
              "      <td>0.061214</td>\n",
              "      <td>0.070008</td>\n",
              "      <td>0.051375</td>\n",
              "    </tr>\n",
              "    <tr>\n",
              "      <th>25%</th>\n",
              "      <td>0.794978</td>\n",
              "      <td>0.787202</td>\n",
              "      <td>0.725657</td>\n",
              "      <td>0.816709</td>\n",
              "      <td>0.802773</td>\n",
              "      <td>0.702085</td>\n",
              "      <td>0.710477</td>\n",
              "      <td>0.730289</td>\n",
              "      <td>0.691321</td>\n",
              "    </tr>\n",
              "    <tr>\n",
              "      <th>50%</th>\n",
              "      <td>1.002179</td>\n",
              "      <td>0.988955</td>\n",
              "      <td>0.982586</td>\n",
              "      <td>0.996101</td>\n",
              "      <td>0.996596</td>\n",
              "      <td>0.984871</td>\n",
              "      <td>0.982291</td>\n",
              "      <td>0.978605</td>\n",
              "      <td>0.971862</td>\n",
              "    </tr>\n",
              "    <tr>\n",
              "      <th>75%</th>\n",
              "      <td>1.193122</td>\n",
              "      <td>1.185294</td>\n",
              "      <td>1.232824</td>\n",
              "      <td>1.161188</td>\n",
              "      <td>1.177647</td>\n",
              "      <td>1.252233</td>\n",
              "      <td>1.251606</td>\n",
              "      <td>1.223813</td>\n",
              "      <td>1.257752</td>\n",
              "    </tr>\n",
              "    <tr>\n",
              "      <th>max</th>\n",
              "      <td>2.528454</td>\n",
              "      <td>2.983733</td>\n",
              "      <td>2.817442</td>\n",
              "      <td>3.297615</td>\n",
              "      <td>2.889682</td>\n",
              "      <td>2.702807</td>\n",
              "      <td>2.856867</td>\n",
              "      <td>2.719882</td>\n",
              "      <td>2.706980</td>\n",
              "    </tr>\n",
              "  </tbody>\n",
              "</table>\n",
              "</div>\n",
              "      <button class=\"colab-df-convert\" onclick=\"convertToInteractive('df-032ee46e-531f-41f0-96bd-b92f7d1a04d3')\"\n",
              "              title=\"Convert this dataframe to an interactive table.\"\n",
              "              style=\"display:none;\">\n",
              "        \n",
              "  <svg xmlns=\"http://www.w3.org/2000/svg\" height=\"24px\"viewBox=\"0 0 24 24\"\n",
              "       width=\"24px\">\n",
              "    <path d=\"M0 0h24v24H0V0z\" fill=\"none\"/>\n",
              "    <path d=\"M18.56 5.44l.94 2.06.94-2.06 2.06-.94-2.06-.94-.94-2.06-.94 2.06-2.06.94zm-11 1L8.5 8.5l.94-2.06 2.06-.94-2.06-.94L8.5 2.5l-.94 2.06-2.06.94zm10 10l.94 2.06.94-2.06 2.06-.94-2.06-.94-.94-2.06-.94 2.06-2.06.94z\"/><path d=\"M17.41 7.96l-1.37-1.37c-.4-.4-.92-.59-1.43-.59-.52 0-1.04.2-1.43.59L10.3 9.45l-7.72 7.72c-.78.78-.78 2.05 0 2.83L4 21.41c.39.39.9.59 1.41.59.51 0 1.02-.2 1.41-.59l7.78-7.78 2.81-2.81c.8-.78.8-2.07 0-2.86zM5.41 20L4 18.59l7.72-7.72 1.47 1.35L5.41 20z\"/>\n",
              "  </svg>\n",
              "      </button>\n",
              "      \n",
              "  <style>\n",
              "    .colab-df-container {\n",
              "      display:flex;\n",
              "      flex-wrap:wrap;\n",
              "      gap: 12px;\n",
              "    }\n",
              "\n",
              "    .colab-df-convert {\n",
              "      background-color: #E8F0FE;\n",
              "      border: none;\n",
              "      border-radius: 50%;\n",
              "      cursor: pointer;\n",
              "      display: none;\n",
              "      fill: #1967D2;\n",
              "      height: 32px;\n",
              "      padding: 0 0 0 0;\n",
              "      width: 32px;\n",
              "    }\n",
              "\n",
              "    .colab-df-convert:hover {\n",
              "      background-color: #E2EBFA;\n",
              "      box-shadow: 0px 1px 2px rgba(60, 64, 67, 0.3), 0px 1px 3px 1px rgba(60, 64, 67, 0.15);\n",
              "      fill: #174EA6;\n",
              "    }\n",
              "\n",
              "    [theme=dark] .colab-df-convert {\n",
              "      background-color: #3B4455;\n",
              "      fill: #D2E3FC;\n",
              "    }\n",
              "\n",
              "    [theme=dark] .colab-df-convert:hover {\n",
              "      background-color: #434B5C;\n",
              "      box-shadow: 0px 1px 3px 1px rgba(0, 0, 0, 0.15);\n",
              "      filter: drop-shadow(0px 1px 2px rgba(0, 0, 0, 0.3));\n",
              "      fill: #FFFFFF;\n",
              "    }\n",
              "  </style>\n",
              "\n",
              "      <script>\n",
              "        const buttonEl =\n",
              "          document.querySelector('#df-032ee46e-531f-41f0-96bd-b92f7d1a04d3 button.colab-df-convert');\n",
              "        buttonEl.style.display =\n",
              "          google.colab.kernel.accessAllowed ? 'block' : 'none';\n",
              "\n",
              "        async function convertToInteractive(key) {\n",
              "          const element = document.querySelector('#df-032ee46e-531f-41f0-96bd-b92f7d1a04d3');\n",
              "          const dataTable =\n",
              "            await google.colab.kernel.invokeFunction('convertToInteractive',\n",
              "                                                     [key], {});\n",
              "          if (!dataTable) return;\n",
              "\n",
              "          const docLinkHtml = 'Like what you see? Visit the ' +\n",
              "            '<a target=\"_blank\" href=https://colab.research.google.com/notebooks/data_table.ipynb>data table notebook</a>'\n",
              "            + ' to learn more about interactive tables.';\n",
              "          element.innerHTML = '';\n",
              "          dataTable['output_type'] = 'display_data';\n",
              "          await google.colab.output.renderOutput(dataTable, element);\n",
              "          const docLink = document.createElement('div');\n",
              "          docLink.innerHTML = docLinkHtml;\n",
              "          element.appendChild(docLink);\n",
              "        }\n",
              "      </script>\n",
              "    </div>\n",
              "  </div>\n",
              "  "
            ]
          },
          "metadata": {}
        },
        {
          "output_type": "stream",
          "name": "stdout",
          "text": [
            "Path BA (dB) Statistics:\n"
          ]
        },
        {
          "output_type": "display_data",
          "data": {
            "text/plain": [
              "                AP1           AP2          AP3           AP4          AP5  \\\n",
              "count  10427.000000  10187.000000  9739.000000  10197.000000  9864.000000   \n",
              "mean      -1.074985     -1.082196    -1.108130     -1.141227    -1.066528   \n",
              "std        4.611840      4.606842     4.676193      4.776027     4.585556   \n",
              "min      -23.208000    -24.229000   -23.415000    -28.406000   -27.824000   \n",
              "25%       -3.572900     -3.676300    -3.706050     -3.604800    -3.436825   \n",
              "50%       -0.260680     -0.365460    -0.342420     -0.273940    -0.290850   \n",
              "75%        2.165200      2.217050     2.230550      2.215100     2.191550   \n",
              "max       10.430000     10.245000    10.232000      9.811200     9.336400   \n",
              "\n",
              "                AP6           AP7          AP8           AP9  \n",
              "count  10114.000000  10406.000000  9979.000000  10114.000000  \n",
              "mean      -1.169384     -1.085920    -1.050910     -1.141020  \n",
              "std        4.827644      4.644380     4.601888      4.805922  \n",
              "min      -29.505000    -24.908000   -23.740000    -25.947000  \n",
              "25%       -3.819825     -3.425175    -3.451000     -3.753000  \n",
              "50%       -0.376360     -0.311915    -0.233700     -0.330355  \n",
              "75%        2.335500      2.088425     2.116250      2.333100  \n",
              "max        9.470100      9.988000     9.302400      9.662200  "
            ],
            "text/html": [
              "\n",
              "  <div id=\"df-9f35b61b-cfdc-4335-bb90-5ee414b4669f\">\n",
              "    <div class=\"colab-df-container\">\n",
              "      <div>\n",
              "<style scoped>\n",
              "    .dataframe tbody tr th:only-of-type {\n",
              "        vertical-align: middle;\n",
              "    }\n",
              "\n",
              "    .dataframe tbody tr th {\n",
              "        vertical-align: top;\n",
              "    }\n",
              "\n",
              "    .dataframe thead th {\n",
              "        text-align: right;\n",
              "    }\n",
              "</style>\n",
              "<table border=\"1\" class=\"dataframe\">\n",
              "  <thead>\n",
              "    <tr style=\"text-align: right;\">\n",
              "      <th></th>\n",
              "      <th>AP1</th>\n",
              "      <th>AP2</th>\n",
              "      <th>AP3</th>\n",
              "      <th>AP4</th>\n",
              "      <th>AP5</th>\n",
              "      <th>AP6</th>\n",
              "      <th>AP7</th>\n",
              "      <th>AP8</th>\n",
              "      <th>AP9</th>\n",
              "    </tr>\n",
              "  </thead>\n",
              "  <tbody>\n",
              "    <tr>\n",
              "      <th>count</th>\n",
              "      <td>10427.000000</td>\n",
              "      <td>10187.000000</td>\n",
              "      <td>9739.000000</td>\n",
              "      <td>10197.000000</td>\n",
              "      <td>9864.000000</td>\n",
              "      <td>10114.000000</td>\n",
              "      <td>10406.000000</td>\n",
              "      <td>9979.000000</td>\n",
              "      <td>10114.000000</td>\n",
              "    </tr>\n",
              "    <tr>\n",
              "      <th>mean</th>\n",
              "      <td>-1.074985</td>\n",
              "      <td>-1.082196</td>\n",
              "      <td>-1.108130</td>\n",
              "      <td>-1.141227</td>\n",
              "      <td>-1.066528</td>\n",
              "      <td>-1.169384</td>\n",
              "      <td>-1.085920</td>\n",
              "      <td>-1.050910</td>\n",
              "      <td>-1.141020</td>\n",
              "    </tr>\n",
              "    <tr>\n",
              "      <th>std</th>\n",
              "      <td>4.611840</td>\n",
              "      <td>4.606842</td>\n",
              "      <td>4.676193</td>\n",
              "      <td>4.776027</td>\n",
              "      <td>4.585556</td>\n",
              "      <td>4.827644</td>\n",
              "      <td>4.644380</td>\n",
              "      <td>4.601888</td>\n",
              "      <td>4.805922</td>\n",
              "    </tr>\n",
              "    <tr>\n",
              "      <th>min</th>\n",
              "      <td>-23.208000</td>\n",
              "      <td>-24.229000</td>\n",
              "      <td>-23.415000</td>\n",
              "      <td>-28.406000</td>\n",
              "      <td>-27.824000</td>\n",
              "      <td>-29.505000</td>\n",
              "      <td>-24.908000</td>\n",
              "      <td>-23.740000</td>\n",
              "      <td>-25.947000</td>\n",
              "    </tr>\n",
              "    <tr>\n",
              "      <th>25%</th>\n",
              "      <td>-3.572900</td>\n",
              "      <td>-3.676300</td>\n",
              "      <td>-3.706050</td>\n",
              "      <td>-3.604800</td>\n",
              "      <td>-3.436825</td>\n",
              "      <td>-3.819825</td>\n",
              "      <td>-3.425175</td>\n",
              "      <td>-3.451000</td>\n",
              "      <td>-3.753000</td>\n",
              "    </tr>\n",
              "    <tr>\n",
              "      <th>50%</th>\n",
              "      <td>-0.260680</td>\n",
              "      <td>-0.365460</td>\n",
              "      <td>-0.342420</td>\n",
              "      <td>-0.273940</td>\n",
              "      <td>-0.290850</td>\n",
              "      <td>-0.376360</td>\n",
              "      <td>-0.311915</td>\n",
              "      <td>-0.233700</td>\n",
              "      <td>-0.330355</td>\n",
              "    </tr>\n",
              "    <tr>\n",
              "      <th>75%</th>\n",
              "      <td>2.165200</td>\n",
              "      <td>2.217050</td>\n",
              "      <td>2.230550</td>\n",
              "      <td>2.215100</td>\n",
              "      <td>2.191550</td>\n",
              "      <td>2.335500</td>\n",
              "      <td>2.088425</td>\n",
              "      <td>2.116250</td>\n",
              "      <td>2.333100</td>\n",
              "    </tr>\n",
              "    <tr>\n",
              "      <th>max</th>\n",
              "      <td>10.430000</td>\n",
              "      <td>10.245000</td>\n",
              "      <td>10.232000</td>\n",
              "      <td>9.811200</td>\n",
              "      <td>9.336400</td>\n",
              "      <td>9.470100</td>\n",
              "      <td>9.988000</td>\n",
              "      <td>9.302400</td>\n",
              "      <td>9.662200</td>\n",
              "    </tr>\n",
              "  </tbody>\n",
              "</table>\n",
              "</div>\n",
              "      <button class=\"colab-df-convert\" onclick=\"convertToInteractive('df-9f35b61b-cfdc-4335-bb90-5ee414b4669f')\"\n",
              "              title=\"Convert this dataframe to an interactive table.\"\n",
              "              style=\"display:none;\">\n",
              "        \n",
              "  <svg xmlns=\"http://www.w3.org/2000/svg\" height=\"24px\"viewBox=\"0 0 24 24\"\n",
              "       width=\"24px\">\n",
              "    <path d=\"M0 0h24v24H0V0z\" fill=\"none\"/>\n",
              "    <path d=\"M18.56 5.44l.94 2.06.94-2.06 2.06-.94-2.06-.94-.94-2.06-.94 2.06-2.06.94zm-11 1L8.5 8.5l.94-2.06 2.06-.94-2.06-.94L8.5 2.5l-.94 2.06-2.06.94zm10 10l.94 2.06.94-2.06 2.06-.94-2.06-.94-.94-2.06-.94 2.06-2.06.94z\"/><path d=\"M17.41 7.96l-1.37-1.37c-.4-.4-.92-.59-1.43-.59-.52 0-1.04.2-1.43.59L10.3 9.45l-7.72 7.72c-.78.78-.78 2.05 0 2.83L4 21.41c.39.39.9.59 1.41.59.51 0 1.02-.2 1.41-.59l7.78-7.78 2.81-2.81c.8-.78.8-2.07 0-2.86zM5.41 20L4 18.59l7.72-7.72 1.47 1.35L5.41 20z\"/>\n",
              "  </svg>\n",
              "      </button>\n",
              "      \n",
              "  <style>\n",
              "    .colab-df-container {\n",
              "      display:flex;\n",
              "      flex-wrap:wrap;\n",
              "      gap: 12px;\n",
              "    }\n",
              "\n",
              "    .colab-df-convert {\n",
              "      background-color: #E8F0FE;\n",
              "      border: none;\n",
              "      border-radius: 50%;\n",
              "      cursor: pointer;\n",
              "      display: none;\n",
              "      fill: #1967D2;\n",
              "      height: 32px;\n",
              "      padding: 0 0 0 0;\n",
              "      width: 32px;\n",
              "    }\n",
              "\n",
              "    .colab-df-convert:hover {\n",
              "      background-color: #E2EBFA;\n",
              "      box-shadow: 0px 1px 2px rgba(60, 64, 67, 0.3), 0px 1px 3px 1px rgba(60, 64, 67, 0.15);\n",
              "      fill: #174EA6;\n",
              "    }\n",
              "\n",
              "    [theme=dark] .colab-df-convert {\n",
              "      background-color: #3B4455;\n",
              "      fill: #D2E3FC;\n",
              "    }\n",
              "\n",
              "    [theme=dark] .colab-df-convert:hover {\n",
              "      background-color: #434B5C;\n",
              "      box-shadow: 0px 1px 3px 1px rgba(0, 0, 0, 0.15);\n",
              "      filter: drop-shadow(0px 1px 2px rgba(0, 0, 0, 0.3));\n",
              "      fill: #FFFFFF;\n",
              "    }\n",
              "  </style>\n",
              "\n",
              "      <script>\n",
              "        const buttonEl =\n",
              "          document.querySelector('#df-9f35b61b-cfdc-4335-bb90-5ee414b4669f button.colab-df-convert');\n",
              "        buttonEl.style.display =\n",
              "          google.colab.kernel.accessAllowed ? 'block' : 'none';\n",
              "\n",
              "        async function convertToInteractive(key) {\n",
              "          const element = document.querySelector('#df-9f35b61b-cfdc-4335-bb90-5ee414b4669f');\n",
              "          const dataTable =\n",
              "            await google.colab.kernel.invokeFunction('convertToInteractive',\n",
              "                                                     [key], {});\n",
              "          if (!dataTable) return;\n",
              "\n",
              "          const docLinkHtml = 'Like what you see? Visit the ' +\n",
              "            '<a target=\"_blank\" href=https://colab.research.google.com/notebooks/data_table.ipynb>data table notebook</a>'\n",
              "            + ' to learn more about interactive tables.';\n",
              "          element.innerHTML = '';\n",
              "          dataTable['output_type'] = 'display_data';\n",
              "          await google.colab.output.renderOutput(dataTable, element);\n",
              "          const docLink = document.createElement('div');\n",
              "          docLink.innerHTML = docLinkHtml;\n",
              "          element.appendChild(docLink);\n",
              "        }\n",
              "      </script>\n",
              "    </div>\n",
              "  </div>\n",
              "  "
            ]
          },
          "metadata": {}
        },
        {
          "output_type": "stream",
          "name": "stdout",
          "text": [
            "Path BA (linear) Statistics:\n"
          ]
        },
        {
          "output_type": "display_data",
          "data": {
            "text/plain": [
              "                AP1           AP2          AP3           AP4          AP5  \\\n",
              "count  10427.000000  10187.000000  9739.000000  10197.000000  9864.000000   \n",
              "mean       0.997510      0.998304     0.998336      0.996081     0.995027   \n",
              "std        0.449814      0.459462     0.463209      0.454875     0.437166   \n",
              "min        0.069119      0.061454     0.067492      0.037993     0.040626   \n",
              "25%        0.662758      0.654915     0.652676      0.660328     0.673223   \n",
              "50%        0.970434      0.958798     0.961344      0.968954     0.967069   \n",
              "75%        1.283099      1.290781     1.292789      1.290491     1.286997   \n",
              "max        3.322768      3.252745     3.247880      3.094283     2.929679   \n",
              "\n",
              "                AP6           AP7          AP8           AP9  \n",
              "count  10114.000000  10406.000000  9979.000000  10114.000000  \n",
              "mean       0.997682      0.996491     0.998782      0.999820  \n",
              "std        0.470313      0.448310     0.446857      0.467674  \n",
              "min        0.033477      0.056833     0.065013      0.050425  \n",
              "25%        0.644182      0.674126     0.672125      0.649157  \n",
              "50%        0.957595      0.964727     0.973453      0.962681  \n",
              "75%        1.308504      1.271807     1.275888      1.308142  \n",
              "max        2.975124      3.157912     2.918233      3.041655  "
            ],
            "text/html": [
              "\n",
              "  <div id=\"df-783f9493-3645-4ae8-9ded-329e773cc79c\">\n",
              "    <div class=\"colab-df-container\">\n",
              "      <div>\n",
              "<style scoped>\n",
              "    .dataframe tbody tr th:only-of-type {\n",
              "        vertical-align: middle;\n",
              "    }\n",
              "\n",
              "    .dataframe tbody tr th {\n",
              "        vertical-align: top;\n",
              "    }\n",
              "\n",
              "    .dataframe thead th {\n",
              "        text-align: right;\n",
              "    }\n",
              "</style>\n",
              "<table border=\"1\" class=\"dataframe\">\n",
              "  <thead>\n",
              "    <tr style=\"text-align: right;\">\n",
              "      <th></th>\n",
              "      <th>AP1</th>\n",
              "      <th>AP2</th>\n",
              "      <th>AP3</th>\n",
              "      <th>AP4</th>\n",
              "      <th>AP5</th>\n",
              "      <th>AP6</th>\n",
              "      <th>AP7</th>\n",
              "      <th>AP8</th>\n",
              "      <th>AP9</th>\n",
              "    </tr>\n",
              "  </thead>\n",
              "  <tbody>\n",
              "    <tr>\n",
              "      <th>count</th>\n",
              "      <td>10427.000000</td>\n",
              "      <td>10187.000000</td>\n",
              "      <td>9739.000000</td>\n",
              "      <td>10197.000000</td>\n",
              "      <td>9864.000000</td>\n",
              "      <td>10114.000000</td>\n",
              "      <td>10406.000000</td>\n",
              "      <td>9979.000000</td>\n",
              "      <td>10114.000000</td>\n",
              "    </tr>\n",
              "    <tr>\n",
              "      <th>mean</th>\n",
              "      <td>0.997510</td>\n",
              "      <td>0.998304</td>\n",
              "      <td>0.998336</td>\n",
              "      <td>0.996081</td>\n",
              "      <td>0.995027</td>\n",
              "      <td>0.997682</td>\n",
              "      <td>0.996491</td>\n",
              "      <td>0.998782</td>\n",
              "      <td>0.999820</td>\n",
              "    </tr>\n",
              "    <tr>\n",
              "      <th>std</th>\n",
              "      <td>0.449814</td>\n",
              "      <td>0.459462</td>\n",
              "      <td>0.463209</td>\n",
              "      <td>0.454875</td>\n",
              "      <td>0.437166</td>\n",
              "      <td>0.470313</td>\n",
              "      <td>0.448310</td>\n",
              "      <td>0.446857</td>\n",
              "      <td>0.467674</td>\n",
              "    </tr>\n",
              "    <tr>\n",
              "      <th>min</th>\n",
              "      <td>0.069119</td>\n",
              "      <td>0.061454</td>\n",
              "      <td>0.067492</td>\n",
              "      <td>0.037993</td>\n",
              "      <td>0.040626</td>\n",
              "      <td>0.033477</td>\n",
              "      <td>0.056833</td>\n",
              "      <td>0.065013</td>\n",
              "      <td>0.050425</td>\n",
              "    </tr>\n",
              "    <tr>\n",
              "      <th>25%</th>\n",
              "      <td>0.662758</td>\n",
              "      <td>0.654915</td>\n",
              "      <td>0.652676</td>\n",
              "      <td>0.660328</td>\n",
              "      <td>0.673223</td>\n",
              "      <td>0.644182</td>\n",
              "      <td>0.674126</td>\n",
              "      <td>0.672125</td>\n",
              "      <td>0.649157</td>\n",
              "    </tr>\n",
              "    <tr>\n",
              "      <th>50%</th>\n",
              "      <td>0.970434</td>\n",
              "      <td>0.958798</td>\n",
              "      <td>0.961344</td>\n",
              "      <td>0.968954</td>\n",
              "      <td>0.967069</td>\n",
              "      <td>0.957595</td>\n",
              "      <td>0.964727</td>\n",
              "      <td>0.973453</td>\n",
              "      <td>0.962681</td>\n",
              "    </tr>\n",
              "    <tr>\n",
              "      <th>75%</th>\n",
              "      <td>1.283099</td>\n",
              "      <td>1.290781</td>\n",
              "      <td>1.292789</td>\n",
              "      <td>1.290491</td>\n",
              "      <td>1.286997</td>\n",
              "      <td>1.308504</td>\n",
              "      <td>1.271807</td>\n",
              "      <td>1.275888</td>\n",
              "      <td>1.308142</td>\n",
              "    </tr>\n",
              "    <tr>\n",
              "      <th>max</th>\n",
              "      <td>3.322768</td>\n",
              "      <td>3.252745</td>\n",
              "      <td>3.247880</td>\n",
              "      <td>3.094283</td>\n",
              "      <td>2.929679</td>\n",
              "      <td>2.975124</td>\n",
              "      <td>3.157912</td>\n",
              "      <td>2.918233</td>\n",
              "      <td>3.041655</td>\n",
              "    </tr>\n",
              "  </tbody>\n",
              "</table>\n",
              "</div>\n",
              "      <button class=\"colab-df-convert\" onclick=\"convertToInteractive('df-783f9493-3645-4ae8-9ded-329e773cc79c')\"\n",
              "              title=\"Convert this dataframe to an interactive table.\"\n",
              "              style=\"display:none;\">\n",
              "        \n",
              "  <svg xmlns=\"http://www.w3.org/2000/svg\" height=\"24px\"viewBox=\"0 0 24 24\"\n",
              "       width=\"24px\">\n",
              "    <path d=\"M0 0h24v24H0V0z\" fill=\"none\"/>\n",
              "    <path d=\"M18.56 5.44l.94 2.06.94-2.06 2.06-.94-2.06-.94-.94-2.06-.94 2.06-2.06.94zm-11 1L8.5 8.5l.94-2.06 2.06-.94-2.06-.94L8.5 2.5l-.94 2.06-2.06.94zm10 10l.94 2.06.94-2.06 2.06-.94-2.06-.94-.94-2.06-.94 2.06-2.06.94z\"/><path d=\"M17.41 7.96l-1.37-1.37c-.4-.4-.92-.59-1.43-.59-.52 0-1.04.2-1.43.59L10.3 9.45l-7.72 7.72c-.78.78-.78 2.05 0 2.83L4 21.41c.39.39.9.59 1.41.59.51 0 1.02-.2 1.41-.59l7.78-7.78 2.81-2.81c.8-.78.8-2.07 0-2.86zM5.41 20L4 18.59l7.72-7.72 1.47 1.35L5.41 20z\"/>\n",
              "  </svg>\n",
              "      </button>\n",
              "      \n",
              "  <style>\n",
              "    .colab-df-container {\n",
              "      display:flex;\n",
              "      flex-wrap:wrap;\n",
              "      gap: 12px;\n",
              "    }\n",
              "\n",
              "    .colab-df-convert {\n",
              "      background-color: #E8F0FE;\n",
              "      border: none;\n",
              "      border-radius: 50%;\n",
              "      cursor: pointer;\n",
              "      display: none;\n",
              "      fill: #1967D2;\n",
              "      height: 32px;\n",
              "      padding: 0 0 0 0;\n",
              "      width: 32px;\n",
              "    }\n",
              "\n",
              "    .colab-df-convert:hover {\n",
              "      background-color: #E2EBFA;\n",
              "      box-shadow: 0px 1px 2px rgba(60, 64, 67, 0.3), 0px 1px 3px 1px rgba(60, 64, 67, 0.15);\n",
              "      fill: #174EA6;\n",
              "    }\n",
              "\n",
              "    [theme=dark] .colab-df-convert {\n",
              "      background-color: #3B4455;\n",
              "      fill: #D2E3FC;\n",
              "    }\n",
              "\n",
              "    [theme=dark] .colab-df-convert:hover {\n",
              "      background-color: #434B5C;\n",
              "      box-shadow: 0px 1px 3px 1px rgba(0, 0, 0, 0.15);\n",
              "      filter: drop-shadow(0px 1px 2px rgba(0, 0, 0, 0.3));\n",
              "      fill: #FFFFFF;\n",
              "    }\n",
              "  </style>\n",
              "\n",
              "      <script>\n",
              "        const buttonEl =\n",
              "          document.querySelector('#df-783f9493-3645-4ae8-9ded-329e773cc79c button.colab-df-convert');\n",
              "        buttonEl.style.display =\n",
              "          google.colab.kernel.accessAllowed ? 'block' : 'none';\n",
              "\n",
              "        async function convertToInteractive(key) {\n",
              "          const element = document.querySelector('#df-783f9493-3645-4ae8-9ded-329e773cc79c');\n",
              "          const dataTable =\n",
              "            await google.colab.kernel.invokeFunction('convertToInteractive',\n",
              "                                                     [key], {});\n",
              "          if (!dataTable) return;\n",
              "\n",
              "          const docLinkHtml = 'Like what you see? Visit the ' +\n",
              "            '<a target=\"_blank\" href=https://colab.research.google.com/notebooks/data_table.ipynb>data table notebook</a>'\n",
              "            + ' to learn more about interactive tables.';\n",
              "          element.innerHTML = '';\n",
              "          dataTable['output_type'] = 'display_data';\n",
              "          await google.colab.output.renderOutput(dataTable, element);\n",
              "          const docLink = document.createElement('div');\n",
              "          docLink.innerHTML = docLinkHtml;\n",
              "          element.appendChild(docLink);\n",
              "        }\n",
              "      </script>\n",
              "    </div>\n",
              "  </div>\n",
              "  "
            ]
          },
          "metadata": {}
        }
      ]
    },
    {
      "cell_type": "code",
      "source": [
        "np.power(10,pathAB_dB['AP1']/20)"
      ],
      "metadata": {
        "colab": {
          "base_uri": "https://localhost:8080/"
        },
        "id": "qV-nXecKxQ-m",
        "outputId": "33f1c95c-d406-4369-c358-09062ca8737e"
      },
      "execution_count": 3,
      "outputs": [
        {
          "output_type": "execute_result",
          "data": {
            "text/plain": [
              "0        1.000000\n",
              "1        0.997478\n",
              "2        1.009660\n",
              "3        1.006576\n",
              "4        0.994963\n",
              "           ...   \n",
              "10692    1.071257\n",
              "10693    1.104048\n",
              "10694    1.053684\n",
              "10695    1.022874\n",
              "10696    1.000000\n",
              "Name: AP1, Length: 10697, dtype: float64"
            ]
          },
          "metadata": {},
          "execution_count": 3
        }
      ]
    },
    {
      "cell_type": "code",
      "source": [
        "pathAB_linear['AP1']"
      ],
      "metadata": {
        "colab": {
          "base_uri": "https://localhost:8080/"
        },
        "id": "igCV8mH6347p",
        "outputId": "15597b60-549a-4508-b4bb-bf0ebbe0698b"
      },
      "execution_count": 23,
      "outputs": [
        {
          "output_type": "execute_result",
          "data": {
            "text/plain": [
              "0        1.000000\n",
              "1        0.997478\n",
              "2        1.009660\n",
              "3        1.006576\n",
              "4        0.994963\n",
              "           ...   \n",
              "10692    1.071257\n",
              "10693    1.104048\n",
              "10694    1.053684\n",
              "10695    1.022874\n",
              "10696    1.000000\n",
              "Name: AP1, Length: 10697, dtype: float64"
            ]
          },
          "metadata": {},
          "execution_count": 23
        }
      ]
    },
    {
      "cell_type": "code",
      "source": [
        "### PARAMETERS\n",
        "nMaxGen = 50\n",
        "nPopulation = 1000\n",
        "savePlots = True\n",
        "showPlots = False\n",
        "fitnessType = 'MSE'\n",
        "nExtractedSamples = 81"
      ],
      "metadata": {
        "id": "f6Fu61I-Pu8f"
      },
      "execution_count": 5,
      "outputs": []
    },
    {
      "cell_type": "code",
      "source": [
        "## Auxiliary Methods\n",
        "\n",
        "def getDensityEstimationSamples(linear_data, nExtractedSamples):\n",
        "  '''\n",
        "  Extracted KDE uniformly spaced samples from the data.\n",
        "  '''\n",
        "  Xdata = np.linspace(min(linear_data), max(linear_data), nExtractedSamples)\n",
        "\n",
        "  kde = KernelDensity(kernel='gaussian', bandwidth=0.05).fit(linear_data.values.reshape(-1, 1))\n",
        "  Vecpoints = np.linspace(linear_data.min(), linear_data.max(), 81).reshape(-1, 1)\n",
        "  logkde = kde.score_samples(Vecpoints)\n",
        "\n",
        "  plt.figure(figsize=(10,7))\n",
        "  plt.scatter(20*np.log10(Vecpoints), np.exp(logkde),c='magenta')\n",
        "  plt.ylabel('Density')\n",
        "  plt.xlabel('dBm')\n",
        "  plt.grid()\n",
        "  plt.show()\n",
        "  return Xdata, np.exp(logkde)\n",
        "\n",
        "def computePDF(r, kappa, mu, omega):\n",
        "  '''\n",
        "  kappa-mu pdf.\n",
        "  '''\n",
        "\n",
        "  A = (2*mu * ((1 + kappa)**((mu+1)/2))) \\\n",
        "          /(np.sqrt(omega) * (kappa**((mu-1)/2)) * np.exp(mu * kappa))\n",
        "          # /((kappa**((mu - 1)/2)) * np.exp(mu * kappa))\n",
        "  # R = r / r_hat\n",
        "  B = (r / np.sqrt(omega))**(mu)\n",
        "  # B = (R**mu) * np.exp(- mu*(1 + kappa)*(R**2))\n",
        "  C = np.exp(-mu*(1+kappa) * (r/np.sqrt(omega))**2)\n",
        "  # C = sp.iv(mu - 1, 2*mu * R * np.sqrt(kappa*(1 + kappa)))\n",
        "  D = sp.iv(mu-1, 2*mu * np.sqrt(kappa * (1+kappa)) * (r/np.sqrt(omega)))\n",
        "\n",
        "  pdf = A * B * C * D\n",
        "  return pdf\n",
        "\n",
        "def kldiv(pVec1, pVec2):\n",
        "  '''\n",
        "  Kullback-Leibler divergence.\n",
        "  '''\n",
        "  KL = np.sum(pVec1*(np.log2(pVec1)-np.log2(pVec2)))\n",
        "  return KL\n",
        "\n",
        "def RAD(kldiv1, kldiv2):\n",
        "  '''\n",
        "  Resistor-Average Distance.\n",
        "  '''\n",
        "  RAD = 1/(1/kldiv1+1/kldiv2)\n",
        "  return RAD\n",
        "\n",
        "def fitness(fitnessType, kappa, mu, omega):\n",
        "  '''\n",
        "  Fitness function (MSE/RAD) to determine how good a given solution is.\n",
        "  '''\n",
        "  global X\n",
        "  global Y\n",
        "\n",
        "  if fitnessType == 'MSE':\n",
        "    y_pred = computePDF(X, kappa, mu, omega)\n",
        "    n = len(Y)\n",
        "    cost = 1/n * sum(val**2 for val in (Y-y_pred))\n",
        "    return 1/cost\n",
        "  elif fitnessType == 'RAD':\n",
        "    pVec1 = Y/np.sum(Y)\n",
        "    pVec2 = computePDF(X, kappa, mu, omega)/np.sum(computePDF(X, kappa, mu, omega))\n",
        "    KLD_1 = kldiv(X, pVec1, pVec2)\n",
        "    KLD_2 = kldiv(X, pVec2, pVec1)\n",
        "    cost = RAD(KLD_1, KLD_2)\n",
        "    return 1/cost\n",
        "\n",
        "def geneticAlgorithm(X, Y):\n",
        "  '''\n",
        "  Evolutionary Loop\n",
        "  '''\n",
        "  solutions = []\n",
        "  bestParams = []\n",
        "  bestCriteria = 0\n",
        "  bestGen = 0\n",
        "\n",
        "\n",
        "  # Generate solutions (chromossomes)\n",
        "  for s in range(nPopulation):\n",
        "    solutions.append((random.uniform(0.1, 100), # kappa\n",
        "                        random.uniform(0.1, 1.0), # mu\n",
        "                        random.uniform(0.1, 2))) # r_hat^2\n",
        "\n",
        "  # Evolutionary Loop\n",
        "  for i in range(nMaxGen):\n",
        "    rankedSolutions = []\t\n",
        "    for s in solutions:\n",
        "      rankedSolutions.append( (fitness(fitnessType, s[0],s[1],s[2]), s) )\n",
        "    rankedSolutions.sort()\n",
        "    rankedSolutions.reverse()\n",
        "    \n",
        "    print(f'=== Generation: {i} === ')\n",
        "    print(f'Fitness: {rankedSolutions[0][0]}')\n",
        "    print('Best individual:')\n",
        "    print(f'Kappa: {rankedSolutions[0][1][0]}')\n",
        "    print(f'Mu: {rankedSolutions[0][1][1]}')\n",
        "    print(f'Omega: {rankedSolutions[0][1][2]}\\n')\n",
        "\n",
        "    plt.figure(figsize=((10,7)))\n",
        "    plt.plot(20*np.log10(X), computePDF(X, rankedSolutions[0][1][0], rankedSolutions[0][1][1], rankedSolutions[0][1][2]), label='Predicted')\n",
        "    plt.scatter(20*np.log10(X), Y, color='m', label='Real')\n",
        "    plt.plot(20*np.log10(X), computePDF(X, 60.0747320167390, 0.100000000000035, 1.09085912951657), label='Nidhi\\'s MLE')\n",
        "    plt.title(f'=== Generation: {i} === ')\n",
        "    plt.legend()\n",
        "    plt.grid(True)\n",
        "    plt.xlabel(r'$\\rho=r/\\hat{r}$')\n",
        "    plt.ylabel('pdf')\n",
        "    if savePlots: \n",
        "      plt.savefig(f'plots/gen/gen_{i}.png')\n",
        "    \n",
        "    if showPlots:\n",
        "      plt.show()\n",
        "      plt.clf()\n",
        "    else: \n",
        "      plt.clf()\n",
        "\n",
        "    # Keeping track the best params and generation:\n",
        "    if rankedSolutions[0][0] > bestCriteria:\n",
        "      bestCriteria = rankedSolutions[0][0]\n",
        "      bestGen = i\n",
        "      bestParams = rankedSolutions[0][1]\n",
        "\n",
        "    # Stop Criterion: Fitness > 150 (TRIAL AND ERROR)\n",
        "    # if rankedSolutions[0][0] > 152.8:\n",
        "    #   print('='*10+'\\n'+'Stopped by fitness criteria!\\n'+'='*10+'\\n')\n",
        "    #   # print('='*10)\n",
        "    #   # print('Stopped by fitness criteria!')\n",
        "    #   # print('='*10)\n",
        "    #   print('Best Fitness: {}\\nBest Gen: {}'.format(bestCriteria, bestGen))\n",
        "    #   print('Kappa: {}\\nMu: {}\\nOmega: {}'.format(bestParams[0],bestParams[1],bestParams[2]))\n",
        "    #   break\n",
        "\n",
        "    # Combine the best solutions and make a new solution of those combined solutions\n",
        "    bestSolutions = rankedSolutions[:100]\n",
        "    elements_kappa = []\n",
        "    elements_mu = []\n",
        "    elements_omega = [] \n",
        "    for s in bestSolutions:\n",
        "      elements_kappa.append(s[1][0])\n",
        "      elements_mu.append(s[1][1])\n",
        "      elements_omega.append(s[1][2])\n",
        "\n",
        "    newGen = []\n",
        "    for _ in range(nPopulation):\n",
        "      e1 = random.choice(elements_kappa) * random.uniform(0.975,1.025) # Mutation of 5%\n",
        "      e2 = random.choice(elements_mu) * random.uniform(0.975,1.025) # Mutation of 5%\n",
        "      e3 = random.choice(elements_omega) * random.uniform(0.975,1.025) # Mutation of 5%\n",
        "      newGen.append((e1,e2,e3))\n",
        "\n",
        "    solutions = newGen\n",
        "    \n",
        "    if i == nMaxGen-1:\n",
        "      print('='*10+'\\n'+'Max number of generations exceeded!\\n'+'='*10+'\\n')\n",
        "      # print()\n",
        "      # print('='*10)\n",
        "      print('Best Fitness: {}\\nBest Gen: {}'.format(bestCriteria, bestGen))\n",
        "      print('Kappa: {}\\nMu: {}\\nOmega: {}'.format(bestParams[0],bestParams[1],bestParams[2]))\n",
        "\n",
        "      return bestParams[0],bestParams[1],bestParams[2]"
      ],
      "metadata": {
        "id": "DnClOqg45tHI"
      },
      "execution_count": 6,
      "outputs": []
    },
    {
      "cell_type": "code",
      "source": [
        "X, Y = getDensityEstimationSamples(pathAB_linear['AP2'].dropna(), nExtractedSamples)"
      ],
      "metadata": {
        "colab": {
          "base_uri": "https://localhost:8080/",
          "height": 442
        },
        "id": "TqhZvKZsP5cF",
        "outputId": "01dc9f6a-5632-4b7b-f4cc-cb047db50c0b"
      },
      "execution_count": 29,
      "outputs": [
        {
          "output_type": "display_data",
          "data": {
            "text/plain": [
              "<Figure size 720x504 with 1 Axes>"
            ],
            "image/png": "[encoded data removed]"
          },
          "metadata": {
            "needs_background": "light"
          }
        }
      ]
    },
    {
      "cell_type": "code",
      "source": [
        "plt.figure(figsize=(10,7))\n",
        "plt.plot(20*np.log10(X),computePDF(X, 60.0747320167390, 0.100000000000035, 1.09085912951657),'r') # Nidhi's MLE result\n",
        "plt.title('Comparison - Nidhi\\'s AP1 result')\n",
        "plt.scatter(20*np.log10(X),Y) # True samples\n",
        "plt.grid()\n",
        "plt.xlabel('dBm')\n",
        "plt.ylabel('Density')\n",
        "plt.show()"
      ],
      "metadata": {
        "colab": {
          "base_uri": "https://localhost:8080/",
          "height": 458
        },
        "id": "AHa-3cuSIou4",
        "outputId": "e3c135af-62d6-419f-deab-c00eca4bf463"
      },
      "execution_count": 8,
      "outputs": [
        {
          "output_type": "display_data",
          "data": {
            "text/plain": [
              "<Figure size 720x504 with 1 Axes>"
            ],
            "image/png": "[encoded data removed]"
          },
          "metadata": {
            "needs_background": "light"
          }
        }
      ]
    },
    {
      "cell_type": "markdown",
      "source": [
        "## AP 1 - Fitness: MSE"
      ],
      "metadata": {
        "id": "HfU73OFiWMry"
      }
    },
    {
      "cell_type": "code",
      "source": [
        "kappa_hat, mu_hat, omega_hat = geneticAlgorithm(X,Y)"
      ],
      "metadata": {
        "colab": {
          "base_uri": "https://localhost:8080/",
          "height": 1000
        },
        "id": "I2gmkuWJIprN",
        "outputId": "18228afe-0982-4459-b149-3ef935915ccd"
      },
      "execution_count": 9,
      "outputs": [
        {
          "output_type": "stream",
          "name": "stderr",
          "text": [
            "/usr/local/lib/python3.7/dist-packages/ipykernel_launcher.py:35: RuntimeWarning: invalid value encountered in multiply\n"
          ]
        },
        {
          "output_type": "stream",
          "name": "stdout",
          "text": [
            "=== Generation: 0 === \n",
            "Fitness: nan\n",
            "Best individual:\n",
            "Kappa: 81.25095438613884\n",
            "Mu: 0.7947419501729014\n",
            "Omega: 0.14151807365466568\n",
            "\n"
          ]
        },
        {
          "output_type": "stream",
          "name": "stderr",
          "text": [
            "/usr/local/lib/python3.7/dist-packages/ipykernel_launcher.py:35: RuntimeWarning: invalid value encountered in multiply\n"
          ]
        },
        {
          "output_type": "stream",
          "name": "stdout",
          "text": [
            "=== Generation: 1 === \n",
            "Fitness: 144.1770967501388\n",
            "Best individual:\n",
            "Kappa: 6.216588341064619\n",
            "Mu: 0.8216606669418786\n",
            "Omega: 1.1113168698526583\n",
            "\n",
            "=== Generation: 2 === \n",
            "Fitness: 147.58327137782223\n",
            "Best individual:\n",
            "Kappa: 21.212027942932963\n",
            "Mu: 0.28542606250642105\n",
            "Omega: 1.1040345066794064\n",
            "\n",
            "=== Generation: 3 === \n",
            "Fitness: 150.4757963227265\n",
            "Best individual:\n",
            "Kappa: 14.200110547983359\n",
            "Mu: 0.3828859843832539\n",
            "Omega: 1.0930424390270799\n",
            "\n",
            "=== Generation: 4 === \n",
            "Fitness: 150.9517940188886\n",
            "Best individual:\n",
            "Kappa: 19.601055334560737\n",
            "Mu: 0.28479440743341156\n",
            "Omega: 1.0860866761393468\n",
            "\n",
            "=== Generation: 5 === \n",
            "Fitness: 151.39425202712772\n",
            "Best individual:\n",
            "Kappa: 16.959700013423713\n",
            "Mu: 0.3283269026674345\n",
            "Omega: 1.0905337508539228\n",
            "\n",
            "=== Generation: 6 === \n",
            "Fitness: 151.31275447162966\n",
            "Best individual:\n",
            "Kappa: 16.69006720012746\n",
            "Mu: 0.34038688467927336\n",
            "Omega: 1.0996956171039154\n",
            "\n",
            "=== Generation: 7 === \n",
            "Fitness: 149.70788401623923\n",
            "Best individual:\n",
            "Kappa: 10.215743196522933\n",
            "Mu: 0.5295330243187293\n",
            "Omega: 1.0994490670907002\n",
            "\n",
            "=== Generation: 8 === \n",
            "Fitness: 148.25833890240511\n",
            "Best individual:\n",
            "Kappa: 7.613681218427953\n",
            "Mu: 0.6736857843801473\n",
            "Omega: 1.0965339302048742\n",
            "\n",
            "=== Generation: 9 === \n",
            "Fitness: 148.27531639066396\n",
            "Best individual:\n",
            "Kappa: 7.699402274281748\n",
            "Mu: 0.6662301456175103\n",
            "Omega: 1.0951069688208952\n",
            "\n",
            "=== Generation: 10 === \n",
            "Fitness: 148.21989210311605\n",
            "Best individual:\n",
            "Kappa: 7.676476264776584\n",
            "Mu: 0.6726769528675153\n",
            "Omega: 1.100522017236587\n",
            "\n",
            "=== Generation: 11 === \n",
            "Fitness: 148.3615222875419\n",
            "Best individual:\n",
            "Kappa: 7.733380339104361\n",
            "Mu: 0.6639434566355951\n",
            "Omega: 1.096882324524298\n",
            "\n",
            "=== Generation: 12 === \n",
            "Fitness: 148.34734336603046\n",
            "Best individual:\n",
            "Kappa: 7.7096860455567535\n",
            "Mu: 0.6667532569558978\n",
            "Omega: 1.0968100715354143\n",
            "\n",
            "=== Generation: 13 === \n",
            "Fitness: 148.39438752475468\n",
            "Best individual:\n",
            "Kappa: 7.81536717989561\n",
            "Mu: 0.6594047406729886\n",
            "Omega: 1.0995822110040465\n",
            "\n",
            "=== Generation: 14 === \n",
            "Fitness: 148.41619175302847\n",
            "Best individual:\n",
            "Kappa: 7.932439910601297\n",
            "Mu: 0.657577706830766\n",
            "Omega: 1.096992789622507\n",
            "\n",
            "=== Generation: 15 === \n",
            "Fitness: 148.64911204536898\n",
            "Best individual:\n",
            "Kappa: 8.117333050852338\n",
            "Mu: 0.6375111110319289\n",
            "Omega: 1.095711655459808\n",
            "\n",
            "=== Generation: 16 === \n",
            "Fitness: 148.43386533724993\n",
            "Best individual:\n",
            "Kappa: 7.829426904546613\n",
            "Mu: 0.6612001682411135\n",
            "Omega: 1.097904210896507\n",
            "\n",
            "=== Generation: 17 === \n",
            "Fitness: 148.51044943472232\n",
            "Best individual:\n",
            "Kappa: 7.90975238640902\n",
            "Mu: 0.6526297962783199\n",
            "Omega: 1.0965789854791677\n",
            "\n",
            "=== Generation: 18 === \n",
            "Fitness: 148.53267804274273\n",
            "Best individual:\n",
            "Kappa: 7.932058270093523\n",
            "Mu: 0.6525552644571426\n",
            "Omega: 1.0976423456809403\n",
            "\n",
            "=== Generation: 19 === \n",
            "Fitness: 148.5456927566088\n",
            "Best individual:\n",
            "Kappa: 7.95998148670475\n",
            "Mu: 0.6478603684405674\n",
            "Omega: 1.0974563246923754\n",
            "\n",
            "=== Generation: 20 === \n",
            "Fitness: 148.58639776503765\n",
            "Best individual:\n",
            "Kappa: 7.997006987887139\n",
            "Mu: 0.6468926521839292\n",
            "Omega: 1.0971870539752502\n",
            "\n",
            "=== Generation: 21 === \n",
            "Fitness: 148.5561951212704\n",
            "Best individual:\n",
            "Kappa: 7.965846355082007\n",
            "Mu: 0.6498675651030297\n",
            "Omega: 1.0966612833706375\n",
            "\n",
            "=== Generation: 22 === \n",
            "Fitness: 148.55089029060107\n",
            "Best individual:\n",
            "Kappa: 8.136130771843531\n",
            "Mu: 0.6433447307026443\n",
            "Omega: 1.0995107884905022\n",
            "\n",
            "=== Generation: 23 === \n",
            "Fitness: 148.69332032185415\n",
            "Best individual:\n",
            "Kappa: 8.257053761065894\n",
            "Mu: 0.6329364586434739\n",
            "Omega: 1.094870916248962\n",
            "\n",
            "=== Generation: 24 === \n",
            "Fitness: 148.5039688615166\n",
            "Best individual:\n",
            "Kappa: 8.03439873624532\n",
            "Mu: 0.6433372533636258\n",
            "Omega: 1.0940430023986814\n",
            "\n",
            "=== Generation: 25 === \n",
            "Fitness: 148.62199764602678\n",
            "Best individual:\n",
            "Kappa: 8.067215958158217\n",
            "Mu: 0.6448717075987995\n",
            "Omega: 1.0975252761382135\n",
            "\n",
            "=== Generation: 26 === \n",
            "Fitness: 148.70242364065143\n",
            "Best individual:\n",
            "Kappa: 8.162616937951864\n",
            "Mu: 0.6347698609130631\n",
            "Omega: 1.097737929368218\n",
            "\n",
            "=== Generation: 27 === \n",
            "Fitness: 148.63677122964006\n",
            "Best individual:\n",
            "Kappa: 8.10970866492121\n",
            "Mu: 0.6426572774236796\n",
            "Omega: 1.0966073442117419\n",
            "\n",
            "=== Generation: 28 === \n",
            "Fitness: 148.76125616500576\n",
            "Best individual:\n",
            "Kappa: 8.273821730427915\n",
            "Mu: 0.6320654879433345\n",
            "Omega: 1.0974910354476106\n",
            "\n",
            "=== Generation: 29 === \n",
            "Fitness: 148.8139790852618\n",
            "Best individual:\n",
            "Kappa: 8.316093901354025\n",
            "Mu: 0.6254241267990243\n",
            "Omega: 1.0979641496455783\n",
            "\n",
            "=== Generation: 30 === \n",
            "Fitness: 148.7645998986555\n",
            "Best individual:\n",
            "Kappa: 8.258795972664034\n",
            "Mu: 0.6315222427717401\n",
            "Omega: 1.096164047445234\n",
            "\n",
            "=== Generation: 31 === \n",
            "Fitness: 148.81589679244513\n",
            "Best individual:\n",
            "Kappa: 8.352303593490625\n",
            "Mu: 0.6218729280664399\n",
            "Omega: 1.0982971694759205\n",
            "\n",
            "=== Generation: 32 === \n",
            "Fitness: 148.88467619247248\n",
            "Best individual:\n",
            "Kappa: 8.416360541387283\n",
            "Mu: 0.6190430491799325\n",
            "Omega: 1.0959544537821495\n",
            "\n",
            "=== Generation: 33 === \n",
            "Fitness: 148.85282639453442\n",
            "Best individual:\n",
            "Kappa: 8.480735765308077\n",
            "Mu: 0.6136607757202436\n",
            "Omega: 1.0993668876010647\n",
            "\n",
            "=== Generation: 34 === \n",
            "Fitness: 148.8467265836635\n",
            "Best individual:\n",
            "Kappa: 8.394345074636002\n",
            "Mu: 0.6220703685179008\n",
            "Omega: 1.0952577220979756\n",
            "\n",
            "=== Generation: 35 === \n",
            "Fitness: 148.87902189945996\n",
            "Best individual:\n",
            "Kappa: 8.426494498718403\n",
            "Mu: 0.6172208428520813\n",
            "Omega: 1.0958949605099177\n",
            "\n",
            "=== Generation: 36 === \n",
            "Fitness: 148.86899764047217\n",
            "Best individual:\n",
            "Kappa: 8.419937833662688\n",
            "Mu: 0.6207640120842607\n",
            "Omega: 1.0986346481545444\n",
            "\n",
            "=== Generation: 37 === \n",
            "Fitness: 148.98852448187796\n",
            "Best individual:\n",
            "Kappa: 8.692815319935857\n",
            "Mu: 0.6053682511937294\n",
            "Omega: 1.0996209538602668\n",
            "\n",
            "=== Generation: 38 === \n",
            "Fitness: 148.95168419916345\n",
            "Best individual:\n",
            "Kappa: 8.587598095062587\n",
            "Mu: 0.6122764156259427\n",
            "Omega: 1.0988019884816738\n",
            "\n",
            "=== Generation: 39 === \n",
            "Fitness: 148.8559950679815\n",
            "Best individual:\n",
            "Kappa: 8.377461781868945\n",
            "Mu: 0.6239881749065626\n",
            "Omega: 1.0977743987605155\n",
            "\n",
            "=== Generation: 40 === \n",
            "Fitness: 148.8618088373037\n",
            "Best individual:\n",
            "Kappa: 8.58640906165896\n",
            "Mu: 0.6120566988547109\n",
            "Omega: 1.1004852178688564\n",
            "\n",
            "=== Generation: 41 === \n",
            "Fitness: 149.0132811870157\n",
            "Best individual:\n",
            "Kappa: 8.598410023793651\n",
            "Mu: 0.6100392468142831\n",
            "Omega: 1.0975045188499457\n",
            "\n",
            "=== Generation: 42 === \n",
            "Fitness: 148.9257298436009\n",
            "Best individual:\n",
            "Kappa: 8.48343575910721\n",
            "Mu: 0.6175043535392299\n",
            "Omega: 1.096149805624511\n",
            "\n",
            "=== Generation: 43 === \n",
            "Fitness: 149.08121852399094\n",
            "Best individual:\n",
            "Kappa: 8.746867570358182\n",
            "Mu: 0.600365014174517\n",
            "Omega: 1.0986637582433842\n",
            "\n",
            "=== Generation: 44 === \n",
            "Fitness: 148.99837364154556\n",
            "Best individual:\n",
            "Kappa: 8.61798341273584\n",
            "Mu: 0.6048374205166297\n",
            "Omega: 1.097489801857213\n",
            "\n",
            "=== Generation: 45 === \n",
            "Fitness: 149.0215983316687\n",
            "Best individual:\n",
            "Kappa: 8.679421981808515\n",
            "Mu: 0.60586767924914\n",
            "Omega: 1.0988640295236218\n",
            "\n",
            "=== Generation: 46 === \n",
            "Fitness: 149.07554053951105\n",
            "Best individual:\n",
            "Kappa: 8.776559321560239\n",
            "Mu: 0.5992728088078072\n",
            "Omega: 1.0991534993076537\n",
            "\n",
            "=== Generation: 47 === \n",
            "Fitness: 149.08974671055017\n",
            "Best individual:\n",
            "Kappa: 8.754725741258033\n",
            "Mu: 0.5965435602755944\n",
            "Omega: 1.0963625044687413\n",
            "\n",
            "=== Generation: 48 === \n",
            "Fitness: 149.13233381036858\n",
            "Best individual:\n",
            "Kappa: 8.97786231662065\n",
            "Mu: 0.5896750617584867\n",
            "Omega: 1.0998276041941373\n",
            "\n",
            "=== Generation: 49 === \n",
            "Fitness: 149.18182597189067\n",
            "Best individual:\n",
            "Kappa: 8.859434589448005\n",
            "Mu: 0.5940555350391048\n",
            "Omega: 1.0956968591294756\n",
            "\n",
            "==========\n",
            "Max number of generations exceeded!\n",
            "==========\n",
            "\n",
            "Best Fitness: 151.39425202712772\n",
            "Best Gen: 5\n",
            "Kappa: 16.959700013423713\n",
            "Mu: 0.3283269026674345\n",
            "Omega: 1.0905337508539228\n"
          ]
        },
        {
          "output_type": "display_data",
          "data": {
            "text/plain": [
              "<Figure size 720x504 with 0 Axes>"
            ]
          },
          "metadata": {}
        },
        {
          "output_type": "display_data",
          "data": {
            "text/plain": [
              "<Figure size 720x504 with 0 Axes>"
            ]
          },
          "metadata": {}
        },
        {
          "output_type": "display_data",
          "data": {
            "text/plain": [
              "<Figure size 720x504 with 0 Axes>"
            ]
          },
          "metadata": {}
        },
        {
          "output_type": "display_data",
          "data": {
            "text/plain": [
              "<Figure size 720x504 with 0 Axes>"
            ]
          },
          "metadata": {}
        },
        {
          "output_type": "display_data",
          "data": {
            "text/plain": [
              "<Figure size 720x504 with 0 Axes>"
            ]
          },
          "metadata": {}
        },
        {
          "output_type": "display_data",
          "data": {
            "text/plain": [
              "<Figure size 720x504 with 0 Axes>"
            ]
          },
          "metadata": {}
        },
        {
          "output_type": "display_data",
          "data": {
            "text/plain": [
              "<Figure size 720x504 with 0 Axes>"
            ]
          },
          "metadata": {}
        },
        {
          "output_type": "display_data",
          "data": {
            "text/plain": [
              "<Figure size 720x504 with 0 Axes>"
            ]
          },
          "metadata": {}
        },
        {
          "output_type": "display_data",
          "data": {
            "text/plain": [
              "<Figure size 720x504 with 0 Axes>"
            ]
          },
          "metadata": {}
        },
        {
          "output_type": "display_data",
          "data": {
            "text/plain": [
              "<Figure size 720x504 with 0 Axes>"
            ]
          },
          "metadata": {}
        },
        {
          "output_type": "display_data",
          "data": {
            "text/plain": [
              "<Figure size 720x504 with 0 Axes>"
            ]
          },
          "metadata": {}
        },
        {
          "output_type": "display_data",
          "data": {
            "text/plain": [
              "<Figure size 720x504 with 0 Axes>"
            ]
          },
          "metadata": {}
        },
        {
          "output_type": "display_data",
          "data": {
            "text/plain": [
              "<Figure size 720x504 with 0 Axes>"
            ]
          },
          "metadata": {}
        },
        {
          "output_type": "display_data",
          "data": {
            "text/plain": [
              "<Figure size 720x504 with 0 Axes>"
            ]
          },
          "metadata": {}
        },
        {
          "output_type": "display_data",
          "data": {
            "text/plain": [
              "<Figure size 720x504 with 0 Axes>"
            ]
          },
          "metadata": {}
        },
        {
          "output_type": "display_data",
          "data": {
            "text/plain": [
              "<Figure size 720x504 with 0 Axes>"
            ]
          },
          "metadata": {}
        },
        {
          "output_type": "display_data",
          "data": {
            "text/plain": [
              "<Figure size 720x504 with 0 Axes>"
            ]
          },
          "metadata": {}
        },
        {
          "output_type": "display_data",
          "data": {
            "text/plain": [
              "<Figure size 720x504 with 0 Axes>"
            ]
          },
          "metadata": {}
        },
        {
          "output_type": "display_data",
          "data": {
            "text/plain": [
              "<Figure size 720x504 with 0 Axes>"
            ]
          },
          "metadata": {}
        },
        {
          "output_type": "display_data",
          "data": {
            "text/plain": [
              "<Figure size 720x504 with 0 Axes>"
            ]
          },
          "metadata": {}
        },
        {
          "output_type": "display_data",
          "data": {
            "text/plain": [
              "<Figure size 720x504 with 0 Axes>"
            ]
          },
          "metadata": {}
        },
        {
          "output_type": "display_data",
          "data": {
            "text/plain": [
              "<Figure size 720x504 with 0 Axes>"
            ]
          },
          "metadata": {}
        },
        {
          "output_type": "display_data",
          "data": {
            "text/plain": [
              "<Figure size 720x504 with 0 Axes>"
            ]
          },
          "metadata": {}
        },
        {
          "output_type": "display_data",
          "data": {
            "text/plain": [
              "<Figure size 720x504 with 0 Axes>"
            ]
          },
          "metadata": {}
        },
        {
          "output_type": "display_data",
          "data": {
            "text/plain": [
              "<Figure size 720x504 with 0 Axes>"
            ]
          },
          "metadata": {}
        },
        {
          "output_type": "display_data",
          "data": {
            "text/plain": [
              "<Figure size 720x504 with 0 Axes>"
            ]
          },
          "metadata": {}
        },
        {
          "output_type": "display_data",
          "data": {
            "text/plain": [
              "<Figure size 720x504 with 0 Axes>"
            ]
          },
          "metadata": {}
        },
        {
          "output_type": "display_data",
          "data": {
            "text/plain": [
              "<Figure size 720x504 with 0 Axes>"
            ]
          },
          "metadata": {}
        },
        {
          "output_type": "display_data",
          "data": {
            "text/plain": [
              "<Figure size 720x504 with 0 Axes>"
            ]
          },
          "metadata": {}
        },
        {
          "output_type": "display_data",
          "data": {
            "text/plain": [
              "<Figure size 720x504 with 0 Axes>"
            ]
          },
          "metadata": {}
        },
        {
          "output_type": "display_data",
          "data": {
            "text/plain": [
              "<Figure size 720x504 with 0 Axes>"
            ]
          },
          "metadata": {}
        },
        {
          "output_type": "display_data",
          "data": {
            "text/plain": [
              "<Figure size 720x504 with 0 Axes>"
            ]
          },
          "metadata": {}
        },
        {
          "output_type": "display_data",
          "data": {
            "text/plain": [
              "<Figure size 720x504 with 0 Axes>"
            ]
          },
          "metadata": {}
        },
        {
          "output_type": "display_data",
          "data": {
            "text/plain": [
              "<Figure size 720x504 with 0 Axes>"
            ]
          },
          "metadata": {}
        },
        {
          "output_type": "display_data",
          "data": {
            "text/plain": [
              "<Figure size 720x504 with 0 Axes>"
            ]
          },
          "metadata": {}
        },
        {
          "output_type": "display_data",
          "data": {
            "text/plain": [
              "<Figure size 720x504 with 0 Axes>"
            ]
          },
          "metadata": {}
        },
        {
          "output_type": "display_data",
          "data": {
            "text/plain": [
              "<Figure size 720x504 with 0 Axes>"
            ]
          },
          "metadata": {}
        },
        {
          "output_type": "display_data",
          "data": {
            "text/plain": [
              "<Figure size 720x504 with 0 Axes>"
            ]
          },
          "metadata": {}
        },
        {
          "output_type": "display_data",
          "data": {
            "text/plain": [
              "<Figure size 720x504 with 0 Axes>"
            ]
          },
          "metadata": {}
        },
        {
          "output_type": "display_data",
          "data": {
            "text/plain": [
              "<Figure size 720x504 with 0 Axes>"
            ]
          },
          "metadata": {}
        },
        {
          "output_type": "display_data",
          "data": {
            "text/plain": [
              "<Figure size 720x504 with 0 Axes>"
            ]
          },
          "metadata": {}
        },
        {
          "output_type": "display_data",
          "data": {
            "text/plain": [
              "<Figure size 720x504 with 0 Axes>"
            ]
          },
          "metadata": {}
        },
        {
          "output_type": "display_data",
          "data": {
            "text/plain": [
              "<Figure size 720x504 with 0 Axes>"
            ]
          },
          "metadata": {}
        },
        {
          "output_type": "display_data",
          "data": {
            "text/plain": [
              "<Figure size 720x504 with 0 Axes>"
            ]
          },
          "metadata": {}
        },
        {
          "output_type": "display_data",
          "data": {
            "text/plain": [
              "<Figure size 720x504 with 0 Axes>"
            ]
          },
          "metadata": {}
        },
        {
          "output_type": "display_data",
          "data": {
            "text/plain": [
              "<Figure size 720x504 with 0 Axes>"
            ]
          },
          "metadata": {}
        },
        {
          "output_type": "display_data",
          "data": {
            "text/plain": [
              "<Figure size 720x504 with 0 Axes>"
            ]
          },
          "metadata": {}
        },
        {
          "output_type": "display_data",
          "data": {
            "text/plain": [
              "<Figure size 720x504 with 0 Axes>"
            ]
          },
          "metadata": {}
        },
        {
          "output_type": "display_data",
          "data": {
            "text/plain": [
              "<Figure size 720x504 with 0 Axes>"
            ]
          },
          "metadata": {}
        },
        {
          "output_type": "display_data",
          "data": {
            "text/plain": [
              "<Figure size 720x504 with 0 Axes>"
            ]
          },
          "metadata": {}
        }
      ]
    },
    {
      "cell_type": "code",
      "source": [
        "pVec1 = Y/np.sum(Y)\n",
        "pVec2 = computePDF(X, kappa_hat, mu_hat, omega_hat)/np.sum(computePDF(X, kappa_hat, mu_hat, omega_hat))\n",
        "\n",
        "\n",
        "KLD_1 = kldiv(X, pVec1, pVec2)\n",
        "KLD_2 = kldiv(X, pVec2, pVec1)\n",
        "\n",
        "print('Genetic Algorithm - Resistor-Average Distance:',RAD(KLD_1, KLD_2))"
      ],
      "metadata": {
        "colab": {
          "base_uri": "https://localhost:8080/"
        },
        "id": "Kn2dNRBfLkCg",
        "outputId": "42f7a456-58cb-434b-b9e4-a49d06334d36"
      },
      "execution_count": 10,
      "outputs": [
        {
          "output_type": "stream",
          "name": "stdout",
          "text": [
            "Genetic Algorithm - Resistor-Average Distance: 0.02233357416231218\n"
          ]
        }
      ]
    },
    {
      "cell_type": "code",
      "source": [
        "pVec1 = Y/np.sum(Y)\n",
        "pVec2 = computePDF(X, 60.0747320167390, 0.100000000000035, 1.09085912951657)/np.sum(computePDF(X, 60.0747320167390, 0.100000000000035, 1.09085912951657))\n",
        "\n",
        "\n",
        "KLD_1 = kldiv(X, pVec1, pVec2)\n",
        "KLD_2 = kldiv(X, pVec2, pVec1)\n",
        "\n",
        "print('MLE - Resistor-Average Distance:',RAD(KLD_1, KLD_2))"
      ],
      "metadata": {
        "colab": {
          "base_uri": "https://localhost:8080/"
        },
        "id": "abyLBSEYNFXm",
        "outputId": "9ba24c7d-ea74-4e76-88f7-4b457327ef7b"
      },
      "execution_count": 11,
      "outputs": [
        {
          "output_type": "stream",
          "name": "stdout",
          "text": [
            "MLE - Resistor-Average Distance: 0.023563305647376357\n"
          ]
        }
      ]
    },
    {
      "cell_type": "code",
      "source": [
        "kappa_hat, mu_hat, omega_hat"
      ],
      "metadata": {
        "colab": {
          "base_uri": "https://localhost:8080/"
        },
        "id": "scQfWnJLNGT1",
        "outputId": "b7569f3c-2dc2-4f1e-a720-fe0cec062dc3"
      },
      "execution_count": 12,
      "outputs": [
        {
          "output_type": "execute_result",
          "data": {
            "text/plain": [
              "(16.959700013423713, 0.3283269026674345, 1.0905337508539228)"
            ]
          },
          "metadata": {},
          "execution_count": 12
        }
      ]
    },
    {
      "cell_type": "code",
      "source": [
        "plt.figure(figsize=((10,7)))\n",
        "plt.plot(20*np.log10(X), computePDF(X, kappa_hat, mu_hat, omega_hat), label='Predicted')\n",
        "plt.scatter(20*np.log10(X), Y, color='m', label='Real')\n",
        "plt.plot(20*np.log10(X), computePDF(X, 60.0747320167390, 0.100000000000035, 1.09085912951657), label='Nidhi\\'s MLE')\n",
        "plt.title(f'Best GA Fit')\n",
        "plt.legend()\n",
        "plt.grid(True)\n",
        "plt.xlabel(r'$dB$')\n",
        "plt.ylabel('pdf')\n",
        "plt.show()"
      ],
      "metadata": {
        "colab": {
          "base_uri": "https://localhost:8080/",
          "height": 460
        },
        "id": "jCqqv-RtNO7V",
        "outputId": "6888b284-7901-4243-c6c1-f05dd197be1c"
      },
      "execution_count": 13,
      "outputs": [
        {
          "output_type": "display_data",
          "data": {
            "text/plain": [
              "<Figure size 720x504 with 1 Axes>"
            ],
            "image/png": "[encoded data removed]"
          },
          "metadata": {
            "needs_background": "light"
          }
        }
      ]
    },
    {
      "cell_type": "markdown",
      "source": [
        "## AP 1 - Fitness: RAD"
      ],
      "metadata": {
        "id": "jqVjBxBXWF76"
      }
    },
    {
      "cell_type": "code",
      "source": [
        "fitnessType = 'RAD'\n",
        "X, Y = getDensityEstimationSamples(pathAB_linear['AP1'].dropna(), nExtractedSamples)\n",
        "kappa_hat2, mu_hat2, omega_hat2 = geneticAlgorithm(X,Y)"
      ],
      "metadata": {
        "colab": {
          "base_uri": "https://localhost:8080/",
          "height": 1000
        },
        "id": "y_8LkEshNU30",
        "outputId": "a2fc2127-bf43-4317-d78c-e60274ecf41c"
      },
      "execution_count": 14,
      "outputs": [
        {
          "output_type": "display_data",
          "data": {
            "text/plain": [
              "<Figure size 720x504 with 1 Axes>"
            ],
            "image/png": "[encoded data removed]"
          },
          "metadata": {
            "needs_background": "light"
          }
        },
        {
          "output_type": "stream",
          "name": "stderr",
          "text": [
            "/usr/local/lib/python3.7/dist-packages/ipykernel_launcher.py:43: RuntimeWarning: divide by zero encountered in log2\n",
            "/usr/local/lib/python3.7/dist-packages/ipykernel_launcher.py:43: RuntimeWarning: invalid value encountered in multiply\n",
            "/usr/local/lib/python3.7/dist-packages/ipykernel_launcher.py:35: RuntimeWarning: invalid value encountered in multiply\n"
          ]
        },
        {
          "output_type": "stream",
          "name": "stdout",
          "text": [
            "=== Generation: 0 === \n",
            "Fitness: nan\n",
            "Best individual:\n",
            "Kappa: 79.18548252254953\n",
            "Mu: 0.39383438816974925\n",
            "Omega: 0.19562075864630155\n",
            "\n"
          ]
        },
        {
          "output_type": "stream",
          "name": "stderr",
          "text": [
            "/usr/local/lib/python3.7/dist-packages/ipykernel_launcher.py:43: RuntimeWarning: divide by zero encountered in log2\n",
            "/usr/local/lib/python3.7/dist-packages/ipykernel_launcher.py:43: RuntimeWarning: invalid value encountered in multiply\n",
            "/usr/local/lib/python3.7/dist-packages/ipykernel_launcher.py:35: RuntimeWarning: invalid value encountered in multiply\n"
          ]
        },
        {
          "output_type": "stream",
          "name": "stdout",
          "text": [
            "=== Generation: 1 === \n",
            "Fitness: 20.838178917160963\n",
            "Best individual:\n",
            "Kappa: 51.29380388236365\n",
            "Mu: 0.14593523979695375\n",
            "Omega: 1.1661511519147727\n",
            "\n"
          ]
        },
        {
          "output_type": "stream",
          "name": "stderr",
          "text": [
            "/usr/local/lib/python3.7/dist-packages/ipykernel_launcher.py:43: RuntimeWarning: divide by zero encountered in log2\n",
            "/usr/local/lib/python3.7/dist-packages/ipykernel_launcher.py:43: RuntimeWarning: invalid value encountered in multiply\n",
            "/usr/local/lib/python3.7/dist-packages/ipykernel_launcher.py:35: RuntimeWarning: invalid value encountered in multiply\n"
          ]
        },
        {
          "output_type": "stream",
          "name": "stdout",
          "text": [
            "=== Generation: 2 === \n",
            "Fitness: nan\n",
            "Best individual:\n",
            "Kappa: 89.57351749477446\n",
            "Mu: 0.889633364555493\n",
            "Omega: 0.3268036591596074\n",
            "\n"
          ]
        },
        {
          "output_type": "stream",
          "name": "stderr",
          "text": [
            "/usr/local/lib/python3.7/dist-packages/ipykernel_launcher.py:35: RuntimeWarning: invalid value encountered in multiply\n",
            "/usr/local/lib/python3.7/dist-packages/ipykernel_launcher.py:43: RuntimeWarning: divide by zero encountered in log2\n",
            "/usr/local/lib/python3.7/dist-packages/ipykernel_launcher.py:43: RuntimeWarning: invalid value encountered in multiply\n"
          ]
        },
        {
          "output_type": "stream",
          "name": "stdout",
          "text": [
            "=== Generation: 3 === \n",
            "Fitness: 71.09045058866614\n",
            "Best individual:\n",
            "Kappa: 14.665970384256825\n",
            "Mu: 0.2983516449278309\n",
            "Omega: 1.1306457753510046\n",
            "\n"
          ]
        },
        {
          "output_type": "stream",
          "name": "stderr",
          "text": [
            "/usr/local/lib/python3.7/dist-packages/ipykernel_launcher.py:43: RuntimeWarning: divide by zero encountered in log2\n",
            "/usr/local/lib/python3.7/dist-packages/ipykernel_launcher.py:43: RuntimeWarning: invalid value encountered in multiply\n"
          ]
        },
        {
          "output_type": "stream",
          "name": "stdout",
          "text": [
            "=== Generation: 4 === \n",
            "Fitness: 72.4472700942602\n",
            "Best individual:\n",
            "Kappa: 14.745791822603616\n",
            "Mu: 0.29241277323218684\n",
            "Omega: 1.1149931497138137\n",
            "\n",
            "=== Generation: 5 === \n",
            "Fitness: 72.9857869871732\n",
            "Best individual:\n",
            "Kappa: 7.723552356657371\n",
            "Mu: 0.5283200606746423\n",
            "Omega: 1.118465365284691\n",
            "\n",
            "=== Generation: 6 === \n",
            "Fitness: 73.22661637871485\n",
            "Best individual:\n",
            "Kappa: 11.420097418965419\n",
            "Mu: 0.3807890114733713\n",
            "Omega: 1.110809953004911\n",
            "\n",
            "=== Generation: 7 === \n",
            "Fitness: 73.1665625242594\n",
            "Best individual:\n",
            "Kappa: 15.266865240228354\n",
            "Mu: 0.290626113512478\n",
            "Omega: 1.1097882630715232\n",
            "\n",
            "=== Generation: 8 === \n",
            "Fitness: 73.2056483909307\n",
            "Best individual:\n",
            "Kappa: 14.562388388415132\n",
            "Mu: 0.3022425017147234\n",
            "Omega: 1.1056376149619747\n",
            "\n",
            "=== Generation: 9 === \n",
            "Fitness: 73.18929932572006\n",
            "Best individual:\n",
            "Kappa: 14.896153497936515\n",
            "Mu: 0.2951178594981645\n",
            "Omega: 1.1079248732577816\n",
            "\n",
            "=== Generation: 10 === \n",
            "Fitness: 73.20734839091062\n",
            "Best individual:\n",
            "Kappa: 14.842189003320817\n",
            "Mu: 0.2970414867137169\n",
            "Omega: 1.1071884045835425\n",
            "\n",
            "=== Generation: 11 === \n",
            "Fitness: 73.19550957936772\n",
            "Best individual:\n",
            "Kappa: 14.97037062095173\n",
            "Mu: 0.29482844312835804\n",
            "Omega: 1.1062411224423996\n",
            "\n",
            "=== Generation: 12 === \n",
            "Fitness: 73.18928572531456\n",
            "Best individual:\n",
            "Kappa: 14.956912217063785\n",
            "Mu: 0.2940693983373288\n",
            "Omega: 1.1073314018091727\n",
            "\n",
            "=== Generation: 13 === \n",
            "Fitness: 73.21172374868328\n",
            "Best individual:\n",
            "Kappa: 14.734375723949448\n",
            "Mu: 0.29955505981171704\n",
            "Omega: 1.1084293922215314\n",
            "\n",
            "=== Generation: 14 === \n",
            "Fitness: 73.19466252295976\n",
            "Best individual:\n",
            "Kappa: 14.950972818871062\n",
            "Mu: 0.2961029690208869\n",
            "Omega: 1.106819947594113\n",
            "\n",
            "=== Generation: 15 === \n",
            "Fitness: 73.20629712842967\n",
            "Best individual:\n",
            "Kappa: 14.752601062551124\n",
            "Mu: 0.29865713210219713\n",
            "Omega: 1.1063674738503666\n",
            "\n",
            "=== Generation: 16 === \n",
            "Fitness: 73.2014292986261\n",
            "Best individual:\n",
            "Kappa: 14.774614452662536\n",
            "Mu: 0.29753851253036784\n",
            "Omega: 1.1072901244319826\n",
            "\n",
            "=== Generation: 17 === \n",
            "Fitness: 73.19834884605655\n",
            "Best individual:\n",
            "Kappa: 14.804233767397145\n",
            "Mu: 0.29876166506036494\n",
            "Omega: 1.1064814375690097\n",
            "\n",
            "=== Generation: 18 === \n",
            "Fitness: 73.20366340887851\n",
            "Best individual:\n",
            "Kappa: 14.864394882679843\n",
            "Mu: 0.29633029234287445\n",
            "Omega: 1.1077685857961415\n",
            "\n",
            "=== Generation: 19 === \n",
            "Fitness: 73.22389971581998\n",
            "Best individual:\n",
            "Kappa: 14.498276071025767\n",
            "Mu: 0.3035134592067117\n",
            "Omega: 1.1072586792108716\n",
            "\n",
            "=== Generation: 20 === \n",
            "Fitness: 73.20134170952042\n",
            "Best individual:\n",
            "Kappa: 14.87650583364447\n",
            "Mu: 0.29749812078348953\n",
            "Omega: 1.1075456898565532\n",
            "\n",
            "=== Generation: 21 === \n",
            "Fitness: 73.20751482695547\n",
            "Best individual:\n",
            "Kappa: 14.40580022844785\n",
            "Mu: 0.30489342305548983\n",
            "Omega: 1.1054175294771564\n",
            "\n",
            "=== Generation: 22 === \n",
            "Fitness: 73.20771182250942\n",
            "Best individual:\n",
            "Kappa: 14.709823045946148\n",
            "Mu: 0.2992017025129313\n",
            "Omega: 1.1064812635798358\n",
            "\n",
            "=== Generation: 23 === \n",
            "Fitness: 73.20362002264307\n",
            "Best individual:\n",
            "Kappa: 14.803135708696708\n",
            "Mu: 0.29774477193099674\n",
            "Omega: 1.1063203565598674\n",
            "\n",
            "=== Generation: 24 === \n",
            "Fitness: 73.2041532557567\n",
            "Best individual:\n",
            "Kappa: 14.900455903948943\n",
            "Mu: 0.29651767431783294\n",
            "Omega: 1.1070905713616686\n",
            "\n",
            "=== Generation: 25 === \n",
            "Fitness: 73.21210208536196\n",
            "Best individual:\n",
            "Kappa: 14.708071781422197\n",
            "Mu: 0.30033074539882426\n",
            "Omega: 1.1083029425433075\n",
            "\n",
            "=== Generation: 26 === \n",
            "Fitness: 73.20805301231633\n",
            "Best individual:\n",
            "Kappa: 14.754423369357106\n",
            "Mu: 0.2983412733754158\n",
            "Omega: 1.1080321324938938\n",
            "\n",
            "=== Generation: 27 === \n",
            "Fitness: 73.21215618241305\n",
            "Best individual:\n",
            "Kappa: 14.559115999422088\n",
            "Mu: 0.30217715142733476\n",
            "Omega: 1.106134251764255\n",
            "\n",
            "=== Generation: 28 === \n",
            "Fitness: 73.20295076131728\n",
            "Best individual:\n",
            "Kappa: 14.944087220483008\n",
            "Mu: 0.29548165326959897\n",
            "Omega: 1.108131369782645\n",
            "\n",
            "=== Generation: 29 === \n",
            "Fitness: 73.21488984921416\n",
            "Best individual:\n",
            "Kappa: 14.508274552221396\n",
            "Mu: 0.3035954435072385\n",
            "Omega: 1.109315970710827\n",
            "\n",
            "=== Generation: 30 === \n",
            "Fitness: 73.21498499505824\n",
            "Best individual:\n",
            "Kappa: 14.487677838400414\n",
            "Mu: 0.3032291142128524\n",
            "Omega: 1.1063256585759516\n",
            "\n",
            "=== Generation: 31 === \n",
            "Fitness: 73.21005290368933\n",
            "Best individual:\n",
            "Kappa: 14.759234431751233\n",
            "Mu: 0.29850425843896733\n",
            "Omega: 1.1081453678344866\n",
            "\n",
            "=== Generation: 32 === \n",
            "Fitness: 73.21830292897621\n",
            "Best individual:\n",
            "Kappa: 14.566462040835122\n",
            "Mu: 0.30252253155412884\n",
            "Omega: 1.1067706496346958\n",
            "\n",
            "=== Generation: 33 === \n",
            "Fitness: 73.21406570451492\n",
            "Best individual:\n",
            "Kappa: 14.516249883376338\n",
            "Mu: 0.3036021542849002\n",
            "Omega: 1.1061879556568983\n",
            "\n",
            "=== Generation: 34 === \n",
            "Fitness: 73.21760547577261\n",
            "Best individual:\n",
            "Kappa: 14.651550715403502\n",
            "Mu: 0.30089901584032613\n",
            "Omega: 1.1079813685317645\n",
            "\n",
            "=== Generation: 35 === \n",
            "Fitness: 73.21076888107359\n",
            "Best individual:\n",
            "Kappa: 14.744082564572498\n",
            "Mu: 0.29883788494486635\n",
            "Omega: 1.1069107371015703\n",
            "\n",
            "=== Generation: 36 === \n",
            "Fitness: 73.22480395660631\n",
            "Best individual:\n",
            "Kappa: 14.251968891343456\n",
            "Mu: 0.30739533348002707\n",
            "Omega: 1.1076995270976289\n",
            "\n",
            "=== Generation: 37 === \n",
            "Fitness: 73.22307677085499\n",
            "Best individual:\n",
            "Kappa: 14.527833399396446\n",
            "Mu: 0.3029927940805335\n",
            "Omega: 1.1074188299144112\n",
            "\n",
            "=== Generation: 38 === \n",
            "Fitness: 73.21018343189687\n",
            "Best individual:\n",
            "Kappa: 14.6067035809353\n",
            "Mu: 0.3024192386737989\n",
            "Omega: 1.1091034365072163\n",
            "\n",
            "=== Generation: 39 === \n",
            "Fitness: 73.20144815247247\n",
            "Best individual:\n",
            "Kappa: 14.846132835395146\n",
            "Mu: 0.2978818354961213\n",
            "Omega: 1.1068333141089632\n",
            "\n",
            "=== Generation: 40 === \n",
            "Fitness: 73.21264271379385\n",
            "Best individual:\n",
            "Kappa: 14.757591307565626\n",
            "Mu: 0.2988891650692088\n",
            "Omega: 1.1079035492930063\n",
            "\n",
            "=== Generation: 41 === \n",
            "Fitness: 73.22106533160314\n",
            "Best individual:\n",
            "Kappa: 14.509109561590751\n",
            "Mu: 0.30345478375353746\n",
            "Omega: 1.1086363847597618\n",
            "\n",
            "=== Generation: 42 === \n",
            "Fitness: 73.21933436245212\n",
            "Best individual:\n",
            "Kappa: 14.46651299164655\n",
            "Mu: 0.30477926161762814\n",
            "Omega: 1.1090951024132987\n",
            "\n",
            "=== Generation: 43 === \n",
            "Fitness: 73.22798514797293\n",
            "Best individual:\n",
            "Kappa: 14.325775945812643\n",
            "Mu: 0.3071930801737938\n",
            "Omega: 1.1089637255566345\n",
            "\n",
            "=== Generation: 44 === \n",
            "Fitness: 73.21009391884095\n",
            "Best individual:\n",
            "Kappa: 14.050795392535568\n",
            "Mu: 0.3144113909262635\n",
            "Omega: 1.1070883014610935\n",
            "\n",
            "=== Generation: 45 === \n",
            "Fitness: 73.2164353954376\n",
            "Best individual:\n",
            "Kappa: 14.59536335258807\n",
            "Mu: 0.30242498514965654\n",
            "Omega: 1.107144081870924\n",
            "\n",
            "=== Generation: 46 === \n",
            "Fitness: 73.21174536464994\n",
            "Best individual:\n",
            "Kappa: 14.170101790891641\n",
            "Mu: 0.3109705267966443\n",
            "Omega: 1.1056292083794845\n",
            "\n",
            "=== Generation: 47 === \n",
            "Fitness: 73.2213045455519\n",
            "Best individual:\n",
            "Kappa: 14.41327103221555\n",
            "Mu: 0.3044814029261981\n",
            "Omega: 1.1076580134840643\n",
            "\n",
            "=== Generation: 48 === \n",
            "Fitness: 73.22050709734394\n",
            "Best individual:\n",
            "Kappa: 14.529381551050738\n",
            "Mu: 0.30338382106746187\n",
            "Omega: 1.1086403625185508\n",
            "\n",
            "=== Generation: 49 === \n",
            "Fitness: 73.21615051798834\n",
            "Best individual:\n",
            "Kappa: 14.59038344181779\n",
            "Mu: 0.30144924813248397\n",
            "Omega: 1.1081532628359838\n",
            "\n",
            "==========\n",
            "Max number of generations exceeded!\n",
            "==========\n",
            "\n",
            "Best Fitness: 73.22798514797293\n",
            "Best Gen: 43\n",
            "Kappa: 14.325775945812643\n",
            "Mu: 0.3071930801737938\n",
            "Omega: 1.1089637255566345\n"
          ]
        },
        {
          "output_type": "display_data",
          "data": {
            "text/plain": [
              "<Figure size 720x504 with 0 Axes>"
            ]
          },
          "metadata": {}
        },
        {
          "output_type": "display_data",
          "data": {
            "text/plain": [
              "<Figure size 720x504 with 0 Axes>"
            ]
          },
          "metadata": {}
        },
        {
          "output_type": "display_data",
          "data": {
            "text/plain": [
              "<Figure size 720x504 with 0 Axes>"
            ]
          },
          "metadata": {}
        },
        {
          "output_type": "display_data",
          "data": {
            "text/plain": [
              "<Figure size 720x504 with 0 Axes>"
            ]
          },
          "metadata": {}
        },
        {
          "output_type": "display_data",
          "data": {
            "text/plain": [
              "<Figure size 720x504 with 0 Axes>"
            ]
          },
          "metadata": {}
        },
        {
          "output_type": "display_data",
          "data": {
            "text/plain": [
              "<Figure size 720x504 with 0 Axes>"
            ]
          },
          "metadata": {}
        },
        {
          "output_type": "display_data",
          "data": {
            "text/plain": [
              "<Figure size 720x504 with 0 Axes>"
            ]
          },
          "metadata": {}
        },
        {
          "output_type": "display_data",
          "data": {
            "text/plain": [
              "<Figure size 720x504 with 0 Axes>"
            ]
          },
          "metadata": {}
        },
        {
          "output_type": "display_data",
          "data": {
            "text/plain": [
              "<Figure size 720x504 with 0 Axes>"
            ]
          },
          "metadata": {}
        },
        {
          "output_type": "display_data",
          "data": {
            "text/plain": [
              "<Figure size 720x504 with 0 Axes>"
            ]
          },
          "metadata": {}
        },
        {
          "output_type": "display_data",
          "data": {
            "text/plain": [
              "<Figure size 720x504 with 0 Axes>"
            ]
          },
          "metadata": {}
        },
        {
          "output_type": "display_data",
          "data": {
            "text/plain": [
              "<Figure size 720x504 with 0 Axes>"
            ]
          },
          "metadata": {}
        },
        {
          "output_type": "display_data",
          "data": {
            "text/plain": [
              "<Figure size 720x504 with 0 Axes>"
            ]
          },
          "metadata": {}
        },
        {
          "output_type": "display_data",
          "data": {
            "text/plain": [
              "<Figure size 720x504 with 0 Axes>"
            ]
          },
          "metadata": {}
        },
        {
          "output_type": "display_data",
          "data": {
            "text/plain": [
              "<Figure size 720x504 with 0 Axes>"
            ]
          },
          "metadata": {}
        },
        {
          "output_type": "display_data",
          "data": {
            "text/plain": [
              "<Figure size 720x504 with 0 Axes>"
            ]
          },
          "metadata": {}
        },
        {
          "output_type": "display_data",
          "data": {
            "text/plain": [
              "<Figure size 720x504 with 0 Axes>"
            ]
          },
          "metadata": {}
        },
        {
          "output_type": "display_data",
          "data": {
            "text/plain": [
              "<Figure size 720x504 with 0 Axes>"
            ]
          },
          "metadata": {}
        },
        {
          "output_type": "display_data",
          "data": {
            "text/plain": [
              "<Figure size 720x504 with 0 Axes>"
            ]
          },
          "metadata": {}
        },
        {
          "output_type": "display_data",
          "data": {
            "text/plain": [
              "<Figure size 720x504 with 0 Axes>"
            ]
          },
          "metadata": {}
        },
        {
          "output_type": "display_data",
          "data": {
            "text/plain": [
              "<Figure size 720x504 with 0 Axes>"
            ]
          },
          "metadata": {}
        },
        {
          "output_type": "display_data",
          "data": {
            "text/plain": [
              "<Figure size 720x504 with 0 Axes>"
            ]
          },
          "metadata": {}
        },
        {
          "output_type": "display_data",
          "data": {
            "text/plain": [
              "<Figure size 720x504 with 0 Axes>"
            ]
          },
          "metadata": {}
        },
        {
          "output_type": "display_data",
          "data": {
            "text/plain": [
              "<Figure size 720x504 with 0 Axes>"
            ]
          },
          "metadata": {}
        },
        {
          "output_type": "display_data",
          "data": {
            "text/plain": [
              "<Figure size 720x504 with 0 Axes>"
            ]
          },
          "metadata": {}
        },
        {
          "output_type": "display_data",
          "data": {
            "text/plain": [
              "<Figure size 720x504 with 0 Axes>"
            ]
          },
          "metadata": {}
        },
        {
          "output_type": "display_data",
          "data": {
            "text/plain": [
              "<Figure size 720x504 with 0 Axes>"
            ]
          },
          "metadata": {}
        },
        {
          "output_type": "display_data",
          "data": {
            "text/plain": [
              "<Figure size 720x504 with 0 Axes>"
            ]
          },
          "metadata": {}
        },
        {
          "output_type": "display_data",
          "data": {
            "text/plain": [
              "<Figure size 720x504 with 0 Axes>"
            ]
          },
          "metadata": {}
        },
        {
          "output_type": "display_data",
          "data": {
            "text/plain": [
              "<Figure size 720x504 with 0 Axes>"
            ]
          },
          "metadata": {}
        },
        {
          "output_type": "display_data",
          "data": {
            "text/plain": [
              "<Figure size 720x504 with 0 Axes>"
            ]
          },
          "metadata": {}
        },
        {
          "output_type": "display_data",
          "data": {
            "text/plain": [
              "<Figure size 720x504 with 0 Axes>"
            ]
          },
          "metadata": {}
        },
        {
          "output_type": "display_data",
          "data": {
            "text/plain": [
              "<Figure size 720x504 with 0 Axes>"
            ]
          },
          "metadata": {}
        },
        {
          "output_type": "display_data",
          "data": {
            "text/plain": [
              "<Figure size 720x504 with 0 Axes>"
            ]
          },
          "metadata": {}
        },
        {
          "output_type": "display_data",
          "data": {
            "text/plain": [
              "<Figure size 720x504 with 0 Axes>"
            ]
          },
          "metadata": {}
        },
        {
          "output_type": "display_data",
          "data": {
            "text/plain": [
              "<Figure size 720x504 with 0 Axes>"
            ]
          },
          "metadata": {}
        },
        {
          "output_type": "display_data",
          "data": {
            "text/plain": [
              "<Figure size 720x504 with 0 Axes>"
            ]
          },
          "metadata": {}
        },
        {
          "output_type": "display_data",
          "data": {
            "text/plain": [
              "<Figure size 720x504 with 0 Axes>"
            ]
          },
          "metadata": {}
        },
        {
          "output_type": "display_data",
          "data": {
            "text/plain": [
              "<Figure size 720x504 with 0 Axes>"
            ]
          },
          "metadata": {}
        },
        {
          "output_type": "display_data",
          "data": {
            "text/plain": [
              "<Figure size 720x504 with 0 Axes>"
            ]
          },
          "metadata": {}
        },
        {
          "output_type": "display_data",
          "data": {
            "text/plain": [
              "<Figure size 720x504 with 0 Axes>"
            ]
          },
          "metadata": {}
        },
        {
          "output_type": "display_data",
          "data": {
            "text/plain": [
              "<Figure size 720x504 with 0 Axes>"
            ]
          },
          "metadata": {}
        },
        {
          "output_type": "display_data",
          "data": {
            "text/plain": [
              "<Figure size 720x504 with 0 Axes>"
            ]
          },
          "metadata": {}
        },
        {
          "output_type": "display_data",
          "data": {
            "text/plain": [
              "<Figure size 720x504 with 0 Axes>"
            ]
          },
          "metadata": {}
        },
        {
          "output_type": "display_data",
          "data": {
            "text/plain": [
              "<Figure size 720x504 with 0 Axes>"
            ]
          },
          "metadata": {}
        },
        {
          "output_type": "display_data",
          "data": {
            "text/plain": [
              "<Figure size 720x504 with 0 Axes>"
            ]
          },
          "metadata": {}
        },
        {
          "output_type": "display_data",
          "data": {
            "text/plain": [
              "<Figure size 720x504 with 0 Axes>"
            ]
          },
          "metadata": {}
        },
        {
          "output_type": "display_data",
          "data": {
            "text/plain": [
              "<Figure size 720x504 with 0 Axes>"
            ]
          },
          "metadata": {}
        },
        {
          "output_type": "display_data",
          "data": {
            "text/plain": [
              "<Figure size 720x504 with 0 Axes>"
            ]
          },
          "metadata": {}
        },
        {
          "output_type": "display_data",
          "data": {
            "text/plain": [
              "<Figure size 720x504 with 0 Axes>"
            ]
          },
          "metadata": {}
        }
      ]
    },
    {
      "cell_type": "code",
      "source": [
        "plt.figure(figsize=((10,7)))\n",
        "plt.plot(20*np.log10(X), computePDF(X, kappa_hat, mu_hat, omega_hat), label='Fitness = MSE', color='r')\n",
        "plt.plot(20*np.log10(X), computePDF(X, kappa_hat2, mu_hat2, omega_hat2), label='Fitness = RAD', color='k')\n",
        "plt.scatter(20*np.log10(X), Y, color='m', label='Real')\n",
        "plt.plot(20*np.log10(X), computePDF(X, 60.0747320167390, 0.100000000000035, 1.09085912951657), label='Nidhi\\'s MLE', color='g')\n",
        "plt.title(f'Best GA Fit')\n",
        "plt.legend()\n",
        "plt.grid(True)\n",
        "plt.xlabel(r'$dB$')\n",
        "plt.ylabel('pdf')\n",
        "plt.show()\n",
        "\n",
        "plt.figure(figsize=((10,7)))\n",
        "plt.plot(20*np.log10(X), computePDF(X, kappa_hat, mu_hat, omega_hat), label='Fitness = MSE', color='r')\n",
        "plt.plot(20*np.log10(X), computePDF(X, kappa_hat2, mu_hat2, omega_hat2), label='Fitness = RAD')\n",
        "plt.scatter(20*np.log10(X), Y, color='m', label='Real')\n",
        "plt.plot(20*np.log10(X), computePDF(X, 60.0747320167390, 0.100000000000035, 1.09085912951657), label='Nidhi\\'s MLE', color='g')\n",
        "plt.title(f'Best GA Fit (Zoomed)')\n",
        "plt.legend()\n",
        "plt.grid(True)\n",
        "plt.xlabel(r'$dB$')\n",
        "plt.ylabel('pdf')\n",
        "plt.ylim([1.28, 1.4])\n",
        "plt.xlim([-1, 1])\n",
        "plt.show()"
      ],
      "metadata": {
        "colab": {
          "base_uri": "https://localhost:8080/",
          "height": 903
        },
        "id": "AxIIbmkrRQYX",
        "outputId": "8c3b01d7-1d67-4018-d497-639a10776642"
      },
      "execution_count": 15,
      "outputs": [
        {
          "output_type": "display_data",
          "data": {
            "text/plain": [
              "<Figure size 720x504 with 1 Axes>"
            ],
            "image/png": "[encoded data removed]"
          },
          "metadata": {
            "needs_background": "light"
          }
        },
        {
          "output_type": "display_data",
          "data": {
            "text/plain": [
              "<Figure size 720x504 with 1 Axes>"
            ],
            "image/png": "[encoded data removed]"
          },
          "metadata": {
            "needs_background": "light"
          }
        }
      ]
    },
    {
      "cell_type": "code",
      "source": [
        "# Scores - RAD\n",
        "pVec1 = Y/np.sum(Y)\n",
        "pVec2 = computePDF(X, kappa_hat, mu_hat, omega_hat)/np.sum(computePDF(X, kappa_hat, mu_hat, omega_hat))\n",
        "KLD_1 = kldiv(X, pVec1, pVec2)\n",
        "KLD_2 = kldiv(X, pVec2, pVec1)\n",
        "rad_mse = RAD(KLD_1, KLD_2)\n",
        "\n",
        "pVec2 = computePDF(X, kappa_hat2, mu_hat2, omega_hat2)/np.sum(computePDF(X, kappa_hat2, mu_hat2, omega_hat2))\n",
        "KLD_1 = kldiv(X, pVec1, pVec2)\n",
        "KLD_2 = kldiv(X, pVec2, pVec1)\n",
        "rad_rad = RAD(KLD_1, KLD_2)\n",
        "\n",
        "pVec2 = computePDF(X, 60.0747320167390, 0.100000000000035, 1.09085912951657)/np.sum(computePDF(X, 60.0747320167390, 0.100000000000035, 1.09085912951657))\n",
        "KLD_1 = kldiv(X, pVec1, pVec2)\n",
        "KLD_2 = kldiv(X, pVec2, pVec1)\n",
        "rad_mle = RAD(KLD_1, KLD_2)\n",
        "\n",
        "rads = {'Methods':['Genetic Algorithm (Fitness = MSE)', 'Genetic Algorithm (Fitness = RAD)', 'Maximum Likelihood Estimator'],\n",
        "\t\t'Resistor Average Distance':[rad_mse, rad_rad, rad_mle]}\n",
        "\n",
        "# Create DataFrame\n",
        "df = pd.DataFrame(rads)\n",
        "display(df)"
      ],
      "metadata": {
        "colab": {
          "base_uri": "https://localhost:8080/",
          "height": 144
        },
        "id": "6Nh7XFsVRURQ",
        "outputId": "2ff7a2f5-0eb8-4cff-e666-bda1e185cbb0"
      },
      "execution_count": 16,
      "outputs": [
        {
          "output_type": "display_data",
          "data": {
            "text/plain": [
              "                             Methods  Resistor Average Distance\n",
              "0  Genetic Algorithm (Fitness = MSE)                   0.022334\n",
              "1  Genetic Algorithm (Fitness = RAD)                   0.013656\n",
              "2       Maximum Likelihood Estimator                   0.023563"
            ],
            "text/html": [
              "\n",
              "  <div id=\"df-eeb64a6f-a2da-4cd9-9b1c-ca195a14e254\">\n",
              "    <div class=\"colab-df-container\">\n",
              "      <div>\n",
              "<style scoped>\n",
              "    .dataframe tbody tr th:only-of-type {\n",
              "        vertical-align: middle;\n",
              "    }\n",
              "\n",
              "    .dataframe tbody tr th {\n",
              "        vertical-align: top;\n",
              "    }\n",
              "\n",
              "    .dataframe thead th {\n",
              "        text-align: right;\n",
              "    }\n",
              "</style>\n",
              "<table border=\"1\" class=\"dataframe\">\n",
              "  <thead>\n",
              "    <tr style=\"text-align: right;\">\n",
              "      <th></th>\n",
              "      <th>Methods</th>\n",
              "      <th>Resistor Average Distance</th>\n",
              "    </tr>\n",
              "  </thead>\n",
              "  <tbody>\n",
              "    <tr>\n",
              "      <th>0</th>\n",
              "      <td>Genetic Algorithm (Fitness = MSE)</td>\n",
              "      <td>0.022334</td>\n",
              "    </tr>\n",
              "    <tr>\n",
              "      <th>1</th>\n",
              "      <td>Genetic Algorithm (Fitness = RAD)</td>\n",
              "      <td>0.013656</td>\n",
              "    </tr>\n",
              "    <tr>\n",
              "      <th>2</th>\n",
              "      <td>Maximum Likelihood Estimator</td>\n",
              "      <td>0.023563</td>\n",
              "    </tr>\n",
              "  </tbody>\n",
              "</table>\n",
              "</div>\n",
              "      <button class=\"colab-df-convert\" onclick=\"convertToInteractive('df-eeb64a6f-a2da-4cd9-9b1c-ca195a14e254')\"\n",
              "              title=\"Convert this dataframe to an interactive table.\"\n",
              "              style=\"display:none;\">\n",
              "        \n",
              "  <svg xmlns=\"http://www.w3.org/2000/svg\" height=\"24px\"viewBox=\"0 0 24 24\"\n",
              "       width=\"24px\">\n",
              "    <path d=\"M0 0h24v24H0V0z\" fill=\"none\"/>\n",
              "    <path d=\"M18.56 5.44l.94 2.06.94-2.06 2.06-.94-2.06-.94-.94-2.06-.94 2.06-2.06.94zm-11 1L8.5 8.5l.94-2.06 2.06-.94-2.06-.94L8.5 2.5l-.94 2.06-2.06.94zm10 10l.94 2.06.94-2.06 2.06-.94-2.06-.94-.94-2.06-.94 2.06-2.06.94z\"/><path d=\"M17.41 7.96l-1.37-1.37c-.4-.4-.92-.59-1.43-.59-.52 0-1.04.2-1.43.59L10.3 9.45l-7.72 7.72c-.78.78-.78 2.05 0 2.83L4 21.41c.39.39.9.59 1.41.59.51 0 1.02-.2 1.41-.59l7.78-7.78 2.81-2.81c.8-.78.8-2.07 0-2.86zM5.41 20L4 18.59l7.72-7.72 1.47 1.35L5.41 20z\"/>\n",
              "  </svg>\n",
              "      </button>\n",
              "      \n",
              "  <style>\n",
              "    .colab-df-container {\n",
              "      display:flex;\n",
              "      flex-wrap:wrap;\n",
              "      gap: 12px;\n",
              "    }\n",
              "\n",
              "    .colab-df-convert {\n",
              "      background-color: #E8F0FE;\n",
              "      border: none;\n",
              "      border-radius: 50%;\n",
              "      cursor: pointer;\n",
              "      display: none;\n",
              "      fill: #1967D2;\n",
              "      height: 32px;\n",
              "      padding: 0 0 0 0;\n",
              "      width: 32px;\n",
              "    }\n",
              "\n",
              "    .colab-df-convert:hover {\n",
              "      background-color: #E2EBFA;\n",
              "      box-shadow: 0px 1px 2px rgba(60, 64, 67, 0.3), 0px 1px 3px 1px rgba(60, 64, 67, 0.15);\n",
              "      fill: #174EA6;\n",
              "    }\n",
              "\n",
              "    [theme=dark] .colab-df-convert {\n",
              "      background-color: #3B4455;\n",
              "      fill: #D2E3FC;\n",
              "    }\n",
              "\n",
              "    [theme=dark] .colab-df-convert:hover {\n",
              "      background-color: #434B5C;\n",
              "      box-shadow: 0px 1px 3px 1px rgba(0, 0, 0, 0.15);\n",
              "      filter: drop-shadow(0px 1px 2px rgba(0, 0, 0, 0.3));\n",
              "      fill: #FFFFFF;\n",
              "    }\n",
              "  </style>\n",
              "\n",
              "      <script>\n",
              "        const buttonEl =\n",
              "          document.querySelector('#df-eeb64a6f-a2da-4cd9-9b1c-ca195a14e254 button.colab-df-convert');\n",
              "        buttonEl.style.display =\n",
              "          google.colab.kernel.accessAllowed ? 'block' : 'none';\n",
              "\n",
              "        async function convertToInteractive(key) {\n",
              "          const element = document.querySelector('#df-eeb64a6f-a2da-4cd9-9b1c-ca195a14e254');\n",
              "          const dataTable =\n",
              "            await google.colab.kernel.invokeFunction('convertToInteractive',\n",
              "                                                     [key], {});\n",
              "          if (!dataTable) return;\n",
              "\n",
              "          const docLinkHtml = 'Like what you see? Visit the ' +\n",
              "            '<a target=\"_blank\" href=https://colab.research.google.com/notebooks/data_table.ipynb>data table notebook</a>'\n",
              "            + ' to learn more about interactive tables.';\n",
              "          element.innerHTML = '';\n",
              "          dataTable['output_type'] = 'display_data';\n",
              "          await google.colab.output.renderOutput(dataTable, element);\n",
              "          const docLink = document.createElement('div');\n",
              "          docLink.innerHTML = docLinkHtml;\n",
              "          element.appendChild(docLink);\n",
              "        }\n",
              "      </script>\n",
              "    </div>\n",
              "  </div>\n",
              "  "
            ]
          },
          "metadata": {}
        }
      ]
    },
    {
      "cell_type": "code",
      "source": [
        "plt.plot(X,computePDF(X, 60.0747320167390, 0.100000000000035, 1.09085912951657))"
      ],
      "metadata": {
        "colab": {
          "base_uri": "https://localhost:8080/",
          "height": 284
        },
        "id": "RpQJpmH8nyOZ",
        "outputId": "3aa5953c-13a6-47bd-8a10-134673926fba"
      },
      "execution_count": 38,
      "outputs": [
        {
          "output_type": "execute_result",
          "data": {
            "text/plain": [
              "[<matplotlib.lines.Line2D at 0x7f0f39c29950>]"
            ]
          },
          "metadata": {},
          "execution_count": 38
        },
        {
          "output_type": "display_data",
          "data": {
            "text/plain": [
              "<Figure size 432x288 with 1 Axes>"
            ],
            "image/png": "[encoded data removed]"
          },
          "metadata": {
            "needs_background": "light"
          }
        }
      ]
    },
    {
      "cell_type": "code",
      "source": [
        "def dBm2mV(dBm):\n",
        "  \n",
        "  mV =  np.power(10, dBm + 46.9897/20)\n",
        "  return mV"
      ],
      "metadata": {
        "id": "xrmv95JQpZCZ"
      },
      "execution_count": 65,
      "outputs": []
    },
    {
      "cell_type": "code",
      "source": [
        "C, D = getDensityEstimationSamples(pathAB_linear['AP1'], 81)"
      ],
      "metadata": {
        "colab": {
          "base_uri": "https://localhost:8080/",
          "height": 442
        },
        "id": "YCadEbe-p2A6",
        "outputId": "c5da3f1c-d8d1-4773-8f97-05f2767f3e63"
      },
      "execution_count": 56,
      "outputs": [
        {
          "output_type": "display_data",
          "data": {
            "text/plain": [
              "<Figure size 720x504 with 1 Axes>"
            ],
            "image/png": "[encoded data removed]"
          },
          "metadata": {
            "needs_background": "light"
          }
        }
      ]
    },
    {
      "cell_type": "code",
      "source": [
        "dBm2mV(X)"
      ],
      "metadata": {
        "colab": {
          "base_uri": "https://localhost:8080/"
        },
        "id": "shLXJkKMsE_w",
        "outputId": "9e79366b-c7a3-4300-cd2a-a4ed358741d6"
      },
      "execution_count": 81,
      "outputs": [
        {
          "output_type": "execute_result",
          "data": {
            "text/plain": [
              "array([   250.9762248 ,    273.08786597,    297.14759873,    323.3270549 ,\n",
              "          351.81298748,    382.80860288,    416.5350105 ,    453.23280008,\n",
              "          493.16375788,    536.61273421,    583.88967542,    635.33183491,\n",
              "          691.30617897,    752.21200452,    818.48378759,    890.59428263,\n",
              "          969.05789495,   1054.43435027,   1147.33268759,   1248.41560374,\n",
              "         1358.40418087,   1478.08303026,   1608.30588944,   1750.0017124 ,\n",
              "         1904.1812963 ,   2071.9444921 ,   2254.48805042,   2453.11415865,\n",
              "         2669.23973016,   2904.406512  ,   3160.29208303,   3438.72182107,\n",
              "         3741.68192434,   4071.33358016,   4430.02838192,   4820.32510434,\n",
              "         5245.00795669,   5707.10644412,   6209.91697886,   6757.02639542,\n",
              "         7352.33753749,   8000.09709919,   8704.92591916,   9471.85194362,\n",
              "        10306.34609357,  11214.36129205,  12202.37492966,  13277.43507154,\n",
              "        14447.21073521,  15720.04659809,  17105.02252479,  18612.01833899,\n",
              "        20251.78430189,  22036.01779991,  23977.44678886,  26089.92058968,\n",
              "        28388.5086836 ,  30889.60821127,  33611.06094303,  36572.28055433,\n",
              "        39794.39111463,  43300.37777741,  47115.25074642,  51266.22368768,\n",
              "        55782.90786014,  60697.52334969,  66045.12891338,  71863.87207357,\n",
              "        78195.26124599,  85084.46184292,  92580.6184639 , 100737.20547215,\n",
              "       109612.40845778, 119269.53930875, 129777.48785076, 141211.21327764,\n",
              "       153652.2788781 , 167189.43387317, 181919.2465151 , 197946.79296376,\n",
              "       215386.4068549 ])"
            ]
          },
          "metadata": {},
          "execution_count": 81
        }
      ]
    },
    {
      "cell_type": "code",
      "source": [
        "np.sum(np.log(computePDF(X, 60.074731198877520, 0.100000000000035, 1.090859130374765)))"
      ],
      "metadata": {
        "colab": {
          "base_uri": "https://localhost:8080/"
        },
        "id": "oB094oWurPhm",
        "outputId": "67667f1e-0451-4cdc-c3db-c966a8d39f1e"
      },
      "execution_count": 84,
      "outputs": [
        {
          "output_type": "execute_result",
          "data": {
            "text/plain": [
              "-421.96323090793624"
            ]
          },
          "metadata": {},
          "execution_count": 84
        }
      ]
    },
    {
      "cell_type": "code",
      "source": [
        "# AIC\n",
        "\n",
        "np.log(computePDF(X, kappa_hat, mu_hat, omega_hat))"
      ],
      "metadata": {
        "colab": {
          "base_uri": "https://localhost:8080/"
        },
        "id": "4urmGIRYSQnn",
        "outputId": "e8db284b-0736-4ccf-96d8-d2c7e588f2da"
      },
      "execution_count": 67,
      "outputs": [
        {
          "output_type": "execute_result",
          "data": {
            "text/plain": [
              "array([-4.09542312e+00, -3.96305494e+00, -3.70957591e+00, -3.41718556e+00,\n",
              "       -3.11783536e+00, -2.82393697e+00, -2.54032869e+00, -2.26893648e+00,\n",
              "       -2.01056393e+00, -1.76557895e+00, -1.53417753e+00, -1.31648508e+00,\n",
              "       -1.11259518e+00, -9.22584508e-01, -7.46518767e-01, -5.84455285e-01,\n",
              "       -4.36444422e-01, -3.02530537e-01, -1.82752760e-01, -7.71456691e-02,\n",
              "        1.42601156e-02,  9.14374138e-02,  1.54362030e-01,  2.03012363e-01,\n",
              "        2.37369068e-01,  2.57414768e-01,  2.63133807e-01,  2.54512035e-01,\n",
              "        2.31536632e-01,  1.94195943e-01,  1.42479350e-01,  7.63771533e-02,\n",
              "       -4.11953053e-03, -9.90188559e-02, -2.08328324e-01, -3.32054852e-01,\n",
              "       -4.70204828e-01, -6.22784167e-01, -7.89798352e-01, -9.71252478e-01,\n",
              "       -1.16715129e+00, -1.37749920e+00, -1.60230034e+00, -1.84155856e+00,\n",
              "       -2.09527748e+00, -2.36346047e+00, -2.64611074e+00, -2.94323124e+00,\n",
              "       -3.25482482e+00, -3.58089410e+00, -3.92144159e+00, -4.27646966e+00,\n",
              "       -4.64598053e+00, -5.02997632e+00, -5.42845902e+00, -5.84143054e+00,\n",
              "       -6.26889268e+00, -6.71084714e+00, -7.16729556e+00, -7.63823947e+00,\n",
              "       -8.12368036e+00, -8.62361962e+00, -9.13805859e+00, -9.66699856e+00,\n",
              "       -1.02104407e+01, -1.07683863e+01, -1.13408364e+01, -1.19277920e+01,\n",
              "       -1.25292542e+01, -1.31452240e+01, -1.37757022e+01, -1.44206899e+01,\n",
              "       -1.50801879e+01, -1.57541969e+01, -1.64427179e+01, -1.71457515e+01,\n",
              "       -1.78632985e+01, -1.85953596e+01, -1.93419355e+01, -2.01030269e+01,\n",
              "       -2.08786344e+01])"
            ]
          },
          "metadata": {},
          "execution_count": 67
        }
      ]
    },
    {
      "cell_type": "code",
      "source": [
        "X"
      ],
      "metadata": {
        "colab": {
          "base_uri": "https://localhost:8080/"
        },
        "id": "iDMufm3Fol8B",
        "outputId": "910bdbcc-4ced-4536-9ed6-4664769114e3"
      },
      "execution_count": 68,
      "outputs": [
        {
          "output_type": "execute_result",
          "data": {
            "text/plain": [
              "array([0.05014758, 0.0868174 , 0.12348723, 0.16015705, 0.19682687,\n",
              "       0.23349669, 0.27016651, 0.30683633, 0.34350615, 0.38017597,\n",
              "       0.4168458 , 0.45351562, 0.49018544, 0.52685526, 0.56352508,\n",
              "       0.6001949 , 0.63686472, 0.67353455, 0.71020437, 0.74687419,\n",
              "       0.78354401, 0.82021383, 0.85688365, 0.89355347, 0.9302233 ,\n",
              "       0.96689312, 1.00356294, 1.04023276, 1.07690258, 1.1135724 ,\n",
              "       1.15024222, 1.18691204, 1.22358187, 1.26025169, 1.29692151,\n",
              "       1.33359133, 1.37026115, 1.40693097, 1.44360079, 1.48027062,\n",
              "       1.51694044, 1.55361026, 1.59028008, 1.6269499 , 1.66361972,\n",
              "       1.70028954, 1.73695936, 1.77362919, 1.81029901, 1.84696883,\n",
              "       1.88363865, 1.92030847, 1.95697829, 1.99364811, 2.03031794,\n",
              "       2.06698776, 2.10365758, 2.1403274 , 2.17699722, 2.21366704,\n",
              "       2.25033686, 2.28700669, 2.32367651, 2.36034633, 2.39701615,\n",
              "       2.43368597, 2.47035579, 2.50702561, 2.54369543, 2.58036526,\n",
              "       2.61703508, 2.6537049 , 2.69037472, 2.72704454, 2.76371436,\n",
              "       2.80038418, 2.83705401, 2.87372383, 2.91039365, 2.94706347,\n",
              "       2.98373329])"
            ]
          },
          "metadata": {},
          "execution_count": 68
        }
      ]
    },
    {
      "cell_type": "code",
      "source": [
        ""
      ],
      "metadata": {
        "id": "4Pyz1lGErCHZ"
      },
      "execution_count": null,
      "outputs": []
    }
  ]
}