{
  "nbformat": 4,
  "nbformat_minor": 0,
  "metadata": {
    "colab": {
      "name": "GeneticAlgorithm_CurveFitting.ipynb",
      "provenance": [],
      "collapsed_sections": [],
      "authorship_tag": "ABX9TyNVxgSVh5DZhx2XyLlrcLsX",
      "include_colab_link": true
    },
    "kernelspec": {
      "name": "python3",
      "display_name": "Python 3"
    },
    "language_info": {
      "name": "python"
    }
  },
  "cells": [
    {
      "cell_type": "markdown",
      "metadata": {
        "id": "view-in-github",
        "colab_type": "text"
      },
      "source": [
        "<a href=\"https://colab.research.google.com/github/SamuelBFG/ga-fading/blob/main/GeneticAlgorithm_CurveFitting.ipynb\" target=\"_parent\"><img src=\"https://colab.research.google.com/assets/colab-badge.svg\" alt=\"Open In Colab\"/></a>"
      ]
    },
    {
      "cell_type": "code",
      "execution_count": 1,
      "metadata": {
        "id": "b09UaaMttfaU"
      },
      "outputs": [],
      "source": [
        "import os\n",
        "import numpy as np\n",
        "import pandas as pd\n",
        "import seaborn as sns\n",
        "import random\n",
        "import matplotlib.pyplot as plt\n",
        "from scipy import special as sp\n",
        "from scipy.stats import gaussian_kde\n",
        "from scipy.io import loadmat\n",
        "from sklearn.neighbors import KernelDensity\n",
        "\n",
        "plt.rcParams.update({'figure.max_open_warning': 0})\n",
        "%matplotlib inline\n",
        "\n",
        "## Set up directories\n",
        "paths = ['plots', \n",
        "            'plots/gen/', \n",
        "        ]\n",
        "for i in paths:\n",
        "    if not os.path.exists(i):\n",
        "        os.makedirs(i)"
      ]
    },
    {
      "cell_type": "code",
      "source": [
        "class DataLoad():\n",
        "  def __init__(self):\n",
        "    return\n",
        "  \n",
        "  def datasets_AB_2Khz(self):   \n",
        "    ap_1 = pd.read_csv('/content/pathAB_SSF_dB_AP1_downsampled2Khz_win100.txt', sep=\" \", header=None)\n",
        "    ap_2 = pd.read_csv('/contentt/pathAB_SSF_dB_AP2_downsampled2Khz_win100.txt', sep=\" \", header=None)\n",
        "    ap_3 = pd.read_csv('/content/pathAB_SSF_dB_AP3_downsampled2Khz_win100.txt', sep=\" \", header=None)\n",
        "    ap_4 = pd.read_csv('/content/pathAB_SSF_dB_AP4_downsampled2Khz_win100.txt', sep=\" \", header=None)\n",
        "    ap_5 = pd.read_csv('/content/pathAB_SSF_dB_AP5_downsampled2Khz_win100.txt', sep=\" \", header=None)\n",
        "    ap_6 = pd.read_csv('/content/pathAB_SSF_dB_AP6_downsampled2Khz_win100.txt', sep=\" \", header=None)\n",
        "    ap_7 = pd.read_csv('/content/pathAB_SSF_dB_AP7_downsampled2Khz_win100.txt', sep=\" \", header=None)\n",
        "    ap_8 = pd.read_csv('/content/pathAB_SSF_dB_AP8_downsampled2Khz_win100.txt', sep=\" \", header=None)\n",
        "    ap_9 = pd.read_csv('/content/pathAB_SSF_dB_AP9_downsampled2Khz_win100.txt', sep=\" \", header=None)\n",
        "\n",
        "    return ap_1, ap_2, ap_3, ap_4, ap_5, ap_6, ap_7, ap_8, ap_9\n",
        "\n",
        "  def datasets_AB_1Khz(self):\n",
        "    ap_1 = pd.read_csv('/content/pathAB_SSF_dB_AP1_downsampled1Khz_win50.txt', sep=\" \", header=None)\n",
        "    ap_2 = pd.read_csv('/content/pathAB_SSF_dB_AP2_downsampled1Khz_win50.txt', sep=\" \", header=None)\n",
        "    ap_3 = pd.read_csv('/content/pathAB_SSF_dB_AP3_downsampled1Khz_win50.txt', sep=\" \", header=None)\n",
        "    ap_4 = pd.read_csv('/content/pathAB_SSF_dB_AP4_downsampled1Khz_win50.txt', sep=\" \", header=None)\n",
        "    ap_5 = pd.read_csv('/content/pathAB_SSF_dB_AP5_downsampled1Khz_win50.txt', sep=\" \", header=None)\n",
        "    ap_6 = pd.read_csv('/content/pathAB_SSF_dB_AP6_downsampled1Khz_win50.txt', sep=\" \", header=None)\n",
        "    ap_7 = pd.read_csv('/content/pathAB_SSF_dB_AP7_downsampled1Khz_win50.txt', sep=\" \", header=None)\n",
        "    ap_8 = pd.read_csv('/content/pathAB_SSF_dB_AP8_downsampled1Khz_win50.txt', sep=\" \", header=None)\n",
        "    ap_9 = pd.read_csv('/content/pathAB_SSF_dB_AP9_downsampled1Khz_win50.txt', sep=\" \", header=None)\n",
        "\n",
        "    return ap_1, ap_2, ap_3, ap_4, ap_5, ap_6, ap_7, ap_8, ap_9\n",
        "\n",
        "  def datasets_BA_2Khz(self):\n",
        "    ap_1 = pd.read_csv('/content/pathBA_SSF_dB_AP1_downsampled2Khz_win100.txt', sep=\" \", header=None)\n",
        "    ap_2 = pd.read_csv('/content/pathBA_SSF_dB_AP2_downsampled2Khz_win100.txt', sep=\" \", header=None)\n",
        "    ap_3 = pd.read_csv('/content/pathBA_SSF_dB_AP3_downsampled2Khz_win100.txt', sep=\" \", header=None)\n",
        "    ap_4 = pd.read_csv('/content/pathBA_SSF_dB_AP4_downsampled2Khz_win100.txt', sep=\" \", header=None)\n",
        "    ap_5 = pd.read_csv('/content/pathBA_SSF_dB_AP5_downsampled2Khz_win100.txt', sep=\" \", header=None)\n",
        "    ap_6 = pd.read_csv('/content/pathBA_SSF_dB_AP6_downsampled2Khz_win100.txt', sep=\" \", header=None)\n",
        "    ap_7 = pd.read_csv('/content/pathBA_SSF_dB_AP7_downsampled2Khz_win100.txt', sep=\" \", header=None)\n",
        "    ap_8 = pd.read_csv('/content/pathBA_SSF_dB_AP8_downsampled2Khz_win100.txt', sep=\" \", header=None)\n",
        "    ap_9 = pd.read_csv('/content/pathBA_SSF_dB_AP9_downsampled2Khz_win100.txt', sep=\" \", header=None)\n",
        "\n",
        "    return ap_1, ap_2, ap_3, ap_4, ap_5, ap_6, ap_7, ap_8, ap_9\n",
        "\n",
        "  def datasets_BA_1Khz(self):\n",
        "    ap_1 = pd.read_csv('/content/pathBA_SSF_dB_AP1_downsampled1Khz_win50.txt', sep=\" \", header=None)\n",
        "    ap_2 = pd.read_csv('/content/pathBA_SSF_dB_AP2_downsampled1Khz_win50.txt', sep=\" \", header=None)\n",
        "    ap_3 = pd.read_csv('/content/pathBA_SSF_dB_AP3_downsampled1Khz_win50.txt', sep=\" \", header=None)\n",
        "    ap_4 = pd.read_csv('/content/pathBA_SSF_dB_AP4_downsampled1Khz_win50.txt', sep=\" \", header=None)\n",
        "    ap_5 = pd.read_csv('/content/pathBA_SSF_dB_AP5_downsampled1Khz_win50.txt', sep=\" \", header=None)\n",
        "    ap_6 = pd.read_csv('/content/pathBA_SSF_dB_AP6_downsampled1Khz_win50.txt', sep=\" \", header=None)\n",
        "    ap_7 = pd.read_csv('/content/pathBA_SSF_dB_AP7_downsampled1Khz_win50.txt', sep=\" \", header=None)\n",
        "    ap_8 = pd.read_csv('/content/pathBA_SSF_dB_AP8_downsampled1Khz_win50.txt', sep=\" \", header=None)\n",
        "    ap_9 = pd.read_csv('/content/pathBA_SSF_dB_AP9_downsampled1Khz_win50.txt', sep=\" \", header=None)\n",
        "\n",
        "    return ap_1, ap_2, ap_3, ap_4, ap_5, ap_6, ap_7, ap_8, ap_9\n",
        "\n",
        "######################\n",
        "#### LOAD PATH AB ####\n",
        "######################\n",
        "pathAB_dB = pd.DataFrame()\n",
        "pathAB_dB['AP1'], pathAB_dB['AP2'], pathAB_dB['AP3'], pathAB_dB['AP4'], pathAB_dB['AP5'], pathAB_dB['AP6'], pathAB_dB['AP7'], pathAB_dB['AP8'], pathAB_dB['AP9'] = DataLoad().datasets_AB_1Khz() \n",
        "\n",
        "\n",
        "pathAB_linear = {}\n",
        "pathAB_linear['AP1'] = np.power(10, pathAB_dB['AP1']/20)\n",
        "pathAB_linear['AP2'] = np.power(10, pathAB_dB['AP2']/20)\n",
        "pathAB_linear['AP3'] = np.power(10, pathAB_dB['AP3']/20)\n",
        "pathAB_linear['AP4'] = np.power(10, pathAB_dB['AP4']/20)\n",
        "pathAB_linear['AP5'] = np.power(10, pathAB_dB['AP5']/20)\n",
        "pathAB_linear['AP6'] = np.power(10, pathAB_dB['AP6']/20)\n",
        "pathAB_linear['AP7'] = np.power(10, pathAB_dB['AP7']/20)\n",
        "pathAB_linear['AP8'] = np.power(10, pathAB_dB['AP8']/20)\n",
        "pathAB_linear['AP9'] = np.power(10, pathAB_dB['AP9']/20)\n",
        "pathAB_linear = pd.DataFrame(pathAB_linear)\n",
        "\n",
        "######################\n",
        "#### LOAD PATH BA ####\n",
        "######################\n",
        "pathBA_dB = pd.DataFrame()\n",
        "pathBA_dB['AP1'], pathBA_dB['AP2'], pathBA_dB['AP3'], pathBA_dB['AP4'], pathBA_dB['AP5'], pathBA_dB['AP6'], pathBA_dB['AP7'], pathBA_dB['AP8'], pathBA_dB['AP9'] = DataLoad().datasets_BA_1Khz()\n",
        "\n",
        "\n",
        "pathBA_linear = {}\n",
        "pathBA_linear['AP1'] = np.power(10, pathBA_dB['AP1']/20)\n",
        "pathBA_linear['AP2'] = np.power(10, pathBA_dB['AP2']/20)\n",
        "pathBA_linear['AP3'] = np.power(10, pathBA_dB['AP3']/20)\n",
        "pathBA_linear['AP4'] = np.power(10, pathBA_dB['AP4']/20)\n",
        "pathBA_linear['AP5'] = np.power(10, pathBA_dB['AP5']/20)\n",
        "pathBA_linear['AP6'] = np.power(10, pathBA_dB['AP6']/20)\n",
        "pathBA_linear['AP7'] = np.power(10, pathBA_dB['AP7']/20)\n",
        "pathBA_linear['AP8'] = np.power(10, pathBA_dB['AP8']/20)\n",
        "pathBA_linear['AP9'] = np.power(10, pathBA_dB['AP9']/20)\n",
        "pathBA_linear = pd.DataFrame(pathBA_linear)\n",
        "\n",
        "print('Path AB (dB) Statistics:')\n",
        "display(pathAB_dB.describe())\n",
        "print('Path AB (linear) Statistics:')\n",
        "display(pathAB_linear.describe())\n",
        "print('Path BA (dB) Statistics:')\n",
        "display(pathBA_dB.describe())\n",
        "print('Path BA (linear) Statistics:')\n",
        "display(pathBA_linear.describe())\n"
      ],
      "metadata": {
        "colab": {
          "base_uri": "https://localhost:8080/",
          "height": 1000
        },
        "id": "ek0d_oyPvITn",
        "outputId": "b38e6f22-7231-4063-a9e9-dc03ac7a1a0d"
      },
      "execution_count": 2,
      "outputs": [
        {
          "output_type": "stream",
          "name": "stdout",
          "text": [
            "Path AB (dB) Statistics:\n"
          ]
        },
        {
          "output_type": "display_data",
          "data": {
            "text/plain": [
              "                AP1          AP2           AP3          AP4          AP5  \\\n",
              "count  10697.000000  8812.000000  10656.000000  9927.000000  9395.000000   \n",
              "mean      -0.679144    -0.678685     -0.891395    -0.618300    -0.638215   \n",
              "std        3.755317     3.727851      4.148268     3.481536     3.523801   \n",
              "min      -23.270000   -25.995000    -29.257000   -23.439000   -26.626000   \n",
              "25%       -1.992900    -2.078275     -2.785375    -1.758650    -1.908150   \n",
              "50%        0.018903    -0.096474     -0.152590    -0.033933    -0.029619   \n",
              "75%        1.533700     1.476525      1.818025     1.298050     1.420300   \n",
              "max        8.057100     9.495200      8.997100    10.364000     9.217000   \n",
              "\n",
              "               AP6          AP7          AP8          AP9  \n",
              "count  8645.000000  9343.000000  9281.000000  9125.000000  \n",
              "mean     -0.955131    -0.906079    -0.808394    -0.980556  \n",
              "std       4.381667     4.206115     3.948882     4.360623  \n",
              "min     -28.295000   -24.263000   -23.097000   -25.785000  \n",
              "25%      -3.072200    -2.969000    -2.730100    -3.206400  \n",
              "50%      -0.132410    -0.155200    -0.187850    -0.247910  \n",
              "75%       1.953700     1.949350     1.754300     1.991900  \n",
              "max       8.636300     9.117800     8.691000     8.649700  "
            ],
            "text/html": [
              "\n",
              "  <div id=\"df-405ecfc6-82b0-4eef-b6d0-2b76530eb07c\">\n",
              "    <div class=\"colab-df-container\">\n",
              "      <div>\n",
              "<style scoped>\n",
              "    .dataframe tbody tr th:only-of-type {\n",
              "        vertical-align: middle;\n",
              "    }\n",
              "\n",
              "    .dataframe tbody tr th {\n",
              "        vertical-align: top;\n",
              "    }\n",
              "\n",
              "    .dataframe thead th {\n",
              "        text-align: right;\n",
              "    }\n",
              "</style>\n",
              "<table border=\"1\" class=\"dataframe\">\n",
              "  <thead>\n",
              "    <tr style=\"text-align: right;\">\n",
              "      <th></th>\n",
              "      <th>AP1</th>\n",
              "      <th>AP2</th>\n",
              "      <th>AP3</th>\n",
              "      <th>AP4</th>\n",
              "      <th>AP5</th>\n",
              "      <th>AP6</th>\n",
              "      <th>AP7</th>\n",
              "      <th>AP8</th>\n",
              "      <th>AP9</th>\n",
              "    </tr>\n",
              "  </thead>\n",
              "  <tbody>\n",
              "    <tr>\n",
              "      <th>count</th>\n",
              "      <td>10697.000000</td>\n",
              "      <td>8812.000000</td>\n",
              "      <td>10656.000000</td>\n",
              "      <td>9927.000000</td>\n",
              "      <td>9395.000000</td>\n",
              "      <td>8645.000000</td>\n",
              "      <td>9343.000000</td>\n",
              "      <td>9281.000000</td>\n",
              "      <td>9125.000000</td>\n",
              "    </tr>\n",
              "    <tr>\n",
              "      <th>mean</th>\n",
              "      <td>-0.679144</td>\n",
              "      <td>-0.678685</td>\n",
              "      <td>-0.891395</td>\n",
              "      <td>-0.618300</td>\n",
              "      <td>-0.638215</td>\n",
              "      <td>-0.955131</td>\n",
              "      <td>-0.906079</td>\n",
              "      <td>-0.808394</td>\n",
              "      <td>-0.980556</td>\n",
              "    </tr>\n",
              "    <tr>\n",
              "      <th>std</th>\n",
              "      <td>3.755317</td>\n",
              "      <td>3.727851</td>\n",
              "      <td>4.148268</td>\n",
              "      <td>3.481536</td>\n",
              "      <td>3.523801</td>\n",
              "      <td>4.381667</td>\n",
              "      <td>4.206115</td>\n",
              "      <td>3.948882</td>\n",
              "      <td>4.360623</td>\n",
              "    </tr>\n",
              "    <tr>\n",
              "      <th>min</th>\n",
              "      <td>-23.270000</td>\n",
              "      <td>-25.995000</td>\n",
              "      <td>-29.257000</td>\n",
              "      <td>-23.439000</td>\n",
              "      <td>-26.626000</td>\n",
              "      <td>-28.295000</td>\n",
              "      <td>-24.263000</td>\n",
              "      <td>-23.097000</td>\n",
              "      <td>-25.785000</td>\n",
              "    </tr>\n",
              "    <tr>\n",
              "      <th>25%</th>\n",
              "      <td>-1.992900</td>\n",
              "      <td>-2.078275</td>\n",
              "      <td>-2.785375</td>\n",
              "      <td>-1.758650</td>\n",
              "      <td>-1.908150</td>\n",
              "      <td>-3.072200</td>\n",
              "      <td>-2.969000</td>\n",
              "      <td>-2.730100</td>\n",
              "      <td>-3.206400</td>\n",
              "    </tr>\n",
              "    <tr>\n",
              "      <th>50%</th>\n",
              "      <td>0.018903</td>\n",
              "      <td>-0.096474</td>\n",
              "      <td>-0.152590</td>\n",
              "      <td>-0.033933</td>\n",
              "      <td>-0.029619</td>\n",
              "      <td>-0.132410</td>\n",
              "      <td>-0.155200</td>\n",
              "      <td>-0.187850</td>\n",
              "      <td>-0.247910</td>\n",
              "    </tr>\n",
              "    <tr>\n",
              "      <th>75%</th>\n",
              "      <td>1.533700</td>\n",
              "      <td>1.476525</td>\n",
              "      <td>1.818025</td>\n",
              "      <td>1.298050</td>\n",
              "      <td>1.420300</td>\n",
              "      <td>1.953700</td>\n",
              "      <td>1.949350</td>\n",
              "      <td>1.754300</td>\n",
              "      <td>1.991900</td>\n",
              "    </tr>\n",
              "    <tr>\n",
              "      <th>max</th>\n",
              "      <td>8.057100</td>\n",
              "      <td>9.495200</td>\n",
              "      <td>8.997100</td>\n",
              "      <td>10.364000</td>\n",
              "      <td>9.217000</td>\n",
              "      <td>8.636300</td>\n",
              "      <td>9.117800</td>\n",
              "      <td>8.691000</td>\n",
              "      <td>8.649700</td>\n",
              "    </tr>\n",
              "  </tbody>\n",
              "</table>\n",
              "</div>\n",
              "      <button class=\"colab-df-convert\" onclick=\"convertToInteractive('df-405ecfc6-82b0-4eef-b6d0-2b76530eb07c')\"\n",
              "              title=\"Convert this dataframe to an interactive table.\"\n",
              "              style=\"display:none;\">\n",
              "        \n",
              "  <svg xmlns=\"http://www.w3.org/2000/svg\" height=\"24px\"viewBox=\"0 0 24 24\"\n",
              "       width=\"24px\">\n",
              "    <path d=\"M0 0h24v24H0V0z\" fill=\"none\"/>\n",
              "    <path d=\"M18.56 5.44l.94 2.06.94-2.06 2.06-.94-2.06-.94-.94-2.06-.94 2.06-2.06.94zm-11 1L8.5 8.5l.94-2.06 2.06-.94-2.06-.94L8.5 2.5l-.94 2.06-2.06.94zm10 10l.94 2.06.94-2.06 2.06-.94-2.06-.94-.94-2.06-.94 2.06-2.06.94z\"/><path d=\"M17.41 7.96l-1.37-1.37c-.4-.4-.92-.59-1.43-.59-.52 0-1.04.2-1.43.59L10.3 9.45l-7.72 7.72c-.78.78-.78 2.05 0 2.83L4 21.41c.39.39.9.59 1.41.59.51 0 1.02-.2 1.41-.59l7.78-7.78 2.81-2.81c.8-.78.8-2.07 0-2.86zM5.41 20L4 18.59l7.72-7.72 1.47 1.35L5.41 20z\"/>\n",
              "  </svg>\n",
              "      </button>\n",
              "      \n",
              "  <style>\n",
              "    .colab-df-container {\n",
              "      display:flex;\n",
              "      flex-wrap:wrap;\n",
              "      gap: 12px;\n",
              "    }\n",
              "\n",
              "    .colab-df-convert {\n",
              "      background-color: #E8F0FE;\n",
              "      border: none;\n",
              "      border-radius: 50%;\n",
              "      cursor: pointer;\n",
              "      display: none;\n",
              "      fill: #1967D2;\n",
              "      height: 32px;\n",
              "      padding: 0 0 0 0;\n",
              "      width: 32px;\n",
              "    }\n",
              "\n",
              "    .colab-df-convert:hover {\n",
              "      background-color: #E2EBFA;\n",
              "      box-shadow: 0px 1px 2px rgba(60, 64, 67, 0.3), 0px 1px 3px 1px rgba(60, 64, 67, 0.15);\n",
              "      fill: #174EA6;\n",
              "    }\n",
              "\n",
              "    [theme=dark] .colab-df-convert {\n",
              "      background-color: #3B4455;\n",
              "      fill: #D2E3FC;\n",
              "    }\n",
              "\n",
              "    [theme=dark] .colab-df-convert:hover {\n",
              "      background-color: #434B5C;\n",
              "      box-shadow: 0px 1px 3px 1px rgba(0, 0, 0, 0.15);\n",
              "      filter: drop-shadow(0px 1px 2px rgba(0, 0, 0, 0.3));\n",
              "      fill: #FFFFFF;\n",
              "    }\n",
              "  </style>\n",
              "\n",
              "      <script>\n",
              "        const buttonEl =\n",
              "          document.querySelector('#df-405ecfc6-82b0-4eef-b6d0-2b76530eb07c button.colab-df-convert');\n",
              "        buttonEl.style.display =\n",
              "          google.colab.kernel.accessAllowed ? 'block' : 'none';\n",
              "\n",
              "        async function convertToInteractive(key) {\n",
              "          const element = document.querySelector('#df-405ecfc6-82b0-4eef-b6d0-2b76530eb07c');\n",
              "          const dataTable =\n",
              "            await google.colab.kernel.invokeFunction('convertToInteractive',\n",
              "                                                     [key], {});\n",
              "          if (!dataTable) return;\n",
              "\n",
              "          const docLinkHtml = 'Like what you see? Visit the ' +\n",
              "            '<a target=\"_blank\" href=https://colab.research.google.com/notebooks/data_table.ipynb>data table notebook</a>'\n",
              "            + ' to learn more about interactive tables.';\n",
              "          element.innerHTML = '';\n",
              "          dataTable['output_type'] = 'display_data';\n",
              "          await google.colab.output.renderOutput(dataTable, element);\n",
              "          const docLink = document.createElement('div');\n",
              "          docLink.innerHTML = docLinkHtml;\n",
              "          element.appendChild(docLink);\n",
              "        }\n",
              "      </script>\n",
              "    </div>\n",
              "  </div>\n",
              "  "
            ]
          },
          "metadata": {}
        },
        {
          "output_type": "stream",
          "name": "stdout",
          "text": [
            "Path AB (linear) Statistics:\n"
          ]
        },
        {
          "output_type": "display_data",
          "data": {
            "text/plain": [
              "                AP1          AP2           AP3          AP4          AP5  \\\n",
              "count  10697.000000  8812.000000  10656.000000  9927.000000  9395.000000   \n",
              "mean       0.998028     0.999134      0.994438     0.996579     0.996164   \n",
              "std        0.344062     0.357581      0.398839     0.334285     0.337584   \n",
              "min        0.068628     0.050148      0.034447     0.067305     0.046634   \n",
              "25%        0.794978     0.787202      0.725657     0.816709     0.802773   \n",
              "50%        1.002179     0.988955      0.982586     0.996101     0.996596   \n",
              "75%        1.193122     1.185294      1.232824     1.161188     1.177647   \n",
              "max        2.528454     2.983733      2.817442     3.297615     2.889682   \n",
              "\n",
              "               AP6          AP7          AP8          AP9  \n",
              "count  8645.000000  9343.000000  9281.000000  9125.000000  \n",
              "mean      0.998017     0.996402     0.996772     0.996079  \n",
              "std       0.420995     0.407807     0.390212     0.428052  \n",
              "min       0.038481     0.061214     0.070008     0.051375  \n",
              "25%       0.702085     0.710477     0.730289     0.691321  \n",
              "50%       0.984871     0.982291     0.978605     0.971862  \n",
              "75%       1.252233     1.251606     1.223813     1.257752  \n",
              "max       2.702807     2.856867     2.719882     2.706980  "
            ],
            "text/html": [
              "\n",
              "  <div id=\"df-f4ae220d-3819-4038-8ebc-672f3012c2e2\">\n",
              "    <div class=\"colab-df-container\">\n",
              "      <div>\n",
              "<style scoped>\n",
              "    .dataframe tbody tr th:only-of-type {\n",
              "        vertical-align: middle;\n",
              "    }\n",
              "\n",
              "    .dataframe tbody tr th {\n",
              "        vertical-align: top;\n",
              "    }\n",
              "\n",
              "    .dataframe thead th {\n",
              "        text-align: right;\n",
              "    }\n",
              "</style>\n",
              "<table border=\"1\" class=\"dataframe\">\n",
              "  <thead>\n",
              "    <tr style=\"text-align: right;\">\n",
              "      <th></th>\n",
              "      <th>AP1</th>\n",
              "      <th>AP2</th>\n",
              "      <th>AP3</th>\n",
              "      <th>AP4</th>\n",
              "      <th>AP5</th>\n",
              "      <th>AP6</th>\n",
              "      <th>AP7</th>\n",
              "      <th>AP8</th>\n",
              "      <th>AP9</th>\n",
              "    </tr>\n",
              "  </thead>\n",
              "  <tbody>\n",
              "    <tr>\n",
              "      <th>count</th>\n",
              "      <td>10697.000000</td>\n",
              "      <td>8812.000000</td>\n",
              "      <td>10656.000000</td>\n",
              "      <td>9927.000000</td>\n",
              "      <td>9395.000000</td>\n",
              "      <td>8645.000000</td>\n",
              "      <td>9343.000000</td>\n",
              "      <td>9281.000000</td>\n",
              "      <td>9125.000000</td>\n",
              "    </tr>\n",
              "    <tr>\n",
              "      <th>mean</th>\n",
              "      <td>0.998028</td>\n",
              "      <td>0.999134</td>\n",
              "      <td>0.994438</td>\n",
              "      <td>0.996579</td>\n",
              "      <td>0.996164</td>\n",
              "      <td>0.998017</td>\n",
              "      <td>0.996402</td>\n",
              "      <td>0.996772</td>\n",
              "      <td>0.996079</td>\n",
              "    </tr>\n",
              "    <tr>\n",
              "      <th>std</th>\n",
              "      <td>0.344062</td>\n",
              "      <td>0.357581</td>\n",
              "      <td>0.398839</td>\n",
              "      <td>0.334285</td>\n",
              "      <td>0.337584</td>\n",
              "      <td>0.420995</td>\n",
              "      <td>0.407807</td>\n",
              "      <td>0.390212</td>\n",
              "      <td>0.428052</td>\n",
              "    </tr>\n",
              "    <tr>\n",
              "      <th>min</th>\n",
              "      <td>0.068628</td>\n",
              "      <td>0.050148</td>\n",
              "      <td>0.034447</td>\n",
              "      <td>0.067305</td>\n",
              "      <td>0.046634</td>\n",
              "      <td>0.038481</td>\n",
              "      <td>0.061214</td>\n",
              "      <td>0.070008</td>\n",
              "      <td>0.051375</td>\n",
              "    </tr>\n",
              "    <tr>\n",
              "      <th>25%</th>\n",
              "      <td>0.794978</td>\n",
              "      <td>0.787202</td>\n",
              "      <td>0.725657</td>\n",
              "      <td>0.816709</td>\n",
              "      <td>0.802773</td>\n",
              "      <td>0.702085</td>\n",
              "      <td>0.710477</td>\n",
              "      <td>0.730289</td>\n",
              "      <td>0.691321</td>\n",
              "    </tr>\n",
              "    <tr>\n",
              "      <th>50%</th>\n",
              "      <td>1.002179</td>\n",
              "      <td>0.988955</td>\n",
              "      <td>0.982586</td>\n",
              "      <td>0.996101</td>\n",
              "      <td>0.996596</td>\n",
              "      <td>0.984871</td>\n",
              "      <td>0.982291</td>\n",
              "      <td>0.978605</td>\n",
              "      <td>0.971862</td>\n",
              "    </tr>\n",
              "    <tr>\n",
              "      <th>75%</th>\n",
              "      <td>1.193122</td>\n",
              "      <td>1.185294</td>\n",
              "      <td>1.232824</td>\n",
              "      <td>1.161188</td>\n",
              "      <td>1.177647</td>\n",
              "      <td>1.252233</td>\n",
              "      <td>1.251606</td>\n",
              "      <td>1.223813</td>\n",
              "      <td>1.257752</td>\n",
              "    </tr>\n",
              "    <tr>\n",
              "      <th>max</th>\n",
              "      <td>2.528454</td>\n",
              "      <td>2.983733</td>\n",
              "      <td>2.817442</td>\n",
              "      <td>3.297615</td>\n",
              "      <td>2.889682</td>\n",
              "      <td>2.702807</td>\n",
              "      <td>2.856867</td>\n",
              "      <td>2.719882</td>\n",
              "      <td>2.706980</td>\n",
              "    </tr>\n",
              "  </tbody>\n",
              "</table>\n",
              "</div>\n",
              "      <button class=\"colab-df-convert\" onclick=\"convertToInteractive('df-f4ae220d-3819-4038-8ebc-672f3012c2e2')\"\n",
              "              title=\"Convert this dataframe to an interactive table.\"\n",
              "              style=\"display:none;\">\n",
              "        \n",
              "  <svg xmlns=\"http://www.w3.org/2000/svg\" height=\"24px\"viewBox=\"0 0 24 24\"\n",
              "       width=\"24px\">\n",
              "    <path d=\"M0 0h24v24H0V0z\" fill=\"none\"/>\n",
              "    <path d=\"M18.56 5.44l.94 2.06.94-2.06 2.06-.94-2.06-.94-.94-2.06-.94 2.06-2.06.94zm-11 1L8.5 8.5l.94-2.06 2.06-.94-2.06-.94L8.5 2.5l-.94 2.06-2.06.94zm10 10l.94 2.06.94-2.06 2.06-.94-2.06-.94-.94-2.06-.94 2.06-2.06.94z\"/><path d=\"M17.41 7.96l-1.37-1.37c-.4-.4-.92-.59-1.43-.59-.52 0-1.04.2-1.43.59L10.3 9.45l-7.72 7.72c-.78.78-.78 2.05 0 2.83L4 21.41c.39.39.9.59 1.41.59.51 0 1.02-.2 1.41-.59l7.78-7.78 2.81-2.81c.8-.78.8-2.07 0-2.86zM5.41 20L4 18.59l7.72-7.72 1.47 1.35L5.41 20z\"/>\n",
              "  </svg>\n",
              "      </button>\n",
              "      \n",
              "  <style>\n",
              "    .colab-df-container {\n",
              "      display:flex;\n",
              "      flex-wrap:wrap;\n",
              "      gap: 12px;\n",
              "    }\n",
              "\n",
              "    .colab-df-convert {\n",
              "      background-color: #E8F0FE;\n",
              "      border: none;\n",
              "      border-radius: 50%;\n",
              "      cursor: pointer;\n",
              "      display: none;\n",
              "      fill: #1967D2;\n",
              "      height: 32px;\n",
              "      padding: 0 0 0 0;\n",
              "      width: 32px;\n",
              "    }\n",
              "\n",
              "    .colab-df-convert:hover {\n",
              "      background-color: #E2EBFA;\n",
              "      box-shadow: 0px 1px 2px rgba(60, 64, 67, 0.3), 0px 1px 3px 1px rgba(60, 64, 67, 0.15);\n",
              "      fill: #174EA6;\n",
              "    }\n",
              "\n",
              "    [theme=dark] .colab-df-convert {\n",
              "      background-color: #3B4455;\n",
              "      fill: #D2E3FC;\n",
              "    }\n",
              "\n",
              "    [theme=dark] .colab-df-convert:hover {\n",
              "      background-color: #434B5C;\n",
              "      box-shadow: 0px 1px 3px 1px rgba(0, 0, 0, 0.15);\n",
              "      filter: drop-shadow(0px 1px 2px rgba(0, 0, 0, 0.3));\n",
              "      fill: #FFFFFF;\n",
              "    }\n",
              "  </style>\n",
              "\n",
              "      <script>\n",
              "        const buttonEl =\n",
              "          document.querySelector('#df-f4ae220d-3819-4038-8ebc-672f3012c2e2 button.colab-df-convert');\n",
              "        buttonEl.style.display =\n",
              "          google.colab.kernel.accessAllowed ? 'block' : 'none';\n",
              "\n",
              "        async function convertToInteractive(key) {\n",
              "          const element = document.querySelector('#df-f4ae220d-3819-4038-8ebc-672f3012c2e2');\n",
              "          const dataTable =\n",
              "            await google.colab.kernel.invokeFunction('convertToInteractive',\n",
              "                                                     [key], {});\n",
              "          if (!dataTable) return;\n",
              "\n",
              "          const docLinkHtml = 'Like what you see? Visit the ' +\n",
              "            '<a target=\"_blank\" href=https://colab.research.google.com/notebooks/data_table.ipynb>data table notebook</a>'\n",
              "            + ' to learn more about interactive tables.';\n",
              "          element.innerHTML = '';\n",
              "          dataTable['output_type'] = 'display_data';\n",
              "          await google.colab.output.renderOutput(dataTable, element);\n",
              "          const docLink = document.createElement('div');\n",
              "          docLink.innerHTML = docLinkHtml;\n",
              "          element.appendChild(docLink);\n",
              "        }\n",
              "      </script>\n",
              "    </div>\n",
              "  </div>\n",
              "  "
            ]
          },
          "metadata": {}
        },
        {
          "output_type": "stream",
          "name": "stdout",
          "text": [
            "Path BA (dB) Statistics:\n"
          ]
        },
        {
          "output_type": "display_data",
          "data": {
            "text/plain": [
              "                AP1           AP2          AP3           AP4          AP5  \\\n",
              "count  10427.000000  10187.000000  9739.000000  10197.000000  9864.000000   \n",
              "mean      -1.074985     -1.082196    -1.108130     -1.141227    -1.066528   \n",
              "std        4.611840      4.606842     4.676193      4.776027     4.585556   \n",
              "min      -23.208000    -24.229000   -23.415000    -28.406000   -27.824000   \n",
              "25%       -3.572900     -3.676300    -3.706050     -3.604800    -3.436825   \n",
              "50%       -0.260680     -0.365460    -0.342420     -0.273940    -0.290850   \n",
              "75%        2.165200      2.217050     2.230550      2.215100     2.191550   \n",
              "max       10.430000     10.245000    10.232000      9.811200     9.336400   \n",
              "\n",
              "                AP6           AP7          AP8           AP9  \n",
              "count  10114.000000  10406.000000  9979.000000  10114.000000  \n",
              "mean      -1.169384     -1.085920    -1.050910     -1.141020  \n",
              "std        4.827644      4.644380     4.601888      4.805922  \n",
              "min      -29.505000    -24.908000   -23.740000    -25.947000  \n",
              "25%       -3.819825     -3.425175    -3.451000     -3.753000  \n",
              "50%       -0.376360     -0.311915    -0.233700     -0.330355  \n",
              "75%        2.335500      2.088425     2.116250      2.333100  \n",
              "max        9.470100      9.988000     9.302400      9.662200  "
            ],
            "text/html": [
              "\n",
              "  <div id=\"df-a8fc8541-bec3-4c6d-905e-81de88ac0170\">\n",
              "    <div class=\"colab-df-container\">\n",
              "      <div>\n",
              "<style scoped>\n",
              "    .dataframe tbody tr th:only-of-type {\n",
              "        vertical-align: middle;\n",
              "    }\n",
              "\n",
              "    .dataframe tbody tr th {\n",
              "        vertical-align: top;\n",
              "    }\n",
              "\n",
              "    .dataframe thead th {\n",
              "        text-align: right;\n",
              "    }\n",
              "</style>\n",
              "<table border=\"1\" class=\"dataframe\">\n",
              "  <thead>\n",
              "    <tr style=\"text-align: right;\">\n",
              "      <th></th>\n",
              "      <th>AP1</th>\n",
              "      <th>AP2</th>\n",
              "      <th>AP3</th>\n",
              "      <th>AP4</th>\n",
              "      <th>AP5</th>\n",
              "      <th>AP6</th>\n",
              "      <th>AP7</th>\n",
              "      <th>AP8</th>\n",
              "      <th>AP9</th>\n",
              "    </tr>\n",
              "  </thead>\n",
              "  <tbody>\n",
              "    <tr>\n",
              "      <th>count</th>\n",
              "      <td>10427.000000</td>\n",
              "      <td>10187.000000</td>\n",
              "      <td>9739.000000</td>\n",
              "      <td>10197.000000</td>\n",
              "      <td>9864.000000</td>\n",
              "      <td>10114.000000</td>\n",
              "      <td>10406.000000</td>\n",
              "      <td>9979.000000</td>\n",
              "      <td>10114.000000</td>\n",
              "    </tr>\n",
              "    <tr>\n",
              "      <th>mean</th>\n",
              "      <td>-1.074985</td>\n",
              "      <td>-1.082196</td>\n",
              "      <td>-1.108130</td>\n",
              "      <td>-1.141227</td>\n",
              "      <td>-1.066528</td>\n",
              "      <td>-1.169384</td>\n",
              "      <td>-1.085920</td>\n",
              "      <td>-1.050910</td>\n",
              "      <td>-1.141020</td>\n",
              "    </tr>\n",
              "    <tr>\n",
              "      <th>std</th>\n",
              "      <td>4.611840</td>\n",
              "      <td>4.606842</td>\n",
              "      <td>4.676193</td>\n",
              "      <td>4.776027</td>\n",
              "      <td>4.585556</td>\n",
              "      <td>4.827644</td>\n",
              "      <td>4.644380</td>\n",
              "      <td>4.601888</td>\n",
              "      <td>4.805922</td>\n",
              "    </tr>\n",
              "    <tr>\n",
              "      <th>min</th>\n",
              "      <td>-23.208000</td>\n",
              "      <td>-24.229000</td>\n",
              "      <td>-23.415000</td>\n",
              "      <td>-28.406000</td>\n",
              "      <td>-27.824000</td>\n",
              "      <td>-29.505000</td>\n",
              "      <td>-24.908000</td>\n",
              "      <td>-23.740000</td>\n",
              "      <td>-25.947000</td>\n",
              "    </tr>\n",
              "    <tr>\n",
              "      <th>25%</th>\n",
              "      <td>-3.572900</td>\n",
              "      <td>-3.676300</td>\n",
              "      <td>-3.706050</td>\n",
              "      <td>-3.604800</td>\n",
              "      <td>-3.436825</td>\n",
              "      <td>-3.819825</td>\n",
              "      <td>-3.425175</td>\n",
              "      <td>-3.451000</td>\n",
              "      <td>-3.753000</td>\n",
              "    </tr>\n",
              "    <tr>\n",
              "      <th>50%</th>\n",
              "      <td>-0.260680</td>\n",
              "      <td>-0.365460</td>\n",
              "      <td>-0.342420</td>\n",
              "      <td>-0.273940</td>\n",
              "      <td>-0.290850</td>\n",
              "      <td>-0.376360</td>\n",
              "      <td>-0.311915</td>\n",
              "      <td>-0.233700</td>\n",
              "      <td>-0.330355</td>\n",
              "    </tr>\n",
              "    <tr>\n",
              "      <th>75%</th>\n",
              "      <td>2.165200</td>\n",
              "      <td>2.217050</td>\n",
              "      <td>2.230550</td>\n",
              "      <td>2.215100</td>\n",
              "      <td>2.191550</td>\n",
              "      <td>2.335500</td>\n",
              "      <td>2.088425</td>\n",
              "      <td>2.116250</td>\n",
              "      <td>2.333100</td>\n",
              "    </tr>\n",
              "    <tr>\n",
              "      <th>max</th>\n",
              "      <td>10.430000</td>\n",
              "      <td>10.245000</td>\n",
              "      <td>10.232000</td>\n",
              "      <td>9.811200</td>\n",
              "      <td>9.336400</td>\n",
              "      <td>9.470100</td>\n",
              "      <td>9.988000</td>\n",
              "      <td>9.302400</td>\n",
              "      <td>9.662200</td>\n",
              "    </tr>\n",
              "  </tbody>\n",
              "</table>\n",
              "</div>\n",
              "      <button class=\"colab-df-convert\" onclick=\"convertToInteractive('df-a8fc8541-bec3-4c6d-905e-81de88ac0170')\"\n",
              "              title=\"Convert this dataframe to an interactive table.\"\n",
              "              style=\"display:none;\">\n",
              "        \n",
              "  <svg xmlns=\"http://www.w3.org/2000/svg\" height=\"24px\"viewBox=\"0 0 24 24\"\n",
              "       width=\"24px\">\n",
              "    <path d=\"M0 0h24v24H0V0z\" fill=\"none\"/>\n",
              "    <path d=\"M18.56 5.44l.94 2.06.94-2.06 2.06-.94-2.06-.94-.94-2.06-.94 2.06-2.06.94zm-11 1L8.5 8.5l.94-2.06 2.06-.94-2.06-.94L8.5 2.5l-.94 2.06-2.06.94zm10 10l.94 2.06.94-2.06 2.06-.94-2.06-.94-.94-2.06-.94 2.06-2.06.94z\"/><path d=\"M17.41 7.96l-1.37-1.37c-.4-.4-.92-.59-1.43-.59-.52 0-1.04.2-1.43.59L10.3 9.45l-7.72 7.72c-.78.78-.78 2.05 0 2.83L4 21.41c.39.39.9.59 1.41.59.51 0 1.02-.2 1.41-.59l7.78-7.78 2.81-2.81c.8-.78.8-2.07 0-2.86zM5.41 20L4 18.59l7.72-7.72 1.47 1.35L5.41 20z\"/>\n",
              "  </svg>\n",
              "      </button>\n",
              "      \n",
              "  <style>\n",
              "    .colab-df-container {\n",
              "      display:flex;\n",
              "      flex-wrap:wrap;\n",
              "      gap: 12px;\n",
              "    }\n",
              "\n",
              "    .colab-df-convert {\n",
              "      background-color: #E8F0FE;\n",
              "      border: none;\n",
              "      border-radius: 50%;\n",
              "      cursor: pointer;\n",
              "      display: none;\n",
              "      fill: #1967D2;\n",
              "      height: 32px;\n",
              "      padding: 0 0 0 0;\n",
              "      width: 32px;\n",
              "    }\n",
              "\n",
              "    .colab-df-convert:hover {\n",
              "      background-color: #E2EBFA;\n",
              "      box-shadow: 0px 1px 2px rgba(60, 64, 67, 0.3), 0px 1px 3px 1px rgba(60, 64, 67, 0.15);\n",
              "      fill: #174EA6;\n",
              "    }\n",
              "\n",
              "    [theme=dark] .colab-df-convert {\n",
              "      background-color: #3B4455;\n",
              "      fill: #D2E3FC;\n",
              "    }\n",
              "\n",
              "    [theme=dark] .colab-df-convert:hover {\n",
              "      background-color: #434B5C;\n",
              "      box-shadow: 0px 1px 3px 1px rgba(0, 0, 0, 0.15);\n",
              "      filter: drop-shadow(0px 1px 2px rgba(0, 0, 0, 0.3));\n",
              "      fill: #FFFFFF;\n",
              "    }\n",
              "  </style>\n",
              "\n",
              "      <script>\n",
              "        const buttonEl =\n",
              "          document.querySelector('#df-a8fc8541-bec3-4c6d-905e-81de88ac0170 button.colab-df-convert');\n",
              "        buttonEl.style.display =\n",
              "          google.colab.kernel.accessAllowed ? 'block' : 'none';\n",
              "\n",
              "        async function convertToInteractive(key) {\n",
              "          const element = document.querySelector('#df-a8fc8541-bec3-4c6d-905e-81de88ac0170');\n",
              "          const dataTable =\n",
              "            await google.colab.kernel.invokeFunction('convertToInteractive',\n",
              "                                                     [key], {});\n",
              "          if (!dataTable) return;\n",
              "\n",
              "          const docLinkHtml = 'Like what you see? Visit the ' +\n",
              "            '<a target=\"_blank\" href=https://colab.research.google.com/notebooks/data_table.ipynb>data table notebook</a>'\n",
              "            + ' to learn more about interactive tables.';\n",
              "          element.innerHTML = '';\n",
              "          dataTable['output_type'] = 'display_data';\n",
              "          await google.colab.output.renderOutput(dataTable, element);\n",
              "          const docLink = document.createElement('div');\n",
              "          docLink.innerHTML = docLinkHtml;\n",
              "          element.appendChild(docLink);\n",
              "        }\n",
              "      </script>\n",
              "    </div>\n",
              "  </div>\n",
              "  "
            ]
          },
          "metadata": {}
        },
        {
          "output_type": "stream",
          "name": "stdout",
          "text": [
            "Path BA (linear) Statistics:\n"
          ]
        },
        {
          "output_type": "display_data",
          "data": {
            "text/plain": [
              "                AP1           AP2          AP3           AP4          AP5  \\\n",
              "count  10427.000000  10187.000000  9739.000000  10197.000000  9864.000000   \n",
              "mean       0.997510      0.998304     0.998336      0.996081     0.995027   \n",
              "std        0.449814      0.459462     0.463209      0.454875     0.437166   \n",
              "min        0.069119      0.061454     0.067492      0.037993     0.040626   \n",
              "25%        0.662758      0.654915     0.652676      0.660328     0.673223   \n",
              "50%        0.970434      0.958798     0.961344      0.968954     0.967069   \n",
              "75%        1.283099      1.290781     1.292789      1.290491     1.286997   \n",
              "max        3.322768      3.252745     3.247880      3.094283     2.929679   \n",
              "\n",
              "                AP6           AP7          AP8           AP9  \n",
              "count  10114.000000  10406.000000  9979.000000  10114.000000  \n",
              "mean       0.997682      0.996491     0.998782      0.999820  \n",
              "std        0.470313      0.448310     0.446857      0.467674  \n",
              "min        0.033477      0.056833     0.065013      0.050425  \n",
              "25%        0.644182      0.674126     0.672125      0.649157  \n",
              "50%        0.957595      0.964727     0.973453      0.962681  \n",
              "75%        1.308504      1.271807     1.275888      1.308142  \n",
              "max        2.975124      3.157912     2.918233      3.041655  "
            ],
            "text/html": [
              "\n",
              "  <div id=\"df-c32c1f03-3431-46d4-bfa1-0227105c6c05\">\n",
              "    <div class=\"colab-df-container\">\n",
              "      <div>\n",
              "<style scoped>\n",
              "    .dataframe tbody tr th:only-of-type {\n",
              "        vertical-align: middle;\n",
              "    }\n",
              "\n",
              "    .dataframe tbody tr th {\n",
              "        vertical-align: top;\n",
              "    }\n",
              "\n",
              "    .dataframe thead th {\n",
              "        text-align: right;\n",
              "    }\n",
              "</style>\n",
              "<table border=\"1\" class=\"dataframe\">\n",
              "  <thead>\n",
              "    <tr style=\"text-align: right;\">\n",
              "      <th></th>\n",
              "      <th>AP1</th>\n",
              "      <th>AP2</th>\n",
              "      <th>AP3</th>\n",
              "      <th>AP4</th>\n",
              "      <th>AP5</th>\n",
              "      <th>AP6</th>\n",
              "      <th>AP7</th>\n",
              "      <th>AP8</th>\n",
              "      <th>AP9</th>\n",
              "    </tr>\n",
              "  </thead>\n",
              "  <tbody>\n",
              "    <tr>\n",
              "      <th>count</th>\n",
              "      <td>10427.000000</td>\n",
              "      <td>10187.000000</td>\n",
              "      <td>9739.000000</td>\n",
              "      <td>10197.000000</td>\n",
              "      <td>9864.000000</td>\n",
              "      <td>10114.000000</td>\n",
              "      <td>10406.000000</td>\n",
              "      <td>9979.000000</td>\n",
              "      <td>10114.000000</td>\n",
              "    </tr>\n",
              "    <tr>\n",
              "      <th>mean</th>\n",
              "      <td>0.997510</td>\n",
              "      <td>0.998304</td>\n",
              "      <td>0.998336</td>\n",
              "      <td>0.996081</td>\n",
              "      <td>0.995027</td>\n",
              "      <td>0.997682</td>\n",
              "      <td>0.996491</td>\n",
              "      <td>0.998782</td>\n",
              "      <td>0.999820</td>\n",
              "    </tr>\n",
              "    <tr>\n",
              "      <th>std</th>\n",
              "      <td>0.449814</td>\n",
              "      <td>0.459462</td>\n",
              "      <td>0.463209</td>\n",
              "      <td>0.454875</td>\n",
              "      <td>0.437166</td>\n",
              "      <td>0.470313</td>\n",
              "      <td>0.448310</td>\n",
              "      <td>0.446857</td>\n",
              "      <td>0.467674</td>\n",
              "    </tr>\n",
              "    <tr>\n",
              "      <th>min</th>\n",
              "      <td>0.069119</td>\n",
              "      <td>0.061454</td>\n",
              "      <td>0.067492</td>\n",
              "      <td>0.037993</td>\n",
              "      <td>0.040626</td>\n",
              "      <td>0.033477</td>\n",
              "      <td>0.056833</td>\n",
              "      <td>0.065013</td>\n",
              "      <td>0.050425</td>\n",
              "    </tr>\n",
              "    <tr>\n",
              "      <th>25%</th>\n",
              "      <td>0.662758</td>\n",
              "      <td>0.654915</td>\n",
              "      <td>0.652676</td>\n",
              "      <td>0.660328</td>\n",
              "      <td>0.673223</td>\n",
              "      <td>0.644182</td>\n",
              "      <td>0.674126</td>\n",
              "      <td>0.672125</td>\n",
              "      <td>0.649157</td>\n",
              "    </tr>\n",
              "    <tr>\n",
              "      <th>50%</th>\n",
              "      <td>0.970434</td>\n",
              "      <td>0.958798</td>\n",
              "      <td>0.961344</td>\n",
              "      <td>0.968954</td>\n",
              "      <td>0.967069</td>\n",
              "      <td>0.957595</td>\n",
              "      <td>0.964727</td>\n",
              "      <td>0.973453</td>\n",
              "      <td>0.962681</td>\n",
              "    </tr>\n",
              "    <tr>\n",
              "      <th>75%</th>\n",
              "      <td>1.283099</td>\n",
              "      <td>1.290781</td>\n",
              "      <td>1.292789</td>\n",
              "      <td>1.290491</td>\n",
              "      <td>1.286997</td>\n",
              "      <td>1.308504</td>\n",
              "      <td>1.271807</td>\n",
              "      <td>1.275888</td>\n",
              "      <td>1.308142</td>\n",
              "    </tr>\n",
              "    <tr>\n",
              "      <th>max</th>\n",
              "      <td>3.322768</td>\n",
              "      <td>3.252745</td>\n",
              "      <td>3.247880</td>\n",
              "      <td>3.094283</td>\n",
              "      <td>2.929679</td>\n",
              "      <td>2.975124</td>\n",
              "      <td>3.157912</td>\n",
              "      <td>2.918233</td>\n",
              "      <td>3.041655</td>\n",
              "    </tr>\n",
              "  </tbody>\n",
              "</table>\n",
              "</div>\n",
              "      <button class=\"colab-df-convert\" onclick=\"convertToInteractive('df-c32c1f03-3431-46d4-bfa1-0227105c6c05')\"\n",
              "              title=\"Convert this dataframe to an interactive table.\"\n",
              "              style=\"display:none;\">\n",
              "        \n",
              "  <svg xmlns=\"http://www.w3.org/2000/svg\" height=\"24px\"viewBox=\"0 0 24 24\"\n",
              "       width=\"24px\">\n",
              "    <path d=\"M0 0h24v24H0V0z\" fill=\"none\"/>\n",
              "    <path d=\"M18.56 5.44l.94 2.06.94-2.06 2.06-.94-2.06-.94-.94-2.06-.94 2.06-2.06.94zm-11 1L8.5 8.5l.94-2.06 2.06-.94-2.06-.94L8.5 2.5l-.94 2.06-2.06.94zm10 10l.94 2.06.94-2.06 2.06-.94-2.06-.94-.94-2.06-.94 2.06-2.06.94z\"/><path d=\"M17.41 7.96l-1.37-1.37c-.4-.4-.92-.59-1.43-.59-.52 0-1.04.2-1.43.59L10.3 9.45l-7.72 7.72c-.78.78-.78 2.05 0 2.83L4 21.41c.39.39.9.59 1.41.59.51 0 1.02-.2 1.41-.59l7.78-7.78 2.81-2.81c.8-.78.8-2.07 0-2.86zM5.41 20L4 18.59l7.72-7.72 1.47 1.35L5.41 20z\"/>\n",
              "  </svg>\n",
              "      </button>\n",
              "      \n",
              "  <style>\n",
              "    .colab-df-container {\n",
              "      display:flex;\n",
              "      flex-wrap:wrap;\n",
              "      gap: 12px;\n",
              "    }\n",
              "\n",
              "    .colab-df-convert {\n",
              "      background-color: #E8F0FE;\n",
              "      border: none;\n",
              "      border-radius: 50%;\n",
              "      cursor: pointer;\n",
              "      display: none;\n",
              "      fill: #1967D2;\n",
              "      height: 32px;\n",
              "      padding: 0 0 0 0;\n",
              "      width: 32px;\n",
              "    }\n",
              "\n",
              "    .colab-df-convert:hover {\n",
              "      background-color: #E2EBFA;\n",
              "      box-shadow: 0px 1px 2px rgba(60, 64, 67, 0.3), 0px 1px 3px 1px rgba(60, 64, 67, 0.15);\n",
              "      fill: #174EA6;\n",
              "    }\n",
              "\n",
              "    [theme=dark] .colab-df-convert {\n",
              "      background-color: #3B4455;\n",
              "      fill: #D2E3FC;\n",
              "    }\n",
              "\n",
              "    [theme=dark] .colab-df-convert:hover {\n",
              "      background-color: #434B5C;\n",
              "      box-shadow: 0px 1px 3px 1px rgba(0, 0, 0, 0.15);\n",
              "      filter: drop-shadow(0px 1px 2px rgba(0, 0, 0, 0.3));\n",
              "      fill: #FFFFFF;\n",
              "    }\n",
              "  </style>\n",
              "\n",
              "      <script>\n",
              "        const buttonEl =\n",
              "          document.querySelector('#df-c32c1f03-3431-46d4-bfa1-0227105c6c05 button.colab-df-convert');\n",
              "        buttonEl.style.display =\n",
              "          google.colab.kernel.accessAllowed ? 'block' : 'none';\n",
              "\n",
              "        async function convertToInteractive(key) {\n",
              "          const element = document.querySelector('#df-c32c1f03-3431-46d4-bfa1-0227105c6c05');\n",
              "          const dataTable =\n",
              "            await google.colab.kernel.invokeFunction('convertToInteractive',\n",
              "                                                     [key], {});\n",
              "          if (!dataTable) return;\n",
              "\n",
              "          const docLinkHtml = 'Like what you see? Visit the ' +\n",
              "            '<a target=\"_blank\" href=https://colab.research.google.com/notebooks/data_table.ipynb>data table notebook</a>'\n",
              "            + ' to learn more about interactive tables.';\n",
              "          element.innerHTML = '';\n",
              "          dataTable['output_type'] = 'display_data';\n",
              "          await google.colab.output.renderOutput(dataTable, element);\n",
              "          const docLink = document.createElement('div');\n",
              "          docLink.innerHTML = docLinkHtml;\n",
              "          element.appendChild(docLink);\n",
              "        }\n",
              "      </script>\n",
              "    </div>\n",
              "  </div>\n",
              "  "
            ]
          },
          "metadata": {}
        }
      ]
    },
    {
      "cell_type": "code",
      "source": [
        "np.power(10,pathAB_dB['AP1']/20)"
      ],
      "metadata": {
        "colab": {
          "base_uri": "https://localhost:8080/"
        },
        "id": "qV-nXecKxQ-m",
        "outputId": "dff95274-d955-4083-d2ce-b08765ecc25f"
      },
      "execution_count": 3,
      "outputs": [
        {
          "output_type": "execute_result",
          "data": {
            "text/plain": [
              "0        1.000000\n",
              "1        0.997478\n",
              "2        1.009660\n",
              "3        1.006576\n",
              "4        0.994963\n",
              "           ...   \n",
              "10692    1.071257\n",
              "10693    1.104048\n",
              "10694    1.053684\n",
              "10695    1.022874\n",
              "10696    1.000000\n",
              "Name: AP1, Length: 10697, dtype: float64"
            ]
          },
          "metadata": {},
          "execution_count": 3
        }
      ]
    },
    {
      "cell_type": "code",
      "source": [
        "pathAB_linear['AP1']"
      ],
      "metadata": {
        "colab": {
          "base_uri": "https://localhost:8080/"
        },
        "id": "igCV8mH6347p",
        "outputId": "c852aef5-bfa3-4881-dc89-9c45daab972a"
      },
      "execution_count": 4,
      "outputs": [
        {
          "output_type": "execute_result",
          "data": {
            "text/plain": [
              "0        1.000000\n",
              "1        0.997478\n",
              "2        1.009660\n",
              "3        1.006576\n",
              "4        0.994963\n",
              "           ...   \n",
              "10692    1.071257\n",
              "10693    1.104048\n",
              "10694    1.053684\n",
              "10695    1.022874\n",
              "10696    1.000000\n",
              "Name: AP1, Length: 10697, dtype: float64"
            ]
          },
          "metadata": {},
          "execution_count": 4
        }
      ]
    },
    {
      "cell_type": "code",
      "source": [
        "print(mat_8['ssf_t_12_linear'])"
      ],
      "metadata": {
        "colab": {
          "base_uri": "https://localhost:8080/"
        },
        "id": "cZMLPex_C-E-",
        "outputId": "d9ebfeba-a731-40b3-dd29-8ca54ef88593"
      },
      "execution_count": 28,
      "outputs": [
        {
          "output_type": "stream",
          "name": "stdout",
          "text": [
            "[1.         0.99747842 1.00965953 ... 1.05368454 1.02287336 1.        ]\n"
          ]
        }
      ]
    },
    {
      "cell_type": "code",
      "source": [
        "### PARAMETERS\n",
        "nMaxGen = 50\n",
        "nPopulation = 1000\n",
        "savePlots = True\n",
        "showPlots = False\n",
        "fitnessType = 'MSE'\n",
        "nExtractedSamples = 81"
      ],
      "metadata": {
        "id": "f6Fu61I-Pu8f"
      },
      "execution_count": 5,
      "outputs": []
    },
    {
      "cell_type": "code",
      "source": [
        "## Auxiliary Methods\n",
        "\n",
        "def getDensityEstimationSamples(linear_data, nExtractedSamples):\n",
        "  '''\n",
        "  Extracted KDE uniformly spaced samples from the data.\n",
        "  '''\n",
        "  Xdata = np.linspace(min(linear_data), max(linear_data), nExtractedSamples)\n",
        "\n",
        "  kde = KernelDensity(kernel='gaussian', bandwidth=0.05).fit(linear_data.values.reshape(-1, 1))\n",
        "  Vecpoints = np.linspace(linear_data.min(), linear_data.max(), nExtractedSamples).reshape(-1, 1)\n",
        "  logkde = kde.score_samples(Vecpoints)\n",
        "\n",
        "  plt.figure(figsize=(10,7))\n",
        "  plt.scatter(20*np.log10(Vecpoints), np.exp(logkde),c='magenta')\n",
        "  plt.ylabel('Density')\n",
        "  plt.xlabel('dB')\n",
        "  plt.grid()\n",
        "  plt.show()\n",
        "  return Vecpoints, np.exp(logkde)\n",
        "\n",
        "def computePDF(r, kappa, mu, omega):\n",
        "  '''\n",
        "  kappa-mu pdf.\n",
        "  '''\n",
        "\n",
        "  A = (2*mu * ((1 + kappa)**((mu+1)/2))) \\\n",
        "          /(np.sqrt(omega) * (kappa**((mu-1)/2)) * np.exp(mu * kappa))\n",
        "          # /((kappa**((mu - 1)/2)) * np.exp(mu * kappa))\n",
        "  # R = r / r_hat\n",
        "  B = (r / np.sqrt(omega))**(mu)\n",
        "  # B = (R**mu) * np.exp(- mu*(1 + kappa)*(R**2))\n",
        "  C = np.exp(-mu*(1+kappa) * (r/np.sqrt(omega))**2)\n",
        "  # C = sp.iv(mu - 1, 2*mu * R * np.sqrt(kappa*(1 + kappa)))\n",
        "  D = sp.iv(mu-1, 2*mu * np.sqrt(kappa * (1+kappa)) * (r/np.sqrt(omega)))\n",
        "\n",
        "  pdf = A * B * C * D\n",
        "  return pdf\n",
        "\n",
        "def kldiv(pVec1, pVec2):\n",
        "  '''\n",
        "  Kullback-Leibler divergence.\n",
        "  '''\n",
        "  KL = np.sum(pVec1*(np.log2(pVec1)-np.log2(pVec2)))\n",
        "  return KL\n",
        "\n",
        "def RAD(kldiv1, kldiv2):\n",
        "  '''\n",
        "  Resistor-Average Distance.\n",
        "  '''\n",
        "  RAD = 1/(1/kldiv1+1/kldiv2)\n",
        "  return RAD\n",
        "\n",
        "def fitness(fitnessType, kappa, mu, omega):\n",
        "  '''\n",
        "  Fitness function (MSE/RAD) to determine how good a given solution is.\n",
        "  '''\n",
        "  global X\n",
        "  global Y\n",
        "\n",
        "  if fitnessType == 'MSE':\n",
        "    y_pred = computePDF(X, kappa, mu, omega)\n",
        "    n = len(Y)\n",
        "    cost = 1/n * sum(val**2 for val in (Y-y_pred))\n",
        "    return 1/cost\n",
        "  elif fitnessType == 'RAD':\n",
        "    pVec1 = Y/np.sum(Y)\n",
        "    pVec2 = computePDF(X, kappa, mu, omega)/np.sum(computePDF(X, kappa, mu, omega))\n",
        "    KLD_1 = kldiv(pVec1, pVec2)\n",
        "    KLD_2 = kldiv(pVec2, pVec1)\n",
        "    cost = RAD(KLD_1, KLD_2)\n",
        "    return 1/cost\n",
        "\n",
        "def geneticAlgorithm(X, Y):\n",
        "  '''\n",
        "  Evolutionary Loop\n",
        "  '''\n",
        "  solutions = []\n",
        "  bestParams = []\n",
        "  bestCriteria = 0\n",
        "  bestGen = 0\n",
        "\n",
        "\n",
        "  # Generate solutions (chromossomes)\n",
        "  for s in range(nPopulation):\n",
        "    solutions.append((random.uniform(0.1, 100), # kappa\n",
        "                        random.uniform(0.1, 1.0), # mu\n",
        "                        random.uniform(0.1, 2))) # r_hat^2\n",
        "\n",
        "  # Evolutionary Loop\n",
        "  for i in range(nMaxGen):\n",
        "    rankedSolutions = []\t\n",
        "    for s in solutions:\n",
        "      rankedSolutions.append( (fitness(fitnessType, s[0],s[1],s[2]), s) )\n",
        "    rankedSolutions.sort()\n",
        "    rankedSolutions.reverse()\n",
        "    \n",
        "    print(f'=== Generation: {i} === ')\n",
        "    print(f'Fitness: {rankedSolutions[0][0]}')\n",
        "    print('Best individual:')\n",
        "    print(f'Kappa: {rankedSolutions[0][1][0]}')\n",
        "    print(f'Mu: {rankedSolutions[0][1][1]}')\n",
        "    print(f'Omega: {rankedSolutions[0][1][2]}\\n')\n",
        "\n",
        "    plt.figure(figsize=((10,7)))\n",
        "    plt.plot(20*np.log10(X), computePDF(X, rankedSolutions[0][1][0], rankedSolutions[0][1][1], rankedSolutions[0][1][2]), label='Predicted')\n",
        "    plt.scatter(20*np.log10(X), Y, color='m', label='Real')\n",
        "    plt.plot(20*np.log10(X), computePDF(X, 60.0747320167390, 0.100000000000035, 1.09085912951657), label='Nidhi\\'s MLE')\n",
        "    plt.title(f'=== Generation: {i} === ')\n",
        "    plt.legend()\n",
        "    plt.grid(True)\n",
        "    plt.xlabel(r'$\\rho=r/\\hat{r}$')\n",
        "    plt.ylabel('pdf')\n",
        "    if savePlots: \n",
        "      plt.savefig(f'plots/gen/gen_{i}.png')\n",
        "    \n",
        "    if showPlots:\n",
        "      plt.show()\n",
        "      plt.clf()\n",
        "    else: \n",
        "      plt.clf()\n",
        "\n",
        "    # Keeping track the best params and generation:\n",
        "    if rankedSolutions[0][0] > bestCriteria:\n",
        "      bestCriteria = rankedSolutions[0][0]\n",
        "      bestGen = i\n",
        "      bestParams = rankedSolutions[0][1]\n",
        "\n",
        "    # Stop Criterion: Fitness > 150 (TRIAL AND ERROR)\n",
        "    # if rankedSolutions[0][0] > 152.8:\n",
        "    #   print('='*10+'\\n'+'Stopped by fitness criteria!\\n'+'='*10+'\\n')\n",
        "    #   # print('='*10)\n",
        "    #   # print('Stopped by fitness criteria!')\n",
        "    #   # print('='*10)\n",
        "    #   print('Best Fitness: {}\\nBest Gen: {}'.format(bestCriteria, bestGen))\n",
        "    #   print('Kappa: {}\\nMu: {}\\nOmega: {}'.format(bestParams[0],bestParams[1],bestParams[2]))\n",
        "    #   break\n",
        "\n",
        "    # Combine the best solutions and make a new solution of those combined solutions\n",
        "    bestSolutions = rankedSolutions[:100]\n",
        "    elements_kappa = []\n",
        "    elements_mu = []\n",
        "    elements_omega = [] \n",
        "    for s in bestSolutions:\n",
        "      elements_kappa.append(s[1][0])\n",
        "      elements_mu.append(s[1][1])\n",
        "      elements_omega.append(s[1][2])\n",
        "\n",
        "    newGen = []\n",
        "    for _ in range(nPopulation):\n",
        "      e1 = random.choice(elements_kappa) * random.uniform(0.975,1.025) # Mutation of 5%\n",
        "      e2 = random.choice(elements_mu) * random.uniform(0.975,1.025) # Mutation of 5%\n",
        "      e3 = random.choice(elements_omega) * random.uniform(0.975,1.025) # Mutation of 5%\n",
        "      newGen.append((e1,e2,e3))\n",
        "\n",
        "    solutions = newGen\n",
        "    \n",
        "    if i == nMaxGen-1:\n",
        "      print('='*10+'\\n'+'Max number of generations exceeded!\\n'+'='*10+'\\n')\n",
        "      # print()\n",
        "      # print('='*10)\n",
        "      print('Best Fitness: {}\\nBest Gen: {}'.format(bestCriteria, bestGen))\n",
        "      print('Kappa: {}\\nMu: {}\\nOmega: {}'.format(bestParams[0],bestParams[1],bestParams[2]))\n",
        "\n",
        "      return bestParams[0],bestParams[1],bestParams[2]"
      ],
      "metadata": {
        "id": "DnClOqg45tHI"
      },
      "execution_count": 154,
      "outputs": []
    },
    {
      "cell_type": "code",
      "source": [
        "X, Y = getDensityEstimationSamples(pathAB_linear['AP1'].dropna(), nExtractedSamples)"
      ],
      "metadata": {
        "colab": {
          "base_uri": "https://localhost:8080/",
          "height": 442
        },
        "id": "TqhZvKZsP5cF",
        "outputId": "cd9d4bc5-9cb6-410b-9bfe-c7a1da33350f"
      },
      "execution_count": 7,
      "outputs": [
        {
          "output_type": "display_data",
          "data": {
            "text/plain": [
              "<Figure size 720x504 with 1 Axes>"
            ],
            "image/png": "[encoded data removed]"
          },
          "metadata": {
            "needs_background": "light"
          }
        }
      ]
    },
    {
      "cell_type": "code",
      "source": [
        "plt.figure(figsize=(10,7))\n",
        "plt.plot(20*np.log10(X),computePDF(X, 60.0747320167390, 0.100000000000035, 1.09085912951657),'r') # Nidhi's MLE result\n",
        "plt.title('Comparison - Nidhi\\'s AP1 result')\n",
        "plt.scatter(20*np.log10(X),Y) # True samples\n",
        "plt.grid()\n",
        "plt.xlabel('dB')\n",
        "plt.ylabel('Density')\n",
        "plt.show()"
      ],
      "metadata": {
        "colab": {
          "base_uri": "https://localhost:8080/",
          "height": 458
        },
        "id": "AHa-3cuSIou4",
        "outputId": "a3cc819b-5639-469c-831e-20b45cecd0d0"
      },
      "execution_count": 8,
      "outputs": [
        {
          "output_type": "display_data",
          "data": {
            "text/plain": [
              "<Figure size 720x504 with 1 Axes>"
            ],
            "image/png": "[encoded data removed]"
          },
          "metadata": {
            "needs_background": "light"
          }
        }
      ]
    },
    {
      "cell_type": "markdown",
      "source": [
        "## AP 1 - Fitness: MSE"
      ],
      "metadata": {
        "id": "HfU73OFiWMry"
      }
    },
    {
      "cell_type": "code",
      "source": [
        "kappa_hat, mu_hat, omega_hat = geneticAlgorithm(X,Y)"
      ],
      "metadata": {
        "colab": {
          "base_uri": "https://localhost:8080/",
          "height": 1000
        },
        "id": "I2gmkuWJIprN",
        "outputId": "993a6f01-1301-4ab1-f671-2dac706686c0"
      },
      "execution_count": 9,
      "outputs": [
        {
          "output_type": "stream",
          "name": "stderr",
          "text": [
            "/usr/local/lib/python3.7/dist-packages/ipykernel_launcher.py:35: RuntimeWarning: invalid value encountered in multiply\n"
          ]
        },
        {
          "output_type": "stream",
          "name": "stdout",
          "text": [
            "=== Generation: 0 === \n",
            "Fitness: nan\n",
            "Best individual:\n",
            "Kappa: 93.58349573487794\n",
            "Mu: 0.876572149363814\n",
            "Omega: 0.1308206742835776\n",
            "\n"
          ]
        },
        {
          "output_type": "stream",
          "name": "stderr",
          "text": [
            "/usr/local/lib/python3.7/dist-packages/ipykernel_launcher.py:35: RuntimeWarning: invalid value encountered in multiply\n"
          ]
        },
        {
          "output_type": "stream",
          "name": "stdout",
          "text": [
            "=== Generation: 1 === \n",
            "Fitness: 148.60933674373493\n",
            "Best individual:\n",
            "Kappa: 39.76525784478793\n",
            "Mu: 0.14389528402183469\n",
            "Omega: 1.1062264030846134\n",
            "\n",
            "=== Generation: 2 === \n",
            "Fitness: 151.95891128321094\n",
            "Best individual:\n",
            "Kappa: 48.95143509552673\n",
            "Mu: 0.12565227857743363\n",
            "Omega: 1.0875537575309564\n",
            "\n",
            "=== Generation: 3 === \n",
            "Fitness: 152.01134968548197\n",
            "Best individual:\n",
            "Kappa: 23.827280303738984\n",
            "Mu: 0.24086383349849813\n",
            "Omega: 1.085836153186672\n",
            "\n",
            "=== Generation: 4 === \n",
            "Fitness: 152.409713564729\n",
            "Best individual:\n",
            "Kappa: 28.61425822768476\n",
            "Mu: 0.20602701212236613\n",
            "Omega: 1.0866224227908126\n",
            "\n",
            "=== Generation: 5 === \n",
            "Fitness: 152.42557051683698\n",
            "Best individual:\n",
            "Kappa: 22.90635018601426\n",
            "Mu: 0.25132436417042847\n",
            "Omega: 1.0943753756675838\n",
            "\n",
            "=== Generation: 6 === \n",
            "Fitness: 152.54223047082908\n",
            "Best individual:\n",
            "Kappa: 24.797156173369995\n",
            "Mu: 0.23238144585233225\n",
            "Omega: 1.0908871319023585\n",
            "\n",
            "=== Generation: 7 === \n",
            "Fitness: 152.51884288995996\n",
            "Best individual:\n",
            "Kappa: 23.371903998767277\n",
            "Mu: 0.24747684742751988\n",
            "Omega: 1.0916603409251897\n",
            "\n",
            "=== Generation: 8 === \n",
            "Fitness: 152.4691391207411\n",
            "Best individual:\n",
            "Kappa: 22.75266483662213\n",
            "Mu: 0.25420829073454954\n",
            "Omega: 1.0921761166272996\n",
            "\n",
            "=== Generation: 9 === \n",
            "Fitness: 152.4770829285305\n",
            "Best individual:\n",
            "Kappa: 23.09359923889448\n",
            "Mu: 0.24926832833510998\n",
            "Omega: 1.091970329545896\n",
            "\n",
            "=== Generation: 10 === \n",
            "Fitness: 152.5158200121037\n",
            "Best individual:\n",
            "Kappa: 23.72817311514078\n",
            "Mu: 0.24507544919528712\n",
            "Omega: 1.0936347540006122\n",
            "\n",
            "=== Generation: 11 === \n",
            "Fitness: 152.52427996532523\n",
            "Best individual:\n",
            "Kappa: 23.493323775509904\n",
            "Mu: 0.24688578361864943\n",
            "Omega: 1.093152600561843\n",
            "\n",
            "=== Generation: 12 === \n",
            "Fitness: 152.53063948526457\n",
            "Best individual:\n",
            "Kappa: 24.026186243300362\n",
            "Mu: 0.24134067139783144\n",
            "Omega: 1.0904128230593644\n",
            "\n",
            "=== Generation: 13 === \n",
            "Fitness: 152.54159535824562\n",
            "Best individual:\n",
            "Kappa: 24.089478583070314\n",
            "Mu: 0.24120805150501085\n",
            "Omega: 1.090866038385063\n",
            "\n",
            "=== Generation: 14 === \n",
            "Fitness: 152.5584015333529\n",
            "Best individual:\n",
            "Kappa: 23.785536307417956\n",
            "Mu: 0.24353257775587733\n",
            "Omega: 1.0921826199990554\n",
            "\n",
            "=== Generation: 15 === \n",
            "Fitness: 152.57576108933196\n",
            "Best individual:\n",
            "Kappa: 24.16046548356945\n",
            "Mu: 0.23936670586166345\n",
            "Omega: 1.0929916245363605\n",
            "\n",
            "=== Generation: 16 === \n",
            "Fitness: 152.54013932616508\n",
            "Best individual:\n",
            "Kappa: 24.51864999755137\n",
            "Mu: 0.23795146703956047\n",
            "Omega: 1.091048297510529\n",
            "\n",
            "=== Generation: 17 === \n",
            "Fitness: 152.56103286742967\n",
            "Best individual:\n",
            "Kappa: 24.07209431797057\n",
            "Mu: 0.2407175410001753\n",
            "Omega: 1.0937596715354398\n",
            "\n",
            "=== Generation: 18 === \n",
            "Fitness: 152.57345749137897\n",
            "Best individual:\n",
            "Kappa: 24.020313375829957\n",
            "Mu: 0.24151217522781734\n",
            "Omega: 1.0928770583834093\n",
            "\n",
            "=== Generation: 19 === \n",
            "Fitness: 152.57048063616224\n",
            "Best individual:\n",
            "Kappa: 24.058082187086708\n",
            "Mu: 0.24141638773687138\n",
            "Omega: 1.0920677341337357\n",
            "\n",
            "=== Generation: 20 === \n",
            "Fitness: 152.5961977378398\n",
            "Best individual:\n",
            "Kappa: 24.31063337631168\n",
            "Mu: 0.2382936275622506\n",
            "Omega: 1.091912503357685\n",
            "\n",
            "=== Generation: 21 === \n",
            "Fitness: 152.55834090513503\n",
            "Best individual:\n",
            "Kappa: 23.845339988562582\n",
            "Mu: 0.2432038794886473\n",
            "Omega: 1.0930184137740522\n",
            "\n",
            "=== Generation: 22 === \n",
            "Fitness: 152.57949969669394\n",
            "Best individual:\n",
            "Kappa: 24.228467847221097\n",
            "Mu: 0.23861060820411922\n",
            "Omega: 1.0927859096171149\n",
            "\n",
            "=== Generation: 23 === \n",
            "Fitness: 152.58921945650948\n",
            "Best individual:\n",
            "Kappa: 24.21993280677776\n",
            "Mu: 0.23960301250310456\n",
            "Omega: 1.0928354271514231\n",
            "\n",
            "=== Generation: 24 === \n",
            "Fitness: 152.57903370294773\n",
            "Best individual:\n",
            "Kappa: 24.223442600850042\n",
            "Mu: 0.23967324776122859\n",
            "Omega: 1.0934287756128085\n",
            "\n",
            "=== Generation: 25 === \n",
            "Fitness: 152.57565477895432\n",
            "Best individual:\n",
            "Kappa: 24.240917067325427\n",
            "Mu: 0.23887636041877944\n",
            "Omega: 1.091125455863598\n",
            "\n",
            "=== Generation: 26 === \n",
            "Fitness: 152.5553504688706\n",
            "Best individual:\n",
            "Kappa: 24.026872533179894\n",
            "Mu: 0.24064296771290516\n",
            "Omega: 1.0911273577719336\n",
            "\n",
            "=== Generation: 27 === \n",
            "Fitness: 152.56998014278972\n",
            "Best individual:\n",
            "Kappa: 24.382824921656507\n",
            "Mu: 0.2390045102985597\n",
            "Omega: 1.0926241595972888\n",
            "\n",
            "=== Generation: 28 === \n",
            "Fitness: 152.58634284705778\n",
            "Best individual:\n",
            "Kappa: 24.20874401059651\n",
            "Mu: 0.23980015911602304\n",
            "Omega: 1.0929152953560386\n",
            "\n",
            "=== Generation: 29 === \n",
            "Fitness: 152.56019191470705\n",
            "Best individual:\n",
            "Kappa: 24.5378401529549\n",
            "Mu: 0.23557017233925348\n",
            "Omega: 1.0903926344549453\n",
            "\n",
            "=== Generation: 30 === \n",
            "Fitness: 152.55640040592485\n",
            "Best individual:\n",
            "Kappa: 24.182875412671045\n",
            "Mu: 0.24075609116482902\n",
            "Omega: 1.0932361364177352\n",
            "\n",
            "=== Generation: 31 === \n",
            "Fitness: 152.57972680462927\n",
            "Best individual:\n",
            "Kappa: 24.555323349169328\n",
            "Mu: 0.23745231302030712\n",
            "Omega: 1.0922492796040375\n",
            "\n",
            "=== Generation: 32 === \n",
            "Fitness: 152.5784340142349\n",
            "Best individual:\n",
            "Kappa: 24.37711304855174\n",
            "Mu: 0.23762359120412874\n",
            "Omega: 1.0937989942257442\n",
            "\n",
            "=== Generation: 33 === \n",
            "Fitness: 152.58794305509662\n",
            "Best individual:\n",
            "Kappa: 24.379316794269375\n",
            "Mu: 0.23707135454761213\n",
            "Omega: 1.0923371338785581\n",
            "\n",
            "=== Generation: 34 === \n",
            "Fitness: 152.5547591825372\n",
            "Best individual:\n",
            "Kappa: 24.681420843428892\n",
            "Mu: 0.23529451444105431\n",
            "Omega: 1.0948981463670726\n",
            "\n",
            "=== Generation: 35 === \n",
            "Fitness: 152.62223175838923\n",
            "Best individual:\n",
            "Kappa: 24.690358364675088\n",
            "Mu: 0.23513015013737137\n",
            "Omega: 1.0930218330519017\n",
            "\n",
            "=== Generation: 36 === \n",
            "Fitness: 152.58122491106232\n",
            "Best individual:\n",
            "Kappa: 24.15821038205271\n",
            "Mu: 0.23991992625472675\n",
            "Omega: 1.091623466251629\n",
            "\n",
            "=== Generation: 37 === \n",
            "Fitness: 152.5620682348561\n",
            "Best individual:\n",
            "Kappa: 23.88480832442516\n",
            "Mu: 0.24206140340198273\n",
            "Omega: 1.0922268786305709\n",
            "\n",
            "=== Generation: 38 === \n",
            "Fitness: 152.59474790918688\n",
            "Best individual:\n",
            "Kappa: 24.332503617353158\n",
            "Mu: 0.23871063748824156\n",
            "Omega: 1.0928837651431536\n",
            "\n",
            "=== Generation: 39 === \n",
            "Fitness: 152.62835059579822\n",
            "Best individual:\n",
            "Kappa: 24.766036326398112\n",
            "Mu: 0.234699335266967\n",
            "Omega: 1.0920272163759888\n",
            "\n",
            "=== Generation: 40 === \n",
            "Fitness: 152.59672538133205\n",
            "Best individual:\n",
            "Kappa: 24.282288979785267\n",
            "Mu: 0.23884905055931505\n",
            "Omega: 1.0922038041073125\n",
            "\n",
            "=== Generation: 41 === \n",
            "Fitness: 152.60754927120783\n",
            "Best individual:\n",
            "Kappa: 24.42021086642732\n",
            "Mu: 0.23745406344679829\n",
            "Omega: 1.0923680238878861\n",
            "\n",
            "=== Generation: 42 === \n",
            "Fitness: 152.63309396243667\n",
            "Best individual:\n",
            "Kappa: 24.799727377275808\n",
            "Mu: 0.23379344074714628\n",
            "Omega: 1.0922202091018298\n",
            "\n",
            "=== Generation: 43 === \n",
            "Fitness: 152.5917577866811\n",
            "Best individual:\n",
            "Kappa: 24.49795731059738\n",
            "Mu: 0.23588161096913257\n",
            "Omega: 1.0923535995358515\n",
            "\n",
            "=== Generation: 44 === \n",
            "Fitness: 152.6216683451529\n",
            "Best individual:\n",
            "Kappa: 24.878144045152176\n",
            "Mu: 0.23256028749527977\n",
            "Omega: 1.0918361819513138\n",
            "\n",
            "=== Generation: 45 === \n",
            "Fitness: 152.60330357923112\n",
            "Best individual:\n",
            "Kappa: 24.480285069611476\n",
            "Mu: 0.23747164807142404\n",
            "Omega: 1.0928362228589585\n",
            "\n",
            "=== Generation: 46 === \n",
            "Fitness: 152.61371816865952\n",
            "Best individual:\n",
            "Kappa: 24.5035184849455\n",
            "Mu: 0.23671851972847474\n",
            "Omega: 1.092351849431702\n",
            "\n",
            "=== Generation: 47 === \n",
            "Fitness: 152.58753659939094\n",
            "Best individual:\n",
            "Kappa: 24.469222980955617\n",
            "Mu: 0.23792262778110057\n",
            "Omega: 1.0931115753617566\n",
            "\n",
            "=== Generation: 48 === \n",
            "Fitness: 152.6357013182895\n",
            "Best individual:\n",
            "Kappa: 24.91306037986116\n",
            "Mu: 0.23353308248575336\n",
            "Omega: 1.0920201105675933\n",
            "\n",
            "=== Generation: 49 === \n",
            "Fitness: 152.6079699891255\n",
            "Best individual:\n",
            "Kappa: 24.735344810235794\n",
            "Mu: 0.23509476287724435\n",
            "Omega: 1.0911850709665314\n",
            "\n",
            "==========\n",
            "Max number of generations exceeded!\n",
            "==========\n",
            "\n",
            "Best Fitness: 152.6357013182895\n",
            "Best Gen: 48\n",
            "Kappa: 24.91306037986116\n",
            "Mu: 0.23353308248575336\n",
            "Omega: 1.0920201105675933\n"
          ]
        },
        {
          "output_type": "display_data",
          "data": {
            "text/plain": [
              "<Figure size 720x504 with 0 Axes>"
            ]
          },
          "metadata": {}
        },
        {
          "output_type": "display_data",
          "data": {
            "text/plain": [
              "<Figure size 720x504 with 0 Axes>"
            ]
          },
          "metadata": {}
        },
        {
          "output_type": "display_data",
          "data": {
            "text/plain": [
              "<Figure size 720x504 with 0 Axes>"
            ]
          },
          "metadata": {}
        },
        {
          "output_type": "display_data",
          "data": {
            "text/plain": [
              "<Figure size 720x504 with 0 Axes>"
            ]
          },
          "metadata": {}
        },
        {
          "output_type": "display_data",
          "data": {
            "text/plain": [
              "<Figure size 720x504 with 0 Axes>"
            ]
          },
          "metadata": {}
        },
        {
          "output_type": "display_data",
          "data": {
            "text/plain": [
              "<Figure size 720x504 with 0 Axes>"
            ]
          },
          "metadata": {}
        },
        {
          "output_type": "display_data",
          "data": {
            "text/plain": [
              "<Figure size 720x504 with 0 Axes>"
            ]
          },
          "metadata": {}
        },
        {
          "output_type": "display_data",
          "data": {
            "text/plain": [
              "<Figure size 720x504 with 0 Axes>"
            ]
          },
          "metadata": {}
        },
        {
          "output_type": "display_data",
          "data": {
            "text/plain": [
              "<Figure size 720x504 with 0 Axes>"
            ]
          },
          "metadata": {}
        },
        {
          "output_type": "display_data",
          "data": {
            "text/plain": [
              "<Figure size 720x504 with 0 Axes>"
            ]
          },
          "metadata": {}
        },
        {
          "output_type": "display_data",
          "data": {
            "text/plain": [
              "<Figure size 720x504 with 0 Axes>"
            ]
          },
          "metadata": {}
        },
        {
          "output_type": "display_data",
          "data": {
            "text/plain": [
              "<Figure size 720x504 with 0 Axes>"
            ]
          },
          "metadata": {}
        },
        {
          "output_type": "display_data",
          "data": {
            "text/plain": [
              "<Figure size 720x504 with 0 Axes>"
            ]
          },
          "metadata": {}
        },
        {
          "output_type": "display_data",
          "data": {
            "text/plain": [
              "<Figure size 720x504 with 0 Axes>"
            ]
          },
          "metadata": {}
        },
        {
          "output_type": "display_data",
          "data": {
            "text/plain": [
              "<Figure size 720x504 with 0 Axes>"
            ]
          },
          "metadata": {}
        },
        {
          "output_type": "display_data",
          "data": {
            "text/plain": [
              "<Figure size 720x504 with 0 Axes>"
            ]
          },
          "metadata": {}
        },
        {
          "output_type": "display_data",
          "data": {
            "text/plain": [
              "<Figure size 720x504 with 0 Axes>"
            ]
          },
          "metadata": {}
        },
        {
          "output_type": "display_data",
          "data": {
            "text/plain": [
              "<Figure size 720x504 with 0 Axes>"
            ]
          },
          "metadata": {}
        },
        {
          "output_type": "display_data",
          "data": {
            "text/plain": [
              "<Figure size 720x504 with 0 Axes>"
            ]
          },
          "metadata": {}
        },
        {
          "output_type": "display_data",
          "data": {
            "text/plain": [
              "<Figure size 720x504 with 0 Axes>"
            ]
          },
          "metadata": {}
        },
        {
          "output_type": "display_data",
          "data": {
            "text/plain": [
              "<Figure size 720x504 with 0 Axes>"
            ]
          },
          "metadata": {}
        },
        {
          "output_type": "display_data",
          "data": {
            "text/plain": [
              "<Figure size 720x504 with 0 Axes>"
            ]
          },
          "metadata": {}
        },
        {
          "output_type": "display_data",
          "data": {
            "text/plain": [
              "<Figure size 720x504 with 0 Axes>"
            ]
          },
          "metadata": {}
        },
        {
          "output_type": "display_data",
          "data": {
            "text/plain": [
              "<Figure size 720x504 with 0 Axes>"
            ]
          },
          "metadata": {}
        },
        {
          "output_type": "display_data",
          "data": {
            "text/plain": [
              "<Figure size 720x504 with 0 Axes>"
            ]
          },
          "metadata": {}
        },
        {
          "output_type": "display_data",
          "data": {
            "text/plain": [
              "<Figure size 720x504 with 0 Axes>"
            ]
          },
          "metadata": {}
        },
        {
          "output_type": "display_data",
          "data": {
            "text/plain": [
              "<Figure size 720x504 with 0 Axes>"
            ]
          },
          "metadata": {}
        },
        {
          "output_type": "display_data",
          "data": {
            "text/plain": [
              "<Figure size 720x504 with 0 Axes>"
            ]
          },
          "metadata": {}
        },
        {
          "output_type": "display_data",
          "data": {
            "text/plain": [
              "<Figure size 720x504 with 0 Axes>"
            ]
          },
          "metadata": {}
        },
        {
          "output_type": "display_data",
          "data": {
            "text/plain": [
              "<Figure size 720x504 with 0 Axes>"
            ]
          },
          "metadata": {}
        },
        {
          "output_type": "display_data",
          "data": {
            "text/plain": [
              "<Figure size 720x504 with 0 Axes>"
            ]
          },
          "metadata": {}
        },
        {
          "output_type": "display_data",
          "data": {
            "text/plain": [
              "<Figure size 720x504 with 0 Axes>"
            ]
          },
          "metadata": {}
        },
        {
          "output_type": "display_data",
          "data": {
            "text/plain": [
              "<Figure size 720x504 with 0 Axes>"
            ]
          },
          "metadata": {}
        },
        {
          "output_type": "display_data",
          "data": {
            "text/plain": [
              "<Figure size 720x504 with 0 Axes>"
            ]
          },
          "metadata": {}
        },
        {
          "output_type": "display_data",
          "data": {
            "text/plain": [
              "<Figure size 720x504 with 0 Axes>"
            ]
          },
          "metadata": {}
        },
        {
          "output_type": "display_data",
          "data": {
            "text/plain": [
              "<Figure size 720x504 with 0 Axes>"
            ]
          },
          "metadata": {}
        },
        {
          "output_type": "display_data",
          "data": {
            "text/plain": [
              "<Figure size 720x504 with 0 Axes>"
            ]
          },
          "metadata": {}
        },
        {
          "output_type": "display_data",
          "data": {
            "text/plain": [
              "<Figure size 720x504 with 0 Axes>"
            ]
          },
          "metadata": {}
        },
        {
          "output_type": "display_data",
          "data": {
            "text/plain": [
              "<Figure size 720x504 with 0 Axes>"
            ]
          },
          "metadata": {}
        },
        {
          "output_type": "display_data",
          "data": {
            "text/plain": [
              "<Figure size 720x504 with 0 Axes>"
            ]
          },
          "metadata": {}
        },
        {
          "output_type": "display_data",
          "data": {
            "text/plain": [
              "<Figure size 720x504 with 0 Axes>"
            ]
          },
          "metadata": {}
        },
        {
          "output_type": "display_data",
          "data": {
            "text/plain": [
              "<Figure size 720x504 with 0 Axes>"
            ]
          },
          "metadata": {}
        },
        {
          "output_type": "display_data",
          "data": {
            "text/plain": [
              "<Figure size 720x504 with 0 Axes>"
            ]
          },
          "metadata": {}
        },
        {
          "output_type": "display_data",
          "data": {
            "text/plain": [
              "<Figure size 720x504 with 0 Axes>"
            ]
          },
          "metadata": {}
        },
        {
          "output_type": "display_data",
          "data": {
            "text/plain": [
              "<Figure size 720x504 with 0 Axes>"
            ]
          },
          "metadata": {}
        },
        {
          "output_type": "display_data",
          "data": {
            "text/plain": [
              "<Figure size 720x504 with 0 Axes>"
            ]
          },
          "metadata": {}
        },
        {
          "output_type": "display_data",
          "data": {
            "text/plain": [
              "<Figure size 720x504 with 0 Axes>"
            ]
          },
          "metadata": {}
        },
        {
          "output_type": "display_data",
          "data": {
            "text/plain": [
              "<Figure size 720x504 with 0 Axes>"
            ]
          },
          "metadata": {}
        },
        {
          "output_type": "display_data",
          "data": {
            "text/plain": [
              "<Figure size 720x504 with 0 Axes>"
            ]
          },
          "metadata": {}
        },
        {
          "output_type": "display_data",
          "data": {
            "text/plain": [
              "<Figure size 720x504 with 0 Axes>"
            ]
          },
          "metadata": {}
        }
      ]
    },
    {
      "cell_type": "code",
      "source": [
        "pVec1 = Y/np.sum(Y)\n",
        "pVec2 = computePDF(X, kappa_hat, mu_hat, omega_hat)/np.sum(computePDF(X, kappa_hat, mu_hat, omega_hat))\n",
        "\n",
        "\n",
        "KLD_1 = kldiv(pVec1, pVec2)\n",
        "KLD_2 = kldiv(pVec2, pVec1)\n",
        "\n",
        "print('Genetic Algorithm - Resistor-Average Distance:',RAD(KLD_1, KLD_2))"
      ],
      "metadata": {
        "colab": {
          "base_uri": "https://localhost:8080/"
        },
        "id": "Kn2dNRBfLkCg",
        "outputId": "af27342d-98b0-418c-c87b-a805f68b3806"
      },
      "execution_count": 10,
      "outputs": [
        {
          "output_type": "stream",
          "name": "stdout",
          "text": [
            "Genetic Algorithm - Resistor-Average Distance: 0.023554531201711776\n"
          ]
        }
      ]
    },
    {
      "cell_type": "code",
      "source": [
        "pVec1 = Y/np.sum(Y)\n",
        "pVec2 = computePDF(X, 60.0747320167390, 0.100000000000035, 1.09085912951657)/np.sum(computePDF(X, 60.0747320167390, 0.100000000000035, 1.09085912951657))\n",
        "\n",
        "\n",
        "KLD_1 = kldiv(pVec1, pVec2)\n",
        "KLD_2 = kldiv(pVec2, pVec1)\n",
        "\n",
        "print('MLE - Resistor-Average Distance:',RAD(KLD_1, KLD_2))"
      ],
      "metadata": {
        "colab": {
          "base_uri": "https://localhost:8080/"
        },
        "id": "abyLBSEYNFXm",
        "outputId": "82729c40-82db-4196-ee6c-a303fd223cd8"
      },
      "execution_count": 11,
      "outputs": [
        {
          "output_type": "stream",
          "name": "stdout",
          "text": [
            "MLE - Resistor-Average Distance: 0.023563305647376357\n"
          ]
        }
      ]
    },
    {
      "cell_type": "code",
      "source": [
        "kappa_hat, mu_hat, omega_hat"
      ],
      "metadata": {
        "colab": {
          "base_uri": "https://localhost:8080/"
        },
        "id": "scQfWnJLNGT1",
        "outputId": "8df0e68a-05f5-4fa0-d95f-4ce5c0d69667"
      },
      "execution_count": 12,
      "outputs": [
        {
          "output_type": "execute_result",
          "data": {
            "text/plain": [
              "(24.91306037986116, 0.23353308248575336, 1.0920201105675933)"
            ]
          },
          "metadata": {},
          "execution_count": 12
        }
      ]
    },
    {
      "cell_type": "code",
      "source": [
        "plt.figure(figsize=((10,7)))\n",
        "plt.plot(20*np.log10(X), computePDF(X, kappa_hat, mu_hat, omega_hat), label='Predicted')\n",
        "plt.scatter(20*np.log10(X), Y, color='m', label='Real')\n",
        "plt.plot(20*np.log10(X), computePDF(X, 60.0747320167390, 0.100000000000035, 1.09085912951657), label='Nidhi\\'s MLE')\n",
        "plt.title(f'Best GA Fit')\n",
        "plt.legend()\n",
        "plt.grid(True)\n",
        "plt.xlabel(r'$dB$')\n",
        "plt.ylabel('pdf')\n",
        "plt.show()"
      ],
      "metadata": {
        "colab": {
          "base_uri": "https://localhost:8080/",
          "height": 460
        },
        "id": "jCqqv-RtNO7V",
        "outputId": "176506ad-2121-47d1-b2b8-5acf6c7555d6"
      },
      "execution_count": 13,
      "outputs": [
        {
          "output_type": "display_data",
          "data": {
            "text/plain": [
              "<Figure size 720x504 with 1 Axes>"
            ],
            "image/png": "[encoded data removed]"
          },
          "metadata": {
            "needs_background": "light"
          }
        }
      ]
    },
    {
      "cell_type": "markdown",
      "source": [
        "## AP 1 - Fitness: RAD"
      ],
      "metadata": {
        "id": "jqVjBxBXWF76"
      }
    },
    {
      "cell_type": "code",
      "source": [
        "fitnessType = 'RAD'\n",
        "X, Y = getDensityEstimationSamples(pathAB_linear['AP1'].dropna(), nExtractedSamples)\n",
        "kappa_hat2, mu_hat2, omega_hat2 = geneticAlgorithm(X,Y)"
      ],
      "metadata": {
        "colab": {
          "base_uri": "https://localhost:8080/",
          "height": 1000
        },
        "id": "y_8LkEshNU30",
        "outputId": "11fe19c0-fa77-4936-cb2e-38d16e05f625"
      },
      "execution_count": 14,
      "outputs": [
        {
          "output_type": "display_data",
          "data": {
            "text/plain": [
              "<Figure size 720x504 with 1 Axes>"
            ],
            "image/png": "[encoded data removed]"
          },
          "metadata": {
            "needs_background": "light"
          }
        },
        {
          "output_type": "stream",
          "name": "stderr",
          "text": [
            "/usr/local/lib/python3.7/dist-packages/ipykernel_launcher.py:35: RuntimeWarning: invalid value encountered in multiply\n",
            "/usr/local/lib/python3.7/dist-packages/ipykernel_launcher.py:42: RuntimeWarning: divide by zero encountered in log2\n",
            "/usr/local/lib/python3.7/dist-packages/ipykernel_launcher.py:42: RuntimeWarning: invalid value encountered in multiply\n"
          ]
        },
        {
          "output_type": "stream",
          "name": "stdout",
          "text": [
            "=== Generation: 0 === \n",
            "Fitness: nan\n",
            "Best individual:\n",
            "Kappa: 80.16450309506932\n",
            "Mu: 0.9223453350273931\n",
            "Omega: 0.5488888946829121\n",
            "\n"
          ]
        },
        {
          "output_type": "stream",
          "name": "stderr",
          "text": [
            "/usr/local/lib/python3.7/dist-packages/ipykernel_launcher.py:42: RuntimeWarning: divide by zero encountered in log2\n",
            "/usr/local/lib/python3.7/dist-packages/ipykernel_launcher.py:42: RuntimeWarning: invalid value encountered in multiply\n",
            "/usr/local/lib/python3.7/dist-packages/ipykernel_launcher.py:35: RuntimeWarning: invalid value encountered in multiply\n"
          ]
        },
        {
          "output_type": "stream",
          "name": "stdout",
          "text": [
            "=== Generation: 1 === \n",
            "Fitness: nan\n",
            "Best individual:\n",
            "Kappa: 63.90039967600662\n",
            "Mu: 0.7932556518319976\n",
            "Omega: 0.10338993806457925\n",
            "\n"
          ]
        },
        {
          "output_type": "stream",
          "name": "stderr",
          "text": [
            "/usr/local/lib/python3.7/dist-packages/ipykernel_launcher.py:42: RuntimeWarning: divide by zero encountered in log2\n",
            "/usr/local/lib/python3.7/dist-packages/ipykernel_launcher.py:42: RuntimeWarning: invalid value encountered in multiply\n",
            "/usr/local/lib/python3.7/dist-packages/ipykernel_launcher.py:35: RuntimeWarning: invalid value encountered in multiply\n"
          ]
        },
        {
          "output_type": "stream",
          "name": "stdout",
          "text": [
            "=== Generation: 2 === \n",
            "Fitness: 67.1668224351319\n",
            "Best individual:\n",
            "Kappa: 11.327113648372642\n",
            "Mu: 0.3811811183403669\n",
            "Omega: 1.0687572996320787\n",
            "\n"
          ]
        },
        {
          "output_type": "stream",
          "name": "stderr",
          "text": [
            "/usr/local/lib/python3.7/dist-packages/ipykernel_launcher.py:42: RuntimeWarning: divide by zero encountered in log2\n",
            "/usr/local/lib/python3.7/dist-packages/ipykernel_launcher.py:42: RuntimeWarning: invalid value encountered in multiply\n"
          ]
        },
        {
          "output_type": "stream",
          "name": "stdout",
          "text": [
            "=== Generation: 3 === \n",
            "Fitness: 69.02795610967098\n",
            "Best individual:\n",
            "Kappa: 33.84184015083697\n",
            "Mu: 0.12823491508769064\n",
            "Omega: 1.110974912199114\n",
            "\n",
            "=== Generation: 4 === \n",
            "Fitness: 73.12431883985772\n",
            "Best individual:\n",
            "Kappa: 10.575191317371152\n",
            "Mu: 0.3958208660661084\n",
            "Omega: 1.1086021685003085\n",
            "\n",
            "=== Generation: 5 === \n",
            "Fitness: 72.61954230661772\n",
            "Best individual:\n",
            "Kappa: 23.195354940849874\n",
            "Mu: 0.19394407626858418\n",
            "Omega: 1.1102712633235907\n",
            "\n",
            "=== Generation: 6 === \n",
            "Fitness: 73.05117840325036\n",
            "Best individual:\n",
            "Kappa: 18.083710233528326\n",
            "Mu: 0.2480233391704251\n",
            "Omega: 1.1080453387457372\n",
            "\n",
            "=== Generation: 7 === \n",
            "Fitness: 73.10199913974132\n",
            "Best individual:\n",
            "Kappa: 17.050656660053146\n",
            "Mu: 0.2619403832177044\n",
            "Omega: 1.1078261718508287\n",
            "\n",
            "=== Generation: 8 === \n",
            "Fitness: 73.11143386590581\n",
            "Best individual:\n",
            "Kappa: 16.854259014983377\n",
            "Mu: 0.2647743064512609\n",
            "Omega: 1.1078217615483346\n",
            "\n",
            "=== Generation: 9 === \n",
            "Fitness: 73.13841623212944\n",
            "Best individual:\n",
            "Kappa: 15.993233989139732\n",
            "Mu: 0.2787132534637207\n",
            "Omega: 1.1066231439889451\n",
            "\n",
            "=== Generation: 10 === \n",
            "Fitness: 73.12304861591382\n",
            "Best individual:\n",
            "Kappa: 16.304639231471363\n",
            "Mu: 0.2739708116311543\n",
            "Omega: 1.1070663549724995\n",
            "\n",
            "=== Generation: 11 === \n",
            "Fitness: 73.13015216291615\n",
            "Best individual:\n",
            "Kappa: 16.483843686076643\n",
            "Mu: 0.27018295538834686\n",
            "Omega: 1.107043707819331\n",
            "\n",
            "=== Generation: 12 === \n",
            "Fitness: 73.11569182143043\n",
            "Best individual:\n",
            "Kappa: 16.751906731261613\n",
            "Mu: 0.266460106818149\n",
            "Omega: 1.1069362191146594\n",
            "\n",
            "=== Generation: 13 === \n",
            "Fitness: 73.12272570398443\n",
            "Best individual:\n",
            "Kappa: 16.25836940330652\n",
            "Mu: 0.2723871799413527\n",
            "Omega: 1.1059428430555087\n",
            "\n",
            "=== Generation: 14 === \n",
            "Fitness: 73.13362878487206\n",
            "Best individual:\n",
            "Kappa: 16.333972297354045\n",
            "Mu: 0.2728451681564141\n",
            "Omega: 1.1068383035114933\n",
            "\n",
            "=== Generation: 15 === \n",
            "Fitness: 73.14082242003695\n",
            "Best individual:\n",
            "Kappa: 16.256044517125524\n",
            "Mu: 0.27345000643178125\n",
            "Omega: 1.1075855661049596\n",
            "\n",
            "=== Generation: 16 === \n",
            "Fitness: 73.1197375033451\n",
            "Best individual:\n",
            "Kappa: 16.633242465916744\n",
            "Mu: 0.267973134429718\n",
            "Omega: 1.1082391202244326\n",
            "\n",
            "=== Generation: 17 === \n",
            "Fitness: 73.1353127540703\n",
            "Best individual:\n",
            "Kappa: 16.365374920107122\n",
            "Mu: 0.2718846819588286\n",
            "Omega: 1.1077641247651366\n",
            "\n",
            "=== Generation: 18 === \n",
            "Fitness: 73.12995240319322\n",
            "Best individual:\n",
            "Kappa: 16.401196826460517\n",
            "Mu: 0.27179520172812216\n",
            "Omega: 1.1066926790093832\n",
            "\n",
            "=== Generation: 19 === \n",
            "Fitness: 73.12484386627776\n",
            "Best individual:\n",
            "Kappa: 16.565957304902867\n",
            "Mu: 0.2684920986332554\n",
            "Omega: 1.1073914225803136\n",
            "\n",
            "=== Generation: 20 === \n",
            "Fitness: 73.14791759212629\n",
            "Best individual:\n",
            "Kappa: 16.09578033985043\n",
            "Mu: 0.2763037606858729\n",
            "Omega: 1.107066108629135\n",
            "\n",
            "=== Generation: 21 === \n",
            "Fitness: 73.12359550872503\n",
            "Best individual:\n",
            "Kappa: 16.577772278626718\n",
            "Mu: 0.268332789792296\n",
            "Omega: 1.1066133508289353\n",
            "\n",
            "=== Generation: 22 === \n",
            "Fitness: 73.13822042377595\n",
            "Best individual:\n",
            "Kappa: 16.086033782471667\n",
            "Mu: 0.27521681636731377\n",
            "Omega: 1.1070497660753384\n",
            "\n",
            "=== Generation: 23 === \n",
            "Fitness: 73.14090745105523\n",
            "Best individual:\n",
            "Kappa: 16.2482546650105\n",
            "Mu: 0.27342583774457274\n",
            "Omega: 1.1072711274347815\n",
            "\n",
            "=== Generation: 24 === \n",
            "Fitness: 73.13716035190818\n",
            "Best individual:\n",
            "Kappa: 15.852009562443735\n",
            "Mu: 0.2808139853486797\n",
            "Omega: 1.1056665081966908\n",
            "\n",
            "=== Generation: 25 === \n",
            "Fitness: 73.16399289493225\n",
            "Best individual:\n",
            "Kappa: 15.774541135258499\n",
            "Mu: 0.2810648882550353\n",
            "Omega: 1.1073677034591418\n",
            "\n",
            "=== Generation: 26 === \n",
            "Fitness: 73.15037377653778\n",
            "Best individual:\n",
            "Kappa: 16.024011897905297\n",
            "Mu: 0.27711883181315033\n",
            "Omega: 1.1066453193016361\n",
            "\n",
            "=== Generation: 27 === \n",
            "Fitness: 73.13878481846292\n",
            "Best individual:\n",
            "Kappa: 15.984173745279039\n",
            "Mu: 0.2778672680280163\n",
            "Omega: 1.1054077436573067\n",
            "\n",
            "=== Generation: 28 === \n",
            "Fitness: 73.15334251109891\n",
            "Best individual:\n",
            "Kappa: 15.965487046972793\n",
            "Mu: 0.2777515337683427\n",
            "Omega: 1.1074521402310455\n",
            "\n",
            "=== Generation: 29 === \n",
            "Fitness: 73.16171707872212\n",
            "Best individual:\n",
            "Kappa: 15.689431559473332\n",
            "Mu: 0.2818725449005859\n",
            "Omega: 1.1075702207300004\n",
            "\n",
            "=== Generation: 30 === \n",
            "Fitness: 73.15880518056235\n",
            "Best individual:\n",
            "Kappa: 15.851604322069766\n",
            "Mu: 0.2800400634079854\n",
            "Omega: 1.108113586963141\n",
            "\n",
            "=== Generation: 31 === \n",
            "Fitness: 73.14603976069378\n",
            "Best individual:\n",
            "Kappa: 15.879032736459902\n",
            "Mu: 0.2795666965026208\n",
            "Omega: 1.1092592744683198\n",
            "\n",
            "=== Generation: 32 === \n",
            "Fitness: 73.12225942278839\n",
            "Best individual:\n",
            "Kappa: 16.226222961389134\n",
            "Mu: 0.27400364561040874\n",
            "Omega: 1.1096093897350412\n",
            "\n",
            "=== Generation: 33 === \n",
            "Fitness: 73.15100092251626\n",
            "Best individual:\n",
            "Kappa: 16.002844115520183\n",
            "Mu: 0.27708543458918344\n",
            "Omega: 1.1071104812992334\n",
            "\n",
            "=== Generation: 34 === \n",
            "Fitness: 73.14651080669313\n",
            "Best individual:\n",
            "Kappa: 15.828033859828462\n",
            "Mu: 0.2792009952080151\n",
            "Omega: 1.1065623916974878\n",
            "\n",
            "=== Generation: 35 === \n",
            "Fitness: 73.13983184593724\n",
            "Best individual:\n",
            "Kappa: 16.048313163322796\n",
            "Mu: 0.2763106415090688\n",
            "Omega: 1.105729789527374\n",
            "\n",
            "=== Generation: 36 === \n",
            "Fitness: 73.14901970535735\n",
            "Best individual:\n",
            "Kappa: 15.973222343245057\n",
            "Mu: 0.2786836408903643\n",
            "Omega: 1.1070421990909487\n",
            "\n",
            "=== Generation: 37 === \n",
            "Fitness: 73.15416884091164\n",
            "Best individual:\n",
            "Kappa: 15.89989621742732\n",
            "Mu: 0.2798084442348119\n",
            "Omega: 1.107904960951947\n",
            "\n",
            "=== Generation: 38 === \n",
            "Fitness: 73.1482106286023\n",
            "Best individual:\n",
            "Kappa: 16.074422034428107\n",
            "Mu: 0.2765323018636583\n",
            "Omega: 1.1080565273606338\n",
            "\n",
            "=== Generation: 39 === \n",
            "Fitness: 73.16435410013085\n",
            "Best individual:\n",
            "Kappa: 15.767226992467425\n",
            "Mu: 0.2811883460775458\n",
            "Omega: 1.107404478896725\n",
            "\n",
            "=== Generation: 40 === \n",
            "Fitness: 73.1623537277705\n",
            "Best individual:\n",
            "Kappa: 15.754761509667432\n",
            "Mu: 0.28105020363959476\n",
            "Omega: 1.1070854031258657\n",
            "\n",
            "=== Generation: 41 === \n",
            "Fitness: 73.14784976850898\n",
            "Best individual:\n",
            "Kappa: 16.054188831015093\n",
            "Mu: 0.27692265514181114\n",
            "Omega: 1.1065960076157777\n",
            "\n",
            "=== Generation: 42 === \n",
            "Fitness: 73.14180906114274\n",
            "Best individual:\n",
            "Kappa: 16.161103357027713\n",
            "Mu: 0.2745072988430491\n",
            "Omega: 1.1067144358128271\n",
            "\n",
            "=== Generation: 43 === \n",
            "Fitness: 73.1428247037641\n",
            "Best individual:\n",
            "Kappa: 16.13017997426027\n",
            "Mu: 0.2759651873372797\n",
            "Omega: 1.108309243433544\n",
            "\n",
            "=== Generation: 44 === \n",
            "Fitness: 73.15655784104213\n",
            "Best individual:\n",
            "Kappa: 15.774352437540964\n",
            "Mu: 0.28065657525753146\n",
            "Omega: 1.108267541540111\n",
            "\n",
            "=== Generation: 45 === \n",
            "Fitness: 73.1681605497066\n",
            "Best individual:\n",
            "Kappa: 15.602619767799384\n",
            "Mu: 0.28401007862757194\n",
            "Omega: 1.1084988155730413\n",
            "\n",
            "=== Generation: 46 === \n",
            "Fitness: 73.15727482754886\n",
            "Best individual:\n",
            "Kappa: 15.700606191919038\n",
            "Mu: 0.28146553340563063\n",
            "Omega: 1.1074301124795147\n",
            "\n",
            "=== Generation: 47 === \n",
            "Fitness: 73.14576231303974\n",
            "Best individual:\n",
            "Kappa: 16.055690850622742\n",
            "Mu: 0.2760276190484027\n",
            "Omega: 1.1070445495085535\n",
            "\n",
            "=== Generation: 48 === \n",
            "Fitness: 73.14334865067873\n",
            "Best individual:\n",
            "Kappa: 16.070859168091587\n",
            "Mu: 0.27596583410171666\n",
            "Omega: 1.108209731695626\n",
            "\n",
            "=== Generation: 49 === \n",
            "Fitness: 73.15842912764491\n",
            "Best individual:\n",
            "Kappa: 15.896595602904023\n",
            "Mu: 0.2793374428958155\n",
            "Omega: 1.107457235220518\n",
            "\n",
            "==========\n",
            "Max number of generations exceeded!\n",
            "==========\n",
            "\n",
            "Best Fitness: 73.1681605497066\n",
            "Best Gen: 45\n",
            "Kappa: 15.602619767799384\n",
            "Mu: 0.28401007862757194\n",
            "Omega: 1.1084988155730413\n"
          ]
        },
        {
          "output_type": "display_data",
          "data": {
            "text/plain": [
              "<Figure size 720x504 with 0 Axes>"
            ]
          },
          "metadata": {}
        },
        {
          "output_type": "display_data",
          "data": {
            "text/plain": [
              "<Figure size 720x504 with 0 Axes>"
            ]
          },
          "metadata": {}
        },
        {
          "output_type": "display_data",
          "data": {
            "text/plain": [
              "<Figure size 720x504 with 0 Axes>"
            ]
          },
          "metadata": {}
        },
        {
          "output_type": "display_data",
          "data": {
            "text/plain": [
              "<Figure size 720x504 with 0 Axes>"
            ]
          },
          "metadata": {}
        },
        {
          "output_type": "display_data",
          "data": {
            "text/plain": [
              "<Figure size 720x504 with 0 Axes>"
            ]
          },
          "metadata": {}
        },
        {
          "output_type": "display_data",
          "data": {
            "text/plain": [
              "<Figure size 720x504 with 0 Axes>"
            ]
          },
          "metadata": {}
        },
        {
          "output_type": "display_data",
          "data": {
            "text/plain": [
              "<Figure size 720x504 with 0 Axes>"
            ]
          },
          "metadata": {}
        },
        {
          "output_type": "display_data",
          "data": {
            "text/plain": [
              "<Figure size 720x504 with 0 Axes>"
            ]
          },
          "metadata": {}
        },
        {
          "output_type": "display_data",
          "data": {
            "text/plain": [
              "<Figure size 720x504 with 0 Axes>"
            ]
          },
          "metadata": {}
        },
        {
          "output_type": "display_data",
          "data": {
            "text/plain": [
              "<Figure size 720x504 with 0 Axes>"
            ]
          },
          "metadata": {}
        },
        {
          "output_type": "display_data",
          "data": {
            "text/plain": [
              "<Figure size 720x504 with 0 Axes>"
            ]
          },
          "metadata": {}
        },
        {
          "output_type": "display_data",
          "data": {
            "text/plain": [
              "<Figure size 720x504 with 0 Axes>"
            ]
          },
          "metadata": {}
        },
        {
          "output_type": "display_data",
          "data": {
            "text/plain": [
              "<Figure size 720x504 with 0 Axes>"
            ]
          },
          "metadata": {}
        },
        {
          "output_type": "display_data",
          "data": {
            "text/plain": [
              "<Figure size 720x504 with 0 Axes>"
            ]
          },
          "metadata": {}
        },
        {
          "output_type": "display_data",
          "data": {
            "text/plain": [
              "<Figure size 720x504 with 0 Axes>"
            ]
          },
          "metadata": {}
        },
        {
          "output_type": "display_data",
          "data": {
            "text/plain": [
              "<Figure size 720x504 with 0 Axes>"
            ]
          },
          "metadata": {}
        },
        {
          "output_type": "display_data",
          "data": {
            "text/plain": [
              "<Figure size 720x504 with 0 Axes>"
            ]
          },
          "metadata": {}
        },
        {
          "output_type": "display_data",
          "data": {
            "text/plain": [
              "<Figure size 720x504 with 0 Axes>"
            ]
          },
          "metadata": {}
        },
        {
          "output_type": "display_data",
          "data": {
            "text/plain": [
              "<Figure size 720x504 with 0 Axes>"
            ]
          },
          "metadata": {}
        },
        {
          "output_type": "display_data",
          "data": {
            "text/plain": [
              "<Figure size 720x504 with 0 Axes>"
            ]
          },
          "metadata": {}
        },
        {
          "output_type": "display_data",
          "data": {
            "text/plain": [
              "<Figure size 720x504 with 0 Axes>"
            ]
          },
          "metadata": {}
        },
        {
          "output_type": "display_data",
          "data": {
            "text/plain": [
              "<Figure size 720x504 with 0 Axes>"
            ]
          },
          "metadata": {}
        },
        {
          "output_type": "display_data",
          "data": {
            "text/plain": [
              "<Figure size 720x504 with 0 Axes>"
            ]
          },
          "metadata": {}
        },
        {
          "output_type": "display_data",
          "data": {
            "text/plain": [
              "<Figure size 720x504 with 0 Axes>"
            ]
          },
          "metadata": {}
        },
        {
          "output_type": "display_data",
          "data": {
            "text/plain": [
              "<Figure size 720x504 with 0 Axes>"
            ]
          },
          "metadata": {}
        },
        {
          "output_type": "display_data",
          "data": {
            "text/plain": [
              "<Figure size 720x504 with 0 Axes>"
            ]
          },
          "metadata": {}
        },
        {
          "output_type": "display_data",
          "data": {
            "text/plain": [
              "<Figure size 720x504 with 0 Axes>"
            ]
          },
          "metadata": {}
        },
        {
          "output_type": "display_data",
          "data": {
            "text/plain": [
              "<Figure size 720x504 with 0 Axes>"
            ]
          },
          "metadata": {}
        },
        {
          "output_type": "display_data",
          "data": {
            "text/plain": [
              "<Figure size 720x504 with 0 Axes>"
            ]
          },
          "metadata": {}
        },
        {
          "output_type": "display_data",
          "data": {
            "text/plain": [
              "<Figure size 720x504 with 0 Axes>"
            ]
          },
          "metadata": {}
        },
        {
          "output_type": "display_data",
          "data": {
            "text/plain": [
              "<Figure size 720x504 with 0 Axes>"
            ]
          },
          "metadata": {}
        },
        {
          "output_type": "display_data",
          "data": {
            "text/plain": [
              "<Figure size 720x504 with 0 Axes>"
            ]
          },
          "metadata": {}
        },
        {
          "output_type": "display_data",
          "data": {
            "text/plain": [
              "<Figure size 720x504 with 0 Axes>"
            ]
          },
          "metadata": {}
        },
        {
          "output_type": "display_data",
          "data": {
            "text/plain": [
              "<Figure size 720x504 with 0 Axes>"
            ]
          },
          "metadata": {}
        },
        {
          "output_type": "display_data",
          "data": {
            "text/plain": [
              "<Figure size 720x504 with 0 Axes>"
            ]
          },
          "metadata": {}
        },
        {
          "output_type": "display_data",
          "data": {
            "text/plain": [
              "<Figure size 720x504 with 0 Axes>"
            ]
          },
          "metadata": {}
        },
        {
          "output_type": "display_data",
          "data": {
            "text/plain": [
              "<Figure size 720x504 with 0 Axes>"
            ]
          },
          "metadata": {}
        },
        {
          "output_type": "display_data",
          "data": {
            "text/plain": [
              "<Figure size 720x504 with 0 Axes>"
            ]
          },
          "metadata": {}
        },
        {
          "output_type": "display_data",
          "data": {
            "text/plain": [
              "<Figure size 720x504 with 0 Axes>"
            ]
          },
          "metadata": {}
        },
        {
          "output_type": "display_data",
          "data": {
            "text/plain": [
              "<Figure size 720x504 with 0 Axes>"
            ]
          },
          "metadata": {}
        },
        {
          "output_type": "display_data",
          "data": {
            "text/plain": [
              "<Figure size 720x504 with 0 Axes>"
            ]
          },
          "metadata": {}
        },
        {
          "output_type": "display_data",
          "data": {
            "text/plain": [
              "<Figure size 720x504 with 0 Axes>"
            ]
          },
          "metadata": {}
        },
        {
          "output_type": "display_data",
          "data": {
            "text/plain": [
              "<Figure size 720x504 with 0 Axes>"
            ]
          },
          "metadata": {}
        },
        {
          "output_type": "display_data",
          "data": {
            "text/plain": [
              "<Figure size 720x504 with 0 Axes>"
            ]
          },
          "metadata": {}
        },
        {
          "output_type": "display_data",
          "data": {
            "text/plain": [
              "<Figure size 720x504 with 0 Axes>"
            ]
          },
          "metadata": {}
        },
        {
          "output_type": "display_data",
          "data": {
            "text/plain": [
              "<Figure size 720x504 with 0 Axes>"
            ]
          },
          "metadata": {}
        },
        {
          "output_type": "display_data",
          "data": {
            "text/plain": [
              "<Figure size 720x504 with 0 Axes>"
            ]
          },
          "metadata": {}
        },
        {
          "output_type": "display_data",
          "data": {
            "text/plain": [
              "<Figure size 720x504 with 0 Axes>"
            ]
          },
          "metadata": {}
        },
        {
          "output_type": "display_data",
          "data": {
            "text/plain": [
              "<Figure size 720x504 with 0 Axes>"
            ]
          },
          "metadata": {}
        },
        {
          "output_type": "display_data",
          "data": {
            "text/plain": [
              "<Figure size 720x504 with 0 Axes>"
            ]
          },
          "metadata": {}
        }
      ]
    },
    {
      "cell_type": "code",
      "source": [
        "plt.figure(figsize=((10,7)))\n",
        "plt.plot(20*np.log10(X), computePDF(X, kappa_hat, mu_hat, omega_hat), label='Fitness = MSE', color='r')\n",
        "plt.plot(20*np.log10(X), computePDF(X, kappa_hat2, mu_hat2, omega_hat2), label='Fitness = RAD', color='k')\n",
        "plt.scatter(20*np.log10(X), Y, color='m', label='Real')\n",
        "plt.plot(20*np.log10(X), computePDF(X, 60.0747320167390, 0.100000000000035, 1.09085912951657), label='Nidhi\\'s MLE', color='g')\n",
        "plt.title(f'Best GA Fit')\n",
        "plt.legend()\n",
        "plt.grid(True)\n",
        "plt.xlabel(r'$dB$')\n",
        "plt.ylabel('pdf')\n",
        "plt.show()\n",
        "\n",
        "plt.figure(figsize=((10,7)))\n",
        "plt.plot(20*np.log10(X), computePDF(X, kappa_hat, mu_hat, omega_hat), label='Fitness = MSE', color='r')\n",
        "plt.plot(20*np.log10(X), computePDF(X, kappa_hat2, mu_hat2, omega_hat2), label='Fitness = RAD')\n",
        "plt.scatter(20*np.log10(X), Y, color='m', label='Real')\n",
        "plt.plot(20*np.log10(X), computePDF(X, 60.0747320167390, 0.100000000000035, 1.09085912951657), label='Nidhi\\'s MLE', color='g')\n",
        "plt.title(f'Best GA Fit (Zoomed)')\n",
        "plt.legend()\n",
        "plt.grid(True)\n",
        "plt.xlabel(r'$dB$')\n",
        "plt.ylabel('pdf')\n",
        "plt.ylim([1.28, 1.4])\n",
        "plt.xlim([-1, 1])\n",
        "plt.show()"
      ],
      "metadata": {
        "colab": {
          "base_uri": "https://localhost:8080/",
          "height": 903
        },
        "id": "AxIIbmkrRQYX",
        "outputId": "cc7f2edd-9973-4ece-8558-9a831fa8cdec"
      },
      "execution_count": 15,
      "outputs": [
        {
          "output_type": "display_data",
          "data": {
            "text/plain": [
              "<Figure size 720x504 with 1 Axes>"
            ],
            "image/png": "[encoded data removed]"
          },
          "metadata": {
            "needs_background": "light"
          }
        },
        {
          "output_type": "display_data",
          "data": {
            "text/plain": [
              "<Figure size 720x504 with 1 Axes>"
            ],
            "image/png": "[encoded data removed]"
          },
          "metadata": {
            "needs_background": "light"
          }
        }
      ]
    },
    {
      "cell_type": "code",
      "source": [
        "# Scores - RAD\n",
        "pVec1 = Y/np.sum(Y)\n",
        "pVec2 = computePDF(X, kappa_hat, mu_hat, omega_hat)/np.sum(computePDF(X, kappa_hat, mu_hat, omega_hat))\n",
        "KLD_1 = kldiv(pVec1, pVec2)\n",
        "KLD_2 = kldiv(pVec2, pVec1)\n",
        "rad_mse = RAD(KLD_1, KLD_2)\n",
        "\n",
        "pVec2 = computePDF(X, kappa_hat2, mu_hat2, omega_hat2)/np.sum(computePDF(X, kappa_hat2, mu_hat2, omega_hat2))\n",
        "KLD_1 = kldiv(pVec1, pVec2)\n",
        "KLD_2 = kldiv(pVec2, pVec1)\n",
        "rad_rad = RAD(KLD_1, KLD_2)\n",
        "\n",
        "pVec2 = computePDF(X, 60.0747320167390, 0.100000000000035, 1.09085912951657)/np.sum(computePDF(X, 60.0747320167390, 0.100000000000035, 1.09085912951657))\n",
        "KLD_1 = kldiv(pVec1, pVec2)\n",
        "KLD_2 = kldiv(pVec2, pVec1)\n",
        "rad_mle = RAD(KLD_1, KLD_2)\n",
        "\n",
        "rads = {'Methods':['Genetic Algorithm (Fitness = MSE)', 'Genetic Algorithm (Fitness = RAD)', 'Maximum Likelihood Estimator'],\n",
        "\t\t'Resistor Average Distance':[rad_mse, rad_rad, rad_mle]}\n",
        "\n",
        "# Create DataFrame\n",
        "df = pd.DataFrame(rads)\n",
        "display(df)"
      ],
      "metadata": {
        "colab": {
          "base_uri": "https://localhost:8080/",
          "height": 144
        },
        "id": "6Nh7XFsVRURQ",
        "outputId": "0cbca98d-c261-4be4-c51f-4f0f76c91149"
      },
      "execution_count": 16,
      "outputs": [
        {
          "output_type": "display_data",
          "data": {
            "text/plain": [
              "                             Methods  Resistor Average Distance\n",
              "0  Genetic Algorithm (Fitness = MSE)                   0.023555\n",
              "1  Genetic Algorithm (Fitness = RAD)                   0.013667\n",
              "2       Maximum Likelihood Estimator                   0.023563"
            ],
            "text/html": [
              "\n",
              "  <div id=\"df-5ae42f18-1575-4314-ba73-cdc001355e36\">\n",
              "    <div class=\"colab-df-container\">\n",
              "      <div>\n",
              "<style scoped>\n",
              "    .dataframe tbody tr th:only-of-type {\n",
              "        vertical-align: middle;\n",
              "    }\n",
              "\n",
              "    .dataframe tbody tr th {\n",
              "        vertical-align: top;\n",
              "    }\n",
              "\n",
              "    .dataframe thead th {\n",
              "        text-align: right;\n",
              "    }\n",
              "</style>\n",
              "<table border=\"1\" class=\"dataframe\">\n",
              "  <thead>\n",
              "    <tr style=\"text-align: right;\">\n",
              "      <th></th>\n",
              "      <th>Methods</th>\n",
              "      <th>Resistor Average Distance</th>\n",
              "    </tr>\n",
              "  </thead>\n",
              "  <tbody>\n",
              "    <tr>\n",
              "      <th>0</th>\n",
              "      <td>Genetic Algorithm (Fitness = MSE)</td>\n",
              "      <td>0.023555</td>\n",
              "    </tr>\n",
              "    <tr>\n",
              "      <th>1</th>\n",
              "      <td>Genetic Algorithm (Fitness = RAD)</td>\n",
              "      <td>0.013667</td>\n",
              "    </tr>\n",
              "    <tr>\n",
              "      <th>2</th>\n",
              "      <td>Maximum Likelihood Estimator</td>\n",
              "      <td>0.023563</td>\n",
              "    </tr>\n",
              "  </tbody>\n",
              "</table>\n",
              "</div>\n",
              "      <button class=\"colab-df-convert\" onclick=\"convertToInteractive('df-5ae42f18-1575-4314-ba73-cdc001355e36')\"\n",
              "              title=\"Convert this dataframe to an interactive table.\"\n",
              "              style=\"display:none;\">\n",
              "        \n",
              "  <svg xmlns=\"http://www.w3.org/2000/svg\" height=\"24px\"viewBox=\"0 0 24 24\"\n",
              "       width=\"24px\">\n",
              "    <path d=\"M0 0h24v24H0V0z\" fill=\"none\"/>\n",
              "    <path d=\"M18.56 5.44l.94 2.06.94-2.06 2.06-.94-2.06-.94-.94-2.06-.94 2.06-2.06.94zm-11 1L8.5 8.5l.94-2.06 2.06-.94-2.06-.94L8.5 2.5l-.94 2.06-2.06.94zm10 10l.94 2.06.94-2.06 2.06-.94-2.06-.94-.94-2.06-.94 2.06-2.06.94z\"/><path d=\"M17.41 7.96l-1.37-1.37c-.4-.4-.92-.59-1.43-.59-.52 0-1.04.2-1.43.59L10.3 9.45l-7.72 7.72c-.78.78-.78 2.05 0 2.83L4 21.41c.39.39.9.59 1.41.59.51 0 1.02-.2 1.41-.59l7.78-7.78 2.81-2.81c.8-.78.8-2.07 0-2.86zM5.41 20L4 18.59l7.72-7.72 1.47 1.35L5.41 20z\"/>\n",
              "  </svg>\n",
              "      </button>\n",
              "      \n",
              "  <style>\n",
              "    .colab-df-container {\n",
              "      display:flex;\n",
              "      flex-wrap:wrap;\n",
              "      gap: 12px;\n",
              "    }\n",
              "\n",
              "    .colab-df-convert {\n",
              "      background-color: #E8F0FE;\n",
              "      border: none;\n",
              "      border-radius: 50%;\n",
              "      cursor: pointer;\n",
              "      display: none;\n",
              "      fill: #1967D2;\n",
              "      height: 32px;\n",
              "      padding: 0 0 0 0;\n",
              "      width: 32px;\n",
              "    }\n",
              "\n",
              "    .colab-df-convert:hover {\n",
              "      background-color: #E2EBFA;\n",
              "      box-shadow: 0px 1px 2px rgba(60, 64, 67, 0.3), 0px 1px 3px 1px rgba(60, 64, 67, 0.15);\n",
              "      fill: #174EA6;\n",
              "    }\n",
              "\n",
              "    [theme=dark] .colab-df-convert {\n",
              "      background-color: #3B4455;\n",
              "      fill: #D2E3FC;\n",
              "    }\n",
              "\n",
              "    [theme=dark] .colab-df-convert:hover {\n",
              "      background-color: #434B5C;\n",
              "      box-shadow: 0px 1px 3px 1px rgba(0, 0, 0, 0.15);\n",
              "      filter: drop-shadow(0px 1px 2px rgba(0, 0, 0, 0.3));\n",
              "      fill: #FFFFFF;\n",
              "    }\n",
              "  </style>\n",
              "\n",
              "      <script>\n",
              "        const buttonEl =\n",
              "          document.querySelector('#df-5ae42f18-1575-4314-ba73-cdc001355e36 button.colab-df-convert');\n",
              "        buttonEl.style.display =\n",
              "          google.colab.kernel.accessAllowed ? 'block' : 'none';\n",
              "\n",
              "        async function convertToInteractive(key) {\n",
              "          const element = document.querySelector('#df-5ae42f18-1575-4314-ba73-cdc001355e36');\n",
              "          const dataTable =\n",
              "            await google.colab.kernel.invokeFunction('convertToInteractive',\n",
              "                                                     [key], {});\n",
              "          if (!dataTable) return;\n",
              "\n",
              "          const docLinkHtml = 'Like what you see? Visit the ' +\n",
              "            '<a target=\"_blank\" href=https://colab.research.google.com/notebooks/data_table.ipynb>data table notebook</a>'\n",
              "            + ' to learn more about interactive tables.';\n",
              "          element.innerHTML = '';\n",
              "          dataTable['output_type'] = 'display_data';\n",
              "          await google.colab.output.renderOutput(dataTable, element);\n",
              "          const docLink = document.createElement('div');\n",
              "          docLink.innerHTML = docLinkHtml;\n",
              "          element.appendChild(docLink);\n",
              "        }\n",
              "      </script>\n",
              "    </div>\n",
              "  </div>\n",
              "  "
            ]
          },
          "metadata": {}
        }
      ]
    },
    {
      "cell_type": "markdown",
      "source": [
        "## Working on implementing AIC "
      ],
      "metadata": {
        "id": "djxIM3WRtfLg"
      }
    },
    {
      "cell_type": "code",
      "source": [
        "pathAB_dB['AP2'].dropna()"
      ],
      "metadata": {
        "colab": {
          "base_uri": "https://localhost:8080/"
        },
        "id": "JYjDSj9dNs3-",
        "outputId": "752812be-ec4d-488f-9e78-2efcc624d685"
      },
      "execution_count": 107,
      "outputs": [
        {
          "output_type": "execute_result",
          "data": {
            "text/plain": [
              "0       0.000000\n",
              "1      -0.062012\n",
              "2      -0.139640\n",
              "3      -0.226960\n",
              "4      -0.440890\n",
              "          ...   \n",
              "8807    3.117000\n",
              "8808    1.811500\n",
              "8809    0.767820\n",
              "8810    0.034334\n",
              "8811    0.000000\n",
              "Name: AP2, Length: 8812, dtype: float64"
            ]
          },
          "metadata": {},
          "execution_count": 107
        }
      ]
    },
    {
      "cell_type": "code",
      "source": [
        "pathAB_linear['AP2'].dropna()"
      ],
      "metadata": {
        "colab": {
          "base_uri": "https://localhost:8080/"
        },
        "id": "wFz3HV9VNfF5",
        "outputId": "1d9496b3-588b-4176-b622-801c284f252f"
      },
      "execution_count": 106,
      "outputs": [
        {
          "output_type": "execute_result",
          "data": {
            "text/plain": [
              "0       1.000000\n",
              "1       0.992886\n",
              "2       0.984052\n",
              "3       0.974209\n",
              "4       0.950507\n",
              "          ...   \n",
              "8807    1.431693\n",
              "8808    1.231899\n",
              "8809    1.092423\n",
              "8810    1.003961\n",
              "8811    1.000000\n",
              "Name: AP2, Length: 8812, dtype: float64"
            ]
          },
          "metadata": {},
          "execution_count": 106
        }
      ]
    },
    {
      "cell_type": "code",
      "source": [
        "20*np.log10(pathAB_linear['AP2'].dropna())"
      ],
      "metadata": {
        "colab": {
          "base_uri": "https://localhost:8080/"
        },
        "id": "mROaUnfP-vgL",
        "outputId": "973fcbfa-0450-4587-b6ac-c1bd31399db4"
      },
      "execution_count": 105,
      "outputs": [
        {
          "output_type": "execute_result",
          "data": {
            "text/plain": [
              "0       0.000000\n",
              "1      -0.062012\n",
              "2      -0.139640\n",
              "3      -0.226960\n",
              "4      -0.440890\n",
              "          ...   \n",
              "8807    3.117000\n",
              "8808    1.811500\n",
              "8809    0.767820\n",
              "8810    0.034334\n",
              "8811    0.000000\n",
              "Name: AP2, Length: 8812, dtype: float64"
            ]
          },
          "metadata": {},
          "execution_count": 105
        }
      ]
    },
    {
      "cell_type": "code",
      "source": [
        "pathAB_dBm = {}\n",
        "pathAB_dBm['AP2'] = 20*np.log10(pathAB_linear['AP2'].dropna()) + 30\n",
        "pathAB_dBm['AP2']"
      ],
      "metadata": {
        "colab": {
          "base_uri": "https://localhost:8080/"
        },
        "id": "ubhlp3GMLA5-",
        "outputId": "08462fb3-86aa-44d6-e915-0b7156afb306"
      },
      "execution_count": 104,
      "outputs": [
        {
          "output_type": "execute_result",
          "data": {
            "text/plain": [
              "0       30.000000\n",
              "1       29.937988\n",
              "2       29.860360\n",
              "3       29.773040\n",
              "4       29.559110\n",
              "          ...    \n",
              "8807    33.117000\n",
              "8808    31.811500\n",
              "8809    30.767820\n",
              "8810    30.034334\n",
              "8811    30.000000\n",
              "Name: AP2, Length: 8812, dtype: float64"
            ]
          },
          "metadata": {},
          "execution_count": 104
        }
      ]
    },
    {
      "cell_type": "code",
      "source": [
        "def dBm2mV(dBm):\n",
        "  \n",
        "  mV =  np.power(10, (dBm + 46.9897)/20)\n",
        "  return mV"
      ],
      "metadata": {
        "id": "xrmv95JQpZCZ"
      },
      "execution_count": 47,
      "outputs": []
    },
    {
      "cell_type": "code",
      "source": [
        "data_mV = dBm2mV(pathAB_dBm['AP2'])\n",
        "data_mV"
      ],
      "metadata": {
        "colab": {
          "base_uri": "https://localhost:8080/"
        },
        "id": "Snoe0pDrNNVb",
        "outputId": "ed141d88-9567-4be1-e7fd-ddf3a295814d"
      },
      "execution_count": 108,
      "outputs": [
        {
          "output_type": "execute_result",
          "data": {
            "text/plain": [
              "0        7071.067777\n",
              "1        7020.764410\n",
              "2        6958.297613\n",
              "3        6888.695688\n",
              "4        6721.102211\n",
              "            ...     \n",
              "8807    10123.600533\n",
              "8808     8710.839263\n",
              "8809     7724.600004\n",
              "8810     7099.073947\n",
              "8811     7071.067777\n",
              "Name: AP2, Length: 8812, dtype: float64"
            ]
          },
          "metadata": {},
          "execution_count": 108
        }
      ]
    },
    {
      "cell_type": "code",
      "source": [
        "globalmean = np.mean(data_mV)\n",
        "data_mV = data_mV / globalmean\n",
        "n = len(data_mV)\n",
        "K = 3\n",
        "data_mV"
      ],
      "metadata": {
        "colab": {
          "base_uri": "https://localhost:8080/"
        },
        "id": "_BJVsTx7LQ5F",
        "outputId": "72c595e9-ce86-4e3c-c3bb-66d225cb9573"
      },
      "execution_count": 114,
      "outputs": [
        {
          "output_type": "execute_result",
          "data": {
            "text/plain": [
              "0       1.000867\n",
              "1       0.993746\n",
              "2       0.984905\n",
              "3       0.975053\n",
              "4       0.951331\n",
              "          ...   \n",
              "8807    1.432934\n",
              "8808    1.232966\n",
              "8809    1.093370\n",
              "8810    1.004831\n",
              "8811    1.000867\n",
              "Name: AP2, Length: 8812, dtype: float64"
            ]
          },
          "metadata": {},
          "execution_count": 114
        }
      ]
    },
    {
      "cell_type": "code",
      "source": [
        "np.sum(np.log(computePDF(data_mV, 60.074731198877520, 0.100000000000035, 1.090859130374765)))"
      ],
      "metadata": {
        "colab": {
          "base_uri": "https://localhost:8080/"
        },
        "id": "QzIwvxNiOs7v",
        "outputId": "64355767-9e42-4034-8603-c44139616cbb"
      },
      "execution_count": 115,
      "outputs": [
        {
          "output_type": "execute_result",
          "data": {
            "text/plain": [
              "-3722.9068617056473"
            ]
          },
          "metadata": {},
          "execution_count": 115
        }
      ]
    },
    {
      "cell_type": "code",
      "source": [
        "sum = np.sum(np.log(computePDF(data_mV, 60.074731198877520, 0.100000000000035, 1.090859130374765)))\n",
        "-2*sum + 2*K + (2*K*(K+1))/(n-K-1)"
      ],
      "metadata": {
        "colab": {
          "base_uri": "https://localhost:8080/"
        },
        "id": "u9BOvhOlDuVU",
        "outputId": "d33092fd-ba7b-4aa9-f2e8-6108777d6eff"
      },
      "execution_count": 116,
      "outputs": [
        {
          "output_type": "execute_result",
          "data": {
            "text/plain": [
              "7451.816448206935"
            ]
          },
          "metadata": {},
          "execution_count": 116
        }
      ]
    },
    {
      "cell_type": "code",
      "source": [
        "sum = np.sum(np.log(computePDF(data_mV, kappa_hat, mu_hat, omega_hat)))\n",
        "-2*sum + 2*K + (2*K*(K+1))/(n-K-1)"
      ],
      "metadata": {
        "colab": {
          "base_uri": "https://localhost:8080/"
        },
        "id": "AFux3ZTFDzCT",
        "outputId": "abb29a97-82d2-40ba-ad60-9499db87091d"
      },
      "execution_count": 117,
      "outputs": [
        {
          "output_type": "execute_result",
          "data": {
            "text/plain": [
              "7437.415793872786"
            ]
          },
          "metadata": {},
          "execution_count": 117
        }
      ]
    },
    {
      "cell_type": "code",
      "source": [
        "sum = np.sum(np.log(computePDF(data_mV, kappa_hat2, mu_hat2, omega_hat2)))\n",
        "-2*sum + 2*K + (2*K*(K+1))/(n-K-1)"
      ],
      "metadata": {
        "colab": {
          "base_uri": "https://localhost:8080/"
        },
        "id": "nZEGwITLD38n",
        "outputId": "566f9161-df69-464d-d245-6698e5ce3a4d"
      },
      "execution_count": 118,
      "outputs": [
        {
          "output_type": "execute_result",
          "data": {
            "text/plain": [
              "6942.017324079586"
            ]
          },
          "metadata": {},
          "execution_count": 118
        }
      ]
    },
    {
      "cell_type": "code",
      "source": [
        "data = pd.read_csv('/content/P_dBm_out_LOS_Head_Indoor.txt', sep=\" \", header=None)\n",
        "data = data.dropna(axis=1).transpose().reset_index(drop=True)\n",
        "data_mv = dBm2mV(data)\n",
        "\n",
        "global_mean = np.mean(data_mv)\n",
        "data_mv = data_mv / global_mean\n",
        "data_mv"
      ],
      "metadata": {
        "colab": {
          "base_uri": "https://localhost:8080/",
          "height": 424
        },
        "id": "Njx2FJOOEOZn",
        "outputId": "2cdd12f6-6ddc-46d7-d656-bcac56153471"
      },
      "execution_count": 119,
      "outputs": [
        {
          "output_type": "execute_result",
          "data": {
            "text/plain": [
              "               0\n",
              "0       2.649921\n",
              "1       2.621534\n",
              "2       2.621534\n",
              "3       2.621534\n",
              "4       2.593451\n",
              "...          ...\n",
              "181139  0.549958\n",
              "181140  0.561933\n",
              "181141  0.549958\n",
              "181142  0.555913\n",
              "181143  0.549958\n",
              "\n",
              "[181144 rows x 1 columns]"
            ],
            "text/html": [
              "\n",
              "  <div id=\"df-28d02d6b-85cf-483f-a625-2cd1639dd2ad\">\n",
              "    <div class=\"colab-df-container\">\n",
              "      <div>\n",
              "<style scoped>\n",
              "    .dataframe tbody tr th:only-of-type {\n",
              "        vertical-align: middle;\n",
              "    }\n",
              "\n",
              "    .dataframe tbody tr th {\n",
              "        vertical-align: top;\n",
              "    }\n",
              "\n",
              "    .dataframe thead th {\n",
              "        text-align: right;\n",
              "    }\n",
              "</style>\n",
              "<table border=\"1\" class=\"dataframe\">\n",
              "  <thead>\n",
              "    <tr style=\"text-align: right;\">\n",
              "      <th></th>\n",
              "      <th>0</th>\n",
              "    </tr>\n",
              "  </thead>\n",
              "  <tbody>\n",
              "    <tr>\n",
              "      <th>0</th>\n",
              "      <td>2.649921</td>\n",
              "    </tr>\n",
              "    <tr>\n",
              "      <th>1</th>\n",
              "      <td>2.621534</td>\n",
              "    </tr>\n",
              "    <tr>\n",
              "      <th>2</th>\n",
              "      <td>2.621534</td>\n",
              "    </tr>\n",
              "    <tr>\n",
              "      <th>3</th>\n",
              "      <td>2.621534</td>\n",
              "    </tr>\n",
              "    <tr>\n",
              "      <th>4</th>\n",
              "      <td>2.593451</td>\n",
              "    </tr>\n",
              "    <tr>\n",
              "      <th>...</th>\n",
              "      <td>...</td>\n",
              "    </tr>\n",
              "    <tr>\n",
              "      <th>181139</th>\n",
              "      <td>0.549958</td>\n",
              "    </tr>\n",
              "    <tr>\n",
              "      <th>181140</th>\n",
              "      <td>0.561933</td>\n",
              "    </tr>\n",
              "    <tr>\n",
              "      <th>181141</th>\n",
              "      <td>0.549958</td>\n",
              "    </tr>\n",
              "    <tr>\n",
              "      <th>181142</th>\n",
              "      <td>0.555913</td>\n",
              "    </tr>\n",
              "    <tr>\n",
              "      <th>181143</th>\n",
              "      <td>0.549958</td>\n",
              "    </tr>\n",
              "  </tbody>\n",
              "</table>\n",
              "<p>181144 rows × 1 columns</p>\n",
              "</div>\n",
              "      <button class=\"colab-df-convert\" onclick=\"convertToInteractive('df-28d02d6b-85cf-483f-a625-2cd1639dd2ad')\"\n",
              "              title=\"Convert this dataframe to an interactive table.\"\n",
              "              style=\"display:none;\">\n",
              "        \n",
              "  <svg xmlns=\"http://www.w3.org/2000/svg\" height=\"24px\"viewBox=\"0 0 24 24\"\n",
              "       width=\"24px\">\n",
              "    <path d=\"M0 0h24v24H0V0z\" fill=\"none\"/>\n",
              "    <path d=\"M18.56 5.44l.94 2.06.94-2.06 2.06-.94-2.06-.94-.94-2.06-.94 2.06-2.06.94zm-11 1L8.5 8.5l.94-2.06 2.06-.94-2.06-.94L8.5 2.5l-.94 2.06-2.06.94zm10 10l.94 2.06.94-2.06 2.06-.94-2.06-.94-.94-2.06-.94 2.06-2.06.94z\"/><path d=\"M17.41 7.96l-1.37-1.37c-.4-.4-.92-.59-1.43-.59-.52 0-1.04.2-1.43.59L10.3 9.45l-7.72 7.72c-.78.78-.78 2.05 0 2.83L4 21.41c.39.39.9.59 1.41.59.51 0 1.02-.2 1.41-.59l7.78-7.78 2.81-2.81c.8-.78.8-2.07 0-2.86zM5.41 20L4 18.59l7.72-7.72 1.47 1.35L5.41 20z\"/>\n",
              "  </svg>\n",
              "      </button>\n",
              "      \n",
              "  <style>\n",
              "    .colab-df-container {\n",
              "      display:flex;\n",
              "      flex-wrap:wrap;\n",
              "      gap: 12px;\n",
              "    }\n",
              "\n",
              "    .colab-df-convert {\n",
              "      background-color: #E8F0FE;\n",
              "      border: none;\n",
              "      border-radius: 50%;\n",
              "      cursor: pointer;\n",
              "      display: none;\n",
              "      fill: #1967D2;\n",
              "      height: 32px;\n",
              "      padding: 0 0 0 0;\n",
              "      width: 32px;\n",
              "    }\n",
              "\n",
              "    .colab-df-convert:hover {\n",
              "      background-color: #E2EBFA;\n",
              "      box-shadow: 0px 1px 2px rgba(60, 64, 67, 0.3), 0px 1px 3px 1px rgba(60, 64, 67, 0.15);\n",
              "      fill: #174EA6;\n",
              "    }\n",
              "\n",
              "    [theme=dark] .colab-df-convert {\n",
              "      background-color: #3B4455;\n",
              "      fill: #D2E3FC;\n",
              "    }\n",
              "\n",
              "    [theme=dark] .colab-df-convert:hover {\n",
              "      background-color: #434B5C;\n",
              "      box-shadow: 0px 1px 3px 1px rgba(0, 0, 0, 0.15);\n",
              "      filter: drop-shadow(0px 1px 2px rgba(0, 0, 0, 0.3));\n",
              "      fill: #FFFFFF;\n",
              "    }\n",
              "  </style>\n",
              "\n",
              "      <script>\n",
              "        const buttonEl =\n",
              "          document.querySelector('#df-28d02d6b-85cf-483f-a625-2cd1639dd2ad button.colab-df-convert');\n",
              "        buttonEl.style.display =\n",
              "          google.colab.kernel.accessAllowed ? 'block' : 'none';\n",
              "\n",
              "        async function convertToInteractive(key) {\n",
              "          const element = document.querySelector('#df-28d02d6b-85cf-483f-a625-2cd1639dd2ad');\n",
              "          const dataTable =\n",
              "            await google.colab.kernel.invokeFunction('convertToInteractive',\n",
              "                                                     [key], {});\n",
              "          if (!dataTable) return;\n",
              "\n",
              "          const docLinkHtml = 'Like what you see? Visit the ' +\n",
              "            '<a target=\"_blank\" href=https://colab.research.google.com/notebooks/data_table.ipynb>data table notebook</a>'\n",
              "            + ' to learn more about interactive tables.';\n",
              "          element.innerHTML = '';\n",
              "          dataTable['output_type'] = 'display_data';\n",
              "          await google.colab.output.renderOutput(dataTable, element);\n",
              "          const docLink = document.createElement('div');\n",
              "          docLink.innerHTML = docLinkHtml;\n",
              "          element.appendChild(docLink);\n",
              "        }\n",
              "      </script>\n",
              "    </div>\n",
              "  </div>\n",
              "  "
            ]
          },
          "metadata": {},
          "execution_count": 119
        }
      ]
    },
    {
      "cell_type": "code",
      "source": [
        "def fitness(fitnessType, kappa, mu, omega):\n",
        "  '''\n",
        "  Fitness function (MSE/RAD) to determine how good a given solution is.\n",
        "  '''\n",
        "  global Xdata\n",
        "  global Ydata\n",
        "\n",
        "  if fitnessType == 'MSE':\n",
        "    y_pred = computePDF(Xdata, kappa, mu, omega)\n",
        "    n = len(Y)\n",
        "    cost = 1/n * sum(val**2 for val in (Y-y_pred))\n",
        "    return 1/cost\n",
        "  elif fitnessType == 'RAD':\n",
        "    pVec1 = Y/np.sum(Y)\n",
        "    pVec2 = computePDF(Xdata, kappa, mu, omega)/np.sum(computePDF(Xdata, kappa, mu, omega))\n",
        "    KLD_1 = kldiv(pVec1, pVec2)\n",
        "    KLD_2 = kldiv(pVec2, pVec1)\n",
        "    cost = RAD(KLD_1, KLD_2)\n",
        "    return 1/cost\n",
        "\n",
        "def geneticAlgorithm(X, Y):\n",
        "  '''\n",
        "  Evolutionary Loop\n",
        "  '''\n",
        "  solutions = []\n",
        "  bestParams = []\n",
        "  bestCriteria = 0\n",
        "  bestGen = 0\n",
        "\n",
        "\n",
        "  # Generate solutions (chromossomes)\n",
        "  for s in range(nPopulation):\n",
        "    solutions.append((random.uniform(0.01, 1.0), # kappa\n",
        "                        random.uniform(0.1, 1.0), # mu\n",
        "                        random.uniform(0.1, 1.0))) # r_hat^2\n",
        "\n",
        "  # Evolutionary Loop\n",
        "  for i in range(nMaxGen):\n",
        "    rankedSolutions = []\t\n",
        "    for s in solutions:\n",
        "      rankedSolutions.append( (fitness(fitnessType, s[0],s[1],s[2]), s) )\n",
        "    rankedSolutions.sort()\n",
        "    rankedSolutions.reverse()\n",
        "    \n",
        "    print(f'=== Generation: {i} === ')\n",
        "    print(f'Fitness: {rankedSolutions[0][0]}')\n",
        "    print('Best individual:')\n",
        "    print(f'Kappa: {rankedSolutions[0][1][0]}')\n",
        "    print(f'Mu: {rankedSolutions[0][1][1]}')\n",
        "    print(f'Omega: {rankedSolutions[0][1][2]}\\n')\n",
        "\n",
        "    plt.figure(figsize=((10,7)))\n",
        "    plt.plot(20*np.log10(X), computePDF(X, rankedSolutions[0][1][0], rankedSolutions[0][1][1], rankedSolutions[0][1][2]), label='Predicted')\n",
        "    plt.scatter(20*np.log10(X), Y, color='m', label='Real')\n",
        "    plt.plot(20*np.log10(X), computePDF(X, 60.0747320167390, 0.100000000000035, 1.09085912951657), label='Nidhi\\'s MLE')\n",
        "    plt.title(f'=== Generation: {i} === ')\n",
        "    plt.legend()\n",
        "    plt.grid(True)\n",
        "    plt.xlabel(r'$\\rho=r/\\hat{r}$')\n",
        "    plt.ylabel('pdf')\n",
        "    if savePlots: \n",
        "      plt.savefig(f'plots/gen/gen_{i}.png')\n",
        "    \n",
        "    if showPlots:\n",
        "      plt.show()\n",
        "      plt.clf()\n",
        "    else: \n",
        "      plt.clf()\n",
        "\n",
        "    # Keeping track the best params and generation:\n",
        "    if rankedSolutions[0][0] > bestCriteria:\n",
        "      bestCriteria = rankedSolutions[0][0]\n",
        "      bestGen = i\n",
        "      bestParams = rankedSolutions[0][1]\n",
        "\n",
        "    # Stop Criterion: Fitness > 150 (TRIAL AND ERROR)\n",
        "    # if rankedSolutions[0][0] > 152.8:\n",
        "    #   print('='*10+'\\n'+'Stopped by fitness criteria!\\n'+'='*10+'\\n')\n",
        "    #   # print('='*10)\n",
        "    #   # print('Stopped by fitness criteria!')\n",
        "    #   # print('='*10)\n",
        "    #   print('Best Fitness: {}\\nBest Gen: {}'.format(bestCriteria, bestGen))\n",
        "    #   print('Kappa: {}\\nMu: {}\\nOmega: {}'.format(bestParams[0],bestParams[1],bestParams[2]))\n",
        "    #   break\n",
        "\n",
        "    # Combine the best solutions and make a new solution of those combined solutions\n",
        "    bestSolutions = rankedSolutions[:100]\n",
        "    elements_kappa = []\n",
        "    elements_mu = []\n",
        "    elements_omega = [] \n",
        "    for s in bestSolutions:\n",
        "      elements_kappa.append(s[1][0])\n",
        "      elements_mu.append(s[1][1])\n",
        "      elements_omega.append(s[1][2])\n",
        "\n",
        "    newGen = []\n",
        "    for _ in range(nPopulation):\n",
        "      e1 = random.choice(elements_kappa) * random.uniform(0.975,1.025) # Mutation of 5%\n",
        "      e2 = random.choice(elements_mu) * random.uniform(0.975,1.025) # Mutation of 5%\n",
        "      e3 = random.choice(elements_omega) * random.uniform(0.975,1.025) # Mutation of 5%\n",
        "      newGen.append((e1,e2,e3))\n",
        "\n",
        "    solutions = newGen\n",
        "    \n",
        "    if i == nMaxGen-1:\n",
        "      print('='*10+'\\n'+'Max number of generations exceeded!\\n'+'='*10+'\\n')\n",
        "      # print()\n",
        "      # print('='*10)\n",
        "      print('Best Fitness: {}\\nBest Gen: {}'.format(bestCriteria, bestGen))\n",
        "      print('Kappa: {}\\nMu: {}\\nOmega: {}'.format(bestParams[0],bestParams[1],bestParams[2]))\n",
        "\n",
        "      return bestParams[0],bestParams[1],bestParams[2]\n",
        "\n"
      ],
      "metadata": {
        "id": "_2MEaaEjbCAz"
      },
      "execution_count": 206,
      "outputs": []
    },
    {
      "cell_type": "code",
      "source": [
        "r = np.linspace(data_mv.min(), data_mv.max(), nExtractedSamples)\n",
        "\n",
        "kde = KernelDensity(kernel='gaussian', bandwidth=0.07).fit(data_mv.values.reshape(-1, 1))\n",
        "Xdata = r\n",
        "logkde = kde.score_samples(Xdata)\n",
        "Ydata = np.exp(logkde)\n",
        "\n",
        "plt.figure(figsize=(10,7))\n",
        "plt.scatter(Xdata[::3], Ydata[::3],c='magenta')\n",
        "plt.plot(Xdata, computePDF(Xdata, 0.0100000000000427, 0.794245862021533, 0.984845555190635))\n",
        "# plt.plot(Xdata, computePDF(Xdata, kappa_hat_rad, mu_hat_rad, omega_hat_rad))\n",
        "# plt.ylabel('Density')\n",
        "plt.xlabel('r')\n",
        "plt.grid()\n",
        "plt.show()"
      ],
      "metadata": {
        "colab": {
          "base_uri": "https://localhost:8080/",
          "height": 442
        },
        "id": "cvP_UhCoWwGi",
        "outputId": "17fb1d63-b2a0-43cf-db65-6fee8497331d"
      },
      "execution_count": 220,
      "outputs": [
        {
          "output_type": "display_data",
          "data": {
            "text/plain": [
              "<Figure size 720x504 with 1 Axes>"
            ],
            "image/png": "[encoded data removed]"
          },
          "metadata": {
            "needs_background": "light"
          }
        }
      ]
    },
    {
      "cell_type": "code",
      "source": [
        "Xdata.shape"
      ],
      "metadata": {
        "colab": {
          "base_uri": "https://localhost:8080/"
        },
        "id": "WaA7unT4eF0C",
        "outputId": "77088e28-5648-4886-bedb-218e704b5107"
      },
      "execution_count": 219,
      "outputs": [
        {
          "output_type": "execute_result",
          "data": {
            "text/plain": [
              "(81,)"
            ]
          },
          "metadata": {},
          "execution_count": 219
        }
      ]
    },
    {
      "cell_type": "code",
      "source": [
        "fitnessType = 'MSE'\n",
        "nMaxGen = 200\n",
        "kappa_hat_rad, mu_hat_rad, omega_hat_rad = geneticAlgorithm(Xdata,Ydata)"
      ],
      "metadata": {
        "colab": {
          "base_uri": "https://localhost:8080/",
          "height": 360
        },
        "id": "g0KRyHXXSw_B",
        "outputId": "1338bce7-9d27-4eef-cadd-d8c4bfc7070b"
      },
      "execution_count": 218,
      "outputs": [
        {
          "output_type": "error",
          "ename": "TypeError",
          "evalue": "ignored",
          "traceback": [
            "\u001b[0;31m---------------------------------------------------------------------------\u001b[0m",
            "\u001b[0;31mTypeError\u001b[0m                                 Traceback (most recent call last)",
            "\u001b[0;32m<ipython-input-218-a0c596d6e1c6>\u001b[0m in \u001b[0;36m<module>\u001b[0;34m()\u001b[0m\n\u001b[1;32m      1\u001b[0m \u001b[0mfitnessType\u001b[0m \u001b[0;34m=\u001b[0m \u001b[0;34m'MSE'\u001b[0m\u001b[0;34m\u001b[0m\u001b[0;34m\u001b[0m\u001b[0m\n\u001b[1;32m      2\u001b[0m \u001b[0mnMaxGen\u001b[0m \u001b[0;34m=\u001b[0m \u001b[0;36m200\u001b[0m\u001b[0;34m\u001b[0m\u001b[0;34m\u001b[0m\u001b[0m\n\u001b[0;32m----> 3\u001b[0;31m \u001b[0mkappa_hat_rad\u001b[0m\u001b[0;34m,\u001b[0m \u001b[0mmu_hat_rad\u001b[0m\u001b[0;34m,\u001b[0m \u001b[0momega_hat_rad\u001b[0m \u001b[0;34m=\u001b[0m \u001b[0mgeneticAlgorithm\u001b[0m\u001b[0;34m(\u001b[0m\u001b[0mXdata\u001b[0m\u001b[0;34m,\u001b[0m\u001b[0mYdata\u001b[0m\u001b[0;34m)\u001b[0m\u001b[0;34m\u001b[0m\u001b[0;34m\u001b[0m\u001b[0m\n\u001b[0m",
            "\u001b[0;32m<ipython-input-206-da57a040abf9>\u001b[0m in \u001b[0;36mgeneticAlgorithm\u001b[0;34m(X, Y)\u001b[0m\n\u001b[1;32m     39\u001b[0m     \u001b[0mrankedSolutions\u001b[0m \u001b[0;34m=\u001b[0m \u001b[0;34m[\u001b[0m\u001b[0;34m]\u001b[0m\u001b[0;34m\u001b[0m\u001b[0;34m\u001b[0m\u001b[0m\n\u001b[1;32m     40\u001b[0m     \u001b[0;32mfor\u001b[0m \u001b[0ms\u001b[0m \u001b[0;32min\u001b[0m \u001b[0msolutions\u001b[0m\u001b[0;34m:\u001b[0m\u001b[0;34m\u001b[0m\u001b[0;34m\u001b[0m\u001b[0m\n\u001b[0;32m---> 41\u001b[0;31m       \u001b[0mrankedSolutions\u001b[0m\u001b[0;34m.\u001b[0m\u001b[0mappend\u001b[0m\u001b[0;34m(\u001b[0m \u001b[0;34m(\u001b[0m\u001b[0mfitness\u001b[0m\u001b[0;34m(\u001b[0m\u001b[0mfitnessType\u001b[0m\u001b[0;34m,\u001b[0m \u001b[0ms\u001b[0m\u001b[0;34m[\u001b[0m\u001b[0;36m0\u001b[0m\u001b[0;34m]\u001b[0m\u001b[0;34m,\u001b[0m\u001b[0ms\u001b[0m\u001b[0;34m[\u001b[0m\u001b[0;36m1\u001b[0m\u001b[0;34m]\u001b[0m\u001b[0;34m,\u001b[0m\u001b[0ms\u001b[0m\u001b[0;34m[\u001b[0m\u001b[0;36m2\u001b[0m\u001b[0;34m]\u001b[0m\u001b[0;34m)\u001b[0m\u001b[0;34m,\u001b[0m \u001b[0ms\u001b[0m\u001b[0;34m)\u001b[0m \u001b[0;34m)\u001b[0m\u001b[0;34m\u001b[0m\u001b[0;34m\u001b[0m\u001b[0m\n\u001b[0m\u001b[1;32m     42\u001b[0m     \u001b[0mrankedSolutions\u001b[0m\u001b[0;34m.\u001b[0m\u001b[0msort\u001b[0m\u001b[0;34m(\u001b[0m\u001b[0;34m)\u001b[0m\u001b[0;34m\u001b[0m\u001b[0;34m\u001b[0m\u001b[0m\n\u001b[1;32m     43\u001b[0m     \u001b[0mrankedSolutions\u001b[0m\u001b[0;34m.\u001b[0m\u001b[0mreverse\u001b[0m\u001b[0;34m(\u001b[0m\u001b[0;34m)\u001b[0m\u001b[0;34m\u001b[0m\u001b[0;34m\u001b[0m\u001b[0m\n",
            "\u001b[0;32m<ipython-input-206-da57a040abf9>\u001b[0m in \u001b[0;36mfitness\u001b[0;34m(fitnessType, kappa, mu, omega)\u001b[0m\n\u001b[1;32m      9\u001b[0m     \u001b[0my_pred\u001b[0m \u001b[0;34m=\u001b[0m \u001b[0mcomputePDF\u001b[0m\u001b[0;34m(\u001b[0m\u001b[0mXdata\u001b[0m\u001b[0;34m,\u001b[0m \u001b[0mkappa\u001b[0m\u001b[0;34m,\u001b[0m \u001b[0mmu\u001b[0m\u001b[0;34m,\u001b[0m \u001b[0momega\u001b[0m\u001b[0;34m)\u001b[0m\u001b[0;34m\u001b[0m\u001b[0;34m\u001b[0m\u001b[0m\n\u001b[1;32m     10\u001b[0m     \u001b[0mn\u001b[0m \u001b[0;34m=\u001b[0m \u001b[0mlen\u001b[0m\u001b[0;34m(\u001b[0m\u001b[0mY\u001b[0m\u001b[0;34m)\u001b[0m\u001b[0;34m\u001b[0m\u001b[0;34m\u001b[0m\u001b[0m\n\u001b[0;32m---> 11\u001b[0;31m     \u001b[0mcost\u001b[0m \u001b[0;34m=\u001b[0m \u001b[0;36m1\u001b[0m\u001b[0;34m/\u001b[0m\u001b[0mn\u001b[0m \u001b[0;34m*\u001b[0m \u001b[0msum\u001b[0m\u001b[0;34m(\u001b[0m\u001b[0mval\u001b[0m\u001b[0;34m**\u001b[0m\u001b[0;36m2\u001b[0m \u001b[0;32mfor\u001b[0m \u001b[0mval\u001b[0m \u001b[0;32min\u001b[0m \u001b[0;34m(\u001b[0m\u001b[0mY\u001b[0m\u001b[0;34m-\u001b[0m\u001b[0my_pred\u001b[0m\u001b[0;34m)\u001b[0m\u001b[0;34m)\u001b[0m\u001b[0;34m\u001b[0m\u001b[0;34m\u001b[0m\u001b[0m\n\u001b[0m\u001b[1;32m     12\u001b[0m     \u001b[0;32mreturn\u001b[0m \u001b[0;36m1\u001b[0m\u001b[0;34m/\u001b[0m\u001b[0mcost\u001b[0m\u001b[0;34m\u001b[0m\u001b[0;34m\u001b[0m\u001b[0m\n\u001b[1;32m     13\u001b[0m   \u001b[0;32melif\u001b[0m \u001b[0mfitnessType\u001b[0m \u001b[0;34m==\u001b[0m \u001b[0;34m'RAD'\u001b[0m\u001b[0;34m:\u001b[0m\u001b[0;34m\u001b[0m\u001b[0;34m\u001b[0m\u001b[0m\n",
            "\u001b[0;31mTypeError\u001b[0m: 'Series' object is not callable"
          ]
        }
      ]
    },
    {
      "cell_type": "code",
      "source": [
        "n = len(X)\n",
        "K = 3\n",
        "\n",
        "# AIC MLE\n",
        "sum = np.sum(np.log(computePDF(data_mv, 0.0100000000000427, 0.794245862021533, 0.984845555190635)))\n",
        "AIC_mle = -2*sum + 2*K + (2*K*(K+1))/(n-K-1)\n",
        "\n",
        "# AIC GENETIC ALGORITHM - FITNESS: MSE\n",
        "sum = np.sum(np.log(computePDF(data_mv, kappa_hat3, mu_hat3, omega_hat3)))\n",
        "AIC_ga_mse = -2*sum + 2*K + (2*K*(K+1))/(n-K-1)\n",
        "  \n",
        "# AIC GENETIC ALGORITHM - FITNESS: RAD\n",
        "sum = np.sum(np.log(computePDF(data_mv, kappa_hat2, mu_hat2, omega_hat2)))\n",
        "AIC_ga_rad = -2*sum + 2*K + (2*K*(K+1))/(n-K-1)"
      ],
      "metadata": {
        "id": "3mSrNSj7ROxD"
      },
      "execution_count": 156,
      "outputs": []
    },
    {
      "cell_type": "code",
      "source": [
        "AIC_mle"
      ],
      "metadata": {
        "colab": {
          "base_uri": "https://localhost:8080/"
        },
        "id": "YZ-srIQ2SU8w",
        "outputId": "7b7860ce-d5f2-4926-ea7b-c306eba1fd26"
      },
      "execution_count": 158,
      "outputs": [
        {
          "output_type": "execute_result",
          "data": {
            "text/plain": [
              "0    380915.064714\n",
              "dtype: float64"
            ]
          },
          "metadata": {},
          "execution_count": 158
        }
      ]
    },
    {
      "cell_type": "code",
      "source": [
        "AIC_ga_mse      "
      ],
      "metadata": {
        "colab": {
          "base_uri": "https://localhost:8080/"
        },
        "id": "CE23v2RHRZLJ",
        "outputId": "ccf8734c-9825-42df-e601-c17aebea83e3"
      },
      "execution_count": 132,
      "outputs": [
        {
          "output_type": "execute_result",
          "data": {
            "text/plain": [
              "0    1.013956e+06\n",
              "dtype: float64"
            ]
          },
          "metadata": {},
          "execution_count": 132
        }
      ]
    },
    {
      "cell_type": "code",
      "source": [
        "n = len(X)\n",
        "K = 3\n",
        "\n",
        "# AIC MLE\n",
        "sum = np.sum(np.log(computePDF(X, 60.074731198877520, 0.100000000000035, 1.090859130374765)))\n",
        "AIC_mle = -2*sum + 2*K + (2*K*(K+1))/(n-K-1)\n",
        "\n",
        "# AIC GENETIC ALGORITHM - FITNESS: MSE\n",
        "sum = np.sum(np.log(computePDF(X, kappa_hat, mu_hat, omega_hat)))\n",
        "AIC_ga_mse = -2*sum + 2*K + (2*K*(K+1))/(n-K-1)\n",
        "\n",
        "# AIC GENETIC ALGORITHM - FITNESS: RAD\n",
        "sum = np.sum(np.log(computePDF(X, kappa_hat2, mu_hat2, omega_hat2)))\n",
        "AIC_ga_rad = -2*sum + 2*K + (2*K*(K+1))/(n-K-1)"
      ],
      "metadata": {
        "id": "oB094oWurPhm"
      },
      "execution_count": 29,
      "outputs": []
    },
    {
      "cell_type": "code",
      "source": [
        "rads = {'Methods':['Genetic Algorithm (Fitness = MSE)', 'Genetic Algorithm (Fitness = RAD)', 'Maximum Likelihood Estimator'],\n",
        "\t\t'Resistor Average Distance':[rad_mse, rad_rad, rad_mle],\n",
        "    'Akaike Information Criteria':[AIC_ga_mse, AIC_ga_rad, AIC_mle]}\n",
        "\n",
        "# Create DataFrame\n",
        "df = pd.DataFrame(rads)\n",
        "display(df)"
      ],
      "metadata": {
        "colab": {
          "base_uri": "https://localhost:8080/",
          "height": 144
        },
        "id": "4urmGIRYSQnn",
        "outputId": "b5b6835a-4962-47ce-e42f-6187dce3ddf1"
      },
      "execution_count": 121,
      "outputs": [
        {
          "output_type": "display_data",
          "data": {
            "text/plain": [
              "                             Methods  Resistor Average Distance  \\\n",
              "0  Genetic Algorithm (Fitness = MSE)                   0.023555   \n",
              "1  Genetic Algorithm (Fitness = RAD)                   0.013667   \n",
              "2       Maximum Likelihood Estimator                   0.023563   \n",
              "\n",
              "         Akaike Information Criteria  \n",
              "0   0    1.013956e+06\n",
              "dtype: float64  \n",
              "1  0    802648.340207\n",
              "dtype: float64  \n",
              "2   0    1.017799e+06\n",
              "dtype: float64  "
            ],
            "text/html": [
              "\n",
              "  <div id=\"df-326b242c-a54b-4784-b196-962e65a1acb7\">\n",
              "    <div class=\"colab-df-container\">\n",
              "      <div>\n",
              "<style scoped>\n",
              "    .dataframe tbody tr th:only-of-type {\n",
              "        vertical-align: middle;\n",
              "    }\n",
              "\n",
              "    .dataframe tbody tr th {\n",
              "        vertical-align: top;\n",
              "    }\n",
              "\n",
              "    .dataframe thead th {\n",
              "        text-align: right;\n",
              "    }\n",
              "</style>\n",
              "<table border=\"1\" class=\"dataframe\">\n",
              "  <thead>\n",
              "    <tr style=\"text-align: right;\">\n",
              "      <th></th>\n",
              "      <th>Methods</th>\n",
              "      <th>Resistor Average Distance</th>\n",
              "      <th>Akaike Information Criteria</th>\n",
              "    </tr>\n",
              "  </thead>\n",
              "  <tbody>\n",
              "    <tr>\n",
              "      <th>0</th>\n",
              "      <td>Genetic Algorithm (Fitness = MSE)</td>\n",
              "      <td>0.023555</td>\n",
              "      <td>0    1.013956e+06\n",
              "dtype: float64</td>\n",
              "    </tr>\n",
              "    <tr>\n",
              "      <th>1</th>\n",
              "      <td>Genetic Algorithm (Fitness = RAD)</td>\n",
              "      <td>0.013667</td>\n",
              "      <td>0    802648.340207\n",
              "dtype: float64</td>\n",
              "    </tr>\n",
              "    <tr>\n",
              "      <th>2</th>\n",
              "      <td>Maximum Likelihood Estimator</td>\n",
              "      <td>0.023563</td>\n",
              "      <td>0    1.017799e+06\n",
              "dtype: float64</td>\n",
              "    </tr>\n",
              "  </tbody>\n",
              "</table>\n",
              "</div>\n",
              "      <button class=\"colab-df-convert\" onclick=\"convertToInteractive('df-326b242c-a54b-4784-b196-962e65a1acb7')\"\n",
              "              title=\"Convert this dataframe to an interactive table.\"\n",
              "              style=\"display:none;\">\n",
              "        \n",
              "  <svg xmlns=\"http://www.w3.org/2000/svg\" height=\"24px\"viewBox=\"0 0 24 24\"\n",
              "       width=\"24px\">\n",
              "    <path d=\"M0 0h24v24H0V0z\" fill=\"none\"/>\n",
              "    <path d=\"M18.56 5.44l.94 2.06.94-2.06 2.06-.94-2.06-.94-.94-2.06-.94 2.06-2.06.94zm-11 1L8.5 8.5l.94-2.06 2.06-.94-2.06-.94L8.5 2.5l-.94 2.06-2.06.94zm10 10l.94 2.06.94-2.06 2.06-.94-2.06-.94-.94-2.06-.94 2.06-2.06.94z\"/><path d=\"M17.41 7.96l-1.37-1.37c-.4-.4-.92-.59-1.43-.59-.52 0-1.04.2-1.43.59L10.3 9.45l-7.72 7.72c-.78.78-.78 2.05 0 2.83L4 21.41c.39.39.9.59 1.41.59.51 0 1.02-.2 1.41-.59l7.78-7.78 2.81-2.81c.8-.78.8-2.07 0-2.86zM5.41 20L4 18.59l7.72-7.72 1.47 1.35L5.41 20z\"/>\n",
              "  </svg>\n",
              "      </button>\n",
              "      \n",
              "  <style>\n",
              "    .colab-df-container {\n",
              "      display:flex;\n",
              "      flex-wrap:wrap;\n",
              "      gap: 12px;\n",
              "    }\n",
              "\n",
              "    .colab-df-convert {\n",
              "      background-color: #E8F0FE;\n",
              "      border: none;\n",
              "      border-radius: 50%;\n",
              "      cursor: pointer;\n",
              "      display: none;\n",
              "      fill: #1967D2;\n",
              "      height: 32px;\n",
              "      padding: 0 0 0 0;\n",
              "      width: 32px;\n",
              "    }\n",
              "\n",
              "    .colab-df-convert:hover {\n",
              "      background-color: #E2EBFA;\n",
              "      box-shadow: 0px 1px 2px rgba(60, 64, 67, 0.3), 0px 1px 3px 1px rgba(60, 64, 67, 0.15);\n",
              "      fill: #174EA6;\n",
              "    }\n",
              "\n",
              "    [theme=dark] .colab-df-convert {\n",
              "      background-color: #3B4455;\n",
              "      fill: #D2E3FC;\n",
              "    }\n",
              "\n",
              "    [theme=dark] .colab-df-convert:hover {\n",
              "      background-color: #434B5C;\n",
              "      box-shadow: 0px 1px 3px 1px rgba(0, 0, 0, 0.15);\n",
              "      filter: drop-shadow(0px 1px 2px rgba(0, 0, 0, 0.3));\n",
              "      fill: #FFFFFF;\n",
              "    }\n",
              "  </style>\n",
              "\n",
              "      <script>\n",
              "        const buttonEl =\n",
              "          document.querySelector('#df-326b242c-a54b-4784-b196-962e65a1acb7 button.colab-df-convert');\n",
              "        buttonEl.style.display =\n",
              "          google.colab.kernel.accessAllowed ? 'block' : 'none';\n",
              "\n",
              "        async function convertToInteractive(key) {\n",
              "          const element = document.querySelector('#df-326b242c-a54b-4784-b196-962e65a1acb7');\n",
              "          const dataTable =\n",
              "            await google.colab.kernel.invokeFunction('convertToInteractive',\n",
              "                                                     [key], {});\n",
              "          if (!dataTable) return;\n",
              "\n",
              "          const docLinkHtml = 'Like what you see? Visit the ' +\n",
              "            '<a target=\"_blank\" href=https://colab.research.google.com/notebooks/data_table.ipynb>data table notebook</a>'\n",
              "            + ' to learn more about interactive tables.';\n",
              "          element.innerHTML = '';\n",
              "          dataTable['output_type'] = 'display_data';\n",
              "          await google.colab.output.renderOutput(dataTable, element);\n",
              "          const docLink = document.createElement('div');\n",
              "          docLink.innerHTML = docLinkHtml;\n",
              "          element.appendChild(docLink);\n",
              "        }\n",
              "      </script>\n",
              "    </div>\n",
              "  </div>\n",
              "  "
            ]
          },
          "metadata": {}
        }
      ]
    },
    {
      "cell_type": "code",
      "source": [
        ""
      ],
      "metadata": {
        "id": "j2S8kcpERVWk"
      },
      "execution_count": null,
      "outputs": []
    }
  ]
}