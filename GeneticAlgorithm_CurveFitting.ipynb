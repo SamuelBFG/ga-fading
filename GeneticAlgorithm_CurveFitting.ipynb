{
  "nbformat": 4,
  "nbformat_minor": 0,
  "metadata": {
    "colab": {
      "name": "GeneticAlgorithm_CurveFitting.ipynb",
      "provenance": [],
      "collapsed_sections": [],
      "toc_visible": true,
      "authorship_tag": "ABX9TyNOlZ/o+oH9f7C50NuhbK/A",
      "include_colab_link": true
    },
    "kernelspec": {
      "name": "python3",
      "display_name": "Python 3"
    },
    "language_info": {
      "name": "python"
    }
  },
  "cells": [
    {
      "cell_type": "markdown",
      "metadata": {
        "id": "view-in-github",
        "colab_type": "text"
      },
      "source": [
        "<a href=\"https://colab.research.google.com/github/SamuelBFG/ga-fading/blob/main/GeneticAlgorithm_CurveFitting.ipynb\" target=\"_parent\"><img src=\"https://colab.research.google.com/assets/colab-badge.svg\" alt=\"Open In Colab\"/></a>"
      ]
    },
    {
      "cell_type": "code",
      "execution_count": 1,
      "metadata": {
        "id": "b09UaaMttfaU"
      },
      "outputs": [],
      "source": [
        "import os\n",
        "import numpy as np\n",
        "import pandas as pd\n",
        "import seaborn as sns\n",
        "import random\n",
        "import matplotlib.pyplot as plt\n",
        "from scipy import special as sp\n",
        "from scipy.stats import gaussian_kde\n",
        "from scipy.io import loadmat\n",
        "from sklearn.neighbors import KernelDensity\n",
        "\n",
        "plt.rcParams.update({'figure.max_open_warning': 0})\n",
        "%matplotlib inline\n",
        "\n",
        "## Set up directories\n",
        "paths = ['plots', \n",
        "            'plots/gen/', \n",
        "        ]\n",
        "for i in paths:\n",
        "    if not os.path.exists(i):\n",
        "        os.makedirs(i)"
      ]
    },
    {
      "cell_type": "code",
      "source": [
        "class DataLoad():\n",
        "  def __init__(self):\n",
        "    return\n",
        "  \n",
        "  def datasets_AB_2Khz(self):   \n",
        "    ap_1 = pd.read_csv('/content/pathAB_SSF_dB_AP1_downsampled2Khz_win100.txt', sep=\" \", header=None)\n",
        "    ap_2 = pd.read_csv('/contentt/pathAB_SSF_dB_AP2_downsampled2Khz_win100.txt', sep=\" \", header=None)\n",
        "    ap_3 = pd.read_csv('/content/pathAB_SSF_dB_AP3_downsampled2Khz_win100.txt', sep=\" \", header=None)\n",
        "    ap_4 = pd.read_csv('/content/pathAB_SSF_dB_AP4_downsampled2Khz_win100.txt', sep=\" \", header=None)\n",
        "    ap_5 = pd.read_csv('/content/pathAB_SSF_dB_AP5_downsampled2Khz_win100.txt', sep=\" \", header=None)\n",
        "    ap_6 = pd.read_csv('/content/pathAB_SSF_dB_AP6_downsampled2Khz_win100.txt', sep=\" \", header=None)\n",
        "    ap_7 = pd.read_csv('/content/pathAB_SSF_dB_AP7_downsampled2Khz_win100.txt', sep=\" \", header=None)\n",
        "    ap_8 = pd.read_csv('/content/pathAB_SSF_dB_AP8_downsampled2Khz_win100.txt', sep=\" \", header=None)\n",
        "    ap_9 = pd.read_csv('/content/pathAB_SSF_dB_AP9_downsampled2Khz_win100.txt', sep=\" \", header=None)\n",
        "\n",
        "    return ap_1, ap_2, ap_3, ap_4, ap_5, ap_6, ap_7, ap_8, ap_9\n",
        "\n",
        "  def datasets_AB_1Khz(self):\n",
        "    ap_1 = pd.read_csv('/content/pathAB_SSF_dB_AP1_downsampled1Khz_win50.txt', sep=\" \", header=None)\n",
        "    ap_2 = pd.read_csv('/content/pathAB_SSF_dB_AP2_downsampled1Khz_win50.txt', sep=\" \", header=None)\n",
        "    ap_3 = pd.read_csv('/content/pathAB_SSF_dB_AP3_downsampled1Khz_win50.txt', sep=\" \", header=None)\n",
        "    ap_4 = pd.read_csv('/content/pathAB_SSF_dB_AP4_downsampled1Khz_win50.txt', sep=\" \", header=None)\n",
        "    ap_5 = pd.read_csv('/content/pathAB_SSF_dB_AP5_downsampled1Khz_win50.txt', sep=\" \", header=None)\n",
        "    ap_6 = pd.read_csv('/content/pathAB_SSF_dB_AP6_downsampled1Khz_win50.txt', sep=\" \", header=None)\n",
        "    ap_7 = pd.read_csv('/content/pathAB_SSF_dB_AP7_downsampled1Khz_win50.txt', sep=\" \", header=None)\n",
        "    ap_8 = pd.read_csv('/content/pathAB_SSF_dB_AP8_downsampled1Khz_win50.txt', sep=\" \", header=None)\n",
        "    ap_9 = pd.read_csv('/content/pathAB_SSF_dB_AP9_downsampled1Khz_win50.txt', sep=\" \", header=None)\n",
        "\n",
        "    return ap_1, ap_2, ap_3, ap_4, ap_5, ap_6, ap_7, ap_8, ap_9\n",
        "\n",
        "  def datasets_BA_2Khz(self):\n",
        "    ap_1 = pd.read_csv('/content/pathBA_SSF_dB_AP1_downsampled2Khz_win100.txt', sep=\" \", header=None)\n",
        "    ap_2 = pd.read_csv('/content/pathBA_SSF_dB_AP2_downsampled2Khz_win100.txt', sep=\" \", header=None)\n",
        "    ap_3 = pd.read_csv('/content/pathBA_SSF_dB_AP3_downsampled2Khz_win100.txt', sep=\" \", header=None)\n",
        "    ap_4 = pd.read_csv('/content/pathBA_SSF_dB_AP4_downsampled2Khz_win100.txt', sep=\" \", header=None)\n",
        "    ap_5 = pd.read_csv('/content/pathBA_SSF_dB_AP5_downsampled2Khz_win100.txt', sep=\" \", header=None)\n",
        "    ap_6 = pd.read_csv('/content/pathBA_SSF_dB_AP6_downsampled2Khz_win100.txt', sep=\" \", header=None)\n",
        "    ap_7 = pd.read_csv('/content/pathBA_SSF_dB_AP7_downsampled2Khz_win100.txt', sep=\" \", header=None)\n",
        "    ap_8 = pd.read_csv('/content/pathBA_SSF_dB_AP8_downsampled2Khz_win100.txt', sep=\" \", header=None)\n",
        "    ap_9 = pd.read_csv('/content/pathBA_SSF_dB_AP9_downsampled2Khz_win100.txt', sep=\" \", header=None)\n",
        "\n",
        "    return ap_1, ap_2, ap_3, ap_4, ap_5, ap_6, ap_7, ap_8, ap_9\n",
        "\n",
        "  def datasets_BA_1Khz(self):\n",
        "    ap_1 = pd.read_csv('/content/pathBA_SSF_dB_AP1_downsampled1Khz_win50.txt', sep=\" \", header=None)\n",
        "    ap_2 = pd.read_csv('/content/pathBA_SSF_dB_AP2_downsampled1Khz_win50.txt', sep=\" \", header=None)\n",
        "    ap_3 = pd.read_csv('/content/pathBA_SSF_dB_AP3_downsampled1Khz_win50.txt', sep=\" \", header=None)\n",
        "    ap_4 = pd.read_csv('/content/pathBA_SSF_dB_AP4_downsampled1Khz_win50.txt', sep=\" \", header=None)\n",
        "    ap_5 = pd.read_csv('/content/pathBA_SSF_dB_AP5_downsampled1Khz_win50.txt', sep=\" \", header=None)\n",
        "    ap_6 = pd.read_csv('/content/pathBA_SSF_dB_AP6_downsampled1Khz_win50.txt', sep=\" \", header=None)\n",
        "    ap_7 = pd.read_csv('/content/pathBA_SSF_dB_AP7_downsampled1Khz_win50.txt', sep=\" \", header=None)\n",
        "    ap_8 = pd.read_csv('/content/pathBA_SSF_dB_AP8_downsampled1Khz_win50.txt', sep=\" \", header=None)\n",
        "    ap_9 = pd.read_csv('/content/pathBA_SSF_dB_AP9_downsampled1Khz_win50.txt', sep=\" \", header=None)\n",
        "\n",
        "    return ap_1, ap_2, ap_3, ap_4, ap_5, ap_6, ap_7, ap_8, ap_9\n",
        "\n",
        "######################\n",
        "#### LOAD PATH AB ####\n",
        "######################\n",
        "pathAB_dB = pd.DataFrame()\n",
        "pathAB_dB['AP1'], pathAB_dB['AP2'], pathAB_dB['AP3'], pathAB_dB['AP4'], pathAB_dB['AP5'], pathAB_dB['AP6'], pathAB_dB['AP7'], pathAB_dB['AP8'], pathAB_dB['AP9'] = DataLoad().datasets_AB_1Khz() \n",
        "\n",
        "\n",
        "pathAB_linear = {}\n",
        "pathAB_linear['AP1'] = np.power(10, pathAB_dB['AP1']/20)\n",
        "pathAB_linear['AP2'] = np.power(10, pathAB_dB['AP2']/20)\n",
        "pathAB_linear['AP3'] = np.power(10, pathAB_dB['AP3']/20)\n",
        "pathAB_linear['AP4'] = np.power(10, pathAB_dB['AP4']/20)\n",
        "pathAB_linear['AP5'] = np.power(10, pathAB_dB['AP5']/20)\n",
        "pathAB_linear['AP6'] = np.power(10, pathAB_dB['AP6']/20)\n",
        "pathAB_linear['AP7'] = np.power(10, pathAB_dB['AP7']/20)\n",
        "pathAB_linear['AP8'] = np.power(10, pathAB_dB['AP8']/20)\n",
        "pathAB_linear['AP9'] = np.power(10, pathAB_dB['AP9']/20)\n",
        "pathAB_linear = pd.DataFrame(pathAB_linear)\n",
        "\n",
        "######################\n",
        "#### LOAD PATH BA ####\n",
        "######################\n",
        "pathBA_dB = pd.DataFrame()\n",
        "pathBA_dB['AP1'], pathBA_dB['AP2'], pathBA_dB['AP3'], pathBA_dB['AP4'], pathBA_dB['AP5'], pathBA_dB['AP6'], pathBA_dB['AP7'], pathBA_dB['AP8'], pathBA_dB['AP9'] = DataLoad().datasets_BA_1Khz()\n",
        "\n",
        "\n",
        "pathBA_linear = {}\n",
        "pathBA_linear['AP1'] = np.power(10, pathBA_dB['AP1']/20)\n",
        "pathBA_linear['AP2'] = np.power(10, pathBA_dB['AP2']/20)\n",
        "pathBA_linear['AP3'] = np.power(10, pathBA_dB['AP3']/20)\n",
        "pathBA_linear['AP4'] = np.power(10, pathBA_dB['AP4']/20)\n",
        "pathBA_linear['AP5'] = np.power(10, pathBA_dB['AP5']/20)\n",
        "pathBA_linear['AP6'] = np.power(10, pathBA_dB['AP6']/20)\n",
        "pathBA_linear['AP7'] = np.power(10, pathBA_dB['AP7']/20)\n",
        "pathBA_linear['AP8'] = np.power(10, pathBA_dB['AP8']/20)\n",
        "pathBA_linear['AP9'] = np.power(10, pathBA_dB['AP9']/20)\n",
        "pathBA_linear = pd.DataFrame(pathBA_linear)\n",
        "\n",
        "print('Path AB (dB) Statistics:')\n",
        "display(pathAB_dB.describe())\n",
        "print('Path AB (linear) Statistics:')\n",
        "display(pathAB_linear.describe())\n",
        "print('Path BA (dB) Statistics:')\n",
        "display(pathBA_dB.describe())\n",
        "print('Path BA (linear) Statistics:')\n",
        "display(pathBA_linear.describe())\n"
      ],
      "metadata": {
        "colab": {
          "base_uri": "https://localhost:8080/",
          "height": 1000
        },
        "id": "ek0d_oyPvITn",
        "outputId": "83c7e1d0-32ab-4fdc-ca45-2bc26bf39351"
      },
      "execution_count": 2,
      "outputs": [
        {
          "output_type": "stream",
          "name": "stdout",
          "text": [
            "Path AB (dB) Statistics:\n"
          ]
        },
        {
          "output_type": "display_data",
          "data": {
            "text/plain": [
              "                AP1          AP2           AP3          AP4          AP5  \\\n",
              "count  10697.000000  8812.000000  10656.000000  9927.000000  9395.000000   \n",
              "mean      -0.679144    -0.678685     -0.891395    -0.618300    -0.638215   \n",
              "std        3.755317     3.727851      4.148268     3.481536     3.523801   \n",
              "min      -23.270000   -25.995000    -29.257000   -23.439000   -26.626000   \n",
              "25%       -1.992900    -2.078275     -2.785375    -1.758650    -1.908150   \n",
              "50%        0.018903    -0.096474     -0.152590    -0.033933    -0.029619   \n",
              "75%        1.533700     1.476525      1.818025     1.298050     1.420300   \n",
              "max        8.057100     9.495200      8.997100    10.364000     9.217000   \n",
              "\n",
              "               AP6          AP7          AP8          AP9  \n",
              "count  8645.000000  9343.000000  9281.000000  9125.000000  \n",
              "mean     -0.955131    -0.906079    -0.808394    -0.980556  \n",
              "std       4.381667     4.206115     3.948882     4.360623  \n",
              "min     -28.295000   -24.263000   -23.097000   -25.785000  \n",
              "25%      -3.072200    -2.969000    -2.730100    -3.206400  \n",
              "50%      -0.132410    -0.155200    -0.187850    -0.247910  \n",
              "75%       1.953700     1.949350     1.754300     1.991900  \n",
              "max       8.636300     9.117800     8.691000     8.649700  "
            ],
            "text/html": [
              "\n",
              "  <div id=\"df-7ee7c9f7-d8c3-4a2a-8f6a-2534aa99fb2e\">\n",
              "    <div class=\"colab-df-container\">\n",
              "      <div>\n",
              "<style scoped>\n",
              "    .dataframe tbody tr th:only-of-type {\n",
              "        vertical-align: middle;\n",
              "    }\n",
              "\n",
              "    .dataframe tbody tr th {\n",
              "        vertical-align: top;\n",
              "    }\n",
              "\n",
              "    .dataframe thead th {\n",
              "        text-align: right;\n",
              "    }\n",
              "</style>\n",
              "<table border=\"1\" class=\"dataframe\">\n",
              "  <thead>\n",
              "    <tr style=\"text-align: right;\">\n",
              "      <th></th>\n",
              "      <th>AP1</th>\n",
              "      <th>AP2</th>\n",
              "      <th>AP3</th>\n",
              "      <th>AP4</th>\n",
              "      <th>AP5</th>\n",
              "      <th>AP6</th>\n",
              "      <th>AP7</th>\n",
              "      <th>AP8</th>\n",
              "      <th>AP9</th>\n",
              "    </tr>\n",
              "  </thead>\n",
              "  <tbody>\n",
              "    <tr>\n",
              "      <th>count</th>\n",
              "      <td>10697.000000</td>\n",
              "      <td>8812.000000</td>\n",
              "      <td>10656.000000</td>\n",
              "      <td>9927.000000</td>\n",
              "      <td>9395.000000</td>\n",
              "      <td>8645.000000</td>\n",
              "      <td>9343.000000</td>\n",
              "      <td>9281.000000</td>\n",
              "      <td>9125.000000</td>\n",
              "    </tr>\n",
              "    <tr>\n",
              "      <th>mean</th>\n",
              "      <td>-0.679144</td>\n",
              "      <td>-0.678685</td>\n",
              "      <td>-0.891395</td>\n",
              "      <td>-0.618300</td>\n",
              "      <td>-0.638215</td>\n",
              "      <td>-0.955131</td>\n",
              "      <td>-0.906079</td>\n",
              "      <td>-0.808394</td>\n",
              "      <td>-0.980556</td>\n",
              "    </tr>\n",
              "    <tr>\n",
              "      <th>std</th>\n",
              "      <td>3.755317</td>\n",
              "      <td>3.727851</td>\n",
              "      <td>4.148268</td>\n",
              "      <td>3.481536</td>\n",
              "      <td>3.523801</td>\n",
              "      <td>4.381667</td>\n",
              "      <td>4.206115</td>\n",
              "      <td>3.948882</td>\n",
              "      <td>4.360623</td>\n",
              "    </tr>\n",
              "    <tr>\n",
              "      <th>min</th>\n",
              "      <td>-23.270000</td>\n",
              "      <td>-25.995000</td>\n",
              "      <td>-29.257000</td>\n",
              "      <td>-23.439000</td>\n",
              "      <td>-26.626000</td>\n",
              "      <td>-28.295000</td>\n",
              "      <td>-24.263000</td>\n",
              "      <td>-23.097000</td>\n",
              "      <td>-25.785000</td>\n",
              "    </tr>\n",
              "    <tr>\n",
              "      <th>25%</th>\n",
              "      <td>-1.992900</td>\n",
              "      <td>-2.078275</td>\n",
              "      <td>-2.785375</td>\n",
              "      <td>-1.758650</td>\n",
              "      <td>-1.908150</td>\n",
              "      <td>-3.072200</td>\n",
              "      <td>-2.969000</td>\n",
              "      <td>-2.730100</td>\n",
              "      <td>-3.206400</td>\n",
              "    </tr>\n",
              "    <tr>\n",
              "      <th>50%</th>\n",
              "      <td>0.018903</td>\n",
              "      <td>-0.096474</td>\n",
              "      <td>-0.152590</td>\n",
              "      <td>-0.033933</td>\n",
              "      <td>-0.029619</td>\n",
              "      <td>-0.132410</td>\n",
              "      <td>-0.155200</td>\n",
              "      <td>-0.187850</td>\n",
              "      <td>-0.247910</td>\n",
              "    </tr>\n",
              "    <tr>\n",
              "      <th>75%</th>\n",
              "      <td>1.533700</td>\n",
              "      <td>1.476525</td>\n",
              "      <td>1.818025</td>\n",
              "      <td>1.298050</td>\n",
              "      <td>1.420300</td>\n",
              "      <td>1.953700</td>\n",
              "      <td>1.949350</td>\n",
              "      <td>1.754300</td>\n",
              "      <td>1.991900</td>\n",
              "    </tr>\n",
              "    <tr>\n",
              "      <th>max</th>\n",
              "      <td>8.057100</td>\n",
              "      <td>9.495200</td>\n",
              "      <td>8.997100</td>\n",
              "      <td>10.364000</td>\n",
              "      <td>9.217000</td>\n",
              "      <td>8.636300</td>\n",
              "      <td>9.117800</td>\n",
              "      <td>8.691000</td>\n",
              "      <td>8.649700</td>\n",
              "    </tr>\n",
              "  </tbody>\n",
              "</table>\n",
              "</div>\n",
              "      <button class=\"colab-df-convert\" onclick=\"convertToInteractive('df-7ee7c9f7-d8c3-4a2a-8f6a-2534aa99fb2e')\"\n",
              "              title=\"Convert this dataframe to an interactive table.\"\n",
              "              style=\"display:none;\">\n",
              "        \n",
              "  <svg xmlns=\"http://www.w3.org/2000/svg\" height=\"24px\"viewBox=\"0 0 24 24\"\n",
              "       width=\"24px\">\n",
              "    <path d=\"M0 0h24v24H0V0z\" fill=\"none\"/>\n",
              "    <path d=\"M18.56 5.44l.94 2.06.94-2.06 2.06-.94-2.06-.94-.94-2.06-.94 2.06-2.06.94zm-11 1L8.5 8.5l.94-2.06 2.06-.94-2.06-.94L8.5 2.5l-.94 2.06-2.06.94zm10 10l.94 2.06.94-2.06 2.06-.94-2.06-.94-.94-2.06-.94 2.06-2.06.94z\"/><path d=\"M17.41 7.96l-1.37-1.37c-.4-.4-.92-.59-1.43-.59-.52 0-1.04.2-1.43.59L10.3 9.45l-7.72 7.72c-.78.78-.78 2.05 0 2.83L4 21.41c.39.39.9.59 1.41.59.51 0 1.02-.2 1.41-.59l7.78-7.78 2.81-2.81c.8-.78.8-2.07 0-2.86zM5.41 20L4 18.59l7.72-7.72 1.47 1.35L5.41 20z\"/>\n",
              "  </svg>\n",
              "      </button>\n",
              "      \n",
              "  <style>\n",
              "    .colab-df-container {\n",
              "      display:flex;\n",
              "      flex-wrap:wrap;\n",
              "      gap: 12px;\n",
              "    }\n",
              "\n",
              "    .colab-df-convert {\n",
              "      background-color: #E8F0FE;\n",
              "      border: none;\n",
              "      border-radius: 50%;\n",
              "      cursor: pointer;\n",
              "      display: none;\n",
              "      fill: #1967D2;\n",
              "      height: 32px;\n",
              "      padding: 0 0 0 0;\n",
              "      width: 32px;\n",
              "    }\n",
              "\n",
              "    .colab-df-convert:hover {\n",
              "      background-color: #E2EBFA;\n",
              "      box-shadow: 0px 1px 2px rgba(60, 64, 67, 0.3), 0px 1px 3px 1px rgba(60, 64, 67, 0.15);\n",
              "      fill: #174EA6;\n",
              "    }\n",
              "\n",
              "    [theme=dark] .colab-df-convert {\n",
              "      background-color: #3B4455;\n",
              "      fill: #D2E3FC;\n",
              "    }\n",
              "\n",
              "    [theme=dark] .colab-df-convert:hover {\n",
              "      background-color: #434B5C;\n",
              "      box-shadow: 0px 1px 3px 1px rgba(0, 0, 0, 0.15);\n",
              "      filter: drop-shadow(0px 1px 2px rgba(0, 0, 0, 0.3));\n",
              "      fill: #FFFFFF;\n",
              "    }\n",
              "  </style>\n",
              "\n",
              "      <script>\n",
              "        const buttonEl =\n",
              "          document.querySelector('#df-7ee7c9f7-d8c3-4a2a-8f6a-2534aa99fb2e button.colab-df-convert');\n",
              "        buttonEl.style.display =\n",
              "          google.colab.kernel.accessAllowed ? 'block' : 'none';\n",
              "\n",
              "        async function convertToInteractive(key) {\n",
              "          const element = document.querySelector('#df-7ee7c9f7-d8c3-4a2a-8f6a-2534aa99fb2e');\n",
              "          const dataTable =\n",
              "            await google.colab.kernel.invokeFunction('convertToInteractive',\n",
              "                                                     [key], {});\n",
              "          if (!dataTable) return;\n",
              "\n",
              "          const docLinkHtml = 'Like what you see? Visit the ' +\n",
              "            '<a target=\"_blank\" href=https://colab.research.google.com/notebooks/data_table.ipynb>data table notebook</a>'\n",
              "            + ' to learn more about interactive tables.';\n",
              "          element.innerHTML = '';\n",
              "          dataTable['output_type'] = 'display_data';\n",
              "          await google.colab.output.renderOutput(dataTable, element);\n",
              "          const docLink = document.createElement('div');\n",
              "          docLink.innerHTML = docLinkHtml;\n",
              "          element.appendChild(docLink);\n",
              "        }\n",
              "      </script>\n",
              "    </div>\n",
              "  </div>\n",
              "  "
            ]
          },
          "metadata": {}
        },
        {
          "output_type": "stream",
          "name": "stdout",
          "text": [
            "Path AB (linear) Statistics:\n"
          ]
        },
        {
          "output_type": "display_data",
          "data": {
            "text/plain": [
              "                AP1          AP2           AP3          AP4          AP5  \\\n",
              "count  10697.000000  8812.000000  10656.000000  9927.000000  9395.000000   \n",
              "mean       0.998028     0.999134      0.994438     0.996579     0.996164   \n",
              "std        0.344062     0.357581      0.398839     0.334285     0.337584   \n",
              "min        0.068628     0.050148      0.034447     0.067305     0.046634   \n",
              "25%        0.794978     0.787202      0.725657     0.816709     0.802773   \n",
              "50%        1.002179     0.988955      0.982586     0.996101     0.996596   \n",
              "75%        1.193122     1.185294      1.232824     1.161188     1.177647   \n",
              "max        2.528454     2.983733      2.817442     3.297615     2.889682   \n",
              "\n",
              "               AP6          AP7          AP8          AP9  \n",
              "count  8645.000000  9343.000000  9281.000000  9125.000000  \n",
              "mean      0.998017     0.996402     0.996772     0.996079  \n",
              "std       0.420995     0.407807     0.390212     0.428052  \n",
              "min       0.038481     0.061214     0.070008     0.051375  \n",
              "25%       0.702085     0.710477     0.730289     0.691321  \n",
              "50%       0.984871     0.982291     0.978605     0.971862  \n",
              "75%       1.252233     1.251606     1.223813     1.257752  \n",
              "max       2.702807     2.856867     2.719882     2.706980  "
            ],
            "text/html": [
              "\n",
              "  <div id=\"df-3f00cea4-4c3c-4b11-8d65-1083ef2e7125\">\n",
              "    <div class=\"colab-df-container\">\n",
              "      <div>\n",
              "<style scoped>\n",
              "    .dataframe tbody tr th:only-of-type {\n",
              "        vertical-align: middle;\n",
              "    }\n",
              "\n",
              "    .dataframe tbody tr th {\n",
              "        vertical-align: top;\n",
              "    }\n",
              "\n",
              "    .dataframe thead th {\n",
              "        text-align: right;\n",
              "    }\n",
              "</style>\n",
              "<table border=\"1\" class=\"dataframe\">\n",
              "  <thead>\n",
              "    <tr style=\"text-align: right;\">\n",
              "      <th></th>\n",
              "      <th>AP1</th>\n",
              "      <th>AP2</th>\n",
              "      <th>AP3</th>\n",
              "      <th>AP4</th>\n",
              "      <th>AP5</th>\n",
              "      <th>AP6</th>\n",
              "      <th>AP7</th>\n",
              "      <th>AP8</th>\n",
              "      <th>AP9</th>\n",
              "    </tr>\n",
              "  </thead>\n",
              "  <tbody>\n",
              "    <tr>\n",
              "      <th>count</th>\n",
              "      <td>10697.000000</td>\n",
              "      <td>8812.000000</td>\n",
              "      <td>10656.000000</td>\n",
              "      <td>9927.000000</td>\n",
              "      <td>9395.000000</td>\n",
              "      <td>8645.000000</td>\n",
              "      <td>9343.000000</td>\n",
              "      <td>9281.000000</td>\n",
              "      <td>9125.000000</td>\n",
              "    </tr>\n",
              "    <tr>\n",
              "      <th>mean</th>\n",
              "      <td>0.998028</td>\n",
              "      <td>0.999134</td>\n",
              "      <td>0.994438</td>\n",
              "      <td>0.996579</td>\n",
              "      <td>0.996164</td>\n",
              "      <td>0.998017</td>\n",
              "      <td>0.996402</td>\n",
              "      <td>0.996772</td>\n",
              "      <td>0.996079</td>\n",
              "    </tr>\n",
              "    <tr>\n",
              "      <th>std</th>\n",
              "      <td>0.344062</td>\n",
              "      <td>0.357581</td>\n",
              "      <td>0.398839</td>\n",
              "      <td>0.334285</td>\n",
              "      <td>0.337584</td>\n",
              "      <td>0.420995</td>\n",
              "      <td>0.407807</td>\n",
              "      <td>0.390212</td>\n",
              "      <td>0.428052</td>\n",
              "    </tr>\n",
              "    <tr>\n",
              "      <th>min</th>\n",
              "      <td>0.068628</td>\n",
              "      <td>0.050148</td>\n",
              "      <td>0.034447</td>\n",
              "      <td>0.067305</td>\n",
              "      <td>0.046634</td>\n",
              "      <td>0.038481</td>\n",
              "      <td>0.061214</td>\n",
              "      <td>0.070008</td>\n",
              "      <td>0.051375</td>\n",
              "    </tr>\n",
              "    <tr>\n",
              "      <th>25%</th>\n",
              "      <td>0.794978</td>\n",
              "      <td>0.787202</td>\n",
              "      <td>0.725657</td>\n",
              "      <td>0.816709</td>\n",
              "      <td>0.802773</td>\n",
              "      <td>0.702085</td>\n",
              "      <td>0.710477</td>\n",
              "      <td>0.730289</td>\n",
              "      <td>0.691321</td>\n",
              "    </tr>\n",
              "    <tr>\n",
              "      <th>50%</th>\n",
              "      <td>1.002179</td>\n",
              "      <td>0.988955</td>\n",
              "      <td>0.982586</td>\n",
              "      <td>0.996101</td>\n",
              "      <td>0.996596</td>\n",
              "      <td>0.984871</td>\n",
              "      <td>0.982291</td>\n",
              "      <td>0.978605</td>\n",
              "      <td>0.971862</td>\n",
              "    </tr>\n",
              "    <tr>\n",
              "      <th>75%</th>\n",
              "      <td>1.193122</td>\n",
              "      <td>1.185294</td>\n",
              "      <td>1.232824</td>\n",
              "      <td>1.161188</td>\n",
              "      <td>1.177647</td>\n",
              "      <td>1.252233</td>\n",
              "      <td>1.251606</td>\n",
              "      <td>1.223813</td>\n",
              "      <td>1.257752</td>\n",
              "    </tr>\n",
              "    <tr>\n",
              "      <th>max</th>\n",
              "      <td>2.528454</td>\n",
              "      <td>2.983733</td>\n",
              "      <td>2.817442</td>\n",
              "      <td>3.297615</td>\n",
              "      <td>2.889682</td>\n",
              "      <td>2.702807</td>\n",
              "      <td>2.856867</td>\n",
              "      <td>2.719882</td>\n",
              "      <td>2.706980</td>\n",
              "    </tr>\n",
              "  </tbody>\n",
              "</table>\n",
              "</div>\n",
              "      <button class=\"colab-df-convert\" onclick=\"convertToInteractive('df-3f00cea4-4c3c-4b11-8d65-1083ef2e7125')\"\n",
              "              title=\"Convert this dataframe to an interactive table.\"\n",
              "              style=\"display:none;\">\n",
              "        \n",
              "  <svg xmlns=\"http://www.w3.org/2000/svg\" height=\"24px\"viewBox=\"0 0 24 24\"\n",
              "       width=\"24px\">\n",
              "    <path d=\"M0 0h24v24H0V0z\" fill=\"none\"/>\n",
              "    <path d=\"M18.56 5.44l.94 2.06.94-2.06 2.06-.94-2.06-.94-.94-2.06-.94 2.06-2.06.94zm-11 1L8.5 8.5l.94-2.06 2.06-.94-2.06-.94L8.5 2.5l-.94 2.06-2.06.94zm10 10l.94 2.06.94-2.06 2.06-.94-2.06-.94-.94-2.06-.94 2.06-2.06.94z\"/><path d=\"M17.41 7.96l-1.37-1.37c-.4-.4-.92-.59-1.43-.59-.52 0-1.04.2-1.43.59L10.3 9.45l-7.72 7.72c-.78.78-.78 2.05 0 2.83L4 21.41c.39.39.9.59 1.41.59.51 0 1.02-.2 1.41-.59l7.78-7.78 2.81-2.81c.8-.78.8-2.07 0-2.86zM5.41 20L4 18.59l7.72-7.72 1.47 1.35L5.41 20z\"/>\n",
              "  </svg>\n",
              "      </button>\n",
              "      \n",
              "  <style>\n",
              "    .colab-df-container {\n",
              "      display:flex;\n",
              "      flex-wrap:wrap;\n",
              "      gap: 12px;\n",
              "    }\n",
              "\n",
              "    .colab-df-convert {\n",
              "      background-color: #E8F0FE;\n",
              "      border: none;\n",
              "      border-radius: 50%;\n",
              "      cursor: pointer;\n",
              "      display: none;\n",
              "      fill: #1967D2;\n",
              "      height: 32px;\n",
              "      padding: 0 0 0 0;\n",
              "      width: 32px;\n",
              "    }\n",
              "\n",
              "    .colab-df-convert:hover {\n",
              "      background-color: #E2EBFA;\n",
              "      box-shadow: 0px 1px 2px rgba(60, 64, 67, 0.3), 0px 1px 3px 1px rgba(60, 64, 67, 0.15);\n",
              "      fill: #174EA6;\n",
              "    }\n",
              "\n",
              "    [theme=dark] .colab-df-convert {\n",
              "      background-color: #3B4455;\n",
              "      fill: #D2E3FC;\n",
              "    }\n",
              "\n",
              "    [theme=dark] .colab-df-convert:hover {\n",
              "      background-color: #434B5C;\n",
              "      box-shadow: 0px 1px 3px 1px rgba(0, 0, 0, 0.15);\n",
              "      filter: drop-shadow(0px 1px 2px rgba(0, 0, 0, 0.3));\n",
              "      fill: #FFFFFF;\n",
              "    }\n",
              "  </style>\n",
              "\n",
              "      <script>\n",
              "        const buttonEl =\n",
              "          document.querySelector('#df-3f00cea4-4c3c-4b11-8d65-1083ef2e7125 button.colab-df-convert');\n",
              "        buttonEl.style.display =\n",
              "          google.colab.kernel.accessAllowed ? 'block' : 'none';\n",
              "\n",
              "        async function convertToInteractive(key) {\n",
              "          const element = document.querySelector('#df-3f00cea4-4c3c-4b11-8d65-1083ef2e7125');\n",
              "          const dataTable =\n",
              "            await google.colab.kernel.invokeFunction('convertToInteractive',\n",
              "                                                     [key], {});\n",
              "          if (!dataTable) return;\n",
              "\n",
              "          const docLinkHtml = 'Like what you see? Visit the ' +\n",
              "            '<a target=\"_blank\" href=https://colab.research.google.com/notebooks/data_table.ipynb>data table notebook</a>'\n",
              "            + ' to learn more about interactive tables.';\n",
              "          element.innerHTML = '';\n",
              "          dataTable['output_type'] = 'display_data';\n",
              "          await google.colab.output.renderOutput(dataTable, element);\n",
              "          const docLink = document.createElement('div');\n",
              "          docLink.innerHTML = docLinkHtml;\n",
              "          element.appendChild(docLink);\n",
              "        }\n",
              "      </script>\n",
              "    </div>\n",
              "  </div>\n",
              "  "
            ]
          },
          "metadata": {}
        },
        {
          "output_type": "stream",
          "name": "stdout",
          "text": [
            "Path BA (dB) Statistics:\n"
          ]
        },
        {
          "output_type": "display_data",
          "data": {
            "text/plain": [
              "                AP1           AP2          AP3           AP4          AP5  \\\n",
              "count  10427.000000  10187.000000  9739.000000  10197.000000  9864.000000   \n",
              "mean      -1.074985     -1.082196    -1.108130     -1.141227    -1.066528   \n",
              "std        4.611840      4.606842     4.676193      4.776027     4.585556   \n",
              "min      -23.208000    -24.229000   -23.415000    -28.406000   -27.824000   \n",
              "25%       -3.572900     -3.676300    -3.706050     -3.604800    -3.436825   \n",
              "50%       -0.260680     -0.365460    -0.342420     -0.273940    -0.290850   \n",
              "75%        2.165200      2.217050     2.230550      2.215100     2.191550   \n",
              "max       10.430000     10.245000    10.232000      9.811200     9.336400   \n",
              "\n",
              "                AP6           AP7          AP8           AP9  \n",
              "count  10114.000000  10406.000000  9979.000000  10114.000000  \n",
              "mean      -1.169384     -1.085920    -1.050910     -1.141020  \n",
              "std        4.827644      4.644380     4.601888      4.805922  \n",
              "min      -29.505000    -24.908000   -23.740000    -25.947000  \n",
              "25%       -3.819825     -3.425175    -3.451000     -3.753000  \n",
              "50%       -0.376360     -0.311915    -0.233700     -0.330355  \n",
              "75%        2.335500      2.088425     2.116250      2.333100  \n",
              "max        9.470100      9.988000     9.302400      9.662200  "
            ],
            "text/html": [
              "\n",
              "  <div id=\"df-842cce58-6755-441b-811e-fcb7e191d1d5\">\n",
              "    <div class=\"colab-df-container\">\n",
              "      <div>\n",
              "<style scoped>\n",
              "    .dataframe tbody tr th:only-of-type {\n",
              "        vertical-align: middle;\n",
              "    }\n",
              "\n",
              "    .dataframe tbody tr th {\n",
              "        vertical-align: top;\n",
              "    }\n",
              "\n",
              "    .dataframe thead th {\n",
              "        text-align: right;\n",
              "    }\n",
              "</style>\n",
              "<table border=\"1\" class=\"dataframe\">\n",
              "  <thead>\n",
              "    <tr style=\"text-align: right;\">\n",
              "      <th></th>\n",
              "      <th>AP1</th>\n",
              "      <th>AP2</th>\n",
              "      <th>AP3</th>\n",
              "      <th>AP4</th>\n",
              "      <th>AP5</th>\n",
              "      <th>AP6</th>\n",
              "      <th>AP7</th>\n",
              "      <th>AP8</th>\n",
              "      <th>AP9</th>\n",
              "    </tr>\n",
              "  </thead>\n",
              "  <tbody>\n",
              "    <tr>\n",
              "      <th>count</th>\n",
              "      <td>10427.000000</td>\n",
              "      <td>10187.000000</td>\n",
              "      <td>9739.000000</td>\n",
              "      <td>10197.000000</td>\n",
              "      <td>9864.000000</td>\n",
              "      <td>10114.000000</td>\n",
              "      <td>10406.000000</td>\n",
              "      <td>9979.000000</td>\n",
              "      <td>10114.000000</td>\n",
              "    </tr>\n",
              "    <tr>\n",
              "      <th>mean</th>\n",
              "      <td>-1.074985</td>\n",
              "      <td>-1.082196</td>\n",
              "      <td>-1.108130</td>\n",
              "      <td>-1.141227</td>\n",
              "      <td>-1.066528</td>\n",
              "      <td>-1.169384</td>\n",
              "      <td>-1.085920</td>\n",
              "      <td>-1.050910</td>\n",
              "      <td>-1.141020</td>\n",
              "    </tr>\n",
              "    <tr>\n",
              "      <th>std</th>\n",
              "      <td>4.611840</td>\n",
              "      <td>4.606842</td>\n",
              "      <td>4.676193</td>\n",
              "      <td>4.776027</td>\n",
              "      <td>4.585556</td>\n",
              "      <td>4.827644</td>\n",
              "      <td>4.644380</td>\n",
              "      <td>4.601888</td>\n",
              "      <td>4.805922</td>\n",
              "    </tr>\n",
              "    <tr>\n",
              "      <th>min</th>\n",
              "      <td>-23.208000</td>\n",
              "      <td>-24.229000</td>\n",
              "      <td>-23.415000</td>\n",
              "      <td>-28.406000</td>\n",
              "      <td>-27.824000</td>\n",
              "      <td>-29.505000</td>\n",
              "      <td>-24.908000</td>\n",
              "      <td>-23.740000</td>\n",
              "      <td>-25.947000</td>\n",
              "    </tr>\n",
              "    <tr>\n",
              "      <th>25%</th>\n",
              "      <td>-3.572900</td>\n",
              "      <td>-3.676300</td>\n",
              "      <td>-3.706050</td>\n",
              "      <td>-3.604800</td>\n",
              "      <td>-3.436825</td>\n",
              "      <td>-3.819825</td>\n",
              "      <td>-3.425175</td>\n",
              "      <td>-3.451000</td>\n",
              "      <td>-3.753000</td>\n",
              "    </tr>\n",
              "    <tr>\n",
              "      <th>50%</th>\n",
              "      <td>-0.260680</td>\n",
              "      <td>-0.365460</td>\n",
              "      <td>-0.342420</td>\n",
              "      <td>-0.273940</td>\n",
              "      <td>-0.290850</td>\n",
              "      <td>-0.376360</td>\n",
              "      <td>-0.311915</td>\n",
              "      <td>-0.233700</td>\n",
              "      <td>-0.330355</td>\n",
              "    </tr>\n",
              "    <tr>\n",
              "      <th>75%</th>\n",
              "      <td>2.165200</td>\n",
              "      <td>2.217050</td>\n",
              "      <td>2.230550</td>\n",
              "      <td>2.215100</td>\n",
              "      <td>2.191550</td>\n",
              "      <td>2.335500</td>\n",
              "      <td>2.088425</td>\n",
              "      <td>2.116250</td>\n",
              "      <td>2.333100</td>\n",
              "    </tr>\n",
              "    <tr>\n",
              "      <th>max</th>\n",
              "      <td>10.430000</td>\n",
              "      <td>10.245000</td>\n",
              "      <td>10.232000</td>\n",
              "      <td>9.811200</td>\n",
              "      <td>9.336400</td>\n",
              "      <td>9.470100</td>\n",
              "      <td>9.988000</td>\n",
              "      <td>9.302400</td>\n",
              "      <td>9.662200</td>\n",
              "    </tr>\n",
              "  </tbody>\n",
              "</table>\n",
              "</div>\n",
              "      <button class=\"colab-df-convert\" onclick=\"convertToInteractive('df-842cce58-6755-441b-811e-fcb7e191d1d5')\"\n",
              "              title=\"Convert this dataframe to an interactive table.\"\n",
              "              style=\"display:none;\">\n",
              "        \n",
              "  <svg xmlns=\"http://www.w3.org/2000/svg\" height=\"24px\"viewBox=\"0 0 24 24\"\n",
              "       width=\"24px\">\n",
              "    <path d=\"M0 0h24v24H0V0z\" fill=\"none\"/>\n",
              "    <path d=\"M18.56 5.44l.94 2.06.94-2.06 2.06-.94-2.06-.94-.94-2.06-.94 2.06-2.06.94zm-11 1L8.5 8.5l.94-2.06 2.06-.94-2.06-.94L8.5 2.5l-.94 2.06-2.06.94zm10 10l.94 2.06.94-2.06 2.06-.94-2.06-.94-.94-2.06-.94 2.06-2.06.94z\"/><path d=\"M17.41 7.96l-1.37-1.37c-.4-.4-.92-.59-1.43-.59-.52 0-1.04.2-1.43.59L10.3 9.45l-7.72 7.72c-.78.78-.78 2.05 0 2.83L4 21.41c.39.39.9.59 1.41.59.51 0 1.02-.2 1.41-.59l7.78-7.78 2.81-2.81c.8-.78.8-2.07 0-2.86zM5.41 20L4 18.59l7.72-7.72 1.47 1.35L5.41 20z\"/>\n",
              "  </svg>\n",
              "      </button>\n",
              "      \n",
              "  <style>\n",
              "    .colab-df-container {\n",
              "      display:flex;\n",
              "      flex-wrap:wrap;\n",
              "      gap: 12px;\n",
              "    }\n",
              "\n",
              "    .colab-df-convert {\n",
              "      background-color: #E8F0FE;\n",
              "      border: none;\n",
              "      border-radius: 50%;\n",
              "      cursor: pointer;\n",
              "      display: none;\n",
              "      fill: #1967D2;\n",
              "      height: 32px;\n",
              "      padding: 0 0 0 0;\n",
              "      width: 32px;\n",
              "    }\n",
              "\n",
              "    .colab-df-convert:hover {\n",
              "      background-color: #E2EBFA;\n",
              "      box-shadow: 0px 1px 2px rgba(60, 64, 67, 0.3), 0px 1px 3px 1px rgba(60, 64, 67, 0.15);\n",
              "      fill: #174EA6;\n",
              "    }\n",
              "\n",
              "    [theme=dark] .colab-df-convert {\n",
              "      background-color: #3B4455;\n",
              "      fill: #D2E3FC;\n",
              "    }\n",
              "\n",
              "    [theme=dark] .colab-df-convert:hover {\n",
              "      background-color: #434B5C;\n",
              "      box-shadow: 0px 1px 3px 1px rgba(0, 0, 0, 0.15);\n",
              "      filter: drop-shadow(0px 1px 2px rgba(0, 0, 0, 0.3));\n",
              "      fill: #FFFFFF;\n",
              "    }\n",
              "  </style>\n",
              "\n",
              "      <script>\n",
              "        const buttonEl =\n",
              "          document.querySelector('#df-842cce58-6755-441b-811e-fcb7e191d1d5 button.colab-df-convert');\n",
              "        buttonEl.style.display =\n",
              "          google.colab.kernel.accessAllowed ? 'block' : 'none';\n",
              "\n",
              "        async function convertToInteractive(key) {\n",
              "          const element = document.querySelector('#df-842cce58-6755-441b-811e-fcb7e191d1d5');\n",
              "          const dataTable =\n",
              "            await google.colab.kernel.invokeFunction('convertToInteractive',\n",
              "                                                     [key], {});\n",
              "          if (!dataTable) return;\n",
              "\n",
              "          const docLinkHtml = 'Like what you see? Visit the ' +\n",
              "            '<a target=\"_blank\" href=https://colab.research.google.com/notebooks/data_table.ipynb>data table notebook</a>'\n",
              "            + ' to learn more about interactive tables.';\n",
              "          element.innerHTML = '';\n",
              "          dataTable['output_type'] = 'display_data';\n",
              "          await google.colab.output.renderOutput(dataTable, element);\n",
              "          const docLink = document.createElement('div');\n",
              "          docLink.innerHTML = docLinkHtml;\n",
              "          element.appendChild(docLink);\n",
              "        }\n",
              "      </script>\n",
              "    </div>\n",
              "  </div>\n",
              "  "
            ]
          },
          "metadata": {}
        },
        {
          "output_type": "stream",
          "name": "stdout",
          "text": [
            "Path BA (linear) Statistics:\n"
          ]
        },
        {
          "output_type": "display_data",
          "data": {
            "text/plain": [
              "                AP1           AP2          AP3           AP4          AP5  \\\n",
              "count  10427.000000  10187.000000  9739.000000  10197.000000  9864.000000   \n",
              "mean       0.997510      0.998304     0.998336      0.996081     0.995027   \n",
              "std        0.449814      0.459462     0.463209      0.454875     0.437166   \n",
              "min        0.069119      0.061454     0.067492      0.037993     0.040626   \n",
              "25%        0.662758      0.654915     0.652676      0.660328     0.673223   \n",
              "50%        0.970434      0.958798     0.961344      0.968954     0.967069   \n",
              "75%        1.283099      1.290781     1.292789      1.290491     1.286997   \n",
              "max        3.322768      3.252745     3.247880      3.094283     2.929679   \n",
              "\n",
              "                AP6           AP7          AP8           AP9  \n",
              "count  10114.000000  10406.000000  9979.000000  10114.000000  \n",
              "mean       0.997682      0.996491     0.998782      0.999820  \n",
              "std        0.470313      0.448310     0.446857      0.467674  \n",
              "min        0.033477      0.056833     0.065013      0.050425  \n",
              "25%        0.644182      0.674126     0.672125      0.649157  \n",
              "50%        0.957595      0.964727     0.973453      0.962681  \n",
              "75%        1.308504      1.271807     1.275888      1.308142  \n",
              "max        2.975124      3.157912     2.918233      3.041655  "
            ],
            "text/html": [
              "\n",
              "  <div id=\"df-be186022-33b8-4046-a628-a04941b2db64\">\n",
              "    <div class=\"colab-df-container\">\n",
              "      <div>\n",
              "<style scoped>\n",
              "    .dataframe tbody tr th:only-of-type {\n",
              "        vertical-align: middle;\n",
              "    }\n",
              "\n",
              "    .dataframe tbody tr th {\n",
              "        vertical-align: top;\n",
              "    }\n",
              "\n",
              "    .dataframe thead th {\n",
              "        text-align: right;\n",
              "    }\n",
              "</style>\n",
              "<table border=\"1\" class=\"dataframe\">\n",
              "  <thead>\n",
              "    <tr style=\"text-align: right;\">\n",
              "      <th></th>\n",
              "      <th>AP1</th>\n",
              "      <th>AP2</th>\n",
              "      <th>AP3</th>\n",
              "      <th>AP4</th>\n",
              "      <th>AP5</th>\n",
              "      <th>AP6</th>\n",
              "      <th>AP7</th>\n",
              "      <th>AP8</th>\n",
              "      <th>AP9</th>\n",
              "    </tr>\n",
              "  </thead>\n",
              "  <tbody>\n",
              "    <tr>\n",
              "      <th>count</th>\n",
              "      <td>10427.000000</td>\n",
              "      <td>10187.000000</td>\n",
              "      <td>9739.000000</td>\n",
              "      <td>10197.000000</td>\n",
              "      <td>9864.000000</td>\n",
              "      <td>10114.000000</td>\n",
              "      <td>10406.000000</td>\n",
              "      <td>9979.000000</td>\n",
              "      <td>10114.000000</td>\n",
              "    </tr>\n",
              "    <tr>\n",
              "      <th>mean</th>\n",
              "      <td>0.997510</td>\n",
              "      <td>0.998304</td>\n",
              "      <td>0.998336</td>\n",
              "      <td>0.996081</td>\n",
              "      <td>0.995027</td>\n",
              "      <td>0.997682</td>\n",
              "      <td>0.996491</td>\n",
              "      <td>0.998782</td>\n",
              "      <td>0.999820</td>\n",
              "    </tr>\n",
              "    <tr>\n",
              "      <th>std</th>\n",
              "      <td>0.449814</td>\n",
              "      <td>0.459462</td>\n",
              "      <td>0.463209</td>\n",
              "      <td>0.454875</td>\n",
              "      <td>0.437166</td>\n",
              "      <td>0.470313</td>\n",
              "      <td>0.448310</td>\n",
              "      <td>0.446857</td>\n",
              "      <td>0.467674</td>\n",
              "    </tr>\n",
              "    <tr>\n",
              "      <th>min</th>\n",
              "      <td>0.069119</td>\n",
              "      <td>0.061454</td>\n",
              "      <td>0.067492</td>\n",
              "      <td>0.037993</td>\n",
              "      <td>0.040626</td>\n",
              "      <td>0.033477</td>\n",
              "      <td>0.056833</td>\n",
              "      <td>0.065013</td>\n",
              "      <td>0.050425</td>\n",
              "    </tr>\n",
              "    <tr>\n",
              "      <th>25%</th>\n",
              "      <td>0.662758</td>\n",
              "      <td>0.654915</td>\n",
              "      <td>0.652676</td>\n",
              "      <td>0.660328</td>\n",
              "      <td>0.673223</td>\n",
              "      <td>0.644182</td>\n",
              "      <td>0.674126</td>\n",
              "      <td>0.672125</td>\n",
              "      <td>0.649157</td>\n",
              "    </tr>\n",
              "    <tr>\n",
              "      <th>50%</th>\n",
              "      <td>0.970434</td>\n",
              "      <td>0.958798</td>\n",
              "      <td>0.961344</td>\n",
              "      <td>0.968954</td>\n",
              "      <td>0.967069</td>\n",
              "      <td>0.957595</td>\n",
              "      <td>0.964727</td>\n",
              "      <td>0.973453</td>\n",
              "      <td>0.962681</td>\n",
              "    </tr>\n",
              "    <tr>\n",
              "      <th>75%</th>\n",
              "      <td>1.283099</td>\n",
              "      <td>1.290781</td>\n",
              "      <td>1.292789</td>\n",
              "      <td>1.290491</td>\n",
              "      <td>1.286997</td>\n",
              "      <td>1.308504</td>\n",
              "      <td>1.271807</td>\n",
              "      <td>1.275888</td>\n",
              "      <td>1.308142</td>\n",
              "    </tr>\n",
              "    <tr>\n",
              "      <th>max</th>\n",
              "      <td>3.322768</td>\n",
              "      <td>3.252745</td>\n",
              "      <td>3.247880</td>\n",
              "      <td>3.094283</td>\n",
              "      <td>2.929679</td>\n",
              "      <td>2.975124</td>\n",
              "      <td>3.157912</td>\n",
              "      <td>2.918233</td>\n",
              "      <td>3.041655</td>\n",
              "    </tr>\n",
              "  </tbody>\n",
              "</table>\n",
              "</div>\n",
              "      <button class=\"colab-df-convert\" onclick=\"convertToInteractive('df-be186022-33b8-4046-a628-a04941b2db64')\"\n",
              "              title=\"Convert this dataframe to an interactive table.\"\n",
              "              style=\"display:none;\">\n",
              "        \n",
              "  <svg xmlns=\"http://www.w3.org/2000/svg\" height=\"24px\"viewBox=\"0 0 24 24\"\n",
              "       width=\"24px\">\n",
              "    <path d=\"M0 0h24v24H0V0z\" fill=\"none\"/>\n",
              "    <path d=\"M18.56 5.44l.94 2.06.94-2.06 2.06-.94-2.06-.94-.94-2.06-.94 2.06-2.06.94zm-11 1L8.5 8.5l.94-2.06 2.06-.94-2.06-.94L8.5 2.5l-.94 2.06-2.06.94zm10 10l.94 2.06.94-2.06 2.06-.94-2.06-.94-.94-2.06-.94 2.06-2.06.94z\"/><path d=\"M17.41 7.96l-1.37-1.37c-.4-.4-.92-.59-1.43-.59-.52 0-1.04.2-1.43.59L10.3 9.45l-7.72 7.72c-.78.78-.78 2.05 0 2.83L4 21.41c.39.39.9.59 1.41.59.51 0 1.02-.2 1.41-.59l7.78-7.78 2.81-2.81c.8-.78.8-2.07 0-2.86zM5.41 20L4 18.59l7.72-7.72 1.47 1.35L5.41 20z\"/>\n",
              "  </svg>\n",
              "      </button>\n",
              "      \n",
              "  <style>\n",
              "    .colab-df-container {\n",
              "      display:flex;\n",
              "      flex-wrap:wrap;\n",
              "      gap: 12px;\n",
              "    }\n",
              "\n",
              "    .colab-df-convert {\n",
              "      background-color: #E8F0FE;\n",
              "      border: none;\n",
              "      border-radius: 50%;\n",
              "      cursor: pointer;\n",
              "      display: none;\n",
              "      fill: #1967D2;\n",
              "      height: 32px;\n",
              "      padding: 0 0 0 0;\n",
              "      width: 32px;\n",
              "    }\n",
              "\n",
              "    .colab-df-convert:hover {\n",
              "      background-color: #E2EBFA;\n",
              "      box-shadow: 0px 1px 2px rgba(60, 64, 67, 0.3), 0px 1px 3px 1px rgba(60, 64, 67, 0.15);\n",
              "      fill: #174EA6;\n",
              "    }\n",
              "\n",
              "    [theme=dark] .colab-df-convert {\n",
              "      background-color: #3B4455;\n",
              "      fill: #D2E3FC;\n",
              "    }\n",
              "\n",
              "    [theme=dark] .colab-df-convert:hover {\n",
              "      background-color: #434B5C;\n",
              "      box-shadow: 0px 1px 3px 1px rgba(0, 0, 0, 0.15);\n",
              "      filter: drop-shadow(0px 1px 2px rgba(0, 0, 0, 0.3));\n",
              "      fill: #FFFFFF;\n",
              "    }\n",
              "  </style>\n",
              "\n",
              "      <script>\n",
              "        const buttonEl =\n",
              "          document.querySelector('#df-be186022-33b8-4046-a628-a04941b2db64 button.colab-df-convert');\n",
              "        buttonEl.style.display =\n",
              "          google.colab.kernel.accessAllowed ? 'block' : 'none';\n",
              "\n",
              "        async function convertToInteractive(key) {\n",
              "          const element = document.querySelector('#df-be186022-33b8-4046-a628-a04941b2db64');\n",
              "          const dataTable =\n",
              "            await google.colab.kernel.invokeFunction('convertToInteractive',\n",
              "                                                     [key], {});\n",
              "          if (!dataTable) return;\n",
              "\n",
              "          const docLinkHtml = 'Like what you see? Visit the ' +\n",
              "            '<a target=\"_blank\" href=https://colab.research.google.com/notebooks/data_table.ipynb>data table notebook</a>'\n",
              "            + ' to learn more about interactive tables.';\n",
              "          element.innerHTML = '';\n",
              "          dataTable['output_type'] = 'display_data';\n",
              "          await google.colab.output.renderOutput(dataTable, element);\n",
              "          const docLink = document.createElement('div');\n",
              "          docLink.innerHTML = docLinkHtml;\n",
              "          element.appendChild(docLink);\n",
              "        }\n",
              "      </script>\n",
              "    </div>\n",
              "  </div>\n",
              "  "
            ]
          },
          "metadata": {}
        }
      ]
    },
    {
      "cell_type": "code",
      "source": [
        "np.power(10,pathAB_dB['AP1']/20)"
      ],
      "metadata": {
        "colab": {
          "base_uri": "https://localhost:8080/"
        },
        "id": "qV-nXecKxQ-m",
        "outputId": "8ff6bf0b-c65c-4305-d2ba-05f5c7ef059b"
      },
      "execution_count": 3,
      "outputs": [
        {
          "output_type": "execute_result",
          "data": {
            "text/plain": [
              "0        1.000000\n",
              "1        0.997478\n",
              "2        1.009660\n",
              "3        1.006576\n",
              "4        0.994963\n",
              "           ...   \n",
              "10692    1.071257\n",
              "10693    1.104048\n",
              "10694    1.053684\n",
              "10695    1.022874\n",
              "10696    1.000000\n",
              "Name: AP1, Length: 10697, dtype: float64"
            ]
          },
          "metadata": {},
          "execution_count": 3
        }
      ]
    },
    {
      "cell_type": "code",
      "source": [
        "pathAB_linear['AP1']"
      ],
      "metadata": {
        "colab": {
          "base_uri": "https://localhost:8080/"
        },
        "id": "igCV8mH6347p",
        "outputId": "e45edbf0-245c-4f28-a376-8f5a1f5fc198"
      },
      "execution_count": 4,
      "outputs": [
        {
          "output_type": "execute_result",
          "data": {
            "text/plain": [
              "0        1.000000\n",
              "1        0.997478\n",
              "2        1.009660\n",
              "3        1.006576\n",
              "4        0.994963\n",
              "           ...   \n",
              "10692    1.071257\n",
              "10693    1.104048\n",
              "10694    1.053684\n",
              "10695    1.022874\n",
              "10696    1.000000\n",
              "Name: AP1, Length: 10697, dtype: float64"
            ]
          },
          "metadata": {},
          "execution_count": 4
        }
      ]
    },
    {
      "cell_type": "code",
      "source": [
        "### PARAMETERS\n",
        "nMaxGen = 50\n",
        "nPopulation = 1000\n",
        "savePlots = True\n",
        "showPlots = False\n",
        "fitnessType = 'MSE'\n",
        "nExtractedSamples = 81"
      ],
      "metadata": {
        "id": "f6Fu61I-Pu8f"
      },
      "execution_count": 5,
      "outputs": []
    },
    {
      "cell_type": "code",
      "source": [
        "## Auxiliary Methods\n",
        "\n",
        "def getDensityEstimationSamples(linear_data, nExtractedSamples):\n",
        "  '''\n",
        "  Extracted KDE uniformly spaced samples from the data.\n",
        "  '''\n",
        "  Xdata = np.linspace(min(linear_data), max(linear_data), nExtractedSamples)\n",
        "\n",
        "  kde = KernelDensity(kernel='gaussian', bandwidth=0.05).fit(linear_data.values.reshape(-1, 1))\n",
        "  Vecpoints = np.linspace(linear_data.min(), linear_data.max(), 81).reshape(-1, 1)\n",
        "  logkde = kde.score_samples(Vecpoints)\n",
        "\n",
        "  plt.figure(figsize=(10,7))\n",
        "  plt.scatter(20*np.log10(Vecpoints), np.exp(logkde),c='magenta')\n",
        "  plt.ylabel('Density')\n",
        "  plt.xlabel('dBm')\n",
        "  plt.grid()\n",
        "  plt.show()\n",
        "  return Xdata, np.exp(logkde)\n",
        "\n",
        "def computePDF(r, kappa, mu, omega):\n",
        "  '''\n",
        "  kappa-mu pdf.\n",
        "  '''\n",
        "\n",
        "  A = (2*mu * ((1 + kappa)**((mu+1)/2))) \\\n",
        "          /(np.sqrt(omega) * (kappa**((mu-1)/2)) * np.exp(mu * kappa))\n",
        "          # /((kappa**((mu - 1)/2)) * np.exp(mu * kappa))\n",
        "  # R = r / r_hat\n",
        "  B = (r / np.sqrt(omega))**(mu)\n",
        "  # B = (R**mu) * np.exp(- mu*(1 + kappa)*(R**2))\n",
        "  C = np.exp(-mu*(1+kappa) * (r/np.sqrt(omega))**2)\n",
        "  # C = sp.iv(mu - 1, 2*mu * R * np.sqrt(kappa*(1 + kappa)))\n",
        "  D = sp.iv(mu-1, 2*mu * np.sqrt(kappa * (1+kappa)) * (r/np.sqrt(omega)))\n",
        "\n",
        "  pdf = A * B * C * D\n",
        "  return pdf\n",
        "\n",
        "def kldiv(pVec1, pVec2):\n",
        "  '''\n",
        "  Kullback-Leibler divergence.\n",
        "  '''\n",
        "  KL = np.sum(pVec1*(np.log2(pVec1)-np.log2(pVec2)))\n",
        "  return KL\n",
        "\n",
        "def RAD(kldiv1, kldiv2):\n",
        "  '''\n",
        "  Resistor-Average Distance.\n",
        "  '''\n",
        "  RAD = 1/(1/kldiv1+1/kldiv2)\n",
        "  return RAD\n",
        "\n",
        "def fitness(fitnessType, kappa, mu, omega):\n",
        "  '''\n",
        "  Fitness function (MSE/RAD) to determine how good a given solution is.\n",
        "  '''\n",
        "  global X\n",
        "  global Y\n",
        "\n",
        "  if fitnessType == 'MSE':\n",
        "    y_pred = computePDF(X, kappa, mu, omega)\n",
        "    n = len(Y)\n",
        "    cost = 1/n * sum(val**2 for val in (Y-y_pred))\n",
        "    return 1/cost\n",
        "  elif fitnessType == 'RAD':\n",
        "    pVec1 = Y/np.sum(Y)\n",
        "    pVec2 = computePDF(X, kappa, mu, omega)/np.sum(computePDF(X, kappa, mu, omega))\n",
        "    KLD_1 = kldiv(pVec1, pVec2)\n",
        "    KLD_2 = kldiv(pVec2, pVec1)\n",
        "    cost = RAD(KLD_1, KLD_2)\n",
        "    return 1/cost\n",
        "\n",
        "def geneticAlgorithm(X, Y):\n",
        "  '''\n",
        "  Evolutionary Loop\n",
        "  '''\n",
        "  solutions = []\n",
        "  bestParams = []\n",
        "  bestCriteria = 0\n",
        "  bestGen = 0\n",
        "\n",
        "\n",
        "  # Generate solutions (chromossomes)\n",
        "  for s in range(nPopulation):\n",
        "    solutions.append((random.uniform(0.1, 100), # kappa\n",
        "                        random.uniform(0.1, 1.0), # mu\n",
        "                        random.uniform(0.1, 2))) # r_hat^2\n",
        "\n",
        "  # Evolutionary Loop\n",
        "  for i in range(nMaxGen):\n",
        "    rankedSolutions = []\t\n",
        "    for s in solutions:\n",
        "      rankedSolutions.append( (fitness(fitnessType, s[0],s[1],s[2]), s) )\n",
        "    rankedSolutions.sort()\n",
        "    rankedSolutions.reverse()\n",
        "    \n",
        "    print(f'=== Generation: {i} === ')\n",
        "    print(f'Fitness: {rankedSolutions[0][0]}')\n",
        "    print('Best individual:')\n",
        "    print(f'Kappa: {rankedSolutions[0][1][0]}')\n",
        "    print(f'Mu: {rankedSolutions[0][1][1]}')\n",
        "    print(f'Omega: {rankedSolutions[0][1][2]}\\n')\n",
        "\n",
        "    plt.figure(figsize=((10,7)))\n",
        "    plt.plot(20*np.log10(X), computePDF(X, rankedSolutions[0][1][0], rankedSolutions[0][1][1], rankedSolutions[0][1][2]), label='Predicted')\n",
        "    plt.scatter(20*np.log10(X), Y, color='m', label='Real')\n",
        "    plt.plot(20*np.log10(X), computePDF(X, 60.0747320167390, 0.100000000000035, 1.09085912951657), label='Nidhi\\'s MLE')\n",
        "    plt.title(f'=== Generation: {i} === ')\n",
        "    plt.legend()\n",
        "    plt.grid(True)\n",
        "    plt.xlabel(r'$\\rho=r/\\hat{r}$')\n",
        "    plt.ylabel('pdf')\n",
        "    if savePlots: \n",
        "      plt.savefig(f'plots/gen/gen_{i}.png')\n",
        "    \n",
        "    if showPlots:\n",
        "      plt.show()\n",
        "      plt.clf()\n",
        "    else: \n",
        "      plt.clf()\n",
        "\n",
        "    # Keeping track the best params and generation:\n",
        "    if rankedSolutions[0][0] > bestCriteria:\n",
        "      bestCriteria = rankedSolutions[0][0]\n",
        "      bestGen = i\n",
        "      bestParams = rankedSolutions[0][1]\n",
        "\n",
        "    # Stop Criterion: Fitness > 150 (TRIAL AND ERROR)\n",
        "    # if rankedSolutions[0][0] > 152.8:\n",
        "    #   print('='*10+'\\n'+'Stopped by fitness criteria!\\n'+'='*10+'\\n')\n",
        "    #   # print('='*10)\n",
        "    #   # print('Stopped by fitness criteria!')\n",
        "    #   # print('='*10)\n",
        "    #   print('Best Fitness: {}\\nBest Gen: {}'.format(bestCriteria, bestGen))\n",
        "    #   print('Kappa: {}\\nMu: {}\\nOmega: {}'.format(bestParams[0],bestParams[1],bestParams[2]))\n",
        "    #   break\n",
        "\n",
        "    # Combine the best solutions and make a new solution of those combined solutions\n",
        "    bestSolutions = rankedSolutions[:100]\n",
        "    elements_kappa = []\n",
        "    elements_mu = []\n",
        "    elements_omega = [] \n",
        "    for s in bestSolutions:\n",
        "      elements_kappa.append(s[1][0])\n",
        "      elements_mu.append(s[1][1])\n",
        "      elements_omega.append(s[1][2])\n",
        "\n",
        "    newGen = []\n",
        "    for _ in range(nPopulation):\n",
        "      e1 = random.choice(elements_kappa) * random.uniform(0.975,1.025) # Mutation of 5%\n",
        "      e2 = random.choice(elements_mu) * random.uniform(0.975,1.025) # Mutation of 5%\n",
        "      e3 = random.choice(elements_omega) * random.uniform(0.975,1.025) # Mutation of 5%\n",
        "      newGen.append((e1,e2,e3))\n",
        "\n",
        "    solutions = newGen\n",
        "    \n",
        "    if i == nMaxGen-1:\n",
        "      print('='*10+'\\n'+'Max number of generations exceeded!\\n'+'='*10+'\\n')\n",
        "      # print()\n",
        "      # print('='*10)\n",
        "      print('Best Fitness: {}\\nBest Gen: {}'.format(bestCriteria, bestGen))\n",
        "      print('Kappa: {}\\nMu: {}\\nOmega: {}'.format(bestParams[0],bestParams[1],bestParams[2]))\n",
        "\n",
        "      return bestParams[0],bestParams[1],bestParams[2]"
      ],
      "metadata": {
        "id": "DnClOqg45tHI"
      },
      "execution_count": 6,
      "outputs": []
    },
    {
      "cell_type": "code",
      "source": [
        "X, Y = getDensityEstimationSamples(pathAB_linear['AP1'].dropna(), nExtractedSamples)"
      ],
      "metadata": {
        "colab": {
          "base_uri": "https://localhost:8080/",
          "height": 442
        },
        "id": "TqhZvKZsP5cF",
        "outputId": "2d203a55-7787-49eb-dea2-beaea41432b1"
      },
      "execution_count": 7,
      "outputs": [
        {
          "output_type": "display_data",
          "data": {
            "text/plain": [
              "<Figure size 720x504 with 1 Axes>"
            ],
            "image/png": "[encoded data removed]"
          },
          "metadata": {
            "needs_background": "light"
          }
        }
      ]
    },
    {
      "cell_type": "code",
      "source": [
        "plt.figure(figsize=(10,7))\n",
        "plt.plot(20*np.log10(X),computePDF(X, 60.0747320167390, 0.100000000000035, 1.09085912951657),'r') # Nidhi's MLE result\n",
        "plt.title('Comparison - Nidhi\\'s AP1 result')\n",
        "plt.scatter(20*np.log10(X),Y) # True samples\n",
        "plt.grid()\n",
        "plt.xlabel('dBm')\n",
        "plt.ylabel('Density')\n",
        "plt.show()"
      ],
      "metadata": {
        "colab": {
          "base_uri": "https://localhost:8080/",
          "height": 458
        },
        "id": "AHa-3cuSIou4",
        "outputId": "5e654244-69e4-4911-e04e-8b5c23ef541a"
      },
      "execution_count": 8,
      "outputs": [
        {
          "output_type": "display_data",
          "data": {
            "text/plain": [
              "<Figure size 720x504 with 1 Axes>"
            ],
            "image/png": "[encoded data removed]"
          },
          "metadata": {
            "needs_background": "light"
          }
        }
      ]
    },
    {
      "cell_type": "markdown",
      "source": [
        "## AP 1 - Fitness: MSE"
      ],
      "metadata": {
        "id": "HfU73OFiWMry"
      }
    },
    {
      "cell_type": "code",
      "source": [
        "kappa_hat, mu_hat, omega_hat = geneticAlgorithm(X,Y)"
      ],
      "metadata": {
        "colab": {
          "base_uri": "https://localhost:8080/",
          "height": 1000
        },
        "id": "I2gmkuWJIprN",
        "outputId": "f09622cc-4fd3-4f29-8339-aca90bd601c2"
      },
      "execution_count": 9,
      "outputs": [
        {
          "output_type": "stream",
          "name": "stderr",
          "text": [
            "/usr/local/lib/python3.7/dist-packages/ipykernel_launcher.py:35: RuntimeWarning: invalid value encountered in multiply\n"
          ]
        },
        {
          "output_type": "stream",
          "name": "stdout",
          "text": [
            "=== Generation: 0 === \n",
            "Fitness: 70.9585616039682\n",
            "Best individual:\n",
            "Kappa: 20.972749114504374\n",
            "Mu: 0.2022358516650229\n",
            "Omega: 1.155775153038752\n",
            "\n",
            "=== Generation: 1 === \n",
            "Fitness: 151.63055227260043\n",
            "Best individual:\n",
            "Kappa: 26.998934006300022\n",
            "Mu: 0.21034638228148467\n",
            "Omega: 1.0944525016899775\n",
            "\n",
            "=== Generation: 2 === \n",
            "Fitness: 151.0710506217893\n",
            "Best individual:\n",
            "Kappa: 17.71186362502598\n",
            "Mu: 0.3192094290554807\n",
            "Omega: 1.1018511423779906\n",
            "\n",
            "=== Generation: 3 === \n",
            "Fitness: 152.02071392293294\n",
            "Best individual:\n",
            "Kappa: 37.24380455857111\n",
            "Mu: 0.16330276072248298\n",
            "Omega: 1.0956149546933835\n",
            "\n",
            "=== Generation: 4 === \n",
            "Fitness: 151.73610027759557\n",
            "Best individual:\n",
            "Kappa: 26.17572343369122\n",
            "Mu: 0.2167898080461557\n",
            "Omega: 1.0929935846234895\n",
            "\n",
            "=== Generation: 5 === \n",
            "Fitness: 152.344340082157\n",
            "Best individual:\n",
            "Kappa: 25.826616870788037\n",
            "Mu: 0.2267017628775237\n",
            "Omega: 1.0873308700548758\n",
            "\n",
            "=== Generation: 6 === \n",
            "Fitness: 152.17138932875255\n",
            "Best individual:\n",
            "Kappa: 21.422188634281813\n",
            "Mu: 0.2714658111467523\n",
            "Omega: 1.094191137060948\n",
            "\n",
            "=== Generation: 7 === \n",
            "Fitness: 152.28169943025674\n",
            "Best individual:\n",
            "Kappa: 21.09306577160113\n",
            "Mu: 0.27131615643687296\n",
            "Omega: 1.09368048314481\n",
            "\n",
            "=== Generation: 8 === \n",
            "Fitness: 152.28205135084784\n",
            "Best individual:\n",
            "Kappa: 21.37397212277373\n",
            "Mu: 0.27056333444417685\n",
            "Omega: 1.0944253675273943\n",
            "\n",
            "=== Generation: 9 === \n",
            "Fitness: 152.3465236751858\n",
            "Best individual:\n",
            "Kappa: 21.381899154031125\n",
            "Mu: 0.2689882121239353\n",
            "Omega: 1.093197403609668\n",
            "\n",
            "=== Generation: 10 === \n",
            "Fitness: 152.32963637107142\n",
            "Best individual:\n",
            "Kappa: 21.199360443808654\n",
            "Mu: 0.2710860141478639\n",
            "Omega: 1.0924254118431629\n",
            "\n",
            "=== Generation: 11 === \n",
            "Fitness: 152.3039400524812\n",
            "Best individual:\n",
            "Kappa: 20.945204753699233\n",
            "Mu: 0.2744196296506424\n",
            "Omega: 1.093078935185764\n",
            "\n",
            "=== Generation: 12 === \n",
            "Fitness: 152.34028220234777\n",
            "Best individual:\n",
            "Kappa: 21.52910854449043\n",
            "Mu: 0.26784198054315816\n",
            "Omega: 1.0915620932618506\n",
            "\n",
            "=== Generation: 13 === \n",
            "Fitness: 152.29146682375207\n",
            "Best individual:\n",
            "Kappa: 21.312451918199915\n",
            "Mu: 0.271416255363205\n",
            "Omega: 1.0933219774853442\n",
            "\n",
            "=== Generation: 14 === \n",
            "Fitness: 152.29144259213533\n",
            "Best individual:\n",
            "Kappa: 21.107740562218062\n",
            "Mu: 0.2726711611631068\n",
            "Omega: 1.0912676886245924\n",
            "\n",
            "=== Generation: 15 === \n",
            "Fitness: 152.3195757587417\n",
            "Best individual:\n",
            "Kappa: 21.35793000273505\n",
            "Mu: 0.2687564273387947\n",
            "Omega: 1.0912775730380364\n",
            "\n",
            "=== Generation: 16 === \n",
            "Fitness: 152.31547144036972\n",
            "Best individual:\n",
            "Kappa: 21.33843087978686\n",
            "Mu: 0.2693089693008202\n",
            "Omega: 1.0942973630973336\n",
            "\n",
            "=== Generation: 17 === \n",
            "Fitness: 152.36627948251152\n",
            "Best individual:\n",
            "Kappa: 21.70759631472145\n",
            "Mu: 0.26606529158810593\n",
            "Omega: 1.0926524385021554\n",
            "\n",
            "=== Generation: 18 === \n",
            "Fitness: 152.34103928203052\n",
            "Best individual:\n",
            "Kappa: 21.30993188000852\n",
            "Mu: 0.26990559740770875\n",
            "Omega: 1.0930252313996978\n",
            "\n",
            "=== Generation: 19 === \n",
            "Fitness: 152.34492888843084\n",
            "Best individual:\n",
            "Kappa: 21.54064057579552\n",
            "Mu: 0.2677180615748633\n",
            "Omega: 1.0917061290456047\n",
            "\n",
            "=== Generation: 20 === \n",
            "Fitness: 152.34415371241883\n",
            "Best individual:\n",
            "Kappa: 21.484368348851618\n",
            "Mu: 0.2685983466765107\n",
            "Omega: 1.0923548349497691\n",
            "\n",
            "=== Generation: 21 === \n",
            "Fitness: 152.34320725645625\n",
            "Best individual:\n",
            "Kappa: 21.461428822127584\n",
            "Mu: 0.2687072897918033\n",
            "Omega: 1.0935397021251212\n",
            "\n",
            "=== Generation: 22 === \n",
            "Fitness: 152.36516557363635\n",
            "Best individual:\n",
            "Kappa: 21.880083830562416\n",
            "Mu: 0.2635802285343898\n",
            "Omega: 1.0910852988605915\n",
            "\n",
            "=== Generation: 23 === \n",
            "Fitness: 152.33624836741618\n",
            "Best individual:\n",
            "Kappa: 21.46114860097492\n",
            "Mu: 0.26777185251325675\n",
            "Omega: 1.0913892472761872\n",
            "\n",
            "=== Generation: 24 === \n",
            "Fitness: 152.3664244679226\n",
            "Best individual:\n",
            "Kappa: 21.603964433592676\n",
            "Mu: 0.26628372612083134\n",
            "Omega: 1.0932507161708225\n",
            "\n",
            "=== Generation: 25 === \n",
            "Fitness: 152.3119078869318\n",
            "Best individual:\n",
            "Kappa: 21.61827418191336\n",
            "Mu: 0.26672761936770256\n",
            "Omega: 1.0905444939868802\n",
            "\n",
            "=== Generation: 26 === \n",
            "Fitness: 152.34470868642106\n",
            "Best individual:\n",
            "Kappa: 21.933704590689757\n",
            "Mu: 0.2636784379433726\n",
            "Omega: 1.091018912239417\n",
            "\n",
            "=== Generation: 27 === \n",
            "Fitness: 152.40608893182684\n",
            "Best individual:\n",
            "Kappa: 22.167964931811948\n",
            "Mu: 0.2595456605775602\n",
            "Omega: 1.0915647082536852\n",
            "\n",
            "=== Generation: 28 === \n",
            "Fitness: 152.34650866533542\n",
            "Best individual:\n",
            "Kappa: 21.762411721216036\n",
            "Mu: 0.2632533918580187\n",
            "Omega: 1.0925772714731423\n",
            "\n",
            "=== Generation: 29 === \n",
            "Fitness: 152.35448450735052\n",
            "Best individual:\n",
            "Kappa: 21.448878006155823\n",
            "Mu: 0.26844711663381454\n",
            "Omega: 1.0926396250264014\n",
            "\n",
            "=== Generation: 30 === \n",
            "Fitness: 152.37444659140698\n",
            "Best individual:\n",
            "Kappa: 22.469492523909132\n",
            "Mu: 0.25641662558359046\n",
            "Omega: 1.0899918671550415\n",
            "\n",
            "=== Generation: 31 === \n",
            "Fitness: 152.39305972880607\n",
            "Best individual:\n",
            "Kappa: 22.1430812414123\n",
            "Mu: 0.2612602809628244\n",
            "Omega: 1.0918062274132974\n",
            "\n",
            "=== Generation: 32 === \n",
            "Fitness: 152.33375186893673\n",
            "Best individual:\n",
            "Kappa: 21.984169960129755\n",
            "Mu: 0.2638674934470828\n",
            "Omega: 1.0920550128929394\n",
            "\n",
            "=== Generation: 33 === \n",
            "Fitness: 152.39432677136898\n",
            "Best individual:\n",
            "Kappa: 21.929939559131387\n",
            "Mu: 0.26318498120573713\n",
            "Omega: 1.092250199925461\n",
            "\n",
            "=== Generation: 34 === \n",
            "Fitness: 152.40025290710992\n",
            "Best individual:\n",
            "Kappa: 22.15742329142829\n",
            "Mu: 0.26113849718298426\n",
            "Omega: 1.0922419742128109\n",
            "\n",
            "=== Generation: 35 === \n",
            "Fitness: 152.36784170189392\n",
            "Best individual:\n",
            "Kappa: 21.806272948060453\n",
            "Mu: 0.264555753085937\n",
            "Omega: 1.0914776383828726\n",
            "\n",
            "=== Generation: 36 === \n",
            "Fitness: 152.34112793919957\n",
            "Best individual:\n",
            "Kappa: 21.801465708053076\n",
            "Mu: 0.2656507678334261\n",
            "Omega: 1.093441023157728\n",
            "\n",
            "=== Generation: 37 === \n",
            "Fitness: 152.3986962423541\n",
            "Best individual:\n",
            "Kappa: 21.907319809456084\n",
            "Mu: 0.26286317704462014\n",
            "Omega: 1.092513480764413\n",
            "\n",
            "=== Generation: 38 === \n",
            "Fitness: 152.32331932541777\n",
            "Best individual:\n",
            "Kappa: 21.93859036617769\n",
            "Mu: 0.26100360132074923\n",
            "Omega: 1.0909762107583496\n",
            "\n",
            "=== Generation: 39 === \n",
            "Fitness: 152.3636108031887\n",
            "Best individual:\n",
            "Kappa: 22.473589146047317\n",
            "Mu: 0.2556270479801465\n",
            "Omega: 1.0946859832468676\n",
            "\n",
            "=== Generation: 40 === \n",
            "Fitness: 152.4338495110895\n",
            "Best individual:\n",
            "Kappa: 22.379779448466415\n",
            "Mu: 0.25830294916454377\n",
            "Omega: 1.0931523269684755\n",
            "\n",
            "=== Generation: 41 === \n",
            "Fitness: 152.39102048124772\n",
            "Best individual:\n",
            "Kappa: 22.060737268106074\n",
            "Mu: 0.26025304371145097\n",
            "Omega: 1.0923516375091198\n",
            "\n",
            "=== Generation: 42 === \n",
            "Fitness: 152.40767237180648\n",
            "Best individual:\n",
            "Kappa: 22.15196858728624\n",
            "Mu: 0.2598977439664798\n",
            "Omega: 1.0915764176080704\n",
            "\n",
            "=== Generation: 43 === \n",
            "Fitness: 152.37309699400265\n",
            "Best individual:\n",
            "Kappa: 22.013507775194267\n",
            "Mu: 0.26306607645512425\n",
            "Omega: 1.0932596736155293\n",
            "\n",
            "=== Generation: 44 === \n",
            "Fitness: 152.38693645113764\n",
            "Best individual:\n",
            "Kappa: 21.811507810557327\n",
            "Mu: 0.2639119789152382\n",
            "Omega: 1.0921506440409603\n",
            "\n",
            "=== Generation: 45 === \n",
            "Fitness: 152.37894235257494\n",
            "Best individual:\n",
            "Kappa: 22.193600339591917\n",
            "Mu: 0.2612729071337854\n",
            "Omega: 1.0930687813997446\n",
            "\n",
            "=== Generation: 46 === \n",
            "Fitness: 152.42029014068527\n",
            "Best individual:\n",
            "Kappa: 22.170515412403812\n",
            "Mu: 0.25974290027664115\n",
            "Omega: 1.0928672593841386\n",
            "\n",
            "=== Generation: 47 === \n",
            "Fitness: 152.4107479883426\n",
            "Best individual:\n",
            "Kappa: 22.21891534746474\n",
            "Mu: 0.25966605623032835\n",
            "Omega: 1.0914288106229022\n",
            "\n",
            "=== Generation: 48 === \n",
            "Fitness: 152.38448140583492\n",
            "Best individual:\n",
            "Kappa: 21.9295596438676\n",
            "Mu: 0.262045338551536\n",
            "Omega: 1.091772977891055\n",
            "\n",
            "=== Generation: 49 === \n",
            "Fitness: 152.43158480545748\n",
            "Best individual:\n",
            "Kappa: 22.500011416555708\n",
            "Mu: 0.25601843938053753\n",
            "Omega: 1.0937207227786825\n",
            "\n",
            "==========\n",
            "Max number of generations exceeded!\n",
            "==========\n",
            "\n",
            "Best Fitness: 152.4338495110895\n",
            "Best Gen: 40\n",
            "Kappa: 22.379779448466415\n",
            "Mu: 0.25830294916454377\n",
            "Omega: 1.0931523269684755\n"
          ]
        },
        {
          "output_type": "display_data",
          "data": {
            "text/plain": [
              "<Figure size 720x504 with 0 Axes>"
            ]
          },
          "metadata": {}
        },
        {
          "output_type": "display_data",
          "data": {
            "text/plain": [
              "<Figure size 720x504 with 0 Axes>"
            ]
          },
          "metadata": {}
        },
        {
          "output_type": "display_data",
          "data": {
            "text/plain": [
              "<Figure size 720x504 with 0 Axes>"
            ]
          },
          "metadata": {}
        },
        {
          "output_type": "display_data",
          "data": {
            "text/plain": [
              "<Figure size 720x504 with 0 Axes>"
            ]
          },
          "metadata": {}
        },
        {
          "output_type": "display_data",
          "data": {
            "text/plain": [
              "<Figure size 720x504 with 0 Axes>"
            ]
          },
          "metadata": {}
        },
        {
          "output_type": "display_data",
          "data": {
            "text/plain": [
              "<Figure size 720x504 with 0 Axes>"
            ]
          },
          "metadata": {}
        },
        {
          "output_type": "display_data",
          "data": {
            "text/plain": [
              "<Figure size 720x504 with 0 Axes>"
            ]
          },
          "metadata": {}
        },
        {
          "output_type": "display_data",
          "data": {
            "text/plain": [
              "<Figure size 720x504 with 0 Axes>"
            ]
          },
          "metadata": {}
        },
        {
          "output_type": "display_data",
          "data": {
            "text/plain": [
              "<Figure size 720x504 with 0 Axes>"
            ]
          },
          "metadata": {}
        },
        {
          "output_type": "display_data",
          "data": {
            "text/plain": [
              "<Figure size 720x504 with 0 Axes>"
            ]
          },
          "metadata": {}
        },
        {
          "output_type": "display_data",
          "data": {
            "text/plain": [
              "<Figure size 720x504 with 0 Axes>"
            ]
          },
          "metadata": {}
        },
        {
          "output_type": "display_data",
          "data": {
            "text/plain": [
              "<Figure size 720x504 with 0 Axes>"
            ]
          },
          "metadata": {}
        },
        {
          "output_type": "display_data",
          "data": {
            "text/plain": [
              "<Figure size 720x504 with 0 Axes>"
            ]
          },
          "metadata": {}
        },
        {
          "output_type": "display_data",
          "data": {
            "text/plain": [
              "<Figure size 720x504 with 0 Axes>"
            ]
          },
          "metadata": {}
        },
        {
          "output_type": "display_data",
          "data": {
            "text/plain": [
              "<Figure size 720x504 with 0 Axes>"
            ]
          },
          "metadata": {}
        },
        {
          "output_type": "display_data",
          "data": {
            "text/plain": [
              "<Figure size 720x504 with 0 Axes>"
            ]
          },
          "metadata": {}
        },
        {
          "output_type": "display_data",
          "data": {
            "text/plain": [
              "<Figure size 720x504 with 0 Axes>"
            ]
          },
          "metadata": {}
        },
        {
          "output_type": "display_data",
          "data": {
            "text/plain": [
              "<Figure size 720x504 with 0 Axes>"
            ]
          },
          "metadata": {}
        },
        {
          "output_type": "display_data",
          "data": {
            "text/plain": [
              "<Figure size 720x504 with 0 Axes>"
            ]
          },
          "metadata": {}
        },
        {
          "output_type": "display_data",
          "data": {
            "text/plain": [
              "<Figure size 720x504 with 0 Axes>"
            ]
          },
          "metadata": {}
        },
        {
          "output_type": "display_data",
          "data": {
            "text/plain": [
              "<Figure size 720x504 with 0 Axes>"
            ]
          },
          "metadata": {}
        },
        {
          "output_type": "display_data",
          "data": {
            "text/plain": [
              "<Figure size 720x504 with 0 Axes>"
            ]
          },
          "metadata": {}
        },
        {
          "output_type": "display_data",
          "data": {
            "text/plain": [
              "<Figure size 720x504 with 0 Axes>"
            ]
          },
          "metadata": {}
        },
        {
          "output_type": "display_data",
          "data": {
            "text/plain": [
              "<Figure size 720x504 with 0 Axes>"
            ]
          },
          "metadata": {}
        },
        {
          "output_type": "display_data",
          "data": {
            "text/plain": [
              "<Figure size 720x504 with 0 Axes>"
            ]
          },
          "metadata": {}
        },
        {
          "output_type": "display_data",
          "data": {
            "text/plain": [
              "<Figure size 720x504 with 0 Axes>"
            ]
          },
          "metadata": {}
        },
        {
          "output_type": "display_data",
          "data": {
            "text/plain": [
              "<Figure size 720x504 with 0 Axes>"
            ]
          },
          "metadata": {}
        },
        {
          "output_type": "display_data",
          "data": {
            "text/plain": [
              "<Figure size 720x504 with 0 Axes>"
            ]
          },
          "metadata": {}
        },
        {
          "output_type": "display_data",
          "data": {
            "text/plain": [
              "<Figure size 720x504 with 0 Axes>"
            ]
          },
          "metadata": {}
        },
        {
          "output_type": "display_data",
          "data": {
            "text/plain": [
              "<Figure size 720x504 with 0 Axes>"
            ]
          },
          "metadata": {}
        },
        {
          "output_type": "display_data",
          "data": {
            "text/plain": [
              "<Figure size 720x504 with 0 Axes>"
            ]
          },
          "metadata": {}
        },
        {
          "output_type": "display_data",
          "data": {
            "text/plain": [
              "<Figure size 720x504 with 0 Axes>"
            ]
          },
          "metadata": {}
        },
        {
          "output_type": "display_data",
          "data": {
            "text/plain": [
              "<Figure size 720x504 with 0 Axes>"
            ]
          },
          "metadata": {}
        },
        {
          "output_type": "display_data",
          "data": {
            "text/plain": [
              "<Figure size 720x504 with 0 Axes>"
            ]
          },
          "metadata": {}
        },
        {
          "output_type": "display_data",
          "data": {
            "text/plain": [
              "<Figure size 720x504 with 0 Axes>"
            ]
          },
          "metadata": {}
        },
        {
          "output_type": "display_data",
          "data": {
            "text/plain": [
              "<Figure size 720x504 with 0 Axes>"
            ]
          },
          "metadata": {}
        },
        {
          "output_type": "display_data",
          "data": {
            "text/plain": [
              "<Figure size 720x504 with 0 Axes>"
            ]
          },
          "metadata": {}
        },
        {
          "output_type": "display_data",
          "data": {
            "text/plain": [
              "<Figure size 720x504 with 0 Axes>"
            ]
          },
          "metadata": {}
        },
        {
          "output_type": "display_data",
          "data": {
            "text/plain": [
              "<Figure size 720x504 with 0 Axes>"
            ]
          },
          "metadata": {}
        },
        {
          "output_type": "display_data",
          "data": {
            "text/plain": [
              "<Figure size 720x504 with 0 Axes>"
            ]
          },
          "metadata": {}
        },
        {
          "output_type": "display_data",
          "data": {
            "text/plain": [
              "<Figure size 720x504 with 0 Axes>"
            ]
          },
          "metadata": {}
        },
        {
          "output_type": "display_data",
          "data": {
            "text/plain": [
              "<Figure size 720x504 with 0 Axes>"
            ]
          },
          "metadata": {}
        },
        {
          "output_type": "display_data",
          "data": {
            "text/plain": [
              "<Figure size 720x504 with 0 Axes>"
            ]
          },
          "metadata": {}
        },
        {
          "output_type": "display_data",
          "data": {
            "text/plain": [
              "<Figure size 720x504 with 0 Axes>"
            ]
          },
          "metadata": {}
        },
        {
          "output_type": "display_data",
          "data": {
            "text/plain": [
              "<Figure size 720x504 with 0 Axes>"
            ]
          },
          "metadata": {}
        },
        {
          "output_type": "display_data",
          "data": {
            "text/plain": [
              "<Figure size 720x504 with 0 Axes>"
            ]
          },
          "metadata": {}
        },
        {
          "output_type": "display_data",
          "data": {
            "text/plain": [
              "<Figure size 720x504 with 0 Axes>"
            ]
          },
          "metadata": {}
        },
        {
          "output_type": "display_data",
          "data": {
            "text/plain": [
              "<Figure size 720x504 with 0 Axes>"
            ]
          },
          "metadata": {}
        },
        {
          "output_type": "display_data",
          "data": {
            "text/plain": [
              "<Figure size 720x504 with 0 Axes>"
            ]
          },
          "metadata": {}
        },
        {
          "output_type": "display_data",
          "data": {
            "text/plain": [
              "<Figure size 720x504 with 0 Axes>"
            ]
          },
          "metadata": {}
        }
      ]
    },
    {
      "cell_type": "code",
      "source": [
        "pVec1 = Y/np.sum(Y)\n",
        "pVec2 = computePDF(X, kappa_hat, mu_hat, omega_hat)/np.sum(computePDF(X, kappa_hat, mu_hat, omega_hat))\n",
        "\n",
        "\n",
        "KLD_1 = kldiv(pVec1, pVec2)\n",
        "KLD_2 = kldiv(pVec2, pVec1)\n",
        "\n",
        "print('Genetic Algorithm - Resistor-Average Distance:',RAD(KLD_1, KLD_2))"
      ],
      "metadata": {
        "colab": {
          "base_uri": "https://localhost:8080/"
        },
        "id": "Kn2dNRBfLkCg",
        "outputId": "d4e92aec-42bf-45cb-ac38-b92ba997b82c"
      },
      "execution_count": 10,
      "outputs": [
        {
          "output_type": "stream",
          "name": "stdout",
          "text": [
            "Genetic Algorithm - Resistor-Average Distance: 0.023495452962668622\n"
          ]
        }
      ]
    },
    {
      "cell_type": "code",
      "source": [
        "pVec1 = Y/np.sum(Y)\n",
        "pVec2 = computePDF(X, 60.0747320167390, 0.100000000000035, 1.09085912951657)/np.sum(computePDF(X, 60.0747320167390, 0.100000000000035, 1.09085912951657))\n",
        "\n",
        "\n",
        "KLD_1 = kldiv(pVec1, pVec2)\n",
        "KLD_2 = kldiv(pVec2, pVec1)\n",
        "\n",
        "print('MLE - Resistor-Average Distance:',RAD(KLD_1, KLD_2))"
      ],
      "metadata": {
        "colab": {
          "base_uri": "https://localhost:8080/"
        },
        "id": "abyLBSEYNFXm",
        "outputId": "f91b347d-c591-4683-ab2c-f11f65dbc9a6"
      },
      "execution_count": 11,
      "outputs": [
        {
          "output_type": "stream",
          "name": "stdout",
          "text": [
            "MLE - Resistor-Average Distance: 0.023563305647376357\n"
          ]
        }
      ]
    },
    {
      "cell_type": "code",
      "source": [
        "kappa_hat, mu_hat, omega_hat"
      ],
      "metadata": {
        "colab": {
          "base_uri": "https://localhost:8080/"
        },
        "id": "scQfWnJLNGT1",
        "outputId": "85343558-98ae-4878-88a6-0c5354c70bfd"
      },
      "execution_count": 12,
      "outputs": [
        {
          "output_type": "execute_result",
          "data": {
            "text/plain": [
              "(22.379779448466415, 0.25830294916454377, 1.0931523269684755)"
            ]
          },
          "metadata": {},
          "execution_count": 12
        }
      ]
    },
    {
      "cell_type": "code",
      "source": [
        "plt.figure(figsize=((10,7)))\n",
        "plt.plot(20*np.log10(X), computePDF(X, kappa_hat, mu_hat, omega_hat), label='Predicted')\n",
        "plt.scatter(20*np.log10(X), Y, color='m', label='Real')\n",
        "plt.plot(20*np.log10(X), computePDF(X, 60.0747320167390, 0.100000000000035, 1.09085912951657), label='Nidhi\\'s MLE')\n",
        "plt.title(f'Best GA Fit')\n",
        "plt.legend()\n",
        "plt.grid(True)\n",
        "plt.xlabel(r'$dB$')\n",
        "plt.ylabel('pdf')\n",
        "plt.show()"
      ],
      "metadata": {
        "colab": {
          "base_uri": "https://localhost:8080/",
          "height": 460
        },
        "id": "jCqqv-RtNO7V",
        "outputId": "d2d6a857-40aa-4f13-f45e-d9c5e76fa1ca"
      },
      "execution_count": 13,
      "outputs": [
        {
          "output_type": "display_data",
          "data": {
            "text/plain": [
              "<Figure size 720x504 with 1 Axes>"
            ],
            "image/png": "[encoded data removed]"
          },
          "metadata": {
            "needs_background": "light"
          }
        }
      ]
    },
    {
      "cell_type": "markdown",
      "source": [
        "## AP 1 - Fitness: RAD"
      ],
      "metadata": {
        "id": "jqVjBxBXWF76"
      }
    },
    {
      "cell_type": "code",
      "source": [
        "fitnessType = 'RAD'\n",
        "X, Y = getDensityEstimationSamples(pathAB_linear['AP1'].dropna(), nExtractedSamples)\n",
        "kappa_hat2, mu_hat2, omega_hat2 = geneticAlgorithm(X,Y)"
      ],
      "metadata": {
        "colab": {
          "base_uri": "https://localhost:8080/",
          "height": 1000
        },
        "id": "y_8LkEshNU30",
        "outputId": "8296209f-ace3-41f0-9ee2-cdf0efcf1c53"
      },
      "execution_count": 14,
      "outputs": [
        {
          "output_type": "display_data",
          "data": {
            "text/plain": [
              "<Figure size 720x504 with 1 Axes>"
            ],
            "image/png": "[encoded data removed]"
          },
          "metadata": {
            "needs_background": "light"
          }
        },
        {
          "output_type": "stream",
          "name": "stderr",
          "text": [
            "/usr/local/lib/python3.7/dist-packages/ipykernel_launcher.py:42: RuntimeWarning: divide by zero encountered in log2\n",
            "/usr/local/lib/python3.7/dist-packages/ipykernel_launcher.py:42: RuntimeWarning: invalid value encountered in multiply\n",
            "/usr/local/lib/python3.7/dist-packages/ipykernel_launcher.py:35: RuntimeWarning: invalid value encountered in multiply\n"
          ]
        },
        {
          "output_type": "stream",
          "name": "stdout",
          "text": [
            "=== Generation: 0 === \n",
            "Fitness: nan\n",
            "Best individual:\n",
            "Kappa: 93.14394686879513\n",
            "Mu: 0.7984123304527175\n",
            "Omega: 0.519490811646648\n",
            "\n"
          ]
        },
        {
          "output_type": "stream",
          "name": "stderr",
          "text": [
            "/usr/local/lib/python3.7/dist-packages/ipykernel_launcher.py:42: RuntimeWarning: divide by zero encountered in log2\n",
            "/usr/local/lib/python3.7/dist-packages/ipykernel_launcher.py:42: RuntimeWarning: invalid value encountered in multiply\n",
            "/usr/local/lib/python3.7/dist-packages/ipykernel_launcher.py:35: RuntimeWarning: invalid value encountered in multiply\n"
          ]
        },
        {
          "output_type": "stream",
          "name": "stdout",
          "text": [
            "=== Generation: 1 === \n",
            "Fitness: 67.76590651355694\n",
            "Best individual:\n",
            "Kappa: 6.390001888394073\n",
            "Mu: 0.5676301644093324\n",
            "Omega: 1.0949049494213248\n",
            "\n"
          ]
        },
        {
          "output_type": "stream",
          "name": "stderr",
          "text": [
            "/usr/local/lib/python3.7/dist-packages/ipykernel_launcher.py:35: RuntimeWarning: invalid value encountered in multiply\n",
            "/usr/local/lib/python3.7/dist-packages/ipykernel_launcher.py:42: RuntimeWarning: divide by zero encountered in log2\n",
            "/usr/local/lib/python3.7/dist-packages/ipykernel_launcher.py:42: RuntimeWarning: invalid value encountered in multiply\n"
          ]
        },
        {
          "output_type": "stream",
          "name": "stdout",
          "text": [
            "=== Generation: 2 === \n",
            "Fitness: 67.27883533520995\n",
            "Best individual:\n",
            "Kappa: 5.5897070210349975\n",
            "Mu: 0.6636049824641032\n",
            "Omega: 1.0731868339281652\n",
            "\n",
            "=== Generation: 3 === \n",
            "Fitness: 71.5444597584875\n",
            "Best individual:\n",
            "Kappa: 5.814813672983021\n",
            "Mu: 0.6521547045210127\n",
            "Omega: 1.094266302748701\n",
            "\n",
            "=== Generation: 4 === \n",
            "Fitness: 72.95807577209413\n",
            "Best individual:\n",
            "Kappa: 14.903704847191683\n",
            "Mu: 0.2925222583529023\n",
            "Omega: 1.1119156510708728\n",
            "\n",
            "=== Generation: 5 === \n",
            "Fitness: 73.21272233578907\n",
            "Best individual:\n",
            "Kappa: 14.635713180678549\n",
            "Mu: 0.3013533891110984\n",
            "Omega: 1.106554290687348\n",
            "\n",
            "=== Generation: 6 === \n",
            "Fitness: 73.22167586528903\n",
            "Best individual:\n",
            "Kappa: 14.507320205256471\n",
            "Mu: 0.3038385369843681\n",
            "Omega: 1.1069922473420775\n",
            "\n",
            "=== Generation: 7 === \n",
            "Fitness: 73.18333222751096\n",
            "Best individual:\n",
            "Kappa: 14.448239193669675\n",
            "Mu: 0.30542536768493145\n",
            "Omega: 1.104775358725143\n",
            "\n",
            "=== Generation: 8 === \n",
            "Fitness: 73.19688705848446\n",
            "Best individual:\n",
            "Kappa: 14.699101080509248\n",
            "Mu: 0.30077015611684005\n",
            "Omega: 1.109763114280673\n",
            "\n",
            "=== Generation: 9 === \n",
            "Fitness: 73.1884148064247\n",
            "Best individual:\n",
            "Kappa: 15.004269106830233\n",
            "Mu: 0.29329690623122706\n",
            "Omega: 1.1069616713256518\n",
            "\n",
            "=== Generation: 10 === \n",
            "Fitness: 73.19960557649507\n",
            "Best individual:\n",
            "Kappa: 14.96125555905876\n",
            "Mu: 0.29572934300400133\n",
            "Omega: 1.1082790130346225\n",
            "\n",
            "=== Generation: 11 === \n",
            "Fitness: 73.19512552947984\n",
            "Best individual:\n",
            "Kappa: 15.025505788630648\n",
            "Mu: 0.2936145284989851\n",
            "Omega: 1.1065762579476874\n",
            "\n",
            "=== Generation: 12 === \n",
            "Fitness: 73.22075787012368\n",
            "Best individual:\n",
            "Kappa: 14.492636479675387\n",
            "Mu: 0.30393139790076945\n",
            "Omega: 1.1088408084599255\n",
            "\n",
            "=== Generation: 13 === \n",
            "Fitness: 73.20915955861261\n",
            "Best individual:\n",
            "Kappa: 14.73973696233468\n",
            "Mu: 0.2985661685089338\n",
            "Omega: 1.1077113052647554\n",
            "\n",
            "=== Generation: 14 === \n",
            "Fitness: 73.20352930615502\n",
            "Best individual:\n",
            "Kappa: 14.786756203176761\n",
            "Mu: 0.29869022421815966\n",
            "Omega: 1.1064232814868848\n",
            "\n",
            "=== Generation: 15 === \n",
            "Fitness: 73.21736594632192\n",
            "Best individual:\n",
            "Kappa: 14.590748076786479\n",
            "Mu: 0.3024697753148974\n",
            "Omega: 1.1084982728229895\n",
            "\n",
            "=== Generation: 16 === \n",
            "Fitness: 73.22348649558977\n",
            "Best individual:\n",
            "Kappa: 14.425248257725224\n",
            "Mu: 0.3044454307502981\n",
            "Omega: 1.1078020172452396\n",
            "\n",
            "=== Generation: 17 === \n",
            "Fitness: 73.2194076337378\n",
            "Best individual:\n",
            "Kappa: 14.435103088665766\n",
            "Mu: 0.30506690953161747\n",
            "Omega: 1.1092637731332176\n",
            "\n",
            "=== Generation: 18 === \n",
            "Fitness: 73.20822683169108\n",
            "Best individual:\n",
            "Kappa: 14.85121427500315\n",
            "Mu: 0.297209857851895\n",
            "Omega: 1.1078754899557623\n",
            "\n",
            "=== Generation: 19 === \n",
            "Fitness: 73.21020348853423\n",
            "Best individual:\n",
            "Kappa: 14.776750973273943\n",
            "Mu: 0.2985733281982786\n",
            "Omega: 1.1083402482014062\n",
            "\n",
            "=== Generation: 20 === \n",
            "Fitness: 73.22727400602318\n",
            "Best individual:\n",
            "Kappa: 14.369147189847183\n",
            "Mu: 0.3060140255674045\n",
            "Omega: 1.1067597290853708\n",
            "\n",
            "=== Generation: 21 === \n",
            "Fitness: 73.20886340617345\n",
            "Best individual:\n",
            "Kappa: 14.738706758604955\n",
            "Mu: 0.2986279601605517\n",
            "Omega: 1.1069501883759503\n",
            "\n",
            "=== Generation: 22 === \n",
            "Fitness: 73.21755467868509\n",
            "Best individual:\n",
            "Kappa: 14.533192504739302\n",
            "Mu: 0.3024193968834612\n",
            "Omega: 1.108138588140164\n",
            "\n",
            "=== Generation: 23 === \n",
            "Fitness: 73.2069335319532\n",
            "Best individual:\n",
            "Kappa: 14.824933168442417\n",
            "Mu: 0.29757566044548095\n",
            "Omega: 1.108443446256862\n",
            "\n",
            "=== Generation: 24 === \n",
            "Fitness: 73.22385098286829\n",
            "Best individual:\n",
            "Kappa: 14.425760734443825\n",
            "Mu: 0.3046639722840013\n",
            "Omega: 1.1083909596708805\n",
            "\n",
            "=== Generation: 25 === \n",
            "Fitness: 73.21344460921189\n",
            "Best individual:\n",
            "Kappa: 14.569586998725073\n",
            "Mu: 0.3017993284957359\n",
            "Omega: 1.1064310685512622\n",
            "\n",
            "=== Generation: 26 === \n",
            "Fitness: 73.2268438153572\n",
            "Best individual:\n",
            "Kappa: 14.385845663470956\n",
            "Mu: 0.30569299474049044\n",
            "Omega: 1.1085782958607575\n",
            "\n",
            "=== Generation: 27 === \n",
            "Fitness: 73.21149203645496\n",
            "Best individual:\n",
            "Kappa: 14.781322047440838\n",
            "Mu: 0.2983297754948043\n",
            "Omega: 1.10772493656375\n",
            "\n",
            "=== Generation: 28 === \n",
            "Fitness: 73.21654166822341\n",
            "Best individual:\n",
            "Kappa: 14.505193674431318\n",
            "Mu: 0.3045752132913372\n",
            "Omega: 1.10762838856189\n",
            "\n",
            "=== Generation: 29 === \n",
            "Fitness: 73.19434793830752\n",
            "Best individual:\n",
            "Kappa: 14.917579406444757\n",
            "Mu: 0.29526831488473537\n",
            "Omega: 1.1061814381241697\n",
            "\n",
            "=== Generation: 30 === \n",
            "Fitness: 73.20926756772552\n",
            "Best individual:\n",
            "Kappa: 14.703497383312152\n",
            "Mu: 0.29915916383872504\n",
            "Omega: 1.1079054809939373\n",
            "\n",
            "=== Generation: 31 === \n",
            "Fitness: 73.20252976894062\n",
            "Best individual:\n",
            "Kappa: 14.826808454280306\n",
            "Mu: 0.298490970214303\n",
            "Omega: 1.1082191689079017\n",
            "\n",
            "=== Generation: 32 === \n",
            "Fitness: 73.2090687922032\n",
            "Best individual:\n",
            "Kappa: 14.806766058434025\n",
            "Mu: 0.29840617428590804\n",
            "Omega: 1.107710086565937\n",
            "\n",
            "=== Generation: 33 === \n",
            "Fitness: 73.19985965220798\n",
            "Best individual:\n",
            "Kappa: 14.917918974214626\n",
            "Mu: 0.2960770916762384\n",
            "Omega: 1.1065020369512173\n",
            "\n",
            "=== Generation: 34 === \n",
            "Fitness: 73.21780862164096\n",
            "Best individual:\n",
            "Kappa: 14.64965787301555\n",
            "Mu: 0.3010013464414687\n",
            "Omega: 1.107536076566047\n",
            "\n",
            "=== Generation: 35 === \n",
            "Fitness: 73.20354860079775\n",
            "Best individual:\n",
            "Kappa: 14.531012676791228\n",
            "Mu: 0.3036896169790081\n",
            "Omega: 1.1100018511029024\n",
            "\n",
            "=== Generation: 36 === \n",
            "Fitness: 73.20487076907682\n",
            "Best individual:\n",
            "Kappa: 14.534490121971963\n",
            "Mu: 0.3017057585063295\n",
            "Omega: 1.1067901429390028\n",
            "\n",
            "=== Generation: 37 === \n",
            "Fitness: 73.20765135778038\n",
            "Best individual:\n",
            "Kappa: 14.57181440485033\n",
            "Mu: 0.3034895170385683\n",
            "Omega: 1.1089246134664297\n",
            "\n",
            "=== Generation: 38 === \n",
            "Fitness: 73.21354613466227\n",
            "Best individual:\n",
            "Kappa: 14.56739827999057\n",
            "Mu: 0.3023190507549033\n",
            "Omega: 1.1091138553809468\n",
            "\n",
            "=== Generation: 39 === \n",
            "Fitness: 73.21779607805678\n",
            "Best individual:\n",
            "Kappa: 14.625582858812583\n",
            "Mu: 0.3010119963697672\n",
            "Omega: 1.107782528419301\n",
            "\n",
            "=== Generation: 40 === \n",
            "Fitness: 73.20518679996432\n",
            "Best individual:\n",
            "Kappa: 14.810834431485977\n",
            "Mu: 0.2972230739378851\n",
            "Omega: 1.1071386093132647\n",
            "\n",
            "=== Generation: 41 === \n",
            "Fitness: 73.22251963493446\n",
            "Best individual:\n",
            "Kappa: 14.425457268897562\n",
            "Mu: 0.30436018454826574\n",
            "Omega: 1.1076738714602912\n",
            "\n",
            "=== Generation: 42 === \n",
            "Fitness: 73.21143946877817\n",
            "Best individual:\n",
            "Kappa: 14.725394615197645\n",
            "Mu: 0.29904702577405284\n",
            "Omega: 1.108027098074872\n",
            "\n",
            "=== Generation: 43 === \n",
            "Fitness: 73.19707125787204\n",
            "Best individual:\n",
            "Kappa: 14.602360873997558\n",
            "Mu: 0.30209904616383076\n",
            "Omega: 1.1101883667745667\n",
            "\n",
            "=== Generation: 44 === \n",
            "Fitness: 73.2187965188724\n",
            "Best individual:\n",
            "Kappa: 14.525085578115988\n",
            "Mu: 0.30261052149712364\n",
            "Omega: 1.10806566445204\n",
            "\n",
            "=== Generation: 45 === \n",
            "Fitness: 73.23218902753558\n",
            "Best individual:\n",
            "Kappa: 14.304128444950274\n",
            "Mu: 0.3077073438761403\n",
            "Omega: 1.1071522697885468\n",
            "\n",
            "=== Generation: 46 === \n",
            "Fitness: 73.23185932635414\n",
            "Best individual:\n",
            "Kappa: 14.352483617889499\n",
            "Mu: 0.3064973167303776\n",
            "Omega: 1.1075664951378785\n",
            "\n",
            "=== Generation: 47 === \n",
            "Fitness: 73.2130953721879\n",
            "Best individual:\n",
            "Kappa: 14.561986145377464\n",
            "Mu: 0.3032501272641619\n",
            "Omega: 1.1090419027825271\n",
            "\n",
            "=== Generation: 48 === \n",
            "Fitness: 73.22396820721775\n",
            "Best individual:\n",
            "Kappa: 14.450574722616702\n",
            "Mu: 0.3042167430603044\n",
            "Omega: 1.1082032695461408\n",
            "\n",
            "=== Generation: 49 === \n",
            "Fitness: 73.2302225127074\n",
            "Best individual:\n",
            "Kappa: 14.337217347509903\n",
            "Mu: 0.3072268018634051\n",
            "Omega: 1.1072619384622802\n",
            "\n",
            "==========\n",
            "Max number of generations exceeded!\n",
            "==========\n",
            "\n",
            "Best Fitness: 73.23218902753558\n",
            "Best Gen: 45\n",
            "Kappa: 14.304128444950274\n",
            "Mu: 0.3077073438761403\n",
            "Omega: 1.1071522697885468\n"
          ]
        },
        {
          "output_type": "display_data",
          "data": {
            "text/plain": [
              "<Figure size 720x504 with 0 Axes>"
            ]
          },
          "metadata": {}
        },
        {
          "output_type": "display_data",
          "data": {
            "text/plain": [
              "<Figure size 720x504 with 0 Axes>"
            ]
          },
          "metadata": {}
        },
        {
          "output_type": "display_data",
          "data": {
            "text/plain": [
              "<Figure size 720x504 with 0 Axes>"
            ]
          },
          "metadata": {}
        },
        {
          "output_type": "display_data",
          "data": {
            "text/plain": [
              "<Figure size 720x504 with 0 Axes>"
            ]
          },
          "metadata": {}
        },
        {
          "output_type": "display_data",
          "data": {
            "text/plain": [
              "<Figure size 720x504 with 0 Axes>"
            ]
          },
          "metadata": {}
        },
        {
          "output_type": "display_data",
          "data": {
            "text/plain": [
              "<Figure size 720x504 with 0 Axes>"
            ]
          },
          "metadata": {}
        },
        {
          "output_type": "display_data",
          "data": {
            "text/plain": [
              "<Figure size 720x504 with 0 Axes>"
            ]
          },
          "metadata": {}
        },
        {
          "output_type": "display_data",
          "data": {
            "text/plain": [
              "<Figure size 720x504 with 0 Axes>"
            ]
          },
          "metadata": {}
        },
        {
          "output_type": "display_data",
          "data": {
            "text/plain": [
              "<Figure size 720x504 with 0 Axes>"
            ]
          },
          "metadata": {}
        },
        {
          "output_type": "display_data",
          "data": {
            "text/plain": [
              "<Figure size 720x504 with 0 Axes>"
            ]
          },
          "metadata": {}
        },
        {
          "output_type": "display_data",
          "data": {
            "text/plain": [
              "<Figure size 720x504 with 0 Axes>"
            ]
          },
          "metadata": {}
        },
        {
          "output_type": "display_data",
          "data": {
            "text/plain": [
              "<Figure size 720x504 with 0 Axes>"
            ]
          },
          "metadata": {}
        },
        {
          "output_type": "display_data",
          "data": {
            "text/plain": [
              "<Figure size 720x504 with 0 Axes>"
            ]
          },
          "metadata": {}
        },
        {
          "output_type": "display_data",
          "data": {
            "text/plain": [
              "<Figure size 720x504 with 0 Axes>"
            ]
          },
          "metadata": {}
        },
        {
          "output_type": "display_data",
          "data": {
            "text/plain": [
              "<Figure size 720x504 with 0 Axes>"
            ]
          },
          "metadata": {}
        },
        {
          "output_type": "display_data",
          "data": {
            "text/plain": [
              "<Figure size 720x504 with 0 Axes>"
            ]
          },
          "metadata": {}
        },
        {
          "output_type": "display_data",
          "data": {
            "text/plain": [
              "<Figure size 720x504 with 0 Axes>"
            ]
          },
          "metadata": {}
        },
        {
          "output_type": "display_data",
          "data": {
            "text/plain": [
              "<Figure size 720x504 with 0 Axes>"
            ]
          },
          "metadata": {}
        },
        {
          "output_type": "display_data",
          "data": {
            "text/plain": [
              "<Figure size 720x504 with 0 Axes>"
            ]
          },
          "metadata": {}
        },
        {
          "output_type": "display_data",
          "data": {
            "text/plain": [
              "<Figure size 720x504 with 0 Axes>"
            ]
          },
          "metadata": {}
        },
        {
          "output_type": "display_data",
          "data": {
            "text/plain": [
              "<Figure size 720x504 with 0 Axes>"
            ]
          },
          "metadata": {}
        },
        {
          "output_type": "display_data",
          "data": {
            "text/plain": [
              "<Figure size 720x504 with 0 Axes>"
            ]
          },
          "metadata": {}
        },
        {
          "output_type": "display_data",
          "data": {
            "text/plain": [
              "<Figure size 720x504 with 0 Axes>"
            ]
          },
          "metadata": {}
        },
        {
          "output_type": "display_data",
          "data": {
            "text/plain": [
              "<Figure size 720x504 with 0 Axes>"
            ]
          },
          "metadata": {}
        },
        {
          "output_type": "display_data",
          "data": {
            "text/plain": [
              "<Figure size 720x504 with 0 Axes>"
            ]
          },
          "metadata": {}
        },
        {
          "output_type": "display_data",
          "data": {
            "text/plain": [
              "<Figure size 720x504 with 0 Axes>"
            ]
          },
          "metadata": {}
        },
        {
          "output_type": "display_data",
          "data": {
            "text/plain": [
              "<Figure size 720x504 with 0 Axes>"
            ]
          },
          "metadata": {}
        },
        {
          "output_type": "display_data",
          "data": {
            "text/plain": [
              "<Figure size 720x504 with 0 Axes>"
            ]
          },
          "metadata": {}
        },
        {
          "output_type": "display_data",
          "data": {
            "text/plain": [
              "<Figure size 720x504 with 0 Axes>"
            ]
          },
          "metadata": {}
        },
        {
          "output_type": "display_data",
          "data": {
            "text/plain": [
              "<Figure size 720x504 with 0 Axes>"
            ]
          },
          "metadata": {}
        },
        {
          "output_type": "display_data",
          "data": {
            "text/plain": [
              "<Figure size 720x504 with 0 Axes>"
            ]
          },
          "metadata": {}
        },
        {
          "output_type": "display_data",
          "data": {
            "text/plain": [
              "<Figure size 720x504 with 0 Axes>"
            ]
          },
          "metadata": {}
        },
        {
          "output_type": "display_data",
          "data": {
            "text/plain": [
              "<Figure size 720x504 with 0 Axes>"
            ]
          },
          "metadata": {}
        },
        {
          "output_type": "display_data",
          "data": {
            "text/plain": [
              "<Figure size 720x504 with 0 Axes>"
            ]
          },
          "metadata": {}
        },
        {
          "output_type": "display_data",
          "data": {
            "text/plain": [
              "<Figure size 720x504 with 0 Axes>"
            ]
          },
          "metadata": {}
        },
        {
          "output_type": "display_data",
          "data": {
            "text/plain": [
              "<Figure size 720x504 with 0 Axes>"
            ]
          },
          "metadata": {}
        },
        {
          "output_type": "display_data",
          "data": {
            "text/plain": [
              "<Figure size 720x504 with 0 Axes>"
            ]
          },
          "metadata": {}
        },
        {
          "output_type": "display_data",
          "data": {
            "text/plain": [
              "<Figure size 720x504 with 0 Axes>"
            ]
          },
          "metadata": {}
        },
        {
          "output_type": "display_data",
          "data": {
            "text/plain": [
              "<Figure size 720x504 with 0 Axes>"
            ]
          },
          "metadata": {}
        },
        {
          "output_type": "display_data",
          "data": {
            "text/plain": [
              "<Figure size 720x504 with 0 Axes>"
            ]
          },
          "metadata": {}
        },
        {
          "output_type": "display_data",
          "data": {
            "text/plain": [
              "<Figure size 720x504 with 0 Axes>"
            ]
          },
          "metadata": {}
        },
        {
          "output_type": "display_data",
          "data": {
            "text/plain": [
              "<Figure size 720x504 with 0 Axes>"
            ]
          },
          "metadata": {}
        },
        {
          "output_type": "display_data",
          "data": {
            "text/plain": [
              "<Figure size 720x504 with 0 Axes>"
            ]
          },
          "metadata": {}
        },
        {
          "output_type": "display_data",
          "data": {
            "text/plain": [
              "<Figure size 720x504 with 0 Axes>"
            ]
          },
          "metadata": {}
        },
        {
          "output_type": "display_data",
          "data": {
            "text/plain": [
              "<Figure size 720x504 with 0 Axes>"
            ]
          },
          "metadata": {}
        },
        {
          "output_type": "display_data",
          "data": {
            "text/plain": [
              "<Figure size 720x504 with 0 Axes>"
            ]
          },
          "metadata": {}
        },
        {
          "output_type": "display_data",
          "data": {
            "text/plain": [
              "<Figure size 720x504 with 0 Axes>"
            ]
          },
          "metadata": {}
        },
        {
          "output_type": "display_data",
          "data": {
            "text/plain": [
              "<Figure size 720x504 with 0 Axes>"
            ]
          },
          "metadata": {}
        },
        {
          "output_type": "display_data",
          "data": {
            "text/plain": [
              "<Figure size 720x504 with 0 Axes>"
            ]
          },
          "metadata": {}
        },
        {
          "output_type": "display_data",
          "data": {
            "text/plain": [
              "<Figure size 720x504 with 0 Axes>"
            ]
          },
          "metadata": {}
        }
      ]
    },
    {
      "cell_type": "code",
      "source": [
        "plt.figure(figsize=((10,7)))\n",
        "plt.plot(20*np.log10(X), computePDF(X, kappa_hat, mu_hat, omega_hat), label='Fitness = MSE', color='r')\n",
        "plt.plot(20*np.log10(X), computePDF(X, kappa_hat2, mu_hat2, omega_hat2), label='Fitness = RAD', color='k')\n",
        "plt.scatter(20*np.log10(X), Y, color='m', label='Real')\n",
        "plt.plot(20*np.log10(X), computePDF(X, 60.0747320167390, 0.100000000000035, 1.09085912951657), label='Nidhi\\'s MLE', color='g')\n",
        "plt.title(f'Best GA Fit')\n",
        "plt.legend()\n",
        "plt.grid(True)\n",
        "plt.xlabel(r'$dB$')\n",
        "plt.ylabel('pdf')\n",
        "plt.show()\n",
        "\n",
        "plt.figure(figsize=((10,7)))\n",
        "plt.plot(20*np.log10(X), computePDF(X, kappa_hat, mu_hat, omega_hat), label='Fitness = MSE', color='r')\n",
        "plt.plot(20*np.log10(X), computePDF(X, kappa_hat2, mu_hat2, omega_hat2), label='Fitness = RAD')\n",
        "plt.scatter(20*np.log10(X), Y, color='m', label='Real')\n",
        "plt.plot(20*np.log10(X), computePDF(X, 60.0747320167390, 0.100000000000035, 1.09085912951657), label='Nidhi\\'s MLE', color='g')\n",
        "plt.title(f'Best GA Fit (Zoomed)')\n",
        "plt.legend()\n",
        "plt.grid(True)\n",
        "plt.xlabel(r'$dB$')\n",
        "plt.ylabel('pdf')\n",
        "plt.ylim([1.28, 1.4])\n",
        "plt.xlim([-1, 1])\n",
        "plt.show()"
      ],
      "metadata": {
        "colab": {
          "base_uri": "https://localhost:8080/",
          "height": 903
        },
        "id": "AxIIbmkrRQYX",
        "outputId": "226d67be-f616-4341-da48-bafa39ec6651"
      },
      "execution_count": 15,
      "outputs": [
        {
          "output_type": "display_data",
          "data": {
            "text/plain": [
              "<Figure size 720x504 with 1 Axes>"
            ],
            "image/png": "[encoded data removed]"
          },
          "metadata": {
            "needs_background": "light"
          }
        },
        {
          "output_type": "display_data",
          "data": {
            "text/plain": [
              "<Figure size 720x504 with 1 Axes>"
            ],
            "image/png": "[encoded data removed]"
          },
          "metadata": {
            "needs_background": "light"
          }
        }
      ]
    },
    {
      "cell_type": "code",
      "source": [
        "# Scores - RAD\n",
        "pVec1 = Y/np.sum(Y)\n",
        "pVec2 = computePDF(X, kappa_hat, mu_hat, omega_hat)/np.sum(computePDF(X, kappa_hat, mu_hat, omega_hat))\n",
        "KLD_1 = kldiv(pVec1, pVec2)\n",
        "KLD_2 = kldiv(pVec2, pVec1)\n",
        "rad_mse = RAD(KLD_1, KLD_2)\n",
        "\n",
        "pVec2 = computePDF(X, kappa_hat2, mu_hat2, omega_hat2)/np.sum(computePDF(X, kappa_hat2, mu_hat2, omega_hat2))\n",
        "KLD_1 = kldiv(pVec1, pVec2)\n",
        "KLD_2 = kldiv(pVec2, pVec1)\n",
        "rad_rad = RAD(KLD_1, KLD_2)\n",
        "\n",
        "pVec2 = computePDF(X, 60.0747320167390, 0.100000000000035, 1.09085912951657)/np.sum(computePDF(X, 60.0747320167390, 0.100000000000035, 1.09085912951657))\n",
        "KLD_1 = kldiv(pVec1, pVec2)\n",
        "KLD_2 = kldiv(pVec2, pVec1)\n",
        "rad_mle = RAD(KLD_1, KLD_2)\n",
        "\n",
        "rads = {'Methods':['Genetic Algorithm (Fitness = MSE)', 'Genetic Algorithm (Fitness = RAD)', 'Maximum Likelihood Estimator'],\n",
        "\t\t'Resistor Average Distance':[rad_mse, rad_rad, rad_mle]}\n",
        "\n",
        "# Create DataFrame\n",
        "df = pd.DataFrame(rads)\n",
        "display(df)"
      ],
      "metadata": {
        "colab": {
          "base_uri": "https://localhost:8080/",
          "height": 144
        },
        "id": "6Nh7XFsVRURQ",
        "outputId": "58c92c27-2f73-4d8d-fb91-02d774fd527d"
      },
      "execution_count": 16,
      "outputs": [
        {
          "output_type": "display_data",
          "data": {
            "text/plain": [
              "                             Methods  Resistor Average Distance\n",
              "0  Genetic Algorithm (Fitness = MSE)                   0.023495\n",
              "1  Genetic Algorithm (Fitness = RAD)                   0.013655\n",
              "2       Maximum Likelihood Estimator                   0.023563"
            ],
            "text/html": [
              "\n",
              "  <div id=\"df-a7a58826-23d7-4980-b0bd-f9929def9d2f\">\n",
              "    <div class=\"colab-df-container\">\n",
              "      <div>\n",
              "<style scoped>\n",
              "    .dataframe tbody tr th:only-of-type {\n",
              "        vertical-align: middle;\n",
              "    }\n",
              "\n",
              "    .dataframe tbody tr th {\n",
              "        vertical-align: top;\n",
              "    }\n",
              "\n",
              "    .dataframe thead th {\n",
              "        text-align: right;\n",
              "    }\n",
              "</style>\n",
              "<table border=\"1\" class=\"dataframe\">\n",
              "  <thead>\n",
              "    <tr style=\"text-align: right;\">\n",
              "      <th></th>\n",
              "      <th>Methods</th>\n",
              "      <th>Resistor Average Distance</th>\n",
              "    </tr>\n",
              "  </thead>\n",
              "  <tbody>\n",
              "    <tr>\n",
              "      <th>0</th>\n",
              "      <td>Genetic Algorithm (Fitness = MSE)</td>\n",
              "      <td>0.023495</td>\n",
              "    </tr>\n",
              "    <tr>\n",
              "      <th>1</th>\n",
              "      <td>Genetic Algorithm (Fitness = RAD)</td>\n",
              "      <td>0.013655</td>\n",
              "    </tr>\n",
              "    <tr>\n",
              "      <th>2</th>\n",
              "      <td>Maximum Likelihood Estimator</td>\n",
              "      <td>0.023563</td>\n",
              "    </tr>\n",
              "  </tbody>\n",
              "</table>\n",
              "</div>\n",
              "      <button class=\"colab-df-convert\" onclick=\"convertToInteractive('df-a7a58826-23d7-4980-b0bd-f9929def9d2f')\"\n",
              "              title=\"Convert this dataframe to an interactive table.\"\n",
              "              style=\"display:none;\">\n",
              "        \n",
              "  <svg xmlns=\"http://www.w3.org/2000/svg\" height=\"24px\"viewBox=\"0 0 24 24\"\n",
              "       width=\"24px\">\n",
              "    <path d=\"M0 0h24v24H0V0z\" fill=\"none\"/>\n",
              "    <path d=\"M18.56 5.44l.94 2.06.94-2.06 2.06-.94-2.06-.94-.94-2.06-.94 2.06-2.06.94zm-11 1L8.5 8.5l.94-2.06 2.06-.94-2.06-.94L8.5 2.5l-.94 2.06-2.06.94zm10 10l.94 2.06.94-2.06 2.06-.94-2.06-.94-.94-2.06-.94 2.06-2.06.94z\"/><path d=\"M17.41 7.96l-1.37-1.37c-.4-.4-.92-.59-1.43-.59-.52 0-1.04.2-1.43.59L10.3 9.45l-7.72 7.72c-.78.78-.78 2.05 0 2.83L4 21.41c.39.39.9.59 1.41.59.51 0 1.02-.2 1.41-.59l7.78-7.78 2.81-2.81c.8-.78.8-2.07 0-2.86zM5.41 20L4 18.59l7.72-7.72 1.47 1.35L5.41 20z\"/>\n",
              "  </svg>\n",
              "      </button>\n",
              "      \n",
              "  <style>\n",
              "    .colab-df-container {\n",
              "      display:flex;\n",
              "      flex-wrap:wrap;\n",
              "      gap: 12px;\n",
              "    }\n",
              "\n",
              "    .colab-df-convert {\n",
              "      background-color: #E8F0FE;\n",
              "      border: none;\n",
              "      border-radius: 50%;\n",
              "      cursor: pointer;\n",
              "      display: none;\n",
              "      fill: #1967D2;\n",
              "      height: 32px;\n",
              "      padding: 0 0 0 0;\n",
              "      width: 32px;\n",
              "    }\n",
              "\n",
              "    .colab-df-convert:hover {\n",
              "      background-color: #E2EBFA;\n",
              "      box-shadow: 0px 1px 2px rgba(60, 64, 67, 0.3), 0px 1px 3px 1px rgba(60, 64, 67, 0.15);\n",
              "      fill: #174EA6;\n",
              "    }\n",
              "\n",
              "    [theme=dark] .colab-df-convert {\n",
              "      background-color: #3B4455;\n",
              "      fill: #D2E3FC;\n",
              "    }\n",
              "\n",
              "    [theme=dark] .colab-df-convert:hover {\n",
              "      background-color: #434B5C;\n",
              "      box-shadow: 0px 1px 3px 1px rgba(0, 0, 0, 0.15);\n",
              "      filter: drop-shadow(0px 1px 2px rgba(0, 0, 0, 0.3));\n",
              "      fill: #FFFFFF;\n",
              "    }\n",
              "  </style>\n",
              "\n",
              "      <script>\n",
              "        const buttonEl =\n",
              "          document.querySelector('#df-a7a58826-23d7-4980-b0bd-f9929def9d2f button.colab-df-convert');\n",
              "        buttonEl.style.display =\n",
              "          google.colab.kernel.accessAllowed ? 'block' : 'none';\n",
              "\n",
              "        async function convertToInteractive(key) {\n",
              "          const element = document.querySelector('#df-a7a58826-23d7-4980-b0bd-f9929def9d2f');\n",
              "          const dataTable =\n",
              "            await google.colab.kernel.invokeFunction('convertToInteractive',\n",
              "                                                     [key], {});\n",
              "          if (!dataTable) return;\n",
              "\n",
              "          const docLinkHtml = 'Like what you see? Visit the ' +\n",
              "            '<a target=\"_blank\" href=https://colab.research.google.com/notebooks/data_table.ipynb>data table notebook</a>'\n",
              "            + ' to learn more about interactive tables.';\n",
              "          element.innerHTML = '';\n",
              "          dataTable['output_type'] = 'display_data';\n",
              "          await google.colab.output.renderOutput(dataTable, element);\n",
              "          const docLink = document.createElement('div');\n",
              "          docLink.innerHTML = docLinkHtml;\n",
              "          element.appendChild(docLink);\n",
              "        }\n",
              "      </script>\n",
              "    </div>\n",
              "  </div>\n",
              "  "
            ]
          },
          "metadata": {}
        }
      ]
    },
    {
      "cell_type": "markdown",
      "source": [
        "## Working on implementing AIC "
      ],
      "metadata": {
        "id": "djxIM3WRtfLg"
      }
    },
    {
      "cell_type": "code",
      "source": [
        "plt.plot(X,computePDF(X, 60.0747320167390, 0.100000000000035, 1.09085912951657))"
      ],
      "metadata": {
        "colab": {
          "base_uri": "https://localhost:8080/",
          "height": 284
        },
        "id": "RpQJpmH8nyOZ",
        "outputId": "741a2e0b-c336-4eda-e454-8889a6a167ad"
      },
      "execution_count": 17,
      "outputs": [
        {
          "output_type": "execute_result",
          "data": {
            "text/plain": [
              "[<matplotlib.lines.Line2D at 0x7fb58f483790>]"
            ]
          },
          "metadata": {},
          "execution_count": 17
        },
        {
          "output_type": "display_data",
          "data": {
            "text/plain": [
              "<Figure size 432x288 with 1 Axes>"
            ],
            "image/png": "[encoded data removed]"
          },
          "metadata": {
            "needs_background": "light"
          }
        }
      ]
    },
    {
      "cell_type": "code",
      "source": [
        "def dBm2mV(dBm):\n",
        "  \n",
        "  mV =  np.power(10, (dBm + 46.9897)/20)\n",
        "  return mV"
      ],
      "metadata": {
        "id": "xrmv95JQpZCZ"
      },
      "execution_count": 23,
      "outputs": []
    },
    {
      "cell_type": "code",
      "source": [
        "X"
      ],
      "metadata": {
        "colab": {
          "base_uri": "https://localhost:8080/"
        },
        "id": "labFsFVNwnxy",
        "outputId": "0eac8705-a63d-4056-b644-80713eaf1d72"
      },
      "execution_count": 27,
      "outputs": [
        {
          "output_type": "execute_result",
          "data": {
            "text/plain": [
              "array([0.06862779, 0.09937561, 0.13012343, 0.16087126, 0.19161908,\n",
              "       0.22236691, 0.25311473, 0.28386255, 0.31461038, 0.3453582 ,\n",
              "       0.37610602, 0.40685385, 0.43760167, 0.46834949, 0.49909732,\n",
              "       0.52984514, 0.56059296, 0.59134079, 0.62208861, 0.65283643,\n",
              "       0.68358426, 0.71433208, 0.74507991, 0.77582773, 0.80657555,\n",
              "       0.83732338, 0.8680712 , 0.89881902, 0.92956685, 0.96031467,\n",
              "       0.99106249, 1.02181032, 1.05255814, 1.08330596, 1.11405379,\n",
              "       1.14480161, 1.17554943, 1.20629726, 1.23704508, 1.2677929 ,\n",
              "       1.29854073, 1.32928855, 1.36003638, 1.3907842 , 1.42153202,\n",
              "       1.45227985, 1.48302767, 1.51377549, 1.54452332, 1.57527114,\n",
              "       1.60601896, 1.63676679, 1.66751461, 1.69826243, 1.72901026,\n",
              "       1.75975808, 1.7905059 , 1.82125373, 1.85200155, 1.88274937,\n",
              "       1.9134972 , 1.94424502, 1.97499285, 2.00574067, 2.03648849,\n",
              "       2.06723632, 2.09798414, 2.12873196, 2.15947979, 2.19022761,\n",
              "       2.22097543, 2.25172326, 2.28247108, 2.3132189 , 2.34396673,\n",
              "       2.37471455, 2.40546237, 2.4362102 , 2.46695802, 2.49770584,\n",
              "       2.52845367])"
            ]
          },
          "metadata": {},
          "execution_count": 27
        }
      ]
    },
    {
      "cell_type": "code",
      "source": [
        "dBm2mV(X)"
      ],
      "metadata": {
        "colab": {
          "base_uri": "https://localhost:8080/"
        },
        "id": "shLXJkKMsE_w",
        "outputId": "2345dfa6-7117-47b6-dfab-0caa25f0fdaf"
      },
      "execution_count": 24,
      "outputs": [
        {
          "output_type": "execute_result",
          "data": {
            "text/plain": [
              "array([225.38052666, 226.1797817 , 226.9818711 , 227.7868049 ,\n",
              "       228.5945932 , 229.40524612, 230.21877381, 231.03518647,\n",
              "       231.85449433, 232.67670766, 233.50183676, 234.32989198,\n",
              "       235.16088368, 235.99482228, 236.83171824, 237.67158204,\n",
              "       238.5144242 , 239.36025529, 240.2090859 , 241.06092668,\n",
              "       241.91578829, 242.77368146, 243.63461692, 244.49860548,\n",
              "       245.36565795, 246.23578521, 247.10899815, 247.98530772,\n",
              "       248.8647249 , 249.74726071, 250.63292621, 251.5217325 ,\n",
              "       252.41369072, 253.30881204, 254.20710769, 255.10858891,\n",
              "       256.013267  , 256.92115331, 257.83225921, 258.74659611,\n",
              "       259.66417548, 260.58500881, 261.50910765, 262.43648357,\n",
              "       263.36714819, 264.30111318, 265.23839023, 266.17899111,\n",
              "       267.12292759, 268.0702115 , 269.02085471, 269.97486914,\n",
              "       270.93226674, 271.89305951, 272.85725948, 273.82487875,\n",
              "       274.79592944, 275.77042371, 276.74837378, 277.7297919 ,\n",
              "       278.71469037, 279.70308153, 280.69497778, 281.69039153,\n",
              "       282.68933527, 283.69182151, 284.69786281, 285.70747178,\n",
              "       286.72066108, 287.7374434 , 288.75783147, 289.7818381 ,\n",
              "       290.8094761 , 291.84075837, 292.87569781, 293.91430741,\n",
              "       294.95660018, 296.00258917, 297.05228749, 298.10570831,\n",
              "       299.16286482])"
            ]
          },
          "metadata": {},
          "execution_count": 24
        }
      ]
    },
    {
      "cell_type": "code",
      "source": [
        "np.sum(np.log(computePDF(X, 60.074731198877520, 0.100000000000035, 1.090859130374765)))"
      ],
      "metadata": {
        "colab": {
          "base_uri": "https://localhost:8080/"
        },
        "id": "oB094oWurPhm",
        "outputId": "4df6f808-7696-4fd4-b6ad-7e4f1423a94f"
      },
      "execution_count": 26,
      "outputs": [
        {
          "output_type": "execute_result",
          "data": {
            "text/plain": [
              "-245.2497632532511"
            ]
          },
          "metadata": {},
          "execution_count": 26
        }
      ]
    },
    {
      "cell_type": "code",
      "source": [
        "# AIC\n",
        "\n",
        "np.log(computePDF(X, kappa_hat, mu_hat, omega_hat))"
      ],
      "metadata": {
        "colab": {
          "base_uri": "https://localhost:8080/"
        },
        "id": "4urmGIRYSQnn",
        "outputId": "59c81fe1-0fad-43b7-b6a2-1227c44cd1c0"
      },
      "execution_count": 21,
      "outputs": [
        {
          "output_type": "execute_result",
          "data": {
            "text/plain": [
              "array([-4.14949246e+00, -3.97046741e+00, -3.73185481e+00, -3.47536453e+00,\n",
              "       -3.21739751e+00, -2.96445143e+00, -2.71912787e+00, -2.48248860e+00,\n",
              "       -2.25498695e+00, -2.03683782e+00, -1.82816390e+00, -1.62905227e+00,\n",
              "       -1.43957542e+00, -1.25979849e+00, -1.08978138e+00, -9.29579274e-01,\n",
              "       -7.79242769e-01, -6.38817967e-01, -5.08346677e-01, -3.87866705e-01,\n",
              "       -2.77412181e-01, -1.77013902e-01, -8.66996722e-02, -6.49462264e-03,\n",
              "        6.35784997e-02,  1.23499066e-01,  1.73248333e-01,  2.12809233e-01,\n",
              "        2.42166192e-01,  2.61304967e-01,  2.70212507e-01,  2.68876826e-01,\n",
              "        2.57286895e-01,  2.35432545e-01,  2.03304381e-01,  1.60893710e-01,\n",
              "        1.08192471e-01,  4.51931779e-02, -2.81111335e-02, -1.11726952e-01,\n",
              "       -2.05660333e-01, -3.09916936e-01, -4.24502056e-01, -5.49420657e-01,\n",
              "       -6.84677397e-01, -8.30276652e-01, -9.86222539e-01, -1.15251894e+00,\n",
              "       -1.32916950e+00, -1.51617768e+00, -1.71354673e+00, -1.92127975e+00,\n",
              "       -2.13937966e+00, -2.36784921e+00, -2.60669105e+00, -2.85590765e+00,\n",
              "       -3.11550140e+00, -3.38547454e+00, -3.66582921e+00, -3.95656747e+00,\n",
              "       -4.25769127e+00, -4.56920244e+00, -4.89110278e+00, -5.22339398e+00,\n",
              "       -5.56607766e+00, -5.91915536e+00, -6.28262858e+00, -6.65649873e+00,\n",
              "       -7.04076718e+00, -7.43543522e+00, -7.84050413e+00, -8.25597509e+00,\n",
              "       -8.68184927e+00, -9.11812777e+00, -9.56481166e+00, -1.00219020e+01,\n",
              "       -1.04893997e+01, -1.09673058e+01, -1.14556212e+01, -1.19543467e+01,\n",
              "       -1.24634833e+01])"
            ]
          },
          "metadata": {},
          "execution_count": 21
        }
      ]
    },
    {
      "cell_type": "code",
      "source": [
        "X"
      ],
      "metadata": {
        "colab": {
          "base_uri": "https://localhost:8080/"
        },
        "id": "iDMufm3Fol8B",
        "outputId": "1b8693a5-082c-4945-8a9d-820d426587bb"
      },
      "execution_count": 22,
      "outputs": [
        {
          "output_type": "execute_result",
          "data": {
            "text/plain": [
              "array([0.06862779, 0.09937561, 0.13012343, 0.16087126, 0.19161908,\n",
              "       0.22236691, 0.25311473, 0.28386255, 0.31461038, 0.3453582 ,\n",
              "       0.37610602, 0.40685385, 0.43760167, 0.46834949, 0.49909732,\n",
              "       0.52984514, 0.56059296, 0.59134079, 0.62208861, 0.65283643,\n",
              "       0.68358426, 0.71433208, 0.74507991, 0.77582773, 0.80657555,\n",
              "       0.83732338, 0.8680712 , 0.89881902, 0.92956685, 0.96031467,\n",
              "       0.99106249, 1.02181032, 1.05255814, 1.08330596, 1.11405379,\n",
              "       1.14480161, 1.17554943, 1.20629726, 1.23704508, 1.2677929 ,\n",
              "       1.29854073, 1.32928855, 1.36003638, 1.3907842 , 1.42153202,\n",
              "       1.45227985, 1.48302767, 1.51377549, 1.54452332, 1.57527114,\n",
              "       1.60601896, 1.63676679, 1.66751461, 1.69826243, 1.72901026,\n",
              "       1.75975808, 1.7905059 , 1.82125373, 1.85200155, 1.88274937,\n",
              "       1.9134972 , 1.94424502, 1.97499285, 2.00574067, 2.03648849,\n",
              "       2.06723632, 2.09798414, 2.12873196, 2.15947979, 2.19022761,\n",
              "       2.22097543, 2.25172326, 2.28247108, 2.3132189 , 2.34396673,\n",
              "       2.37471455, 2.40546237, 2.4362102 , 2.46695802, 2.49770584,\n",
              "       2.52845367])"
            ]
          },
          "metadata": {},
          "execution_count": 22
        }
      ]
    },
    {
      "cell_type": "code",
      "source": [
        ""
      ],
      "metadata": {
        "id": "4Pyz1lGErCHZ"
      },
      "execution_count": 22,
      "outputs": []
    }
  ]
}