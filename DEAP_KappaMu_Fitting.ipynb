{
  "nbformat": 4,
  "nbformat_minor": 0,
  "metadata": {
    "colab": {
      "name": "DEAP_KappaMu_Fitting.ipynb",
      "provenance": [],
      "collapsed_sections": [],
      "authorship_tag": "ABX9TyNwmSislBKHL3cNSrgmTgs0",
      "include_colab_link": true
    },
    "kernelspec": {
      "name": "python3",
      "display_name": "Python 3"
    },
    "language_info": {
      "name": "python"
    }
  },
  "cells": [
    {
      "cell_type": "markdown",
      "metadata": {
        "id": "view-in-github",
        "colab_type": "text"
      },
      "source": [
        "<a href=\"https://colab.research.google.com/github/SamuelBFG/ga-fading/blob/main/DEAP_KappaMu_Fitting.ipynb\" target=\"_parent\"><img src=\"https://colab.research.google.com/assets/colab-badge.svg\" alt=\"Open In Colab\"/></a>"
      ]
    },
    {
      "cell_type": "code",
      "source": [
        "# !pip install SciencePlots"
      ],
      "metadata": {
        "id": "vmEpPZV16ppr"
      },
      "execution_count": 1,
      "outputs": []
    },
    {
      "cell_type": "code",
      "source": [
        "# !pip install deap"
      ],
      "metadata": {
        "id": "7Dswx1e6wbcR"
      },
      "execution_count": 2,
      "outputs": []
    },
    {
      "cell_type": "markdown",
      "source": [
        "$y = \\theta_0 * x + \\theta_1$"
      ],
      "metadata": {
        "id": "_77V6HG45mVG"
      }
    },
    {
      "cell_type": "code",
      "execution_count": 3,
      "metadata": {
        "id": "_v4Js2gNrEIy"
      },
      "outputs": [],
      "source": [
        "import numpy as np\n",
        "import matplotlib.pyplot as plt\n",
        "%matplotlib inline\n",
        "from scipy import special as sp\n",
        "import deap\n",
        "from deap import algorithms, base, creator, tools\n",
        "from KappaMu import KappaMu\n",
        "# %config InlineBackend.figure_format = 'retina'\n",
        "# plt.style.use('science')/\n",
        "# plt.rc('text', usetex=True)\n",
        "# plt.rc('font', family='serif')\n",
        "# plt.rcParams['text.latex.preamble'] ='\\\\usepackage{libertine}\\n\\\\usepackage[utf8]{inputenc}'\n",
        "\n",
        "import seaborn\n",
        "seaborn.set(style='whitegrid')\n",
        "seaborn.set_context('notebook')\n",
        "\n",
        "def evaluation(theta):\n",
        "  X = np.array([1,2,3,4,5,20,26,7])\n",
        "  Y = np.array([5,7,9,11,13,43,55,17])\n",
        "\n",
        "  n = len(X)\n",
        "  y_pred = theta[0]*X + theta[1]\n",
        "  cost = 1/n * sum(val**2 for val in (Y-y_pred))\n",
        "  return (cost,)\n",
        "\n",
        "def computePDF(r, kappa, mu, r_hat):\n",
        "  A = (2*mu * ((1 + kappa)**((mu+1)/2))) \\\n",
        "          /((kappa**((mu - 1)/2)) * np.exp(mu * kappa))\n",
        "  R = r / r_hat\n",
        "  B = (R**mu) * np.exp(- mu*(1 + kappa)*(R**2))\n",
        "  C = sp.iv(mu - 1, 2*mu * R * np.sqrt(kappa*(1 + kappa)))\n",
        "  PDF = A * B * C / r_hat \n",
        "  return PDF\n",
        "\n",
        "def fitnessFunction(theta):\n",
        "  # X = np.array([1,2,3,4,5,20,26,7])\n",
        "  # Y = np.array([5,7,9,11,13,43,55,17])\n",
        "  X = ku.X\n",
        "  Y = ku.Y\n",
        "  n = len(X)\n",
        "  kappa = theta[0]\n",
        "  mu = theta[1]\n",
        "  r_hat = theta[2]\n",
        "\n",
        "  y_pred = computePDF(X, kappa, mu, r_hat)\n",
        "  # print('y_pred', y_pred)\n",
        "  # y_pred = theta[0]*X + theta[1]\n",
        "  cost = 1/n * sum(val**2 for val in (Y-y_pred))\n",
        "  return (cost,)"
      ]
    },
    {
      "cell_type": "code",
      "source": [
        "# kappa = 0.04\n",
        "# mu = -0.4\n",
        "# r_hat = 1"
      ],
      "metadata": {
        "id": "iSUbNuVgPgbp"
      },
      "execution_count": 4,
      "outputs": []
    },
    {
      "cell_type": "code",
      "source": [
        "# computePDF(ku.X, kappa, mu, r_hat)"
      ],
      "metadata": {
        "id": "0adQxwnaPcWk"
      },
      "execution_count": 5,
      "outputs": []
    },
    {
      "cell_type": "code",
      "source": [
        "ku = KappaMu(kappa=1, mu=4, r_hat=1, numSamples=100, numSim=10**6)"
      ],
      "metadata": {
        "id": "RgbTApjlv48_"
      },
      "execution_count": 6,
      "outputs": []
    },
    {
      "cell_type": "code",
      "source": [
        "r = np.linspace(0, 3, 3000) # theoretical envelope PDF x axes\n",
        "plt.plot(r, ku._pdf(r))\n",
        "plt.plot(ku.X[1:len(ku.X):2], ku.Y[1:len(ku.Y):2], \"k.\", label='Simulation')"
      ],
      "metadata": {
        "colab": {
          "base_uri": "https://localhost:8080/",
          "height": 286
        },
        "id": "kr8VEm5RIc4T",
        "outputId": "ffb498fe-24bf-41db-c7f4-94c95889e594"
      },
      "execution_count": 7,
      "outputs": [
        {
          "output_type": "execute_result",
          "data": {
            "text/plain": [
              "[<matplotlib.lines.Line2D at 0x7fa2fde1e4d0>]"
            ]
          },
          "metadata": {},
          "execution_count": 7
        },
        {
          "output_type": "display_data",
          "data": {
            "text/plain": [
              "<Figure size 432x288 with 1 Axes>"
            ],
            "image/png": "[encoded data removed]"
          },
          "metadata": {}
        }
      ]
    },
    {
      "cell_type": "code",
      "source": [
        "plt.plot(ku.X,ku.Y)"
      ],
      "metadata": {
        "colab": {
          "base_uri": "https://localhost:8080/",
          "height": 286
        },
        "id": "JTfazxdmZsEw",
        "outputId": "2e48b92d-4713-463d-de80-4ac727d91773"
      },
      "execution_count": 8,
      "outputs": [
        {
          "output_type": "execute_result",
          "data": {
            "text/plain": [
              "[<matplotlib.lines.Line2D at 0x7fa2fd8ff890>]"
            ]
          },
          "metadata": {},
          "execution_count": 8
        },
        {
          "output_type": "display_data",
          "data": {
            "text/plain": [
              "<Figure size 432x288 with 1 Axes>"
            ],
            "image/png": "[encoded data removed]"
          },
          "metadata": {}
        }
      ]
    },
    {
      "cell_type": "code",
      "source": [
        "evaluation([0.12726272,0.17092608])"
      ],
      "metadata": {
        "colab": {
          "base_uri": "https://localhost:8080/"
        },
        "id": "JM3XoUNRwYec",
        "outputId": "e1dbdd28-a9e6-47c1-eb3d-66d904562132"
      },
      "execution_count": 9,
      "outputs": [
        {
          "output_type": "execute_result",
          "data": {
            "text/plain": [
              "(615.375442293955,)"
            ]
          },
          "metadata": {},
          "execution_count": 9
        }
      ]
    },
    {
      "cell_type": "code",
      "source": [
        "creator.create(\"FitnessMin\", base.Fitness, weights=(-1.0,)) #-1 to minimze, +1 to maximize\n",
        "creator.create(\"Individual\", list, fitness=creator.FitnessMin)\n",
        "\n",
        "# toolbox = base.Toolbox()"
      ],
      "metadata": {
        "id": "7Muc2sDbwv-L"
      },
      "execution_count": 10,
      "outputs": []
    },
    {
      "cell_type": "markdown",
      "source": [
        "### One individual for $\\theta_0$ and other for $\\theta_1$\n",
        "$y = \\theta_0x + \\theta_1$"
      ],
      "metadata": {
        "id": "fM0bg2qNxw7T"
      }
    },
    {
      "cell_type": "code",
      "source": [
        "toolbox = base.Toolbox()"
      ],
      "metadata": {
        "id": "cTpYrYjuzJ_h"
      },
      "execution_count": 11,
      "outputs": []
    },
    {
      "cell_type": "code",
      "source": [
        "toolbox.register(\"attr_bool\", np.random.uniform, 0.1, 5)\n",
        "toolbox.attr_bool()\n",
        "\n",
        "toolbox.register(\"individual\", tools.initRepeat, creator.Individual, toolbox.attr_bool, 3)\n",
        "toolbox.register(\"population\", tools.initRepeat, list, toolbox.individual)\n",
        "toolbox.individual()"
      ],
      "metadata": {
        "colab": {
          "base_uri": "https://localhost:8080/"
        },
        "id": "dS0mvXrXxv7Y",
        "outputId": "2d6ac04d-53b9-4b5e-d60f-5e65a2404fda"
      },
      "execution_count": 12,
      "outputs": [
        {
          "output_type": "execute_result",
          "data": {
            "text/plain": [
              "[3.9271365558171323, 0.21760436207774198, 0.8893643747937061]"
            ]
          },
          "metadata": {},
          "execution_count": 12
        }
      ]
    },
    {
      "cell_type": "code",
      "source": [
        "toolbox.register(\"evaluate\", fitnessFunction)\n",
        "toolbox.register(\"mate\", tools.cxTwoPoint)\n",
        "toolbox.register(\"mutate\", tools.mutShuffleIndexes, indpb=0.05)\n",
        "toolbox.register(\"select\", tools.selTournament, tournsize=3)"
      ],
      "metadata": {
        "id": "4TTwpGxzyTvY"
      },
      "execution_count": 13,
      "outputs": []
    },
    {
      "cell_type": "code",
      "source": [
        "pop = toolbox.population(n=500)"
      ],
      "metadata": {
        "id": "WXj8FtXqz3sL"
      },
      "execution_count": 14,
      "outputs": []
    },
    {
      "cell_type": "code",
      "source": [
        "hof = tools.ParetoFront()"
      ],
      "metadata": {
        "id": "2VMXwW-Wz-sa"
      },
      "execution_count": 15,
      "outputs": []
    },
    {
      "cell_type": "code",
      "source": [
        "stats = tools.Statistics(lambda ind: ind.fitness.values)\n",
        "stats.register(\"avg\", np.mean)\n",
        "stats.register(\"std\", np.std)\n",
        "stats.register(\"min\", np.min)\n",
        "stats.register(\"max\", np.max)"
      ],
      "metadata": {
        "id": "pnv667kd0Cgz"
      },
      "execution_count": 16,
      "outputs": []
    },
    {
      "cell_type": "code",
      "source": [
        "# sortedPop = sorted(pop, key=lambda ind:ind.fitness)"
      ],
      "metadata": {
        "id": "m5l2Pnc3_L6r"
      },
      "execution_count": 17,
      "outputs": []
    },
    {
      "cell_type": "code",
      "source": [
        "pop, log = algorithms.eaSimple(pop, toolbox, cxpb=0.5, mutpb=0.2,\\\n",
        "                               ngen=100, stats=stats, halloffame=hof, verbose=True)"
      ],
      "metadata": {
        "colab": {
          "base_uri": "https://localhost:8080/"
        },
        "id": "k5TRr7AS0OgC",
        "outputId": "5b0cea02-fea5-4d2a-b5c5-e119bf913fed"
      },
      "execution_count": 18,
      "outputs": [
        {
          "output_type": "stream",
          "name": "stdout",
          "text": [
            "gen\tnevals\tavg     \tstd     \tmin       \tmax    \n",
            "0  \t500   \t0.759587\t0.597271\t0.00931627\t4.29611\n",
            "1  \t292   \t0.487989\t0.221294\t0.00931627\t2.29113\n",
            "2  \t287   \t0.334279\t0.230733\t0.00489278\t1.74761\n",
            "3  \t302   \t0.162623\t0.156179\t0.000581391\t0.844172\n",
            "4  \t318   \t0.0722575\t0.104076\t0.000197935\t0.732595\n",
            "5  \t304   \t0.0334542\t0.0653303\t0.000188927\t0.611179\n",
            "6  \t287   \t0.0226633\t0.0612964\t0.000188927\t0.65394 \n",
            "7  \t314   \t0.0212013\t0.0740043\t0.000185247\t0.644336\n",
            "8  \t296   \t0.0204115\t0.0753042\t0.000185895\t0.669943\n",
            "9  \t289   \t0.0128484\t0.0604049\t0.000185895\t0.669193\n",
            "10 \t309   \t0.0151713\t0.0792908\t0.000121476\t0.649495\n",
            "11 \t290   \t0.0121737\t0.0759932\t0.000121476\t0.645011\n",
            "12 \t283   \t0.0149903\t0.0916154\t0.000121476\t0.654392\n",
            "13 \t294   \t0.00887715\t0.0701121\t8.19468e-05\t0.654392\n",
            "14 \t285   \t0.0208117 \t0.111248 \t8.19468e-05\t0.785844\n",
            "15 \t295   \t0.00931063\t0.0756039\t8.19468e-05\t0.787592\n",
            "16 \t304   \t0.00903936\t0.0714265\t8.19468e-05\t0.645639\n",
            "17 \t320   \t0.0117734 \t0.0825304\t8.19468e-05\t0.645011\n",
            "18 \t326   \t0.0119461 \t0.0821878\t8.19468e-05\t0.652597\n",
            "19 \t307   \t0.0168197 \t0.0964521\t8.19468e-05\t0.653997\n",
            "20 \t301   \t0.00955617\t0.0705079\t8.19468e-05\t0.644946\n",
            "21 \t301   \t0.0106158 \t0.076714 \t8.19468e-05\t0.674647\n",
            "22 \t293   \t0.0125105 \t0.0858801\t8.19468e-05\t0.6451  \n",
            "23 \t296   \t0.00616703\t0.0606574\t8.19468e-05\t0.674647\n",
            "24 \t308   \t0.0103248 \t0.080348 \t8.19468e-05\t0.674647\n",
            "25 \t318   \t0.0134766 \t0.089484 \t8.19468e-05\t0.674647\n",
            "26 \t314   \t0.013134  \t0.0871228\t8.19468e-05\t0.6451  \n",
            "27 \t314   \t0.0121285 \t0.0844488\t8.19468e-05\t0.6451  \n",
            "28 \t312   \t0.00990981\t0.0772009\t8.19468e-05\t0.674647\n",
            "29 \t291   \t0.0111273 \t0.0816744\t8.19468e-05\t0.6451  \n",
            "30 \t295   \t0.00997902\t0.0776962\t8.19468e-05\t0.6451  \n",
            "31 \t306   \t0.0109824 \t0.0806217\t8.19468e-05\t0.6451  \n",
            "32 \t319   \t0.00496064\t0.0543738\t8.19468e-05\t0.6451  \n",
            "33 \t306   \t0.0108416 \t0.0795541\t8.19468e-05\t0.6451  \n",
            "34 \t298   \t0.0181803 \t0.10307  \t8.19468e-05\t0.6451  \n",
            "35 \t321   \t0.0110436 \t0.0810956\t8.19468e-05\t0.674647\n",
            "36 \t295   \t0.0114243 \t0.0838458\t8.19468e-05\t0.6451  \n",
            "37 \t332   \t0.0123305 \t0.0858995\t8.19468e-05\t0.674647\n",
            "38 \t283   \t0.0128681 \t0.0852476\t8.19468e-05\t0.6451  \n",
            "39 \t305   \t0.00739581\t0.0664603\t8.19468e-05\t0.6451  \n",
            "40 \t268   \t0.0122724 \t0.0854527\t8.19468e-05\t0.6451  \n",
            "41 \t293   \t0.0121462 \t0.0845527\t8.19468e-05\t0.6451  \n",
            "42 \t311   \t0.0195821 \t0.107429 \t8.19468e-05\t0.6451  \n",
            "43 \t304   \t0.0121908 \t0.0849004\t8.19468e-05\t0.674647\n",
            "44 \t279   \t0.0123367 \t0.0858986\t8.19468e-05\t0.674647\n",
            "45 \t295   \t0.018641  \t0.105692 \t8.19468e-05\t0.674647\n",
            "46 \t317   \t0.0227366 \t0.117339 \t8.19468e-05\t0.6451  \n",
            "47 \t308   \t0.0051045 \t0.0559386\t8.19468e-05\t0.6451  \n",
            "48 \t298   \t0.0107009 \t0.0784718\t8.19468e-05\t0.6451  \n",
            "49 \t294   \t0.0138481 \t0.0918773\t8.19468e-05\t0.6451  \n",
            "50 \t297   \t0.0122703 \t0.085453 \t8.19468e-05\t0.6451  \n",
            "51 \t303   \t0.00610786\t0.0600171\t8.19468e-05\t0.6451  \n",
            "52 \t303   \t0.0150109 \t0.0953106\t8.19468e-05\t0.6451  \n",
            "53 \t306   \t0.0098362 \t0.0765864\t8.19468e-05\t0.6451  \n",
            "54 \t300   \t0.0149974 \t0.0952184\t8.19468e-05\t0.6451  \n",
            "55 \t281   \t0.00827504\t0.0687843\t8.19468e-05\t0.6451  \n",
            "56 \t311   \t0.0073979 \t0.0664601\t8.19468e-05\t0.6451  \n",
            "57 \t318   \t0.0107144 \t0.0785844\t8.19468e-05\t0.6451  \n",
            "58 \t283   \t0.0107133 \t0.0785846\t8.19468e-05\t0.6451  \n",
            "59 \t290   \t0.00955057\t0.0743161\t8.19468e-05\t0.6451  \n",
            "60 \t272   \t0.0125643 \t0.0874245\t8.19468e-05\t0.6451  \n",
            "61 \t290   \t0.0135915 \t0.0902014\t8.19468e-05\t0.6451  \n",
            "62 \t309   \t0.00746117\t0.0670372\t8.19468e-05\t0.674647\n",
            "63 \t287   \t0.0152138 \t0.096592 \t8.19468e-05\t0.674647\n",
            "64 \t307   \t0.0142812 \t0.0906487\t8.19468e-05\t0.6451  \n",
            "65 \t297   \t0.0121296 \t0.0844487\t8.19468e-05\t0.6451  \n",
            "66 \t277   \t0.011267  \t0.0827143\t8.19468e-05\t0.6451  \n",
            "67 \t305   \t0.0124152 \t0.0864448\t8.19468e-05\t0.6451  \n",
            "68 \t317   \t0.0145668 \t0.0925044\t8.19468e-05\t0.6451  \n",
            "69 \t314   \t0.0111273 \t0.0816744\t8.19468e-05\t0.6451  \n",
            "70 \t300   \t0.012436  \t0.0865457\t8.19468e-05\t0.6451  \n",
            "71 \t298   \t0.00496064\t0.0543738\t8.19468e-05\t0.6451  \n",
            "72 \t311   \t0.00840125\t0.0698947\t8.19468e-05\t0.6451  \n",
            "73 \t290   \t0.0131464 \t0.087224 \t8.19468e-05\t0.6451  \n",
            "74 \t293   \t0.00998111\t0.077696 \t8.19468e-05\t0.6451  \n",
            "75 \t318   \t0.0122735 \t0.0854525\t8.19468e-05\t0.6451  \n",
            "76 \t308   \t0.0286714 \t0.130409 \t8.19468e-05\t0.674647\n",
            "77 \t290   \t0.0121296 \t0.0844487\t8.19468e-05\t0.6451  \n",
            "78 \t303   \t0.00854825\t0.0711115\t8.19468e-05\t0.6451  \n",
            "79 \t299   \t0.0111262 \t0.0816746\t8.19468e-05\t0.6451  \n",
            "80 \t287   \t0.0147118 \t0.0934178\t8.19468e-05\t0.6451  \n",
            "81 \t305   \t0.015859  \t0.0966957\t8.19468e-05\t0.6451  \n",
            "82 \t282   \t0.00727378\t0.0652891\t8.19468e-05\t0.6451  \n",
            "83 \t294   \t0.0162843 \t0.0992904\t8.19468e-05\t0.6451  \n",
            "84 \t287   \t0.0098362 \t0.0765864\t8.19468e-05\t0.6451  \n",
            "85 \t325   \t0.0167942 \t0.0986185\t8.19468e-05\t0.674647\n",
            "86 \t306   \t0.0157546 \t0.0959961\t8.19468e-05\t0.6451  \n",
            "87 \t298   \t0.0131537 \t0.087223 \t8.19468e-05\t0.6451  \n",
            "88 \t315   \t0.0145668 \t0.0925044\t8.19468e-05\t0.6451  \n",
            "89 \t295   \t0.00381447\t0.048045 \t8.19468e-05\t0.6451  \n",
            "90 \t318   \t0.00868689\t0.0723085\t8.19468e-05\t0.6451  \n",
            "91 \t308   \t0.0162027 \t0.0988188\t8.19468e-05\t0.674647\n",
            "92 \t317   \t0.0134362 \t0.0891541\t8.19468e-05\t0.6451  \n",
            "93 \t316   \t0.00713305\t0.0639581\t8.19468e-05\t0.6451  \n",
            "94 \t307   \t0.00989529\t0.0770863\t8.19468e-05\t0.674647\n",
            "95 \t282   \t0.00753967\t0.0677413\t8.19468e-05\t0.6451  \n",
            "96 \t316   \t0.0156438 \t0.0954184\t8.19468e-05\t0.674647\n",
            "97 \t294   \t0.00989006\t0.0770869\t8.19468e-05\t0.674647\n",
            "98 \t315   \t0.0134228 \t0.0890553\t8.19468e-05\t0.6451  \n",
            "99 \t304   \t0.00869107\t0.072308 \t8.19468e-05\t0.6451  \n",
            "100\t295   \t0.0109824 \t0.0806217\t8.19468e-05\t0.6451  \n"
          ]
        }
      ]
    },
    {
      "cell_type": "code",
      "source": [
        "print('Current best fitness:', fitnessFunction(tools.selBest(pop, k=1)[0]))"
      ],
      "metadata": {
        "colab": {
          "base_uri": "https://localhost:8080/"
        },
        "id": "Ci13-AGd1ugQ",
        "outputId": "2b2eaa41-46cd-4285-a38d-11f1c08bbffd"
      },
      "execution_count": 19,
      "outputs": [
        {
          "output_type": "stream",
          "name": "stdout",
          "text": [
            "Current best fitness: (8.194675422833004e-05,)\n"
          ]
        }
      ]
    },
    {
      "cell_type": "code",
      "source": [
        "tools.selBest(pop, k=1)[0]"
      ],
      "metadata": {
        "colab": {
          "base_uri": "https://localhost:8080/"
        },
        "id": "BPZCAfQIazPL",
        "outputId": "131c0901-1f18-4fcb-ce44-48b4da3cccfe"
      },
      "execution_count": 21,
      "outputs": [
        {
          "output_type": "execute_result",
          "data": {
            "text/plain": [
              "[2.855578151289607, 2.389874319096517, 0.9971316967590879]"
            ]
          },
          "metadata": {},
          "execution_count": 21
        }
      ]
    },
    {
      "cell_type": "markdown",
      "source": [
        "### True function:\n",
        "\n",
        "$y=2x+3$\n",
        "\n",
        "$⇒\\theta_0=2$\n",
        "\n",
        "$⇒\\theta_1=3$"
      ],
      "metadata": {
        "id": "1PJCqJ6j2v9r"
      }
    },
    {
      "cell_type": "code",
      "source": [
        "len(hof)"
      ],
      "metadata": {
        "id": "FHS3K1nj2Y00"
      },
      "execution_count": null,
      "outputs": []
    },
    {
      "cell_type": "code",
      "source": [
        "print(r'$\\theta_0$ is {}, $\\theta_1$ is {} and $\\theta_1$ is {}.'.format(hof.items[0][0], hof.items[0][1], hof.items[0][2]))"
      ],
      "metadata": {
        "colab": {
          "base_uri": "https://localhost:8080/"
        },
        "id": "ZV6qbnAu3Ifz",
        "outputId": "97c72703-fedc-4434-ce0d-d317d527f6f7"
      },
      "execution_count": 22,
      "outputs": [
        {
          "output_type": "stream",
          "name": "stdout",
          "text": [
            "$\\theta_0$ is 2.855578151289607, $\\theta_1$ is 2.389874319096517 and $\\theta_1$ is 0.9971316967590879.\n"
          ]
        }
      ]
    },
    {
      "cell_type": "code",
      "source": [
        "import matplotlib.pyplot as plt\n",
        "import networkx\n",
        "\n",
        "history = tools.History()\n",
        "graph = networkx.DiGraph(history.genealogy_tree)\n",
        "graph = graph.reverse()     # Make the graph top-down\n",
        "colors = [toolbox.evaluate(history.genealogy_history[i])[0] for i in graph]\n",
        "networkx.draw(graph, node_color=colors)\n",
        "plt.show()"
      ],
      "metadata": {
        "id": "447plun9Ca6u"
      },
      "execution_count": null,
      "outputs": []
    },
    {
      "cell_type": "code",
      "source": [
        "# record = stats.compile(pop)\n",
        "# logbook = tools.Logbook()\n",
        "# logbook.record(gen=0, evals=30, **record)"
      ],
      "metadata": {
        "id": "u3EMgMuA3ZcK"
      },
      "execution_count": null,
      "outputs": []
    },
    {
      "cell_type": "code",
      "source": [
        "# gen = log.select(\"gen\")\n",
        "# fit_mins = log.select(\"min\")\n",
        "# size_avgs = log.select(\"avg\")"
      ],
      "metadata": {
        "id": "t8vcb0eb4M_M"
      },
      "execution_count": null,
      "outputs": []
    },
    {
      "cell_type": "code",
      "source": [
        "# gen, avg = logbook.select(\"gen\", \"avg\")"
      ],
      "metadata": {
        "id": "z1gYmevZ49Rp"
      },
      "execution_count": null,
      "outputs": []
    },
    {
      "cell_type": "code",
      "source": [
        "# logbook.header = \"gen\", \"avg\", \"spam\""
      ],
      "metadata": {
        "id": "Y0XRyFtY4_kZ"
      },
      "execution_count": null,
      "outputs": []
    },
    {
      "cell_type": "code",
      "source": [
        "# print(logbook)"
      ],
      "metadata": {
        "id": "71dbcTQu5A19"
      },
      "execution_count": null,
      "outputs": []
    },
    {
      "cell_type": "code",
      "source": [
        "# gen = logbook.select(\"gen\")\n",
        "# fit_mins = logbook.chapters[\"fitness\"].select(\"min\")\n",
        "# size_avgs = logbook.chapters[\"size\"].select(\"avg\")\n",
        "\n",
        "# import matplotlib.pyplot as plt\n",
        "\n",
        "# fig, ax1 = plt.subplots()\n",
        "# line1 = ax1.plot(gen, fit_mins, \"b-\", label=\"Minimum Fitness\")\n",
        "# ax1.set_xlabel(\"Generation\")\n",
        "# ax1.set_ylabel(\"Fitness\", color=\"b\")\n",
        "# for tl in ax1.get_yticklabels():\n",
        "#     tl.set_color(\"b\")\n",
        "\n",
        "# ax2 = ax1.twinx()\n",
        "# line2 = ax2.plot(gen, size_avgs, \"r-\", label=\"Average Size\")\n",
        "# ax2.set_ylabel(\"Size\", color=\"r\")\n",
        "# for tl in ax2.get_yticklabels():\n",
        "#     tl.set_color(\"r\")\n",
        "\n",
        "# lns = line1 + line2\n",
        "# labs = [l.get_label() for l in lns]\n",
        "# ax1.legend(lns, labs, loc=\"center right\")\n",
        "\n",
        "# plt.show()"
      ],
      "metadata": {
        "id": "YaTkB7tF5LIC"
      },
      "execution_count": null,
      "outputs": []
    },
    {
      "cell_type": "code",
      "source": [
        "# gen = logbook.select(\"gen\")\n",
        "# fit_mins = logbook.select(\"min\")\n",
        "# size_avgs = logbook.select(\"avg\")\n"
      ],
      "metadata": {
        "id": "4c540l6B5MpT"
      },
      "execution_count": null,
      "outputs": []
    },
    {
      "cell_type": "code",
      "source": [
        "# plt.figure(figsize=(10,7))\n",
        "# plt.plot(gen, size_avgs, \"r-\", label=\"Average Fitness\")\n",
        "# plt.xlabel('Generation')\n",
        "# plt.ylabel('Average Fitness')\n",
        "# plt.show()"
      ],
      "metadata": {
        "id": "sFEZhyq43m04"
      },
      "execution_count": null,
      "outputs": []
    },
    {
      "cell_type": "code",
      "source": [
        "# plt.plot(gen, fit_mins, \"b-\", label=\"Minimum Fitness\")\n",
        "# plt.xlabel('Generation')\n",
        "# plt.ylabel('Minimum Fitness')\n",
        "# plt.show()"
      ],
      "metadata": {
        "id": "_TWTHZSN3uIh"
      },
      "execution_count": null,
      "outputs": []
    },
    {
      "cell_type": "code",
      "source": [
        ""
      ],
      "metadata": {
        "id": "eUPTsuE77aso"
      },
      "execution_count": null,
      "outputs": []
    },
    {
      "cell_type": "code",
      "source": [
        "fit_mins"
      ],
      "metadata": {
        "id": "lvPAeOPG7d0H"
      },
      "execution_count": null,
      "outputs": []
    },
    {
      "cell_type": "code",
      "source": [
        ""
      ],
      "metadata": {
        "id": "VmjVUVoq8StF"
      },
      "execution_count": null,
      "outputs": []
    }
  ]
}