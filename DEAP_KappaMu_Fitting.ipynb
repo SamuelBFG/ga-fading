{
  "nbformat": 4,
  "nbformat_minor": 0,
  "metadata": {
    "colab": {
      "name": "DEAP_KappaMu_Fitting.ipynb",
      "provenance": [],
      "collapsed_sections": [],
      "authorship_tag": "ABX9TyOGivb3m3MztajAgmI6LK3l",
      "include_colab_link": true
    },
    "kernelspec": {
      "name": "python3",
      "display_name": "Python 3"
    },
    "language_info": {
      "name": "python"
    }
  },
  "cells": [
    {
      "cell_type": "markdown",
      "metadata": {
        "id": "view-in-github",
        "colab_type": "text"
      },
      "source": [
        "<a href=\"https://colab.research.google.com/github/SamuelBFG/ga-fading/blob/main/DEAP_KappaMu_Fitting.ipynb\" target=\"_parent\"><img src=\"https://colab.research.google.com/assets/colab-badge.svg\" alt=\"Open In Colab\"/></a>"
      ]
    },
    {
      "cell_type": "code",
      "source": [
        "# !pip install SciencePlots"
      ],
      "metadata": {
        "id": "vmEpPZV16ppr"
      },
      "execution_count": 1,
      "outputs": []
    },
    {
      "cell_type": "code",
      "source": [
        "# !pip install deap"
      ],
      "metadata": {
        "id": "7Dswx1e6wbcR"
      },
      "execution_count": 2,
      "outputs": []
    },
    {
      "cell_type": "markdown",
      "source": [
        "$y = \\theta_0 * x + \\theta_1$"
      ],
      "metadata": {
        "id": "_77V6HG45mVG"
      }
    },
    {
      "cell_type": "code",
      "execution_count": 3,
      "metadata": {
        "id": "_v4Js2gNrEIy"
      },
      "outputs": [],
      "source": [
        "import numpy as np\n",
        "import matplotlib.pyplot as plt\n",
        "%matplotlib inline\n",
        "from scipy import special as sp\n",
        "import deap\n",
        "from deap import algorithms, base, creator, tools\n",
        "from KappaMu import KappaMu\n",
        "# %config InlineBackend.figure_format = 'retina'\n",
        "# plt.style.use('science')/\n",
        "# plt.rc('text', usetex=True)\n",
        "# plt.rc('font', family='serif')\n",
        "# plt.rcParams['text.latex.preamble'] ='\\\\usepackage{libertine}\\n\\\\usepackage[utf8]{inputenc}'\n",
        "\n",
        "import seaborn\n",
        "seaborn.set(style='whitegrid')\n",
        "seaborn.set_context('notebook')\n",
        "\n",
        "def evaluation(theta):\n",
        "  X = np.array([1,2,3,4,5,20,26,7])\n",
        "  Y = np.array([5,7,9,11,13,43,55,17])\n",
        "\n",
        "  n = len(X)\n",
        "  y_pred = theta[0]*X + theta[1]\n",
        "  cost = 1/n * sum(val**2 for val in (Y-y_pred))\n",
        "  return (cost,)\n",
        "\n",
        "def computePDF(r, kappa, mu, r_hat):\n",
        "  A = (2*mu * ((1 + kappa)**((mu+1)/2))) \\\n",
        "          /((kappa**((mu - 1)/2)) * np.exp(mu * kappa))\n",
        "  R = r / r_hat\n",
        "  B = (R**mu) * np.exp(- mu*(1 + kappa)*(R**2))\n",
        "  C = sp.iv(mu - 1, 2*mu * R * np.sqrt(kappa*(1 + kappa)))\n",
        "  PDF = A * B * C / r_hat \n",
        "  return PDF\n",
        "\n",
        "def fitnessFunction(theta):\n",
        "  # X = np.array([1,2,3,4,5,20,26,7])\n",
        "  # Y = np.array([5,7,9,11,13,43,55,17])\n",
        "  X = ku.X\n",
        "  Y = ku.Y\n",
        "  n = len(X)\n",
        "  kappa = theta[0]\n",
        "  mu = theta[1]\n",
        "  r_hat = theta[2]\n",
        "\n",
        "  y_pred = computePDF(X, kappa, mu, r_hat)\n",
        "  # print('y_pred', y_pred)\n",
        "  # y_pred = theta[0]*X + theta[1]\n",
        "  cost = 1/n * sum(val**2 for val in (Y-y_pred))\n",
        "  return (cost,)"
      ]
    },
    {
      "cell_type": "code",
      "source": [
        "# kappa = 0.04\n",
        "# mu = -0.4\n",
        "# r_hat = 1"
      ],
      "metadata": {
        "id": "iSUbNuVgPgbp"
      },
      "execution_count": 4,
      "outputs": []
    },
    {
      "cell_type": "code",
      "source": [
        "# computePDF(ku.X, kappa, mu, r_hat)"
      ],
      "metadata": {
        "id": "0adQxwnaPcWk"
      },
      "execution_count": 5,
      "outputs": []
    },
    {
      "cell_type": "code",
      "source": [
        "ku = KappaMu(kappa=1, mu=4, r_hat=1, numSamples=100, numSim=10**6)"
      ],
      "metadata": {
        "id": "RgbTApjlv48_"
      },
      "execution_count": 6,
      "outputs": []
    },
    {
      "cell_type": "code",
      "source": [
        "r = np.linspace(0, 3, 3000) # theoretical envelope PDF x axes\n",
        "plt.plot(r, ku._pdf(r))\n",
        "plt.plot(ku.X[1:len(ku.X):2], ku.Y[1:len(ku.Y):2], \"k.\", label='Simulation')"
      ],
      "metadata": {
        "colab": {
          "base_uri": "https://localhost:8080/",
          "height": 286
        },
        "id": "kr8VEm5RIc4T",
        "outputId": "8bd598fd-198e-4036-f404-16cc860f70c4"
      },
      "execution_count": 7,
      "outputs": [
        {
          "output_type": "execute_result",
          "data": {
            "text/plain": [
              "[<matplotlib.lines.Line2D at 0x7f8849d46790>]"
            ]
          },
          "metadata": {},
          "execution_count": 7
        },
        {
          "output_type": "display_data",
          "data": {
            "text/plain": [
              "<Figure size 432x288 with 1 Axes>"
            ],
            "image/png": "[encoded data removed]"
          },
          "metadata": {}
        }
      ]
    },
    {
      "cell_type": "code",
      "source": [
        "evaluation([0.12726272,0.17092608])"
      ],
      "metadata": {
        "colab": {
          "base_uri": "https://localhost:8080/"
        },
        "id": "JM3XoUNRwYec",
        "outputId": "9436103e-dfa6-4571-f902-638ef4edebe0"
      },
      "execution_count": 8,
      "outputs": [
        {
          "output_type": "execute_result",
          "data": {
            "text/plain": [
              "(615.375442293955,)"
            ]
          },
          "metadata": {},
          "execution_count": 8
        }
      ]
    },
    {
      "cell_type": "code",
      "source": [
        "creator.create(\"FitnessMin\", base.Fitness, weights=(-1.0,)) #-1 to minimze, +1 to maximize\n",
        "creator.create(\"Individual\", list, fitness=creator.FitnessMin)\n",
        "\n",
        "# toolbox = base.Toolbox()"
      ],
      "metadata": {
        "id": "7Muc2sDbwv-L"
      },
      "execution_count": 9,
      "outputs": []
    },
    {
      "cell_type": "markdown",
      "source": [
        "### One individual for $\\theta_0$ and other for $\\theta_1$\n",
        "$y = \\theta_0x + \\theta_1$"
      ],
      "metadata": {
        "id": "fM0bg2qNxw7T"
      }
    },
    {
      "cell_type": "code",
      "source": [
        "np.random.uniform(-1,1, 10)"
      ],
      "metadata": {
        "colab": {
          "base_uri": "https://localhost:8080/"
        },
        "id": "oti8um9Yxg56",
        "outputId": "1810d365-ed42-4559-aace-f77d27123ecd"
      },
      "execution_count": 10,
      "outputs": [
        {
          "output_type": "execute_result",
          "data": {
            "text/plain": [
              "array([ 0.37233627,  0.02006482, -0.42140286,  0.73553519,  0.45367772,\n",
              "        0.33752395, -0.94286669,  0.95594216, -0.03703897, -0.03510006])"
            ]
          },
          "metadata": {},
          "execution_count": 10
        }
      ]
    },
    {
      "cell_type": "code",
      "source": [
        "toolbox = base.Toolbox()"
      ],
      "metadata": {
        "id": "cTpYrYjuzJ_h"
      },
      "execution_count": 11,
      "outputs": []
    },
    {
      "cell_type": "code",
      "source": [
        "toolbox.register(\"attr_bool\", np.random.uniform, 0, 1)\n",
        "toolbox.attr_bool()\n",
        "\n",
        "toolbox.register(\"individual\", tools.initRepeat, creator.Individual, toolbox.attr_bool, 3)\n",
        "toolbox.register(\"population\", tools.initRepeat, list, toolbox.individual)\n",
        "toolbox.individual()"
      ],
      "metadata": {
        "colab": {
          "base_uri": "https://localhost:8080/"
        },
        "id": "dS0mvXrXxv7Y",
        "outputId": "f7d56f6f-6082-4cff-8afb-0cacecc96132"
      },
      "execution_count": 12,
      "outputs": [
        {
          "output_type": "execute_result",
          "data": {
            "text/plain": [
              "[0.3771451288065397, 0.6028382508169975, 0.40378273430089473]"
            ]
          },
          "metadata": {},
          "execution_count": 12
        }
      ]
    },
    {
      "cell_type": "code",
      "source": [
        "toolbox.register(\"evaluate\", fitnessFunction)\n",
        "toolbox.register(\"mate\", tools.cxTwoPoint)\n",
        "toolbox.register(\"mutate\", tools.mutGaussian, mu=0, sigma=3 , indpb=0.05)\n",
        "toolbox.register(\"select\", tools.selTournament, tournsize=3)"
      ],
      "metadata": {
        "id": "4TTwpGxzyTvY"
      },
      "execution_count": 13,
      "outputs": []
    },
    {
      "cell_type": "code",
      "source": [
        "pop = toolbox.population(n=500)"
      ],
      "metadata": {
        "id": "WXj8FtXqz3sL"
      },
      "execution_count": 14,
      "outputs": []
    },
    {
      "cell_type": "code",
      "source": [
        "hof = tools.ParetoFront()"
      ],
      "metadata": {
        "id": "2VMXwW-Wz-sa"
      },
      "execution_count": 15,
      "outputs": []
    },
    {
      "cell_type": "code",
      "source": [
        "stats = tools.Statistics(lambda ind: ind.fitness.values)\n",
        "stats.register(\"avg\", np.mean)\n",
        "stats.register(\"std\", np.std)\n",
        "stats.register(\"min\", np.min)\n",
        "stats.register(\"max\", np.max)"
      ],
      "metadata": {
        "id": "pnv667kd0Cgz"
      },
      "execution_count": 16,
      "outputs": []
    },
    {
      "cell_type": "code",
      "source": [
        "# sortedPop = sorted(pop, key=lambda ind:ind.fitness)"
      ],
      "metadata": {
        "id": "m5l2Pnc3_L6r"
      },
      "execution_count": 17,
      "outputs": []
    },
    {
      "cell_type": "code",
      "source": [
        "pop, log = algorithms.eaSimple(pop, toolbox, cxpb=0.5, mutpb=0.2,\\\n",
        "                               ngen=100, stats=stats, halloffame=hof, verbose=True)"
      ],
      "metadata": {
        "colab": {
          "base_uri": "https://localhost:8080/",
          "height": 945
        },
        "id": "k5TRr7AS0OgC",
        "outputId": "3d9c6448-e837-4776-e236-7623245dead0"
      },
      "execution_count": 18,
      "outputs": [
        {
          "output_type": "stream",
          "name": "stdout",
          "text": [
            "gen\tnevals\tavg     \tstd     \tmin     \tmax    \n",
            "0  \t500   \t0.670417\t0.287981\t0.198009\t1.55006\n",
            "1  \t316   \t(nan+nanj)\tnan     \t(nan+0j)\t(nan+0j)\n"
          ]
        },
        {
          "output_type": "stream",
          "name": "stderr",
          "text": [
            "/usr/local/lib/python3.7/dist-packages/ipykernel_launcher.py:30: RuntimeWarning: invalid value encountered in power\n",
            "/usr/local/lib/python3.7/dist-packages/ipykernel_launcher.py:31: RuntimeWarning: invalid value encountered in sqrt\n",
            "/usr/local/lib/python3.7/dist-packages/deap/base.py:220: RuntimeWarning: invalid value encountered in greater\n",
            "  if self_wvalue > other_wvalue:\n",
            "/usr/local/lib/python3.7/dist-packages/deap/base.py:222: RuntimeWarning: invalid value encountered in less\n",
            "  elif self_wvalue < other_wvalue:\n"
          ]
        },
        {
          "output_type": "stream",
          "name": "stdout",
          "text": [
            "2  \t307   \t(nan+nanj)\tnan     \t(nan+0j)\t(nan+0j)\n",
            "3  \t303   \t(nan+nanj)\tnan     \t(nan+0j)\t(nan+0j)\n",
            "4  \t293   \t(nan+nanj)\tnan     \t(nan+0j)\t(nan+0j)\n",
            "5  \t283   \t(nan+nanj)\tnan     \t(nan+0j)\t(nan+0j)\n",
            "6  \t322   \t(nan+nanj)\tnan     \t(nan+0j)\t(nan+0j)\n",
            "7  \t311   \t(nan+nanj)\tnan     \t(nan+nanj)\t(nan+nanj)\n",
            "8  \t320   \t(nan+nanj)\tnan     \t(nan+nanj)\t(nan+nanj)\n",
            "9  \t305   \t(nan+nanj)\tnan     \t(nan+0j)  \t(nan+0j)  \n",
            "10 \t292   \t(nan+nanj)\tnan     \t(nan+0j)  \t(nan+0j)  \n",
            "11 \t292   \t(nan+nanj)\tnan     \t(nan+0j)  \t(nan+0j)  \n",
            "12 \t313   \t(nan+nanj)\tnan     \t(nan+nanj)\t(nan+nanj)\n",
            "13 \t291   \t(nan+nanj)\tnan     \t(nan+nanj)\t(nan+nanj)\n",
            "14 \t287   \t(nan+nanj)\tnan     \t(nan+0j)  \t(nan+0j)  \n",
            "15 \t289   \t(nan+nanj)\tnan     \t(nan+0j)  \t(nan+0j)  \n"
          ]
        },
        {
          "output_type": "stream",
          "name": "stderr",
          "text": [
            "/usr/local/lib/python3.7/dist-packages/ipykernel_launcher.py:32: RuntimeWarning: overflow encountered in multiply\n"
          ]
        },
        {
          "output_type": "stream",
          "name": "stdout",
          "text": [
            "16 \t311   \t(nan+nanj)\tnan     \t(nan+0j)  \t(nan+0j)  \n",
            "17 \t314   \t(nan+nanj)\tnan     \t(nan+0j)  \t(nan+0j)  \n"
          ]
        },
        {
          "output_type": "stream",
          "name": "stderr",
          "text": [
            "/usr/local/lib/python3.7/dist-packages/ipykernel_launcher.py:32: RuntimeWarning: invalid value encountered in multiply\n"
          ]
        },
        {
          "output_type": "stream",
          "name": "stdout",
          "text": [
            "18 \t294   \t(nan+nanj)\tnan     \t(nan+0j)  \t(nan+0j)  \n",
            "19 \t289   \t(nan+nanj)\tnan     \t(nan+0j)  \t(nan+0j)  \n",
            "20 \t278   \t(nan+nanj)\tnan     \t(nan+0j)  \t(nan+0j)  \n",
            "21 \t287   \t(nan+nanj)\tnan     \t(nan+0j)  \t(nan+0j)  \n",
            "22 \t284   \t(nan+nanj)\tnan     \t(nan+0j)  \t(nan+0j)  \n",
            "23 \t311   \t(nan+nanj)\tnan     \t(nan+nanj)\t(nan+nanj)\n"
          ]
        },
        {
          "output_type": "error",
          "ename": "KeyboardInterrupt",
          "evalue": "ignored",
          "traceback": [
            "\u001b[0;31m---------------------------------------------------------------------------\u001b[0m",
            "\u001b[0;31mKeyboardInterrupt\u001b[0m                         Traceback (most recent call last)",
            "\u001b[0;32m<ipython-input-18-65f577287b4e>\u001b[0m in \u001b[0;36m<module>\u001b[0;34m()\u001b[0m\n\u001b[0;32m----> 1\u001b[0;31m \u001b[0mpop\u001b[0m\u001b[0;34m,\u001b[0m \u001b[0mlog\u001b[0m \u001b[0;34m=\u001b[0m \u001b[0malgorithms\u001b[0m\u001b[0;34m.\u001b[0m\u001b[0meaSimple\u001b[0m\u001b[0;34m(\u001b[0m\u001b[0mpop\u001b[0m\u001b[0;34m,\u001b[0m \u001b[0mtoolbox\u001b[0m\u001b[0;34m,\u001b[0m \u001b[0mcxpb\u001b[0m\u001b[0;34m=\u001b[0m\u001b[0;36m0.5\u001b[0m\u001b[0;34m,\u001b[0m \u001b[0mmutpb\u001b[0m\u001b[0;34m=\u001b[0m\u001b[0;36m0.2\u001b[0m\u001b[0;34m,\u001b[0m                               \u001b[0mngen\u001b[0m\u001b[0;34m=\u001b[0m\u001b[0;36m100\u001b[0m\u001b[0;34m,\u001b[0m \u001b[0mstats\u001b[0m\u001b[0;34m=\u001b[0m\u001b[0mstats\u001b[0m\u001b[0;34m,\u001b[0m \u001b[0mhalloffame\u001b[0m\u001b[0;34m=\u001b[0m\u001b[0mhof\u001b[0m\u001b[0;34m,\u001b[0m \u001b[0mverbose\u001b[0m\u001b[0;34m=\u001b[0m\u001b[0;32mTrue\u001b[0m\u001b[0;34m)\u001b[0m\u001b[0;34m\u001b[0m\u001b[0;34m\u001b[0m\u001b[0m\n\u001b[0m",
            "\u001b[0;32m/usr/local/lib/python3.7/dist-packages/deap/algorithms.py\u001b[0m in \u001b[0;36meaSimple\u001b[0;34m(population, toolbox, cxpb, mutpb, ngen, stats, halloffame, verbose)\u001b[0m\n\u001b[1;32m    176\u001b[0m         \u001b[0;31m# Update the hall of fame with the generated individuals\u001b[0m\u001b[0;34m\u001b[0m\u001b[0;34m\u001b[0m\u001b[0;34m\u001b[0m\u001b[0m\n\u001b[1;32m    177\u001b[0m         \u001b[0;32mif\u001b[0m \u001b[0mhalloffame\u001b[0m \u001b[0;32mis\u001b[0m \u001b[0;32mnot\u001b[0m \u001b[0;32mNone\u001b[0m\u001b[0;34m:\u001b[0m\u001b[0;34m\u001b[0m\u001b[0;34m\u001b[0m\u001b[0m\n\u001b[0;32m--> 178\u001b[0;31m             \u001b[0mhalloffame\u001b[0m\u001b[0;34m.\u001b[0m\u001b[0mupdate\u001b[0m\u001b[0;34m(\u001b[0m\u001b[0moffspring\u001b[0m\u001b[0;34m)\u001b[0m\u001b[0;34m\u001b[0m\u001b[0;34m\u001b[0m\u001b[0m\n\u001b[0m\u001b[1;32m    179\u001b[0m \u001b[0;34m\u001b[0m\u001b[0m\n\u001b[1;32m    180\u001b[0m         \u001b[0;31m# Replace the current population by the offspring\u001b[0m\u001b[0;34m\u001b[0m\u001b[0;34m\u001b[0m\u001b[0;34m\u001b[0m\u001b[0m\n",
            "\u001b[0;32m/usr/local/lib/python3.7/dist-packages/deap/tools/support.py\u001b[0m in \u001b[0;36mupdate\u001b[0;34m(self, population)\u001b[0m\n\u001b[1;32m    624\u001b[0m             \u001b[0mhas_twin\u001b[0m \u001b[0;34m=\u001b[0m \u001b[0;32mFalse\u001b[0m\u001b[0;34m\u001b[0m\u001b[0;34m\u001b[0m\u001b[0m\n\u001b[1;32m    625\u001b[0m             \u001b[0mto_remove\u001b[0m \u001b[0;34m=\u001b[0m \u001b[0;34m[\u001b[0m\u001b[0;34m]\u001b[0m\u001b[0;34m\u001b[0m\u001b[0;34m\u001b[0m\u001b[0m\n\u001b[0;32m--> 626\u001b[0;31m             \u001b[0;32mfor\u001b[0m \u001b[0mi\u001b[0m\u001b[0;34m,\u001b[0m \u001b[0mhofer\u001b[0m \u001b[0;32min\u001b[0m \u001b[0menumerate\u001b[0m\u001b[0;34m(\u001b[0m\u001b[0mself\u001b[0m\u001b[0;34m)\u001b[0m\u001b[0;34m:\u001b[0m    \u001b[0;31m# hofer = hall of famer\u001b[0m\u001b[0;34m\u001b[0m\u001b[0;34m\u001b[0m\u001b[0m\n\u001b[0m\u001b[1;32m    627\u001b[0m                 \u001b[0;32mif\u001b[0m \u001b[0;32mnot\u001b[0m \u001b[0mdominates_one\u001b[0m \u001b[0;32mand\u001b[0m \u001b[0mhofer\u001b[0m\u001b[0;34m.\u001b[0m\u001b[0mfitness\u001b[0m\u001b[0;34m.\u001b[0m\u001b[0mdominates\u001b[0m\u001b[0;34m(\u001b[0m\u001b[0mind\u001b[0m\u001b[0;34m.\u001b[0m\u001b[0mfitness\u001b[0m\u001b[0;34m)\u001b[0m\u001b[0;34m:\u001b[0m\u001b[0;34m\u001b[0m\u001b[0;34m\u001b[0m\u001b[0m\n\u001b[1;32m    628\u001b[0m                     \u001b[0mis_dominated\u001b[0m \u001b[0;34m=\u001b[0m \u001b[0;32mTrue\u001b[0m\u001b[0;34m\u001b[0m\u001b[0;34m\u001b[0m\u001b[0m\n",
            "\u001b[0;31mKeyboardInterrupt\u001b[0m: "
          ]
        }
      ]
    },
    {
      "cell_type": "code",
      "source": [
        "print('Current best fitness:', evaluation(tools.selBest(pop, k=1)[0]))"
      ],
      "metadata": {
        "id": "Ci13-AGd1ugQ"
      },
      "execution_count": null,
      "outputs": []
    },
    {
      "cell_type": "markdown",
      "source": [
        "### True function:\n",
        "\n",
        "$y=2x+3$\n",
        "\n",
        "$⇒\\theta_0=2$\n",
        "\n",
        "$⇒\\theta_1=3$"
      ],
      "metadata": {
        "id": "1PJCqJ6j2v9r"
      }
    },
    {
      "cell_type": "code",
      "source": [
        "len(hof)"
      ],
      "metadata": {
        "id": "FHS3K1nj2Y00"
      },
      "execution_count": null,
      "outputs": []
    },
    {
      "cell_type": "code",
      "source": [
        "print(r'$\\theta_0$ is {}, $\\theta_1$ is {} and $\\theta_1$ is {}.'.format(hof.items[0][0], hof.items[0][1], hof.items[0][2]))"
      ],
      "metadata": {
        "id": "ZV6qbnAu3Ifz"
      },
      "execution_count": null,
      "outputs": []
    },
    {
      "cell_type": "code",
      "source": [
        "import matplotlib.pyplot as plt\n",
        "import networkx\n",
        "\n",
        "history = tools.History()\n",
        "graph = networkx.DiGraph(history.genealogy_tree)\n",
        "graph = graph.reverse()     # Make the graph top-down\n",
        "colors = [toolbox.evaluate(history.genealogy_history[i])[0] for i in graph]\n",
        "networkx.draw(graph, node_color=colors)\n",
        "plt.show()"
      ],
      "metadata": {
        "id": "447plun9Ca6u"
      },
      "execution_count": null,
      "outputs": []
    },
    {
      "cell_type": "code",
      "source": [
        "# record = stats.compile(pop)\n",
        "# logbook = tools.Logbook()\n",
        "# logbook.record(gen=0, evals=30, **record)"
      ],
      "metadata": {
        "id": "u3EMgMuA3ZcK"
      },
      "execution_count": null,
      "outputs": []
    },
    {
      "cell_type": "code",
      "source": [
        "# gen = log.select(\"gen\")\n",
        "# fit_mins = log.select(\"min\")\n",
        "# size_avgs = log.select(\"avg\")"
      ],
      "metadata": {
        "id": "t8vcb0eb4M_M"
      },
      "execution_count": null,
      "outputs": []
    },
    {
      "cell_type": "code",
      "source": [
        "# gen, avg = logbook.select(\"gen\", \"avg\")"
      ],
      "metadata": {
        "id": "z1gYmevZ49Rp"
      },
      "execution_count": null,
      "outputs": []
    },
    {
      "cell_type": "code",
      "source": [
        "# logbook.header = \"gen\", \"avg\", \"spam\""
      ],
      "metadata": {
        "id": "Y0XRyFtY4_kZ"
      },
      "execution_count": null,
      "outputs": []
    },
    {
      "cell_type": "code",
      "source": [
        "# print(logbook)"
      ],
      "metadata": {
        "id": "71dbcTQu5A19"
      },
      "execution_count": null,
      "outputs": []
    },
    {
      "cell_type": "code",
      "source": [
        "# gen = logbook.select(\"gen\")\n",
        "# fit_mins = logbook.chapters[\"fitness\"].select(\"min\")\n",
        "# size_avgs = logbook.chapters[\"size\"].select(\"avg\")\n",
        "\n",
        "# import matplotlib.pyplot as plt\n",
        "\n",
        "# fig, ax1 = plt.subplots()\n",
        "# line1 = ax1.plot(gen, fit_mins, \"b-\", label=\"Minimum Fitness\")\n",
        "# ax1.set_xlabel(\"Generation\")\n",
        "# ax1.set_ylabel(\"Fitness\", color=\"b\")\n",
        "# for tl in ax1.get_yticklabels():\n",
        "#     tl.set_color(\"b\")\n",
        "\n",
        "# ax2 = ax1.twinx()\n",
        "# line2 = ax2.plot(gen, size_avgs, \"r-\", label=\"Average Size\")\n",
        "# ax2.set_ylabel(\"Size\", color=\"r\")\n",
        "# for tl in ax2.get_yticklabels():\n",
        "#     tl.set_color(\"r\")\n",
        "\n",
        "# lns = line1 + line2\n",
        "# labs = [l.get_label() for l in lns]\n",
        "# ax1.legend(lns, labs, loc=\"center right\")\n",
        "\n",
        "# plt.show()"
      ],
      "metadata": {
        "id": "YaTkB7tF5LIC"
      },
      "execution_count": null,
      "outputs": []
    },
    {
      "cell_type": "code",
      "source": [
        "# gen = logbook.select(\"gen\")\n",
        "# fit_mins = logbook.select(\"min\")\n",
        "# size_avgs = logbook.select(\"avg\")\n"
      ],
      "metadata": {
        "id": "4c540l6B5MpT"
      },
      "execution_count": null,
      "outputs": []
    },
    {
      "cell_type": "code",
      "source": [
        "# plt.figure(figsize=(10,7))\n",
        "# plt.plot(gen, size_avgs, \"r-\", label=\"Average Fitness\")\n",
        "# plt.xlabel('Generation')\n",
        "# plt.ylabel('Average Fitness')\n",
        "# plt.show()"
      ],
      "metadata": {
        "id": "sFEZhyq43m04"
      },
      "execution_count": null,
      "outputs": []
    },
    {
      "cell_type": "code",
      "source": [
        "# plt.plot(gen, fit_mins, \"b-\", label=\"Minimum Fitness\")\n",
        "# plt.xlabel('Generation')\n",
        "# plt.ylabel('Minimum Fitness')\n",
        "# plt.show()"
      ],
      "metadata": {
        "id": "_TWTHZSN3uIh"
      },
      "execution_count": null,
      "outputs": []
    },
    {
      "cell_type": "code",
      "source": [
        "gen"
      ],
      "metadata": {
        "id": "eUPTsuE77aso"
      },
      "execution_count": null,
      "outputs": []
    },
    {
      "cell_type": "code",
      "source": [
        "fit_mins"
      ],
      "metadata": {
        "id": "lvPAeOPG7d0H"
      },
      "execution_count": null,
      "outputs": []
    },
    {
      "cell_type": "code",
      "source": [
        ""
      ],
      "metadata": {
        "id": "VmjVUVoq8StF"
      },
      "execution_count": null,
      "outputs": []
    }
  ]
}