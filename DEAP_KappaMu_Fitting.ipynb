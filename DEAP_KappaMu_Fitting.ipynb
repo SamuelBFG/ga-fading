{
  "nbformat": 4,
  "nbformat_minor": 0,
  "metadata": {
    "colab": {
      "name": "DEAP_KappaMu_Fitting.ipynb",
      "provenance": [],
      "collapsed_sections": [],
      "authorship_tag": "ABX9TyOqhHBobasnbtc/Gp0h1e3c",
      "include_colab_link": true
    },
    "kernelspec": {
      "name": "python3",
      "display_name": "Python 3"
    },
    "language_info": {
      "name": "python"
    }
  },
  "cells": [
    {
      "cell_type": "markdown",
      "metadata": {
        "id": "view-in-github",
        "colab_type": "text"
      },
      "source": [
        "<a href=\"https://colab.research.google.com/github/SamuelBFG/ga-fading/blob/main/DEAP_KappaMu_Fitting.ipynb\" target=\"_parent\"><img src=\"https://colab.research.google.com/assets/colab-badge.svg\" alt=\"Open In Colab\"/></a>"
      ]
    },
    {
      "cell_type": "markdown",
      "source": [
        "# Genetic Algorithms: $\\kappa$-$\\mu$ fading distribution parameter estimation using deap.\n"
      ],
      "metadata": {
        "id": "ueAqs6q3fPDX"
      }
    },
    {
      "cell_type": "code",
      "source": [
        "# !pip install deap"
      ],
      "metadata": {
        "id": "7Dswx1e6wbcR"
      },
      "execution_count": 1,
      "outputs": []
    },
    {
      "cell_type": "code",
      "execution_count": 2,
      "metadata": {
        "id": "_v4Js2gNrEIy"
      },
      "outputs": [],
      "source": [
        "import numpy as np\n",
        "import matplotlib.pyplot as plt\n",
        "%matplotlib inline\n",
        "import pandas as pd\n",
        "from scipy import special as sp\n",
        "import deap\n",
        "from deap import algorithms, base, creator, tools\n",
        "from KappaMu import KappaMu\n",
        "\n",
        "import seaborn as sns\n",
        "sns.set(style='whitegrid')\n",
        "sns.set_context('notebook')\n",
        "\n",
        "def evaluation(theta):\n",
        "  X = np.array([1,2,3,4,5,20,26,7])\n",
        "  Y = np.array([5,7,9,11,13,43,55,17])\n",
        "\n",
        "  n = len(X)\n",
        "  y_pred = theta[0]*X + theta[1]\n",
        "  cost = 1/n * sum(val**2 for val in (Y-y_pred))\n",
        "  return (cost,)\n",
        "\n",
        "def computePDF(r, kappa, mu, r_hat):\n",
        "  A = (2*mu * ((1 + kappa)**((mu+1)/2))) \\\n",
        "          /((kappa**((mu - 1)/2)) * np.exp(mu * kappa))\n",
        "  R = r / r_hat\n",
        "  B = (R**mu) * np.exp(- mu*(1 + kappa)*(R**2))\n",
        "  C = sp.iv(mu - 1, 2*mu * R * np.sqrt(kappa*(1 + kappa)))\n",
        "  PDF = A * B * C / r_hat \n",
        "  return PDF\n",
        "\n",
        "def fitnessFunction(theta):\n",
        "  # X = np.array([1,2,3,4,5,20,26,7])\n",
        "  # Y = np.array([5,7,9,11,13,43,55,17])\n",
        "  X = ku.X\n",
        "  Y = ku.Y\n",
        "  n = len(X)\n",
        "  kappa = theta[0]\n",
        "  mu = theta[1]\n",
        "  r_hat = theta[2]\n",
        "\n",
        "  y_pred = computePDF(X, kappa, mu, r_hat)\n",
        "  # print('y_pred', y_pred)\n",
        "  # y_pred = theta[0]*X + theta[1]\n",
        "  cost = 1/n * sum(val**2 for val in (Y-y_pred))\n",
        "  return (cost,)"
      ]
    },
    {
      "cell_type": "code",
      "source": [
        "ku = KappaMu(kappa=1, mu=4, r_hat=1, numSamples=100, numSim=10**6)"
      ],
      "metadata": {
        "id": "RgbTApjlv48_"
      },
      "execution_count": 3,
      "outputs": []
    },
    {
      "cell_type": "code",
      "source": [
        "r = np.linspace(0, 3, 3000) # theoretical envelope PDF x axes\n",
        "plt.plot(r, ku._pdf(r))\n",
        "plt.plot(ku.X[1:len(ku.X):2], ku.Y[1:len(ku.Y):2], \"k.\", label='Simulation')"
      ],
      "metadata": {
        "colab": {
          "base_uri": "https://localhost:8080/",
          "height": 286
        },
        "id": "kr8VEm5RIc4T",
        "outputId": "bbe4e83c-113f-4b97-84ce-28b16edbaa62"
      },
      "execution_count": 4,
      "outputs": [
        {
          "output_type": "execute_result",
          "data": {
            "text/plain": [
              "[<matplotlib.lines.Line2D at 0x7f4cc6deedd0>]"
            ]
          },
          "metadata": {},
          "execution_count": 4
        },
        {
          "output_type": "display_data",
          "data": {
            "text/plain": [
              "<Figure size 432x288 with 1 Axes>"
            ],
            "image/png": "[encoded data removed]"
          },
          "metadata": {}
        }
      ]
    },
    {
      "cell_type": "code",
      "source": [
        "plt.plot(ku.X,ku.Y)"
      ],
      "metadata": {
        "colab": {
          "base_uri": "https://localhost:8080/",
          "height": 286
        },
        "id": "JTfazxdmZsEw",
        "outputId": "3fe90221-beb6-4e26-c67b-771433f987fb"
      },
      "execution_count": 5,
      "outputs": [
        {
          "output_type": "execute_result",
          "data": {
            "text/plain": [
              "[<matplotlib.lines.Line2D at 0x7f4cc68e01d0>]"
            ]
          },
          "metadata": {},
          "execution_count": 5
        },
        {
          "output_type": "display_data",
          "data": {
            "text/plain": [
              "<Figure size 432x288 with 1 Axes>"
            ],
            "image/png": "[encoded data removed]"
          },
          "metadata": {}
        }
      ]
    },
    {
      "cell_type": "code",
      "source": [
        "creator.create(\"FitnessMin\", base.Fitness, weights=(-1.0,)) #-1 to minimze, +1 to maximize\n",
        "creator.create(\"Individual\", list, fitness=creator.FitnessMin)\n",
        "\n",
        "# toolbox = base.Toolbox()"
      ],
      "metadata": {
        "id": "7Muc2sDbwv-L"
      },
      "execution_count": 6,
      "outputs": []
    },
    {
      "cell_type": "markdown",
      "source": [
        "### One individual for each $\\hat{\\theta}_i$\n"
      ],
      "metadata": {
        "id": "fM0bg2qNxw7T"
      }
    },
    {
      "cell_type": "code",
      "source": [
        "toolbox = base.Toolbox()"
      ],
      "metadata": {
        "id": "cTpYrYjuzJ_h"
      },
      "execution_count": 7,
      "outputs": []
    },
    {
      "cell_type": "code",
      "source": [
        "toolbox.register(\"attr_bool\", np.random.uniform, 0.1, 5)\n",
        "toolbox.attr_bool()\n",
        "\n",
        "toolbox.register(\"individual\", tools.initRepeat, creator.Individual, toolbox.attr_bool, 3)\n",
        "toolbox.register(\"population\", tools.initRepeat, list, toolbox.individual)\n",
        "toolbox.individual()"
      ],
      "metadata": {
        "colab": {
          "base_uri": "https://localhost:8080/"
        },
        "id": "dS0mvXrXxv7Y",
        "outputId": "dff8c2e6-2cb7-4a80-f0c5-7cde88c037b0"
      },
      "execution_count": 8,
      "outputs": [
        {
          "output_type": "execute_result",
          "data": {
            "text/plain": [
              "[2.7490608733683124, 2.1093823017188433, 3.1241665254892133]"
            ]
          },
          "metadata": {},
          "execution_count": 8
        }
      ]
    },
    {
      "cell_type": "code",
      "source": [
        "toolbox.register(\"evaluate\", fitnessFunction)\n",
        "toolbox.register(\"mate\", tools.cxTwoPoint)\n",
        "toolbox.register(\"mutate\", tools.mutShuffleIndexes, indpb=0.2)\n",
        "toolbox.register(\"select\", tools.selTournament, tournsize=3)"
      ],
      "metadata": {
        "id": "4TTwpGxzyTvY"
      },
      "execution_count": 9,
      "outputs": []
    },
    {
      "cell_type": "code",
      "source": [
        "pop = toolbox.population(n=500)"
      ],
      "metadata": {
        "id": "WXj8FtXqz3sL"
      },
      "execution_count": 10,
      "outputs": []
    },
    {
      "cell_type": "code",
      "source": [
        "hof = tools.ParetoFront()"
      ],
      "metadata": {
        "id": "2VMXwW-Wz-sa"
      },
      "execution_count": 11,
      "outputs": []
    },
    {
      "cell_type": "code",
      "source": [
        "stats = tools.Statistics(lambda ind: ind.fitness.values)\n",
        "stats.register(\"avg\", np.mean)\n",
        "stats.register(\"std\", np.std)\n",
        "stats.register(\"min\", np.min)\n",
        "stats.register(\"max\", np.max)"
      ],
      "metadata": {
        "id": "pnv667kd0Cgz"
      },
      "execution_count": 12,
      "outputs": []
    },
    {
      "cell_type": "code",
      "source": [
        "# sortedPop = sorted(pop, key=lambda ind:ind.fitness)"
      ],
      "metadata": {
        "id": "m5l2Pnc3_L6r"
      },
      "execution_count": 13,
      "outputs": []
    },
    {
      "cell_type": "code",
      "source": [
        "pop, log = algorithms.eaSimple(pop, toolbox, cxpb=0.5, mutpb=0.3,\\\n",
        "                               ngen=10, stats=stats, halloffame=hof, verbose=True)"
      ],
      "metadata": {
        "colab": {
          "base_uri": "https://localhost:8080/"
        },
        "id": "k5TRr7AS0OgC",
        "outputId": "abcdcab1-1912-4a72-829c-ffeb569c2866"
      },
      "execution_count": 14,
      "outputs": [
        {
          "output_type": "stream",
          "name": "stderr",
          "text": [
            "/usr/local/lib/python3.7/dist-packages/ipykernel_launcher.py:28: RuntimeWarning: invalid value encountered in multiply\n"
          ]
        },
        {
          "output_type": "stream",
          "name": "stdout",
          "text": [
            "gen\tnevals\tavg\tstd\tmin\tmax\n",
            "0  \t500   \tnan\tnan\tnan\tnan\n",
            "1  \t317   \tnan\tnan\tnan\tnan\n",
            "2  \t321   \tnan\tnan\tnan\tnan\n",
            "3  \t327   \tnan\tnan\tnan\tnan\n",
            "4  \t341   \t0.13074\t0.227292\t0.000166696\t1.92937\n",
            "5  \t322   \t0.0764064\t0.188475\t0.000122512\t2.22611\n",
            "6  \t320   \t0.0798482\t0.189109\t0.000122512\t0.694323\n",
            "7  \t321   \t0.0621811\t0.171479\t0.000122512\t0.693309\n",
            "8  \t324   \t0.0754699\t0.190553\t0.000121158\t0.785272\n",
            "9  \t337   \t0.0575591\t0.1721  \t0.000121158\t0.707986\n",
            "10 \t302   \t0.058946 \t0.17544 \t0.000121158\t0.760141\n"
          ]
        }
      ]
    },
    {
      "cell_type": "code",
      "source": [
        "print('Current best fitness:', fitnessFunction(tools.selBest(pop, k=1)[0]))"
      ],
      "metadata": {
        "colab": {
          "base_uri": "https://localhost:8080/"
        },
        "id": "Ci13-AGd1ugQ",
        "outputId": "08d9568b-6d9d-41fd-8e31-55be17094bb5"
      },
      "execution_count": 15,
      "outputs": [
        {
          "output_type": "stream",
          "name": "stdout",
          "text": [
            "Current best fitness: (0.00012115828862295748,)\n"
          ]
        }
      ]
    },
    {
      "cell_type": "code",
      "source": [
        "hof[0]"
      ],
      "metadata": {
        "colab": {
          "base_uri": "https://localhost:8080/"
        },
        "id": "S0XSA9-vgVMt",
        "outputId": "91e09bc1-7431-4ce9-b192-4b49704990b8"
      },
      "execution_count": 16,
      "outputs": [
        {
          "output_type": "execute_result",
          "data": {
            "text/plain": [
              "[2.657321942821025, 2.522792484313327, 0.9938648674325408]"
            ]
          },
          "metadata": {},
          "execution_count": 16
        }
      ]
    },
    {
      "cell_type": "code",
      "source": [
        "theta = [1,4,1]\n",
        "kappa = theta[0]\n",
        "mu = theta[1]\n",
        "r_hat = theta[2]\n",
        "X = ku.X\n",
        "Y = ku.Y\n",
        "y_pred = computePDF(X, kappa, mu, r_hat)\n",
        "\n",
        "plt.figure(figsize=(10,7))\n",
        "plt.plot(y_pred,'.r', label='Theoretical')\n",
        "plt.plot(computePDF(X,hof[0][0],hof[0][1],hof[0][2]),'.k', label='Predicted')\n",
        "plt.legend()\n",
        "plt.show()"
      ],
      "metadata": {
        "colab": {
          "base_uri": "https://localhost:8080/",
          "height": 431
        },
        "id": "BPZCAfQIazPL",
        "outputId": "debcb079-c765-41d2-f5c8-30dd79af22a0"
      },
      "execution_count": 17,
      "outputs": [
        {
          "output_type": "display_data",
          "data": {
            "text/plain": [
              "<Figure size 720x504 with 1 Axes>"
            ],
            "image/png": "[encoded data removed]"
          },
          "metadata": {}
        }
      ]
    },
    {
      "cell_type": "code",
      "source": [
        "plt.figure(figsize=(10,7))\n",
        "plt.plot(y_pred,'.r', label='Theoretical')\n",
        "plt.plot(computePDF(ku.X,hof[0][0],hof[0][1],hof[0][2]),'.k', label='Predicted')\n",
        "plt.ylim((1,1.5))\n",
        "plt.legend()\n",
        "plt.show()"
      ],
      "metadata": {
        "colab": {
          "base_uri": "https://localhost:8080/",
          "height": 435
        },
        "id": "W5mFC_9TggN8",
        "outputId": "d5bd5164-6329-4e4c-d1ad-fbce19922704"
      },
      "execution_count": 18,
      "outputs": [
        {
          "output_type": "display_data",
          "data": {
            "text/plain": [
              "<Figure size 720x504 with 1 Axes>"
            ],
            "image/png": "[encoded data removed]"
          },
          "metadata": {}
        }
      ]
    },
    {
      "cell_type": "code",
      "source": [
        "len(hof)"
      ],
      "metadata": {
        "colab": {
          "base_uri": "https://localhost:8080/"
        },
        "id": "FHS3K1nj2Y00",
        "outputId": "047e6e9b-798b-458a-f2d1-6c3325adb39b"
      },
      "execution_count": 19,
      "outputs": [
        {
          "output_type": "execute_result",
          "data": {
            "text/plain": [
              "3"
            ]
          },
          "metadata": {},
          "execution_count": 19
        }
      ]
    },
    {
      "cell_type": "code",
      "source": [
        "print(r'$\\theta_0$ is {}, $\\theta_1$ is {} and $\\theta_1$ is {}.'.format(hof.items[0][0], hof.items[0][1], hof.items[0][2]))"
      ],
      "metadata": {
        "colab": {
          "base_uri": "https://localhost:8080/"
        },
        "id": "ZV6qbnAu3Ifz",
        "outputId": "f5392b8a-6982-4ad5-d6f4-2e130c7a6c2b"
      },
      "execution_count": 20,
      "outputs": [
        {
          "output_type": "stream",
          "name": "stdout",
          "text": [
            "$\\theta_0$ is 2.657321942821025, $\\theta_1$ is 2.522792484313327 and $\\theta_1$ is 0.9938648674325408.\n"
          ]
        }
      ]
    },
    {
      "cell_type": "code",
      "source": [
        "record = stats.compile(pop)\n",
        "logbook = tools.Logbook()\n",
        "logbook.record(gen=0, evals=30, **record)"
      ],
      "metadata": {
        "id": "u3EMgMuA3ZcK"
      },
      "execution_count": 21,
      "outputs": []
    },
    {
      "cell_type": "code",
      "source": [
        "gen = log.select(\"gen\")\n",
        "fit_mins = log.select(\"min\")\n",
        "size_avgs = log.select(\"avg\")"
      ],
      "metadata": {
        "id": "t8vcb0eb4M_M"
      },
      "execution_count": 22,
      "outputs": []
    },
    {
      "cell_type": "code",
      "source": [
        "# gen, avg = logbook.select(\"gen\", \"avg\")"
      ],
      "metadata": {
        "id": "z1gYmevZ49Rp"
      },
      "execution_count": 23,
      "outputs": []
    },
    {
      "cell_type": "code",
      "source": [
        "# logbook.header = \"gen\", \"avg\", \"spam\""
      ],
      "metadata": {
        "id": "Y0XRyFtY4_kZ"
      },
      "execution_count": 24,
      "outputs": []
    },
    {
      "cell_type": "code",
      "source": [
        "# print(logbook)"
      ],
      "metadata": {
        "id": "71dbcTQu5A19"
      },
      "execution_count": 25,
      "outputs": []
    },
    {
      "cell_type": "code",
      "source": [
        "# gen = logbook.select(\"gen\")\n",
        "# fit_mins = logbook.chapters[\"fitness\"].select(\"min\")\n",
        "# size_avgs = logbook.chapters[\"size\"].select(\"avg\")\n",
        "\n",
        "# import matplotlib.pyplot as plt\n",
        "\n",
        "# fig, ax1 = plt.subplots()\n",
        "# line1 = ax1.plot(gen, fit_mins, \"b-\", label=\"Minimum Fitness\")\n",
        "# ax1.set_xlabel(\"Generation\")\n",
        "# ax1.set_ylabel(\"Fitness\", color=\"b\")\n",
        "# for tl in ax1.get_yticklabels():\n",
        "#     tl.set_color(\"b\")\n",
        "\n",
        "# ax2 = ax1.twinx()\n",
        "# line2 = ax2.plot(gen, size_avgs, \"r-\", label=\"Average Size\")\n",
        "# ax2.set_ylabel(\"Size\", color=\"r\")\n",
        "# for tl in ax2.get_yticklabels():\n",
        "#     tl.set_color(\"r\")\n",
        "\n",
        "# lns = line1 + line2\n",
        "# labs = [l.get_label() for l in lns]\n",
        "# ax1.legend(lns, labs, loc=\"center right\")\n",
        "\n",
        "# plt.show()"
      ],
      "metadata": {
        "id": "YaTkB7tF5LIC"
      },
      "execution_count": 26,
      "outputs": []
    },
    {
      "cell_type": "code",
      "source": [
        "# gen = logbook.select(\"gen\")\n",
        "# fit_mins = logbook.select(\"min\")\n",
        "# size_avgs = logbook.select(\"avg\")\n"
      ],
      "metadata": {
        "id": "4c540l6B5MpT"
      },
      "execution_count": 27,
      "outputs": []
    },
    {
      "cell_type": "code",
      "source": [
        "plt.figure(figsize=(10,7))\n",
        "plt.plot(gen, size_avgs, \"r-\", label=\"Average Fitness\")\n",
        "plt.xlabel('Generation')\n",
        "plt.ylabel('Average Fitness')\n",
        "plt.show()"
      ],
      "metadata": {
        "id": "sFEZhyq43m04",
        "colab": {
          "base_uri": "https://localhost:8080/",
          "height": 448
        },
        "outputId": "322e2ce4-7829-4f88-dcc5-298787f7f812"
      },
      "execution_count": 28,
      "outputs": [
        {
          "output_type": "display_data",
          "data": {
            "text/plain": [
              "<Figure size 720x504 with 1 Axes>"
            ],
            "image/png": "[encoded data removed]"
          },
          "metadata": {}
        }
      ]
    },
    {
      "cell_type": "code",
      "source": [
        "plt.plot(gen, fit_mins, \"b-\", label=\"Minimum Fitness\")\n",
        "plt.xlabel('Generation')\n",
        "plt.ylabel('Minimum Fitness')\n",
        "plt.show()"
      ],
      "metadata": {
        "id": "_TWTHZSN3uIh",
        "colab": {
          "base_uri": "https://localhost:8080/",
          "height": 285
        },
        "outputId": "17b24238-0b33-4faf-f134-007c260c72de"
      },
      "execution_count": 29,
      "outputs": [
        {
          "output_type": "display_data",
          "data": {
            "text/plain": [
              "<Figure size 432x288 with 1 Axes>"
            ],
            "image/png": "[encoded data removed]"
          },
          "metadata": {}
        }
      ]
    },
    {
      "cell_type": "code",
      "source": [
        "data = pd.read_csv('/content/pathAB_SSF_dB_AP8_downsampled1Khz_win50.txt')"
      ],
      "metadata": {
        "id": "eUPTsuE77aso"
      },
      "execution_count": 30,
      "outputs": []
    },
    {
      "cell_type": "code",
      "source": [
        "data.describe()"
      ],
      "metadata": {
        "id": "VmjVUVoq8StF",
        "colab": {
          "base_uri": "https://localhost:8080/",
          "height": 300
        },
        "outputId": "b57805dd-f628-40ae-9384-0565413dbbd7"
      },
      "execution_count": 31,
      "outputs": [
        {
          "output_type": "execute_result",
          "data": {
            "text/plain": [
              "                 0\n",
              "count  9280.000000\n",
              "mean     -0.808481\n",
              "std       3.949086\n",
              "min     -23.097000\n",
              "25%      -2.731100\n",
              "50%      -0.187945\n",
              "75%       1.754750\n",
              "max       8.691000"
            ],
            "text/html": [
              "\n",
              "  <div id=\"df-259fab7b-5297-4bf7-b324-2c7838706155\">\n",
              "    <div class=\"colab-df-container\">\n",
              "      <div>\n",
              "<style scoped>\n",
              "    .dataframe tbody tr th:only-of-type {\n",
              "        vertical-align: middle;\n",
              "    }\n",
              "\n",
              "    .dataframe tbody tr th {\n",
              "        vertical-align: top;\n",
              "    }\n",
              "\n",
              "    .dataframe thead th {\n",
              "        text-align: right;\n",
              "    }\n",
              "</style>\n",
              "<table border=\"1\" class=\"dataframe\">\n",
              "  <thead>\n",
              "    <tr style=\"text-align: right;\">\n",
              "      <th></th>\n",
              "      <th>0</th>\n",
              "    </tr>\n",
              "  </thead>\n",
              "  <tbody>\n",
              "    <tr>\n",
              "      <th>count</th>\n",
              "      <td>9280.000000</td>\n",
              "    </tr>\n",
              "    <tr>\n",
              "      <th>mean</th>\n",
              "      <td>-0.808481</td>\n",
              "    </tr>\n",
              "    <tr>\n",
              "      <th>std</th>\n",
              "      <td>3.949086</td>\n",
              "    </tr>\n",
              "    <tr>\n",
              "      <th>min</th>\n",
              "      <td>-23.097000</td>\n",
              "    </tr>\n",
              "    <tr>\n",
              "      <th>25%</th>\n",
              "      <td>-2.731100</td>\n",
              "    </tr>\n",
              "    <tr>\n",
              "      <th>50%</th>\n",
              "      <td>-0.187945</td>\n",
              "    </tr>\n",
              "    <tr>\n",
              "      <th>75%</th>\n",
              "      <td>1.754750</td>\n",
              "    </tr>\n",
              "    <tr>\n",
              "      <th>max</th>\n",
              "      <td>8.691000</td>\n",
              "    </tr>\n",
              "  </tbody>\n",
              "</table>\n",
              "</div>\n",
              "      <button class=\"colab-df-convert\" onclick=\"convertToInteractive('df-259fab7b-5297-4bf7-b324-2c7838706155')\"\n",
              "              title=\"Convert this dataframe to an interactive table.\"\n",
              "              style=\"display:none;\">\n",
              "        \n",
              "  <svg xmlns=\"http://www.w3.org/2000/svg\" height=\"24px\"viewBox=\"0 0 24 24\"\n",
              "       width=\"24px\">\n",
              "    <path d=\"M0 0h24v24H0V0z\" fill=\"none\"/>\n",
              "    <path d=\"M18.56 5.44l.94 2.06.94-2.06 2.06-.94-2.06-.94-.94-2.06-.94 2.06-2.06.94zm-11 1L8.5 8.5l.94-2.06 2.06-.94-2.06-.94L8.5 2.5l-.94 2.06-2.06.94zm10 10l.94 2.06.94-2.06 2.06-.94-2.06-.94-.94-2.06-.94 2.06-2.06.94z\"/><path d=\"M17.41 7.96l-1.37-1.37c-.4-.4-.92-.59-1.43-.59-.52 0-1.04.2-1.43.59L10.3 9.45l-7.72 7.72c-.78.78-.78 2.05 0 2.83L4 21.41c.39.39.9.59 1.41.59.51 0 1.02-.2 1.41-.59l7.78-7.78 2.81-2.81c.8-.78.8-2.07 0-2.86zM5.41 20L4 18.59l7.72-7.72 1.47 1.35L5.41 20z\"/>\n",
              "  </svg>\n",
              "      </button>\n",
              "      \n",
              "  <style>\n",
              "    .colab-df-container {\n",
              "      display:flex;\n",
              "      flex-wrap:wrap;\n",
              "      gap: 12px;\n",
              "    }\n",
              "\n",
              "    .colab-df-convert {\n",
              "      background-color: #E8F0FE;\n",
              "      border: none;\n",
              "      border-radius: 50%;\n",
              "      cursor: pointer;\n",
              "      display: none;\n",
              "      fill: #1967D2;\n",
              "      height: 32px;\n",
              "      padding: 0 0 0 0;\n",
              "      width: 32px;\n",
              "    }\n",
              "\n",
              "    .colab-df-convert:hover {\n",
              "      background-color: #E2EBFA;\n",
              "      box-shadow: 0px 1px 2px rgba(60, 64, 67, 0.3), 0px 1px 3px 1px rgba(60, 64, 67, 0.15);\n",
              "      fill: #174EA6;\n",
              "    }\n",
              "\n",
              "    [theme=dark] .colab-df-convert {\n",
              "      background-color: #3B4455;\n",
              "      fill: #D2E3FC;\n",
              "    }\n",
              "\n",
              "    [theme=dark] .colab-df-convert:hover {\n",
              "      background-color: #434B5C;\n",
              "      box-shadow: 0px 1px 3px 1px rgba(0, 0, 0, 0.15);\n",
              "      filter: drop-shadow(0px 1px 2px rgba(0, 0, 0, 0.3));\n",
              "      fill: #FFFFFF;\n",
              "    }\n",
              "  </style>\n",
              "\n",
              "      <script>\n",
              "        const buttonEl =\n",
              "          document.querySelector('#df-259fab7b-5297-4bf7-b324-2c7838706155 button.colab-df-convert');\n",
              "        buttonEl.style.display =\n",
              "          google.colab.kernel.accessAllowed ? 'block' : 'none';\n",
              "\n",
              "        async function convertToInteractive(key) {\n",
              "          const element = document.querySelector('#df-259fab7b-5297-4bf7-b324-2c7838706155');\n",
              "          const dataTable =\n",
              "            await google.colab.kernel.invokeFunction('convertToInteractive',\n",
              "                                                     [key], {});\n",
              "          if (!dataTable) return;\n",
              "\n",
              "          const docLinkHtml = 'Like what you see? Visit the ' +\n",
              "            '<a target=\"_blank\" href=https://colab.research.google.com/notebooks/data_table.ipynb>data table notebook</a>'\n",
              "            + ' to learn more about interactive tables.';\n",
              "          element.innerHTML = '';\n",
              "          dataTable['output_type'] = 'display_data';\n",
              "          await google.colab.output.renderOutput(dataTable, element);\n",
              "          const docLink = document.createElement('div');\n",
              "          docLink.innerHTML = docLinkHtml;\n",
              "          element.appendChild(docLink);\n",
              "        }\n",
              "      </script>\n",
              "    </div>\n",
              "  </div>\n",
              "  "
            ]
          },
          "metadata": {},
          "execution_count": 31
        }
      ]
    },
    {
      "cell_type": "code",
      "source": [
        "data.plot()"
      ],
      "metadata": {
        "colab": {
          "base_uri": "https://localhost:8080/",
          "height": 288
        },
        "id": "Ya-jZxKv1Ql5",
        "outputId": "4cbcb8c5-6dbc-4088-9b2b-68a80ac0ae1f"
      },
      "execution_count": 32,
      "outputs": [
        {
          "output_type": "execute_result",
          "data": {
            "text/plain": [
              "<matplotlib.axes._subplots.AxesSubplot at 0x7f4cc65a3d10>"
            ]
          },
          "metadata": {},
          "execution_count": 32
        },
        {
          "output_type": "display_data",
          "data": {
            "text/plain": [
              "<Figure size 432x288 with 1 Axes>"
            ],
            "image/png": "[encoded data removed]"
          },
          "metadata": {}
        }
      ]
    },
    {
      "cell_type": "code",
      "source": [
        "data = np.sqrt(data)\n",
        "data.describe()"
      ],
      "metadata": {
        "colab": {
          "base_uri": "https://localhost:8080/",
          "height": 300
        },
        "id": "-eB9bGp_0nu7",
        "outputId": "8890efbc-09ad-4b6a-c4dc-6f2b3a241caa"
      },
      "execution_count": 33,
      "outputs": [
        {
          "output_type": "execute_result",
          "data": {
            "text/plain": [
              "                 0\n",
              "count  4403.000000\n",
              "mean      1.376164\n",
              "std       0.580073\n",
              "min       0.000000\n",
              "25%       0.948559\n",
              "50%       1.367297\n",
              "75%       1.813574\n",
              "max       2.948050"
            ],
            "text/html": [
              "\n",
              "  <div id=\"df-3752b498-ccad-42c1-8f7a-76365ac401d2\">\n",
              "    <div class=\"colab-df-container\">\n",
              "      <div>\n",
              "<style scoped>\n",
              "    .dataframe tbody tr th:only-of-type {\n",
              "        vertical-align: middle;\n",
              "    }\n",
              "\n",
              "    .dataframe tbody tr th {\n",
              "        vertical-align: top;\n",
              "    }\n",
              "\n",
              "    .dataframe thead th {\n",
              "        text-align: right;\n",
              "    }\n",
              "</style>\n",
              "<table border=\"1\" class=\"dataframe\">\n",
              "  <thead>\n",
              "    <tr style=\"text-align: right;\">\n",
              "      <th></th>\n",
              "      <th>0</th>\n",
              "    </tr>\n",
              "  </thead>\n",
              "  <tbody>\n",
              "    <tr>\n",
              "      <th>count</th>\n",
              "      <td>4403.000000</td>\n",
              "    </tr>\n",
              "    <tr>\n",
              "      <th>mean</th>\n",
              "      <td>1.376164</td>\n",
              "    </tr>\n",
              "    <tr>\n",
              "      <th>std</th>\n",
              "      <td>0.580073</td>\n",
              "    </tr>\n",
              "    <tr>\n",
              "      <th>min</th>\n",
              "      <td>0.000000</td>\n",
              "    </tr>\n",
              "    <tr>\n",
              "      <th>25%</th>\n",
              "      <td>0.948559</td>\n",
              "    </tr>\n",
              "    <tr>\n",
              "      <th>50%</th>\n",
              "      <td>1.367297</td>\n",
              "    </tr>\n",
              "    <tr>\n",
              "      <th>75%</th>\n",
              "      <td>1.813574</td>\n",
              "    </tr>\n",
              "    <tr>\n",
              "      <th>max</th>\n",
              "      <td>2.948050</td>\n",
              "    </tr>\n",
              "  </tbody>\n",
              "</table>\n",
              "</div>\n",
              "      <button class=\"colab-df-convert\" onclick=\"convertToInteractive('df-3752b498-ccad-42c1-8f7a-76365ac401d2')\"\n",
              "              title=\"Convert this dataframe to an interactive table.\"\n",
              "              style=\"display:none;\">\n",
              "        \n",
              "  <svg xmlns=\"http://www.w3.org/2000/svg\" height=\"24px\"viewBox=\"0 0 24 24\"\n",
              "       width=\"24px\">\n",
              "    <path d=\"M0 0h24v24H0V0z\" fill=\"none\"/>\n",
              "    <path d=\"M18.56 5.44l.94 2.06.94-2.06 2.06-.94-2.06-.94-.94-2.06-.94 2.06-2.06.94zm-11 1L8.5 8.5l.94-2.06 2.06-.94-2.06-.94L8.5 2.5l-.94 2.06-2.06.94zm10 10l.94 2.06.94-2.06 2.06-.94-2.06-.94-.94-2.06-.94 2.06-2.06.94z\"/><path d=\"M17.41 7.96l-1.37-1.37c-.4-.4-.92-.59-1.43-.59-.52 0-1.04.2-1.43.59L10.3 9.45l-7.72 7.72c-.78.78-.78 2.05 0 2.83L4 21.41c.39.39.9.59 1.41.59.51 0 1.02-.2 1.41-.59l7.78-7.78 2.81-2.81c.8-.78.8-2.07 0-2.86zM5.41 20L4 18.59l7.72-7.72 1.47 1.35L5.41 20z\"/>\n",
              "  </svg>\n",
              "      </button>\n",
              "      \n",
              "  <style>\n",
              "    .colab-df-container {\n",
              "      display:flex;\n",
              "      flex-wrap:wrap;\n",
              "      gap: 12px;\n",
              "    }\n",
              "\n",
              "    .colab-df-convert {\n",
              "      background-color: #E8F0FE;\n",
              "      border: none;\n",
              "      border-radius: 50%;\n",
              "      cursor: pointer;\n",
              "      display: none;\n",
              "      fill: #1967D2;\n",
              "      height: 32px;\n",
              "      padding: 0 0 0 0;\n",
              "      width: 32px;\n",
              "    }\n",
              "\n",
              "    .colab-df-convert:hover {\n",
              "      background-color: #E2EBFA;\n",
              "      box-shadow: 0px 1px 2px rgba(60, 64, 67, 0.3), 0px 1px 3px 1px rgba(60, 64, 67, 0.15);\n",
              "      fill: #174EA6;\n",
              "    }\n",
              "\n",
              "    [theme=dark] .colab-df-convert {\n",
              "      background-color: #3B4455;\n",
              "      fill: #D2E3FC;\n",
              "    }\n",
              "\n",
              "    [theme=dark] .colab-df-convert:hover {\n",
              "      background-color: #434B5C;\n",
              "      box-shadow: 0px 1px 3px 1px rgba(0, 0, 0, 0.15);\n",
              "      filter: drop-shadow(0px 1px 2px rgba(0, 0, 0, 0.3));\n",
              "      fill: #FFFFFF;\n",
              "    }\n",
              "  </style>\n",
              "\n",
              "      <script>\n",
              "        const buttonEl =\n",
              "          document.querySelector('#df-3752b498-ccad-42c1-8f7a-76365ac401d2 button.colab-df-convert');\n",
              "        buttonEl.style.display =\n",
              "          google.colab.kernel.accessAllowed ? 'block' : 'none';\n",
              "\n",
              "        async function convertToInteractive(key) {\n",
              "          const element = document.querySelector('#df-3752b498-ccad-42c1-8f7a-76365ac401d2');\n",
              "          const dataTable =\n",
              "            await google.colab.kernel.invokeFunction('convertToInteractive',\n",
              "                                                     [key], {});\n",
              "          if (!dataTable) return;\n",
              "\n",
              "          const docLinkHtml = 'Like what you see? Visit the ' +\n",
              "            '<a target=\"_blank\" href=https://colab.research.google.com/notebooks/data_table.ipynb>data table notebook</a>'\n",
              "            + ' to learn more about interactive tables.';\n",
              "          element.innerHTML = '';\n",
              "          dataTable['output_type'] = 'display_data';\n",
              "          await google.colab.output.renderOutput(dataTable, element);\n",
              "          const docLink = document.createElement('div');\n",
              "          docLink.innerHTML = docLinkHtml;\n",
              "          element.appendChild(docLink);\n",
              "        }\n",
              "      </script>\n",
              "    </div>\n",
              "  </div>\n",
              "  "
            ]
          },
          "metadata": {},
          "execution_count": 33
        }
      ]
    },
    {
      "cell_type": "code",
      "source": [
        "data.plot()"
      ],
      "metadata": {
        "colab": {
          "base_uri": "https://localhost:8080/",
          "height": 286
        },
        "id": "mZnkwHsy1wOt",
        "outputId": "25e25b3f-a555-444d-8298-56083989a5f7"
      },
      "execution_count": 34,
      "outputs": [
        {
          "output_type": "execute_result",
          "data": {
            "text/plain": [
              "<matplotlib.axes._subplots.AxesSubplot at 0x7f4cc6528e90>"
            ]
          },
          "metadata": {},
          "execution_count": 34
        },
        {
          "output_type": "display_data",
          "data": {
            "text/plain": [
              "<Figure size 432x288 with 1 Axes>"
            ],
            "image/png": "[encoded data removed]"
          },
          "metadata": {}
        }
      ]
    },
    {
      "cell_type": "code",
      "source": [
        "sns.distplot(data)"
      ],
      "metadata": {
        "colab": {
          "base_uri": "https://localhost:8080/",
          "height": 341
        },
        "id": "zZCeo3QP0osj",
        "outputId": "9d160de2-6168-4a6a-8dc0-9a2de0efad1d"
      },
      "execution_count": 35,
      "outputs": [
        {
          "output_type": "stream",
          "name": "stderr",
          "text": [
            "/usr/local/lib/python3.7/dist-packages/seaborn/distributions.py:2619: FutureWarning: `distplot` is a deprecated function and will be removed in a future version. Please adapt your code to use either `displot` (a figure-level function with similar flexibility) or `histplot` (an axes-level function for histograms).\n",
            "  warnings.warn(msg, FutureWarning)\n"
          ]
        },
        {
          "output_type": "execute_result",
          "data": {
            "text/plain": [
              "<matplotlib.axes._subplots.AxesSubplot at 0x7f4cc66db310>"
            ]
          },
          "metadata": {},
          "execution_count": 35
        },
        {
          "output_type": "display_data",
          "data": {
            "text/plain": [
              "<Figure size 432x288 with 1 Axes>"
            ],
            "image/png": "[encoded data removed]"
          },
          "metadata": {}
        }
      ]
    },
    {
      "cell_type": "code",
      "source": [
        "data.dropna(inplace=True)"
      ],
      "metadata": {
        "id": "TdOONe5p0yTq"
      },
      "execution_count": 36,
      "outputs": []
    },
    {
      "cell_type": "code",
      "source": [
        "data.plot()"
      ],
      "metadata": {
        "colab": {
          "base_uri": "https://localhost:8080/",
          "height": 286
        },
        "id": "B87PnjXF1EPi",
        "outputId": "f306a70d-7c22-4b74-b390-5daf22006537"
      },
      "execution_count": 37,
      "outputs": [
        {
          "output_type": "execute_result",
          "data": {
            "text/plain": [
              "<matplotlib.axes._subplots.AxesSubplot at 0x7f4cc67d7910>"
            ]
          },
          "metadata": {},
          "execution_count": 37
        },
        {
          "output_type": "display_data",
          "data": {
            "text/plain": [
              "<Figure size 432x288 with 1 Axes>"
            ],
            "image/png": "[encoded data removed]"
          },
          "metadata": {}
        }
      ]
    },
    {
      "cell_type": "code",
      "source": [
        "sns.distplot(data)"
      ],
      "metadata": {
        "colab": {
          "base_uri": "https://localhost:8080/",
          "height": 341
        },
        "id": "5w81IIsR1Ffa",
        "outputId": "955f26fe-058d-444a-8b96-8c0d7a2489a0"
      },
      "execution_count": 38,
      "outputs": [
        {
          "output_type": "stream",
          "name": "stderr",
          "text": [
            "/usr/local/lib/python3.7/dist-packages/seaborn/distributions.py:2619: FutureWarning: `distplot` is a deprecated function and will be removed in a future version. Please adapt your code to use either `displot` (a figure-level function with similar flexibility) or `histplot` (an axes-level function for histograms).\n",
            "  warnings.warn(msg, FutureWarning)\n"
          ]
        },
        {
          "output_type": "execute_result",
          "data": {
            "text/plain": [
              "<matplotlib.axes._subplots.AxesSubplot at 0x7f4cc67c6c10>"
            ]
          },
          "metadata": {},
          "execution_count": 38
        },
        {
          "output_type": "display_data",
          "data": {
            "text/plain": [
              "<Figure size 432x288 with 1 Axes>"
            ],
            "image/png": "[encoded data removed]"
          },
          "metadata": {}
        }
      ]
    },
    {
      "cell_type": "code",
      "source": [
        "data2 = data.copy()\n",
        "data = []\n",
        "for idx, var in enumerate(list(data2)):\n",
        "    myPlot = sns.distplot(data2[var])\n",
        "    \n",
        "    # Fine Line2D objects\n",
        "    lines2D = [obj for obj in myPlot.findobj() if str(type(obj)) == \"<class 'matplotlib.lines.Line2D'>\"]\n",
        "    \n",
        "    # Retrieving x, y data\n",
        "    x, y = lines2D[idx].get_data()[0], lines2D[idx].get_data()[1]\n",
        "    \n",
        "    # Store as dataframe \n",
        "    data.append(pd.DataFrame({'x':x, 'y':y}))"
      ],
      "metadata": {
        "colab": {
          "base_uri": "https://localhost:8080/",
          "height": 340
        },
        "id": "eP5IBTwg3Ltl",
        "outputId": "5d07097f-e9d1-447f-ad32-5b38c09402cf"
      },
      "execution_count": 39,
      "outputs": [
        {
          "output_type": "stream",
          "name": "stderr",
          "text": [
            "/usr/local/lib/python3.7/dist-packages/seaborn/distributions.py:2619: FutureWarning: `distplot` is a deprecated function and will be removed in a future version. Please adapt your code to use either `displot` (a figure-level function with similar flexibility) or `histplot` (an axes-level function for histograms).\n",
            "  warnings.warn(msg, FutureWarning)\n"
          ]
        },
        {
          "output_type": "display_data",
          "data": {
            "text/plain": [
              "<Figure size 432x288 with 1 Axes>"
            ],
            "image/png": "[encoded data removed]"
          },
          "metadata": {}
        }
      ]
    },
    {
      "cell_type": "code",
      "source": [
        "data3 = data[0]['x'][data[0]['x'] > 0]"
      ],
      "metadata": {
        "id": "qxGc5ags4Pbr"
      },
      "execution_count": 40,
      "outputs": []
    },
    {
      "cell_type": "code",
      "source": [
        "creator.create(\"FitnessMin\", base.Fitness, weights=(-1.0,)) #-1 to minimze, +1 to maximize\n",
        "creator.create(\"Individual\", list, fitness=creator.FitnessMin)\n",
        "\n",
        "# toolbox = base.Toolbox()"
      ],
      "metadata": {
        "colab": {
          "base_uri": "https://localhost:8080/"
        },
        "id": "rAqL80v74sYd",
        "outputId": "1c758dd2-8c46-4cef-b607-46df09b05e13"
      },
      "execution_count": 41,
      "outputs": [
        {
          "output_type": "stream",
          "name": "stderr",
          "text": [
            "/usr/local/lib/python3.7/dist-packages/deap/creator.py:141: RuntimeWarning: A class named 'FitnessMin' has already been created and it will be overwritten. Consider deleting previous creation of that class or rename it.\n",
            "  RuntimeWarning)\n",
            "/usr/local/lib/python3.7/dist-packages/deap/creator.py:141: RuntimeWarning: A class named 'Individual' has already been created and it will be overwritten. Consider deleting previous creation of that class or rename it.\n",
            "  RuntimeWarning)\n"
          ]
        }
      ]
    },
    {
      "cell_type": "markdown",
      "source": [
        "### One individual for each $\\hat{\\theta}_i$\n"
      ],
      "metadata": {
        "id": "ANBDUhY64sYe"
      }
    },
    {
      "cell_type": "code",
      "source": [
        "toolbox2 = base.Toolbox()"
      ],
      "metadata": {
        "id": "PkJkiBre4sYe"
      },
      "execution_count": 42,
      "outputs": []
    },
    {
      "cell_type": "code",
      "source": [
        "toolbox2.register(\"attr_bool\", np.random.uniform, 0.1, 5)\n",
        "toolbox2.attr_bool()\n",
        "\n",
        "toolbox2.register(\"individual\", tools.initRepeat, creator.Individual, toolbox2.attr_bool, 3)\n",
        "toolbox2.register(\"population\", tools.initRepeat, list, toolbox2.individual)\n",
        "toolbox2.individual()"
      ],
      "metadata": {
        "colab": {
          "base_uri": "https://localhost:8080/"
        },
        "outputId": "7897e678-c4e2-4b26-ef89-81c397620d4d",
        "id": "iuaXYT754sYe"
      },
      "execution_count": 43,
      "outputs": [
        {
          "output_type": "execute_result",
          "data": {
            "text/plain": [
              "[1.7615378340395251, 2.003956535745274, 0.3003217118058603]"
            ]
          },
          "metadata": {},
          "execution_count": 43
        }
      ]
    },
    {
      "cell_type": "code",
      "source": [
        "toolbox2.register(\"evaluate\", fitnessFunction)\n",
        "toolbox2.register(\"mate\", tools.cxTwoPoint)\n",
        "toolbox2.register(\"mutate\", tools.mutShuffleIndexes, indpb=0.05)\n",
        "toolbox2.register(\"select\", tools.selTournament, tournsize=3)"
      ],
      "metadata": {
        "id": "OUQWTKcW4sYe"
      },
      "execution_count": 44,
      "outputs": []
    },
    {
      "cell_type": "code",
      "source": [
        "pop2 = toolbox2.population(n=500)"
      ],
      "metadata": {
        "id": "ZXIsTdVz4sYe"
      },
      "execution_count": 45,
      "outputs": []
    },
    {
      "cell_type": "code",
      "source": [
        "hof2 = tools.ParetoFront()"
      ],
      "metadata": {
        "id": "-jYHlDFa4sYf"
      },
      "execution_count": 46,
      "outputs": []
    },
    {
      "cell_type": "code",
      "source": [
        "stats2 = tools.Statistics(lambda ind: ind.fitness.values)\n",
        "stats2.register(\"avg\", np.mean)\n",
        "stats2.register(\"std\", np.std)\n",
        "stats2.register(\"min\", np.min)\n",
        "stats2.register(\"max\", np.max)"
      ],
      "metadata": {
        "id": "X-l77laF4sYf"
      },
      "execution_count": 47,
      "outputs": []
    },
    {
      "cell_type": "code",
      "source": [
        "def fitnessFunction(theta):\n",
        "  # X = np.array([1,2,3,4,5,20,26,7])\n",
        "  # Y = np.array([5,7,9,11,13,43,55,17])\n",
        "  X = data3[0]['x']\n",
        "  Y = data3[0]['y']\n",
        "  n = len(X)\n",
        "  kappa = theta[0]\n",
        "  mu = theta[1]\n",
        "  r_hat = theta[2]\n",
        "\n",
        "  y_pred = computePDF(X, kappa, mu, r_hat)\n",
        "  # print('y_pred', y_pred)\n",
        "  # y_pred = theta[0]*X + theta[1]\n",
        "  cost = 1/n * sum(val**2 for val in (Y-y_pred))\n",
        "  return (cost,)"
      ],
      "metadata": {
        "id": "ivKZLdhf4sYf"
      },
      "execution_count": 48,
      "outputs": []
    },
    {
      "cell_type": "code",
      "source": [
        "pop, log = algorithms.eaSimple(pop2, toolbox2, cxpb=0.5, mutpb=0.2,\\\n",
        "                               ngen=100, stats=stats2, halloffame=hof2, verbose=True)"
      ],
      "metadata": {
        "colab": {
          "base_uri": "https://localhost:8080/"
        },
        "outputId": "ba870d87-71a4-484f-8082-5237eb5bd2e5",
        "id": "1zz1cX2m4sYf"
      },
      "execution_count": 49,
      "outputs": [
        {
          "output_type": "stream",
          "name": "stdout",
          "text": [
            "gen\tnevals\tavg    \tstd    \tmin       \tmax    \n",
            "0  \t500   \t0.78234\t0.76559\t0.00661485\t7.10716\n",
            "1  \t270   \t0.442582\t0.218164\t0.0058325 \t1.22512\n",
            "2  \t307   \t0.276353\t0.325522\t0.000329643\t4.9266 \n",
            "3  \t285   \t0.12635 \t0.18449 \t0.000329643\t2.88554\n",
            "4  \t305   \t0.0527751\t0.0882419\t0.000329643\t0.653526\n",
            "5  \t307   \t0.038092 \t0.107189 \t0.000255341\t1.39373 \n",
            "6  \t318   \t0.0325195\t0.16519  \t6.47116e-05\t3.31873 \n",
            "7  \t290   \t0.0150715\t0.051362 \t0.000143644\t0.599954\n",
            "8  \t310   \t0.0221893\t0.0904135\t0.000116957\t0.810831\n",
            "9  \t277   \t0.0194805\t0.120304 \t6.53595e-05\t2.02908 \n",
            "10 \t312   \t0.0146261\t0.0632222\t6.53595e-05\t0.623376\n",
            "11 \t277   \t0.0154267\t0.105811 \t2.24294e-05\t1.87399 \n",
            "12 \t311   \t0.0228913\t0.151619 \t2.24294e-05\t2.09721 \n",
            "13 \t317   \t0.0119103\t0.0582971\t2.24294e-05\t0.63145 \n",
            "14 \t289   \t0.00805215\t0.0479407\t2.24294e-05\t0.65958 \n",
            "15 \t295   \t0.0184086 \t0.131522 \t2.24294e-05\t1.93503 \n",
            "16 \t299   \t0.0288874 \t0.199301 \t2.24294e-05\t2.0949  \n",
            "17 \t308   \t0.00699025\t0.0521127\t2.24294e-05\t0.58948 \n",
            "18 \t312   \t0.0120272 \t0.1123   \t2.24294e-05\t2.0949  \n",
            "19 \t312   \t0.00971784\t0.0725133\t2.24294e-05\t0.577362\n",
            "20 \t281   \t0.00537047\t0.0517034\t2.24294e-05\t0.577362\n",
            "21 \t308   \t0.00526655\t0.0516461\t2.24294e-05\t0.577362\n",
            "22 \t297   \t0.0061007 \t0.0575355\t2.24294e-05\t0.577362\n",
            "23 \t322   \t0.00884265\t0.0679833\t2.24294e-05\t0.577362\n",
            "24 \t292   \t0.0030536 \t0.0368374\t2.24294e-05\t0.577362\n",
            "25 \t314   \t0.00673158\t0.0578119\t2.24294e-05\t0.580415\n",
            "26 \t308   \t0.00951528\t0.0724763\t2.24294e-05\t0.577362\n",
            "27 \t292   \t0.00558708\t0.0517498\t2.24294e-05\t0.577362\n",
            "28 \t295   \t0.00707822\t0.0628885\t2.24294e-05\t0.577362\n",
            "29 \t294   \t0.00729419\t0.0629576\t2.24294e-05\t0.577362\n",
            "30 \t317   \t0.00638679\t0.0576319\t2.24294e-05\t0.577362\n",
            "31 \t306   \t0.00738309\t0.0629653\t2.24294e-05\t0.577362\n",
            "32 \t301   \t0.00183381\t0.0263032\t2.24294e-05\t0.577362\n",
            "33 \t296   \t0.00285013\t0.0367047\t2.24294e-05\t0.577362\n",
            "34 \t284   \t0.00389275\t0.0447451\t2.24294e-05\t0.577362\n",
            "35 \t312   \t0.00523884\t0.0516771\t2.24294e-05\t0.580415\n",
            "36 \t329   \t0.00149763\t0.026051 \t2.24294e-05\t0.577362\n",
            "37 \t297   \t0.0075108 \t0.0629891\t2.24294e-05\t0.577362\n",
            "38 \t311   \t0.00977321\t0.0725365\t2.24294e-05\t0.577362\n",
            "39 \t308   \t0.00529785\t0.0516453\t2.24294e-05\t0.577362\n",
            "40 \t290   \t0.00493397\t0.0515708\t2.24294e-05\t0.580415\n",
            "41 \t310   \t0.00656958\t0.0576375\t2.24294e-05\t0.577362\n",
            "42 \t300   \t0.0100347 \t0.072617 \t2.24294e-05\t0.580415\n",
            "43 \t280   \t0.00644439\t0.0576431\t2.24294e-05\t0.577362\n",
            "44 \t303   \t0.00762286\t0.0630136\t2.24294e-05\t0.577362\n",
            "45 \t294   \t0.0110617 \t0.0768984\t2.24294e-05\t0.580415\n",
            "46 \t294   \t0.00739874\t0.0629645\t2.24294e-05\t0.577362\n",
            "47 \t296   \t0.00397351\t0.0447886\t2.24294e-05\t0.577362\n",
            "48 \t296   \t0.0038771 \t0.0447451\t2.24294e-05\t0.577362\n",
            "49 \t266   \t0.0088644 \t0.0680333\t2.24294e-05\t0.580415\n",
            "50 \t322   \t0.0065455 \t0.0577739\t2.24294e-05\t0.580415\n",
            "51 \t307   \t0.00636363\t0.0576128\t2.24294e-05\t0.577362\n",
            "52 \t292   \t0.00417854\t0.045031 \t2.24294e-05\t0.580415\n",
            "53 \t286   \t0.00672611\t0.0577113\t2.24294e-05\t0.577362\n",
            "54 \t308   \t0.00880884\t0.0679571\t2.24294e-05\t0.577362\n",
            "55 \t306   \t0.00728668\t0.0629396\t2.24294e-05\t0.577362\n",
            "56 \t287   \t0.00524025\t0.0516316\t2.24294e-05\t0.577362\n",
            "57 \t289   \t0.0100781 \t0.0725918\t2.24294e-05\t0.577362\n",
            "58 \t285   \t0.0029946 \t0.0368784\t2.24294e-05\t0.580415\n",
            "59 \t289   \t0.00405427\t0.0448319\t2.24294e-05\t0.577362\n",
            "60 \t282   \t0.00629101\t0.0575618\t2.24294e-05\t0.577362\n",
            "61 \t295   \t0.00321512\t0.0369465\t2.24294e-05\t0.577362\n",
            "62 \t316   \t0.00637177\t0.0575923\t2.24294e-05\t0.577362\n",
            "63 \t293   \t0.0052822 \t0.0516457\t2.24294e-05\t0.577362\n",
            "64 \t278   \t0.00390089\t0.0447192\t2.24294e-05\t0.577362\n",
            "65 \t276   \t0.00413363\t0.0449274\t2.24294e-05\t0.580415\n",
            "66 \t310   \t0.00768797\t0.0630406\t2.24294e-05\t0.577362\n",
            "67 \t303   \t0.00621887\t0.0576257\t2.24294e-05\t0.580415\n",
            "68 \t304   \t0.0029071 \t0.0367909\t2.24294e-05\t0.577362\n",
            "69 \t315   \t0.00521709\t0.0516097\t2.24294e-05\t0.577362\n",
            "70 \t296   \t0.0110293 \t0.0768455\t2.24294e-05\t0.577362\n",
            "71 \t322   \t0.00151328\t0.0260524\t2.24294e-05\t0.577362\n",
            "72 \t297   \t0.00941544\t0.0725539\t2.24294e-05\t0.580415\n",
            "73 \t286   \t0.00644439\t0.0576431\t2.24294e-05\t0.577362\n",
            "74 \t263   \t0.00585842\t0.0574425\t2.24294e-05\t0.577362\n",
            "75 \t324   \t0.00715897\t0.0629154\t2.24294e-05\t0.577362\n",
            "76 \t308   \t0.00938506\t0.0724325\t2.24294e-05\t0.577362\n",
            "77 \t301   \t0.00603559\t0.0575041\t2.24294e-05\t0.577362\n",
            "78 \t268   \t0.00499297\t0.0515393\t2.24294e-05\t0.577362\n",
            "79 \t331   \t0.00878975\t0.0680617\t2.24294e-05\t0.580415\n",
            "80 \t286   \t0.00625017\t0.0576244\t2.24294e-05\t0.580415\n",
            "81 \t304   \t0.00164099\t0.0261386\t2.24294e-05\t0.577362\n",
            "82 \t314   \t0.00391905\t0.0447627\t2.24294e-05\t0.577362\n",
            "83 \t316   \t0.0108784 \t0.0768188\t2.24294e-05\t0.577362\n",
            "84 \t288   \t0.00517014\t0.0516108\t2.24294e-05\t0.577362\n",
            "85 \t302   \t0.00907364\t0.0680746\t2.24294e-05\t0.577362\n",
            "86 \t287   \t0.00295719\t0.0367821\t2.24294e-05\t0.577362\n",
            "87 \t290   \t0.00634047\t0.0575936\t2.24294e-05\t0.577362\n",
            "88 \t300   \t0.00419263\t0.0448922\t2.24294e-05\t0.577362\n",
            "89 \t303   \t0.00837625\t0.0678721\t2.24294e-05\t0.577362\n",
            "90 \t310   \t0.0042546 \t0.0449435\t2.24294e-05\t0.577362\n",
            "91 \t288   \t0.00529785\t0.0516453\t2.24294e-05\t0.577362\n",
            "92 \t283   \t0.00386959\t0.0447192\t2.24294e-05\t0.577362\n",
            "93 \t337   \t0.00743866\t0.0630489\t2.24294e-05\t0.580415\n",
            "94 \t316   \t0.0100023 \t0.0725605\t2.24294e-05\t0.577362\n",
            "95 \t296   \t0.00878505\t0.0679758\t2.24294e-05\t0.577362\n",
            "96 \t313   \t0.00750126\t0.0630454\t2.24294e-05\t0.580415\n",
            "97 \t292   \t0.00487137\t0.051572 \t2.24294e-05\t0.580415\n",
            "98 \t300   \t0.00386959\t0.0447192\t2.24294e-05\t0.577362\n",
            "99 \t304   \t0.00840755\t0.06787  \t2.24294e-05\t0.577362\n",
            "100\t324   \t0.00404676\t0.044806 \t2.24294e-05\t0.577362\n"
          ]
        }
      ]
    },
    {
      "cell_type": "code",
      "source": [
        "print(r'$\\theta_0$ is {}, $\\theta_1$ is {} and $\\theta_1$ is {}.'.format(hof.items[0][0], hof.items[0][1], hof.items[0][2]))"
      ],
      "metadata": {
        "id": "dKlkmcNM42Lw",
        "colab": {
          "base_uri": "https://localhost:8080/"
        },
        "outputId": "ea0e4b20-fa40-4e96-f89e-09fb3da61a5b"
      },
      "execution_count": 50,
      "outputs": [
        {
          "output_type": "stream",
          "name": "stdout",
          "text": [
            "$\\theta_0$ is 2.657321942821025, $\\theta_1$ is 2.522792484313327 and $\\theta_1$ is 0.9938648674325408.\n"
          ]
        }
      ]
    },
    {
      "cell_type": "code",
      "source": [
        ""
      ],
      "metadata": {
        "id": "xuHsAd7H-RFN"
      },
      "execution_count": 50,
      "outputs": []
    }
  ]
}