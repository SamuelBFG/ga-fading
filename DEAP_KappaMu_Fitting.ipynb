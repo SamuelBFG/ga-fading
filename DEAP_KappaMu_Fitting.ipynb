{
  "nbformat": 4,
  "nbformat_minor": 0,
  "metadata": {
    "colab": {
      "name": "DEAP_KappaMu_Fitting.ipynb",
      "provenance": [],
      "collapsed_sections": [],
      "authorship_tag": "ABX9TyNfLeZiO4wd86L2OZDKEgVa",
      "include_colab_link": true
    },
    "kernelspec": {
      "name": "python3",
      "display_name": "Python 3"
    },
    "language_info": {
      "name": "python"
    }
  },
  "cells": [
    {
      "cell_type": "markdown",
      "metadata": {
        "id": "view-in-github",
        "colab_type": "text"
      },
      "source": [
        "<a href=\"https://colab.research.google.com/github/SamuelBFG/ga-fading/blob/main/DEAP_KappaMu_Fitting.ipynb\" target=\"_parent\"><img src=\"https://colab.research.google.com/assets/colab-badge.svg\" alt=\"Open In Colab\"/></a>"
      ]
    },
    {
      "cell_type": "markdown",
      "source": [
        "# Genetic Algorithms: $\\kappa$-$\\mu$ fading distribution parameter estimation using deap.\n"
      ],
      "metadata": {
        "id": "ueAqs6q3fPDX"
      }
    },
    {
      "cell_type": "code",
      "source": [
        "# !pip install deap"
      ],
      "metadata": {
        "id": "7Dswx1e6wbcR"
      },
      "execution_count": 2,
      "outputs": []
    },
    {
      "cell_type": "code",
      "execution_count": 3,
      "metadata": {
        "id": "_v4Js2gNrEIy"
      },
      "outputs": [],
      "source": [
        "import numpy as np\n",
        "import matplotlib.pyplot as plt\n",
        "%matplotlib inline\n",
        "from scipy import special as sp\n",
        "import deap\n",
        "from deap import algorithms, base, creator, tools\n",
        "from KappaMu import KappaMu\n",
        "\n",
        "import seaborn\n",
        "seaborn.set(style='whitegrid')\n",
        "seaborn.set_context('notebook')\n",
        "\n",
        "def evaluation(theta):\n",
        "  X = np.array([1,2,3,4,5,20,26,7])\n",
        "  Y = np.array([5,7,9,11,13,43,55,17])\n",
        "\n",
        "  n = len(X)\n",
        "  y_pred = theta[0]*X + theta[1]\n",
        "  cost = 1/n * sum(val**2 for val in (Y-y_pred))\n",
        "  return (cost,)\n",
        "\n",
        "def computePDF(r, kappa, mu, r_hat):\n",
        "  A = (2*mu * ((1 + kappa)**((mu+1)/2))) \\\n",
        "          /((kappa**((mu - 1)/2)) * np.exp(mu * kappa))\n",
        "  R = r / r_hat\n",
        "  B = (R**mu) * np.exp(- mu*(1 + kappa)*(R**2))\n",
        "  C = sp.iv(mu - 1, 2*mu * R * np.sqrt(kappa*(1 + kappa)))\n",
        "  PDF = A * B * C / r_hat \n",
        "  return PDF\n",
        "\n",
        "def fitnessFunction(theta):\n",
        "  # X = np.array([1,2,3,4,5,20,26,7])\n",
        "  # Y = np.array([5,7,9,11,13,43,55,17])\n",
        "  X = ku.X\n",
        "  Y = ku.Y\n",
        "  n = len(X)\n",
        "  kappa = theta[0]\n",
        "  mu = theta[1]\n",
        "  r_hat = theta[2]\n",
        "\n",
        "  y_pred = computePDF(X, kappa, mu, r_hat)\n",
        "  # print('y_pred', y_pred)\n",
        "  # y_pred = theta[0]*X + theta[1]\n",
        "  cost = 1/n * sum(val**2 for val in (Y-y_pred))\n",
        "  return (cost,)"
      ]
    },
    {
      "cell_type": "code",
      "source": [
        "ku = KappaMu(kappa=1, mu=4, r_hat=1, numSamples=100, numSim=10**6)"
      ],
      "metadata": {
        "id": "RgbTApjlv48_"
      },
      "execution_count": 4,
      "outputs": []
    },
    {
      "cell_type": "code",
      "source": [
        "r = np.linspace(0, 3, 3000) # theoretical envelope PDF x axes\n",
        "plt.plot(r, ku._pdf(r))\n",
        "plt.plot(ku.X[1:len(ku.X):2], ku.Y[1:len(ku.Y):2], \"k.\", label='Simulation')"
      ],
      "metadata": {
        "colab": {
          "base_uri": "https://localhost:8080/",
          "height": 286
        },
        "id": "kr8VEm5RIc4T",
        "outputId": "8c4a7821-c78e-4886-c2f8-5040ae1aa66b"
      },
      "execution_count": 5,
      "outputs": [
        {
          "output_type": "execute_result",
          "data": {
            "text/plain": [
              "[<matplotlib.lines.Line2D at 0x7f821f9a6b90>]"
            ]
          },
          "metadata": {},
          "execution_count": 5
        },
        {
          "output_type": "display_data",
          "data": {
            "text/plain": [
              "<Figure size 432x288 with 1 Axes>"
            ],
            "image/png": "[encoded data removed]"
          },
          "metadata": {}
        }
      ]
    },
    {
      "cell_type": "code",
      "source": [
        "plt.plot(ku.X,ku.Y)"
      ],
      "metadata": {
        "colab": {
          "base_uri": "https://localhost:8080/",
          "height": 286
        },
        "id": "JTfazxdmZsEw",
        "outputId": "0c3eac40-3030-44e0-d5c6-6bc15712afeb"
      },
      "execution_count": 6,
      "outputs": [
        {
          "output_type": "execute_result",
          "data": {
            "text/plain": [
              "[<matplotlib.lines.Line2D at 0x7f821f488d50>]"
            ]
          },
          "metadata": {},
          "execution_count": 6
        },
        {
          "output_type": "display_data",
          "data": {
            "text/plain": [
              "<Figure size 432x288 with 1 Axes>"
            ],
            "image/png": "[encoded data removed]"
          },
          "metadata": {}
        }
      ]
    },
    {
      "cell_type": "code",
      "source": [
        "creator.create(\"FitnessMin\", base.Fitness, weights=(-1.0,)) #-1 to minimze, +1 to maximize\n",
        "creator.create(\"Individual\", list, fitness=creator.FitnessMin)\n",
        "\n",
        "# toolbox = base.Toolbox()"
      ],
      "metadata": {
        "id": "7Muc2sDbwv-L"
      },
      "execution_count": 8,
      "outputs": []
    },
    {
      "cell_type": "markdown",
      "source": [
        "### One individual for each $\\hat{\\theta}_i$\n"
      ],
      "metadata": {
        "id": "fM0bg2qNxw7T"
      }
    },
    {
      "cell_type": "code",
      "source": [
        "toolbox = base.Toolbox()"
      ],
      "metadata": {
        "id": "cTpYrYjuzJ_h"
      },
      "execution_count": 9,
      "outputs": []
    },
    {
      "cell_type": "code",
      "source": [
        "toolbox.register(\"attr_bool\", np.random.uniform, 0.1, 5)\n",
        "toolbox.attr_bool()\n",
        "\n",
        "toolbox.register(\"individual\", tools.initRepeat, creator.Individual, toolbox.attr_bool, 3)\n",
        "toolbox.register(\"population\", tools.initRepeat, list, toolbox.individual)\n",
        "toolbox.individual()"
      ],
      "metadata": {
        "colab": {
          "base_uri": "https://localhost:8080/"
        },
        "id": "dS0mvXrXxv7Y",
        "outputId": "7c306849-6f2e-4217-ac09-7dbfe033753b"
      },
      "execution_count": 10,
      "outputs": [
        {
          "output_type": "execute_result",
          "data": {
            "text/plain": [
              "[1.8779758388354448, 3.5187172541299145, 2.752193494140645]"
            ]
          },
          "metadata": {},
          "execution_count": 10
        }
      ]
    },
    {
      "cell_type": "code",
      "source": [
        "toolbox.register(\"evaluate\", fitnessFunction)\n",
        "toolbox.register(\"mate\", tools.cxTwoPoint)\n",
        "toolbox.register(\"mutate\", tools.mutShuffleIndexes, indpb=0.05)\n",
        "toolbox.register(\"select\", tools.selTournament, tournsize=3)"
      ],
      "metadata": {
        "id": "4TTwpGxzyTvY"
      },
      "execution_count": 11,
      "outputs": []
    },
    {
      "cell_type": "code",
      "source": [
        "pop = toolbox.population(n=500)"
      ],
      "metadata": {
        "id": "WXj8FtXqz3sL"
      },
      "execution_count": 12,
      "outputs": []
    },
    {
      "cell_type": "code",
      "source": [
        "hof = tools.ParetoFront()"
      ],
      "metadata": {
        "id": "2VMXwW-Wz-sa"
      },
      "execution_count": 13,
      "outputs": []
    },
    {
      "cell_type": "code",
      "source": [
        "stats = tools.Statistics(lambda ind: ind.fitness.values)\n",
        "stats.register(\"avg\", np.mean)\n",
        "stats.register(\"std\", np.std)\n",
        "stats.register(\"min\", np.min)\n",
        "stats.register(\"max\", np.max)"
      ],
      "metadata": {
        "id": "pnv667kd0Cgz"
      },
      "execution_count": 14,
      "outputs": []
    },
    {
      "cell_type": "code",
      "source": [
        "# sortedPop = sorted(pop, key=lambda ind:ind.fitness)"
      ],
      "metadata": {
        "id": "m5l2Pnc3_L6r"
      },
      "execution_count": 15,
      "outputs": []
    },
    {
      "cell_type": "code",
      "source": [
        "pop, log = algorithms.eaSimple(pop, toolbox, cxpb=0.5, mutpb=0.2,\\\n",
        "                               ngen=100, stats=stats, halloffame=hof, verbose=True)"
      ],
      "metadata": {
        "colab": {
          "base_uri": "https://localhost:8080/"
        },
        "id": "k5TRr7AS0OgC",
        "outputId": "d790e0de-08ed-4e97-fc54-0886eb968fb7"
      },
      "execution_count": 16,
      "outputs": [
        {
          "output_type": "stream",
          "name": "stdout",
          "text": [
            "gen\tnevals\tavg    \tstd     \tmin        \tmax    \n",
            "0  \t500   \t0.79668\t0.741037\t0.000214616\t6.00749\n",
            "1  \t306   \t0.526277\t0.376077\t0.00139627 \t7.04795\n",
            "2  \t298   \t0.3497  \t0.219791\t0.00131799 \t1.66878\n",
            "3  \t299   \t0.189892\t0.202441\t0.000164283\t1.8545 \n",
            "4  \t316   \t0.076841\t0.0976451\t0.000164283\t0.679661\n",
            "5  \t298   \t0.041993\t0.0831531\t0.000164283\t0.68005 \n",
            "6  \t314   \t0.0384078\t0.0970543\t6.11255e-05\t0.693761\n",
            "7  \t275   \t0.0224712\t0.109464 \t5.81433e-05\t2.04658 \n",
            "8  \t291   \t0.0221497\t0.0835998\t1.91026e-05\t0.822072\n",
            "9  \t316   \t0.0196029\t0.0770205\t3.72269e-05\t0.699009\n",
            "10 \t289   \t0.00886922\t0.0500589\t3.72269e-05\t0.631356\n",
            "11 \t290   \t0.00290197\t0.0315056\t3.72269e-05\t0.693761\n",
            "12 \t303   \t0.00768962\t0.066761 \t3.72269e-05\t0.693761\n",
            "13 \t308   \t0.0147436 \t0.0931582\t3.72269e-05\t0.694444\n",
            "14 \t310   \t0.0219272 \t0.115447 \t3.72269e-05\t0.694444\n",
            "15 \t288   \t0.0162654 \t0.0973602\t3.72269e-05\t0.694444\n",
            "16 \t307   \t0.0148254 \t0.0898563\t3.72269e-05\t0.771721\n",
            "17 \t320   \t0.013572  \t0.0879138\t3.72269e-05\t0.771721\n",
            "18 \t296   \t0.0102098 \t0.068861 \t3.72269e-05\t0.694444\n",
            "19 \t283   \t0.00889115\t0.0656003\t3.72269e-05\t0.587089\n",
            "20 \t305   \t0.00908447\t0.0641991\t3.72269e-05\t0.602888\n",
            "21 \t304   \t0.00638206\t0.0553445\t3.72269e-05\t0.58363 \n",
            "22 \t304   \t0.00883616\t0.0662703\t3.72269e-05\t0.58363 \n",
            "23 \t321   \t0.00893609\t0.0603984\t3.72269e-05\t0.58363 \n",
            "24 \t290   \t0.00677124\t0.0524577\t3.72269e-05\t0.58363 \n",
            "25 \t303   \t0.00826774\t0.0557016\t3.72269e-05\t0.58363 \n",
            "26 \t293   \t0.00743959\t0.0574378\t3.72269e-05\t0.58363 \n",
            "27 \t298   \t0.0079485 \t0.0546697\t3.72269e-05\t0.58363 \n",
            "28 \t293   \t0.0124694 \t0.0775292\t3.72269e-05\t0.58363 \n",
            "29 \t283   \t0.0100632 \t0.0710747\t3.72269e-05\t0.58363 \n",
            "30 \t292   \t0.00894581\t0.0694287\t3.72269e-05\t0.58363 \n",
            "31 \t286   \t0.00564431\t0.0533087\t3.72269e-05\t0.602888\n",
            "32 \t285   \t0.00875824\t0.0660098\t3.72269e-05\t0.58363 \n",
            "33 \t318   \t0.0139539 \t0.081828 \t3.72269e-05\t0.58363 \n",
            "34 \t298   \t0.00793842\t0.0584456\t3.72269e-05\t0.58363 \n",
            "35 \t325   \t0.0102129 \t0.0688135\t3.72269e-05\t0.58363 \n",
            "36 \t284   \t0.0059233 \t0.0469083\t3.72269e-05\t0.58363 \n",
            "37 \t303   \t0.00901575\t0.0662868\t3.72269e-05\t0.58363 \n",
            "38 \t291   \t0.011309  \t0.0707681\t3.72269e-05\t0.602888\n",
            "39 \t297   \t0.00729994\t0.0564578\t3.72269e-05\t0.58363 \n",
            "40 \t315   \t0.00677124\t0.0524577\t3.72269e-05\t0.58363 \n",
            "41 \t286   \t0.00775085\t0.0543364\t3.72269e-05\t0.58363 \n",
            "42 \t288   \t0.00638206\t0.0553445\t3.72269e-05\t0.58363 \n",
            "43 \t351   \t0.00648199\t0.0481634\t3.72269e-05\t0.58363 \n",
            "44 \t330   \t0.00960444\t0.0647485\t3.72269e-05\t0.58363 \n",
            "45 \t320   \t0.00470477\t0.043507 \t3.72269e-05\t0.602888\n",
            "46 \t290   \t0.00494542\t0.0520358\t3.72269e-05\t0.58363 \n",
            "47 \t284   \t0.00571371\t0.0501429\t3.72269e-05\t0.58363 \n",
            "48 \t329   \t0.00828753\t0.0620318\t3.72269e-05\t0.58363 \n",
            "49 \t327   \t0.0102049 \t0.0653794\t3.72269e-05\t0.58363 \n",
            "50 \t288   \t0.0111705 \t0.0755483\t3.72269e-05\t0.58363 \n",
            "51 \t287   \t0.0119379 \t0.0745664\t3.72269e-05\t0.602888\n",
            "52 \t302   \t0.00627152\t0.0518598\t3.72269e-05\t0.602888\n",
            "53 \t292   \t0.0120304 \t0.0768041\t3.72269e-05\t0.58363 \n",
            "54 \t312   \t0.00560405\t0.0456618\t3.72269e-05\t0.58363 \n",
            "55 \t283   \t0.0099622 \t0.0659555\t3.72269e-05\t0.602888\n",
            "56 \t287   \t0.00650179\t0.055363 \t3.72269e-05\t0.58363 \n",
            "57 \t323   \t0.0115914 \t0.0760696\t3.72269e-05\t0.58363 \n",
            "58 \t285   \t0.00409748\t0.0464027\t3.72269e-05\t0.58363 \n",
            "59 \t306   \t0.0132077 \t0.0782525\t3.72269e-05\t0.58363 \n",
            "60 \t311   \t0.00933499\t0.0671353\t3.72269e-05\t0.58363 \n",
            "61 \t325   \t0.0102129 \t0.0688135\t3.72269e-05\t0.58363 \n",
            "62 \t289   \t0.00414607\t0.0420899\t3.72269e-05\t0.602888\n",
            "63 \t305   \t0.00665151\t0.0524387\t3.72269e-05\t0.58363 \n",
            "64 \t320   \t0.00671138\t0.0524482\t3.72269e-05\t0.58363 \n",
            "65 \t296   \t0.00697927\t0.0568066\t3.72269e-05\t0.602888\n",
            "66 \t301   \t0.00354886\t0.0400525\t3.72269e-05\t0.58363 \n",
            "67 \t298   \t0.00753797\t0.0578371\t3.72269e-05\t0.602888\n",
            "68 \t325   \t0.005586  \t0.0452898\t3.72269e-05\t0.58363 \n",
            "69 \t316   \t0.0058933 \t0.0501758\t3.72269e-05\t0.58363 \n",
            "70 \t269   \t0.00300023\t0.0324745\t3.72269e-05\t0.58363 \n",
            "71 \t316   \t0.00833732\t0.0653901\t3.72269e-05\t0.58363 \n",
            "72 \t304   \t0.00566392\t0.0456741\t3.72269e-05\t0.58363 \n",
            "73 \t294   \t0.00322961\t0.0385655\t3.72269e-05\t0.58363 \n",
            "74 \t315   \t0.011279  \t0.0729771\t3.72269e-05\t0.602888\n",
            "75 \t315   \t0.00653178\t0.0524195\t3.72269e-05\t0.58363 \n",
            "76 \t295   \t0.00527474\t0.0489538\t3.72269e-05\t0.58363 \n",
            "77 \t288   \t0.0082176 \t0.0653778\t3.72269e-05\t0.58363 \n",
            "78 \t291   \t0.00454652\t0.0429539\t3.72269e-05\t0.58363 \n",
            "79 \t296   \t0.00354886\t0.0400525\t3.72269e-05\t0.58363 \n",
            "80 \t300   \t0.0109797 \t0.0729612\t3.72269e-05\t0.602888\n",
            "81 \t285   \t0.00828142\t0.0588481\t3.72269e-05\t0.58363 \n",
            "82 \t291   \t0.00799829\t0.0584528\t3.72269e-05\t0.58363 \n",
            "83 \t287   \t0.00799829\t0.0584528\t3.72269e-05\t0.58363 \n",
            "84 \t321   \t0.0112903 \t0.0755543\t3.72269e-05\t0.58363 \n",
            "85 \t258   \t0.00919721\t0.0668735\t3.72269e-05\t0.58363 \n",
            "86 \t323   \t0.00602497\t0.0465696\t3.72269e-05\t0.58363 \n",
            "87 \t318   \t0.00644192\t0.0553538\t3.72269e-05\t0.58363 \n",
            "88 \t289   \t0.0104524 \t0.0688298\t3.72269e-05\t0.58363 \n",
            "89 \t334   \t0.00938874\t0.0642105\t3.72269e-05\t0.58363 \n",
            "90 \t325   \t0.0135269 \t0.0789556\t3.72269e-05\t0.58363 \n",
            "91 \t312   \t0.00969604\t0.0677281\t3.72269e-05\t0.58363 \n",
            "92 \t313   \t0.00284439\t0.031366 \t3.72269e-05\t0.58363 \n",
            "93 \t301   \t0.00527474\t0.0489538\t3.72269e-05\t0.58363 \n",
            "94 \t301   \t0.00889602\t0.0662759\t3.72269e-05\t0.58363 \n",
            "95 \t303   \t0.00686962\t0.0528958\t3.72269e-05\t0.602888\n",
            "96 \t312   \t0.0121501 \t0.0768087\t3.72269e-05\t0.58363 \n",
            "97 \t274   \t0.0109797 \t0.0729612\t3.72269e-05\t0.602888\n",
            "98 \t297   \t0.0144647 \t0.0803421\t3.72269e-05\t0.58363 \n",
            "99 \t295   \t0.00731033\t0.0602158\t3.72269e-05\t0.602888\n",
            "100\t309   \t0.00816781\t0.0620188\t3.72269e-05\t0.58363 \n"
          ]
        }
      ]
    },
    {
      "cell_type": "code",
      "source": [
        "print('Current best fitness:', fitnessFunction(tools.selBest(pop, k=1)[0]))"
      ],
      "metadata": {
        "colab": {
          "base_uri": "https://localhost:8080/"
        },
        "id": "Ci13-AGd1ugQ",
        "outputId": "9636750b-725c-411e-ea7a-94e6abae0574"
      },
      "execution_count": 17,
      "outputs": [
        {
          "output_type": "stream",
          "name": "stdout",
          "text": [
            "Current best fitness: (3.722692903196067e-05,)\n"
          ]
        }
      ]
    },
    {
      "cell_type": "code",
      "source": [
        "hof[0]"
      ],
      "metadata": {
        "colab": {
          "base_uri": "https://localhost:8080/"
        },
        "id": "S0XSA9-vgVMt",
        "outputId": "fb5e6373-0a4f-4267-b9d7-9c982b8cec7e"
      },
      "execution_count": 40,
      "outputs": [
        {
          "output_type": "execute_result",
          "data": {
            "text/plain": [
              "[1.0786237531683807, 3.8839831994399745, 1.0007497493372124]"
            ]
          },
          "metadata": {},
          "execution_count": 40
        }
      ]
    },
    {
      "cell_type": "code",
      "source": [
        "theta = [1,4,1]\n",
        "kappa = theta[0]\n",
        "mu = theta[1]\n",
        "r_hat = theta[2]\n",
        "X = ku.X\n",
        "Y = ku.Y\n",
        "y_pred = computePDF(X, kappa, mu, r_hat)\n",
        "\n",
        "plt.figure(figsize=(10,7))\n",
        "plt.plot(y_pred,'.r', label='Theoretical')\n",
        "plt.plot(computePDF(ku.X,hof[0][0],hof[0][1],hof[0][2]),'.k', label='Predicted')\n",
        "plt.legend()\n",
        "plt.show()"
      ],
      "metadata": {
        "colab": {
          "base_uri": "https://localhost:8080/",
          "height": 431
        },
        "id": "BPZCAfQIazPL",
        "outputId": "73046b5f-1494-4999-b75b-9ceb45279499"
      },
      "execution_count": 41,
      "outputs": [
        {
          "output_type": "display_data",
          "data": {
            "text/plain": [
              "<Figure size 720x504 with 1 Axes>"
            ],
            "image/png": "[encoded data removed]"
          },
          "metadata": {}
        }
      ]
    },
    {
      "cell_type": "code",
      "source": [
        "plt.figure(figsize=(10,7))\n",
        "plt.plot(y_pred,'.r', label='Theoretical')\n",
        "plt.plot(computePDF(ku.X,hof[0][0],hof[0][1],hof[0][2]),'.k', label='Predicted')\n",
        "plt.ylim((1,1.5))\n",
        "plt.legend()\n",
        "plt.show()"
      ],
      "metadata": {
        "id": "W5mFC_9TggN8",
        "outputId": "4cc8b53b-6008-4909-8e50-30c8ceeee844",
        "colab": {
          "base_uri": "https://localhost:8080/",
          "height": 435
        }
      },
      "execution_count": 43,
      "outputs": [
        {
          "output_type": "display_data",
          "data": {
            "text/plain": [
              "<Figure size 720x504 with 1 Axes>"
            ],
            "image/png": "[encoded data removed]"
          },
          "metadata": {}
        }
      ]
    },
    {
      "cell_type": "markdown",
      "source": [
        "### True function:\n",
        "\n",
        "$y=2x+3$\n",
        "\n",
        "$⇒\\theta_0=2$\n",
        "\n",
        "$⇒\\theta_1=3$"
      ],
      "metadata": {
        "id": "1PJCqJ6j2v9r"
      }
    },
    {
      "cell_type": "code",
      "source": [
        "len(hof)"
      ],
      "metadata": {
        "colab": {
          "base_uri": "https://localhost:8080/"
        },
        "id": "FHS3K1nj2Y00",
        "outputId": "73c90843-4200-4416-d150-36d4d216fb5e"
      },
      "execution_count": 19,
      "outputs": [
        {
          "output_type": "execute_result",
          "data": {
            "text/plain": [
              "1"
            ]
          },
          "metadata": {},
          "execution_count": 19
        }
      ]
    },
    {
      "cell_type": "code",
      "source": [
        "print(r'$\\theta_0$ is {}, $\\theta_1$ is {} and $\\theta_1$ is {}.'.format(hof.items[0][0], hof.items[0][1], hof.items[0][2]))"
      ],
      "metadata": {
        "colab": {
          "base_uri": "https://localhost:8080/"
        },
        "id": "ZV6qbnAu3Ifz",
        "outputId": "a2d1f3ee-1213-4746-d91e-2eb397739304"
      },
      "execution_count": 20,
      "outputs": [
        {
          "output_type": "stream",
          "name": "stdout",
          "text": [
            "$\\theta_0$ is 1.0786237531683807, $\\theta_1$ is 3.8839831994399745 and $\\theta_1$ is 1.0007497493372124.\n"
          ]
        }
      ]
    },
    {
      "cell_type": "code",
      "source": [
        "import matplotlib.pyplot as plt\n",
        "import networkx\n",
        "\n",
        "history = tools.History()\n",
        "graph = networkx.DiGraph(history.genealogy_tree)\n",
        "graph = graph.reverse()     # Make the graph top-down\n",
        "colors = [toolbox.evaluate(history.genealogy_history[i])[0] for i in graph]\n",
        "networkx.draw(graph, node_color=colors)\n",
        "plt.show()"
      ],
      "metadata": {
        "colab": {
          "base_uri": "https://localhost:8080/",
          "height": 319
        },
        "id": "447plun9Ca6u",
        "outputId": "d07757d3-d49e-431f-82c0-c782e97d9a11"
      },
      "execution_count": 21,
      "outputs": [
        {
          "output_type": "display_data",
          "data": {
            "text/plain": [
              "<Figure size 432x288 with 1 Axes>"
            ],
            "image/png": "[encoded data removed]"
          },
          "metadata": {}
        }
      ]
    },
    {
      "cell_type": "code",
      "source": [
        "# record = stats.compile(pop)\n",
        "# logbook = tools.Logbook()\n",
        "# logbook.record(gen=0, evals=30, **record)"
      ],
      "metadata": {
        "id": "u3EMgMuA3ZcK"
      },
      "execution_count": 22,
      "outputs": []
    },
    {
      "cell_type": "code",
      "source": [
        "# gen = log.select(\"gen\")\n",
        "# fit_mins = log.select(\"min\")\n",
        "# size_avgs = log.select(\"avg\")"
      ],
      "metadata": {
        "id": "t8vcb0eb4M_M"
      },
      "execution_count": 23,
      "outputs": []
    },
    {
      "cell_type": "code",
      "source": [
        "# gen, avg = logbook.select(\"gen\", \"avg\")"
      ],
      "metadata": {
        "id": "z1gYmevZ49Rp"
      },
      "execution_count": 24,
      "outputs": []
    },
    {
      "cell_type": "code",
      "source": [
        "# logbook.header = \"gen\", \"avg\", \"spam\""
      ],
      "metadata": {
        "id": "Y0XRyFtY4_kZ"
      },
      "execution_count": 25,
      "outputs": []
    },
    {
      "cell_type": "code",
      "source": [
        "# print(logbook)"
      ],
      "metadata": {
        "id": "71dbcTQu5A19"
      },
      "execution_count": 26,
      "outputs": []
    },
    {
      "cell_type": "code",
      "source": [
        "# gen = logbook.select(\"gen\")\n",
        "# fit_mins = logbook.chapters[\"fitness\"].select(\"min\")\n",
        "# size_avgs = logbook.chapters[\"size\"].select(\"avg\")\n",
        "\n",
        "# import matplotlib.pyplot as plt\n",
        "\n",
        "# fig, ax1 = plt.subplots()\n",
        "# line1 = ax1.plot(gen, fit_mins, \"b-\", label=\"Minimum Fitness\")\n",
        "# ax1.set_xlabel(\"Generation\")\n",
        "# ax1.set_ylabel(\"Fitness\", color=\"b\")\n",
        "# for tl in ax1.get_yticklabels():\n",
        "#     tl.set_color(\"b\")\n",
        "\n",
        "# ax2 = ax1.twinx()\n",
        "# line2 = ax2.plot(gen, size_avgs, \"r-\", label=\"Average Size\")\n",
        "# ax2.set_ylabel(\"Size\", color=\"r\")\n",
        "# for tl in ax2.get_yticklabels():\n",
        "#     tl.set_color(\"r\")\n",
        "\n",
        "# lns = line1 + line2\n",
        "# labs = [l.get_label() for l in lns]\n",
        "# ax1.legend(lns, labs, loc=\"center right\")\n",
        "\n",
        "# plt.show()"
      ],
      "metadata": {
        "id": "YaTkB7tF5LIC"
      },
      "execution_count": 27,
      "outputs": []
    },
    {
      "cell_type": "code",
      "source": [
        "# gen = logbook.select(\"gen\")\n",
        "# fit_mins = logbook.select(\"min\")\n",
        "# size_avgs = logbook.select(\"avg\")\n"
      ],
      "metadata": {
        "id": "4c540l6B5MpT"
      },
      "execution_count": 28,
      "outputs": []
    },
    {
      "cell_type": "code",
      "source": [
        "# plt.figure(figsize=(10,7))\n",
        "# plt.plot(gen, size_avgs, \"r-\", label=\"Average Fitness\")\n",
        "# plt.xlabel('Generation')\n",
        "# plt.ylabel('Average Fitness')\n",
        "# plt.show()"
      ],
      "metadata": {
        "id": "sFEZhyq43m04"
      },
      "execution_count": 29,
      "outputs": []
    },
    {
      "cell_type": "code",
      "source": [
        "# plt.plot(gen, fit_mins, \"b-\", label=\"Minimum Fitness\")\n",
        "# plt.xlabel('Generation')\n",
        "# plt.ylabel('Minimum Fitness')\n",
        "# plt.show()"
      ],
      "metadata": {
        "id": "_TWTHZSN3uIh"
      },
      "execution_count": 30,
      "outputs": []
    },
    {
      "cell_type": "code",
      "source": [
        ""
      ],
      "metadata": {
        "id": "eUPTsuE77aso"
      },
      "execution_count": 30,
      "outputs": []
    },
    {
      "cell_type": "code",
      "source": [
        "fit_mins"
      ],
      "metadata": {
        "id": "lvPAeOPG7d0H",
        "colab": {
          "base_uri": "https://localhost:8080/",
          "height": 168
        },
        "outputId": "48bd06bf-1370-4a1a-c30e-4858fc390761"
      },
      "execution_count": 31,
      "outputs": [
        {
          "output_type": "error",
          "ename": "NameError",
          "evalue": "ignored",
          "traceback": [
            "\u001b[0;31m---------------------------------------------------------------------------\u001b[0m",
            "\u001b[0;31mNameError\u001b[0m                                 Traceback (most recent call last)",
            "\u001b[0;32m<ipython-input-31-883fe68899bd>\u001b[0m in \u001b[0;36m<module>\u001b[0;34m()\u001b[0m\n\u001b[0;32m----> 1\u001b[0;31m \u001b[0mfit_mins\u001b[0m\u001b[0;34m\u001b[0m\u001b[0;34m\u001b[0m\u001b[0m\n\u001b[0m",
            "\u001b[0;31mNameError\u001b[0m: name 'fit_mins' is not defined"
          ]
        }
      ]
    },
    {
      "cell_type": "code",
      "source": [
        ""
      ],
      "metadata": {
        "id": "VmjVUVoq8StF"
      },
      "execution_count": null,
      "outputs": []
    }
  ]
}