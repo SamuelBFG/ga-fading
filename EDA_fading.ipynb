{
  "nbformat": 4,
  "nbformat_minor": 0,
  "metadata": {
    "colab": {
      "name": "EDA_fading.ipynb",
      "provenance": [],
      "authorship_tag": "ABX9TyNRYhzH6wn3AofQbKXUMIVu"
    },
    "kernelspec": {
      "name": "python3",
      "display_name": "Python 3"
    },
    "language_info": {
      "name": "python"
    }
  },
  "cells": [
    {
      "cell_type": "code",
      "source": [
        "import numpy as np\n",
        "import pandas as pd\n",
        "import seaborn as sns\n",
        "import matplotlib.pyplot as plt\n",
        "%matplotlib inline"
      ],
      "metadata": {
        "id": "0bV7QSekNCF3"
      },
      "execution_count": 1,
      "outputs": []
    },
    {
      "cell_type": "code",
      "execution_count": 2,
      "metadata": {
        "id": "Gd4kk9TMPII1"
      },
      "outputs": [],
      "source": [
        "class DataLoad():\n",
        "  def __init__(self):\n",
        "    return\n",
        "  \n",
        "  def datasets_AB(self):\n",
        "    ap_1 = pd.read_csv('/content/pathAB_SSF_dB_AP1_downsampled2Khz_win100.txt', sep=\" \", header=None)\n",
        "    ap_2 = pd.read_csv('/content/pathAB_SSF_dB_AP2_downsampled2Khz_win100.txt', sep=\" \", header=None)\n",
        "    ap_3 = pd.read_csv('/content/pathAB_SSF_dB_AP3_downsampled2Khz_win100.txt', sep=\" \", header=None)\n",
        "    ap_4 = pd.read_csv('/content/pathAB_SSF_dB_AP4_downsampled2Khz_win100.txt', sep=\" \", header=None)\n",
        "    ap_5 = pd.read_csv('/content/pathAB_SSF_dB_AP5_downsampled2Khz_win100.txt', sep=\" \", header=None)\n",
        "    ap_6 = pd.read_csv('/content/pathAB_SSF_dB_AP6_downsampled2Khz_win100.txt', sep=\" \", header=None)\n",
        "    ap_7 = pd.read_csv('/content/pathAB_SSF_dB_AP7_downsampled2Khz_win100.txt', sep=\" \", header=None)\n",
        "    ap_8 = pd.read_csv('/content/pathAB_SSF_dB_AP8_downsampled2Khz_win100.txt', sep=\" \", header=None)\n",
        "    ap_9 = pd.read_csv('/content/pathAB_SSF_dB_AP9_downsampled2Khz_win100.txt', sep=\" \", header=None)\n",
        "\n",
        "    return ap_1, ap_2, ap_3, ap_4, ap_5, ap_6, ap_7, ap_8, ap_9\n",
        "\n",
        "  def datasets_BA(self):\n",
        "    ap_1 = pd.read_csv('/content/pathBA_SSF_dB_AP1_downsampled2Khz_win100.txt', sep=\" \", header=None)\n",
        "    ap_2 = pd.read_csv('/content/pathBA_SSF_dB_AP2_downsampled2Khz_win100.txt', sep=\" \", header=None)\n",
        "    ap_3 = pd.read_csv('/content/pathBA_SSF_dB_AP3_downsampled2Khz_win100.txt', sep=\" \", header=None)\n",
        "    ap_4 = pd.read_csv('/content/pathBA_SSF_dB_AP4_downsampled2Khz_win100.txt', sep=\" \", header=None)\n",
        "    ap_5 = pd.read_csv('/content/pathBA_SSF_dB_AP5_downsampled2Khz_win100.txt', sep=\" \", header=None)\n",
        "    ap_6 = pd.read_csv('/content/pathBA_SSF_dB_AP6_downsampled2Khz_win100.txt', sep=\" \", header=None)\n",
        "    ap_7 = pd.read_csv('/content/pathBA_SSF_dB_AP7_downsampled2Khz_win100.txt', sep=\" \", header=None)\n",
        "    ap_8 = pd.read_csv('/content/pathBA_SSF_dB_AP8_downsampled2Khz_win100.txt', sep=\" \", header=None)\n",
        "    ap_9 = pd.read_csv('/content/pathBA_SSF_dB_AP9_downsampled2Khz_win100.txt', sep=\" \", header=None)\n",
        "\n",
        "    return ap_1, ap_2, ap_3, ap_4, ap_5, ap_6, ap_7, ap_8, ap_9\n"
      ]
    },
    {
      "cell_type": "code",
      "source": [
        "pathAB = pd.DataFrame()\n",
        "pathBA = pd.DataFrame()\n",
        "pathAB['AP1'], pathAB['AP2'], pathAB['AP3'], pathAB['AP4'], pathAB['AP5'], pathAB['AP6'], pathAB['AP7'], pathAB['AP8'], pathAB['AP9'] = DataLoad().datasets_AB() \n",
        "pathBA['AP1'], pathBA['AP2'], pathBA['AP3'], pathBA['AP4'], pathBA['AP5'], pathBA['AP6'], pathBA['AP7'], pathBA['AP8'], pathBA['AP9'] = DataLoad().datasets_BA() "
      ],
      "metadata": {
        "id": "v4SQ3AxxOmQn"
      },
      "execution_count": 3,
      "outputs": []
    },
    {
      "cell_type": "code",
      "source": [
        "pathAB.describe()"
      ],
      "metadata": {
        "colab": {
          "base_uri": "https://localhost:8080/",
          "height": 300
        },
        "id": "ZtQoOc7jQXID",
        "outputId": "35de90a7-75ac-4d0f-b2c6-50b22821181b"
      },
      "execution_count": 4,
      "outputs": [
        {
          "output_type": "execute_result",
          "data": {
            "text/plain": [
              "                AP1           AP2           AP3           AP4           AP5  \\\n",
              "count  21395.000000  17625.000000  21312.000000  19854.000000  18791.000000   \n",
              "mean      -0.696300     -0.706977     -0.950157     -0.649444     -0.671172   \n",
              "std        3.827021      3.843941      4.345763      3.608783      3.657521   \n",
              "min      -28.257000    -26.160000    -30.613000    -26.990000    -29.916000   \n",
              "25%       -2.003200     -2.086100     -2.829525     -1.817875     -1.925500   \n",
              "50%        0.017756     -0.086271     -0.148310     -0.047697     -0.012861   \n",
              "75%        1.553000      1.488500      1.844975      1.316550      1.431450   \n",
              "max        8.209900      9.598300      9.200100     10.698000      9.334600   \n",
              "\n",
              "                AP6           AP7           AP8           AP9  \n",
              "count  17291.000000  18687.000000  18562.000000  18250.000000  \n",
              "mean      -1.023778     -0.975409     -0.890574     -1.067207  \n",
              "std        4.609185      4.428430      4.217900      4.628232  \n",
              "min      -29.998000    -27.744000    -24.949000    -26.882000  \n",
              "25%       -3.061450     -3.032250     -2.724975     -3.256600  \n",
              "50%       -0.149310     -0.141100     -0.180765     -0.253520  \n",
              "75%        1.974400      1.982550      1.821300      2.012050  \n",
              "max        8.803300      9.140200      9.140100      9.516400  "
            ],
            "text/html": [
              "\n",
              "  <div id=\"df-a4abf03b-d4e7-4465-b189-b2862ebf5757\">\n",
              "    <div class=\"colab-df-container\">\n",
              "      <div>\n",
              "<style scoped>\n",
              "    .dataframe tbody tr th:only-of-type {\n",
              "        vertical-align: middle;\n",
              "    }\n",
              "\n",
              "    .dataframe tbody tr th {\n",
              "        vertical-align: top;\n",
              "    }\n",
              "\n",
              "    .dataframe thead th {\n",
              "        text-align: right;\n",
              "    }\n",
              "</style>\n",
              "<table border=\"1\" class=\"dataframe\">\n",
              "  <thead>\n",
              "    <tr style=\"text-align: right;\">\n",
              "      <th></th>\n",
              "      <th>AP1</th>\n",
              "      <th>AP2</th>\n",
              "      <th>AP3</th>\n",
              "      <th>AP4</th>\n",
              "      <th>AP5</th>\n",
              "      <th>AP6</th>\n",
              "      <th>AP7</th>\n",
              "      <th>AP8</th>\n",
              "      <th>AP9</th>\n",
              "    </tr>\n",
              "  </thead>\n",
              "  <tbody>\n",
              "    <tr>\n",
              "      <th>count</th>\n",
              "      <td>21395.000000</td>\n",
              "      <td>17625.000000</td>\n",
              "      <td>21312.000000</td>\n",
              "      <td>19854.000000</td>\n",
              "      <td>18791.000000</td>\n",
              "      <td>17291.000000</td>\n",
              "      <td>18687.000000</td>\n",
              "      <td>18562.000000</td>\n",
              "      <td>18250.000000</td>\n",
              "    </tr>\n",
              "    <tr>\n",
              "      <th>mean</th>\n",
              "      <td>-0.696300</td>\n",
              "      <td>-0.706977</td>\n",
              "      <td>-0.950157</td>\n",
              "      <td>-0.649444</td>\n",
              "      <td>-0.671172</td>\n",
              "      <td>-1.023778</td>\n",
              "      <td>-0.975409</td>\n",
              "      <td>-0.890574</td>\n",
              "      <td>-1.067207</td>\n",
              "    </tr>\n",
              "    <tr>\n",
              "      <th>std</th>\n",
              "      <td>3.827021</td>\n",
              "      <td>3.843941</td>\n",
              "      <td>4.345763</td>\n",
              "      <td>3.608783</td>\n",
              "      <td>3.657521</td>\n",
              "      <td>4.609185</td>\n",
              "      <td>4.428430</td>\n",
              "      <td>4.217900</td>\n",
              "      <td>4.628232</td>\n",
              "    </tr>\n",
              "    <tr>\n",
              "      <th>min</th>\n",
              "      <td>-28.257000</td>\n",
              "      <td>-26.160000</td>\n",
              "      <td>-30.613000</td>\n",
              "      <td>-26.990000</td>\n",
              "      <td>-29.916000</td>\n",
              "      <td>-29.998000</td>\n",
              "      <td>-27.744000</td>\n",
              "      <td>-24.949000</td>\n",
              "      <td>-26.882000</td>\n",
              "    </tr>\n",
              "    <tr>\n",
              "      <th>25%</th>\n",
              "      <td>-2.003200</td>\n",
              "      <td>-2.086100</td>\n",
              "      <td>-2.829525</td>\n",
              "      <td>-1.817875</td>\n",
              "      <td>-1.925500</td>\n",
              "      <td>-3.061450</td>\n",
              "      <td>-3.032250</td>\n",
              "      <td>-2.724975</td>\n",
              "      <td>-3.256600</td>\n",
              "    </tr>\n",
              "    <tr>\n",
              "      <th>50%</th>\n",
              "      <td>0.017756</td>\n",
              "      <td>-0.086271</td>\n",
              "      <td>-0.148310</td>\n",
              "      <td>-0.047697</td>\n",
              "      <td>-0.012861</td>\n",
              "      <td>-0.149310</td>\n",
              "      <td>-0.141100</td>\n",
              "      <td>-0.180765</td>\n",
              "      <td>-0.253520</td>\n",
              "    </tr>\n",
              "    <tr>\n",
              "      <th>75%</th>\n",
              "      <td>1.553000</td>\n",
              "      <td>1.488500</td>\n",
              "      <td>1.844975</td>\n",
              "      <td>1.316550</td>\n",
              "      <td>1.431450</td>\n",
              "      <td>1.974400</td>\n",
              "      <td>1.982550</td>\n",
              "      <td>1.821300</td>\n",
              "      <td>2.012050</td>\n",
              "    </tr>\n",
              "    <tr>\n",
              "      <th>max</th>\n",
              "      <td>8.209900</td>\n",
              "      <td>9.598300</td>\n",
              "      <td>9.200100</td>\n",
              "      <td>10.698000</td>\n",
              "      <td>9.334600</td>\n",
              "      <td>8.803300</td>\n",
              "      <td>9.140200</td>\n",
              "      <td>9.140100</td>\n",
              "      <td>9.516400</td>\n",
              "    </tr>\n",
              "  </tbody>\n",
              "</table>\n",
              "</div>\n",
              "      <button class=\"colab-df-convert\" onclick=\"convertToInteractive('df-a4abf03b-d4e7-4465-b189-b2862ebf5757')\"\n",
              "              title=\"Convert this dataframe to an interactive table.\"\n",
              "              style=\"display:none;\">\n",
              "        \n",
              "  <svg xmlns=\"http://www.w3.org/2000/svg\" height=\"24px\"viewBox=\"0 0 24 24\"\n",
              "       width=\"24px\">\n",
              "    <path d=\"M0 0h24v24H0V0z\" fill=\"none\"/>\n",
              "    <path d=\"M18.56 5.44l.94 2.06.94-2.06 2.06-.94-2.06-.94-.94-2.06-.94 2.06-2.06.94zm-11 1L8.5 8.5l.94-2.06 2.06-.94-2.06-.94L8.5 2.5l-.94 2.06-2.06.94zm10 10l.94 2.06.94-2.06 2.06-.94-2.06-.94-.94-2.06-.94 2.06-2.06.94z\"/><path d=\"M17.41 7.96l-1.37-1.37c-.4-.4-.92-.59-1.43-.59-.52 0-1.04.2-1.43.59L10.3 9.45l-7.72 7.72c-.78.78-.78 2.05 0 2.83L4 21.41c.39.39.9.59 1.41.59.51 0 1.02-.2 1.41-.59l7.78-7.78 2.81-2.81c.8-.78.8-2.07 0-2.86zM5.41 20L4 18.59l7.72-7.72 1.47 1.35L5.41 20z\"/>\n",
              "  </svg>\n",
              "      </button>\n",
              "      \n",
              "  <style>\n",
              "    .colab-df-container {\n",
              "      display:flex;\n",
              "      flex-wrap:wrap;\n",
              "      gap: 12px;\n",
              "    }\n",
              "\n",
              "    .colab-df-convert {\n",
              "      background-color: #E8F0FE;\n",
              "      border: none;\n",
              "      border-radius: 50%;\n",
              "      cursor: pointer;\n",
              "      display: none;\n",
              "      fill: #1967D2;\n",
              "      height: 32px;\n",
              "      padding: 0 0 0 0;\n",
              "      width: 32px;\n",
              "    }\n",
              "\n",
              "    .colab-df-convert:hover {\n",
              "      background-color: #E2EBFA;\n",
              "      box-shadow: 0px 1px 2px rgba(60, 64, 67, 0.3), 0px 1px 3px 1px rgba(60, 64, 67, 0.15);\n",
              "      fill: #174EA6;\n",
              "    }\n",
              "\n",
              "    [theme=dark] .colab-df-convert {\n",
              "      background-color: #3B4455;\n",
              "      fill: #D2E3FC;\n",
              "    }\n",
              "\n",
              "    [theme=dark] .colab-df-convert:hover {\n",
              "      background-color: #434B5C;\n",
              "      box-shadow: 0px 1px 3px 1px rgba(0, 0, 0, 0.15);\n",
              "      filter: drop-shadow(0px 1px 2px rgba(0, 0, 0, 0.3));\n",
              "      fill: #FFFFFF;\n",
              "    }\n",
              "  </style>\n",
              "\n",
              "      <script>\n",
              "        const buttonEl =\n",
              "          document.querySelector('#df-a4abf03b-d4e7-4465-b189-b2862ebf5757 button.colab-df-convert');\n",
              "        buttonEl.style.display =\n",
              "          google.colab.kernel.accessAllowed ? 'block' : 'none';\n",
              "\n",
              "        async function convertToInteractive(key) {\n",
              "          const element = document.querySelector('#df-a4abf03b-d4e7-4465-b189-b2862ebf5757');\n",
              "          const dataTable =\n",
              "            await google.colab.kernel.invokeFunction('convertToInteractive',\n",
              "                                                     [key], {});\n",
              "          if (!dataTable) return;\n",
              "\n",
              "          const docLinkHtml = 'Like what you see? Visit the ' +\n",
              "            '<a target=\"_blank\" href=https://colab.research.google.com/notebooks/data_table.ipynb>data table notebook</a>'\n",
              "            + ' to learn more about interactive tables.';\n",
              "          element.innerHTML = '';\n",
              "          dataTable['output_type'] = 'display_data';\n",
              "          await google.colab.output.renderOutput(dataTable, element);\n",
              "          const docLink = document.createElement('div');\n",
              "          docLink.innerHTML = docLinkHtml;\n",
              "          element.appendChild(docLink);\n",
              "        }\n",
              "      </script>\n",
              "    </div>\n",
              "  </div>\n",
              "  "
            ]
          },
          "metadata": {},
          "execution_count": 4
        }
      ]
    },
    {
      "cell_type": "code",
      "source": [
        "pathAB['AP1']"
      ],
      "metadata": {
        "colab": {
          "base_uri": "https://localhost:8080/"
        },
        "id": "f8FbVNhCSFLz",
        "outputId": "6b911e38-f8ae-453f-be93-73621a1095ba"
      },
      "execution_count": 5,
      "outputs": [
        {
          "output_type": "execute_result",
          "data": {
            "text/plain": [
              "0        0.000000\n",
              "1       -0.020739\n",
              "2        0.152560\n",
              "3       -0.195770\n",
              "4        0.234340\n",
              "           ...   \n",
              "21390    0.476920\n",
              "21391    0.253270\n",
              "21392    0.107330\n",
              "21393    0.068079\n",
              "21394    0.000000\n",
              "Name: AP1, Length: 21395, dtype: float64"
            ]
          },
          "metadata": {},
          "execution_count": 5
        }
      ]
    },
    {
      "cell_type": "code",
      "source": [
        "pathAB.plot(kind='kde', figsize=(10,7))\n",
        "plt.grid(True)\n",
        "plt.show()"
      ],
      "metadata": {
        "colab": {
          "base_uri": "https://localhost:8080/",
          "height": 428
        },
        "id": "cHJ-A6xmP5uV",
        "outputId": "06b64500-c03b-466e-e9e7-b6ff69375979"
      },
      "execution_count": 6,
      "outputs": [
        {
          "output_type": "display_data",
          "data": {
            "text/plain": [
              "<Figure size 720x504 with 1 Axes>"
            ],
            "image/png": "[encoded data removed]"
          },
          "metadata": {
            "needs_background": "light"
          }
        }
      ]
    },
    {
      "cell_type": "code",
      "source": [
        "pathAB['AP6'].plot(kind='kde', figsize=(10,7))\n",
        "plt.grid(True)\n",
        "plt.title('RX 6')\n",
        "plt.xlabel('(dB)')\n",
        "plt.show()"
      ],
      "metadata": {
        "colab": {
          "base_uri": "https://localhost:8080/",
          "height": 458
        },
        "id": "FNGUEeKPOoNG",
        "outputId": "c5d69019-9951-4d31-e7de-48ea42b9d1b8"
      },
      "execution_count": 7,
      "outputs": [
        {
          "output_type": "display_data",
          "data": {
            "text/plain": [
              "<Figure size 720x504 with 1 Axes>"
            ],
            "image/png": "[encoded data removed]"
          },
          "metadata": {
            "needs_background": "light"
          }
        }
      ]
    },
    {
      "cell_type": "code",
      "source": [
        "sns.histplot(pathAB['AP6'].values, stat='density')"
      ],
      "metadata": {
        "colab": {
          "base_uri": "https://localhost:8080/",
          "height": 282
        },
        "id": "Uv619zilOuIA",
        "outputId": "fdc614fb-6646-4b87-9906-d788704d82a9"
      },
      "execution_count": 8,
      "outputs": [
        {
          "output_type": "execute_result",
          "data": {
            "text/plain": [
              "<matplotlib.axes._subplots.AxesSubplot at 0x7fbde17a18d0>"
            ]
          },
          "metadata": {},
          "execution_count": 8
        },
        {
          "output_type": "display_data",
          "data": {
            "text/plain": [
              "<Figure size 432x288 with 1 Axes>"
            ],
            "image/png": "[encoded data removed]"
          },
          "metadata": {
            "needs_background": "light"
          }
        }
      ]
    },
    {
      "cell_type": "code",
      "source": [
        "pathAB['AP6'].values"
      ],
      "metadata": {
        "colab": {
          "base_uri": "https://localhost:8080/"
        },
        "id": "pbhlsENPUBVk",
        "outputId": "dbeeefe4-edea-4812-bde2-32593e686abe"
      },
      "execution_count": 9,
      "outputs": [
        {
          "output_type": "execute_result",
          "data": {
            "text/plain": [
              "array([0.     , 0.13661, 0.32978, ...,     nan,     nan,     nan])"
            ]
          },
          "metadata": {},
          "execution_count": 9
        }
      ]
    },
    {
      "cell_type": "code",
      "source": [
        "import scipy.io\n",
        "mat = scipy.io.loadmat('ssf_t_8_dB.mat')"
      ],
      "metadata": {
        "id": "VoFWN0FMUIIL"
      },
      "execution_count": 10,
      "outputs": []
    },
    {
      "cell_type": "code",
      "source": [
        "type(mat['ssf_t_8_dB'])"
      ],
      "metadata": {
        "id": "PNsjzT9yWFPS",
        "colab": {
          "base_uri": "https://localhost:8080/"
        },
        "outputId": "82ef1bf3-68b9-4284-90ae-a6b1343c20ff"
      },
      "execution_count": 11,
      "outputs": [
        {
          "output_type": "execute_result",
          "data": {
            "text/plain": [
              "numpy.ndarray"
            ]
          },
          "metadata": {},
          "execution_count": 11
        }
      ]
    },
    {
      "cell_type": "code",
      "source": [
        "mat['ssf_t_8_dB'].shape"
      ],
      "metadata": {
        "colab": {
          "base_uri": "https://localhost:8080/"
        },
        "id": "rycVWV9tWX6a",
        "outputId": "1e14556f-8ff5-4685-9921-a541a9c1e59c"
      },
      "execution_count": 12,
      "outputs": [
        {
          "output_type": "execute_result",
          "data": {
            "text/plain": [
              "(8812, 1)"
            ]
          },
          "metadata": {},
          "execution_count": 12
        }
      ]
    },
    {
      "cell_type": "code",
      "source": [
        "data_ap1 = pd.DataFrame(mat['ssf_t_8_dB'])"
      ],
      "metadata": {
        "id": "FnccQWn0WxU3"
      },
      "execution_count": 13,
      "outputs": []
    },
    {
      "cell_type": "code",
      "source": [
        "data_ap1.head()"
      ],
      "metadata": {
        "colab": {
          "base_uri": "https://localhost:8080/",
          "height": 206
        },
        "id": "KCdMb2ymbU1F",
        "outputId": "6021a90b-ecff-4d8a-fb12-1838381a4b59"
      },
      "execution_count": 14,
      "outputs": [
        {
          "output_type": "execute_result",
          "data": {
            "text/plain": [
              "          0\n",
              "0  0.000000\n",
              "1 -0.062012\n",
              "2 -0.139637\n",
              "3 -0.226963\n",
              "4 -0.440886"
            ],
            "text/html": [
              "\n",
              "  <div id=\"df-5227a0c8-1bf4-4f32-ad6f-d4fcfcf5be9e\">\n",
              "    <div class=\"colab-df-container\">\n",
              "      <div>\n",
              "<style scoped>\n",
              "    .dataframe tbody tr th:only-of-type {\n",
              "        vertical-align: middle;\n",
              "    }\n",
              "\n",
              "    .dataframe tbody tr th {\n",
              "        vertical-align: top;\n",
              "    }\n",
              "\n",
              "    .dataframe thead th {\n",
              "        text-align: right;\n",
              "    }\n",
              "</style>\n",
              "<table border=\"1\" class=\"dataframe\">\n",
              "  <thead>\n",
              "    <tr style=\"text-align: right;\">\n",
              "      <th></th>\n",
              "      <th>0</th>\n",
              "    </tr>\n",
              "  </thead>\n",
              "  <tbody>\n",
              "    <tr>\n",
              "      <th>0</th>\n",
              "      <td>0.000000</td>\n",
              "    </tr>\n",
              "    <tr>\n",
              "      <th>1</th>\n",
              "      <td>-0.062012</td>\n",
              "    </tr>\n",
              "    <tr>\n",
              "      <th>2</th>\n",
              "      <td>-0.139637</td>\n",
              "    </tr>\n",
              "    <tr>\n",
              "      <th>3</th>\n",
              "      <td>-0.226963</td>\n",
              "    </tr>\n",
              "    <tr>\n",
              "      <th>4</th>\n",
              "      <td>-0.440886</td>\n",
              "    </tr>\n",
              "  </tbody>\n",
              "</table>\n",
              "</div>\n",
              "      <button class=\"colab-df-convert\" onclick=\"convertToInteractive('df-5227a0c8-1bf4-4f32-ad6f-d4fcfcf5be9e')\"\n",
              "              title=\"Convert this dataframe to an interactive table.\"\n",
              "              style=\"display:none;\">\n",
              "        \n",
              "  <svg xmlns=\"http://www.w3.org/2000/svg\" height=\"24px\"viewBox=\"0 0 24 24\"\n",
              "       width=\"24px\">\n",
              "    <path d=\"M0 0h24v24H0V0z\" fill=\"none\"/>\n",
              "    <path d=\"M18.56 5.44l.94 2.06.94-2.06 2.06-.94-2.06-.94-.94-2.06-.94 2.06-2.06.94zm-11 1L8.5 8.5l.94-2.06 2.06-.94-2.06-.94L8.5 2.5l-.94 2.06-2.06.94zm10 10l.94 2.06.94-2.06 2.06-.94-2.06-.94-.94-2.06-.94 2.06-2.06.94z\"/><path d=\"M17.41 7.96l-1.37-1.37c-.4-.4-.92-.59-1.43-.59-.52 0-1.04.2-1.43.59L10.3 9.45l-7.72 7.72c-.78.78-.78 2.05 0 2.83L4 21.41c.39.39.9.59 1.41.59.51 0 1.02-.2 1.41-.59l7.78-7.78 2.81-2.81c.8-.78.8-2.07 0-2.86zM5.41 20L4 18.59l7.72-7.72 1.47 1.35L5.41 20z\"/>\n",
              "  </svg>\n",
              "      </button>\n",
              "      \n",
              "  <style>\n",
              "    .colab-df-container {\n",
              "      display:flex;\n",
              "      flex-wrap:wrap;\n",
              "      gap: 12px;\n",
              "    }\n",
              "\n",
              "    .colab-df-convert {\n",
              "      background-color: #E8F0FE;\n",
              "      border: none;\n",
              "      border-radius: 50%;\n",
              "      cursor: pointer;\n",
              "      display: none;\n",
              "      fill: #1967D2;\n",
              "      height: 32px;\n",
              "      padding: 0 0 0 0;\n",
              "      width: 32px;\n",
              "    }\n",
              "\n",
              "    .colab-df-convert:hover {\n",
              "      background-color: #E2EBFA;\n",
              "      box-shadow: 0px 1px 2px rgba(60, 64, 67, 0.3), 0px 1px 3px 1px rgba(60, 64, 67, 0.15);\n",
              "      fill: #174EA6;\n",
              "    }\n",
              "\n",
              "    [theme=dark] .colab-df-convert {\n",
              "      background-color: #3B4455;\n",
              "      fill: #D2E3FC;\n",
              "    }\n",
              "\n",
              "    [theme=dark] .colab-df-convert:hover {\n",
              "      background-color: #434B5C;\n",
              "      box-shadow: 0px 1px 3px 1px rgba(0, 0, 0, 0.15);\n",
              "      filter: drop-shadow(0px 1px 2px rgba(0, 0, 0, 0.3));\n",
              "      fill: #FFFFFF;\n",
              "    }\n",
              "  </style>\n",
              "\n",
              "      <script>\n",
              "        const buttonEl =\n",
              "          document.querySelector('#df-5227a0c8-1bf4-4f32-ad6f-d4fcfcf5be9e button.colab-df-convert');\n",
              "        buttonEl.style.display =\n",
              "          google.colab.kernel.accessAllowed ? 'block' : 'none';\n",
              "\n",
              "        async function convertToInteractive(key) {\n",
              "          const element = document.querySelector('#df-5227a0c8-1bf4-4f32-ad6f-d4fcfcf5be9e');\n",
              "          const dataTable =\n",
              "            await google.colab.kernel.invokeFunction('convertToInteractive',\n",
              "                                                     [key], {});\n",
              "          if (!dataTable) return;\n",
              "\n",
              "          const docLinkHtml = 'Like what you see? Visit the ' +\n",
              "            '<a target=\"_blank\" href=https://colab.research.google.com/notebooks/data_table.ipynb>data table notebook</a>'\n",
              "            + ' to learn more about interactive tables.';\n",
              "          element.innerHTML = '';\n",
              "          dataTable['output_type'] = 'display_data';\n",
              "          await google.colab.output.renderOutput(dataTable, element);\n",
              "          const docLink = document.createElement('div');\n",
              "          docLink.innerHTML = docLinkHtml;\n",
              "          element.appendChild(docLink);\n",
              "        }\n",
              "      </script>\n",
              "    </div>\n",
              "  </div>\n",
              "  "
            ]
          },
          "metadata": {},
          "execution_count": 14
        }
      ]
    },
    {
      "cell_type": "code",
      "source": [
        "# Xdata = min(data_ap1):(max(data_ap1)-min(data_ap1))/80:max(data_ap1); \n",
        "sns.histplot(data_ap1, stat='density', kde=True, kde_kws={'cut':0.05})"
      ],
      "metadata": {
        "colab": {
          "base_uri": "https://localhost:8080/",
          "height": 282
        },
        "id": "No35zMubaQEh",
        "outputId": "e5e233fb-bb66-430c-9f84-5f03777f5d8f"
      },
      "execution_count": 15,
      "outputs": [
        {
          "output_type": "execute_result",
          "data": {
            "text/plain": [
              "<matplotlib.axes._subplots.AxesSubplot at 0x7fbddc089110>"
            ]
          },
          "metadata": {},
          "execution_count": 15
        },
        {
          "output_type": "display_data",
          "data": {
            "text/plain": [
              "<Figure size 432x288 with 1 Axes>"
            ],
            "image/png": "[encoded data removed]"
          },
          "metadata": {
            "needs_background": "light"
          }
        }
      ]
    },
    {
      "cell_type": "code",
      "source": [
        ""
      ],
      "metadata": {
        "id": "r9Enux5mhsKi"
      },
      "execution_count": 15,
      "outputs": []
    },
    {
      "cell_type": "code",
      "source": [
        "list(data_ap1)"
      ],
      "metadata": {
        "colab": {
          "base_uri": "https://localhost:8080/"
        },
        "id": "CRH7FRWrhrXn",
        "outputId": "a8f96379-cfd7-4d66-95ed-59ead66654ee"
      },
      "execution_count": 16,
      "outputs": [
        {
          "output_type": "execute_result",
          "data": {
            "text/plain": [
              "[0]"
            ]
          },
          "metadata": {},
          "execution_count": 16
        }
      ]
    },
    {
      "cell_type": "code",
      "source": [
        "for idx, var in enumerate(list(data_ap1)):\n",
        "  print(idx)"
      ],
      "metadata": {
        "colab": {
          "base_uri": "https://localhost:8080/"
        },
        "id": "eOMcYiUOhg9W",
        "outputId": "6437d63a-5292-40e4-b141-0462a81b3897"
      },
      "execution_count": 17,
      "outputs": [
        {
          "output_type": "stream",
          "name": "stdout",
          "text": [
            "0\n"
          ]
        }
      ]
    },
    {
      "cell_type": "code",
      "source": [
        "len(lines2D)"
      ],
      "metadata": {
        "colab": {
          "base_uri": "https://localhost:8080/"
        },
        "id": "0XKigsDRiK0r",
        "outputId": "7c599c98-2d45-4dc2-c69d-fe46200c8fc7"
      },
      "execution_count": 24,
      "outputs": [
        {
          "output_type": "execute_result",
          "data": {
            "text/plain": [
              "61"
            ]
          },
          "metadata": {},
          "execution_count": 24
        }
      ]
    },
    {
      "cell_type": "code",
      "source": [
        "data = []\n",
        "\n",
        "for idx, var in enumerate(list(data_ap1)):\n",
        "    myPlot = sns.distplot(data_ap1[var])\n",
        "    \n",
        "    # Fine Line2D objects\n",
        "    lines2D = [obj for obj in myPlot.findobj() if str(type(obj)) == \"<class 'matplotlib.lines.Line2D'>\"]\n",
        "    \n",
        "    # Retrieving x, y data\n",
        "    x, y = lines2D[idx].get_data()[0], lines2D[idx].get_data()[1]\n",
        "    \n",
        "    # Store as dataframe \n",
        "    data.append(pd.DataFrame({'x':x, 'y':y}))"
      ],
      "metadata": {
        "colab": {
          "base_uri": "https://localhost:8080/",
          "height": 334
        },
        "id": "_AqmeopZdRCv",
        "outputId": "dc1ee1c6-e383-41e8-ab26-ae30c66183f6"
      },
      "execution_count": 18,
      "outputs": [
        {
          "output_type": "stream",
          "name": "stderr",
          "text": [
            "/usr/local/lib/python3.7/dist-packages/seaborn/distributions.py:2619: FutureWarning: `distplot` is a deprecated function and will be removed in a future version. Please adapt your code to use either `displot` (a figure-level function with similar flexibility) or `histplot` (an axes-level function for histograms).\n",
            "  warnings.warn(msg, FutureWarning)\n"
          ]
        },
        {
          "output_type": "display_data",
          "data": {
            "text/plain": [
              "<Figure size 432x288 with 1 Axes>"
            ],
            "image/png": "[encoded data removed]"
          },
          "metadata": {
            "needs_background": "light"
          }
        }
      ]
    },
    {
      "cell_type": "code",
      "source": [
        "data"
      ],
      "metadata": {
        "colab": {
          "base_uri": "https://localhost:8080/"
        },
        "id": "kAo3XJEedbH_",
        "outputId": "e9680d05-2ef9-40d3-e58a-f1ebccac95d0"
      },
      "execution_count": 19,
      "outputs": [
        {
          "output_type": "execute_result",
          "data": {
            "text/plain": [
              "[             x             y\n",
              " 0   -27.813229  8.299785e-07\n",
              " 1   -27.616614  2.084253e-06\n",
              " 2   -27.419999  4.710982e-06\n",
              " 3   -27.223385  9.584073e-06\n",
              " 4   -27.026770  1.754957e-05\n",
              " ..         ...           ...\n",
              " 195  10.526656  2.101295e-05\n",
              " 196  10.723271  1.085517e-05\n",
              " 197  10.919886  5.133471e-06\n",
              " 198  11.116501  2.211274e-06\n",
              " 199  11.313115  8.644891e-07\n",
              " \n",
              " [200 rows x 2 columns]]"
            ]
          },
          "metadata": {},
          "execution_count": 19
        }
      ]
    },
    {
      "cell_type": "code",
      "source": [
        "plt.scatter(data[0]['x'],data[0]['y'])"
      ],
      "metadata": {
        "colab": {
          "base_uri": "https://localhost:8080/",
          "height": 282
        },
        "id": "FE2vLyFGdpRx",
        "outputId": "7e358415-4d00-497a-9028-aef080f9091f"
      },
      "execution_count": 20,
      "outputs": [
        {
          "output_type": "execute_result",
          "data": {
            "text/plain": [
              "<matplotlib.collections.PathCollection at 0x7fbde1fec6d0>"
            ]
          },
          "metadata": {},
          "execution_count": 20
        },
        {
          "output_type": "display_data",
          "data": {
            "text/plain": [
              "<Figure size 432x288 with 1 Axes>"
            ],
            "image/png": "[encoded data removed]"
          },
          "metadata": {
            "needs_background": "light"
          }
        }
      ]
    },
    {
      "cell_type": "code",
      "source": [
        "+\n",
        "data_ap1.describe()"
      ],
      "metadata": {
        "colab": {
          "base_uri": "https://localhost:8080/",
          "height": 130
        },
        "id": "sDNtVTL_W0Xx",
        "outputId": "da280065-e4fb-4842-eeda-c4989d9ea617"
      },
      "execution_count": 21,
      "outputs": [
        {
          "output_type": "error",
          "ename": "SyntaxError",
          "evalue": "ignored",
          "traceback": [
            "\u001b[0;36m  File \u001b[0;32m\"<ipython-input-21-008ae55c0d21>\"\u001b[0;36m, line \u001b[0;32m1\u001b[0m\n\u001b[0;31m    +\u001b[0m\n\u001b[0m     ^\u001b[0m\n\u001b[0;31mSyntaxError\u001b[0m\u001b[0;31m:\u001b[0m invalid syntax\n"
          ]
        }
      ]
    },
    {
      "cell_type": "code",
      "source": [
        "data_ap1.describe()"
      ],
      "metadata": {
        "id": "vE1Qyo_RW4Of"
      },
      "execution_count": null,
      "outputs": []
    },
    {
      "cell_type": "code",
      "source": [
        "pathAB['AP1'].describe()"
      ],
      "metadata": {
        "id": "qrrgtCiPXZLd"
      },
      "execution_count": null,
      "outputs": []
    },
    {
      "cell_type": "code",
      "source": [
        "pathAB['AP1'].plot(kind='kde')"
      ],
      "metadata": {
        "id": "5t3cswjjXH2m"
      },
      "execution_count": null,
      "outputs": []
    },
    {
      "cell_type": "code",
      "source": [
        "# data_ap1 = 20*np.log(data_ap1)"
      ],
      "metadata": {
        "id": "nJAU7NiSXU62"
      },
      "execution_count": null,
      "outputs": []
    },
    {
      "cell_type": "code",
      "source": [
        "data_ap1"
      ],
      "metadata": {
        "id": "qOepoCxXZigJ"
      },
      "execution_count": null,
      "outputs": []
    },
    {
      "cell_type": "code",
      "source": [
        "# data_ap1.replace([np.inf, -np.inf], np.nan, inplace=True)\n",
        "# data_ap1.dropna(inplace=True)"
      ],
      "metadata": {
        "id": "ge0d1USAYoAZ"
      },
      "execution_count": null,
      "outputs": []
    },
    {
      "cell_type": "code",
      "source": [
        "data_ap1.plot(kind='kde')"
      ],
      "metadata": {
        "id": "squyLfFhYpAz"
      },
      "execution_count": null,
      "outputs": []
    },
    {
      "cell_type": "code",
      "source": [
        ""
      ],
      "metadata": {
        "id": "Y9jBMG28ZKUU"
      },
      "execution_count": null,
      "outputs": []
    }
  ]
}