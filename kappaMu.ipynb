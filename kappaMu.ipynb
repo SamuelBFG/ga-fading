{
  "nbformat": 4,
  "nbformat_minor": 0,
  "metadata": {
    "colab": {
      "name": "kappaMu.ipynb",
      "provenance": [],
      "collapsed_sections": [],
      "authorship_tag": "ABX9TyN0Gz06xaGD8UjQy1/UVqza",
      "include_colab_link": true
    },
    "kernelspec": {
      "name": "python3",
      "display_name": "Python 3"
    },
    "language_info": {
      "name": "python"
    }
  },
  "cells": [
    {
      "cell_type": "markdown",
      "metadata": {
        "id": "view-in-github",
        "colab_type": "text"
      },
      "source": [
        "<a href=\"https://colab.research.google.com/github/SamuelBFG/ga-fading/blob/main/kappaMu.ipynb\" target=\"_parent\"><img src=\"https://colab.research.google.com/assets/colab-badge.svg\" alt=\"Open In Colab\"/></a>"
      ]
    },
    {
      "cell_type": "code",
      "execution_count": 245,
      "metadata": {
        "id": "xD3Vs18AcoV7"
      },
      "outputs": [],
      "source": [
        "from scipy import special as sp\n",
        "import numpy as np\n",
        "import matplotlib.pyplot as plt\n",
        "import math\n",
        "import seaborn as sns\n",
        "from scipy.stats import gaussian_kde as kdf\n",
        "\n",
        "class KappaMu():\n",
        "    \"KappaMu fading distribution\"\n",
        "    r = np.linspace(0, 3, 3000) # theoretical envelope PDF x axes\n",
        "    def __init__(self, kappa, mu, r_hat, numSamples, numSim):\n",
        "      # Parameters\n",
        "      self.kappa = kappa\n",
        "      self.mu = mu\n",
        "      self.r_hat = r_hat  \n",
        "      self.numSamples = numSamples\n",
        "      self.numSim = numSim\n",
        "\n",
        "      # For simulated densities\n",
        "      self.generateSamples = self.generateSamples()\n",
        "      self.X, self.Y = self.envelopeDensity(self.numSamples)\n",
        "\n",
        "    def _pdf(self):\n",
        "      A = (2*self.mu * ((1 + self.kappa)**((self.mu+1)/2))) \\\n",
        "              /((self.kappa**((self.mu - 1)/2)) * np.exp(self.mu * self.kappa))\n",
        "      R = self.r / self.r_hat\n",
        "      B = (R**self.mu) * np.exp(- self.mu*(1 + self.kappa)*(R**2))\n",
        "      C = sp.iv(self.mu - 1, 2*self.mu * R * np.sqrt(self.kappa*(1 + self.kappa)))\n",
        "      PDF = A * B * C / self.r_hat \n",
        "      return PDF\n",
        "\n",
        "    def scatteredComponent(self):\n",
        "      # scattered_Component calculates the power of the scattered signal component\n",
        "    \n",
        "      sigma = self.r_hat / np.sqrt( 2 * self.mu * (1+self.kappa) )\n",
        "    \n",
        "      return sigma\n",
        "\n",
        "    def generate_Gaussians(self, mean, sigma):\n",
        "      # generate_Gaussians generates the Gaussian random variables\n",
        "      gaussians = np.random.default_rng().normal(mean, sigma, self.numSim)\n",
        "        \n",
        "      return gaussians\n",
        "\n",
        "    def generateSamples(self):\n",
        "      # Generates complex fading random variables\n",
        "      \n",
        "      p_i, q_i = self.calculateMeans()\n",
        "      sigma = self.scatteredComponent()\n",
        "      \n",
        "      fading = 0\n",
        "      for i in range(int(self.mu)):\n",
        "          X_i = self.generate_Gaussians(p_i, sigma)\n",
        "          Y_i = self.generate_Gaussians(q_i, sigma)\n",
        "          fading = fading + X_i**(2) + Y_i**(2)  \n",
        "      return fading\n",
        "\n",
        "    def calculateMeans(self):\n",
        "    # calculate_means calculates the means of the complex Gaussians representing the\n",
        "    # in-phase and quadrature components\n",
        "    \n",
        "      d2 = (self.r_hat**(2) * self.kappa)/(1 + self.kappa);\n",
        "    \n",
        "      p_i = np.sqrt(d2/(2*self.mu))\n",
        "      q_i = np.copy(p_i)\n",
        "        \n",
        "      return p_i, q_i\n",
        "\n",
        "    def envelopeDensity(self, numSamples):\n",
        "      '''\n",
        "      Function for returning X and Y axes for each\n",
        "      densities for each simulated sample\n",
        "      '''\n",
        "        # envelopeDensity finds the envelope PDF of the simulated random variables\n",
        "        \n",
        "      R = np.sqrt(self.generateSamples)\n",
        "      kde = kdf(R)\n",
        "      x = np.linspace(R.min(), R.max(), numSamples)\n",
        "      y = kde(x)\n",
        "      \n",
        "      return x, y\n"
      ]
    },
    {
      "cell_type": "code",
      "source": [
        "kappamu = KappaMu(kappa=1, mu=4, r_hat=1, numSamples=100, numSim=10**6)\n",
        "\n",
        "# r = np.linspace(0 + 1e-50, 6, 6000)\n",
        "plt.plot(kappamu.r, kappamu._pdf());\n",
        "plt.grid(True)"
      ],
      "metadata": {
        "colab": {
          "base_uri": "https://localhost:8080/",
          "height": 265
        },
        "id": "daQP_GssrDRw",
        "outputId": "02b9a8ef-9e51-4611-97ef-31ffb621aa53"
      },
      "execution_count": 246,
      "outputs": [
        {
          "output_type": "display_data",
          "data": {
            "text/plain": [
              "<Figure size 432x288 with 1 Axes>"
            ],
            "image/png": "[encoded data removed]"
          },
          "metadata": {
            "needs_background": "light"
          }
        }
      ]
    },
    {
      "cell_type": "code",
      "source": [
        "kappamu.r[:5]"
      ],
      "metadata": {
        "colab": {
          "base_uri": "https://localhost:8080/"
        },
        "id": "cq_hqxyIFYCL",
        "outputId": "286517f6-1044-4f78-dd5a-6e14aa7b1e65"
      },
      "execution_count": 247,
      "outputs": [
        {
          "output_type": "execute_result",
          "data": {
            "text/plain": [
              "array([0.        , 0.00100033, 0.00200067, 0.003001  , 0.00400133])"
            ]
          },
          "metadata": {},
          "execution_count": 247
        }
      ]
    },
    {
      "cell_type": "code",
      "source": [
        "kappamu.X[:5]"
      ],
      "metadata": {
        "colab": {
          "base_uri": "https://localhost:8080/"
        },
        "id": "eayX0CpzFa-A",
        "outputId": "8e2e6b0b-405e-4472-c83b-e0d7e10f892a"
      },
      "execution_count": 248,
      "outputs": [
        {
          "output_type": "execute_result",
          "data": {
            "text/plain": [
              "array([0.15900882, 0.17793388, 0.19685893, 0.21578398, 0.23470904])"
            ]
          },
          "metadata": {},
          "execution_count": 248
        }
      ]
    },
    {
      "cell_type": "code",
      "source": [
        "plt.figure(figsize=(10,7))\n",
        "plt.grid(True)\n",
        "plt.plot(kappamu.r, kappamu._pdf(), 'b', label='Theoretical')\n",
        "plt.plot(kappamu.X[1:len(kappamu.X):2], kappamu.Y[1:len(kappamu.Y):2], \"k.\", label='Simulation')\n",
        "plt.title(r'$\\kappa-\\mu$', size=35)\n",
        "plt.ylabel(r'pdf $f_{R}(r)$', rotation=90, size=15)\n",
        "plt.xlabel(r'r', size=20)\n",
        "plt.legend()\n",
        "plt.show();"
      ],
      "metadata": {
        "colab": {
          "base_uri": "https://localhost:8080/",
          "height": 485
        },
        "id": "AzmUM2kL-Y5w",
        "outputId": "4b3d4326-4d9f-456f-8427-607353bd01b4"
      },
      "execution_count": 285,
      "outputs": [
        {
          "output_type": "display_data",
          "data": {
            "text/plain": [
              "<Figure size 720x504 with 1 Axes>"
            ],
            "image/png": "[encoded data removed]"
          },
          "metadata": {
            "needs_background": "light"
          }
        }
      ]
    },
    {
      "cell_type": "markdown",
      "source": [
        ""
      ],
      "metadata": {
        "id": "7qKDD7vvCT4c"
      }
    }
  ]
}