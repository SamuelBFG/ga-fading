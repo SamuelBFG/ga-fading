{
  "nbformat": 4,
  "nbformat_minor": 0,
  "metadata": {
    "colab": {
      "name": "AIC_working_example.ipynb",
      "provenance": [],
      "authorship_tag": "ABX9TyM4nP0UeR5XRvevCENwfbcR",
      "include_colab_link": true
    },
    "kernelspec": {
      "name": "python3",
      "display_name": "Python 3"
    },
    "language_info": {
      "name": "python"
    }
  },
  "cells": [
    {
      "cell_type": "markdown",
      "metadata": {
        "id": "view-in-github",
        "colab_type": "text"
      },
      "source": [
        "<a href=\"https://colab.research.google.com/github/SamuelBFG/ga-fading/blob/main/AIC_working_example.ipynb\" target=\"_parent\"><img src=\"https://colab.research.google.com/assets/colab-badge.svg\" alt=\"Open In Colab\"/></a>"
      ]
    },
    {
      "cell_type": "code",
      "source": [
        "import os\n",
        "import numpy as np\n",
        "import pandas as pd\n",
        "import seaborn as sns\n",
        "import random\n",
        "import matplotlib.pyplot as plt\n",
        "from scipy import special as sp\n",
        "from scipy.stats import gaussian_kde\n",
        "from scipy.io import loadmat\n",
        "from sklearn.neighbors import KernelDensity\n",
        "\n",
        "plt.rcParams.update({'figure.max_open_warning': 0})\n",
        "%matplotlib inline\n",
        "\n",
        "## Set up directories\n",
        "paths = ['plots', \n",
        "            'plots/gen/', \n",
        "        ]\n",
        "for i in paths:\n",
        "    if not os.path.exists(i):\n",
        "        os.makedirs(i)"
      ],
      "metadata": {
        "id": "OvYKCRkZ4Ia-"
      },
      "execution_count": 3,
      "outputs": []
    },
    {
      "cell_type": "code",
      "execution_count": 29,
      "metadata": {
        "id": "qnYjLSZewTA8"
      },
      "outputs": [],
      "source": [
        "data_dBm = pd.read_csv('/content/P_dBm_out_LOS_Head_Indoor.txt', sep=\" \", header=None).transpose().dropna().reset_index(drop=True)"
      ]
    },
    {
      "cell_type": "code",
      "source": [
        "data_dBm.describe()"
      ],
      "metadata": {
        "colab": {
          "base_uri": "https://localhost:8080/",
          "height": 300
        },
        "id": "_4aJF9bH4QR6",
        "outputId": "84617642-b676-4c39-9496-8d7e4e446ce5"
      },
      "execution_count": 30,
      "outputs": [
        {
          "output_type": "execute_result",
          "data": {
            "text/plain": [
              "                   0\n",
              "count  181144.000000\n",
              "mean      -59.800541\n",
              "std         6.614254\n",
              "min      -101.912900\n",
              "25%       -63.651613\n",
              "50%       -59.441935\n",
              "75%       -55.325806\n",
              "max       -43.725806"
            ],
            "text/html": [
              "\n",
              "  <div id=\"df-a76cff15-9929-4074-a7ac-4eb28387ad35\">\n",
              "    <div class=\"colab-df-container\">\n",
              "      <div>\n",
              "<style scoped>\n",
              "    .dataframe tbody tr th:only-of-type {\n",
              "        vertical-align: middle;\n",
              "    }\n",
              "\n",
              "    .dataframe tbody tr th {\n",
              "        vertical-align: top;\n",
              "    }\n",
              "\n",
              "    .dataframe thead th {\n",
              "        text-align: right;\n",
              "    }\n",
              "</style>\n",
              "<table border=\"1\" class=\"dataframe\">\n",
              "  <thead>\n",
              "    <tr style=\"text-align: right;\">\n",
              "      <th></th>\n",
              "      <th>0</th>\n",
              "    </tr>\n",
              "  </thead>\n",
              "  <tbody>\n",
              "    <tr>\n",
              "      <th>count</th>\n",
              "      <td>181144.000000</td>\n",
              "    </tr>\n",
              "    <tr>\n",
              "      <th>mean</th>\n",
              "      <td>-59.800541</td>\n",
              "    </tr>\n",
              "    <tr>\n",
              "      <th>std</th>\n",
              "      <td>6.614254</td>\n",
              "    </tr>\n",
              "    <tr>\n",
              "      <th>min</th>\n",
              "      <td>-101.912900</td>\n",
              "    </tr>\n",
              "    <tr>\n",
              "      <th>25%</th>\n",
              "      <td>-63.651613</td>\n",
              "    </tr>\n",
              "    <tr>\n",
              "      <th>50%</th>\n",
              "      <td>-59.441935</td>\n",
              "    </tr>\n",
              "    <tr>\n",
              "      <th>75%</th>\n",
              "      <td>-55.325806</td>\n",
              "    </tr>\n",
              "    <tr>\n",
              "      <th>max</th>\n",
              "      <td>-43.725806</td>\n",
              "    </tr>\n",
              "  </tbody>\n",
              "</table>\n",
              "</div>\n",
              "      <button class=\"colab-df-convert\" onclick=\"convertToInteractive('df-a76cff15-9929-4074-a7ac-4eb28387ad35')\"\n",
              "              title=\"Convert this dataframe to an interactive table.\"\n",
              "              style=\"display:none;\">\n",
              "        \n",
              "  <svg xmlns=\"http://www.w3.org/2000/svg\" height=\"24px\"viewBox=\"0 0 24 24\"\n",
              "       width=\"24px\">\n",
              "    <path d=\"M0 0h24v24H0V0z\" fill=\"none\"/>\n",
              "    <path d=\"M18.56 5.44l.94 2.06.94-2.06 2.06-.94-2.06-.94-.94-2.06-.94 2.06-2.06.94zm-11 1L8.5 8.5l.94-2.06 2.06-.94-2.06-.94L8.5 2.5l-.94 2.06-2.06.94zm10 10l.94 2.06.94-2.06 2.06-.94-2.06-.94-.94-2.06-.94 2.06-2.06.94z\"/><path d=\"M17.41 7.96l-1.37-1.37c-.4-.4-.92-.59-1.43-.59-.52 0-1.04.2-1.43.59L10.3 9.45l-7.72 7.72c-.78.78-.78 2.05 0 2.83L4 21.41c.39.39.9.59 1.41.59.51 0 1.02-.2 1.41-.59l7.78-7.78 2.81-2.81c.8-.78.8-2.07 0-2.86zM5.41 20L4 18.59l7.72-7.72 1.47 1.35L5.41 20z\"/>\n",
              "  </svg>\n",
              "      </button>\n",
              "      \n",
              "  <style>\n",
              "    .colab-df-container {\n",
              "      display:flex;\n",
              "      flex-wrap:wrap;\n",
              "      gap: 12px;\n",
              "    }\n",
              "\n",
              "    .colab-df-convert {\n",
              "      background-color: #E8F0FE;\n",
              "      border: none;\n",
              "      border-radius: 50%;\n",
              "      cursor: pointer;\n",
              "      display: none;\n",
              "      fill: #1967D2;\n",
              "      height: 32px;\n",
              "      padding: 0 0 0 0;\n",
              "      width: 32px;\n",
              "    }\n",
              "\n",
              "    .colab-df-convert:hover {\n",
              "      background-color: #E2EBFA;\n",
              "      box-shadow: 0px 1px 2px rgba(60, 64, 67, 0.3), 0px 1px 3px 1px rgba(60, 64, 67, 0.15);\n",
              "      fill: #174EA6;\n",
              "    }\n",
              "\n",
              "    [theme=dark] .colab-df-convert {\n",
              "      background-color: #3B4455;\n",
              "      fill: #D2E3FC;\n",
              "    }\n",
              "\n",
              "    [theme=dark] .colab-df-convert:hover {\n",
              "      background-color: #434B5C;\n",
              "      box-shadow: 0px 1px 3px 1px rgba(0, 0, 0, 0.15);\n",
              "      filter: drop-shadow(0px 1px 2px rgba(0, 0, 0, 0.3));\n",
              "      fill: #FFFFFF;\n",
              "    }\n",
              "  </style>\n",
              "\n",
              "      <script>\n",
              "        const buttonEl =\n",
              "          document.querySelector('#df-a76cff15-9929-4074-a7ac-4eb28387ad35 button.colab-df-convert');\n",
              "        buttonEl.style.display =\n",
              "          google.colab.kernel.accessAllowed ? 'block' : 'none';\n",
              "\n",
              "        async function convertToInteractive(key) {\n",
              "          const element = document.querySelector('#df-a76cff15-9929-4074-a7ac-4eb28387ad35');\n",
              "          const dataTable =\n",
              "            await google.colab.kernel.invokeFunction('convertToInteractive',\n",
              "                                                     [key], {});\n",
              "          if (!dataTable) return;\n",
              "\n",
              "          const docLinkHtml = 'Like what you see? Visit the ' +\n",
              "            '<a target=\"_blank\" href=https://colab.research.google.com/notebooks/data_table.ipynb>data table notebook</a>'\n",
              "            + ' to learn more about interactive tables.';\n",
              "          element.innerHTML = '';\n",
              "          dataTable['output_type'] = 'display_data';\n",
              "          await google.colab.output.renderOutput(dataTable, element);\n",
              "          const docLink = document.createElement('div');\n",
              "          docLink.innerHTML = docLinkHtml;\n",
              "          element.appendChild(docLink);\n",
              "        }\n",
              "      </script>\n",
              "    </div>\n",
              "  </div>\n",
              "  "
            ]
          },
          "metadata": {},
          "execution_count": 30
        }
      ]
    },
    {
      "cell_type": "code",
      "source": [
        "data_dBm"
      ],
      "metadata": {
        "colab": {
          "base_uri": "https://localhost:8080/",
          "height": 424
        },
        "id": "BSDq-an140gF",
        "outputId": "c5014493-9879-4ab8-b5d0-86ea0c47d44d"
      },
      "execution_count": 31,
      "outputs": [
        {
          "output_type": "execute_result",
          "data": {
            "text/plain": [
              "                0\n",
              "0      -49.058065\n",
              "1      -49.151613\n",
              "2      -49.151613\n",
              "3      -49.151613\n",
              "4      -49.245161\n",
              "...           ...\n",
              "181139 -62.716129\n",
              "181140 -62.529032\n",
              "181141 -62.716129\n",
              "181142 -62.622581\n",
              "181143 -62.716129\n",
              "\n",
              "[181144 rows x 1 columns]"
            ],
            "text/html": [
              "\n",
              "  <div id=\"df-7567019f-e94a-481e-87aa-746bf65240e9\">\n",
              "    <div class=\"colab-df-container\">\n",
              "      <div>\n",
              "<style scoped>\n",
              "    .dataframe tbody tr th:only-of-type {\n",
              "        vertical-align: middle;\n",
              "    }\n",
              "\n",
              "    .dataframe tbody tr th {\n",
              "        vertical-align: top;\n",
              "    }\n",
              "\n",
              "    .dataframe thead th {\n",
              "        text-align: right;\n",
              "    }\n",
              "</style>\n",
              "<table border=\"1\" class=\"dataframe\">\n",
              "  <thead>\n",
              "    <tr style=\"text-align: right;\">\n",
              "      <th></th>\n",
              "      <th>0</th>\n",
              "    </tr>\n",
              "  </thead>\n",
              "  <tbody>\n",
              "    <tr>\n",
              "      <th>0</th>\n",
              "      <td>-49.058065</td>\n",
              "    </tr>\n",
              "    <tr>\n",
              "      <th>1</th>\n",
              "      <td>-49.151613</td>\n",
              "    </tr>\n",
              "    <tr>\n",
              "      <th>2</th>\n",
              "      <td>-49.151613</td>\n",
              "    </tr>\n",
              "    <tr>\n",
              "      <th>3</th>\n",
              "      <td>-49.151613</td>\n",
              "    </tr>\n",
              "    <tr>\n",
              "      <th>4</th>\n",
              "      <td>-49.245161</td>\n",
              "    </tr>\n",
              "    <tr>\n",
              "      <th>...</th>\n",
              "      <td>...</td>\n",
              "    </tr>\n",
              "    <tr>\n",
              "      <th>181139</th>\n",
              "      <td>-62.716129</td>\n",
              "    </tr>\n",
              "    <tr>\n",
              "      <th>181140</th>\n",
              "      <td>-62.529032</td>\n",
              "    </tr>\n",
              "    <tr>\n",
              "      <th>181141</th>\n",
              "      <td>-62.716129</td>\n",
              "    </tr>\n",
              "    <tr>\n",
              "      <th>181142</th>\n",
              "      <td>-62.622581</td>\n",
              "    </tr>\n",
              "    <tr>\n",
              "      <th>181143</th>\n",
              "      <td>-62.716129</td>\n",
              "    </tr>\n",
              "  </tbody>\n",
              "</table>\n",
              "<p>181144 rows × 1 columns</p>\n",
              "</div>\n",
              "      <button class=\"colab-df-convert\" onclick=\"convertToInteractive('df-7567019f-e94a-481e-87aa-746bf65240e9')\"\n",
              "              title=\"Convert this dataframe to an interactive table.\"\n",
              "              style=\"display:none;\">\n",
              "        \n",
              "  <svg xmlns=\"http://www.w3.org/2000/svg\" height=\"24px\"viewBox=\"0 0 24 24\"\n",
              "       width=\"24px\">\n",
              "    <path d=\"M0 0h24v24H0V0z\" fill=\"none\"/>\n",
              "    <path d=\"M18.56 5.44l.94 2.06.94-2.06 2.06-.94-2.06-.94-.94-2.06-.94 2.06-2.06.94zm-11 1L8.5 8.5l.94-2.06 2.06-.94-2.06-.94L8.5 2.5l-.94 2.06-2.06.94zm10 10l.94 2.06.94-2.06 2.06-.94-2.06-.94-.94-2.06-.94 2.06-2.06.94z\"/><path d=\"M17.41 7.96l-1.37-1.37c-.4-.4-.92-.59-1.43-.59-.52 0-1.04.2-1.43.59L10.3 9.45l-7.72 7.72c-.78.78-.78 2.05 0 2.83L4 21.41c.39.39.9.59 1.41.59.51 0 1.02-.2 1.41-.59l7.78-7.78 2.81-2.81c.8-.78.8-2.07 0-2.86zM5.41 20L4 18.59l7.72-7.72 1.47 1.35L5.41 20z\"/>\n",
              "  </svg>\n",
              "      </button>\n",
              "      \n",
              "  <style>\n",
              "    .colab-df-container {\n",
              "      display:flex;\n",
              "      flex-wrap:wrap;\n",
              "      gap: 12px;\n",
              "    }\n",
              "\n",
              "    .colab-df-convert {\n",
              "      background-color: #E8F0FE;\n",
              "      border: none;\n",
              "      border-radius: 50%;\n",
              "      cursor: pointer;\n",
              "      display: none;\n",
              "      fill: #1967D2;\n",
              "      height: 32px;\n",
              "      padding: 0 0 0 0;\n",
              "      width: 32px;\n",
              "    }\n",
              "\n",
              "    .colab-df-convert:hover {\n",
              "      background-color: #E2EBFA;\n",
              "      box-shadow: 0px 1px 2px rgba(60, 64, 67, 0.3), 0px 1px 3px 1px rgba(60, 64, 67, 0.15);\n",
              "      fill: #174EA6;\n",
              "    }\n",
              "\n",
              "    [theme=dark] .colab-df-convert {\n",
              "      background-color: #3B4455;\n",
              "      fill: #D2E3FC;\n",
              "    }\n",
              "\n",
              "    [theme=dark] .colab-df-convert:hover {\n",
              "      background-color: #434B5C;\n",
              "      box-shadow: 0px 1px 3px 1px rgba(0, 0, 0, 0.15);\n",
              "      filter: drop-shadow(0px 1px 2px rgba(0, 0, 0, 0.3));\n",
              "      fill: #FFFFFF;\n",
              "    }\n",
              "  </style>\n",
              "\n",
              "      <script>\n",
              "        const buttonEl =\n",
              "          document.querySelector('#df-7567019f-e94a-481e-87aa-746bf65240e9 button.colab-df-convert');\n",
              "        buttonEl.style.display =\n",
              "          google.colab.kernel.accessAllowed ? 'block' : 'none';\n",
              "\n",
              "        async function convertToInteractive(key) {\n",
              "          const element = document.querySelector('#df-7567019f-e94a-481e-87aa-746bf65240e9');\n",
              "          const dataTable =\n",
              "            await google.colab.kernel.invokeFunction('convertToInteractive',\n",
              "                                                     [key], {});\n",
              "          if (!dataTable) return;\n",
              "\n",
              "          const docLinkHtml = 'Like what you see? Visit the ' +\n",
              "            '<a target=\"_blank\" href=https://colab.research.google.com/notebooks/data_table.ipynb>data table notebook</a>'\n",
              "            + ' to learn more about interactive tables.';\n",
              "          element.innerHTML = '';\n",
              "          dataTable['output_type'] = 'display_data';\n",
              "          await google.colab.output.renderOutput(dataTable, element);\n",
              "          const docLink = document.createElement('div');\n",
              "          docLink.innerHTML = docLinkHtml;\n",
              "          element.appendChild(docLink);\n",
              "        }\n",
              "      </script>\n",
              "    </div>\n",
              "  </div>\n",
              "  "
            ]
          },
          "metadata": {},
          "execution_count": 31
        }
      ]
    },
    {
      "cell_type": "markdown",
      "source": [
        "## Working on implementing AIC "
      ],
      "metadata": {
        "id": "djxIM3WRtfLg"
      }
    },
    {
      "cell_type": "code",
      "source": [
        "nExtractedSamples = 81"
      ],
      "metadata": {
        "id": "-DOe3QsG7VC-"
      },
      "execution_count": 34,
      "outputs": []
    },
    {
      "cell_type": "code",
      "source": [
        "def dBm2mV(dBm):\n",
        "  \n",
        "  mV =  np.power(10, (dBm + 46.9897)/20)\n",
        "  return mV"
      ],
      "metadata": {
        "id": "JYjDSj9dNs3-"
      },
      "execution_count": 32,
      "outputs": []
    },
    {
      "cell_type": "code",
      "source": [
        "data_mV = dBm2mV(data_dBm)\n",
        "globalMean = data_mV.mean()\n",
        "data_mV = data_mV / globalMean\n",
        "data_mV"
      ],
      "metadata": {
        "colab": {
          "base_uri": "https://localhost:8080/",
          "height": 424
        },
        "id": "wFz3HV9VNfF5",
        "outputId": "a97d33c9-2cbe-4364-d01f-b36ae8661587"
      },
      "execution_count": 33,
      "outputs": [
        {
          "output_type": "execute_result",
          "data": {
            "text/plain": [
              "               0\n",
              "0       2.649921\n",
              "1       2.621534\n",
              "2       2.621534\n",
              "3       2.621534\n",
              "4       2.593451\n",
              "...          ...\n",
              "181139  0.549958\n",
              "181140  0.561933\n",
              "181141  0.549958\n",
              "181142  0.555913\n",
              "181143  0.549958\n",
              "\n",
              "[181144 rows x 1 columns]"
            ],
            "text/html": [
              "\n",
              "  <div id=\"df-4724ec1c-8f2d-49a8-af3c-0f451345d100\">\n",
              "    <div class=\"colab-df-container\">\n",
              "      <div>\n",
              "<style scoped>\n",
              "    .dataframe tbody tr th:only-of-type {\n",
              "        vertical-align: middle;\n",
              "    }\n",
              "\n",
              "    .dataframe tbody tr th {\n",
              "        vertical-align: top;\n",
              "    }\n",
              "\n",
              "    .dataframe thead th {\n",
              "        text-align: right;\n",
              "    }\n",
              "</style>\n",
              "<table border=\"1\" class=\"dataframe\">\n",
              "  <thead>\n",
              "    <tr style=\"text-align: right;\">\n",
              "      <th></th>\n",
              "      <th>0</th>\n",
              "    </tr>\n",
              "  </thead>\n",
              "  <tbody>\n",
              "    <tr>\n",
              "      <th>0</th>\n",
              "      <td>2.649921</td>\n",
              "    </tr>\n",
              "    <tr>\n",
              "      <th>1</th>\n",
              "      <td>2.621534</td>\n",
              "    </tr>\n",
              "    <tr>\n",
              "      <th>2</th>\n",
              "      <td>2.621534</td>\n",
              "    </tr>\n",
              "    <tr>\n",
              "      <th>3</th>\n",
              "      <td>2.621534</td>\n",
              "    </tr>\n",
              "    <tr>\n",
              "      <th>4</th>\n",
              "      <td>2.593451</td>\n",
              "    </tr>\n",
              "    <tr>\n",
              "      <th>...</th>\n",
              "      <td>...</td>\n",
              "    </tr>\n",
              "    <tr>\n",
              "      <th>181139</th>\n",
              "      <td>0.549958</td>\n",
              "    </tr>\n",
              "    <tr>\n",
              "      <th>181140</th>\n",
              "      <td>0.561933</td>\n",
              "    </tr>\n",
              "    <tr>\n",
              "      <th>181141</th>\n",
              "      <td>0.549958</td>\n",
              "    </tr>\n",
              "    <tr>\n",
              "      <th>181142</th>\n",
              "      <td>0.555913</td>\n",
              "    </tr>\n",
              "    <tr>\n",
              "      <th>181143</th>\n",
              "      <td>0.549958</td>\n",
              "    </tr>\n",
              "  </tbody>\n",
              "</table>\n",
              "<p>181144 rows × 1 columns</p>\n",
              "</div>\n",
              "      <button class=\"colab-df-convert\" onclick=\"convertToInteractive('df-4724ec1c-8f2d-49a8-af3c-0f451345d100')\"\n",
              "              title=\"Convert this dataframe to an interactive table.\"\n",
              "              style=\"display:none;\">\n",
              "        \n",
              "  <svg xmlns=\"http://www.w3.org/2000/svg\" height=\"24px\"viewBox=\"0 0 24 24\"\n",
              "       width=\"24px\">\n",
              "    <path d=\"M0 0h24v24H0V0z\" fill=\"none\"/>\n",
              "    <path d=\"M18.56 5.44l.94 2.06.94-2.06 2.06-.94-2.06-.94-.94-2.06-.94 2.06-2.06.94zm-11 1L8.5 8.5l.94-2.06 2.06-.94-2.06-.94L8.5 2.5l-.94 2.06-2.06.94zm10 10l.94 2.06.94-2.06 2.06-.94-2.06-.94-.94-2.06-.94 2.06-2.06.94z\"/><path d=\"M17.41 7.96l-1.37-1.37c-.4-.4-.92-.59-1.43-.59-.52 0-1.04.2-1.43.59L10.3 9.45l-7.72 7.72c-.78.78-.78 2.05 0 2.83L4 21.41c.39.39.9.59 1.41.59.51 0 1.02-.2 1.41-.59l7.78-7.78 2.81-2.81c.8-.78.8-2.07 0-2.86zM5.41 20L4 18.59l7.72-7.72 1.47 1.35L5.41 20z\"/>\n",
              "  </svg>\n",
              "      </button>\n",
              "      \n",
              "  <style>\n",
              "    .colab-df-container {\n",
              "      display:flex;\n",
              "      flex-wrap:wrap;\n",
              "      gap: 12px;\n",
              "    }\n",
              "\n",
              "    .colab-df-convert {\n",
              "      background-color: #E8F0FE;\n",
              "      border: none;\n",
              "      border-radius: 50%;\n",
              "      cursor: pointer;\n",
              "      display: none;\n",
              "      fill: #1967D2;\n",
              "      height: 32px;\n",
              "      padding: 0 0 0 0;\n",
              "      width: 32px;\n",
              "    }\n",
              "\n",
              "    .colab-df-convert:hover {\n",
              "      background-color: #E2EBFA;\n",
              "      box-shadow: 0px 1px 2px rgba(60, 64, 67, 0.3), 0px 1px 3px 1px rgba(60, 64, 67, 0.15);\n",
              "      fill: #174EA6;\n",
              "    }\n",
              "\n",
              "    [theme=dark] .colab-df-convert {\n",
              "      background-color: #3B4455;\n",
              "      fill: #D2E3FC;\n",
              "    }\n",
              "\n",
              "    [theme=dark] .colab-df-convert:hover {\n",
              "      background-color: #434B5C;\n",
              "      box-shadow: 0px 1px 3px 1px rgba(0, 0, 0, 0.15);\n",
              "      filter: drop-shadow(0px 1px 2px rgba(0, 0, 0, 0.3));\n",
              "      fill: #FFFFFF;\n",
              "    }\n",
              "  </style>\n",
              "\n",
              "      <script>\n",
              "        const buttonEl =\n",
              "          document.querySelector('#df-4724ec1c-8f2d-49a8-af3c-0f451345d100 button.colab-df-convert');\n",
              "        buttonEl.style.display =\n",
              "          google.colab.kernel.accessAllowed ? 'block' : 'none';\n",
              "\n",
              "        async function convertToInteractive(key) {\n",
              "          const element = document.querySelector('#df-4724ec1c-8f2d-49a8-af3c-0f451345d100');\n",
              "          const dataTable =\n",
              "            await google.colab.kernel.invokeFunction('convertToInteractive',\n",
              "                                                     [key], {});\n",
              "          if (!dataTable) return;\n",
              "\n",
              "          const docLinkHtml = 'Like what you see? Visit the ' +\n",
              "            '<a target=\"_blank\" href=https://colab.research.google.com/notebooks/data_table.ipynb>data table notebook</a>'\n",
              "            + ' to learn more about interactive tables.';\n",
              "          element.innerHTML = '';\n",
              "          dataTable['output_type'] = 'display_data';\n",
              "          await google.colab.output.renderOutput(dataTable, element);\n",
              "          const docLink = document.createElement('div');\n",
              "          docLink.innerHTML = docLinkHtml;\n",
              "          element.appendChild(docLink);\n",
              "        }\n",
              "      </script>\n",
              "    </div>\n",
              "  </div>\n",
              "  "
            ]
          },
          "metadata": {},
          "execution_count": 33
        }
      ]
    },
    {
      "cell_type": "code",
      "source": [
        "Xdata = np.linspace(data_mV.min(), data_mV.max(), nExtractedSamples).reshape(-1, 1)\n",
        "kde = KernelDensity(kernel='gaussian', bandwidth=0.07).fit(data_mV.values.reshape(-1, 1))\n",
        "logkde = kde.score_samples(Xdata)\n",
        "Ydata = np.exp(logkde).reshape(-1,1)\n",
        "plt.figure(figsize=(10,7))\n",
        "plt.scatter(Xdata[::3], Ydata[::3], c='black')\n",
        "plt.title('Linear plot')\n",
        "plt.ylabel('Density')\n",
        "plt.xlabel('dB')\n",
        "plt.grid()\n",
        "plt.show()"
      ],
      "metadata": {
        "colab": {
          "base_uri": "https://localhost:8080/",
          "height": 458
        },
        "id": "mROaUnfP-vgL",
        "outputId": "07034dc0-779b-4a53-cc85-f161ede946a0"
      },
      "execution_count": 45,
      "outputs": [
        {
          "output_type": "display_data",
          "data": {
            "text/plain": [
              "<Figure size 720x504 with 1 Axes>"
            ],
            "image/png": "[encoded data removed]"
          },
          "metadata": {
            "needs_background": "light"
          }
        }
      ]
    },
    {
      "cell_type": "code",
      "source": [
        "mle_kappa_mu = [0.0100000000000222, 0.794245863440659, 0.984845553504606]\n",
        "\n",
        "mle_shadowed_kappa_mu = [2.50378514576399, 1.04171495240545, 1.52666133132221, 0.238939978717897]\n",
        "\n",
        "mle_rice = [0.0260577235710763, 0.884270540895972]\n",
        "rice_K = (mle_rice[0]**2) / (2*mle_rice[1]**2)\n",
        "rice_omega = (mle_rice[0]**2) + (2*mle_rice[1]**2)\n",
        "\n",
        "mle_nak = [0.631008863728655, 1.56440816925206]\n",
        "nak_m = mle_nak[0]\n",
        "nak_omega = mle_nak[1]\n",
        "\n",
        "def computePDF(r, kappa, mu, omega):\n",
        "  '''\n",
        "  kappa-mu pdf.\n",
        "  '''\n",
        "\n",
        "  A = (2*mu * ((1 + kappa)**((mu+1)/2))) \\\n",
        "          /(np.sqrt(omega) * (kappa**((mu-1)/2)) * np.exp(mu * kappa))\n",
        "          # /((kappa**((mu - 1)/2)) * np.exp(mu * kappa))\n",
        "  # R = r / r_hat\n",
        "  B = (r / np.sqrt(omega))**(mu)\n",
        "  # B = (R**mu) * np.exp(- mu*(1 + kappa)*(R**2))\n",
        "  C = np.exp(-mu*(1+kappa) * (r/np.sqrt(omega))**2)\n",
        "  # C = sp.iv(mu - 1, 2*mu * R * np.sqrt(kappa*(1 + kappa)))\n",
        "  D = sp.iv(mu-1, 2*mu * np.sqrt(kappa * (1+kappa)) * (r/np.sqrt(omega)))\n",
        "\n",
        "  pdf = A * B * C * D\n",
        "  return pdf"
      ],
      "metadata": {
        "id": "xrmv95JQpZCZ"
      },
      "execution_count": 49,
      "outputs": []
    },
    {
      "cell_type": "code",
      "source": [
        "k_u_pdf = computePDF(Xdata, mle_kappa_mu[0], mle_kappa_mu[1], mle_kappa_mu[2])\n",
        "plt.figure(figsize=(10,7))\n",
        "plt.scatter(Xdata[::3], Ydata[::3], c='black')\n",
        "plt.plot(Xdata, k_u_pdf, c='blue')\n",
        "plt.title('Linear plot')\n",
        "plt.ylabel('Density')\n",
        "plt.xlabel('dB')\n",
        "plt.grid()\n",
        "plt.show()"
      ],
      "metadata": {
        "colab": {
          "base_uri": "https://localhost:8080/",
          "height": 458
        },
        "id": "Snoe0pDrNNVb",
        "outputId": "3211c0c6-6540-46f2-f80a-5fbf72d4001a"
      },
      "execution_count": 52,
      "outputs": [
        {
          "output_type": "display_data",
          "data": {
            "text/plain": [
              "<Figure size 720x504 with 1 Axes>"
            ],
            "image/png": "[encoded data removed]"
          },
          "metadata": {
            "needs_background": "light"
          }
        }
      ]
    },
    {
      "cell_type": "code",
      "source": [
        "def kldiv(pVec1, pVec2):\n",
        "  '''\n",
        "  Kullback-Leibler divergence.\n",
        "  '''\n",
        "  KL = np.sum(pVec1*(np.log2(pVec1)-np.log2(pVec2)))\n",
        "  return KL\n",
        "\n",
        "def RAD(kldiv1, kldiv2):\n",
        "  '''\n",
        "  Resistor-Average Distance.\n",
        "  '''\n",
        "  RAD = 1/(1/kldiv1+1/kldiv2)\n",
        "  return RAD\n",
        "\n",
        "\n",
        "def fitness(X, Y, fitnessType, kappa, mu, omega):\n",
        "  '''\n",
        "  Fitness function (MSE/RAD) to determine how good a given solution is.\n",
        "  '''\n",
        "  if fitnessType == 'MSE':\n",
        "    y_pred = computePDF(X, kappa, mu, omega)\n",
        "    n = len(Y)\n",
        "    cost = 1/n * sum(val**2 for val in (Y-y_pred))\n",
        "    return 1/cost\n",
        "  elif fitnessType == 'RAD':\n",
        "    pVec1 = Y/np.sum(Y)\n",
        "    pVec2 = computePDF(X, kappa, mu, omega)/np.sum(computePDF(X, kappa, mu, omega))\n",
        "    KLD_1 = kldiv(pVec1, pVec2)\n",
        "    KLD_2 = kldiv(pVec2, pVec1)\n",
        "    cost = RAD(KLD_1, KLD_2)\n",
        "    return 1/cost\n",
        "\n",
        "\n",
        "def geneticAlgorithm(X, Y, mleResults):\n",
        "  '''\n",
        "  Evolutionary Loop\n",
        "  '''\n",
        "  solutions = []\n",
        "  bestParams = []\n",
        "  bestCriteria = 0\n",
        "  bestGen = 0\n",
        "\n",
        "\n",
        "  # Generate solutions (chromossomes)\n",
        "  for s in range(nPopulation):\n",
        "    solutions.append((random.uniform(0.01, 10), # kappa\n",
        "                        random.uniform(0.1, 1.0), # mu\n",
        "                        random.uniform(0.1, 1.0))) # r_hat^2\n",
        "\n",
        "  # Evolutionary Loop\n",
        "  for i in range(nMaxGen):\n",
        "    rankedSolutions = []\t\n",
        "    for s in solutions:\n",
        "      rankedSolutions.append( (fitness(X, Y, fitnessType, s[0],s[1],s[2]), s) )\n",
        "    rankedSolutions.sort()\n",
        "    rankedSolutions.reverse()\n",
        "    \n",
        "    print(f'=== Generation: {i} === ')\n",
        "    print(f'Fitness: {rankedSolutions[0][0]}')\n",
        "    print('Best individual:')\n",
        "    print(f'Kappa: {rankedSolutions[0][1][0]}')\n",
        "    print(f'Mu: {rankedSolutions[0][1][1]}')\n",
        "    print(f'Omega: {rankedSolutions[0][1][2]}\\n')\n",
        "\n",
        "    plt.figure(figsize=((10,7)))\n",
        "    plt.plot(20*np.log10(X), computePDF(X, rankedSolutions[0][1][0], rankedSolutions[0][1][1], rankedSolutions[0][1][2]), label='Predicted')\n",
        "    plt.scatter(20*np.log10(X), Y, color='m', label='Real')\n",
        "    plt.plot(20*np.log10(X), computePDF(X, mleResults[0], mleResults[1], mleResults[2]), label='Nidhi\\'s MLE')\n",
        "    plt.title(f'=== Generation: {i} === ')\n",
        "    plt.legend()\n",
        "    plt.grid(True)\n",
        "    plt.xlabel(r'$\\rho=r/\\hat{r}$')\n",
        "    plt.ylabel('pdf')\n",
        "    if savePlots: \n",
        "      plt.savefig(f'plots/gen/gen_{i}.png')\n",
        "    \n",
        "    if showPlots:\n",
        "      plt.show()\n",
        "      plt.clf()\n",
        "    else: \n",
        "      plt.clf()\n",
        "\n",
        "    # Keeping track the best params and generation:\n",
        "    if rankedSolutions[0][0] > bestCriteria:\n",
        "      bestCriteria = rankedSolutions[0][0]\n",
        "      bestGen = i\n",
        "      bestParams = rankedSolutions[0][1]\n",
        "\n",
        "    # Stop Criterion: Fitness > 150 (TRIAL AND ERROR)\n",
        "    # if rankedSolutions[0][0] > 152.8:\n",
        "    #   print('='*10+'\\n'+'Stopped by fitness criteria!\\n'+'='*10+'\\n')\n",
        "    #   # print('='*10)\n",
        "    #   # print('Stopped by fitness criteria!')\n",
        "    #   # print('='*10)\n",
        "    #   print('Best Fitness: {}\\nBest Gen: {}'.format(bestCriteria, bestGen))\n",
        "    #   print('Kappa: {}\\nMu: {}\\nOmega: {}'.format(bestParams[0],bestParams[1],bestParams[2]))\n",
        "    #   break\n",
        "\n",
        "    # Combine the best solutions and make a new solution of those combined solutions\n",
        "    bestSolutions = rankedSolutions[:100]\n",
        "    elements_kappa = []\n",
        "    elements_mu = []\n",
        "    elements_omega = [] \n",
        "    for s in bestSolutions:\n",
        "      elements_kappa.append(s[1][0])\n",
        "      elements_mu.append(s[1][1])\n",
        "      elements_omega.append(s[1][2])\n",
        "\n",
        "    newGen = []\n",
        "    for _ in range(nPopulation):\n",
        "      e1 = random.choice(elements_kappa) * random.uniform(0.975,1.025) # Mutation of 5%\n",
        "      e2 = random.choice(elements_mu) * random.uniform(0.975,1.025) # Mutation of 5%\n",
        "      e3 = random.choice(elements_omega) * random.uniform(0.975,1.025) # Mutation of 5%\n",
        "      newGen.append((e1,e2,e3))\n",
        "\n",
        "    solutions = newGen\n",
        "    \n",
        "    if i == nMaxGen-1:\n",
        "      print('='*10+'\\n'+'Max number of generations exceeded!\\n'+'='*10+'\\n')\n",
        "      # print()\n",
        "      # print('='*10)\n",
        "      print('Best Fitness: {}\\nBest Gen: {}'.format(bestCriteria, bestGen))\n",
        "      print('Kappa: {}\\nMu: {}\\nOmega: {}'.format(bestParams[0],bestParams[1],bestParams[2]))\n",
        "\n",
        "      return bestParams[0],bestParams[1],bestParams[2]"
      ],
      "metadata": {
        "id": "_BJVsTx7LQ5F"
      },
      "execution_count": 60,
      "outputs": []
    },
    {
      "cell_type": "code",
      "source": [
        "### PARAMETERS\n",
        "nMaxGen = 50\n",
        "nPopulation = 1000\n",
        "savePlots = True\n",
        "showPlots = False\n",
        "fitnessType = 'MSE'\n",
        "nExtractedSamples = 81\n",
        "# nAP = 'AP2'\n",
        "kappa_hat, mu_hat, omega_hat = geneticAlgorithm(Xdata, Ydata, mle_kappa_mu)"
      ],
      "metadata": {
        "colab": {
          "base_uri": "https://localhost:8080/",
          "height": 1000
        },
        "id": "QzIwvxNiOs7v",
        "outputId": "407697a7-1428-4e12-d8cc-cb0e87f7da2c"
      },
      "execution_count": 57,
      "outputs": [
        {
          "output_type": "stream",
          "name": "stdout",
          "text": [
            "=== Generation: 0 === \n",
            "Fitness: [262.09770996]\n",
            "Best individual:\n",
            "Kappa: 0.05761128942506233\n",
            "Mu: 0.8691267878133857\n",
            "Omega: 0.8518094921941632\n",
            "\n",
            "=== Generation: 1 === \n",
            "Fitness: [323.17753156]\n",
            "Best individual:\n",
            "Kappa: 0.028722896912409753\n",
            "Mu: 0.7960344982065077\n",
            "Omega: 0.9561505836408527\n",
            "\n",
            "=== Generation: 2 === \n",
            "Fitness: [324.88279111]\n",
            "Best individual:\n",
            "Kappa: 0.02899021856769452\n",
            "Mu: 0.8042564549083594\n",
            "Omega: 0.9692672642732715\n",
            "\n",
            "=== Generation: 3 === \n",
            "Fitness: [325.85734827]\n",
            "Best individual:\n",
            "Kappa: 0.026703824506155598\n",
            "Mu: 0.7952835809879808\n",
            "Omega: 0.9900439543710495\n",
            "\n",
            "=== Generation: 4 === \n",
            "Fitness: [325.96718401]\n",
            "Best individual:\n",
            "Kappa: 0.027997079246950548\n",
            "Mu: 0.794059577809168\n",
            "Omega: 0.9854653921301237\n",
            "\n",
            "=== Generation: 5 === \n",
            "Fitness: [325.95927468]\n",
            "Best individual:\n",
            "Kappa: 0.028051951497994214\n",
            "Mu: 0.795203731222239\n",
            "Omega: 0.983585251009509\n",
            "\n",
            "=== Generation: 6 === \n",
            "Fitness: [326.01769804]\n",
            "Best individual:\n",
            "Kappa: 0.025347318223983045\n",
            "Mu: 0.79535509058826\n",
            "Omega: 0.9840942503946946\n",
            "\n",
            "=== Generation: 7 === \n",
            "Fitness: [326.02270652]\n",
            "Best individual:\n",
            "Kappa: 0.02556261956680557\n",
            "Mu: 0.7942557790361822\n",
            "Omega: 0.985115893517155\n",
            "\n",
            "=== Generation: 8 === \n",
            "Fitness: [326.00134325]\n",
            "Best individual:\n",
            "Kappa: 0.02532620414969248\n",
            "Mu: 0.7958496579547886\n",
            "Omega: 0.9849513114224848\n",
            "\n",
            "=== Generation: 9 === \n",
            "Fitness: [326.02991428]\n",
            "Best individual:\n",
            "Kappa: 0.025049586205658923\n",
            "Mu: 0.7948296031215655\n",
            "Omega: 0.9836322481500139\n",
            "\n",
            "=== Generation: 10 === \n",
            "Fitness: [326.03470083]\n",
            "Best individual:\n",
            "Kappa: 0.02431926189217325\n",
            "Mu: 0.7935267187171946\n",
            "Omega: 0.9868891642484549\n",
            "\n",
            "=== Generation: 11 === \n",
            "Fitness: [325.99578381]\n",
            "Best individual:\n",
            "Kappa: 0.026555861284672827\n",
            "Mu: 0.7935360682002683\n",
            "Omega: 0.98601479574162\n",
            "\n",
            "=== Generation: 12 === \n",
            "Fitness: [326.01752915]\n",
            "Best individual:\n",
            "Kappa: 0.02442194573385108\n",
            "Mu: 0.7927399994090938\n",
            "Omega: 0.9875810639100637\n",
            "\n",
            "=== Generation: 13 === \n",
            "Fitness: [326.02434433]\n",
            "Best individual:\n",
            "Kappa: 0.024977382305247202\n",
            "Mu: 0.7934665087754942\n",
            "Omega: 0.9836188575566408\n",
            "\n",
            "=== Generation: 14 === \n",
            "Fitness: [326.03396026]\n",
            "Best individual:\n",
            "Kappa: 0.024916645400893247\n",
            "Mu: 0.7946064709190196\n",
            "Omega: 0.9851349284883478\n",
            "\n",
            "=== Generation: 15 === \n",
            "Fitness: [326.01120264]\n",
            "Best individual:\n",
            "Kappa: 0.02545364080188525\n",
            "Mu: 0.795554527065541\n",
            "Omega: 0.9841756038359587\n",
            "\n",
            "=== Generation: 16 === \n",
            "Fitness: [326.05009226]\n",
            "Best individual:\n",
            "Kappa: 0.02423627735379426\n",
            "Mu: 0.793967114691523\n",
            "Omega: 0.9843340547058087\n",
            "\n",
            "=== Generation: 17 === \n",
            "Fitness: [326.03257994]\n",
            "Best individual:\n",
            "Kappa: 0.02465568570634157\n",
            "Mu: 0.7943181977596259\n",
            "Omega: 0.9862526187034604\n",
            "\n",
            "=== Generation: 18 === \n",
            "Fitness: [326.03495113]\n",
            "Best individual:\n",
            "Kappa: 0.024284022603475376\n",
            "Mu: 0.7941895213663973\n",
            "Omega: 0.9825999503951394\n",
            "\n",
            "=== Generation: 19 === \n",
            "Fitness: [326.03220799]\n",
            "Best individual:\n",
            "Kappa: 0.024135372210411437\n",
            "Mu: 0.7946805742693419\n",
            "Omega: 0.9820509695850284\n",
            "\n",
            "=== Generation: 20 === \n",
            "Fitness: [326.04593463]\n",
            "Best individual:\n",
            "Kappa: 0.024365413275598328\n",
            "Mu: 0.7943577810188582\n",
            "Omega: 0.9853905357574041\n",
            "\n",
            "=== Generation: 21 === \n",
            "Fitness: [326.05044565]\n",
            "Best individual:\n",
            "Kappa: 0.024092476952166573\n",
            "Mu: 0.7935016498178934\n",
            "Omega: 0.9853407980943042\n",
            "\n",
            "=== Generation: 22 === \n",
            "Fitness: [326.04561488]\n",
            "Best individual:\n",
            "Kappa: 0.022964491963312333\n",
            "Mu: 0.7934897490296718\n",
            "Omega: 0.9878817447882888\n",
            "\n",
            "=== Generation: 23 === \n",
            "Fitness: [326.04875472]\n",
            "Best individual:\n",
            "Kappa: 0.02371707492140605\n",
            "Mu: 0.7932885651993831\n",
            "Omega: 0.9866242298520036\n",
            "\n",
            "=== Generation: 24 === \n",
            "Fitness: [326.04714836]\n",
            "Best individual:\n",
            "Kappa: 0.022970649255314522\n",
            "Mu: 0.792421576871197\n",
            "Omega: 0.9870343453663443\n",
            "\n",
            "=== Generation: 25 === \n",
            "Fitness: [326.0760116]\n",
            "Best individual:\n",
            "Kappa: 0.02226311069351465\n",
            "Mu: 0.7947785143095815\n",
            "Omega: 0.9860937467359406\n",
            "\n",
            "=== Generation: 26 === \n",
            "Fitness: [326.05201918]\n",
            "Best individual:\n",
            "Kappa: 0.023769979671345295\n",
            "Mu: 0.7945141124971923\n",
            "Omega: 0.9859493438636253\n",
            "\n",
            "=== Generation: 27 === \n",
            "Fitness: [326.04433161]\n",
            "Best individual:\n",
            "Kappa: 0.023978253614072336\n",
            "Mu: 0.7929411231988078\n",
            "Omega: 0.9858243240022181\n",
            "\n",
            "=== Generation: 28 === \n",
            "Fitness: [326.07338796]\n",
            "Best individual:\n",
            "Kappa: 0.023041615102455684\n",
            "Mu: 0.7945494306957371\n",
            "Omega: 0.9840981804361474\n",
            "\n",
            "=== Generation: 29 === \n",
            "Fitness: [326.05993216]\n",
            "Best individual:\n",
            "Kappa: 0.022396606619386552\n",
            "Mu: 0.7954655345155458\n",
            "Omega: 0.9859638016189893\n",
            "\n",
            "=== Generation: 30 === \n",
            "Fitness: [326.07387648]\n",
            "Best individual:\n",
            "Kappa: 0.023051948056406677\n",
            "Mu: 0.79388377033508\n",
            "Omega: 0.9847786281031534\n",
            "\n",
            "=== Generation: 31 === \n",
            "Fitness: [326.08476475]\n",
            "Best individual:\n",
            "Kappa: 0.022196290576688395\n",
            "Mu: 0.793446954735326\n",
            "Omega: 0.9844549858319689\n",
            "\n",
            "=== Generation: 32 === \n",
            "Fitness: [326.09184863]\n",
            "Best individual:\n",
            "Kappa: 0.022116792035284487\n",
            "Mu: 0.7943689700596669\n",
            "Omega: 0.9848412599987201\n",
            "\n",
            "=== Generation: 33 === \n",
            "Fitness: [326.07311496]\n",
            "Best individual:\n",
            "Kappa: 0.02301051509381049\n",
            "Mu: 0.7936409182733111\n",
            "Omega: 0.9851161807612877\n",
            "\n",
            "=== Generation: 34 === \n",
            "Fitness: [326.09900216]\n",
            "Best individual:\n",
            "Kappa: 0.02161052626727063\n",
            "Mu: 0.7939072657138143\n",
            "Omega: 0.9841608126111027\n",
            "\n",
            "=== Generation: 35 === \n",
            "Fitness: [326.08797009]\n",
            "Best individual:\n",
            "Kappa: 0.021353850256852738\n",
            "Mu: 0.7926649970600904\n",
            "Omega: 0.9859843717564314\n",
            "\n",
            "=== Generation: 36 === \n",
            "Fitness: [326.08754141]\n",
            "Best individual:\n",
            "Kappa: 0.020986036856410574\n",
            "Mu: 0.7957549682329987\n",
            "Omega: 0.9823281079244631\n",
            "\n",
            "=== Generation: 37 === \n",
            "Fitness: [326.10521544]\n",
            "Best individual:\n",
            "Kappa: 0.021303348666129943\n",
            "Mu: 0.793782477617432\n",
            "Omega: 0.9845940124907501\n",
            "\n",
            "=== Generation: 38 === \n",
            "Fitness: [326.1059365]\n",
            "Best individual:\n",
            "Kappa: 0.019842198173589936\n",
            "Mu: 0.7943262284745222\n",
            "Omega: 0.9873662651019749\n",
            "\n",
            "=== Generation: 39 === \n",
            "Fitness: [326.10002378]\n",
            "Best individual:\n",
            "Kappa: 0.020464846059099078\n",
            "Mu: 0.7933656409124932\n",
            "Omega: 0.9831056386535079\n",
            "\n",
            "=== Generation: 40 === \n",
            "Fitness: [326.13450486]\n",
            "Best individual:\n",
            "Kappa: 0.01965042919493242\n",
            "Mu: 0.7944744895907075\n",
            "Omega: 0.9842142612866531\n",
            "\n",
            "=== Generation: 41 === \n",
            "Fitness: [326.10851002]\n",
            "Best individual:\n",
            "Kappa: 0.02004075040828919\n",
            "Mu: 0.79358710738494\n",
            "Omega: 0.9873256620010019\n",
            "\n",
            "=== Generation: 42 === \n",
            "Fitness: [326.10349696]\n",
            "Best individual:\n",
            "Kappa: 0.02036281040638917\n",
            "Mu: 0.7957040942230834\n",
            "Omega: 0.9828229476398089\n",
            "\n",
            "=== Generation: 43 === \n",
            "Fitness: [326.13357464]\n",
            "Best individual:\n",
            "Kappa: 0.019510092031738518\n",
            "Mu: 0.7937913571480404\n",
            "Omega: 0.9858746938985414\n",
            "\n",
            "=== Generation: 44 === \n",
            "Fitness: [326.13285632]\n",
            "Best individual:\n",
            "Kappa: 0.019399037483973577\n",
            "Mu: 0.7949458749196588\n",
            "Omega: 0.9851504010491627\n",
            "\n",
            "=== Generation: 45 === \n",
            "Fitness: [326.10004531]\n",
            "Best individual:\n",
            "Kappa: 0.021145068092684786\n",
            "Mu: 0.7937046592154411\n",
            "Omega: 0.9835308547125203\n",
            "\n",
            "=== Generation: 46 === \n",
            "Fitness: [326.13515271]\n",
            "Best individual:\n",
            "Kappa: 0.019387425045635488\n",
            "Mu: 0.7944087493754175\n",
            "Omega: 0.9857074799220995\n",
            "\n",
            "=== Generation: 47 === \n",
            "Fitness: [326.16903728]\n",
            "Best individual:\n",
            "Kappa: 0.017169151533979955\n",
            "Mu: 0.794995318645691\n",
            "Omega: 0.984619043234754\n",
            "\n",
            "=== Generation: 48 === \n",
            "Fitness: [326.14851438]\n",
            "Best individual:\n",
            "Kappa: 0.01767967379289626\n",
            "Mu: 0.794398509219856\n",
            "Omega: 0.9868582108209559\n",
            "\n",
            "=== Generation: 49 === \n",
            "Fitness: [326.13604331]\n",
            "Best individual:\n",
            "Kappa: 0.019040623818776758\n",
            "Mu: 0.7937581645790773\n",
            "Omega: 0.9864846707176862\n",
            "\n",
            "==========\n",
            "Max number of generations exceeded!\n",
            "==========\n",
            "\n",
            "Best Fitness: [326.16903728]\n",
            "Best Gen: 47\n",
            "Kappa: 0.017169151533979955\n",
            "Mu: 0.794995318645691\n",
            "Omega: 0.984619043234754\n"
          ]
        },
        {
          "output_type": "display_data",
          "data": {
            "text/plain": [
              "<Figure size 720x504 with 0 Axes>"
            ]
          },
          "metadata": {}
        },
        {
          "output_type": "display_data",
          "data": {
            "text/plain": [
              "<Figure size 720x504 with 0 Axes>"
            ]
          },
          "metadata": {}
        },
        {
          "output_type": "display_data",
          "data": {
            "text/plain": [
              "<Figure size 720x504 with 0 Axes>"
            ]
          },
          "metadata": {}
        },
        {
          "output_type": "display_data",
          "data": {
            "text/plain": [
              "<Figure size 720x504 with 0 Axes>"
            ]
          },
          "metadata": {}
        },
        {
          "output_type": "display_data",
          "data": {
            "text/plain": [
              "<Figure size 720x504 with 0 Axes>"
            ]
          },
          "metadata": {}
        },
        {
          "output_type": "display_data",
          "data": {
            "text/plain": [
              "<Figure size 720x504 with 0 Axes>"
            ]
          },
          "metadata": {}
        },
        {
          "output_type": "display_data",
          "data": {
            "text/plain": [
              "<Figure size 720x504 with 0 Axes>"
            ]
          },
          "metadata": {}
        },
        {
          "output_type": "display_data",
          "data": {
            "text/plain": [
              "<Figure size 720x504 with 0 Axes>"
            ]
          },
          "metadata": {}
        },
        {
          "output_type": "display_data",
          "data": {
            "text/plain": [
              "<Figure size 720x504 with 0 Axes>"
            ]
          },
          "metadata": {}
        },
        {
          "output_type": "display_data",
          "data": {
            "text/plain": [
              "<Figure size 720x504 with 0 Axes>"
            ]
          },
          "metadata": {}
        },
        {
          "output_type": "display_data",
          "data": {
            "text/plain": [
              "<Figure size 720x504 with 0 Axes>"
            ]
          },
          "metadata": {}
        },
        {
          "output_type": "display_data",
          "data": {
            "text/plain": [
              "<Figure size 720x504 with 0 Axes>"
            ]
          },
          "metadata": {}
        },
        {
          "output_type": "display_data",
          "data": {
            "text/plain": [
              "<Figure size 720x504 with 0 Axes>"
            ]
          },
          "metadata": {}
        },
        {
          "output_type": "display_data",
          "data": {
            "text/plain": [
              "<Figure size 720x504 with 0 Axes>"
            ]
          },
          "metadata": {}
        },
        {
          "output_type": "display_data",
          "data": {
            "text/plain": [
              "<Figure size 720x504 with 0 Axes>"
            ]
          },
          "metadata": {}
        },
        {
          "output_type": "display_data",
          "data": {
            "text/plain": [
              "<Figure size 720x504 with 0 Axes>"
            ]
          },
          "metadata": {}
        },
        {
          "output_type": "display_data",
          "data": {
            "text/plain": [
              "<Figure size 720x504 with 0 Axes>"
            ]
          },
          "metadata": {}
        },
        {
          "output_type": "display_data",
          "data": {
            "text/plain": [
              "<Figure size 720x504 with 0 Axes>"
            ]
          },
          "metadata": {}
        },
        {
          "output_type": "display_data",
          "data": {
            "text/plain": [
              "<Figure size 720x504 with 0 Axes>"
            ]
          },
          "metadata": {}
        },
        {
          "output_type": "display_data",
          "data": {
            "text/plain": [
              "<Figure size 720x504 with 0 Axes>"
            ]
          },
          "metadata": {}
        },
        {
          "output_type": "display_data",
          "data": {
            "text/plain": [
              "<Figure size 720x504 with 0 Axes>"
            ]
          },
          "metadata": {}
        },
        {
          "output_type": "display_data",
          "data": {
            "text/plain": [
              "<Figure size 720x504 with 0 Axes>"
            ]
          },
          "metadata": {}
        },
        {
          "output_type": "display_data",
          "data": {
            "text/plain": [
              "<Figure size 720x504 with 0 Axes>"
            ]
          },
          "metadata": {}
        },
        {
          "output_type": "display_data",
          "data": {
            "text/plain": [
              "<Figure size 720x504 with 0 Axes>"
            ]
          },
          "metadata": {}
        },
        {
          "output_type": "display_data",
          "data": {
            "text/plain": [
              "<Figure size 720x504 with 0 Axes>"
            ]
          },
          "metadata": {}
        },
        {
          "output_type": "display_data",
          "data": {
            "text/plain": [
              "<Figure size 720x504 with 0 Axes>"
            ]
          },
          "metadata": {}
        },
        {
          "output_type": "display_data",
          "data": {
            "text/plain": [
              "<Figure size 720x504 with 0 Axes>"
            ]
          },
          "metadata": {}
        },
        {
          "output_type": "display_data",
          "data": {
            "text/plain": [
              "<Figure size 720x504 with 0 Axes>"
            ]
          },
          "metadata": {}
        },
        {
          "output_type": "display_data",
          "data": {
            "text/plain": [
              "<Figure size 720x504 with 0 Axes>"
            ]
          },
          "metadata": {}
        },
        {
          "output_type": "display_data",
          "data": {
            "text/plain": [
              "<Figure size 720x504 with 0 Axes>"
            ]
          },
          "metadata": {}
        },
        {
          "output_type": "display_data",
          "data": {
            "text/plain": [
              "<Figure size 720x504 with 0 Axes>"
            ]
          },
          "metadata": {}
        },
        {
          "output_type": "display_data",
          "data": {
            "text/plain": [
              "<Figure size 720x504 with 0 Axes>"
            ]
          },
          "metadata": {}
        },
        {
          "output_type": "display_data",
          "data": {
            "text/plain": [
              "<Figure size 720x504 with 0 Axes>"
            ]
          },
          "metadata": {}
        },
        {
          "output_type": "display_data",
          "data": {
            "text/plain": [
              "<Figure size 720x504 with 0 Axes>"
            ]
          },
          "metadata": {}
        },
        {
          "output_type": "display_data",
          "data": {
            "text/plain": [
              "<Figure size 720x504 with 0 Axes>"
            ]
          },
          "metadata": {}
        },
        {
          "output_type": "display_data",
          "data": {
            "text/plain": [
              "<Figure size 720x504 with 0 Axes>"
            ]
          },
          "metadata": {}
        },
        {
          "output_type": "display_data",
          "data": {
            "text/plain": [
              "<Figure size 720x504 with 0 Axes>"
            ]
          },
          "metadata": {}
        },
        {
          "output_type": "display_data",
          "data": {
            "text/plain": [
              "<Figure size 720x504 with 0 Axes>"
            ]
          },
          "metadata": {}
        },
        {
          "output_type": "display_data",
          "data": {
            "text/plain": [
              "<Figure size 720x504 with 0 Axes>"
            ]
          },
          "metadata": {}
        },
        {
          "output_type": "display_data",
          "data": {
            "text/plain": [
              "<Figure size 720x504 with 0 Axes>"
            ]
          },
          "metadata": {}
        },
        {
          "output_type": "display_data",
          "data": {
            "text/plain": [
              "<Figure size 720x504 with 0 Axes>"
            ]
          },
          "metadata": {}
        },
        {
          "output_type": "display_data",
          "data": {
            "text/plain": [
              "<Figure size 720x504 with 0 Axes>"
            ]
          },
          "metadata": {}
        },
        {
          "output_type": "display_data",
          "data": {
            "text/plain": [
              "<Figure size 720x504 with 0 Axes>"
            ]
          },
          "metadata": {}
        },
        {
          "output_type": "display_data",
          "data": {
            "text/plain": [
              "<Figure size 720x504 with 0 Axes>"
            ]
          },
          "metadata": {}
        },
        {
          "output_type": "display_data",
          "data": {
            "text/plain": [
              "<Figure size 720x504 with 0 Axes>"
            ]
          },
          "metadata": {}
        },
        {
          "output_type": "display_data",
          "data": {
            "text/plain": [
              "<Figure size 720x504 with 0 Axes>"
            ]
          },
          "metadata": {}
        },
        {
          "output_type": "display_data",
          "data": {
            "text/plain": [
              "<Figure size 720x504 with 0 Axes>"
            ]
          },
          "metadata": {}
        },
        {
          "output_type": "display_data",
          "data": {
            "text/plain": [
              "<Figure size 720x504 with 0 Axes>"
            ]
          },
          "metadata": {}
        },
        {
          "output_type": "display_data",
          "data": {
            "text/plain": [
              "<Figure size 720x504 with 0 Axes>"
            ]
          },
          "metadata": {}
        },
        {
          "output_type": "display_data",
          "data": {
            "text/plain": [
              "<Figure size 720x504 with 0 Axes>"
            ]
          },
          "metadata": {}
        }
      ]
    },
    {
      "cell_type": "code",
      "source": [
        "pVec1 = Ydata/np.sum(Ydata)\n",
        "pVec2 = computePDF(Xdata, kappa_hat, mu_hat, omega_hat)/np.sum(computePDF(Xdata, kappa_hat, mu_hat, omega_hat))\n",
        "\n",
        "\n",
        "KLD_1 = kldiv(pVec1, pVec2)\n",
        "KLD_2 = kldiv(pVec2, pVec1)\n",
        "\n",
        "print('Genetic Algorithm - Resistor-Average Distance:',RAD(KLD_1, KLD_2))"
      ],
      "metadata": {
        "colab": {
          "base_uri": "https://localhost:8080/"
        },
        "id": "u9BOvhOlDuVU",
        "outputId": "09c5fc47-b07c-4cf4-8e3c-46a48f290a1a"
      },
      "execution_count": 74,
      "outputs": [
        {
          "output_type": "stream",
          "name": "stdout",
          "text": [
            "Genetic Algorithm - Resistor-Average Distance: 0.06939636761607985\n"
          ]
        }
      ]
    },
    {
      "cell_type": "code",
      "source": [
        "pVec1 = Ydata/np.sum(Ydata)\n",
        "pVec2 = computePDF(Xdata, mle_kappa_mu[0], mle_kappa_mu[1], mle_kappa_mu[2])/np.sum(computePDF(Xdata, mle_kappa_mu[0], mle_kappa_mu[1], mle_kappa_mu[2]))\n",
        "\n",
        "\n",
        "KLD_1 = kldiv(pVec1, pVec2)\n",
        "KLD_2 = kldiv(pVec2, pVec1)\n",
        "\n",
        "print('MLE - Resistor-Average Distance:',RAD(KLD_1, KLD_2))"
      ],
      "metadata": {
        "colab": {
          "base_uri": "https://localhost:8080/"
        },
        "id": "AFux3ZTFDzCT",
        "outputId": "b37d37df-934a-40da-b228-90a25d198d4f"
      },
      "execution_count": 79,
      "outputs": [
        {
          "output_type": "stream",
          "name": "stdout",
          "text": [
            "MLE - Resistor-Average Distance: 0.06929630168711659\n"
          ]
        }
      ]
    },
    {
      "cell_type": "code",
      "source": [
        "kappa_hat, mu_hat, omega_hat"
      ],
      "metadata": {
        "colab": {
          "base_uri": "https://localhost:8080/"
        },
        "id": "nZEGwITLD38n",
        "outputId": "98d8b9d4-32ae-497d-f3e9-d733c10ed817"
      },
      "execution_count": 77,
      "outputs": [
        {
          "output_type": "execute_result",
          "data": {
            "text/plain": [
              "(0.017169151533979955, 0.794995318645691, 0.984619043234754)"
            ]
          },
          "metadata": {},
          "execution_count": 77
        }
      ]
    },
    {
      "cell_type": "code",
      "source": [
        "k_u_pdf = computePDF(Xdata, mle_kappa_mu[0], mle_kappa_mu[1], mle_kappa_mu[2])\n",
        "plt.figure(figsize=((10,7)))\n",
        "plt.scatter(Xdata, Ydata, c='black')\n",
        "plt.plot(Xdata, k_u_pdf, c='blue')\n",
        "plt.plot(Xdata, computePDF(Xdata, kappa_hat, mu_hat, omega_hat), c='red')\n",
        "plt.title(f'Best GA Fit')\n",
        "plt.legend()\n",
        "plt.grid(True)\n",
        "plt.xlabel(r'$dB$')\n",
        "plt.ylabel('pdf')\n",
        "plt.show()"
      ],
      "metadata": {
        "colab": {
          "base_uri": "https://localhost:8080/",
          "height": 478
        },
        "id": "Njx2FJOOEOZn",
        "outputId": "2f0d245c-4664-4c35-809b-9d6ed6b43119"
      },
      "execution_count": 80,
      "outputs": [
        {
          "output_type": "stream",
          "name": "stderr",
          "text": [
            "No handles with labels found to put in legend.\n"
          ]
        },
        {
          "output_type": "display_data",
          "data": {
            "text/plain": [
              "<Figure size 720x504 with 1 Axes>"
            ],
            "image/png": "[encoded data removed]"
          },
          "metadata": {
            "needs_background": "light"
          }
        }
      ]
    },
    {
      "cell_type": "code",
      "source": [
        "fitnessType = 'RAD'\n",
        "# X, Y = getDensityEstimationSamples(pathAB_linear[nAP].dropna(), nExtractedSamples)\n",
        "kappa_hat2, mu_hat2, omega_hat2 = geneticAlgorithm(Xdata,Ydata, mle_kappa_mu)"
      ],
      "metadata": {
        "id": "_2MEaaEjbCAz",
        "colab": {
          "base_uri": "https://localhost:8080/",
          "height": 1000
        },
        "outputId": "5997e8dc-570b-4c10-edde-b5782174bdbb"
      },
      "execution_count": 81,
      "outputs": [
        {
          "output_type": "stream",
          "name": "stderr",
          "text": [
            "/usr/local/lib/python3.7/dist-packages/ipykernel_launcher.py:5: RuntimeWarning: divide by zero encountered in log2\n",
            "  \"\"\"\n",
            "/usr/local/lib/python3.7/dist-packages/ipykernel_launcher.py:5: RuntimeWarning: invalid value encountered in multiply\n",
            "  \"\"\"\n"
          ]
        },
        {
          "output_type": "stream",
          "name": "stdout",
          "text": [
            "=== Generation: 0 === \n",
            "Fitness: 9.73428538870852\n",
            "Best individual:\n",
            "Kappa: 0.2618427862900586\n",
            "Mu: 0.9017870616012718\n",
            "Omega: 0.8757116606927197\n",
            "\n"
          ]
        },
        {
          "output_type": "stream",
          "name": "stderr",
          "text": [
            "/usr/local/lib/python3.7/dist-packages/ipykernel_launcher.py:5: RuntimeWarning: divide by zero encountered in log2\n",
            "  \"\"\"\n",
            "/usr/local/lib/python3.7/dist-packages/ipykernel_launcher.py:5: RuntimeWarning: invalid value encountered in multiply\n",
            "  \"\"\"\n"
          ]
        },
        {
          "output_type": "stream",
          "name": "stdout",
          "text": [
            "=== Generation: 1 === \n",
            "Fitness: nan\n",
            "Best individual:\n",
            "Kappa: 6.750174428595291\n",
            "Mu: 0.9546971122734333\n",
            "Omega: 0.22982875985653728\n",
            "\n",
            "=== Generation: 2 === \n",
            "Fitness: 14.67667854802306\n",
            "Best individual:\n",
            "Kappa: 0.12137244994740988\n",
            "Mu: 0.7083704817265304\n",
            "Omega: 0.9930056517908311\n",
            "\n",
            "=== Generation: 3 === \n",
            "Fitness: 16.39930788051153\n",
            "Best individual:\n",
            "Kappa: 0.08553761243662189\n",
            "Mu: 0.7040548724969418\n",
            "Omega: 1.0519966645527161\n",
            "\n",
            "=== Generation: 4 === \n",
            "Fitness: 16.8004437901979\n",
            "Best individual:\n",
            "Kappa: 0.08472856167580727\n",
            "Mu: 0.704237922112842\n",
            "Omega: 1.0668315535807198\n",
            "\n",
            "=== Generation: 5 === \n",
            "Fitness: 17.428301535637072\n",
            "Best individual:\n",
            "Kappa: 0.08308776314635147\n",
            "Mu: 0.7342520323233322\n",
            "Omega: 1.089218128592467\n",
            "\n",
            "=== Generation: 6 === \n",
            "Fitness: 18.211650981367704\n",
            "Best individual:\n",
            "Kappa: 0.08347799368583252\n",
            "Mu: 0.6988849048622334\n",
            "Omega: 1.1251042481086158\n",
            "\n",
            "=== Generation: 7 === \n",
            "Fitness: 18.77096180772136\n",
            "Best individual:\n",
            "Kappa: 0.08369596330123304\n",
            "Mu: 0.7280789913207513\n",
            "Omega: 1.149828259786159\n",
            "\n",
            "=== Generation: 8 === \n",
            "Fitness: 19.312361351027057\n",
            "Best individual:\n",
            "Kappa: 0.09362941639257132\n",
            "Mu: 0.7166528194176275\n",
            "Omega: 1.1782635749197274\n",
            "\n",
            "=== Generation: 9 === \n",
            "Fitness: 19.80388471275579\n",
            "Best individual:\n",
            "Kappa: 0.08454668215852518\n",
            "Mu: 0.7034819204513124\n",
            "Omega: 1.2029076390614917\n",
            "\n",
            "=== Generation: 10 === \n",
            "Fitness: 20.260989627927263\n",
            "Best individual:\n",
            "Kappa: 0.08071981153347531\n",
            "Mu: 0.7094714681848663\n",
            "Omega: 1.2320901364602403\n",
            "\n",
            "=== Generation: 11 === \n",
            "Fitness: 20.580649508181935\n",
            "Best individual:\n",
            "Kappa: 0.08327342833783034\n",
            "Mu: 0.6901038660042287\n",
            "Omega: 1.2581249292573813\n",
            "\n",
            "=== Generation: 12 === \n",
            "Fitness: 20.890754525430005\n",
            "Best individual:\n",
            "Kappa: 0.08119217151673927\n",
            "Mu: 0.6958812949848093\n",
            "Omega: 1.2830823341544537\n",
            "\n",
            "=== Generation: 13 === \n",
            "Fitness: 21.149474229556123\n",
            "Best individual:\n",
            "Kappa: 0.0785885195200738\n",
            "Mu: 0.7021261663283852\n",
            "Omega: 1.3157809750261087\n",
            "\n",
            "=== Generation: 14 === \n",
            "Fitness: 21.337923824486285\n",
            "Best individual:\n",
            "Kappa: 0.0798521459792461\n",
            "Mu: 0.6833919401094366\n",
            "Omega: 1.342968453447201\n",
            "\n",
            "=== Generation: 15 === \n",
            "Fitness: 21.46413970273241\n",
            "Best individual:\n",
            "Kappa: 0.07735615371185593\n",
            "Mu: 0.6787829169080355\n",
            "Omega: 1.373684974008786\n",
            "\n",
            "=== Generation: 16 === \n",
            "Fitness: 21.516816924917755\n",
            "Best individual:\n",
            "Kappa: 0.07499505874271557\n",
            "Mu: 0.686289863710424\n",
            "Omega: 1.3907128554585795\n",
            "\n",
            "=== Generation: 17 === \n",
            "Fitness: 21.550053197068195\n",
            "Best individual:\n",
            "Kappa: 0.07097746320014924\n",
            "Mu: 0.6812261189487137\n",
            "Omega: 1.3978992481026302\n",
            "\n",
            "=== Generation: 18 === \n",
            "Fitness: 21.551718864461225\n",
            "Best individual:\n",
            "Kappa: 0.06932459912018032\n",
            "Mu: 0.6866914194930291\n",
            "Omega: 1.401780821042785\n",
            "\n",
            "=== Generation: 19 === \n",
            "Fitness: 21.559528793312317\n",
            "Best individual:\n",
            "Kappa: 0.06914339667091925\n",
            "Mu: 0.6796828923093801\n",
            "Omega: 1.3998353008205442\n",
            "\n",
            "=== Generation: 20 === \n",
            "Fitness: 21.572862372810164\n",
            "Best individual:\n",
            "Kappa: 0.06718608902865103\n",
            "Mu: 0.6813375419767911\n",
            "Omega: 1.4043375810614753\n",
            "\n",
            "=== Generation: 21 === \n",
            "Fitness: 21.579384322407442\n",
            "Best individual:\n",
            "Kappa: 0.06575805038333586\n",
            "Mu: 0.6823998645852558\n",
            "Omega: 1.4091497964199478\n",
            "\n",
            "=== Generation: 22 === \n",
            "Fitness: 21.578476838843212\n",
            "Best individual:\n",
            "Kappa: 0.06606343749382039\n",
            "Mu: 0.6818584049074145\n",
            "Omega: 1.408596362794574\n",
            "\n",
            "=== Generation: 23 === \n",
            "Fitness: 21.58467886972727\n",
            "Best individual:\n",
            "Kappa: 0.06437127613984676\n",
            "Mu: 0.6790390292194923\n",
            "Omega: 1.4151824206590793\n",
            "\n",
            "=== Generation: 24 === \n",
            "Fitness: 21.59076385543107\n",
            "Best individual:\n",
            "Kappa: 0.062284139686643196\n",
            "Mu: 0.6822599788175642\n",
            "Omega: 1.3943376355797072\n",
            "\n",
            "=== Generation: 25 === \n",
            "Fitness: 21.59508935677315\n",
            "Best individual:\n",
            "Kappa: 0.0626589136736938\n",
            "Mu: 0.6801027378812281\n",
            "Omega: 1.4101264406540264\n",
            "\n",
            "=== Generation: 26 === \n",
            "Fitness: 21.60195805103851\n",
            "Best individual:\n",
            "Kappa: 0.06061424520046873\n",
            "Mu: 0.6838344719352968\n",
            "Omega: 1.4091252587510252\n",
            "\n",
            "=== Generation: 27 === \n",
            "Fitness: 21.604597228549913\n",
            "Best individual:\n",
            "Kappa: 0.060074586384725494\n",
            "Mu: 0.6805930050028699\n",
            "Omega: 1.4164779539158354\n",
            "\n",
            "=== Generation: 28 === \n",
            "Fitness: 21.607987658790577\n",
            "Best individual:\n",
            "Kappa: 0.05980684651862359\n",
            "Mu: 0.6814361993006322\n",
            "Omega: 1.4116555225524317\n",
            "\n",
            "=== Generation: 29 === \n",
            "Fitness: 21.613323212824227\n",
            "Best individual:\n",
            "Kappa: 0.058741117600162186\n",
            "Mu: 0.682086948983508\n",
            "Omega: 1.408046507365004\n",
            "\n",
            "=== Generation: 30 === \n",
            "Fitness: 21.614668632675247\n",
            "Best individual:\n",
            "Kappa: 0.05732373609546663\n",
            "Mu: 0.6776905205834347\n",
            "Omega: 1.4045828128381546\n",
            "\n",
            "=== Generation: 31 === \n",
            "Fitness: 21.619974901339916\n",
            "Best individual:\n",
            "Kappa: 0.057044885692033455\n",
            "Mu: 0.6817244884960958\n",
            "Omega: 1.4014451342121006\n",
            "\n",
            "=== Generation: 32 === \n",
            "Fitness: 21.629219527709054\n",
            "Best individual:\n",
            "Kappa: 0.05428053963890648\n",
            "Mu: 0.6777269366211395\n",
            "Omega: 1.413192916610496\n",
            "\n",
            "=== Generation: 33 === \n",
            "Fitness: 21.637535079916816\n",
            "Best individual:\n",
            "Kappa: 0.053064559370430295\n",
            "Mu: 0.6816188768538494\n",
            "Omega: 1.411686027715705\n",
            "\n",
            "=== Generation: 34 === \n",
            "Fitness: 21.639707492171745\n",
            "Best individual:\n",
            "Kappa: 0.05252391758939292\n",
            "Mu: 0.6812656046325436\n",
            "Omega: 1.402440879809081\n",
            "\n",
            "=== Generation: 35 === \n",
            "Fitness: 21.640531987803648\n",
            "Best individual:\n",
            "Kappa: 0.0524390347130656\n",
            "Mu: 0.6803522240419373\n",
            "Omega: 1.4108978438818818\n",
            "\n",
            "=== Generation: 36 === \n",
            "Fitness: 21.642495976287876\n",
            "Best individual:\n",
            "Kappa: 0.05126929188373204\n",
            "Mu: 0.68444227889556\n",
            "Omega: 1.4064803471746907\n",
            "\n",
            "=== Generation: 37 === \n",
            "Fitness: 21.64555198880141\n",
            "Best individual:\n",
            "Kappa: 0.051320337467655554\n",
            "Mu: 0.6810972504078889\n",
            "Omega: 1.4059679911082203\n",
            "\n",
            "=== Generation: 38 === \n",
            "Fitness: 21.649936556601126\n",
            "Best individual:\n",
            "Kappa: 0.04984953806182181\n",
            "Mu: 0.6796584090921264\n",
            "Omega: 1.4133171921827734\n",
            "\n",
            "=== Generation: 39 === \n",
            "Fitness: 21.653241158922405\n",
            "Best individual:\n",
            "Kappa: 0.04939649696256369\n",
            "Mu: 0.6812153765771247\n",
            "Omega: 1.4092211975837436\n",
            "\n",
            "=== Generation: 40 === \n",
            "Fitness: 21.655125153762313\n",
            "Best individual:\n",
            "Kappa: 0.04848600801238155\n",
            "Mu: 0.6789775463131634\n",
            "Omega: 1.4084630274493934\n",
            "\n",
            "=== Generation: 41 === \n",
            "Fitness: 21.661035685457826\n",
            "Best individual:\n",
            "Kappa: 0.047235003138045066\n",
            "Mu: 0.6827820571345853\n",
            "Omega: 1.4070742305001274\n",
            "\n",
            "=== Generation: 42 === \n",
            "Fitness: 21.66127115469699\n",
            "Best individual:\n",
            "Kappa: 0.046954523009934086\n",
            "Mu: 0.6804471213585485\n",
            "Omega: 1.4137627279374787\n",
            "\n",
            "=== Generation: 43 === \n",
            "Fitness: 21.66557987563896\n",
            "Best individual:\n",
            "Kappa: 0.04620139608473422\n",
            "Mu: 0.6812287463813008\n",
            "Omega: 1.4063242116133827\n",
            "\n",
            "=== Generation: 44 === \n",
            "Fitness: 21.668455147372796\n",
            "Best individual:\n",
            "Kappa: 0.0452551123899235\n",
            "Mu: 0.6827525802898312\n",
            "Omega: 1.4045619597982362\n",
            "\n",
            "=== Generation: 45 === \n",
            "Fitness: 21.665477703932137\n",
            "Best individual:\n",
            "Kappa: 0.04563154971828072\n",
            "Mu: 0.6813835104018214\n",
            "Omega: 1.4147346054785703\n",
            "\n",
            "=== Generation: 46 === \n",
            "Fitness: 21.666468483062772\n",
            "Best individual:\n",
            "Kappa: 0.04579119796462546\n",
            "Mu: 0.6813314852577372\n",
            "Omega: 1.411446939711849\n",
            "\n",
            "=== Generation: 47 === \n",
            "Fitness: 21.668572978284466\n",
            "Best individual:\n",
            "Kappa: 0.044677766779170874\n",
            "Mu: 0.6818165516613613\n",
            "Omega: 1.3989612789494696\n",
            "\n",
            "=== Generation: 48 === \n",
            "Fitness: 21.672690942219525\n",
            "Best individual:\n",
            "Kappa: 0.04371555543405351\n",
            "Mu: 0.6791439703914389\n",
            "Omega: 1.406458288721124\n",
            "\n",
            "=== Generation: 49 === \n",
            "Fitness: 21.675625505446263\n",
            "Best individual:\n",
            "Kappa: 0.04337061562579878\n",
            "Mu: 0.6807811674082483\n",
            "Omega: 1.409942447412258\n",
            "\n",
            "==========\n",
            "Max number of generations exceeded!\n",
            "==========\n",
            "\n",
            "Best Fitness: 21.675625505446263\n",
            "Best Gen: 49\n",
            "Kappa: 0.04337061562579878\n",
            "Mu: 0.6807811674082483\n",
            "Omega: 1.409942447412258\n"
          ]
        },
        {
          "output_type": "display_data",
          "data": {
            "text/plain": [
              "<Figure size 720x504 with 0 Axes>"
            ]
          },
          "metadata": {}
        },
        {
          "output_type": "display_data",
          "data": {
            "text/plain": [
              "<Figure size 720x504 with 0 Axes>"
            ]
          },
          "metadata": {}
        },
        {
          "output_type": "display_data",
          "data": {
            "text/plain": [
              "<Figure size 720x504 with 0 Axes>"
            ]
          },
          "metadata": {}
        },
        {
          "output_type": "display_data",
          "data": {
            "text/plain": [
              "<Figure size 720x504 with 0 Axes>"
            ]
          },
          "metadata": {}
        },
        {
          "output_type": "display_data",
          "data": {
            "text/plain": [
              "<Figure size 720x504 with 0 Axes>"
            ]
          },
          "metadata": {}
        },
        {
          "output_type": "display_data",
          "data": {
            "text/plain": [
              "<Figure size 720x504 with 0 Axes>"
            ]
          },
          "metadata": {}
        },
        {
          "output_type": "display_data",
          "data": {
            "text/plain": [
              "<Figure size 720x504 with 0 Axes>"
            ]
          },
          "metadata": {}
        },
        {
          "output_type": "display_data",
          "data": {
            "text/plain": [
              "<Figure size 720x504 with 0 Axes>"
            ]
          },
          "metadata": {}
        },
        {
          "output_type": "display_data",
          "data": {
            "text/plain": [
              "<Figure size 720x504 with 0 Axes>"
            ]
          },
          "metadata": {}
        },
        {
          "output_type": "display_data",
          "data": {
            "text/plain": [
              "<Figure size 720x504 with 0 Axes>"
            ]
          },
          "metadata": {}
        },
        {
          "output_type": "display_data",
          "data": {
            "text/plain": [
              "<Figure size 720x504 with 0 Axes>"
            ]
          },
          "metadata": {}
        },
        {
          "output_type": "display_data",
          "data": {
            "text/plain": [
              "<Figure size 720x504 with 0 Axes>"
            ]
          },
          "metadata": {}
        },
        {
          "output_type": "display_data",
          "data": {
            "text/plain": [
              "<Figure size 720x504 with 0 Axes>"
            ]
          },
          "metadata": {}
        },
        {
          "output_type": "display_data",
          "data": {
            "text/plain": [
              "<Figure size 720x504 with 0 Axes>"
            ]
          },
          "metadata": {}
        },
        {
          "output_type": "display_data",
          "data": {
            "text/plain": [
              "<Figure size 720x504 with 0 Axes>"
            ]
          },
          "metadata": {}
        },
        {
          "output_type": "display_data",
          "data": {
            "text/plain": [
              "<Figure size 720x504 with 0 Axes>"
            ]
          },
          "metadata": {}
        },
        {
          "output_type": "display_data",
          "data": {
            "text/plain": [
              "<Figure size 720x504 with 0 Axes>"
            ]
          },
          "metadata": {}
        },
        {
          "output_type": "display_data",
          "data": {
            "text/plain": [
              "<Figure size 720x504 with 0 Axes>"
            ]
          },
          "metadata": {}
        },
        {
          "output_type": "display_data",
          "data": {
            "text/plain": [
              "<Figure size 720x504 with 0 Axes>"
            ]
          },
          "metadata": {}
        },
        {
          "output_type": "display_data",
          "data": {
            "text/plain": [
              "<Figure size 720x504 with 0 Axes>"
            ]
          },
          "metadata": {}
        },
        {
          "output_type": "display_data",
          "data": {
            "text/plain": [
              "<Figure size 720x504 with 0 Axes>"
            ]
          },
          "metadata": {}
        },
        {
          "output_type": "display_data",
          "data": {
            "text/plain": [
              "<Figure size 720x504 with 0 Axes>"
            ]
          },
          "metadata": {}
        },
        {
          "output_type": "display_data",
          "data": {
            "text/plain": [
              "<Figure size 720x504 with 0 Axes>"
            ]
          },
          "metadata": {}
        },
        {
          "output_type": "display_data",
          "data": {
            "text/plain": [
              "<Figure size 720x504 with 0 Axes>"
            ]
          },
          "metadata": {}
        },
        {
          "output_type": "display_data",
          "data": {
            "text/plain": [
              "<Figure size 720x504 with 0 Axes>"
            ]
          },
          "metadata": {}
        },
        {
          "output_type": "display_data",
          "data": {
            "text/plain": [
              "<Figure size 720x504 with 0 Axes>"
            ]
          },
          "metadata": {}
        },
        {
          "output_type": "display_data",
          "data": {
            "text/plain": [
              "<Figure size 720x504 with 0 Axes>"
            ]
          },
          "metadata": {}
        },
        {
          "output_type": "display_data",
          "data": {
            "text/plain": [
              "<Figure size 720x504 with 0 Axes>"
            ]
          },
          "metadata": {}
        },
        {
          "output_type": "display_data",
          "data": {
            "text/plain": [
              "<Figure size 720x504 with 0 Axes>"
            ]
          },
          "metadata": {}
        },
        {
          "output_type": "display_data",
          "data": {
            "text/plain": [
              "<Figure size 720x504 with 0 Axes>"
            ]
          },
          "metadata": {}
        },
        {
          "output_type": "display_data",
          "data": {
            "text/plain": [
              "<Figure size 720x504 with 0 Axes>"
            ]
          },
          "metadata": {}
        },
        {
          "output_type": "display_data",
          "data": {
            "text/plain": [
              "<Figure size 720x504 with 0 Axes>"
            ]
          },
          "metadata": {}
        },
        {
          "output_type": "display_data",
          "data": {
            "text/plain": [
              "<Figure size 720x504 with 0 Axes>"
            ]
          },
          "metadata": {}
        },
        {
          "output_type": "display_data",
          "data": {
            "text/plain": [
              "<Figure size 720x504 with 0 Axes>"
            ]
          },
          "metadata": {}
        },
        {
          "output_type": "display_data",
          "data": {
            "text/plain": [
              "<Figure size 720x504 with 0 Axes>"
            ]
          },
          "metadata": {}
        },
        {
          "output_type": "display_data",
          "data": {
            "text/plain": [
              "<Figure size 720x504 with 0 Axes>"
            ]
          },
          "metadata": {}
        },
        {
          "output_type": "display_data",
          "data": {
            "text/plain": [
              "<Figure size 720x504 with 0 Axes>"
            ]
          },
          "metadata": {}
        },
        {
          "output_type": "display_data",
          "data": {
            "text/plain": [
              "<Figure size 720x504 with 0 Axes>"
            ]
          },
          "metadata": {}
        },
        {
          "output_type": "display_data",
          "data": {
            "text/plain": [
              "<Figure size 720x504 with 0 Axes>"
            ]
          },
          "metadata": {}
        },
        {
          "output_type": "display_data",
          "data": {
            "text/plain": [
              "<Figure size 720x504 with 0 Axes>"
            ]
          },
          "metadata": {}
        },
        {
          "output_type": "display_data",
          "data": {
            "text/plain": [
              "<Figure size 720x504 with 0 Axes>"
            ]
          },
          "metadata": {}
        },
        {
          "output_type": "display_data",
          "data": {
            "text/plain": [
              "<Figure size 720x504 with 0 Axes>"
            ]
          },
          "metadata": {}
        },
        {
          "output_type": "display_data",
          "data": {
            "text/plain": [
              "<Figure size 720x504 with 0 Axes>"
            ]
          },
          "metadata": {}
        },
        {
          "output_type": "display_data",
          "data": {
            "text/plain": [
              "<Figure size 720x504 with 0 Axes>"
            ]
          },
          "metadata": {}
        },
        {
          "output_type": "display_data",
          "data": {
            "text/plain": [
              "<Figure size 720x504 with 0 Axes>"
            ]
          },
          "metadata": {}
        },
        {
          "output_type": "display_data",
          "data": {
            "text/plain": [
              "<Figure size 720x504 with 0 Axes>"
            ]
          },
          "metadata": {}
        },
        {
          "output_type": "display_data",
          "data": {
            "text/plain": [
              "<Figure size 720x504 with 0 Axes>"
            ]
          },
          "metadata": {}
        },
        {
          "output_type": "display_data",
          "data": {
            "text/plain": [
              "<Figure size 720x504 with 0 Axes>"
            ]
          },
          "metadata": {}
        },
        {
          "output_type": "display_data",
          "data": {
            "text/plain": [
              "<Figure size 720x504 with 0 Axes>"
            ]
          },
          "metadata": {}
        },
        {
          "output_type": "display_data",
          "data": {
            "text/plain": [
              "<Figure size 720x504 with 0 Axes>"
            ]
          },
          "metadata": {}
        }
      ]
    },
    {
      "cell_type": "code",
      "source": [
        "k_u_pdf = computePDF(Xdata, mle_kappa_mu[0], mle_kappa_mu[1], mle_kappa_mu[2])\n",
        "plt.figure(figsize=((10,7)))\n",
        "plt.scatter(Xdata, Ydata, c='magenta')\n",
        "plt.plot(Xdata, k_u_pdf, label='Nidhi\\'s MLE', c='green')\n",
        "plt.plot(Xdata, computePDF(Xdata, kappa_hat, mu_hat, omega_hat), label='Fitness = MSE', color='r')\n",
        "plt.plot(Xdata, computePDF(Xdata, kappa_hat2, mu_hat2, omega_hat2), label='Fitness = RAD', c='black')\n",
        "plt.title(f'Best GA Fit')\n",
        "plt.legend()\n",
        "plt.grid(True)\n",
        "plt.xlabel(r'$dB$')\n",
        "plt.ylabel('pdf')\n",
        "plt.show()"
      ],
      "metadata": {
        "colab": {
          "base_uri": "https://localhost:8080/",
          "height": 460
        },
        "id": "cvP_UhCoWwGi",
        "outputId": "8884659d-443e-464b-a781-255954eeb29b"
      },
      "execution_count": 85,
      "outputs": [
        {
          "output_type": "display_data",
          "data": {
            "text/plain": [
              "<Figure size 720x504 with 1 Axes>"
            ],
            "image/png": "[encoded data removed]"
          },
          "metadata": {
            "needs_background": "light"
          }
        }
      ]
    },
    {
      "cell_type": "code",
      "source": [
        "# Scores - RAD\n",
        "pVec1 = Ydata/np.sum(Ydata)\n",
        "pVec2 = computePDF(Xdata, kappa_hat, mu_hat, omega_hat)/np.sum(computePDF(Xdata, kappa_hat, mu_hat, omega_hat))\n",
        "KLD_1 = kldiv(pVec1, pVec2)\n",
        "KLD_2 = kldiv(pVec2, pVec1)\n",
        "rad_mse = RAD(KLD_1, KLD_2)\n",
        "\n",
        "pVec2 = computePDF(Xdata, kappa_hat2, mu_hat2, omega_hat2)/np.sum(computePDF(Xdata, kappa_hat2, mu_hat2, omega_hat2))\n",
        "KLD_1 = kldiv(pVec1, pVec2)\n",
        "KLD_2 = kldiv(pVec2, pVec1)\n",
        "rad_rad = RAD(KLD_1, KLD_2)\n",
        "\n",
        "pVec2 = computePDF(Xdata, mle_kappa_mu[0], mle_kappa_mu[1], mle_kappa_mu[2])/np.sum(computePDF(Xdata, mle_kappa_mu[0], mle_kappa_mu[1], mle_kappa_mu[2]))\n",
        "KLD_1 = kldiv(pVec1, pVec2)\n",
        "KLD_2 = kldiv(pVec2, pVec1)\n",
        "rad_mle = RAD(KLD_1, KLD_2)\n",
        "\n",
        "rads = {'Methods':['Genetic Algorithm (Fitness = MSE)', 'Genetic Algorithm (Fitness = RAD)', 'Maximum Likelihood Estimator'],\n",
        "\t\t'Resistor Average Distance':[rad_mse, rad_rad, rad_mle]}\n",
        "\n",
        "# Create DataFrame\n",
        "df = pd.DataFrame(rads)\n",
        "display(df)"
      ],
      "metadata": {
        "colab": {
          "base_uri": "https://localhost:8080/",
          "height": 144
        },
        "id": "WaA7unT4eF0C",
        "outputId": "30e54343-b23b-4481-f745-b3d79b59ac73"
      },
      "execution_count": 86,
      "outputs": [
        {
          "output_type": "display_data",
          "data": {
            "text/plain": [
              "                             Methods  Resistor Average Distance\n",
              "0  Genetic Algorithm (Fitness = MSE)                   0.069396\n",
              "1  Genetic Algorithm (Fitness = RAD)                   0.046135\n",
              "2       Maximum Likelihood Estimator                   0.069296"
            ],
            "text/html": [
              "\n",
              "  <div id=\"df-34b0bab5-4e5c-4780-b361-5a58ce9970df\">\n",
              "    <div class=\"colab-df-container\">\n",
              "      <div>\n",
              "<style scoped>\n",
              "    .dataframe tbody tr th:only-of-type {\n",
              "        vertical-align: middle;\n",
              "    }\n",
              "\n",
              "    .dataframe tbody tr th {\n",
              "        vertical-align: top;\n",
              "    }\n",
              "\n",
              "    .dataframe thead th {\n",
              "        text-align: right;\n",
              "    }\n",
              "</style>\n",
              "<table border=\"1\" class=\"dataframe\">\n",
              "  <thead>\n",
              "    <tr style=\"text-align: right;\">\n",
              "      <th></th>\n",
              "      <th>Methods</th>\n",
              "      <th>Resistor Average Distance</th>\n",
              "    </tr>\n",
              "  </thead>\n",
              "  <tbody>\n",
              "    <tr>\n",
              "      <th>0</th>\n",
              "      <td>Genetic Algorithm (Fitness = MSE)</td>\n",
              "      <td>0.069396</td>\n",
              "    </tr>\n",
              "    <tr>\n",
              "      <th>1</th>\n",
              "      <td>Genetic Algorithm (Fitness = RAD)</td>\n",
              "      <td>0.046135</td>\n",
              "    </tr>\n",
              "    <tr>\n",
              "      <th>2</th>\n",
              "      <td>Maximum Likelihood Estimator</td>\n",
              "      <td>0.069296</td>\n",
              "    </tr>\n",
              "  </tbody>\n",
              "</table>\n",
              "</div>\n",
              "      <button class=\"colab-df-convert\" onclick=\"convertToInteractive('df-34b0bab5-4e5c-4780-b361-5a58ce9970df')\"\n",
              "              title=\"Convert this dataframe to an interactive table.\"\n",
              "              style=\"display:none;\">\n",
              "        \n",
              "  <svg xmlns=\"http://www.w3.org/2000/svg\" height=\"24px\"viewBox=\"0 0 24 24\"\n",
              "       width=\"24px\">\n",
              "    <path d=\"M0 0h24v24H0V0z\" fill=\"none\"/>\n",
              "    <path d=\"M18.56 5.44l.94 2.06.94-2.06 2.06-.94-2.06-.94-.94-2.06-.94 2.06-2.06.94zm-11 1L8.5 8.5l.94-2.06 2.06-.94-2.06-.94L8.5 2.5l-.94 2.06-2.06.94zm10 10l.94 2.06.94-2.06 2.06-.94-2.06-.94-.94-2.06-.94 2.06-2.06.94z\"/><path d=\"M17.41 7.96l-1.37-1.37c-.4-.4-.92-.59-1.43-.59-.52 0-1.04.2-1.43.59L10.3 9.45l-7.72 7.72c-.78.78-.78 2.05 0 2.83L4 21.41c.39.39.9.59 1.41.59.51 0 1.02-.2 1.41-.59l7.78-7.78 2.81-2.81c.8-.78.8-2.07 0-2.86zM5.41 20L4 18.59l7.72-7.72 1.47 1.35L5.41 20z\"/>\n",
              "  </svg>\n",
              "      </button>\n",
              "      \n",
              "  <style>\n",
              "    .colab-df-container {\n",
              "      display:flex;\n",
              "      flex-wrap:wrap;\n",
              "      gap: 12px;\n",
              "    }\n",
              "\n",
              "    .colab-df-convert {\n",
              "      background-color: #E8F0FE;\n",
              "      border: none;\n",
              "      border-radius: 50%;\n",
              "      cursor: pointer;\n",
              "      display: none;\n",
              "      fill: #1967D2;\n",
              "      height: 32px;\n",
              "      padding: 0 0 0 0;\n",
              "      width: 32px;\n",
              "    }\n",
              "\n",
              "    .colab-df-convert:hover {\n",
              "      background-color: #E2EBFA;\n",
              "      box-shadow: 0px 1px 2px rgba(60, 64, 67, 0.3), 0px 1px 3px 1px rgba(60, 64, 67, 0.15);\n",
              "      fill: #174EA6;\n",
              "    }\n",
              "\n",
              "    [theme=dark] .colab-df-convert {\n",
              "      background-color: #3B4455;\n",
              "      fill: #D2E3FC;\n",
              "    }\n",
              "\n",
              "    [theme=dark] .colab-df-convert:hover {\n",
              "      background-color: #434B5C;\n",
              "      box-shadow: 0px 1px 3px 1px rgba(0, 0, 0, 0.15);\n",
              "      filter: drop-shadow(0px 1px 2px rgba(0, 0, 0, 0.3));\n",
              "      fill: #FFFFFF;\n",
              "    }\n",
              "  </style>\n",
              "\n",
              "      <script>\n",
              "        const buttonEl =\n",
              "          document.querySelector('#df-34b0bab5-4e5c-4780-b361-5a58ce9970df button.colab-df-convert');\n",
              "        buttonEl.style.display =\n",
              "          google.colab.kernel.accessAllowed ? 'block' : 'none';\n",
              "\n",
              "        async function convertToInteractive(key) {\n",
              "          const element = document.querySelector('#df-34b0bab5-4e5c-4780-b361-5a58ce9970df');\n",
              "          const dataTable =\n",
              "            await google.colab.kernel.invokeFunction('convertToInteractive',\n",
              "                                                     [key], {});\n",
              "          if (!dataTable) return;\n",
              "\n",
              "          const docLinkHtml = 'Like what you see? Visit the ' +\n",
              "            '<a target=\"_blank\" href=https://colab.research.google.com/notebooks/data_table.ipynb>data table notebook</a>'\n",
              "            + ' to learn more about interactive tables.';\n",
              "          element.innerHTML = '';\n",
              "          dataTable['output_type'] = 'display_data';\n",
              "          await google.colab.output.renderOutput(dataTable, element);\n",
              "          const docLink = document.createElement('div');\n",
              "          docLink.innerHTML = docLinkHtml;\n",
              "          element.appendChild(docLink);\n",
              "        }\n",
              "      </script>\n",
              "    </div>\n",
              "  </div>\n",
              "  "
            ]
          },
          "metadata": {}
        }
      ]
    },
    {
      "cell_type": "code",
      "source": [
        "## AIC Analysis\n",
        "\n",
        "n = len(data_mV)\n",
        "K = 3\n",
        "\n",
        "# AIC MLE\n",
        "sum = np.sum(np.log(computePDF(data_mV, mle_kappa_mu[0], mle_kappa_mu[1], mle_kappa_mu[2])))\n",
        "AIC_mle = -2*sum + 2*K + (2*K*(K+1))/(n-K-1)\n",
        "\n",
        "# AIC GENETIC ALGORITHM - FITNESS: MSE\n",
        "sum = np.sum(np.log(computePDF(data_mV, kappa_hat, mu_hat, omega_hat)))\n",
        "AIC_ga_mse = -2*sum + 2*K + (2*K*(K+1))/(n-K-1)\n",
        "  \n",
        "# AIC GENETIC ALGORITHM - FITNESS: RAD\n",
        "sum = np.sum(np.log(computePDF(data_mV, kappa_hat2, mu_hat2, omega_hat2)))\n",
        "AIC_ga_rad = -2*sum + 2*K + (2*K*(K+1))/(n-K-1)\n",
        "\n",
        "rads = {'Methods':['Genetic Algorithm (Fitness = MSE)', 'Genetic Algorithm (Fitness = RAD)', 'Maximum Likelihood Estimator'],\n",
        "\t\t'Resistor Average Distance':[rad_mse, rad_rad, rad_mle],\n",
        "    'Akaike Information Criteria':[AIC_ga_mse[0], AIC_ga_rad[0], AIC_mle[0]]}\n",
        "\n",
        "# Create DataFrame\n",
        "df = pd.DataFrame(rads)\n",
        "display(df)"
      ],
      "metadata": {
        "id": "3mSrNSj7ROxD",
        "colab": {
          "base_uri": "https://localhost:8080/",
          "height": 144
        },
        "outputId": "cdaced04-8f2a-431a-cf42-d6178aafcf0a"
      },
      "execution_count": 111,
      "outputs": [
        {
          "output_type": "display_data",
          "data": {
            "text/plain": [
              "                             Methods  Resistor Average Distance  \\\n",
              "0  Genetic Algorithm (Fitness = MSE)                   0.069396   \n",
              "1  Genetic Algorithm (Fitness = RAD)                   0.046135   \n",
              "2       Maximum Likelihood Estimator                   0.069296   \n",
              "\n",
              "   Akaike Information Criteria  \n",
              "0                381106.541637  \n",
              "1                339820.388376  \n",
              "2                380914.753628  "
            ],
            "text/html": [
              "\n",
              "  <div id=\"df-126a1e31-b22e-4138-843f-085606764112\">\n",
              "    <div class=\"colab-df-container\">\n",
              "      <div>\n",
              "<style scoped>\n",
              "    .dataframe tbody tr th:only-of-type {\n",
              "        vertical-align: middle;\n",
              "    }\n",
              "\n",
              "    .dataframe tbody tr th {\n",
              "        vertical-align: top;\n",
              "    }\n",
              "\n",
              "    .dataframe thead th {\n",
              "        text-align: right;\n",
              "    }\n",
              "</style>\n",
              "<table border=\"1\" class=\"dataframe\">\n",
              "  <thead>\n",
              "    <tr style=\"text-align: right;\">\n",
              "      <th></th>\n",
              "      <th>Methods</th>\n",
              "      <th>Resistor Average Distance</th>\n",
              "      <th>Akaike Information Criteria</th>\n",
              "    </tr>\n",
              "  </thead>\n",
              "  <tbody>\n",
              "    <tr>\n",
              "      <th>0</th>\n",
              "      <td>Genetic Algorithm (Fitness = MSE)</td>\n",
              "      <td>0.069396</td>\n",
              "      <td>381106.541637</td>\n",
              "    </tr>\n",
              "    <tr>\n",
              "      <th>1</th>\n",
              "      <td>Genetic Algorithm (Fitness = RAD)</td>\n",
              "      <td>0.046135</td>\n",
              "      <td>339820.388376</td>\n",
              "    </tr>\n",
              "    <tr>\n",
              "      <th>2</th>\n",
              "      <td>Maximum Likelihood Estimator</td>\n",
              "      <td>0.069296</td>\n",
              "      <td>380914.753628</td>\n",
              "    </tr>\n",
              "  </tbody>\n",
              "</table>\n",
              "</div>\n",
              "      <button class=\"colab-df-convert\" onclick=\"convertToInteractive('df-126a1e31-b22e-4138-843f-085606764112')\"\n",
              "              title=\"Convert this dataframe to an interactive table.\"\n",
              "              style=\"display:none;\">\n",
              "        \n",
              "  <svg xmlns=\"http://www.w3.org/2000/svg\" height=\"24px\"viewBox=\"0 0 24 24\"\n",
              "       width=\"24px\">\n",
              "    <path d=\"M0 0h24v24H0V0z\" fill=\"none\"/>\n",
              "    <path d=\"M18.56 5.44l.94 2.06.94-2.06 2.06-.94-2.06-.94-.94-2.06-.94 2.06-2.06.94zm-11 1L8.5 8.5l.94-2.06 2.06-.94-2.06-.94L8.5 2.5l-.94 2.06-2.06.94zm10 10l.94 2.06.94-2.06 2.06-.94-2.06-.94-.94-2.06-.94 2.06-2.06.94z\"/><path d=\"M17.41 7.96l-1.37-1.37c-.4-.4-.92-.59-1.43-.59-.52 0-1.04.2-1.43.59L10.3 9.45l-7.72 7.72c-.78.78-.78 2.05 0 2.83L4 21.41c.39.39.9.59 1.41.59.51 0 1.02-.2 1.41-.59l7.78-7.78 2.81-2.81c.8-.78.8-2.07 0-2.86zM5.41 20L4 18.59l7.72-7.72 1.47 1.35L5.41 20z\"/>\n",
              "  </svg>\n",
              "      </button>\n",
              "      \n",
              "  <style>\n",
              "    .colab-df-container {\n",
              "      display:flex;\n",
              "      flex-wrap:wrap;\n",
              "      gap: 12px;\n",
              "    }\n",
              "\n",
              "    .colab-df-convert {\n",
              "      background-color: #E8F0FE;\n",
              "      border: none;\n",
              "      border-radius: 50%;\n",
              "      cursor: pointer;\n",
              "      display: none;\n",
              "      fill: #1967D2;\n",
              "      height: 32px;\n",
              "      padding: 0 0 0 0;\n",
              "      width: 32px;\n",
              "    }\n",
              "\n",
              "    .colab-df-convert:hover {\n",
              "      background-color: #E2EBFA;\n",
              "      box-shadow: 0px 1px 2px rgba(60, 64, 67, 0.3), 0px 1px 3px 1px rgba(60, 64, 67, 0.15);\n",
              "      fill: #174EA6;\n",
              "    }\n",
              "\n",
              "    [theme=dark] .colab-df-convert {\n",
              "      background-color: #3B4455;\n",
              "      fill: #D2E3FC;\n",
              "    }\n",
              "\n",
              "    [theme=dark] .colab-df-convert:hover {\n",
              "      background-color: #434B5C;\n",
              "      box-shadow: 0px 1px 3px 1px rgba(0, 0, 0, 0.15);\n",
              "      filter: drop-shadow(0px 1px 2px rgba(0, 0, 0, 0.3));\n",
              "      fill: #FFFFFF;\n",
              "    }\n",
              "  </style>\n",
              "\n",
              "      <script>\n",
              "        const buttonEl =\n",
              "          document.querySelector('#df-126a1e31-b22e-4138-843f-085606764112 button.colab-df-convert');\n",
              "        buttonEl.style.display =\n",
              "          google.colab.kernel.accessAllowed ? 'block' : 'none';\n",
              "\n",
              "        async function convertToInteractive(key) {\n",
              "          const element = document.querySelector('#df-126a1e31-b22e-4138-843f-085606764112');\n",
              "          const dataTable =\n",
              "            await google.colab.kernel.invokeFunction('convertToInteractive',\n",
              "                                                     [key], {});\n",
              "          if (!dataTable) return;\n",
              "\n",
              "          const docLinkHtml = 'Like what you see? Visit the ' +\n",
              "            '<a target=\"_blank\" href=https://colab.research.google.com/notebooks/data_table.ipynb>data table notebook</a>'\n",
              "            + ' to learn more about interactive tables.';\n",
              "          element.innerHTML = '';\n",
              "          dataTable['output_type'] = 'display_data';\n",
              "          await google.colab.output.renderOutput(dataTable, element);\n",
              "          const docLink = document.createElement('div');\n",
              "          docLink.innerHTML = docLinkHtml;\n",
              "          element.appendChild(docLink);\n",
              "        }\n",
              "      </script>\n",
              "    </div>\n",
              "  </div>\n",
              "  "
            ]
          },
          "metadata": {}
        }
      ]
    }
  ]
}