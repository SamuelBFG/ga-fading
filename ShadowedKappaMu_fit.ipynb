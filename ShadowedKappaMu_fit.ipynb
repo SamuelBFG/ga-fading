{
  "nbformat": 4,
  "nbformat_minor": 0,
  "metadata": {
    "colab": {
      "name": "ShadowedKappaMu_fit.ipynb",
      "provenance": [],
      "collapsed_sections": [],
      "toc_visible": true,
      "authorship_tag": "ABX9TyMo6UcxkFHljiYrmk4cmH2M",
      "include_colab_link": true
    },
    "kernelspec": {
      "name": "python3",
      "display_name": "Python 3"
    },
    "language_info": {
      "name": "python"
    }
  },
  "cells": [
    {
      "cell_type": "markdown",
      "metadata": {
        "id": "view-in-github",
        "colab_type": "text"
      },
      "source": [
        "<a href=\"https://colab.research.google.com/github/SamuelBFG/ga-fading/blob/main/ShadowedKappaMu_fit.ipynb\" target=\"_parent\"><img src=\"https://colab.research.google.com/assets/colab-badge.svg\" alt=\"Open In Colab\"/></a>"
      ]
    },
    {
      "cell_type": "code",
      "source": [
        "import os\n",
        "import numpy as np\n",
        "import pandas as pd\n",
        "import seaborn as sns\n",
        "import random\n",
        "import matplotlib.pyplot as plt\n",
        "from scipy import special as sp\n",
        "from scipy.stats import gaussian_kde\n",
        "from scipy.io import loadmat\n",
        "from sklearn.neighbors import KernelDensity\n",
        "from scipy import special as sp\n",
        "\n",
        "plt.rcParams.update({'figure.max_open_warning': 0})\n",
        "%matplotlib inline\n",
        "\n",
        "## Set up directories\n",
        "paths = ['plots', \n",
        "            'plots/gen/', \n",
        "        ]\n",
        "for i in paths:\n",
        "    if not os.path.exists(i):\n",
        "        os.makedirs(i)"
      ],
      "metadata": {
        "id": "OvYKCRkZ4Ia-"
      },
      "execution_count": 1,
      "outputs": []
    },
    {
      "cell_type": "markdown",
      "source": [
        "## Data (dBm)"
      ],
      "metadata": {
        "id": "KLvibRp9RvBl"
      }
    },
    {
      "cell_type": "code",
      "execution_count": 2,
      "metadata": {
        "id": "qnYjLSZewTA8"
      },
      "outputs": [],
      "source": [
        "data_dBm = pd.read_csv('/content/P_dBm_out_LOS_Head_Indoor.txt', sep=\" \", header=None).transpose().dropna().reset_index(drop=True)"
      ]
    },
    {
      "cell_type": "code",
      "source": [
        "data_dBm.describe()"
      ],
      "metadata": {
        "colab": {
          "base_uri": "https://localhost:8080/",
          "height": 300
        },
        "id": "_4aJF9bH4QR6",
        "outputId": "a0fbc02e-7a8e-480d-a580-ca7dd92bff96"
      },
      "execution_count": 3,
      "outputs": [
        {
          "output_type": "execute_result",
          "data": {
            "text/plain": [
              "                   0\n",
              "count  181144.000000\n",
              "mean      -59.800541\n",
              "std         6.614254\n",
              "min      -101.912900\n",
              "25%       -63.651613\n",
              "50%       -59.441935\n",
              "75%       -55.325806\n",
              "max       -43.725806"
            ],
            "text/html": [
              "\n",
              "  <div id=\"df-1a5b2388-1c8e-4684-949e-768c36fdf9cc\">\n",
              "    <div class=\"colab-df-container\">\n",
              "      <div>\n",
              "<style scoped>\n",
              "    .dataframe tbody tr th:only-of-type {\n",
              "        vertical-align: middle;\n",
              "    }\n",
              "\n",
              "    .dataframe tbody tr th {\n",
              "        vertical-align: top;\n",
              "    }\n",
              "\n",
              "    .dataframe thead th {\n",
              "        text-align: right;\n",
              "    }\n",
              "</style>\n",
              "<table border=\"1\" class=\"dataframe\">\n",
              "  <thead>\n",
              "    <tr style=\"text-align: right;\">\n",
              "      <th></th>\n",
              "      <th>0</th>\n",
              "    </tr>\n",
              "  </thead>\n",
              "  <tbody>\n",
              "    <tr>\n",
              "      <th>count</th>\n",
              "      <td>181144.000000</td>\n",
              "    </tr>\n",
              "    <tr>\n",
              "      <th>mean</th>\n",
              "      <td>-59.800541</td>\n",
              "    </tr>\n",
              "    <tr>\n",
              "      <th>std</th>\n",
              "      <td>6.614254</td>\n",
              "    </tr>\n",
              "    <tr>\n",
              "      <th>min</th>\n",
              "      <td>-101.912900</td>\n",
              "    </tr>\n",
              "    <tr>\n",
              "      <th>25%</th>\n",
              "      <td>-63.651613</td>\n",
              "    </tr>\n",
              "    <tr>\n",
              "      <th>50%</th>\n",
              "      <td>-59.441935</td>\n",
              "    </tr>\n",
              "    <tr>\n",
              "      <th>75%</th>\n",
              "      <td>-55.325806</td>\n",
              "    </tr>\n",
              "    <tr>\n",
              "      <th>max</th>\n",
              "      <td>-43.725806</td>\n",
              "    </tr>\n",
              "  </tbody>\n",
              "</table>\n",
              "</div>\n",
              "      <button class=\"colab-df-convert\" onclick=\"convertToInteractive('df-1a5b2388-1c8e-4684-949e-768c36fdf9cc')\"\n",
              "              title=\"Convert this dataframe to an interactive table.\"\n",
              "              style=\"display:none;\">\n",
              "        \n",
              "  <svg xmlns=\"http://www.w3.org/2000/svg\" height=\"24px\"viewBox=\"0 0 24 24\"\n",
              "       width=\"24px\">\n",
              "    <path d=\"M0 0h24v24H0V0z\" fill=\"none\"/>\n",
              "    <path d=\"M18.56 5.44l.94 2.06.94-2.06 2.06-.94-2.06-.94-.94-2.06-.94 2.06-2.06.94zm-11 1L8.5 8.5l.94-2.06 2.06-.94-2.06-.94L8.5 2.5l-.94 2.06-2.06.94zm10 10l.94 2.06.94-2.06 2.06-.94-2.06-.94-.94-2.06-.94 2.06-2.06.94z\"/><path d=\"M17.41 7.96l-1.37-1.37c-.4-.4-.92-.59-1.43-.59-.52 0-1.04.2-1.43.59L10.3 9.45l-7.72 7.72c-.78.78-.78 2.05 0 2.83L4 21.41c.39.39.9.59 1.41.59.51 0 1.02-.2 1.41-.59l7.78-7.78 2.81-2.81c.8-.78.8-2.07 0-2.86zM5.41 20L4 18.59l7.72-7.72 1.47 1.35L5.41 20z\"/>\n",
              "  </svg>\n",
              "      </button>\n",
              "      \n",
              "  <style>\n",
              "    .colab-df-container {\n",
              "      display:flex;\n",
              "      flex-wrap:wrap;\n",
              "      gap: 12px;\n",
              "    }\n",
              "\n",
              "    .colab-df-convert {\n",
              "      background-color: #E8F0FE;\n",
              "      border: none;\n",
              "      border-radius: 50%;\n",
              "      cursor: pointer;\n",
              "      display: none;\n",
              "      fill: #1967D2;\n",
              "      height: 32px;\n",
              "      padding: 0 0 0 0;\n",
              "      width: 32px;\n",
              "    }\n",
              "\n",
              "    .colab-df-convert:hover {\n",
              "      background-color: #E2EBFA;\n",
              "      box-shadow: 0px 1px 2px rgba(60, 64, 67, 0.3), 0px 1px 3px 1px rgba(60, 64, 67, 0.15);\n",
              "      fill: #174EA6;\n",
              "    }\n",
              "\n",
              "    [theme=dark] .colab-df-convert {\n",
              "      background-color: #3B4455;\n",
              "      fill: #D2E3FC;\n",
              "    }\n",
              "\n",
              "    [theme=dark] .colab-df-convert:hover {\n",
              "      background-color: #434B5C;\n",
              "      box-shadow: 0px 1px 3px 1px rgba(0, 0, 0, 0.15);\n",
              "      filter: drop-shadow(0px 1px 2px rgba(0, 0, 0, 0.3));\n",
              "      fill: #FFFFFF;\n",
              "    }\n",
              "  </style>\n",
              "\n",
              "      <script>\n",
              "        const buttonEl =\n",
              "          document.querySelector('#df-1a5b2388-1c8e-4684-949e-768c36fdf9cc button.colab-df-convert');\n",
              "        buttonEl.style.display =\n",
              "          google.colab.kernel.accessAllowed ? 'block' : 'none';\n",
              "\n",
              "        async function convertToInteractive(key) {\n",
              "          const element = document.querySelector('#df-1a5b2388-1c8e-4684-949e-768c36fdf9cc');\n",
              "          const dataTable =\n",
              "            await google.colab.kernel.invokeFunction('convertToInteractive',\n",
              "                                                     [key], {});\n",
              "          if (!dataTable) return;\n",
              "\n",
              "          const docLinkHtml = 'Like what you see? Visit the ' +\n",
              "            '<a target=\"_blank\" href=https://colab.research.google.com/notebooks/data_table.ipynb>data table notebook</a>'\n",
              "            + ' to learn more about interactive tables.';\n",
              "          element.innerHTML = '';\n",
              "          dataTable['output_type'] = 'display_data';\n",
              "          await google.colab.output.renderOutput(dataTable, element);\n",
              "          const docLink = document.createElement('div');\n",
              "          docLink.innerHTML = docLinkHtml;\n",
              "          element.appendChild(docLink);\n",
              "        }\n",
              "      </script>\n",
              "    </div>\n",
              "  </div>\n",
              "  "
            ]
          },
          "metadata": {},
          "execution_count": 3
        }
      ]
    },
    {
      "cell_type": "code",
      "source": [
        "data_dBm"
      ],
      "metadata": {
        "colab": {
          "base_uri": "https://localhost:8080/",
          "height": 423
        },
        "id": "BSDq-an140gF",
        "outputId": "f71a020c-ce08-4171-83ed-62604cf91f89"
      },
      "execution_count": 4,
      "outputs": [
        {
          "output_type": "execute_result",
          "data": {
            "text/plain": [
              "                0\n",
              "0      -49.058065\n",
              "1      -49.151613\n",
              "2      -49.151613\n",
              "3      -49.151613\n",
              "4      -49.245161\n",
              "...           ...\n",
              "181139 -62.716129\n",
              "181140 -62.529032\n",
              "181141 -62.716129\n",
              "181142 -62.622581\n",
              "181143 -62.716129\n",
              "\n",
              "[181144 rows x 1 columns]"
            ],
            "text/html": [
              "\n",
              "  <div id=\"df-5d2933ee-3554-4cdb-b1db-684f59df0336\">\n",
              "    <div class=\"colab-df-container\">\n",
              "      <div>\n",
              "<style scoped>\n",
              "    .dataframe tbody tr th:only-of-type {\n",
              "        vertical-align: middle;\n",
              "    }\n",
              "\n",
              "    .dataframe tbody tr th {\n",
              "        vertical-align: top;\n",
              "    }\n",
              "\n",
              "    .dataframe thead th {\n",
              "        text-align: right;\n",
              "    }\n",
              "</style>\n",
              "<table border=\"1\" class=\"dataframe\">\n",
              "  <thead>\n",
              "    <tr style=\"text-align: right;\">\n",
              "      <th></th>\n",
              "      <th>0</th>\n",
              "    </tr>\n",
              "  </thead>\n",
              "  <tbody>\n",
              "    <tr>\n",
              "      <th>0</th>\n",
              "      <td>-49.058065</td>\n",
              "    </tr>\n",
              "    <tr>\n",
              "      <th>1</th>\n",
              "      <td>-49.151613</td>\n",
              "    </tr>\n",
              "    <tr>\n",
              "      <th>2</th>\n",
              "      <td>-49.151613</td>\n",
              "    </tr>\n",
              "    <tr>\n",
              "      <th>3</th>\n",
              "      <td>-49.151613</td>\n",
              "    </tr>\n",
              "    <tr>\n",
              "      <th>4</th>\n",
              "      <td>-49.245161</td>\n",
              "    </tr>\n",
              "    <tr>\n",
              "      <th>...</th>\n",
              "      <td>...</td>\n",
              "    </tr>\n",
              "    <tr>\n",
              "      <th>181139</th>\n",
              "      <td>-62.716129</td>\n",
              "    </tr>\n",
              "    <tr>\n",
              "      <th>181140</th>\n",
              "      <td>-62.529032</td>\n",
              "    </tr>\n",
              "    <tr>\n",
              "      <th>181141</th>\n",
              "      <td>-62.716129</td>\n",
              "    </tr>\n",
              "    <tr>\n",
              "      <th>181142</th>\n",
              "      <td>-62.622581</td>\n",
              "    </tr>\n",
              "    <tr>\n",
              "      <th>181143</th>\n",
              "      <td>-62.716129</td>\n",
              "    </tr>\n",
              "  </tbody>\n",
              "</table>\n",
              "<p>181144 rows × 1 columns</p>\n",
              "</div>\n",
              "      <button class=\"colab-df-convert\" onclick=\"convertToInteractive('df-5d2933ee-3554-4cdb-b1db-684f59df0336')\"\n",
              "              title=\"Convert this dataframe to an interactive table.\"\n",
              "              style=\"display:none;\">\n",
              "        \n",
              "  <svg xmlns=\"http://www.w3.org/2000/svg\" height=\"24px\"viewBox=\"0 0 24 24\"\n",
              "       width=\"24px\">\n",
              "    <path d=\"M0 0h24v24H0V0z\" fill=\"none\"/>\n",
              "    <path d=\"M18.56 5.44l.94 2.06.94-2.06 2.06-.94-2.06-.94-.94-2.06-.94 2.06-2.06.94zm-11 1L8.5 8.5l.94-2.06 2.06-.94-2.06-.94L8.5 2.5l-.94 2.06-2.06.94zm10 10l.94 2.06.94-2.06 2.06-.94-2.06-.94-.94-2.06-.94 2.06-2.06.94z\"/><path d=\"M17.41 7.96l-1.37-1.37c-.4-.4-.92-.59-1.43-.59-.52 0-1.04.2-1.43.59L10.3 9.45l-7.72 7.72c-.78.78-.78 2.05 0 2.83L4 21.41c.39.39.9.59 1.41.59.51 0 1.02-.2 1.41-.59l7.78-7.78 2.81-2.81c.8-.78.8-2.07 0-2.86zM5.41 20L4 18.59l7.72-7.72 1.47 1.35L5.41 20z\"/>\n",
              "  </svg>\n",
              "      </button>\n",
              "      \n",
              "  <style>\n",
              "    .colab-df-container {\n",
              "      display:flex;\n",
              "      flex-wrap:wrap;\n",
              "      gap: 12px;\n",
              "    }\n",
              "\n",
              "    .colab-df-convert {\n",
              "      background-color: #E8F0FE;\n",
              "      border: none;\n",
              "      border-radius: 50%;\n",
              "      cursor: pointer;\n",
              "      display: none;\n",
              "      fill: #1967D2;\n",
              "      height: 32px;\n",
              "      padding: 0 0 0 0;\n",
              "      width: 32px;\n",
              "    }\n",
              "\n",
              "    .colab-df-convert:hover {\n",
              "      background-color: #E2EBFA;\n",
              "      box-shadow: 0px 1px 2px rgba(60, 64, 67, 0.3), 0px 1px 3px 1px rgba(60, 64, 67, 0.15);\n",
              "      fill: #174EA6;\n",
              "    }\n",
              "\n",
              "    [theme=dark] .colab-df-convert {\n",
              "      background-color: #3B4455;\n",
              "      fill: #D2E3FC;\n",
              "    }\n",
              "\n",
              "    [theme=dark] .colab-df-convert:hover {\n",
              "      background-color: #434B5C;\n",
              "      box-shadow: 0px 1px 3px 1px rgba(0, 0, 0, 0.15);\n",
              "      filter: drop-shadow(0px 1px 2px rgba(0, 0, 0, 0.3));\n",
              "      fill: #FFFFFF;\n",
              "    }\n",
              "  </style>\n",
              "\n",
              "      <script>\n",
              "        const buttonEl =\n",
              "          document.querySelector('#df-5d2933ee-3554-4cdb-b1db-684f59df0336 button.colab-df-convert');\n",
              "        buttonEl.style.display =\n",
              "          google.colab.kernel.accessAllowed ? 'block' : 'none';\n",
              "\n",
              "        async function convertToInteractive(key) {\n",
              "          const element = document.querySelector('#df-5d2933ee-3554-4cdb-b1db-684f59df0336');\n",
              "          const dataTable =\n",
              "            await google.colab.kernel.invokeFunction('convertToInteractive',\n",
              "                                                     [key], {});\n",
              "          if (!dataTable) return;\n",
              "\n",
              "          const docLinkHtml = 'Like what you see? Visit the ' +\n",
              "            '<a target=\"_blank\" href=https://colab.research.google.com/notebooks/data_table.ipynb>data table notebook</a>'\n",
              "            + ' to learn more about interactive tables.';\n",
              "          element.innerHTML = '';\n",
              "          dataTable['output_type'] = 'display_data';\n",
              "          await google.colab.output.renderOutput(dataTable, element);\n",
              "          const docLink = document.createElement('div');\n",
              "          docLink.innerHTML = docLinkHtml;\n",
              "          element.appendChild(docLink);\n",
              "        }\n",
              "      </script>\n",
              "    </div>\n",
              "  </div>\n",
              "  "
            ]
          },
          "metadata": {},
          "execution_count": 4
        }
      ]
    },
    {
      "cell_type": "code",
      "source": [
        "def dBm2mV(dBm):\n",
        "  \n",
        "  mV =  np.power(10, (dBm + 46.9897)/20)\n",
        "  return mV"
      ],
      "metadata": {
        "id": "JYjDSj9dNs3-"
      },
      "execution_count": 5,
      "outputs": []
    },
    {
      "cell_type": "code",
      "source": [
        "data_mV = dBm2mV(data_dBm)\n",
        "globalMean = data_mV.mean()\n",
        "data_mV = data_mV / globalMean\n",
        "data_mV"
      ],
      "metadata": {
        "colab": {
          "base_uri": "https://localhost:8080/",
          "height": 423
        },
        "id": "wFz3HV9VNfF5",
        "outputId": "24590ff1-6d46-4de5-ce8d-1e8691c8ae1e"
      },
      "execution_count": 6,
      "outputs": [
        {
          "output_type": "execute_result",
          "data": {
            "text/plain": [
              "               0\n",
              "0       2.649921\n",
              "1       2.621534\n",
              "2       2.621534\n",
              "3       2.621534\n",
              "4       2.593451\n",
              "...          ...\n",
              "181139  0.549958\n",
              "181140  0.561933\n",
              "181141  0.549958\n",
              "181142  0.555913\n",
              "181143  0.549958\n",
              "\n",
              "[181144 rows x 1 columns]"
            ],
            "text/html": [
              "\n",
              "  <div id=\"df-0c52f33f-f060-4914-bf66-159400bf80de\">\n",
              "    <div class=\"colab-df-container\">\n",
              "      <div>\n",
              "<style scoped>\n",
              "    .dataframe tbody tr th:only-of-type {\n",
              "        vertical-align: middle;\n",
              "    }\n",
              "\n",
              "    .dataframe tbody tr th {\n",
              "        vertical-align: top;\n",
              "    }\n",
              "\n",
              "    .dataframe thead th {\n",
              "        text-align: right;\n",
              "    }\n",
              "</style>\n",
              "<table border=\"1\" class=\"dataframe\">\n",
              "  <thead>\n",
              "    <tr style=\"text-align: right;\">\n",
              "      <th></th>\n",
              "      <th>0</th>\n",
              "    </tr>\n",
              "  </thead>\n",
              "  <tbody>\n",
              "    <tr>\n",
              "      <th>0</th>\n",
              "      <td>2.649921</td>\n",
              "    </tr>\n",
              "    <tr>\n",
              "      <th>1</th>\n",
              "      <td>2.621534</td>\n",
              "    </tr>\n",
              "    <tr>\n",
              "      <th>2</th>\n",
              "      <td>2.621534</td>\n",
              "    </tr>\n",
              "    <tr>\n",
              "      <th>3</th>\n",
              "      <td>2.621534</td>\n",
              "    </tr>\n",
              "    <tr>\n",
              "      <th>4</th>\n",
              "      <td>2.593451</td>\n",
              "    </tr>\n",
              "    <tr>\n",
              "      <th>...</th>\n",
              "      <td>...</td>\n",
              "    </tr>\n",
              "    <tr>\n",
              "      <th>181139</th>\n",
              "      <td>0.549958</td>\n",
              "    </tr>\n",
              "    <tr>\n",
              "      <th>181140</th>\n",
              "      <td>0.561933</td>\n",
              "    </tr>\n",
              "    <tr>\n",
              "      <th>181141</th>\n",
              "      <td>0.549958</td>\n",
              "    </tr>\n",
              "    <tr>\n",
              "      <th>181142</th>\n",
              "      <td>0.555913</td>\n",
              "    </tr>\n",
              "    <tr>\n",
              "      <th>181143</th>\n",
              "      <td>0.549958</td>\n",
              "    </tr>\n",
              "  </tbody>\n",
              "</table>\n",
              "<p>181144 rows × 1 columns</p>\n",
              "</div>\n",
              "      <button class=\"colab-df-convert\" onclick=\"convertToInteractive('df-0c52f33f-f060-4914-bf66-159400bf80de')\"\n",
              "              title=\"Convert this dataframe to an interactive table.\"\n",
              "              style=\"display:none;\">\n",
              "        \n",
              "  <svg xmlns=\"http://www.w3.org/2000/svg\" height=\"24px\"viewBox=\"0 0 24 24\"\n",
              "       width=\"24px\">\n",
              "    <path d=\"M0 0h24v24H0V0z\" fill=\"none\"/>\n",
              "    <path d=\"M18.56 5.44l.94 2.06.94-2.06 2.06-.94-2.06-.94-.94-2.06-.94 2.06-2.06.94zm-11 1L8.5 8.5l.94-2.06 2.06-.94-2.06-.94L8.5 2.5l-.94 2.06-2.06.94zm10 10l.94 2.06.94-2.06 2.06-.94-2.06-.94-.94-2.06-.94 2.06-2.06.94z\"/><path d=\"M17.41 7.96l-1.37-1.37c-.4-.4-.92-.59-1.43-.59-.52 0-1.04.2-1.43.59L10.3 9.45l-7.72 7.72c-.78.78-.78 2.05 0 2.83L4 21.41c.39.39.9.59 1.41.59.51 0 1.02-.2 1.41-.59l7.78-7.78 2.81-2.81c.8-.78.8-2.07 0-2.86zM5.41 20L4 18.59l7.72-7.72 1.47 1.35L5.41 20z\"/>\n",
              "  </svg>\n",
              "      </button>\n",
              "      \n",
              "  <style>\n",
              "    .colab-df-container {\n",
              "      display:flex;\n",
              "      flex-wrap:wrap;\n",
              "      gap: 12px;\n",
              "    }\n",
              "\n",
              "    .colab-df-convert {\n",
              "      background-color: #E8F0FE;\n",
              "      border: none;\n",
              "      border-radius: 50%;\n",
              "      cursor: pointer;\n",
              "      display: none;\n",
              "      fill: #1967D2;\n",
              "      height: 32px;\n",
              "      padding: 0 0 0 0;\n",
              "      width: 32px;\n",
              "    }\n",
              "\n",
              "    .colab-df-convert:hover {\n",
              "      background-color: #E2EBFA;\n",
              "      box-shadow: 0px 1px 2px rgba(60, 64, 67, 0.3), 0px 1px 3px 1px rgba(60, 64, 67, 0.15);\n",
              "      fill: #174EA6;\n",
              "    }\n",
              "\n",
              "    [theme=dark] .colab-df-convert {\n",
              "      background-color: #3B4455;\n",
              "      fill: #D2E3FC;\n",
              "    }\n",
              "\n",
              "    [theme=dark] .colab-df-convert:hover {\n",
              "      background-color: #434B5C;\n",
              "      box-shadow: 0px 1px 3px 1px rgba(0, 0, 0, 0.15);\n",
              "      filter: drop-shadow(0px 1px 2px rgba(0, 0, 0, 0.3));\n",
              "      fill: #FFFFFF;\n",
              "    }\n",
              "  </style>\n",
              "\n",
              "      <script>\n",
              "        const buttonEl =\n",
              "          document.querySelector('#df-0c52f33f-f060-4914-bf66-159400bf80de button.colab-df-convert');\n",
              "        buttonEl.style.display =\n",
              "          google.colab.kernel.accessAllowed ? 'block' : 'none';\n",
              "\n",
              "        async function convertToInteractive(key) {\n",
              "          const element = document.querySelector('#df-0c52f33f-f060-4914-bf66-159400bf80de');\n",
              "          const dataTable =\n",
              "            await google.colab.kernel.invokeFunction('convertToInteractive',\n",
              "                                                     [key], {});\n",
              "          if (!dataTable) return;\n",
              "\n",
              "          const docLinkHtml = 'Like what you see? Visit the ' +\n",
              "            '<a target=\"_blank\" href=https://colab.research.google.com/notebooks/data_table.ipynb>data table notebook</a>'\n",
              "            + ' to learn more about interactive tables.';\n",
              "          element.innerHTML = '';\n",
              "          dataTable['output_type'] = 'display_data';\n",
              "          await google.colab.output.renderOutput(dataTable, element);\n",
              "          const docLink = document.createElement('div');\n",
              "          docLink.innerHTML = docLinkHtml;\n",
              "          element.appendChild(docLink);\n",
              "        }\n",
              "      </script>\n",
              "    </div>\n",
              "  </div>\n",
              "  "
            ]
          },
          "metadata": {},
          "execution_count": 6
        }
      ]
    },
    {
      "cell_type": "markdown",
      "source": [
        "## Genetic Algorithm with $\\kappa$-$\\mu$"
      ],
      "metadata": {
        "id": "-zWMJ53mRlOM"
      }
    },
    {
      "cell_type": "markdown",
      "source": [
        "### KDE Samples plot:"
      ],
      "metadata": {
        "id": "_lUkO4kkSQwK"
      }
    },
    {
      "cell_type": "code",
      "source": [
        "nExtractedSamples = 81\n",
        "Xdata = np.linspace(data_mV.min(), data_mV.max(), nExtractedSamples).reshape(-1, 1)\n",
        "kde = KernelDensity(kernel='gaussian', bandwidth=0.07).fit(data_mV.values.reshape(-1, 1))\n",
        "logkde = kde.score_samples(Xdata)\n",
        "Ydata = np.exp(logkde).reshape(-1,1)\n",
        "plt.figure(figsize=(10,7))\n",
        "plt.scatter(Xdata[::3], Ydata[::3], c='black')\n",
        "plt.title('Linear plot')\n",
        "plt.ylabel('Density')\n",
        "plt.xlabel('mV')\n",
        "plt.grid()\n",
        "plt.show()"
      ],
      "metadata": {
        "colab": {
          "base_uri": "https://localhost:8080/",
          "height": 458
        },
        "id": "mROaUnfP-vgL",
        "outputId": "7f85b3ec-85a0-4ab8-a9c4-166ed8a95e81"
      },
      "execution_count": 7,
      "outputs": [
        {
          "output_type": "display_data",
          "data": {
            "text/plain": [
              "<Figure size 720x504 with 1 Axes>"
            ],
            "image/png": "[encoded data removed]"
          },
          "metadata": {
            "needs_background": "light"
          }
        }
      ]
    },
    {
      "cell_type": "markdown",
      "source": [
        "### MLE: $\\kappa$-$\\mu$ and Shadowed $\\kappa$-$\\mu$:"
      ],
      "metadata": {
        "id": "ZinmnDT5SGk6"
      }
    },
    {
      "cell_type": "code",
      "source": [
        "from scipy.special import gamma\n",
        "import math\n",
        "\n",
        "mle_kappa_mu = [0.0100000000000222, 0.794245863440659, 0.984845553504606]\n",
        "\n",
        "mle_shadowed_kappa_mu = [2.50378514576399, 1.04171495240545, 1.52666133132221, 0.238939978717897]\n",
        "\n",
        "mle_rice = [0.0260577235710763, 0.884270540895972]\n",
        "rice_K = (mle_rice[0]**2) / (2*mle_rice[1]**2)\n",
        "rice_omega = (mle_rice[0]**2) + (2*mle_rice[1]**2)\n",
        "\n",
        "mle_nak = [0.631008863728655, 1.56440816925206]\n",
        "nak_m = mle_nak[0]\n",
        "nak_omega = mle_nak[1]"
      ],
      "metadata": {
        "id": "xrmv95JQpZCZ"
      },
      "execution_count": 8,
      "outputs": []
    },
    {
      "cell_type": "code",
      "source": [
        "def computePDF(r, kappa, mu, omega):\n",
        "  '''\n",
        "  kappa-mu pdf.\n",
        "  '''\n",
        "\n",
        "  A = (2*mu * ((1 + kappa)**((mu+1)/2))) \\\n",
        "          /(np.sqrt(omega) * (kappa**((mu-1)/2)) * np.exp(mu * kappa))\n",
        "  B = (r / np.sqrt(omega))**(mu)\n",
        "  C = np.exp(-mu*(1+kappa) * (r/np.sqrt(omega))**2)\n",
        "  D = sp.iv(mu-1, 2*mu * np.sqrt(kappa * (1+kappa)) * (r/np.sqrt(omega)))\n",
        "\n",
        "  pdf = A * B * C * D\n",
        "  return pdf\n",
        "\n",
        "def shadowedKappaMuPDF(r, kappa, mu, omega, md):\n",
        "  '''\n",
        "  shadowed kappa-mu pdf.\n",
        "  '''\n",
        "  A = 2 * r**((2*mu) -1) / omega**(mu)\n",
        "  B = (mu**mu * md**md * (1+kappa)**mu) / (sp.gamma(mu) * ((mu*kappa)+md)**md)\n",
        "  C = np.exp((- mu * (1+kappa) * r**2) / omega)\n",
        "  D = (mu**2) * kappa * (1+kappa) * (r**2)\n",
        "  E = ((mu*kappa)+md) * omega\n",
        "  F = sp.hyp1f1(md, mu, D / E)\n",
        "\n",
        "  pdf = A * B * C * F\n",
        "  return pdf\n",
        "\n",
        "def kldiv(pVec1, pVec2):\n",
        "  '''\n",
        "  Kullback-Leibler divergence.\n",
        "  '''\n",
        "  KL = np.sum(pVec1*(np.log2(pVec1)-np.log2(pVec2)))\n",
        "  return KL\n",
        "\n",
        "def RAD(kldiv1, kldiv2):\n",
        "  '''\n",
        "  Resistor-Average Distance.\n",
        "  '''\n",
        "  RAD = 1/(1/kldiv1+1/kldiv2)\n",
        "  return RAD\n",
        "\n",
        "\n",
        "def fitness(X, Y, fitnessType, kappa, mu, omega):\n",
        "  '''\n",
        "  Fitness function (MSE/RAD) to determine how good a given solution is.\n",
        "  '''\n",
        "  if fitnessType == 'MSE':\n",
        "    y_pred = computePDF(X, kappa, mu, omega)\n",
        "    n = len(Y)\n",
        "    cost = 1/n * sum(val**2 for val in (Y-y_pred))\n",
        "    return 1/cost\n",
        "  elif fitnessType == 'RAD':\n",
        "    pVec1 = Y/np.sum(Y)\n",
        "    pVec2 = computePDF(X, kappa, mu, omega)/np.sum(computePDF(X, kappa, mu, omega))\n",
        "    KLD_1 = kldiv(pVec1, pVec2)\n",
        "    KLD_2 = kldiv(pVec2, pVec1)\n",
        "    cost = RAD(KLD_1, KLD_2)\n",
        "    return 1/cost\n",
        "\n",
        "\n",
        "def geneticAlgorithm(X, Y, mleResults):\n",
        "  '''\n",
        "  Evolutionary Loop\n",
        "  '''\n",
        "  solutions = []\n",
        "  bestParams = []\n",
        "  bestCriteria = 0\n",
        "  bestGen = 0\n",
        "\n",
        "\n",
        "  # Generate solutions (chromossomes)\n",
        "  for s in range(nPopulation):\n",
        "    solutions.append((random.uniform(0.01, 10), # kappa\n",
        "                        random.uniform(0.1, 1.0), # mu\n",
        "                        random.uniform(0.1, 1.0))) # r_hat^2\n",
        "\n",
        "  # Evolutionary Loop\n",
        "  for i in range(nMaxGen):\n",
        "    rankedSolutions = []\t\n",
        "    for s in solutions:\n",
        "      rankedSolutions.append( (fitness(X, Y, fitnessType, s[0],s[1],s[2]), s) )\n",
        "    rankedSolutions.sort()\n",
        "    rankedSolutions.reverse()\n",
        "    \n",
        "    print(f'=== Generation: {i} === ')\n",
        "    print(f'Fitness: {rankedSolutions[0][0]}')\n",
        "    print('Best individual:')\n",
        "    print(f'Kappa: {rankedSolutions[0][1][0]}')\n",
        "    print(f'Mu: {rankedSolutions[0][1][1]}')\n",
        "    print(f'Omega: {rankedSolutions[0][1][2]}\\n')\n",
        "\n",
        "    plt.figure(figsize=((10,7)))\n",
        "    plt.plot(20*np.log10(X), computePDF(X, rankedSolutions[0][1][0], rankedSolutions[0][1][1], rankedSolutions[0][1][2]), label='Predicted')\n",
        "    plt.scatter(20*np.log10(X), Y, color='m', label='Real')\n",
        "    plt.plot(20*np.log10(X), computePDF(X, mleResults[0], mleResults[1], mleResults[2]), label='Nidhi\\'s MLE')\n",
        "    plt.title(f'=== Generation: {i} === ')\n",
        "    plt.legend()\n",
        "    plt.grid(True)\n",
        "    plt.xlabel(r'$\\rho=r/\\hat{r}$')\n",
        "    plt.ylabel('pdf')\n",
        "    if savePlots: \n",
        "      plt.savefig(f'plots/gen/gen_{i}.png')\n",
        "    \n",
        "    if showPlots:\n",
        "      plt.show()\n",
        "      plt.clf()\n",
        "    else: \n",
        "      plt.clf()\n",
        "\n",
        "    # Keeping track the best params and generation:\n",
        "    if rankedSolutions[0][0] > bestCriteria:\n",
        "      bestCriteria = rankedSolutions[0][0]\n",
        "      bestGen = i\n",
        "      bestParams = rankedSolutions[0][1]\n",
        "\n",
        "    # Stop Criterion: Fitness > 150 (TRIAL AND ERROR)\n",
        "    # if rankedSolutions[0][0] > 152.8:\n",
        "    #   print('='*10+'\\n'+'Stopped by fitness criteria!\\n'+'='*10+'\\n')\n",
        "    #   # print('='*10)\n",
        "    #   # print('Stopped by fitness criteria!')\n",
        "    #   # print('='*10)\n",
        "    #   print('Best Fitness: {}\\nBest Gen: {}'.format(bestCriteria, bestGen))\n",
        "    #   print('Kappa: {}\\nMu: {}\\nOmega: {}'.format(bestParams[0],bestParams[1],bestParams[2]))\n",
        "    #   break\n",
        "\n",
        "    # Combine the best solutions and make a new solution of those combined solutions\n",
        "    bestSolutions = rankedSolutions[:100]\n",
        "    elements_kappa = []\n",
        "    elements_mu = []\n",
        "    elements_omega = [] \n",
        "    for s in bestSolutions:\n",
        "      elements_kappa.append(s[1][0])\n",
        "      elements_mu.append(s[1][1])\n",
        "      elements_omega.append(s[1][2])\n",
        "\n",
        "    newGen = []\n",
        "    for _ in range(nPopulation):\n",
        "      e1 = random.choice(elements_kappa) * random.uniform(0.975,1.025) # Mutation of 5%\n",
        "      e2 = random.choice(elements_mu) * random.uniform(0.975,1.025) # Mutation of 5%\n",
        "      e3 = random.choice(elements_omega) * random.uniform(0.975,1.025) # Mutation of 5%\n",
        "      newGen.append((e1,e2,e3))\n",
        "\n",
        "    solutions = newGen\n",
        "    \n",
        "    if i == nMaxGen-1:\n",
        "      print('='*10+'\\n'+'Max number of generations exceeded!\\n'+'='*10+'\\n')\n",
        "      # print()\n",
        "      # print('='*10)\n",
        "      print('Best Fitness: {}\\nBest Gen: {}'.format(bestCriteria, bestGen))\n",
        "      print('Kappa: {}\\nMu: {}\\nOmega: {}'.format(bestParams[0],bestParams[1],bestParams[2]))\n",
        "\n",
        "      return bestParams[0],bestParams[1],bestParams[2]"
      ],
      "metadata": {
        "id": "_Ur3OZvQSVum"
      },
      "execution_count": 9,
      "outputs": []
    },
    {
      "cell_type": "markdown",
      "source": [
        "### $\\kappa$-$\\mu$ MLE plot:"
      ],
      "metadata": {
        "id": "vL_hMWP2SXXi"
      }
    },
    {
      "cell_type": "code",
      "source": [
        "k_u_pdf = computePDF(Xdata, mle_kappa_mu[0], mle_kappa_mu[1], mle_kappa_mu[2])\n",
        "plt.figure(figsize=(10,7))\n",
        "plt.scatter(Xdata, Ydata, c='black', label='Real Data')\n",
        "plt.plot(Xdata, k_u_pdf, c='blue', label=r'$\\kappa$-$\\mu$ MLE')\n",
        "plt.title('Linear plot')\n",
        "plt.ylabel('Density')\n",
        "plt.xlabel('mV')\n",
        "plt.legend()\n",
        "plt.grid()\n",
        "plt.show()"
      ],
      "metadata": {
        "colab": {
          "base_uri": "https://localhost:8080/",
          "height": 458
        },
        "id": "Snoe0pDrNNVb",
        "outputId": "b1c1a263-1481-4e80-d55e-0715e513e49e"
      },
      "execution_count": 10,
      "outputs": [
        {
          "output_type": "display_data",
          "data": {
            "text/plain": [
              "<Figure size 720x504 with 1 Axes>"
            ],
            "image/png": "[encoded data removed]"
          },
          "metadata": {
            "needs_background": "light"
          }
        }
      ]
    },
    {
      "cell_type": "markdown",
      "source": [
        "### GA: $\\kappa$-$\\mu$ (MSE) fit"
      ],
      "metadata": {
        "id": "a0MsiraSTWQB"
      }
    },
    {
      "cell_type": "code",
      "source": [
        "### PARAMETERS\n",
        "nMaxGen = 100\n",
        "nPopulation = 1000\n",
        "savePlots = False\n",
        "showPlots = False\n",
        "fitnessType = 'MSE'\n",
        "# nAP = 'AP2'\n",
        "kappa_hat, mu_hat, omega_hat = geneticAlgorithm(Xdata, Ydata, mle_kappa_mu)"
      ],
      "metadata": {
        "colab": {
          "base_uri": "https://localhost:8080/",
          "height": 1000
        },
        "id": "QzIwvxNiOs7v",
        "outputId": "a24b3d07-a093-43f3-885f-59c5f9c8dae2"
      },
      "execution_count": 11,
      "outputs": [
        {
          "output_type": "stream",
          "name": "stdout",
          "text": [
            "=== Generation: 0 === \n",
            "Fitness: [224.35346984]\n",
            "Best individual:\n",
            "Kappa: 0.5454399374632407\n",
            "Mu: 0.8387334468276446\n",
            "Omega: 0.8711052582060338\n",
            "\n",
            "=== Generation: 1 === \n",
            "Fitness: [322.31196179]\n",
            "Best individual:\n",
            "Kappa: 0.060075565391782576\n",
            "Mu: 0.811152085408624\n",
            "Omega: 0.9825678049243575\n",
            "\n",
            "=== Generation: 2 === \n",
            "Fitness: [313.21662401]\n",
            "Best individual:\n",
            "Kappa: 0.18265349301143563\n",
            "Mu: 0.7903967775404671\n",
            "Omega: 0.960697520217029\n",
            "\n",
            "=== Generation: 3 === \n",
            "Fitness: [324.25631503]\n",
            "Best individual:\n",
            "Kappa: 0.060187847561329666\n",
            "Mu: 0.7887280090279188\n",
            "Omega: 0.9975053186339825\n",
            "\n",
            "=== Generation: 4 === \n",
            "Fitness: [324.85691872]\n",
            "Best individual:\n",
            "Kappa: 0.05805273159937199\n",
            "Mu: 0.7915991622867722\n",
            "Omega: 0.9880673248780611\n",
            "\n",
            "=== Generation: 5 === \n",
            "Fitness: [324.93721643]\n",
            "Best individual:\n",
            "Kappa: 0.05739593826016847\n",
            "Mu: 0.7926816307887223\n",
            "Omega: 0.9853071954176099\n",
            "\n",
            "=== Generation: 6 === \n",
            "Fitness: [325.00658937]\n",
            "Best individual:\n",
            "Kappa: 0.05600485745640507\n",
            "Mu: 0.7942066121913163\n",
            "Omega: 0.9844175591270226\n",
            "\n",
            "=== Generation: 7 === \n",
            "Fitness: [325.10364664]\n",
            "Best individual:\n",
            "Kappa: 0.05361700578819289\n",
            "Mu: 0.7926748245437462\n",
            "Omega: 0.9856251506243326\n",
            "\n",
            "=== Generation: 8 === \n",
            "Fitness: [325.0402849]\n",
            "Best individual:\n",
            "Kappa: 0.05472234894356786\n",
            "Mu: 0.7927876425955995\n",
            "Omega: 0.9870612420623618\n",
            "\n",
            "=== Generation: 9 === \n",
            "Fitness: [325.15197395]\n",
            "Best individual:\n",
            "Kappa: 0.051260784745106126\n",
            "Mu: 0.7966731517203756\n",
            "Omega: 0.9832135296508578\n",
            "\n",
            "=== Generation: 10 === \n",
            "Fitness: [325.10736736]\n",
            "Best individual:\n",
            "Kappa: 0.05313254217758909\n",
            "Mu: 0.792077791191421\n",
            "Omega: 0.9865842644102367\n",
            "\n",
            "=== Generation: 11 === \n",
            "Fitness: [325.10485866]\n",
            "Best individual:\n",
            "Kappa: 0.05158201369121327\n",
            "Mu: 0.7950894169081918\n",
            "Omega: 0.9882740423248003\n",
            "\n",
            "=== Generation: 12 === \n",
            "Fitness: [325.23601574]\n",
            "Best individual:\n",
            "Kappa: 0.05049972888619349\n",
            "Mu: 0.7936448737991624\n",
            "Omega: 0.9826755011233614\n",
            "\n",
            "=== Generation: 13 === \n",
            "Fitness: [325.25446458]\n",
            "Best individual:\n",
            "Kappa: 0.05000317035494391\n",
            "Mu: 0.7937981314902124\n",
            "Omega: 0.9824362597115379\n",
            "\n",
            "=== Generation: 14 === \n",
            "Fitness: [325.27607496]\n",
            "Best individual:\n",
            "Kappa: 0.04885717691691469\n",
            "Mu: 0.794423095292755\n",
            "Omega: 0.9869803713195094\n",
            "\n",
            "=== Generation: 15 === \n",
            "Fitness: [325.33859342]\n",
            "Best individual:\n",
            "Kappa: 0.046910410350555674\n",
            "Mu: 0.7923634296943626\n",
            "Omega: 0.9822706018511609\n",
            "\n",
            "=== Generation: 16 === \n",
            "Fitness: [325.31892201]\n",
            "Best individual:\n",
            "Kappa: 0.04746429597456845\n",
            "Mu: 0.7921087138260496\n",
            "Omega: 0.9879911649180869\n",
            "\n",
            "=== Generation: 17 === \n",
            "Fitness: [325.31444955]\n",
            "Best individual:\n",
            "Kappa: 0.04664182905965933\n",
            "Mu: 0.795859685835656\n",
            "Omega: 0.9791752068220057\n",
            "\n",
            "=== Generation: 18 === \n",
            "Fitness: [325.39948869]\n",
            "Best individual:\n",
            "Kappa: 0.046311242671834243\n",
            "Mu: 0.7939164004446668\n",
            "Omega: 0.9825451756946962\n",
            "\n",
            "=== Generation: 19 === \n",
            "Fitness: [325.42091604]\n",
            "Best individual:\n",
            "Kappa: 0.045255608283721646\n",
            "Mu: 0.7958881487738318\n",
            "Omega: 0.9829811123113971\n",
            "\n",
            "=== Generation: 20 === \n",
            "Fitness: [325.46239547]\n",
            "Best individual:\n",
            "Kappa: 0.04484585528713136\n",
            "Mu: 0.7935467863171634\n",
            "Omega: 0.983963857167939\n",
            "\n",
            "=== Generation: 21 === \n",
            "Fitness: [325.44751595]\n",
            "Best individual:\n",
            "Kappa: 0.044647871074731976\n",
            "Mu: 0.7953544664147759\n",
            "Omega: 0.9818354229394014\n",
            "\n",
            "=== Generation: 22 === \n",
            "Fitness: [325.47496284]\n",
            "Best individual:\n",
            "Kappa: 0.04430328153012313\n",
            "Mu: 0.7946766708868358\n",
            "Omega: 0.9851275110936042\n",
            "\n",
            "=== Generation: 23 === \n",
            "Fitness: [325.4940337]\n",
            "Best individual:\n",
            "Kappa: 0.04289519362452446\n",
            "Mu: 0.7926779739235678\n",
            "Omega: 0.9823588512676108\n",
            "\n",
            "=== Generation: 24 === \n",
            "Fitness: [325.47928012]\n",
            "Best individual:\n",
            "Kappa: 0.04329318481349481\n",
            "Mu: 0.7961425015966014\n",
            "Omega: 0.9842631494474259\n",
            "\n",
            "=== Generation: 25 === \n",
            "Fitness: [325.54291829]\n",
            "Best individual:\n",
            "Kappa: 0.04255369402766325\n",
            "Mu: 0.794178971578961\n",
            "Omega: 0.9832923997015791\n",
            "\n",
            "=== Generation: 26 === \n",
            "Fitness: [325.50737648]\n",
            "Best individual:\n",
            "Kappa: 0.04195819186537807\n",
            "Mu: 0.7967498559770361\n",
            "Omega: 0.9818749961323718\n",
            "\n",
            "=== Generation: 27 === \n",
            "Fitness: [325.57730991]\n",
            "Best individual:\n",
            "Kappa: 0.041231035280204976\n",
            "Mu: 0.7948482452585831\n",
            "Omega: 0.9854553868305499\n",
            "\n",
            "=== Generation: 28 === \n",
            "Fitness: [325.52009105]\n",
            "Best individual:\n",
            "Kappa: 0.0432905293308605\n",
            "Mu: 0.7942382660497913\n",
            "Omega: 0.9842229469047439\n",
            "\n",
            "=== Generation: 29 === \n",
            "Fitness: [325.52780131]\n",
            "Best individual:\n",
            "Kappa: 0.04029763914811435\n",
            "Mu: 0.7912616432720555\n",
            "Omega: 0.9894620023590933\n",
            "\n",
            "=== Generation: 30 === \n",
            "Fitness: [325.54250656]\n",
            "Best individual:\n",
            "Kappa: 0.04242592280944122\n",
            "Mu: 0.7932119856075917\n",
            "Omega: 0.9837697495872111\n",
            "\n",
            "=== Generation: 31 === \n",
            "Fitness: [325.56636255]\n",
            "Best individual:\n",
            "Kappa: 0.04119800031058359\n",
            "Mu: 0.7947207265093728\n",
            "Omega: 0.9814434261368683\n",
            "\n",
            "=== Generation: 32 === \n",
            "Fitness: [325.6378812]\n",
            "Best individual:\n",
            "Kappa: 0.03945226492410071\n",
            "Mu: 0.7950744476286943\n",
            "Omega: 0.9848729396702605\n",
            "\n",
            "=== Generation: 33 === \n",
            "Fitness: [325.63170046]\n",
            "Best individual:\n",
            "Kappa: 0.03983710054693329\n",
            "Mu: 0.7931117760413006\n",
            "Omega: 0.9846406991887905\n",
            "\n",
            "=== Generation: 34 === \n",
            "Fitness: [325.64796631]\n",
            "Best individual:\n",
            "Kappa: 0.03924651657932292\n",
            "Mu: 0.7943774440633287\n",
            "Omega: 0.9857443792067974\n",
            "\n",
            "=== Generation: 35 === \n",
            "Fitness: [325.70169576]\n",
            "Best individual:\n",
            "Kappa: 0.036397814486875964\n",
            "Mu: 0.7932550381445469\n",
            "Omega: 0.981675870337609\n",
            "\n",
            "=== Generation: 36 === \n",
            "Fitness: [325.63893829]\n",
            "Best individual:\n",
            "Kappa: 0.03968291602197242\n",
            "Mu: 0.7932598689831498\n",
            "Omega: 0.9848337189752174\n",
            "\n",
            "=== Generation: 37 === \n",
            "Fitness: [325.62961145]\n",
            "Best individual:\n",
            "Kappa: 0.039280219332320204\n",
            "Mu: 0.7928372736719673\n",
            "Omega: 0.9830455938175114\n",
            "\n",
            "=== Generation: 38 === \n",
            "Fitness: [325.66476678]\n",
            "Best individual:\n",
            "Kappa: 0.038619659912682264\n",
            "Mu: 0.7952880378267272\n",
            "Omega: 0.9840522645284536\n",
            "\n",
            "=== Generation: 39 === \n",
            "Fitness: [325.68588203]\n",
            "Best individual:\n",
            "Kappa: 0.03682990996677342\n",
            "Mu: 0.7961947321940175\n",
            "Omega: 0.9812993153148035\n",
            "\n",
            "=== Generation: 40 === \n",
            "Fitness: [325.7020525]\n",
            "Best individual:\n",
            "Kappa: 0.03677609014682424\n",
            "Mu: 0.7927228826687671\n",
            "Omega: 0.9876436267507482\n",
            "\n",
            "=== Generation: 41 === \n",
            "Fitness: [325.69094114]\n",
            "Best individual:\n",
            "Kappa: 0.03787885633974518\n",
            "Mu: 0.7937852344457654\n",
            "Omega: 0.9830229487797196\n",
            "\n",
            "=== Generation: 42 === \n",
            "Fitness: [325.7340891]\n",
            "Best individual:\n",
            "Kappa: 0.03645210302134129\n",
            "Mu: 0.7951581959490325\n",
            "Omega: 0.9833116392045222\n",
            "\n",
            "=== Generation: 43 === \n",
            "Fitness: [325.76785494]\n",
            "Best individual:\n",
            "Kappa: 0.03539728904953137\n",
            "Mu: 0.7940608165164961\n",
            "Omega: 0.9830669734406075\n",
            "\n",
            "=== Generation: 44 === \n",
            "Fitness: [325.77391034]\n",
            "Best individual:\n",
            "Kappa: 0.03468146307769881\n",
            "Mu: 0.7948119486890589\n",
            "Omega: 0.9863154123464943\n",
            "\n",
            "=== Generation: 45 === \n",
            "Fitness: [325.79775853]\n",
            "Best individual:\n",
            "Kappa: 0.03437020509594746\n",
            "Mu: 0.7946606516817991\n",
            "Omega: 0.9830361678547161\n",
            "\n",
            "=== Generation: 46 === \n",
            "Fitness: [325.76003741]\n",
            "Best individual:\n",
            "Kappa: 0.0352654553743134\n",
            "Mu: 0.7949659587660426\n",
            "Omega: 0.9820455054130096\n",
            "\n",
            "=== Generation: 47 === \n",
            "Fitness: [325.7564245]\n",
            "Best individual:\n",
            "Kappa: 0.03572292129146523\n",
            "Mu: 0.7930535580959306\n",
            "Omega: 0.9858478774224242\n",
            "\n",
            "=== Generation: 48 === \n",
            "Fitness: [325.80008674]\n",
            "Best individual:\n",
            "Kappa: 0.033901094657058733\n",
            "Mu: 0.7939632176362165\n",
            "Omega: 0.9823744738697382\n",
            "\n",
            "=== Generation: 49 === \n",
            "Fitness: [325.81128876]\n",
            "Best individual:\n",
            "Kappa: 0.032738023343866066\n",
            "Mu: 0.7923163571142111\n",
            "Omega: 0.9877294747359888\n",
            "\n",
            "=== Generation: 50 === \n",
            "Fitness: [325.80881619]\n",
            "Best individual:\n",
            "Kappa: 0.0324915497586733\n",
            "Mu: 0.7923917029546961\n",
            "Omega: 0.9829229442855949\n",
            "\n",
            "=== Generation: 51 === \n",
            "Fitness: [325.87236573]\n",
            "Best individual:\n",
            "Kappa: 0.0318716348424714\n",
            "Mu: 0.7940828693979584\n",
            "Omega: 0.9850854505259187\n",
            "\n",
            "=== Generation: 52 === \n",
            "Fitness: [325.84070973]\n",
            "Best individual:\n",
            "Kappa: 0.03301046094445905\n",
            "Mu: 0.7943361291002321\n",
            "Omega: 0.9837397313590418\n",
            "\n",
            "=== Generation: 53 === \n",
            "Fitness: [325.85479869]\n",
            "Best individual:\n",
            "Kappa: 0.03244435917211757\n",
            "Mu: 0.794412030163917\n",
            "Omega: 0.9852037626261564\n",
            "\n",
            "=== Generation: 54 === \n",
            "Fitness: [325.8642746]\n",
            "Best individual:\n",
            "Kappa: 0.032135374705936456\n",
            "Mu: 0.7936059552428264\n",
            "Omega: 0.9850867931814118\n",
            "\n",
            "=== Generation: 55 === \n",
            "Fitness: [325.85833696]\n",
            "Best individual:\n",
            "Kappa: 0.031922908442322415\n",
            "Mu: 0.7935481163653563\n",
            "Omega: 0.9866950899529863\n",
            "\n",
            "=== Generation: 56 === \n",
            "Fitness: [325.86740094]\n",
            "Best individual:\n",
            "Kappa: 0.031221761360182374\n",
            "Mu: 0.7951246723995711\n",
            "Omega: 0.9860142503458134\n",
            "\n",
            "=== Generation: 57 === \n",
            "Fitness: [325.87682241]\n",
            "Best individual:\n",
            "Kappa: 0.030506705505748962\n",
            "Mu: 0.7944211378786107\n",
            "Omega: 0.9873563837592843\n",
            "\n",
            "=== Generation: 58 === \n",
            "Fitness: [325.87523388]\n",
            "Best individual:\n",
            "Kappa: 0.03132977451169066\n",
            "Mu: 0.7944784135542613\n",
            "Omega: 0.9825821135433306\n",
            "\n",
            "=== Generation: 59 === \n",
            "Fitness: [325.87831265]\n",
            "Best individual:\n",
            "Kappa: 0.03101473335743715\n",
            "Mu: 0.7936549974254427\n",
            "Omega: 0.9869690361247316\n",
            "\n",
            "=== Generation: 60 === \n",
            "Fitness: [325.8611265]\n",
            "Best individual:\n",
            "Kappa: 0.0304079967550046\n",
            "Mu: 0.7942373290998688\n",
            "Omega: 0.9807955367795078\n",
            "\n",
            "=== Generation: 61 === \n",
            "Fitness: [325.87604501]\n",
            "Best individual:\n",
            "Kappa: 0.031407267938530874\n",
            "Mu: 0.7950194401919636\n",
            "Omega: 0.9849601163986328\n",
            "\n",
            "=== Generation: 62 === \n",
            "Fitness: [325.86201624]\n",
            "Best individual:\n",
            "Kappa: 0.031556628528947084\n",
            "Mu: 0.7955443663503484\n",
            "Omega: 0.9826119998531048\n",
            "\n",
            "=== Generation: 63 === \n",
            "Fitness: [325.96309637]\n",
            "Best individual:\n",
            "Kappa: 0.028187805767098964\n",
            "Mu: 0.7944314069919817\n",
            "Omega: 0.98384769500292\n",
            "\n",
            "=== Generation: 64 === \n",
            "Fitness: [325.93379966]\n",
            "Best individual:\n",
            "Kappa: 0.028714819502572264\n",
            "Mu: 0.7931159006082252\n",
            "Omega: 0.9835100296727635\n",
            "\n",
            "=== Generation: 65 === \n",
            "Fitness: [325.95425804]\n",
            "Best individual:\n",
            "Kappa: 0.028562387714610296\n",
            "Mu: 0.7943202470487286\n",
            "Omega: 0.9851887288733422\n",
            "\n",
            "=== Generation: 66 === \n",
            "Fitness: [325.96541717]\n",
            "Best individual:\n",
            "Kappa: 0.027336579458261998\n",
            "Mu: 0.7937560205299893\n",
            "Omega: 0.9871337218238777\n",
            "\n",
            "=== Generation: 67 === \n",
            "Fitness: [325.9438293]\n",
            "Best individual:\n",
            "Kappa: 0.02802096759918655\n",
            "Mu: 0.7959732501966764\n",
            "Omega: 0.983299974004498\n",
            "\n",
            "=== Generation: 68 === \n",
            "Fitness: [325.98474028]\n",
            "Best individual:\n",
            "Kappa: 0.02728660891922606\n",
            "Mu: 0.7944057320447206\n",
            "Omega: 0.9840854864468949\n",
            "\n",
            "=== Generation: 69 === \n",
            "Fitness: [325.94242595]\n",
            "Best individual:\n",
            "Kappa: 0.027270016197958543\n",
            "Mu: 0.7950557410797423\n",
            "Omega: 0.9873256789281938\n",
            "\n",
            "=== Generation: 70 === \n",
            "Fitness: [325.96943227]\n",
            "Best individual:\n",
            "Kappa: 0.026584865675537528\n",
            "Mu: 0.7922411082939977\n",
            "Omega: 0.984736162163034\n",
            "\n",
            "=== Generation: 71 === \n",
            "Fitness: [325.98129849]\n",
            "Best individual:\n",
            "Kappa: 0.026358142225714636\n",
            "Mu: 0.794866123224019\n",
            "Omega: 0.9817632162287113\n",
            "\n",
            "=== Generation: 72 === \n",
            "Fitness: [325.96386737]\n",
            "Best individual:\n",
            "Kappa: 0.02741350809578986\n",
            "Mu: 0.7935479944766078\n",
            "Omega: 0.9871496321525312\n",
            "\n",
            "=== Generation: 73 === \n",
            "Fitness: [325.96212924]\n",
            "Best individual:\n",
            "Kappa: 0.027975644995230777\n",
            "Mu: 0.7950905625372939\n",
            "Omega: 0.984607700110638\n",
            "\n",
            "=== Generation: 74 === \n",
            "Fitness: [325.99442972]\n",
            "Best individual:\n",
            "Kappa: 0.02685544444746277\n",
            "Mu: 0.7944350673657852\n",
            "Omega: 0.9848333475312204\n",
            "\n",
            "=== Generation: 75 === \n",
            "Fitness: [325.99806529]\n",
            "Best individual:\n",
            "Kappa: 0.0255517323741484\n",
            "Mu: 0.7959480940900936\n",
            "Omega: 0.984347532639323\n",
            "\n",
            "=== Generation: 76 === \n",
            "Fitness: [325.9648862]\n",
            "Best individual:\n",
            "Kappa: 0.027481278691983937\n",
            "Mu: 0.7928497321477453\n",
            "Omega: 0.9864675072829576\n",
            "\n",
            "=== Generation: 77 === \n",
            "Fitness: [325.99843153]\n",
            "Best individual:\n",
            "Kappa: 0.025533436556885114\n",
            "Mu: 0.7954007092462737\n",
            "Omega: 0.9818800036762103\n",
            "\n",
            "=== Generation: 78 === \n",
            "Fitness: [326.01829516]\n",
            "Best individual:\n",
            "Kappa: 0.025641927062277983\n",
            "Mu: 0.7939584126851116\n",
            "Omega: 0.9838163122168903\n",
            "\n",
            "=== Generation: 79 === \n",
            "Fitness: [326.02186469]\n",
            "Best individual:\n",
            "Kappa: 0.02520550930296637\n",
            "Mu: 0.7930553910948482\n",
            "Omega: 0.985378837061283\n",
            "\n",
            "=== Generation: 80 === \n",
            "Fitness: [325.97574952]\n",
            "Best individual:\n",
            "Kappa: 0.02418464256231163\n",
            "Mu: 0.7925215499377151\n",
            "Omega: 0.9896822398187071\n",
            "\n",
            "=== Generation: 81 === \n",
            "Fitness: [325.99252579]\n",
            "Best individual:\n",
            "Kappa: 0.026515318557395032\n",
            "Mu: 0.7934212795284039\n",
            "Omega: 0.9864474596979217\n",
            "\n",
            "=== Generation: 82 === \n",
            "Fitness: [326.01798749]\n",
            "Best individual:\n",
            "Kappa: 0.025802794227492383\n",
            "Mu: 0.7944155884252643\n",
            "Omega: 0.9843250544256872\n",
            "\n",
            "=== Generation: 83 === \n",
            "Fitness: [326.02197976]\n",
            "Best individual:\n",
            "Kappa: 0.023798812272087334\n",
            "Mu: 0.7946172239964828\n",
            "Omega: 0.9876180085265972\n",
            "\n",
            "=== Generation: 84 === \n",
            "Fitness: [326.04638794]\n",
            "Best individual:\n",
            "Kappa: 0.024062890624963734\n",
            "Mu: 0.7931849700348239\n",
            "Omega: 0.98578956168781\n",
            "\n",
            "=== Generation: 85 === \n",
            "Fitness: [326.03166131]\n",
            "Best individual:\n",
            "Kappa: 0.024100260130094156\n",
            "Mu: 0.7933406648242328\n",
            "Omega: 0.98302036310538\n",
            "\n",
            "=== Generation: 86 === \n",
            "Fitness: [326.05807324]\n",
            "Best individual:\n",
            "Kappa: 0.0233720256090248\n",
            "Mu: 0.794498393981981\n",
            "Omega: 0.9861342120884902\n",
            "\n",
            "=== Generation: 87 === \n",
            "Fitness: [326.00972475]\n",
            "Best individual:\n",
            "Kappa: 0.024227864515602406\n",
            "Mu: 0.7934082125241214\n",
            "Omega: 0.9819333955050951\n",
            "\n",
            "=== Generation: 88 === \n",
            "Fitness: [326.01704854]\n",
            "Best individual:\n",
            "Kappa: 0.025045790539262962\n",
            "Mu: 0.7934277825600383\n",
            "Omega: 0.9870676535955788\n",
            "\n",
            "=== Generation: 89 === \n",
            "Fitness: [326.04835063]\n",
            "Best individual:\n",
            "Kappa: 0.0239963255534309\n",
            "Mu: 0.7937383953904575\n",
            "Omega: 0.983634049207358\n",
            "\n",
            "=== Generation: 90 === \n",
            "Fitness: [326.04108315]\n",
            "Best individual:\n",
            "Kappa: 0.02442172831712182\n",
            "Mu: 0.7939100273202104\n",
            "Omega: 0.983561546171085\n",
            "\n",
            "=== Generation: 91 === \n",
            "Fitness: [326.02918601]\n",
            "Best individual:\n",
            "Kappa: 0.02381959941714583\n",
            "Mu: 0.7961551819670748\n",
            "Omega: 0.982825492064532\n",
            "\n",
            "=== Generation: 92 === \n",
            "Fitness: [326.06161013]\n",
            "Best individual:\n",
            "Kappa: 0.022907492250218556\n",
            "Mu: 0.7955794586855244\n",
            "Omega: 0.9844585232541792\n",
            "\n",
            "=== Generation: 93 === \n",
            "Fitness: [326.03482868]\n",
            "Best individual:\n",
            "Kappa: 0.023931982120747965\n",
            "Mu: 0.795913449953185\n",
            "Omega: 0.9833721015088209\n",
            "\n",
            "=== Generation: 94 === \n",
            "Fitness: [326.06896307]\n",
            "Best individual:\n",
            "Kappa: 0.023118003304517448\n",
            "Mu: 0.7939712292539878\n",
            "Omega: 0.9837627009340093\n",
            "\n",
            "=== Generation: 95 === \n",
            "Fitness: [326.06377512]\n",
            "Best individual:\n",
            "Kappa: 0.023564013752136927\n",
            "Mu: 0.7944845138472963\n",
            "Omega: 0.9847447621532147\n",
            "\n",
            "=== Generation: 96 === \n",
            "Fitness: [326.04415896]\n",
            "Best individual:\n",
            "Kappa: 0.024255860293795478\n",
            "Mu: 0.7944417105862762\n",
            "Omega: 0.9858274209486754\n",
            "\n",
            "=== Generation: 97 === \n",
            "Fitness: [326.03019698]\n",
            "Best individual:\n",
            "Kappa: 0.024499229427039398\n",
            "Mu: 0.7934046524802242\n",
            "Omega: 0.9869267603735679\n",
            "\n",
            "=== Generation: 98 === \n",
            "Fitness: [326.04911193]\n",
            "Best individual:\n",
            "Kappa: 0.024260966067223774\n",
            "Mu: 0.7946038557937634\n",
            "Omega: 0.9841239103877719\n",
            "\n",
            "=== Generation: 99 === \n",
            "Fitness: [326.06688227]\n",
            "Best individual:\n",
            "Kappa: 0.022329952401608812\n",
            "Mu: 0.7939569564130995\n",
            "Omega: 0.982423751500424\n",
            "\n",
            "==========\n",
            "Max number of generations exceeded!\n",
            "==========\n",
            "\n",
            "Best Fitness: [326.06896307]\n",
            "Best Gen: 94\n",
            "Kappa: 0.023118003304517448\n",
            "Mu: 0.7939712292539878\n",
            "Omega: 0.9837627009340093\n"
          ]
        },
        {
          "output_type": "display_data",
          "data": {
            "text/plain": [
              "<Figure size 720x504 with 0 Axes>"
            ]
          },
          "metadata": {}
        },
        {
          "output_type": "display_data",
          "data": {
            "text/plain": [
              "<Figure size 720x504 with 0 Axes>"
            ]
          },
          "metadata": {}
        },
        {
          "output_type": "display_data",
          "data": {
            "text/plain": [
              "<Figure size 720x504 with 0 Axes>"
            ]
          },
          "metadata": {}
        },
        {
          "output_type": "display_data",
          "data": {
            "text/plain": [
              "<Figure size 720x504 with 0 Axes>"
            ]
          },
          "metadata": {}
        },
        {
          "output_type": "display_data",
          "data": {
            "text/plain": [
              "<Figure size 720x504 with 0 Axes>"
            ]
          },
          "metadata": {}
        },
        {
          "output_type": "display_data",
          "data": {
            "text/plain": [
              "<Figure size 720x504 with 0 Axes>"
            ]
          },
          "metadata": {}
        },
        {
          "output_type": "display_data",
          "data": {
            "text/plain": [
              "<Figure size 720x504 with 0 Axes>"
            ]
          },
          "metadata": {}
        },
        {
          "output_type": "display_data",
          "data": {
            "text/plain": [
              "<Figure size 720x504 with 0 Axes>"
            ]
          },
          "metadata": {}
        },
        {
          "output_type": "display_data",
          "data": {
            "text/plain": [
              "<Figure size 720x504 with 0 Axes>"
            ]
          },
          "metadata": {}
        },
        {
          "output_type": "display_data",
          "data": {
            "text/plain": [
              "<Figure size 720x504 with 0 Axes>"
            ]
          },
          "metadata": {}
        },
        {
          "output_type": "display_data",
          "data": {
            "text/plain": [
              "<Figure size 720x504 with 0 Axes>"
            ]
          },
          "metadata": {}
        },
        {
          "output_type": "display_data",
          "data": {
            "text/plain": [
              "<Figure size 720x504 with 0 Axes>"
            ]
          },
          "metadata": {}
        },
        {
          "output_type": "display_data",
          "data": {
            "text/plain": [
              "<Figure size 720x504 with 0 Axes>"
            ]
          },
          "metadata": {}
        },
        {
          "output_type": "display_data",
          "data": {
            "text/plain": [
              "<Figure size 720x504 with 0 Axes>"
            ]
          },
          "metadata": {}
        },
        {
          "output_type": "display_data",
          "data": {
            "text/plain": [
              "<Figure size 720x504 with 0 Axes>"
            ]
          },
          "metadata": {}
        },
        {
          "output_type": "display_data",
          "data": {
            "text/plain": [
              "<Figure size 720x504 with 0 Axes>"
            ]
          },
          "metadata": {}
        },
        {
          "output_type": "display_data",
          "data": {
            "text/plain": [
              "<Figure size 720x504 with 0 Axes>"
            ]
          },
          "metadata": {}
        },
        {
          "output_type": "display_data",
          "data": {
            "text/plain": [
              "<Figure size 720x504 with 0 Axes>"
            ]
          },
          "metadata": {}
        },
        {
          "output_type": "display_data",
          "data": {
            "text/plain": [
              "<Figure size 720x504 with 0 Axes>"
            ]
          },
          "metadata": {}
        },
        {
          "output_type": "display_data",
          "data": {
            "text/plain": [
              "<Figure size 720x504 with 0 Axes>"
            ]
          },
          "metadata": {}
        },
        {
          "output_type": "display_data",
          "data": {
            "text/plain": [
              "<Figure size 720x504 with 0 Axes>"
            ]
          },
          "metadata": {}
        },
        {
          "output_type": "display_data",
          "data": {
            "text/plain": [
              "<Figure size 720x504 with 0 Axes>"
            ]
          },
          "metadata": {}
        },
        {
          "output_type": "display_data",
          "data": {
            "text/plain": [
              "<Figure size 720x504 with 0 Axes>"
            ]
          },
          "metadata": {}
        },
        {
          "output_type": "display_data",
          "data": {
            "text/plain": [
              "<Figure size 720x504 with 0 Axes>"
            ]
          },
          "metadata": {}
        },
        {
          "output_type": "display_data",
          "data": {
            "text/plain": [
              "<Figure size 720x504 with 0 Axes>"
            ]
          },
          "metadata": {}
        },
        {
          "output_type": "display_data",
          "data": {
            "text/plain": [
              "<Figure size 720x504 with 0 Axes>"
            ]
          },
          "metadata": {}
        },
        {
          "output_type": "display_data",
          "data": {
            "text/plain": [
              "<Figure size 720x504 with 0 Axes>"
            ]
          },
          "metadata": {}
        },
        {
          "output_type": "display_data",
          "data": {
            "text/plain": [
              "<Figure size 720x504 with 0 Axes>"
            ]
          },
          "metadata": {}
        },
        {
          "output_type": "display_data",
          "data": {
            "text/plain": [
              "<Figure size 720x504 with 0 Axes>"
            ]
          },
          "metadata": {}
        },
        {
          "output_type": "display_data",
          "data": {
            "text/plain": [
              "<Figure size 720x504 with 0 Axes>"
            ]
          },
          "metadata": {}
        },
        {
          "output_type": "display_data",
          "data": {
            "text/plain": [
              "<Figure size 720x504 with 0 Axes>"
            ]
          },
          "metadata": {}
        },
        {
          "output_type": "display_data",
          "data": {
            "text/plain": [
              "<Figure size 720x504 with 0 Axes>"
            ]
          },
          "metadata": {}
        },
        {
          "output_type": "display_data",
          "data": {
            "text/plain": [
              "<Figure size 720x504 with 0 Axes>"
            ]
          },
          "metadata": {}
        },
        {
          "output_type": "display_data",
          "data": {
            "text/plain": [
              "<Figure size 720x504 with 0 Axes>"
            ]
          },
          "metadata": {}
        },
        {
          "output_type": "display_data",
          "data": {
            "text/plain": [
              "<Figure size 720x504 with 0 Axes>"
            ]
          },
          "metadata": {}
        },
        {
          "output_type": "display_data",
          "data": {
            "text/plain": [
              "<Figure size 720x504 with 0 Axes>"
            ]
          },
          "metadata": {}
        },
        {
          "output_type": "display_data",
          "data": {
            "text/plain": [
              "<Figure size 720x504 with 0 Axes>"
            ]
          },
          "metadata": {}
        },
        {
          "output_type": "display_data",
          "data": {
            "text/plain": [
              "<Figure size 720x504 with 0 Axes>"
            ]
          },
          "metadata": {}
        },
        {
          "output_type": "display_data",
          "data": {
            "text/plain": [
              "<Figure size 720x504 with 0 Axes>"
            ]
          },
          "metadata": {}
        },
        {
          "output_type": "display_data",
          "data": {
            "text/plain": [
              "<Figure size 720x504 with 0 Axes>"
            ]
          },
          "metadata": {}
        },
        {
          "output_type": "display_data",
          "data": {
            "text/plain": [
              "<Figure size 720x504 with 0 Axes>"
            ]
          },
          "metadata": {}
        },
        {
          "output_type": "display_data",
          "data": {
            "text/plain": [
              "<Figure size 720x504 with 0 Axes>"
            ]
          },
          "metadata": {}
        },
        {
          "output_type": "display_data",
          "data": {
            "text/plain": [
              "<Figure size 720x504 with 0 Axes>"
            ]
          },
          "metadata": {}
        },
        {
          "output_type": "display_data",
          "data": {
            "text/plain": [
              "<Figure size 720x504 with 0 Axes>"
            ]
          },
          "metadata": {}
        },
        {
          "output_type": "display_data",
          "data": {
            "text/plain": [
              "<Figure size 720x504 with 0 Axes>"
            ]
          },
          "metadata": {}
        },
        {
          "output_type": "display_data",
          "data": {
            "text/plain": [
              "<Figure size 720x504 with 0 Axes>"
            ]
          },
          "metadata": {}
        },
        {
          "output_type": "display_data",
          "data": {
            "text/plain": [
              "<Figure size 720x504 with 0 Axes>"
            ]
          },
          "metadata": {}
        },
        {
          "output_type": "display_data",
          "data": {
            "text/plain": [
              "<Figure size 720x504 with 0 Axes>"
            ]
          },
          "metadata": {}
        },
        {
          "output_type": "display_data",
          "data": {
            "text/plain": [
              "<Figure size 720x504 with 0 Axes>"
            ]
          },
          "metadata": {}
        },
        {
          "output_type": "display_data",
          "data": {
            "text/plain": [
              "<Figure size 720x504 with 0 Axes>"
            ]
          },
          "metadata": {}
        },
        {
          "output_type": "display_data",
          "data": {
            "text/plain": [
              "<Figure size 720x504 with 0 Axes>"
            ]
          },
          "metadata": {}
        },
        {
          "output_type": "display_data",
          "data": {
            "text/plain": [
              "<Figure size 720x504 with 0 Axes>"
            ]
          },
          "metadata": {}
        },
        {
          "output_type": "display_data",
          "data": {
            "text/plain": [
              "<Figure size 720x504 with 0 Axes>"
            ]
          },
          "metadata": {}
        },
        {
          "output_type": "display_data",
          "data": {
            "text/plain": [
              "<Figure size 720x504 with 0 Axes>"
            ]
          },
          "metadata": {}
        },
        {
          "output_type": "display_data",
          "data": {
            "text/plain": [
              "<Figure size 720x504 with 0 Axes>"
            ]
          },
          "metadata": {}
        },
        {
          "output_type": "display_data",
          "data": {
            "text/plain": [
              "<Figure size 720x504 with 0 Axes>"
            ]
          },
          "metadata": {}
        },
        {
          "output_type": "display_data",
          "data": {
            "text/plain": [
              "<Figure size 720x504 with 0 Axes>"
            ]
          },
          "metadata": {}
        },
        {
          "output_type": "display_data",
          "data": {
            "text/plain": [
              "<Figure size 720x504 with 0 Axes>"
            ]
          },
          "metadata": {}
        },
        {
          "output_type": "display_data",
          "data": {
            "text/plain": [
              "<Figure size 720x504 with 0 Axes>"
            ]
          },
          "metadata": {}
        },
        {
          "output_type": "display_data",
          "data": {
            "text/plain": [
              "<Figure size 720x504 with 0 Axes>"
            ]
          },
          "metadata": {}
        },
        {
          "output_type": "display_data",
          "data": {
            "text/plain": [
              "<Figure size 720x504 with 0 Axes>"
            ]
          },
          "metadata": {}
        },
        {
          "output_type": "display_data",
          "data": {
            "text/plain": [
              "<Figure size 720x504 with 0 Axes>"
            ]
          },
          "metadata": {}
        },
        {
          "output_type": "display_data",
          "data": {
            "text/plain": [
              "<Figure size 720x504 with 0 Axes>"
            ]
          },
          "metadata": {}
        },
        {
          "output_type": "display_data",
          "data": {
            "text/plain": [
              "<Figure size 720x504 with 0 Axes>"
            ]
          },
          "metadata": {}
        },
        {
          "output_type": "display_data",
          "data": {
            "text/plain": [
              "<Figure size 720x504 with 0 Axes>"
            ]
          },
          "metadata": {}
        },
        {
          "output_type": "display_data",
          "data": {
            "text/plain": [
              "<Figure size 720x504 with 0 Axes>"
            ]
          },
          "metadata": {}
        },
        {
          "output_type": "display_data",
          "data": {
            "text/plain": [
              "<Figure size 720x504 with 0 Axes>"
            ]
          },
          "metadata": {}
        },
        {
          "output_type": "display_data",
          "data": {
            "text/plain": [
              "<Figure size 720x504 with 0 Axes>"
            ]
          },
          "metadata": {}
        },
        {
          "output_type": "display_data",
          "data": {
            "text/plain": [
              "<Figure size 720x504 with 0 Axes>"
            ]
          },
          "metadata": {}
        },
        {
          "output_type": "display_data",
          "data": {
            "text/plain": [
              "<Figure size 720x504 with 0 Axes>"
            ]
          },
          "metadata": {}
        },
        {
          "output_type": "display_data",
          "data": {
            "text/plain": [
              "<Figure size 720x504 with 0 Axes>"
            ]
          },
          "metadata": {}
        },
        {
          "output_type": "display_data",
          "data": {
            "text/plain": [
              "<Figure size 720x504 with 0 Axes>"
            ]
          },
          "metadata": {}
        },
        {
          "output_type": "display_data",
          "data": {
            "text/plain": [
              "<Figure size 720x504 with 0 Axes>"
            ]
          },
          "metadata": {}
        },
        {
          "output_type": "display_data",
          "data": {
            "text/plain": [
              "<Figure size 720x504 with 0 Axes>"
            ]
          },
          "metadata": {}
        },
        {
          "output_type": "display_data",
          "data": {
            "text/plain": [
              "<Figure size 720x504 with 0 Axes>"
            ]
          },
          "metadata": {}
        },
        {
          "output_type": "display_data",
          "data": {
            "text/plain": [
              "<Figure size 720x504 with 0 Axes>"
            ]
          },
          "metadata": {}
        },
        {
          "output_type": "display_data",
          "data": {
            "text/plain": [
              "<Figure size 720x504 with 0 Axes>"
            ]
          },
          "metadata": {}
        },
        {
          "output_type": "display_data",
          "data": {
            "text/plain": [
              "<Figure size 720x504 with 0 Axes>"
            ]
          },
          "metadata": {}
        },
        {
          "output_type": "display_data",
          "data": {
            "text/plain": [
              "<Figure size 720x504 with 0 Axes>"
            ]
          },
          "metadata": {}
        },
        {
          "output_type": "display_data",
          "data": {
            "text/plain": [
              "<Figure size 720x504 with 0 Axes>"
            ]
          },
          "metadata": {}
        },
        {
          "output_type": "display_data",
          "data": {
            "text/plain": [
              "<Figure size 720x504 with 0 Axes>"
            ]
          },
          "metadata": {}
        },
        {
          "output_type": "display_data",
          "data": {
            "text/plain": [
              "<Figure size 720x504 with 0 Axes>"
            ]
          },
          "metadata": {}
        },
        {
          "output_type": "display_data",
          "data": {
            "text/plain": [
              "<Figure size 720x504 with 0 Axes>"
            ]
          },
          "metadata": {}
        },
        {
          "output_type": "display_data",
          "data": {
            "text/plain": [
              "<Figure size 720x504 with 0 Axes>"
            ]
          },
          "metadata": {}
        },
        {
          "output_type": "display_data",
          "data": {
            "text/plain": [
              "<Figure size 720x504 with 0 Axes>"
            ]
          },
          "metadata": {}
        },
        {
          "output_type": "display_data",
          "data": {
            "text/plain": [
              "<Figure size 720x504 with 0 Axes>"
            ]
          },
          "metadata": {}
        },
        {
          "output_type": "display_data",
          "data": {
            "text/plain": [
              "<Figure size 720x504 with 0 Axes>"
            ]
          },
          "metadata": {}
        },
        {
          "output_type": "display_data",
          "data": {
            "text/plain": [
              "<Figure size 720x504 with 0 Axes>"
            ]
          },
          "metadata": {}
        },
        {
          "output_type": "display_data",
          "data": {
            "text/plain": [
              "<Figure size 720x504 with 0 Axes>"
            ]
          },
          "metadata": {}
        },
        {
          "output_type": "display_data",
          "data": {
            "text/plain": [
              "<Figure size 720x504 with 0 Axes>"
            ]
          },
          "metadata": {}
        },
        {
          "output_type": "display_data",
          "data": {
            "text/plain": [
              "<Figure size 720x504 with 0 Axes>"
            ]
          },
          "metadata": {}
        },
        {
          "output_type": "display_data",
          "data": {
            "text/plain": [
              "<Figure size 720x504 with 0 Axes>"
            ]
          },
          "metadata": {}
        },
        {
          "output_type": "display_data",
          "data": {
            "text/plain": [
              "<Figure size 720x504 with 0 Axes>"
            ]
          },
          "metadata": {}
        },
        {
          "output_type": "display_data",
          "data": {
            "text/plain": [
              "<Figure size 720x504 with 0 Axes>"
            ]
          },
          "metadata": {}
        },
        {
          "output_type": "display_data",
          "data": {
            "text/plain": [
              "<Figure size 720x504 with 0 Axes>"
            ]
          },
          "metadata": {}
        },
        {
          "output_type": "display_data",
          "data": {
            "text/plain": [
              "<Figure size 720x504 with 0 Axes>"
            ]
          },
          "metadata": {}
        },
        {
          "output_type": "display_data",
          "data": {
            "text/plain": [
              "<Figure size 720x504 with 0 Axes>"
            ]
          },
          "metadata": {}
        },
        {
          "output_type": "display_data",
          "data": {
            "text/plain": [
              "<Figure size 720x504 with 0 Axes>"
            ]
          },
          "metadata": {}
        },
        {
          "output_type": "display_data",
          "data": {
            "text/plain": [
              "<Figure size 720x504 with 0 Axes>"
            ]
          },
          "metadata": {}
        },
        {
          "output_type": "display_data",
          "data": {
            "text/plain": [
              "<Figure size 720x504 with 0 Axes>"
            ]
          },
          "metadata": {}
        }
      ]
    },
    {
      "cell_type": "code",
      "source": [
        "kappa_hat, mu_hat, omega_hat"
      ],
      "metadata": {
        "colab": {
          "base_uri": "https://localhost:8080/"
        },
        "id": "nZEGwITLD38n",
        "outputId": "7e57eaeb-4910-4613-a142-482d3cc3cdfd"
      },
      "execution_count": 12,
      "outputs": [
        {
          "output_type": "execute_result",
          "data": {
            "text/plain": [
              "(0.023118003304517448, 0.7939712292539878, 0.9837627009340093)"
            ]
          },
          "metadata": {},
          "execution_count": 12
        }
      ]
    },
    {
      "cell_type": "code",
      "source": [
        "k_u_pdf = computePDF(Xdata, mle_kappa_mu[0], mle_kappa_mu[1], mle_kappa_mu[2])\n",
        "plt.figure(figsize=((10,7)))\n",
        "plt.scatter(Xdata, Ydata, c='black', label='Real Data')\n",
        "plt.plot(Xdata, k_u_pdf, c='blue', label=r'$\\kappa$-$\\mu$ MLE')\n",
        "plt.plot(Xdata, computePDF(Xdata, kappa_hat, mu_hat, omega_hat), label='$\\kappa$-$\\mu$ GA (MSE)', c='red')\n",
        "plt.title(f'Best GA Fit')\n",
        "plt.legend()\n",
        "plt.grid(True)\n",
        "plt.xlabel(r'mV')\n",
        "plt.ylabel('pdf')\n",
        "plt.show()\n",
        "\n",
        "plt.figure(figsize=((10,7)))\n",
        "plt.scatter(Xdata, Ydata, c='black', label='Real Data')\n",
        "plt.plot(Xdata, k_u_pdf, c='blue', label=r'$\\kappa$-$\\mu$ MLE')\n",
        "plt.plot(Xdata, computePDF(Xdata, kappa_hat, mu_hat, omega_hat), label='$\\kappa$-$\\mu$ GA (MSE)', c='red')\n",
        "plt.title(f'Best GA Fit (Zoomed)')\n",
        "plt.legend()\n",
        "plt.grid(True)\n",
        "plt.xlabel(r'mV')\n",
        "plt.ylabel('pdf')\n",
        "plt.ylim([.6, .85])\n",
        "plt.xlim([0, 1])\n",
        "plt.show()"
      ],
      "metadata": {
        "colab": {
          "base_uri": "https://localhost:8080/",
          "height": 899
        },
        "id": "Njx2FJOOEOZn",
        "outputId": "47dd11bd-576a-4870-a562-2badc054e2c7"
      },
      "execution_count": 13,
      "outputs": [
        {
          "output_type": "display_data",
          "data": {
            "text/plain": [
              "<Figure size 720x504 with 1 Axes>"
            ],
            "image/png": "[encoded data removed]"
          },
          "metadata": {
            "needs_background": "light"
          }
        },
        {
          "output_type": "display_data",
          "data": {
            "text/plain": [
              "<Figure size 720x504 with 1 Axes>"
            ],
            "image/png": "[encoded data removed]"
          },
          "metadata": {
            "needs_background": "light"
          }
        }
      ]
    },
    {
      "cell_type": "markdown",
      "source": [
        "### GA: $\\kappa$-$\\mu$ (RAD) fit"
      ],
      "metadata": {
        "id": "5pemIzw8VPqV"
      }
    },
    {
      "cell_type": "code",
      "source": [
        "fitnessType = 'RAD'\n",
        "# X, Y = getDensityEstimationSamples(pathAB_linear[nAP].dropna(), nExtractedSamples)\n",
        "kappa_hat_rad, mu_hat_rad, omega_hat_rad = geneticAlgorithm(Xdata, Ydata, mle_kappa_mu)"
      ],
      "metadata": {
        "id": "_2MEaaEjbCAz",
        "colab": {
          "base_uri": "https://localhost:8080/",
          "height": 1000
        },
        "outputId": "b8ff62a1-46ac-4a93-b12e-d50a058ac4ea"
      },
      "execution_count": 14,
      "outputs": [
        {
          "output_type": "stream",
          "name": "stderr",
          "text": [
            "/usr/local/lib/python3.7/dist-packages/ipykernel_launcher.py:32: RuntimeWarning: divide by zero encountered in log2\n",
            "/usr/local/lib/python3.7/dist-packages/ipykernel_launcher.py:32: RuntimeWarning: invalid value encountered in multiply\n"
          ]
        },
        {
          "output_type": "stream",
          "name": "stdout",
          "text": [
            "=== Generation: 0 === \n",
            "Fitness: nan\n",
            "Best individual:\n",
            "Kappa: 6.561584515196915\n",
            "Mu: 0.999133450012561\n",
            "Omega: 0.20572346153627186\n",
            "\n"
          ]
        },
        {
          "output_type": "stream",
          "name": "stderr",
          "text": [
            "/usr/local/lib/python3.7/dist-packages/ipykernel_launcher.py:32: RuntimeWarning: divide by zero encountered in log2\n",
            "/usr/local/lib/python3.7/dist-packages/ipykernel_launcher.py:32: RuntimeWarning: invalid value encountered in multiply\n"
          ]
        },
        {
          "output_type": "stream",
          "name": "stdout",
          "text": [
            "=== Generation: 1 === \n",
            "Fitness: 10.484254640402408\n",
            "Best individual:\n",
            "Kappa: 0.6937263023106789\n",
            "Mu: 0.6212073768097203\n",
            "Omega: 0.9536328466483026\n",
            "\n"
          ]
        },
        {
          "output_type": "stream",
          "name": "stderr",
          "text": [
            "/usr/local/lib/python3.7/dist-packages/ipykernel_launcher.py:32: RuntimeWarning: divide by zero encountered in log2\n",
            "/usr/local/lib/python3.7/dist-packages/ipykernel_launcher.py:32: RuntimeWarning: invalid value encountered in multiply\n"
          ]
        },
        {
          "output_type": "stream",
          "name": "stdout",
          "text": [
            "=== Generation: 2 === \n",
            "Fitness: 11.64985212851299\n",
            "Best individual:\n",
            "Kappa: 0.5945119477224136\n",
            "Mu: 0.6693721206354203\n",
            "Omega: 0.9643130546555594\n",
            "\n",
            "=== Generation: 3 === \n",
            "Fitness: 13.913225072214816\n",
            "Best individual:\n",
            "Kappa: 0.19509606603670113\n",
            "Mu: 0.6610801026705876\n",
            "Omega: 1.0016557015767134\n",
            "\n",
            "=== Generation: 4 === \n",
            "Fitness: 14.91502272489417\n",
            "Best individual:\n",
            "Kappa: 0.19420856862621888\n",
            "Mu: 0.7173079438301819\n",
            "Omega: 1.010976170652538\n",
            "\n",
            "=== Generation: 5 === \n",
            "Fitness: 16.131922161024047\n",
            "Best individual:\n",
            "Kappa: 0.1913605854374895\n",
            "Mu: 0.6794364927414931\n",
            "Omega: 1.0723599632489706\n",
            "\n",
            "=== Generation: 6 === \n",
            "Fitness: 16.387428238406947\n",
            "Best individual:\n",
            "Kappa: 0.19919386383316678\n",
            "Mu: 0.7113762716657478\n",
            "Omega: 1.0712356957529334\n",
            "\n",
            "=== Generation: 7 === \n",
            "Fitness: 17.554673384738965\n",
            "Best individual:\n",
            "Kappa: 0.1961742276628596\n",
            "Mu: 0.7052559197026627\n",
            "Omega: 1.1227587853155465\n",
            "\n",
            "=== Generation: 8 === \n",
            "Fitness: 17.96254185277603\n",
            "Best individual:\n",
            "Kappa: 0.19308374919227855\n",
            "Mu: 0.7065981831503907\n",
            "Omega: 1.141295370350225\n",
            "\n",
            "=== Generation: 9 === \n",
            "Fitness: 18.44828132675233\n",
            "Best individual:\n",
            "Kappa: 0.18740271701674552\n",
            "Mu: 0.7157836104446855\n",
            "Omega: 1.1654156482062432\n",
            "\n",
            "=== Generation: 10 === \n",
            "Fitness: 18.8963790706161\n",
            "Best individual:\n",
            "Kappa: 0.18554205359283182\n",
            "Mu: 0.7018419923152748\n",
            "Omega: 1.189547775278617\n",
            "\n",
            "=== Generation: 11 === \n",
            "Fitness: 19.334863812436584\n",
            "Best individual:\n",
            "Kappa: 0.18114584011649013\n",
            "Mu: 0.712439521055208\n",
            "Omega: 1.2181304505449366\n",
            "\n",
            "=== Generation: 12 === \n",
            "Fitness: 19.71714738500707\n",
            "Best individual:\n",
            "Kappa: 0.17189238188753336\n",
            "Mu: 0.6884498617252561\n",
            "Omega: 1.2397123350393582\n",
            "\n",
            "=== Generation: 13 === \n",
            "Fitness: 20.045277980527146\n",
            "Best individual:\n",
            "Kappa: 0.18195507297015512\n",
            "Mu: 0.6852933321576886\n",
            "Omega: 1.2753224969145394\n",
            "\n",
            "=== Generation: 14 === \n",
            "Fitness: 20.30997979037286\n",
            "Best individual:\n",
            "Kappa: 0.17777239023537914\n",
            "Mu: 0.6889477640566102\n",
            "Omega: 1.2986679369098955\n",
            "\n",
            "=== Generation: 15 === \n",
            "Fitness: 20.57532610895543\n",
            "Best individual:\n",
            "Kappa: 0.1732018370504095\n",
            "Mu: 0.6850991406543574\n",
            "Omega: 1.3312814705994103\n",
            "\n",
            "=== Generation: 16 === \n",
            "Fitness: 20.759733284341618\n",
            "Best individual:\n",
            "Kappa: 0.1651678091390253\n",
            "Mu: 0.6854434962542684\n",
            "Omega: 1.3551547733573388\n",
            "\n",
            "=== Generation: 17 === \n",
            "Fitness: 20.871977751546822\n",
            "Best individual:\n",
            "Kappa: 0.16003045772734228\n",
            "Mu: 0.6835252067311751\n",
            "Omega: 1.377258429358095\n",
            "\n",
            "=== Generation: 18 === \n",
            "Fitness: 20.93946444225162\n",
            "Best individual:\n",
            "Kappa: 0.1537420932776505\n",
            "Mu: 0.6852631853500984\n",
            "Omega: 1.3874274436268257\n",
            "\n",
            "=== Generation: 19 === \n",
            "Fitness: 20.967155445378914\n",
            "Best individual:\n",
            "Kappa: 0.15284842347820024\n",
            "Mu: 0.6771220281657422\n",
            "Omega: 1.3992374576636284\n",
            "\n",
            "=== Generation: 20 === \n",
            "Fitness: 21.001646065121058\n",
            "Best individual:\n",
            "Kappa: 0.14927813987117342\n",
            "Mu: 0.6794259048845106\n",
            "Omega: 1.4071088092750272\n",
            "\n",
            "=== Generation: 21 === \n",
            "Fitness: 21.03808728641536\n",
            "Best individual:\n",
            "Kappa: 0.14413569269790893\n",
            "Mu: 0.6778788665162849\n",
            "Omega: 1.395642920322311\n",
            "\n",
            "=== Generation: 22 === \n",
            "Fitness: 21.049403264872378\n",
            "Best individual:\n",
            "Kappa: 0.1429092086723394\n",
            "Mu: 0.6758636378102262\n",
            "Omega: 1.4220680107650205\n",
            "\n",
            "=== Generation: 23 === \n",
            "Fitness: 21.080988578408338\n",
            "Best individual:\n",
            "Kappa: 0.1376600653122073\n",
            "Mu: 0.6842504485196161\n",
            "Omega: 1.417687891411673\n",
            "\n",
            "=== Generation: 24 === \n",
            "Fitness: 21.114645901674624\n",
            "Best individual:\n",
            "Kappa: 0.13498995809096065\n",
            "Mu: 0.6823989811139508\n",
            "Omega: 1.3988813774426074\n",
            "\n",
            "=== Generation: 25 === \n",
            "Fitness: 21.144063614526807\n",
            "Best individual:\n",
            "Kappa: 0.1318758923915988\n",
            "Mu: 0.6800556496489434\n",
            "Omega: 1.4120019111578492\n",
            "\n",
            "=== Generation: 26 === \n",
            "Fitness: 21.15152345368457\n",
            "Best individual:\n",
            "Kappa: 0.1308298752687604\n",
            "Mu: 0.6810604482354476\n",
            "Omega: 1.4104379911102933\n",
            "\n",
            "=== Generation: 27 === \n",
            "Fitness: 21.169553398683874\n",
            "Best individual:\n",
            "Kappa: 0.12665151842756323\n",
            "Mu: 0.6727110856286755\n",
            "Omega: 1.4255429110761026\n",
            "\n",
            "=== Generation: 28 === \n",
            "Fitness: 21.19918330190935\n",
            "Best individual:\n",
            "Kappa: 0.12479533042204562\n",
            "Mu: 0.6794490320343795\n",
            "Omega: 1.4021602413861638\n",
            "\n",
            "=== Generation: 29 === \n",
            "Fitness: 21.216392666635834\n",
            "Best individual:\n",
            "Kappa: 0.12237832586981352\n",
            "Mu: 0.6762141368827379\n",
            "Omega: 1.4100688699893322\n",
            "\n",
            "=== Generation: 30 === \n",
            "Fitness: 21.22875689158456\n",
            "Best individual:\n",
            "Kappa: 0.11888839728488305\n",
            "Mu: 0.673121042834897\n",
            "Omega: 1.403636792726388\n",
            "\n",
            "=== Generation: 31 === \n",
            "Fitness: 21.25789582277155\n",
            "Best individual:\n",
            "Kappa: 0.11692355181685239\n",
            "Mu: 0.67672168579298\n",
            "Omega: 1.4119094743770924\n",
            "\n",
            "=== Generation: 32 === \n",
            "Fitness: 21.270977232663746\n",
            "Best individual:\n",
            "Kappa: 0.1140240941566973\n",
            "Mu: 0.6816592740281787\n",
            "Omega: 1.421420815953767\n",
            "\n",
            "=== Generation: 33 === \n",
            "Fitness: 21.2860765878617\n",
            "Best individual:\n",
            "Kappa: 0.1126349855624797\n",
            "Mu: 0.6779074793623591\n",
            "Omega: 1.399298775456456\n",
            "\n",
            "=== Generation: 34 === \n",
            "Fitness: 21.30502329595504\n",
            "Best individual:\n",
            "Kappa: 0.10996721034124635\n",
            "Mu: 0.6799446593080063\n",
            "Omega: 1.3962878169329\n",
            "\n",
            "=== Generation: 35 === \n",
            "Fitness: 21.32498349261143\n",
            "Best individual:\n",
            "Kappa: 0.1077299901610002\n",
            "Mu: 0.6803822784200427\n",
            "Omega: 1.4134943149379695\n",
            "\n",
            "=== Generation: 36 === \n",
            "Fitness: 21.342009685673325\n",
            "Best individual:\n",
            "Kappa: 0.10515529394041996\n",
            "Mu: 0.680516529692887\n",
            "Omega: 1.400097541568025\n",
            "\n",
            "=== Generation: 37 === \n",
            "Fitness: 21.360171090187045\n",
            "Best individual:\n",
            "Kappa: 0.10283829646278377\n",
            "Mu: 0.6799164777047757\n",
            "Omega: 1.4103671387071122\n",
            "\n",
            "=== Generation: 38 === \n",
            "Fitness: 21.3740857768843\n",
            "Best individual:\n",
            "Kappa: 0.10058552355196\n",
            "Mu: 0.679778276881827\n",
            "Omega: 1.4145516574046555\n",
            "\n",
            "=== Generation: 39 === \n",
            "Fitness: 21.385044862592455\n",
            "Best individual:\n",
            "Kappa: 0.0986573671799656\n",
            "Mu: 0.6770450166888542\n",
            "Omega: 1.415200685186826\n",
            "\n",
            "=== Generation: 40 === \n",
            "Fitness: 21.400144808004534\n",
            "Best individual:\n",
            "Kappa: 0.09631553448634482\n",
            "Mu: 0.6833835576510789\n",
            "Omega: 1.4018286620305032\n",
            "\n",
            "=== Generation: 41 === \n",
            "Fitness: 21.414928664132837\n",
            "Best individual:\n",
            "Kappa: 0.09412222298106108\n",
            "Mu: 0.6833626379207034\n",
            "Omega: 1.4055252120295225\n",
            "\n",
            "=== Generation: 42 === \n",
            "Fitness: 21.42072692297531\n",
            "Best individual:\n",
            "Kappa: 0.09339232053261905\n",
            "Mu: 0.677707997998188\n",
            "Omega: 1.4125214070194285\n",
            "\n",
            "=== Generation: 43 === \n",
            "Fitness: 21.434395737683687\n",
            "Best individual:\n",
            "Kappa: 0.09085014286088125\n",
            "Mu: 0.6768251016590532\n",
            "Omega: 1.4069184847164462\n",
            "\n",
            "=== Generation: 44 === \n",
            "Fitness: 21.448838861605488\n",
            "Best individual:\n",
            "Kappa: 0.08897136403577677\n",
            "Mu: 0.6788174421774842\n",
            "Omega: 1.4146793434724791\n",
            "\n",
            "=== Generation: 45 === \n",
            "Fitness: 21.448155354458493\n",
            "Best individual:\n",
            "Kappa: 0.08900765947947813\n",
            "Mu: 0.6789338885301537\n",
            "Omega: 1.4157775678672486\n",
            "\n",
            "=== Generation: 46 === \n",
            "Fitness: 21.459841192662395\n",
            "Best individual:\n",
            "Kappa: 0.08660598515662969\n",
            "Mu: 0.6842859358355383\n",
            "Omega: 1.4079334467546583\n",
            "\n",
            "=== Generation: 47 === \n",
            "Fitness: 21.473241567873295\n",
            "Best individual:\n",
            "Kappa: 0.08500704712783905\n",
            "Mu: 0.6784677848034066\n",
            "Omega: 1.4126627199716006\n",
            "\n",
            "=== Generation: 48 === \n",
            "Fitness: 21.48581502958023\n",
            "Best individual:\n",
            "Kappa: 0.0826905078918626\n",
            "Mu: 0.6827811482041956\n",
            "Omega: 1.4005429800728608\n",
            "\n",
            "=== Generation: 49 === \n",
            "Fitness: 21.485932286198064\n",
            "Best individual:\n",
            "Kappa: 0.0822127449830363\n",
            "Mu: 0.678261234849425\n",
            "Omega: 1.4197866258045333\n",
            "\n",
            "=== Generation: 50 === \n",
            "Fitness: 21.496668999184926\n",
            "Best individual:\n",
            "Kappa: 0.0810450955159671\n",
            "Mu: 0.6784106588151585\n",
            "Omega: 1.4104908076841232\n",
            "\n",
            "=== Generation: 51 === \n",
            "Fitness: 21.512496971195294\n",
            "Best individual:\n",
            "Kappa: 0.07841998606048174\n",
            "Mu: 0.6798562042769369\n",
            "Omega: 1.405168871126003\n",
            "\n",
            "=== Generation: 52 === \n",
            "Fitness: 21.516473002107823\n",
            "Best individual:\n",
            "Kappa: 0.07772362000787882\n",
            "Mu: 0.680244941074056\n",
            "Omega: 1.4119073096644907\n",
            "\n",
            "=== Generation: 53 === \n",
            "Fitness: 21.522096513287597\n",
            "Best individual:\n",
            "Kappa: 0.07627781723138666\n",
            "Mu: 0.6830884263371885\n",
            "Omega: 1.4000022380154011\n",
            "\n",
            "=== Generation: 54 === \n",
            "Fitness: 21.533208940800176\n",
            "Best individual:\n",
            "Kappa: 0.07458654067642012\n",
            "Mu: 0.6802023734929676\n",
            "Omega: 1.4135829749763005\n",
            "\n",
            "=== Generation: 55 === \n",
            "Fitness: 21.541148580884666\n",
            "Best individual:\n",
            "Kappa: 0.07295298371620658\n",
            "Mu: 0.681646545847825\n",
            "Omega: 1.4001250486276733\n",
            "\n",
            "=== Generation: 56 === \n",
            "Fitness: 21.54389678217609\n",
            "Best individual:\n",
            "Kappa: 0.07114531974611948\n",
            "Mu: 0.6798810626886649\n",
            "Omega: 1.394095138791123\n",
            "\n",
            "=== Generation: 57 === \n",
            "Fitness: 21.551421671165542\n",
            "Best individual:\n",
            "Kappa: 0.07040991171610421\n",
            "Mu: 0.6842579296955298\n",
            "Omega: 1.4107197524857347\n",
            "\n",
            "=== Generation: 58 === \n",
            "Fitness: 21.559659864851334\n",
            "Best individual:\n",
            "Kappa: 0.06928595304530798\n",
            "Mu: 0.6824965759333796\n",
            "Omega: 1.3990379102035926\n",
            "\n",
            "=== Generation: 59 === \n",
            "Fitness: 21.5680255904093\n",
            "Best individual:\n",
            "Kappa: 0.06749167638193301\n",
            "Mu: 0.6808498299498363\n",
            "Omega: 1.4172359433894919\n",
            "\n",
            "=== Generation: 60 === \n",
            "Fitness: 21.5712796563582\n",
            "Best individual:\n",
            "Kappa: 0.06699263548136672\n",
            "Mu: 0.6799710480762837\n",
            "Omega: 1.400500411521724\n",
            "\n",
            "=== Generation: 61 === \n",
            "Fitness: 21.57538825417874\n",
            "Best individual:\n",
            "Kappa: 0.06651056057206364\n",
            "Mu: 0.6815214875218929\n",
            "Omega: 1.401765532888211\n",
            "\n",
            "=== Generation: 62 === \n",
            "Fitness: 21.5830943102933\n",
            "Best individual:\n",
            "Kappa: 0.06415275576575821\n",
            "Mu: 0.6829999974199823\n",
            "Omega: 1.3959486706627788\n",
            "\n",
            "=== Generation: 63 === \n",
            "Fitness: 21.591323078227642\n",
            "Best individual:\n",
            "Kappa: 0.06346795858879138\n",
            "Mu: 0.6803693813116164\n",
            "Omega: 1.4063365253517868\n",
            "\n",
            "=== Generation: 64 === \n",
            "Fitness: 21.595588293690227\n",
            "Best individual:\n",
            "Kappa: 0.0624935575596879\n",
            "Mu: 0.6804205425621523\n",
            "Omega: 1.4118374522253752\n",
            "\n",
            "=== Generation: 65 === \n",
            "Fitness: 21.60706560931552\n",
            "Best individual:\n",
            "Kappa: 0.05979109171963052\n",
            "Mu: 0.6830577464166319\n",
            "Omega: 1.401743212885769\n",
            "\n",
            "=== Generation: 66 === \n",
            "Fitness: 21.610815329686076\n",
            "Best individual:\n",
            "Kappa: 0.058573141603735876\n",
            "Mu: 0.6831796120979999\n",
            "Omega: 1.4130362306425557\n",
            "\n",
            "=== Generation: 67 === \n",
            "Fitness: 21.610322491597444\n",
            "Best individual:\n",
            "Kappa: 0.05904752970226401\n",
            "Mu: 0.6833714378606309\n",
            "Omega: 1.4023257104665077\n",
            "\n",
            "=== Generation: 68 === \n",
            "Fitness: 21.616426415130732\n",
            "Best individual:\n",
            "Kappa: 0.057845885849915665\n",
            "Mu: 0.6804335696284023\n",
            "Omega: 1.413505028418405\n",
            "\n",
            "=== Generation: 69 === \n",
            "Fitness: 21.618048293810432\n",
            "Best individual:\n",
            "Kappa: 0.05714655606251976\n",
            "Mu: 0.6824545790029978\n",
            "Omega: 1.4136847611867556\n",
            "\n",
            "=== Generation: 70 === \n",
            "Fitness: 21.622907481723523\n",
            "Best individual:\n",
            "Kappa: 0.0562991436243781\n",
            "Mu: 0.681141986843339\n",
            "Omega: 1.4139330390486482\n",
            "\n",
            "=== Generation: 71 === \n",
            "Fitness: 21.62638458036005\n",
            "Best individual:\n",
            "Kappa: 0.05565192116583553\n",
            "Mu: 0.6809681797472871\n",
            "Omega: 1.4026492173754073\n",
            "\n",
            "=== Generation: 72 === \n",
            "Fitness: 21.629945011989562\n",
            "Best individual:\n",
            "Kappa: 0.05500108174495943\n",
            "Mu: 0.6819399418625327\n",
            "Omega: 1.408491942207538\n",
            "\n",
            "=== Generation: 73 === \n",
            "Fitness: 21.635347338258008\n",
            "Best individual:\n",
            "Kappa: 0.05327987187305309\n",
            "Mu: 0.6820958731388246\n",
            "Omega: 1.3996778428996548\n",
            "\n",
            "=== Generation: 74 === \n",
            "Fitness: 21.638403968253982\n",
            "Best individual:\n",
            "Kappa: 0.05300360088791518\n",
            "Mu: 0.6819820973635475\n",
            "Omega: 1.4085457725638395\n",
            "\n",
            "=== Generation: 75 === \n",
            "Fitness: 21.643136648113313\n",
            "Best individual:\n",
            "Kappa: 0.051741909688128085\n",
            "Mu: 0.6799417092265927\n",
            "Omega: 1.4111409284256609\n",
            "\n",
            "=== Generation: 76 === \n",
            "Fitness: 21.647312939107913\n",
            "Best individual:\n",
            "Kappa: 0.05043094128452366\n",
            "Mu: 0.6813128818250916\n",
            "Omega: 1.4142314438276582\n",
            "\n",
            "=== Generation: 77 === \n",
            "Fitness: 21.653344463974676\n",
            "Best individual:\n",
            "Kappa: 0.04938298738060526\n",
            "Mu: 0.6816408816049021\n",
            "Omega: 1.4080991694962888\n",
            "\n",
            "=== Generation: 78 === \n",
            "Fitness: 21.6559560877379\n",
            "Best individual:\n",
            "Kappa: 0.048171338703009124\n",
            "Mu: 0.6829347117731106\n",
            "Omega: 1.4115903949180757\n",
            "\n",
            "=== Generation: 79 === \n",
            "Fitness: 21.657556121755224\n",
            "Best individual:\n",
            "Kappa: 0.047724379476674045\n",
            "Mu: 0.683879396802641\n",
            "Omega: 1.407448370812434\n",
            "\n",
            "=== Generation: 80 === \n",
            "Fitness: 21.662601550894827\n",
            "Best individual:\n",
            "Kappa: 0.04640407762587026\n",
            "Mu: 0.6790836547505954\n",
            "Omega: 1.4056382930967033\n",
            "\n",
            "=== Generation: 81 === \n",
            "Fitness: 21.663522600349914\n",
            "Best individual:\n",
            "Kappa: 0.04582291376755423\n",
            "Mu: 0.6835413764593199\n",
            "Omega: 1.412242782641804\n",
            "\n",
            "=== Generation: 82 === \n",
            "Fitness: 21.664788595708806\n",
            "Best individual:\n",
            "Kappa: 0.045535828659129224\n",
            "Mu: 0.6815194996830304\n",
            "Omega: 1.4161441419759202\n",
            "\n",
            "=== Generation: 83 === \n",
            "Fitness: 21.667411207703186\n",
            "Best individual:\n",
            "Kappa: 0.045346764758539805\n",
            "Mu: 0.6796045081068293\n",
            "Omega: 1.4059640640691344\n",
            "\n",
            "=== Generation: 84 === \n",
            "Fitness: 21.67028969264924\n",
            "Best individual:\n",
            "Kappa: 0.044057313124327147\n",
            "Mu: 0.6792200395641425\n",
            "Omega: 1.4157524011206266\n",
            "\n",
            "=== Generation: 85 === \n",
            "Fitness: 21.6738359176435\n",
            "Best individual:\n",
            "Kappa: 0.043405604808653346\n",
            "Mu: 0.6798687828851006\n",
            "Omega: 1.4033658805834393\n",
            "\n",
            "=== Generation: 86 === \n",
            "Fitness: 21.672997269632607\n",
            "Best individual:\n",
            "Kappa: 0.04390600013056239\n",
            "Mu: 0.682419037238018\n",
            "Omega: 1.4104237243426467\n",
            "\n",
            "=== Generation: 87 === \n",
            "Fitness: 21.673494426401508\n",
            "Best individual:\n",
            "Kappa: 0.042934385048529304\n",
            "Mu: 0.6845659629510626\n",
            "Omega: 1.4087524661875945\n",
            "\n",
            "=== Generation: 88 === \n",
            "Fitness: 21.676154320048827\n",
            "Best individual:\n",
            "Kappa: 0.041856352422045044\n",
            "Mu: 0.6775513177090138\n",
            "Omega: 1.4131756994663396\n",
            "\n",
            "=== Generation: 89 === \n",
            "Fitness: 21.677339149504338\n",
            "Best individual:\n",
            "Kappa: 0.04151415027545637\n",
            "Mu: 0.6850084937352283\n",
            "Omega: 1.408793713200025\n",
            "\n",
            "=== Generation: 90 === \n",
            "Fitness: 21.68233017364179\n",
            "Best individual:\n",
            "Kappa: 0.041460415225112526\n",
            "Mu: 0.6810624505262394\n",
            "Omega: 1.4097331547389271\n",
            "\n",
            "=== Generation: 91 === \n",
            "Fitness: 21.685685298133407\n",
            "Best individual:\n",
            "Kappa: 0.04051749879377752\n",
            "Mu: 0.6815217956397148\n",
            "Omega: 1.4060046273093034\n",
            "\n",
            "=== Generation: 92 === \n",
            "Fitness: 21.684559960820867\n",
            "Best individual:\n",
            "Kappa: 0.04029108146403862\n",
            "Mu: 0.6805460372045494\n",
            "Omega: 1.4017802444294147\n",
            "\n",
            "=== Generation: 93 === \n",
            "Fitness: 21.685615086773346\n",
            "Best individual:\n",
            "Kappa: 0.04048211975251701\n",
            "Mu: 0.6821717355054335\n",
            "Omega: 1.405119432957931\n",
            "\n",
            "=== Generation: 94 === \n",
            "Fitness: 21.69038621600029\n",
            "Best individual:\n",
            "Kappa: 0.03861114541385337\n",
            "Mu: 0.680162201617275\n",
            "Omega: 1.4134849794742186\n",
            "\n",
            "=== Generation: 95 === \n",
            "Fitness: 21.691454607139587\n",
            "Best individual:\n",
            "Kappa: 0.03856702680759719\n",
            "Mu: 0.6802692300625985\n",
            "Omega: 1.4062339614906731\n",
            "\n",
            "=== Generation: 96 === \n",
            "Fitness: 21.69159264698812\n",
            "Best individual:\n",
            "Kappa: 0.03824599263857419\n",
            "Mu: 0.683692681911575\n",
            "Omega: 1.4058171094514147\n",
            "\n",
            "=== Generation: 97 === \n",
            "Fitness: 21.69438168973408\n",
            "Best individual:\n",
            "Kappa: 0.03701430915969046\n",
            "Mu: 0.6791534582817582\n",
            "Omega: 1.4139660348770917\n",
            "\n",
            "=== Generation: 98 === \n",
            "Fitness: 21.699560126944885\n",
            "Best individual:\n",
            "Kappa: 0.03561517692341839\n",
            "Mu: 0.6812368511453898\n",
            "Omega: 1.401120099269352\n",
            "\n",
            "=== Generation: 99 === \n",
            "Fitness: 21.699597490202912\n",
            "Best individual:\n",
            "Kappa: 0.03587901815176626\n",
            "Mu: 0.6798821726428107\n",
            "Omega: 1.408531476155579\n",
            "\n",
            "==========\n",
            "Max number of generations exceeded!\n",
            "==========\n",
            "\n",
            "Best Fitness: 21.699597490202912\n",
            "Best Gen: 99\n",
            "Kappa: 0.03587901815176626\n",
            "Mu: 0.6798821726428107\n",
            "Omega: 1.408531476155579\n"
          ]
        },
        {
          "output_type": "display_data",
          "data": {
            "text/plain": [
              "<Figure size 720x504 with 0 Axes>"
            ]
          },
          "metadata": {}
        },
        {
          "output_type": "display_data",
          "data": {
            "text/plain": [
              "<Figure size 720x504 with 0 Axes>"
            ]
          },
          "metadata": {}
        },
        {
          "output_type": "display_data",
          "data": {
            "text/plain": [
              "<Figure size 720x504 with 0 Axes>"
            ]
          },
          "metadata": {}
        },
        {
          "output_type": "display_data",
          "data": {
            "text/plain": [
              "<Figure size 720x504 with 0 Axes>"
            ]
          },
          "metadata": {}
        },
        {
          "output_type": "display_data",
          "data": {
            "text/plain": [
              "<Figure size 720x504 with 0 Axes>"
            ]
          },
          "metadata": {}
        },
        {
          "output_type": "display_data",
          "data": {
            "text/plain": [
              "<Figure size 720x504 with 0 Axes>"
            ]
          },
          "metadata": {}
        },
        {
          "output_type": "display_data",
          "data": {
            "text/plain": [
              "<Figure size 720x504 with 0 Axes>"
            ]
          },
          "metadata": {}
        },
        {
          "output_type": "display_data",
          "data": {
            "text/plain": [
              "<Figure size 720x504 with 0 Axes>"
            ]
          },
          "metadata": {}
        },
        {
          "output_type": "display_data",
          "data": {
            "text/plain": [
              "<Figure size 720x504 with 0 Axes>"
            ]
          },
          "metadata": {}
        },
        {
          "output_type": "display_data",
          "data": {
            "text/plain": [
              "<Figure size 720x504 with 0 Axes>"
            ]
          },
          "metadata": {}
        },
        {
          "output_type": "display_data",
          "data": {
            "text/plain": [
              "<Figure size 720x504 with 0 Axes>"
            ]
          },
          "metadata": {}
        },
        {
          "output_type": "display_data",
          "data": {
            "text/plain": [
              "<Figure size 720x504 with 0 Axes>"
            ]
          },
          "metadata": {}
        },
        {
          "output_type": "display_data",
          "data": {
            "text/plain": [
              "<Figure size 720x504 with 0 Axes>"
            ]
          },
          "metadata": {}
        },
        {
          "output_type": "display_data",
          "data": {
            "text/plain": [
              "<Figure size 720x504 with 0 Axes>"
            ]
          },
          "metadata": {}
        },
        {
          "output_type": "display_data",
          "data": {
            "text/plain": [
              "<Figure size 720x504 with 0 Axes>"
            ]
          },
          "metadata": {}
        },
        {
          "output_type": "display_data",
          "data": {
            "text/plain": [
              "<Figure size 720x504 with 0 Axes>"
            ]
          },
          "metadata": {}
        },
        {
          "output_type": "display_data",
          "data": {
            "text/plain": [
              "<Figure size 720x504 with 0 Axes>"
            ]
          },
          "metadata": {}
        },
        {
          "output_type": "display_data",
          "data": {
            "text/plain": [
              "<Figure size 720x504 with 0 Axes>"
            ]
          },
          "metadata": {}
        },
        {
          "output_type": "display_data",
          "data": {
            "text/plain": [
              "<Figure size 720x504 with 0 Axes>"
            ]
          },
          "metadata": {}
        },
        {
          "output_type": "display_data",
          "data": {
            "text/plain": [
              "<Figure size 720x504 with 0 Axes>"
            ]
          },
          "metadata": {}
        },
        {
          "output_type": "display_data",
          "data": {
            "text/plain": [
              "<Figure size 720x504 with 0 Axes>"
            ]
          },
          "metadata": {}
        },
        {
          "output_type": "display_data",
          "data": {
            "text/plain": [
              "<Figure size 720x504 with 0 Axes>"
            ]
          },
          "metadata": {}
        },
        {
          "output_type": "display_data",
          "data": {
            "text/plain": [
              "<Figure size 720x504 with 0 Axes>"
            ]
          },
          "metadata": {}
        },
        {
          "output_type": "display_data",
          "data": {
            "text/plain": [
              "<Figure size 720x504 with 0 Axes>"
            ]
          },
          "metadata": {}
        },
        {
          "output_type": "display_data",
          "data": {
            "text/plain": [
              "<Figure size 720x504 with 0 Axes>"
            ]
          },
          "metadata": {}
        },
        {
          "output_type": "display_data",
          "data": {
            "text/plain": [
              "<Figure size 720x504 with 0 Axes>"
            ]
          },
          "metadata": {}
        },
        {
          "output_type": "display_data",
          "data": {
            "text/plain": [
              "<Figure size 720x504 with 0 Axes>"
            ]
          },
          "metadata": {}
        },
        {
          "output_type": "display_data",
          "data": {
            "text/plain": [
              "<Figure size 720x504 with 0 Axes>"
            ]
          },
          "metadata": {}
        },
        {
          "output_type": "display_data",
          "data": {
            "text/plain": [
              "<Figure size 720x504 with 0 Axes>"
            ]
          },
          "metadata": {}
        },
        {
          "output_type": "display_data",
          "data": {
            "text/plain": [
              "<Figure size 720x504 with 0 Axes>"
            ]
          },
          "metadata": {}
        },
        {
          "output_type": "display_data",
          "data": {
            "text/plain": [
              "<Figure size 720x504 with 0 Axes>"
            ]
          },
          "metadata": {}
        },
        {
          "output_type": "display_data",
          "data": {
            "text/plain": [
              "<Figure size 720x504 with 0 Axes>"
            ]
          },
          "metadata": {}
        },
        {
          "output_type": "display_data",
          "data": {
            "text/plain": [
              "<Figure size 720x504 with 0 Axes>"
            ]
          },
          "metadata": {}
        },
        {
          "output_type": "display_data",
          "data": {
            "text/plain": [
              "<Figure size 720x504 with 0 Axes>"
            ]
          },
          "metadata": {}
        },
        {
          "output_type": "display_data",
          "data": {
            "text/plain": [
              "<Figure size 720x504 with 0 Axes>"
            ]
          },
          "metadata": {}
        },
        {
          "output_type": "display_data",
          "data": {
            "text/plain": [
              "<Figure size 720x504 with 0 Axes>"
            ]
          },
          "metadata": {}
        },
        {
          "output_type": "display_data",
          "data": {
            "text/plain": [
              "<Figure size 720x504 with 0 Axes>"
            ]
          },
          "metadata": {}
        },
        {
          "output_type": "display_data",
          "data": {
            "text/plain": [
              "<Figure size 720x504 with 0 Axes>"
            ]
          },
          "metadata": {}
        },
        {
          "output_type": "display_data",
          "data": {
            "text/plain": [
              "<Figure size 720x504 with 0 Axes>"
            ]
          },
          "metadata": {}
        },
        {
          "output_type": "display_data",
          "data": {
            "text/plain": [
              "<Figure size 720x504 with 0 Axes>"
            ]
          },
          "metadata": {}
        },
        {
          "output_type": "display_data",
          "data": {
            "text/plain": [
              "<Figure size 720x504 with 0 Axes>"
            ]
          },
          "metadata": {}
        },
        {
          "output_type": "display_data",
          "data": {
            "text/plain": [
              "<Figure size 720x504 with 0 Axes>"
            ]
          },
          "metadata": {}
        },
        {
          "output_type": "display_data",
          "data": {
            "text/plain": [
              "<Figure size 720x504 with 0 Axes>"
            ]
          },
          "metadata": {}
        },
        {
          "output_type": "display_data",
          "data": {
            "text/plain": [
              "<Figure size 720x504 with 0 Axes>"
            ]
          },
          "metadata": {}
        },
        {
          "output_type": "display_data",
          "data": {
            "text/plain": [
              "<Figure size 720x504 with 0 Axes>"
            ]
          },
          "metadata": {}
        },
        {
          "output_type": "display_data",
          "data": {
            "text/plain": [
              "<Figure size 720x504 with 0 Axes>"
            ]
          },
          "metadata": {}
        },
        {
          "output_type": "display_data",
          "data": {
            "text/plain": [
              "<Figure size 720x504 with 0 Axes>"
            ]
          },
          "metadata": {}
        },
        {
          "output_type": "display_data",
          "data": {
            "text/plain": [
              "<Figure size 720x504 with 0 Axes>"
            ]
          },
          "metadata": {}
        },
        {
          "output_type": "display_data",
          "data": {
            "text/plain": [
              "<Figure size 720x504 with 0 Axes>"
            ]
          },
          "metadata": {}
        },
        {
          "output_type": "display_data",
          "data": {
            "text/plain": [
              "<Figure size 720x504 with 0 Axes>"
            ]
          },
          "metadata": {}
        },
        {
          "output_type": "display_data",
          "data": {
            "text/plain": [
              "<Figure size 720x504 with 0 Axes>"
            ]
          },
          "metadata": {}
        },
        {
          "output_type": "display_data",
          "data": {
            "text/plain": [
              "<Figure size 720x504 with 0 Axes>"
            ]
          },
          "metadata": {}
        },
        {
          "output_type": "display_data",
          "data": {
            "text/plain": [
              "<Figure size 720x504 with 0 Axes>"
            ]
          },
          "metadata": {}
        },
        {
          "output_type": "display_data",
          "data": {
            "text/plain": [
              "<Figure size 720x504 with 0 Axes>"
            ]
          },
          "metadata": {}
        },
        {
          "output_type": "display_data",
          "data": {
            "text/plain": [
              "<Figure size 720x504 with 0 Axes>"
            ]
          },
          "metadata": {}
        },
        {
          "output_type": "display_data",
          "data": {
            "text/plain": [
              "<Figure size 720x504 with 0 Axes>"
            ]
          },
          "metadata": {}
        },
        {
          "output_type": "display_data",
          "data": {
            "text/plain": [
              "<Figure size 720x504 with 0 Axes>"
            ]
          },
          "metadata": {}
        },
        {
          "output_type": "display_data",
          "data": {
            "text/plain": [
              "<Figure size 720x504 with 0 Axes>"
            ]
          },
          "metadata": {}
        },
        {
          "output_type": "display_data",
          "data": {
            "text/plain": [
              "<Figure size 720x504 with 0 Axes>"
            ]
          },
          "metadata": {}
        },
        {
          "output_type": "display_data",
          "data": {
            "text/plain": [
              "<Figure size 720x504 with 0 Axes>"
            ]
          },
          "metadata": {}
        },
        {
          "output_type": "display_data",
          "data": {
            "text/plain": [
              "<Figure size 720x504 with 0 Axes>"
            ]
          },
          "metadata": {}
        },
        {
          "output_type": "display_data",
          "data": {
            "text/plain": [
              "<Figure size 720x504 with 0 Axes>"
            ]
          },
          "metadata": {}
        },
        {
          "output_type": "display_data",
          "data": {
            "text/plain": [
              "<Figure size 720x504 with 0 Axes>"
            ]
          },
          "metadata": {}
        },
        {
          "output_type": "display_data",
          "data": {
            "text/plain": [
              "<Figure size 720x504 with 0 Axes>"
            ]
          },
          "metadata": {}
        },
        {
          "output_type": "display_data",
          "data": {
            "text/plain": [
              "<Figure size 720x504 with 0 Axes>"
            ]
          },
          "metadata": {}
        },
        {
          "output_type": "display_data",
          "data": {
            "text/plain": [
              "<Figure size 720x504 with 0 Axes>"
            ]
          },
          "metadata": {}
        },
        {
          "output_type": "display_data",
          "data": {
            "text/plain": [
              "<Figure size 720x504 with 0 Axes>"
            ]
          },
          "metadata": {}
        },
        {
          "output_type": "display_data",
          "data": {
            "text/plain": [
              "<Figure size 720x504 with 0 Axes>"
            ]
          },
          "metadata": {}
        },
        {
          "output_type": "display_data",
          "data": {
            "text/plain": [
              "<Figure size 720x504 with 0 Axes>"
            ]
          },
          "metadata": {}
        },
        {
          "output_type": "display_data",
          "data": {
            "text/plain": [
              "<Figure size 720x504 with 0 Axes>"
            ]
          },
          "metadata": {}
        },
        {
          "output_type": "display_data",
          "data": {
            "text/plain": [
              "<Figure size 720x504 with 0 Axes>"
            ]
          },
          "metadata": {}
        },
        {
          "output_type": "display_data",
          "data": {
            "text/plain": [
              "<Figure size 720x504 with 0 Axes>"
            ]
          },
          "metadata": {}
        },
        {
          "output_type": "display_data",
          "data": {
            "text/plain": [
              "<Figure size 720x504 with 0 Axes>"
            ]
          },
          "metadata": {}
        },
        {
          "output_type": "display_data",
          "data": {
            "text/plain": [
              "<Figure size 720x504 with 0 Axes>"
            ]
          },
          "metadata": {}
        },
        {
          "output_type": "display_data",
          "data": {
            "text/plain": [
              "<Figure size 720x504 with 0 Axes>"
            ]
          },
          "metadata": {}
        },
        {
          "output_type": "display_data",
          "data": {
            "text/plain": [
              "<Figure size 720x504 with 0 Axes>"
            ]
          },
          "metadata": {}
        },
        {
          "output_type": "display_data",
          "data": {
            "text/plain": [
              "<Figure size 720x504 with 0 Axes>"
            ]
          },
          "metadata": {}
        },
        {
          "output_type": "display_data",
          "data": {
            "text/plain": [
              "<Figure size 720x504 with 0 Axes>"
            ]
          },
          "metadata": {}
        },
        {
          "output_type": "display_data",
          "data": {
            "text/plain": [
              "<Figure size 720x504 with 0 Axes>"
            ]
          },
          "metadata": {}
        },
        {
          "output_type": "display_data",
          "data": {
            "text/plain": [
              "<Figure size 720x504 with 0 Axes>"
            ]
          },
          "metadata": {}
        },
        {
          "output_type": "display_data",
          "data": {
            "text/plain": [
              "<Figure size 720x504 with 0 Axes>"
            ]
          },
          "metadata": {}
        },
        {
          "output_type": "display_data",
          "data": {
            "text/plain": [
              "<Figure size 720x504 with 0 Axes>"
            ]
          },
          "metadata": {}
        },
        {
          "output_type": "display_data",
          "data": {
            "text/plain": [
              "<Figure size 720x504 with 0 Axes>"
            ]
          },
          "metadata": {}
        },
        {
          "output_type": "display_data",
          "data": {
            "text/plain": [
              "<Figure size 720x504 with 0 Axes>"
            ]
          },
          "metadata": {}
        },
        {
          "output_type": "display_data",
          "data": {
            "text/plain": [
              "<Figure size 720x504 with 0 Axes>"
            ]
          },
          "metadata": {}
        },
        {
          "output_type": "display_data",
          "data": {
            "text/plain": [
              "<Figure size 720x504 with 0 Axes>"
            ]
          },
          "metadata": {}
        },
        {
          "output_type": "display_data",
          "data": {
            "text/plain": [
              "<Figure size 720x504 with 0 Axes>"
            ]
          },
          "metadata": {}
        },
        {
          "output_type": "display_data",
          "data": {
            "text/plain": [
              "<Figure size 720x504 with 0 Axes>"
            ]
          },
          "metadata": {}
        },
        {
          "output_type": "display_data",
          "data": {
            "text/plain": [
              "<Figure size 720x504 with 0 Axes>"
            ]
          },
          "metadata": {}
        },
        {
          "output_type": "display_data",
          "data": {
            "text/plain": [
              "<Figure size 720x504 with 0 Axes>"
            ]
          },
          "metadata": {}
        },
        {
          "output_type": "display_data",
          "data": {
            "text/plain": [
              "<Figure size 720x504 with 0 Axes>"
            ]
          },
          "metadata": {}
        },
        {
          "output_type": "display_data",
          "data": {
            "text/plain": [
              "<Figure size 720x504 with 0 Axes>"
            ]
          },
          "metadata": {}
        },
        {
          "output_type": "display_data",
          "data": {
            "text/plain": [
              "<Figure size 720x504 with 0 Axes>"
            ]
          },
          "metadata": {}
        },
        {
          "output_type": "display_data",
          "data": {
            "text/plain": [
              "<Figure size 720x504 with 0 Axes>"
            ]
          },
          "metadata": {}
        },
        {
          "output_type": "display_data",
          "data": {
            "text/plain": [
              "<Figure size 720x504 with 0 Axes>"
            ]
          },
          "metadata": {}
        },
        {
          "output_type": "display_data",
          "data": {
            "text/plain": [
              "<Figure size 720x504 with 0 Axes>"
            ]
          },
          "metadata": {}
        },
        {
          "output_type": "display_data",
          "data": {
            "text/plain": [
              "<Figure size 720x504 with 0 Axes>"
            ]
          },
          "metadata": {}
        },
        {
          "output_type": "display_data",
          "data": {
            "text/plain": [
              "<Figure size 720x504 with 0 Axes>"
            ]
          },
          "metadata": {}
        },
        {
          "output_type": "display_data",
          "data": {
            "text/plain": [
              "<Figure size 720x504 with 0 Axes>"
            ]
          },
          "metadata": {}
        },
        {
          "output_type": "display_data",
          "data": {
            "text/plain": [
              "<Figure size 720x504 with 0 Axes>"
            ]
          },
          "metadata": {}
        }
      ]
    },
    {
      "cell_type": "code",
      "source": [
        "(kappa_hat_rad, mu_hat_rad, omega_hat_rad)"
      ],
      "metadata": {
        "colab": {
          "base_uri": "https://localhost:8080/"
        },
        "id": "C26SuC3VQdbT",
        "outputId": "5e917058-bc18-4212-cd60-d0701e8d58e5"
      },
      "execution_count": 15,
      "outputs": [
        {
          "output_type": "execute_result",
          "data": {
            "text/plain": [
              "(0.03587901815176626, 0.6798821726428107, 1.408531476155579)"
            ]
          },
          "metadata": {},
          "execution_count": 15
        }
      ]
    },
    {
      "cell_type": "markdown",
      "source": [
        "### Results plot (linear scale)\n",
        "\n",
        "\n"
      ],
      "metadata": {
        "id": "aDxd6kGmUUc_"
      }
    },
    {
      "cell_type": "code",
      "source": [
        "k_u_pdf = computePDF(Xdata, mle_kappa_mu[0], mle_kappa_mu[1], mle_kappa_mu[2])\n",
        "shadowed_k_u_pdf = shadowedKappaMuPDF(Xdata, mle_shadowed_kappa_mu[0], mle_shadowed_kappa_mu[1], mle_shadowed_kappa_mu[2], mle_shadowed_kappa_mu[3])\n",
        "\n",
        "plt.figure(figsize=((10,7)))\n",
        "plt.scatter(Xdata, Ydata, c='black')\n",
        "plt.plot(Xdata, shadowed_k_u_pdf, c='red', label=r'Shadowed $\\kappa$-$\\mu$ MLE')\n",
        "plt.plot(Xdata, k_u_pdf, c='blue', label=r'$\\kappa$-$\\mu$ MLE')\n",
        "plt.plot(Xdata, computePDF(Xdata, kappa_hat, mu_hat, omega_hat), label='$\\kappa$-$\\mu$ GA (MSE)', c='green')\n",
        "plt.plot(Xdata, computePDF(Xdata, kappa_hat_rad, mu_hat_rad, omega_hat_rad), label='$\\kappa$-$\\mu$ GA (RAD)', c='brown')\n",
        "plt.title(f'Best GA Fit')\n",
        "plt.legend()\n",
        "plt.grid(True)\n",
        "plt.xlabel(r'mV')\n",
        "plt.ylabel('pdf')\n",
        "plt.show()\n",
        "\n",
        "plt.figure(figsize=((10,7)))\n",
        "plt.scatter(Xdata, Ydata, c='black')\n",
        "plt.plot(Xdata, shadowed_k_u_pdf, c='red', label=r'Shadowed $\\kappa$-$\\mu$ MLE')\n",
        "plt.plot(Xdata, k_u_pdf, c='blue', label=r'$\\kappa$-$\\mu$ MLE')\n",
        "plt.plot(Xdata, computePDF(Xdata, kappa_hat, mu_hat, omega_hat), label='$\\kappa$-$\\mu$ GA (MSE)', c='green')\n",
        "plt.plot(Xdata, computePDF(Xdata, kappa_hat_rad, mu_hat_rad, omega_hat_rad), label='$\\kappa$-$\\mu$ GA (RAD)', c='brown')\n",
        "plt.title(f'Best GA Fit (Zoomed)')\n",
        "plt.legend()\n",
        "plt.grid(True)\n",
        "plt.xlabel(r'$dB$')\n",
        "plt.ylabel('pdf')\n",
        "plt.ylim([.6, .85])\n",
        "plt.xlim([0, 1])\n",
        "plt.show()"
      ],
      "metadata": {
        "colab": {
          "base_uri": "https://localhost:8080/",
          "height": 901
        },
        "id": "cvP_UhCoWwGi",
        "outputId": "3b35accf-36f6-406e-9347-2e7bfacbd647"
      },
      "execution_count": 16,
      "outputs": [
        {
          "output_type": "display_data",
          "data": {
            "text/plain": [
              "<Figure size 720x504 with 1 Axes>"
            ],
            "image/png": "[encoded data removed]"
          },
          "metadata": {
            "needs_background": "light"
          }
        },
        {
          "output_type": "display_data",
          "data": {
            "text/plain": [
              "<Figure size 720x504 with 1 Axes>"
            ],
            "image/png": "[encoded data removed]"
          },
          "metadata": {
            "needs_background": "light"
          }
        }
      ]
    },
    {
      "cell_type": "markdown",
      "source": [
        "### Results plot (log-log scale)\n",
        "\n",
        "\n"
      ],
      "metadata": {
        "id": "TkboUforqb2p"
      }
    },
    {
      "cell_type": "code",
      "source": [
        "plt.figure(figsize=((10,7)))\n",
        "plt.scatter(20*np.log10(Xdata), 10*np.log10(Ydata), c='black')\n",
        "plt.plot(20*np.log10(Xdata), 10*np.log10(k_u_pdf), c='blue', label=r'$\\kappa$-$\\mu$ MLE')\n",
        "plt.plot(20*np.log10(Xdata), 10*np.log10(computePDF(Xdata, kappa_hat, mu_hat, omega_hat)), label='$\\kappa$-$\\mu$ GA (MSE)', c='green')\n",
        "plt.plot(20*np.log10(Xdata), 10*np.log10(computePDF(Xdata, kappa_hat_rad, mu_hat_rad, omega_hat_rad)), label='$\\kappa$-$\\mu$ GA (RAD)', c='brown')\n",
        "plt.plot(20*np.log10(Xdata), 10*np.log10(shadowed_k_u_pdf), label='Shadowed $\\kappa$-$\\mu$ MLE', c='red')\n",
        "plt.title(f'Best GA Fit')\n",
        "plt.legend()\n",
        "plt.grid(True)\n",
        "plt.xlabel(r'dBm')\n",
        "plt.ylabel('log pdf')\n",
        "plt.show()\n",
        "\n",
        "plt.figure(figsize=((10,7)))\n",
        "plt.scatter(20*np.log10(Xdata), 10*np.log10(Ydata), c='black')\n",
        "plt.plot(20*np.log10(Xdata), 10*np.log10(k_u_pdf), c='blue', label=r'$\\kappa$-$\\mu$ MLE')\n",
        "plt.plot(20*np.log10(Xdata), 10*np.log10(computePDF(Xdata, kappa_hat, mu_hat, omega_hat)), label='$\\kappa$-$\\mu$ GA (MSE)', c='green')\n",
        "plt.plot(20*np.log10(Xdata), 10*np.log10(computePDF(Xdata, kappa_hat_rad, mu_hat_rad, omega_hat_rad)), label='$\\kappa$-$\\mu$ GA (RAD)', c='brown')\n",
        "plt.plot(20*np.log10(Xdata), 10*np.log10(shadowed_k_u_pdf), label='Shadowed $\\kappa$-$\\mu$ MLE', c='red')\n",
        "plt.title(f'Best GA Fit (Zoomed)')\n",
        "plt.legend()\n",
        "plt.grid(True)\n",
        "plt.xlabel(r'dBm')\n",
        "plt.ylabel('log pdf')\n",
        "plt.ylim([-30, 0])\n",
        "plt.xlim([-20, 15])\n",
        "plt.show()"
      ],
      "metadata": {
        "colab": {
          "base_uri": "https://localhost:8080/",
          "height": 899
        },
        "id": "tG-0AHd7o5qP",
        "outputId": "0340ab3e-8f57-47b5-dc25-107629350081"
      },
      "execution_count": 39,
      "outputs": [
        {
          "output_type": "display_data",
          "data": {
            "text/plain": [
              "<Figure size 720x504 with 1 Axes>"
            ],
            "image/png": "[encoded data removed]"
          },
          "metadata": {
            "needs_background": "light"
          }
        },
        {
          "output_type": "display_data",
          "data": {
            "text/plain": [
              "<Figure size 720x504 with 1 Axes>"
            ],
            "image/png": "[encoded data removed]"
          },
          "metadata": {
            "needs_background": "light"
          }
        }
      ]
    },
    {
      "cell_type": "markdown",
      "source": [
        "### RAD/AIC Scores"
      ],
      "metadata": {
        "id": "k0NjScVdUXLY"
      }
    },
    {
      "cell_type": "code",
      "source": [
        "# Scores - RAD\n",
        "pVec1 = Ydata/np.sum(Ydata)\n",
        "pVec2 = computePDF(Xdata, kappa_hat, mu_hat, omega_hat)/np.sum(computePDF(Xdata, kappa_hat, mu_hat, omega_hat))\n",
        "KLD_1 = kldiv(pVec1, pVec2)\n",
        "KLD_2 = kldiv(pVec2, pVec1)\n",
        "rad_mse = RAD(KLD_1, KLD_2)\n",
        "\n",
        "pVec2 = computePDF(Xdata, kappa_hat_rad, mu_hat_rad, omega_hat_rad)/np.sum(computePDF(Xdata, kappa_hat_rad, mu_hat_rad, omega_hat_rad))\n",
        "KLD_1 = kldiv(pVec1, pVec2)\n",
        "KLD_2 = kldiv(pVec2, pVec1)\n",
        "rad_rad = RAD(KLD_1, KLD_2)\n",
        "\n",
        "pVec2 = k_u_pdf/np.sum(k_u_pdf)\n",
        "KLD_1 = kldiv(pVec1, pVec2)\n",
        "KLD_2 = kldiv(pVec2, pVec1)\n",
        "rad_mle_kappa_mu = RAD(KLD_1, KLD_2)\n",
        "\n",
        "pVec2 = shadowed_k_u_pdf/np.sum(shadowed_k_u_pdf)\n",
        "KLD_1 = kldiv(pVec1, pVec2)\n",
        "KLD_2 = kldiv(pVec2, pVec1)\n",
        "rad_mle_shadowed_kappa_mu = RAD(KLD_1, KLD_2)\n",
        "\n",
        "# Scores - AIC\n",
        "\n",
        "n = len(data_mV)\n",
        "K = 3\n",
        "\n",
        "# AIC MLE - KAPPA MU\n",
        "sum = np.sum(np.log(computePDF(data_mV, mle_kappa_mu[0], mle_kappa_mu[1], mle_kappa_mu[2])))\n",
        "AIC_mle_kappa_mu = -2*sum + 2*K + (2*K*(K+1))/(n-K-1)\n",
        "\n",
        "# AIC MLE - SHADOWED KAPPA MU\n",
        "sum = np.sum(np.log(shadowedKappaMuPDF(data_mV, mle_shadowed_kappa_mu[0], mle_shadowed_kappa_mu[1], mle_shadowed_kappa_mu[2], mle_shadowed_kappa_mu[3])))\n",
        "AIC_mle_shadowed_kappa_mu = -2*sum + 2*K + (2*K*(K+1))/(n-K-1)\n",
        "\n",
        "# AIC GENETIC ALGORITHM - FITNESS: MSE\n",
        "sum = np.sum(np.log(computePDF(data_mV, kappa_hat, mu_hat, omega_hat)))\n",
        "AIC_ga_mse = -2*sum + 2*K + (2*K*(K+1))/(n-K-1)\n",
        "  \n",
        "# AIC GENETIC ALGORITHM - FITNESS: RAD\n",
        "sum = np.sum(np.log(computePDF(data_mV, kappa_hat_rad, mu_hat_rad, omega_hat_rad)))\n",
        "AIC_ga_rad = -2*sum + 2*K + (2*K*(K+1))/(n-K-1)\n",
        "\n",
        "rads = {'Methods':['Genetic Algorithm - KappaMu (MSE)', 'Genetic Algorithm - KappaMu (RAD)',\\\n",
        "                   'Maximum Likelihood Estimator - KappaMu', 'Maximum Likelihood Estimator - Shadowed KappaMu'],\n",
        "\t\t'Resistor Average Distance':[rad_mse, rad_rad, rad_mle_kappa_mu, rad_mle_shadowed_kappa_mu],\n",
        "    'Akaike Information Criteria':[AIC_ga_mse[0], AIC_ga_rad[0], AIC_mle_kappa_mu[0], AIC_mle_shadowed_kappa_mu[0]]}\n",
        "\n",
        "# Create DataFrame\n",
        "df = pd.DataFrame(rads)\n",
        "display(df.sort_values(by='Akaike Information Criteria').reset_index(drop=True))"
      ],
      "metadata": {
        "id": "3mSrNSj7ROxD",
        "colab": {
          "base_uri": "https://localhost:8080/",
          "height": 175
        },
        "outputId": "3a65dc08-964b-4f71-a4d5-b8e94c6f2c34"
      },
      "execution_count": 17,
      "outputs": [
        {
          "output_type": "display_data",
          "data": {
            "text/plain": [
              "                                           Methods  Resistor Average Distance  \\\n",
              "0  Maximum Likelihood Estimator - Shadowed KappaMu                   0.009950   \n",
              "1                Genetic Algorithm - KappaMu (RAD)                   0.046084   \n",
              "2           Maximum Likelihood Estimator - KappaMu                   0.069296   \n",
              "3                Genetic Algorithm - KappaMu (MSE)                   0.069462   \n",
              "\n",
              "   Akaike Information Criteria  \n",
              "0                313225.159357  \n",
              "1                339771.834761  \n",
              "2                380914.753628  \n",
              "3                381191.932148  "
            ],
            "text/html": [
              "\n",
              "  <div id=\"df-de6fa1e8-c150-4897-b132-378f0746c300\">\n",
              "    <div class=\"colab-df-container\">\n",
              "      <div>\n",
              "<style scoped>\n",
              "    .dataframe tbody tr th:only-of-type {\n",
              "        vertical-align: middle;\n",
              "    }\n",
              "\n",
              "    .dataframe tbody tr th {\n",
              "        vertical-align: top;\n",
              "    }\n",
              "\n",
              "    .dataframe thead th {\n",
              "        text-align: right;\n",
              "    }\n",
              "</style>\n",
              "<table border=\"1\" class=\"dataframe\">\n",
              "  <thead>\n",
              "    <tr style=\"text-align: right;\">\n",
              "      <th></th>\n",
              "      <th>Methods</th>\n",
              "      <th>Resistor Average Distance</th>\n",
              "      <th>Akaike Information Criteria</th>\n",
              "    </tr>\n",
              "  </thead>\n",
              "  <tbody>\n",
              "    <tr>\n",
              "      <th>0</th>\n",
              "      <td>Maximum Likelihood Estimator - Shadowed KappaMu</td>\n",
              "      <td>0.009950</td>\n",
              "      <td>313225.159357</td>\n",
              "    </tr>\n",
              "    <tr>\n",
              "      <th>1</th>\n",
              "      <td>Genetic Algorithm - KappaMu (RAD)</td>\n",
              "      <td>0.046084</td>\n",
              "      <td>339771.834761</td>\n",
              "    </tr>\n",
              "    <tr>\n",
              "      <th>2</th>\n",
              "      <td>Maximum Likelihood Estimator - KappaMu</td>\n",
              "      <td>0.069296</td>\n",
              "      <td>380914.753628</td>\n",
              "    </tr>\n",
              "    <tr>\n",
              "      <th>3</th>\n",
              "      <td>Genetic Algorithm - KappaMu (MSE)</td>\n",
              "      <td>0.069462</td>\n",
              "      <td>381191.932148</td>\n",
              "    </tr>\n",
              "  </tbody>\n",
              "</table>\n",
              "</div>\n",
              "      <button class=\"colab-df-convert\" onclick=\"convertToInteractive('df-de6fa1e8-c150-4897-b132-378f0746c300')\"\n",
              "              title=\"Convert this dataframe to an interactive table.\"\n",
              "              style=\"display:none;\">\n",
              "        \n",
              "  <svg xmlns=\"http://www.w3.org/2000/svg\" height=\"24px\"viewBox=\"0 0 24 24\"\n",
              "       width=\"24px\">\n",
              "    <path d=\"M0 0h24v24H0V0z\" fill=\"none\"/>\n",
              "    <path d=\"M18.56 5.44l.94 2.06.94-2.06 2.06-.94-2.06-.94-.94-2.06-.94 2.06-2.06.94zm-11 1L8.5 8.5l.94-2.06 2.06-.94-2.06-.94L8.5 2.5l-.94 2.06-2.06.94zm10 10l.94 2.06.94-2.06 2.06-.94-2.06-.94-.94-2.06-.94 2.06-2.06.94z\"/><path d=\"M17.41 7.96l-1.37-1.37c-.4-.4-.92-.59-1.43-.59-.52 0-1.04.2-1.43.59L10.3 9.45l-7.72 7.72c-.78.78-.78 2.05 0 2.83L4 21.41c.39.39.9.59 1.41.59.51 0 1.02-.2 1.41-.59l7.78-7.78 2.81-2.81c.8-.78.8-2.07 0-2.86zM5.41 20L4 18.59l7.72-7.72 1.47 1.35L5.41 20z\"/>\n",
              "  </svg>\n",
              "      </button>\n",
              "      \n",
              "  <style>\n",
              "    .colab-df-container {\n",
              "      display:flex;\n",
              "      flex-wrap:wrap;\n",
              "      gap: 12px;\n",
              "    }\n",
              "\n",
              "    .colab-df-convert {\n",
              "      background-color: #E8F0FE;\n",
              "      border: none;\n",
              "      border-radius: 50%;\n",
              "      cursor: pointer;\n",
              "      display: none;\n",
              "      fill: #1967D2;\n",
              "      height: 32px;\n",
              "      padding: 0 0 0 0;\n",
              "      width: 32px;\n",
              "    }\n",
              "\n",
              "    .colab-df-convert:hover {\n",
              "      background-color: #E2EBFA;\n",
              "      box-shadow: 0px 1px 2px rgba(60, 64, 67, 0.3), 0px 1px 3px 1px rgba(60, 64, 67, 0.15);\n",
              "      fill: #174EA6;\n",
              "    }\n",
              "\n",
              "    [theme=dark] .colab-df-convert {\n",
              "      background-color: #3B4455;\n",
              "      fill: #D2E3FC;\n",
              "    }\n",
              "\n",
              "    [theme=dark] .colab-df-convert:hover {\n",
              "      background-color: #434B5C;\n",
              "      box-shadow: 0px 1px 3px 1px rgba(0, 0, 0, 0.15);\n",
              "      filter: drop-shadow(0px 1px 2px rgba(0, 0, 0, 0.3));\n",
              "      fill: #FFFFFF;\n",
              "    }\n",
              "  </style>\n",
              "\n",
              "      <script>\n",
              "        const buttonEl =\n",
              "          document.querySelector('#df-de6fa1e8-c150-4897-b132-378f0746c300 button.colab-df-convert');\n",
              "        buttonEl.style.display =\n",
              "          google.colab.kernel.accessAllowed ? 'block' : 'none';\n",
              "\n",
              "        async function convertToInteractive(key) {\n",
              "          const element = document.querySelector('#df-de6fa1e8-c150-4897-b132-378f0746c300');\n",
              "          const dataTable =\n",
              "            await google.colab.kernel.invokeFunction('convertToInteractive',\n",
              "                                                     [key], {});\n",
              "          if (!dataTable) return;\n",
              "\n",
              "          const docLinkHtml = 'Like what you see? Visit the ' +\n",
              "            '<a target=\"_blank\" href=https://colab.research.google.com/notebooks/data_table.ipynb>data table notebook</a>'\n",
              "            + ' to learn more about interactive tables.';\n",
              "          element.innerHTML = '';\n",
              "          dataTable['output_type'] = 'display_data';\n",
              "          await google.colab.output.renderOutput(dataTable, element);\n",
              "          const docLink = document.createElement('div');\n",
              "          docLink.innerHTML = docLinkHtml;\n",
              "          element.appendChild(docLink);\n",
              "        }\n",
              "      </script>\n",
              "    </div>\n",
              "  </div>\n",
              "  "
            ]
          },
          "metadata": {}
        }
      ]
    },
    {
      "cell_type": "markdown",
      "source": [
        "## Genetic Algorithm with Shadowed $\\kappa-\\mu$:"
      ],
      "metadata": {
        "id": "Nc-dWQPvRZge"
      }
    },
    {
      "cell_type": "code",
      "source": [
        "def shadowedKappaMuPDF(r, kappa, mu, omega, md):\n",
        "  '''\n",
        "  shadowed kappa-mu pdf.\n",
        "  '''\n",
        "  A = 2 * r**((2*mu) -1) / omega**(mu)\n",
        "  B = (mu**mu * md**md * (1+kappa)**mu) / (sp.gamma(mu) * ((mu*kappa)+md)**md)\n",
        "  C = np.exp((- mu * (1+kappa) * r**2) / omega)\n",
        "  D = (mu**2) * kappa * (1+kappa) * (r**2)\n",
        "  E = ((mu*kappa)+md) * omega\n",
        "  F = sp.hyp1f1(md, mu, D / E)\n",
        "\n",
        "  pdf = A * B * C * F\n",
        "  return pdf\n",
        "\n",
        "def fitness_sku(X, Y, fitnessType, kappa, mu, omega, md):\n",
        "  '''\n",
        "  Fitness function (MSE/RAD) to determine how good a given solution is.\n",
        "  '''\n",
        "  if fitnessType == 'MSE':\n",
        "    y_pred = shadowedKappaMuPDF(X, kappa, mu, omega, md)\n",
        "    n = len(Y)\n",
        "    sum = []\n",
        "    for val in (Y-y_pred):\n",
        "      sum.append(val**2)\n",
        "    sum = np.sum(sum)\n",
        "    cost = 1/n * sum\n",
        "    return 1/cost\n",
        "  elif fitnessType == 'RAD':\n",
        "    pVec1 = Y/np.sum(Y)\n",
        "    pVec2 = shadowedKappaMuPDF(X, kappa, mu, omega, md)/np.sum(shadowedKappaMuPDF(X, kappa, mu, omega, md))\n",
        "    KLD_1 = kldiv(pVec1, pVec2)\n",
        "    KLD_2 = kldiv(pVec2, pVec1)\n",
        "    cost = RAD(KLD_1, KLD_2)\n",
        "    return 1/cost\n",
        "\n",
        "\n",
        "def geneticAlgorithm_sku(X, Y, mleResults):\n",
        "  '''\n",
        "  Evolutionary Loop\n",
        "  '''\n",
        "  solutions = []\n",
        "  bestParams = []\n",
        "  bestCriteria = 0\n",
        "  bestGen = 0\n",
        "\n",
        "\n",
        "  # Generate solutions (chromossomes)\n",
        "  for s in range(nPopulation):\n",
        "    solutions.append((random.uniform(0.01, 10), # kappa\n",
        "                        random.uniform(0.1, 1.0), # mu\n",
        "                        random.uniform(0.1, 1.0), # r_hat^2\n",
        "                        random.uniform(0.1, 1.0))) # md\n",
        "\n",
        "  # Evolutionary Loop\n",
        "  for i in range(nMaxGen):\n",
        "    rankedSolutions = []\t\n",
        "    for s in solutions:\n",
        "      rankedSolutions.append( (fitness_sku(X, Y, fitnessType, s[0],s[1],s[2],s[3]), s) )\n",
        "    rankedSolutions.sort()\n",
        "    rankedSolutions.reverse()\n",
        "    \n",
        "    print(f'=== Generation: {i} === ')\n",
        "    print(f'Fitness: {rankedSolutions[0][0]}')\n",
        "    print('Best individual:')\n",
        "    print(f'Kappa: {rankedSolutions[0][1][0]}')\n",
        "    print(f'Mu: {rankedSolutions[0][1][1]}')\n",
        "    print(f'Omega: {rankedSolutions[0][1][2]}')\n",
        "    print(f'Md: {rankedSolutions[0][1][3]}\\n')\n",
        "\n",
        "    plt.figure(figsize=((10,7)))\n",
        "    plt.plot(20*np.log10(X), shadowedKappaMuPDF(X, rankedSolutions[0][1][0], rankedSolutions[0][1][1], rankedSolutions[0][1][2], rankedSolutions[0][1][3]), label='Predicted')\n",
        "    plt.scatter(20*np.log10(X), Y, color='m', label='Real')\n",
        "    plt.plot(20*np.log10(X), shadowedKappaMuPDF(X, mle_shadowed_kappa_mu[0], mle_shadowed_kappa_mu[1], mle_shadowed_kappa_mu[2], mle_shadowed_kappa_mu[3]), label='Nidhi\\'s MLE')\n",
        "    plt.title(f'=== Generation: {i} === ')\n",
        "    plt.legend()\n",
        "    plt.grid(True)\n",
        "    plt.xlabel(r'$\\rho=r/\\hat{r}$')\n",
        "    plt.ylabel('pdf')\n",
        "    if savePlots: \n",
        "      plt.savefig(f'plots/gen/gen_{i}.png')\n",
        "    \n",
        "    if showPlots:\n",
        "      plt.show()\n",
        "      plt.clf()\n",
        "    else: \n",
        "      plt.clf()\n",
        "\n",
        "    # Keeping track the best params and generation:\n",
        "    if rankedSolutions[0][0] > bestCriteria:\n",
        "      bestCriteria = rankedSolutions[0][0]\n",
        "      bestGen = i\n",
        "      bestParams = rankedSolutions[0][1]\n",
        "\n",
        "    # Combine the best solutions and make a new solution of those combined solutions\n",
        "    bestSolutions = rankedSolutions[:100]\n",
        "    elements_kappa = []\n",
        "    elements_mu = []\n",
        "    elements_omega = [] \n",
        "    elements_md = [] \n",
        "    for s in bestSolutions:\n",
        "      elements_kappa.append(s[1][0])\n",
        "      elements_mu.append(s[1][1])\n",
        "      elements_omega.append(s[1][2])\n",
        "      elements_md.append(s[1][3])\n",
        "\n",
        "    newGen = []\n",
        "    for _ in range(nPopulation):\n",
        "      e1 = random.choice(elements_kappa) * random.uniform(0.975,1.025) # Mutation of 5%\n",
        "      e2 = random.choice(elements_mu) * random.uniform(0.975,1.025) # Mutation of 5%\n",
        "      e3 = random.choice(elements_omega) * random.uniform(0.975,1.025) # Mutation of 5%\n",
        "      e4 = random.choice(elements_md) * random.uniform(0.975,1.025) # Mutation of 5%\n",
        "      \n",
        "      newGen.append((e1,e2,e3,e4))\n",
        "\n",
        "    solutions = newGen\n",
        "    \n",
        "    if i == nMaxGen-1:\n",
        "      print('='*10+'\\n'+'Max number of generations exceeded!\\n'+'='*10+'\\n')\n",
        "      # print()\n",
        "      # print('='*10)\n",
        "      print('Best Fitness: {}\\nBest Gen: {}'.format(bestCriteria, bestGen))\n",
        "      print('Kappa: {}\\nMu: {}\\nOmega: {}\\nMd: {}'.format(bestParams[0],bestParams[1],bestParams[2],bestParams[3]))\n",
        "\n",
        "      return bestParams[0],bestParams[1],bestParams[2],bestParams[3]"
      ],
      "metadata": {
        "id": "4hMqftuWqV7h"
      },
      "execution_count": 18,
      "outputs": []
    },
    {
      "cell_type": "markdown",
      "source": [
        "### GA: Shadowed $\\kappa-\\mu$ (MSE) fit"
      ],
      "metadata": {
        "id": "SamrsctfUgqb"
      }
    },
    {
      "cell_type": "code",
      "source": [
        "fitnessType = 'MSE'\n",
        "# X, Y = getDensityEstimationSamples(pathAB_linear[nAP].dropna(), nExtractedSamples)\n",
        "kappa_hat_sku, mu_hat_sku, omega_hat_sku, md_hat_sku = geneticAlgorithm_sku(Xdata,Ydata, mle_shadowed_kappa_mu)"
      ],
      "metadata": {
        "colab": {
          "base_uri": "https://localhost:8080/",
          "height": 1000
        },
        "id": "SLmSxY6O2WLS",
        "outputId": "885cc581-317d-45f7-8cbb-f11dcf176461"
      },
      "execution_count": 19,
      "outputs": [
        {
          "output_type": "stream",
          "name": "stderr",
          "text": [
            "/usr/local/lib/python3.7/dist-packages/ipykernel_launcher.py:12: RuntimeWarning: invalid value encountered in multiply\n",
            "  if sys.path[0] == '':\n"
          ]
        },
        {
          "output_type": "stream",
          "name": "stdout",
          "text": [
            "=== Generation: 0 === \n",
            "Fitness: 526.0700755411968\n",
            "Best individual:\n",
            "Kappa: 2.5580218194169806\n",
            "Mu: 0.9796290763846105\n",
            "Omega: 0.9922293339090426\n",
            "Md: 0.5358372024475068\n",
            "\n"
          ]
        },
        {
          "output_type": "stream",
          "name": "stderr",
          "text": [
            "/usr/local/lib/python3.7/dist-packages/ipykernel_launcher.py:12: RuntimeWarning: invalid value encountered in multiply\n",
            "  if sys.path[0] == '':\n"
          ]
        },
        {
          "output_type": "stream",
          "name": "stdout",
          "text": [
            "=== Generation: 1 === \n",
            "Fitness: 359.8594785041123\n",
            "Best individual:\n",
            "Kappa: 2.502335172340489\n",
            "Mu: 0.925315673520637\n",
            "Omega: 0.9037111396168422\n",
            "Md: 0.6519193429399279\n",
            "\n"
          ]
        },
        {
          "output_type": "stream",
          "name": "stderr",
          "text": [
            "/usr/local/lib/python3.7/dist-packages/ipykernel_launcher.py:12: RuntimeWarning: invalid value encountered in multiply\n",
            "  if sys.path[0] == '':\n"
          ]
        },
        {
          "output_type": "stream",
          "name": "stdout",
          "text": [
            "=== Generation: 2 === \n",
            "Fitness: 516.4587311722192\n",
            "Best individual:\n",
            "Kappa: 1.788980568838218\n",
            "Mu: 0.9083891191114197\n",
            "Omega: 0.9955145299138611\n",
            "Md: 0.4846615007645529\n",
            "\n",
            "=== Generation: 3 === \n",
            "Fitness: 510.3526745561718\n",
            "Best individual:\n",
            "Kappa: 2.1218235815503887\n",
            "Mu: 1.0114047121066412\n",
            "Omega: 0.9832578585128674\n",
            "Md: 0.46841232982081366\n",
            "\n",
            "=== Generation: 4 === \n",
            "Fitness: 572.6695728481386\n",
            "Best individual:\n",
            "Kappa: 1.5657368057596546\n",
            "Mu: 1.016966997705951\n",
            "Omega: 1.028264366213603\n",
            "Md: 0.3361692733457438\n",
            "\n",
            "=== Generation: 5 === \n",
            "Fitness: 607.6912125668167\n",
            "Best individual:\n",
            "Kappa: 2.6375300698152024\n",
            "Mu: 1.0114653680177947\n",
            "Omega: 1.028010883122309\n",
            "Md: 0.48564551082922885\n",
            "\n",
            "=== Generation: 6 === \n",
            "Fitness: 665.2456325352433\n",
            "Best individual:\n",
            "Kappa: 2.336400524924023\n",
            "Mu: 1.0196425899714996\n",
            "Omega: 1.0639204570029204\n",
            "Md: 0.48355354978285436\n",
            "\n",
            "=== Generation: 7 === \n",
            "Fitness: 727.831531907505\n",
            "Best individual:\n",
            "Kappa: 2.5511457248568252\n",
            "Mu: 0.9934499803266852\n",
            "Omega: 1.0799638362507282\n",
            "Md: 0.47063073373856085\n",
            "\n",
            "=== Generation: 8 === \n",
            "Fitness: 782.7697632449272\n",
            "Best individual:\n",
            "Kappa: 2.3610722086882916\n",
            "Mu: 0.9841031049874939\n",
            "Omega: 1.1041252772440355\n",
            "Md: 0.4493095385668883\n",
            "\n",
            "=== Generation: 9 === \n",
            "Fitness: 837.0043326569617\n",
            "Best individual:\n",
            "Kappa: 2.655363239368514\n",
            "Mu: 1.0316672418629935\n",
            "Omega: 1.126920740884627\n",
            "Md: 0.45476106445715886\n",
            "\n",
            "=== Generation: 10 === \n",
            "Fitness: 915.1648523354318\n",
            "Best individual:\n",
            "Kappa: 2.566430261584927\n",
            "Mu: 1.018123874669895\n",
            "Omega: 1.1499629083680796\n",
            "Md: 0.4282142879983094\n",
            "\n",
            "=== Generation: 11 === \n",
            "Fitness: 961.3026739880245\n",
            "Best individual:\n",
            "Kappa: 2.711667692926065\n",
            "Mu: 1.0139996294648843\n",
            "Omega: 1.171669643422295\n",
            "Md: 0.4233442188553816\n",
            "\n",
            "=== Generation: 12 === \n",
            "Fitness: 1021.3813387479763\n",
            "Best individual:\n",
            "Kappa: 2.6839320528677524\n",
            "Mu: 1.016239951056051\n",
            "Omega: 1.2049789860556144\n",
            "Md: 0.4151297269672419\n",
            "\n",
            "=== Generation: 13 === \n",
            "Fitness: 1053.4464180397233\n",
            "Best individual:\n",
            "Kappa: 2.628773403574702\n",
            "Mu: 1.03558941678109\n",
            "Omega: 1.1990566763001136\n",
            "Md: 0.40214519366955365\n",
            "\n",
            "=== Generation: 14 === \n",
            "Fitness: 1112.689381847395\n",
            "Best individual:\n",
            "Kappa: 2.80557949512067\n",
            "Mu: 1.051482034207863\n",
            "Omega: 1.2524185785696431\n",
            "Md: 0.40169764701863825\n",
            "\n",
            "=== Generation: 15 === \n",
            "Fitness: 1180.6875024327621\n",
            "Best individual:\n",
            "Kappa: 2.8170855867364084\n",
            "Mu: 1.0695618320896194\n",
            "Omega: 1.2562703987321093\n",
            "Md: 0.38513261332855586\n",
            "\n",
            "=== Generation: 16 === \n",
            "Fitness: 1211.7195452404596\n",
            "Best individual:\n",
            "Kappa: 2.78375529155418\n",
            "Mu: 1.0550543386991755\n",
            "Omega: 1.2908524550445588\n",
            "Md: 0.3786310163528691\n",
            "\n",
            "=== Generation: 17 === \n",
            "Fitness: 1259.9427302646404\n",
            "Best individual:\n",
            "Kappa: 2.903061383923928\n",
            "Mu: 1.0579557756038243\n",
            "Omega: 1.2946744342002496\n",
            "Md: 0.3716799500187746\n",
            "\n",
            "=== Generation: 18 === \n",
            "Fitness: 1299.0572085760082\n",
            "Best individual:\n",
            "Kappa: 2.9309131231628696\n",
            "Mu: 1.0753281995703343\n",
            "Omega: 1.308739174157371\n",
            "Md: 0.36274724039846307\n",
            "\n",
            "=== Generation: 19 === \n",
            "Fitness: 1343.0395264018002\n",
            "Best individual:\n",
            "Kappa: 2.8434848591168005\n",
            "Mu: 1.063497578672319\n",
            "Omega: 1.3307746919097938\n",
            "Md: 0.35301632127009086\n",
            "\n",
            "=== Generation: 20 === \n",
            "Fitness: 1369.3588824719843\n",
            "Best individual:\n",
            "Kappa: 2.8371558902581424\n",
            "Mu: 1.0588097559585437\n",
            "Omega: 1.331151711776755\n",
            "Md: 0.34532104799499586\n",
            "\n",
            "=== Generation: 21 === \n",
            "Fitness: 1404.4990479438943\n",
            "Best individual:\n",
            "Kappa: 2.965003539603537\n",
            "Mu: 1.089360655383844\n",
            "Omega: 1.3726956161309636\n",
            "Md: 0.33753912438229716\n",
            "\n",
            "=== Generation: 22 === \n",
            "Fitness: 1428.6683109582264\n",
            "Best individual:\n",
            "Kappa: 2.8031587963135136\n",
            "Mu: 1.069413657439913\n",
            "Omega: 1.3652923677760354\n",
            "Md: 0.33249689261380916\n",
            "\n",
            "=== Generation: 23 === \n",
            "Fitness: 1446.4641298135268\n",
            "Best individual:\n",
            "Kappa: 2.850315164887074\n",
            "Mu: 1.067162241007281\n",
            "Omega: 1.3936490586911867\n",
            "Md: 0.32723752929887684\n",
            "\n",
            "=== Generation: 24 === \n",
            "Fitness: 1478.031380745717\n",
            "Best individual:\n",
            "Kappa: 2.8495519329289523\n",
            "Mu: 1.0814509896888054\n",
            "Omega: 1.404753690805319\n",
            "Md: 0.3185984316054515\n",
            "\n",
            "=== Generation: 25 === \n",
            "Fitness: 1503.2015579726883\n",
            "Best individual:\n",
            "Kappa: 2.7426877766442446\n",
            "Mu: 1.0670338604771457\n",
            "Omega: 1.402332277544884\n",
            "Md: 0.312586586233185\n",
            "\n",
            "=== Generation: 26 === \n",
            "Fitness: 1530.288101334862\n",
            "Best individual:\n",
            "Kappa: 2.727712892873264\n",
            "Mu: 1.0584197285952417\n",
            "Omega: 1.4061401240230638\n",
            "Md: 0.30599089380637673\n",
            "\n",
            "=== Generation: 27 === \n",
            "Fitness: 1545.4015633308948\n",
            "Best individual:\n",
            "Kappa: 2.7309961584463807\n",
            "Mu: 1.0623893235678952\n",
            "Omega: 1.4169946943994502\n",
            "Md: 0.30178343631109006\n",
            "\n",
            "=== Generation: 28 === \n",
            "Fitness: 1563.2113628440447\n",
            "Best individual:\n",
            "Kappa: 2.8067648362651516\n",
            "Mu: 1.078371755376601\n",
            "Omega: 1.4428647942784907\n",
            "Md: 0.2921739871121055\n",
            "\n",
            "=== Generation: 29 === \n",
            "Fitness: 1580.488856354508\n",
            "Best individual:\n",
            "Kappa: 2.694740216197383\n",
            "Mu: 1.0619252619875883\n",
            "Omega: 1.4441580079843108\n",
            "Md: 0.2898560202572517\n",
            "\n",
            "=== Generation: 30 === \n",
            "Fitness: 1595.1414036246424\n",
            "Best individual:\n",
            "Kappa: 2.630311613203737\n",
            "Mu: 1.0609757163463829\n",
            "Omega: 1.4363877229728792\n",
            "Md: 0.28481014353823375\n",
            "\n",
            "=== Generation: 31 === \n",
            "Fitness: 1606.0514401393295\n",
            "Best individual:\n",
            "Kappa: 2.725056873629318\n",
            "Mu: 1.0698340570055362\n",
            "Omega: 1.4725817185937327\n",
            "Md: 0.278677320023671\n",
            "\n",
            "=== Generation: 32 === \n",
            "Fitness: 1620.9435859342404\n",
            "Best individual:\n",
            "Kappa: 2.636978363818493\n",
            "Mu: 1.058661790188744\n",
            "Omega: 1.4547909239668613\n",
            "Md: 0.27428718088182097\n",
            "\n",
            "=== Generation: 33 === \n",
            "Fitness: 1634.8093117393905\n",
            "Best individual:\n",
            "Kappa: 2.6649358600093085\n",
            "Mu: 1.0539517491797852\n",
            "Omega: 1.4847241969009466\n",
            "Md: 0.2673456920474246\n",
            "\n",
            "=== Generation: 34 === \n",
            "Fitness: 1642.77281770381\n",
            "Best individual:\n",
            "Kappa: 2.5998409938140465\n",
            "Mu: 1.055423571272321\n",
            "Omega: 1.4876812589651536\n",
            "Md: 0.26345795160768726\n",
            "\n",
            "=== Generation: 35 === \n",
            "Fitness: 1652.796591539839\n",
            "Best individual:\n",
            "Kappa: 2.541617442018857\n",
            "Mu: 1.051098198116077\n",
            "Omega: 1.4825118295153703\n",
            "Md: 0.2570523229330882\n",
            "\n",
            "=== Generation: 36 === \n",
            "Fitness: 1652.8447383186794\n",
            "Best individual:\n",
            "Kappa: 2.565351275132396\n",
            "Mu: 1.0553906304268705\n",
            "Omega: 1.4894787984336126\n",
            "Md: 0.25514518617279275\n",
            "\n",
            "=== Generation: 37 === \n",
            "Fitness: 1658.8120860299834\n",
            "Best individual:\n",
            "Kappa: 2.5090907359523893\n",
            "Mu: 1.0426476563417082\n",
            "Omega: 1.499925926628247\n",
            "Md: 0.2510368756378327\n",
            "\n",
            "=== Generation: 38 === \n",
            "Fitness: 1660.1977301926472\n",
            "Best individual:\n",
            "Kappa: 2.520470331792751\n",
            "Mu: 1.0424206373530067\n",
            "Omega: 1.5075856474866887\n",
            "Md: 0.2494855725917643\n",
            "\n",
            "=== Generation: 39 === \n",
            "Fitness: 1663.1421166148878\n",
            "Best individual:\n",
            "Kappa: 2.5273584759183367\n",
            "Mu: 1.0468678870552723\n",
            "Omega: 1.5073432792855157\n",
            "Md: 0.24698519235829489\n",
            "\n",
            "=== Generation: 40 === \n",
            "Fitness: 1664.8028719058398\n",
            "Best individual:\n",
            "Kappa: 2.5291508980373694\n",
            "Mu: 1.0456719635173153\n",
            "Omega: 1.5255900831665479\n",
            "Md: 0.2424586112567931\n",
            "\n",
            "=== Generation: 41 === \n",
            "Fitness: 1665.2669237419211\n",
            "Best individual:\n",
            "Kappa: 2.503598549323457\n",
            "Mu: 1.044079516481436\n",
            "Omega: 1.5163924547252767\n",
            "Md: 0.24192287597171097\n",
            "\n",
            "=== Generation: 42 === \n",
            "Fitness: 1664.9695022432572\n",
            "Best individual:\n",
            "Kappa: 2.524636303756976\n",
            "Mu: 1.0437144075766263\n",
            "Omega: 1.5269480722846198\n",
            "Md: 0.24190664531885414\n",
            "\n",
            "=== Generation: 43 === \n",
            "Fitness: 1665.1505112710483\n",
            "Best individual:\n",
            "Kappa: 2.515817318970941\n",
            "Mu: 1.0392861500856014\n",
            "Omega: 1.5322457783472476\n",
            "Md: 0.23810263074849267\n",
            "\n",
            "=== Generation: 44 === \n",
            "Fitness: 1665.203355509117\n",
            "Best individual:\n",
            "Kappa: 2.5314821964118415\n",
            "Mu: 1.0454240651400293\n",
            "Omega: 1.532615859315125\n",
            "Md: 0.2389239209153367\n",
            "\n",
            "=== Generation: 45 === \n",
            "Fitness: 1665.3566468695174\n",
            "Best individual:\n",
            "Kappa: 2.502987766216407\n",
            "Mu: 1.04278323654293\n",
            "Omega: 1.5158973382374896\n",
            "Md: 0.24228654996148957\n",
            "\n",
            "=== Generation: 46 === \n",
            "Fitness: 1665.2848931734989\n",
            "Best individual:\n",
            "Kappa: 2.489555517256149\n",
            "Mu: 1.0429569806388779\n",
            "Omega: 1.5292714056751884\n",
            "Md: 0.23673490481728213\n",
            "\n",
            "=== Generation: 47 === \n",
            "Fitness: 1664.7055870152233\n",
            "Best individual:\n",
            "Kappa: 2.490668157348531\n",
            "Mu: 1.037447798346391\n",
            "Omega: 1.5359398872314718\n",
            "Md: 0.23587832841733425\n",
            "\n",
            "=== Generation: 48 === \n",
            "Fitness: 1665.1250762519762\n",
            "Best individual:\n",
            "Kappa: 2.478566773575347\n",
            "Mu: 1.040099317104038\n",
            "Omega: 1.5227395259768244\n",
            "Md: 0.23694783924733792\n",
            "\n",
            "=== Generation: 49 === \n",
            "Fitness: 1664.378275002646\n",
            "Best individual:\n",
            "Kappa: 2.495331474261549\n",
            "Mu: 1.0399592014500203\n",
            "Omega: 1.5353085389847827\n",
            "Md: 0.23728765843304028\n",
            "\n",
            "=== Generation: 50 === \n",
            "Fitness: 1665.1068342733427\n",
            "Best individual:\n",
            "Kappa: 2.490312792154524\n",
            "Mu: 1.04046289489821\n",
            "Omega: 1.5233349468140294\n",
            "Md: 0.23748446095545214\n",
            "\n",
            "=== Generation: 51 === \n",
            "Fitness: 1665.5113231953144\n",
            "Best individual:\n",
            "Kappa: 2.497432380790355\n",
            "Mu: 1.0426737060879023\n",
            "Omega: 1.531133018637451\n",
            "Md: 0.23721371401525923\n",
            "\n",
            "=== Generation: 52 === \n",
            "Fitness: 1664.9190880172368\n",
            "Best individual:\n",
            "Kappa: 2.4979127921473396\n",
            "Mu: 1.0373031095428573\n",
            "Omega: 1.5244510207121644\n",
            "Md: 0.23924025590261655\n",
            "\n",
            "=== Generation: 53 === \n",
            "Fitness: 1665.5238788164336\n",
            "Best individual:\n",
            "Kappa: 2.5239799262385265\n",
            "Mu: 1.0430476307735925\n",
            "Omega: 1.5255823716820003\n",
            "Md: 0.24138947025842192\n",
            "\n",
            "=== Generation: 54 === \n",
            "Fitness: 1665.1246926275633\n",
            "Best individual:\n",
            "Kappa: 2.4826406956069103\n",
            "Mu: 1.041644110757509\n",
            "Omega: 1.5310599947976218\n",
            "Md: 0.2360277461014022\n",
            "\n",
            "=== Generation: 55 === \n",
            "Fitness: 1665.579580359385\n",
            "Best individual:\n",
            "Kappa: 2.4979457850284326\n",
            "Mu: 1.0418587663334262\n",
            "Omega: 1.520447369423841\n",
            "Md: 0.24103346015553537\n",
            "\n",
            "=== Generation: 56 === \n",
            "Fitness: 1665.4951555299747\n",
            "Best individual:\n",
            "Kappa: 2.503344047411721\n",
            "Mu: 1.0423085072007197\n",
            "Omega: 1.5198599385538647\n",
            "Md: 0.241734367610216\n",
            "\n",
            "=== Generation: 57 === \n",
            "Fitness: 1665.0146149285204\n",
            "Best individual:\n",
            "Kappa: 2.5255802131155534\n",
            "Mu: 1.0408821024835526\n",
            "Omega: 1.5376043891359286\n",
            "Md: 0.23712848969850564\n",
            "\n",
            "=== Generation: 58 === \n",
            "Fitness: 1665.630310174893\n",
            "Best individual:\n",
            "Kappa: 2.5088345608604996\n",
            "Mu: 1.0430220863978175\n",
            "Omega: 1.5245970457302371\n",
            "Md: 0.2406787014470699\n",
            "\n",
            "=== Generation: 59 === \n",
            "Fitness: 1665.0516174194242\n",
            "Best individual:\n",
            "Kappa: 2.524233339647384\n",
            "Mu: 1.0422741528590598\n",
            "Omega: 1.5352260097651358\n",
            "Md: 0.2369865205505468\n",
            "\n",
            "=== Generation: 60 === \n",
            "Fitness: 1665.438269593521\n",
            "Best individual:\n",
            "Kappa: 2.4993372522884445\n",
            "Mu: 1.0414584014234103\n",
            "Omega: 1.530857767836497\n",
            "Md: 0.2381920832155624\n",
            "\n",
            "=== Generation: 61 === \n",
            "Fitness: 1665.4400517924023\n",
            "Best individual:\n",
            "Kappa: 2.5011333912463214\n",
            "Mu: 1.0395201794457007\n",
            "Omega: 1.52297726741517\n",
            "Md: 0.24054132569161696\n",
            "\n",
            "=== Generation: 62 === \n",
            "Fitness: 1664.977069321601\n",
            "Best individual:\n",
            "Kappa: 2.5115939042752053\n",
            "Mu: 1.0398085947091684\n",
            "Omega: 1.5314612116047919\n",
            "Md: 0.23942187861501274\n",
            "\n",
            "=== Generation: 63 === \n",
            "Fitness: 1664.7161773287137\n",
            "Best individual:\n",
            "Kappa: 2.5257107998906068\n",
            "Mu: 1.044672435822036\n",
            "Omega: 1.517916245905209\n",
            "Md: 0.24247302147186575\n",
            "\n",
            "=== Generation: 64 === \n",
            "Fitness: 1664.6245160976039\n",
            "Best individual:\n",
            "Kappa: 2.4973041992211806\n",
            "Mu: 1.041175760929969\n",
            "Omega: 1.516866007193497\n",
            "Md: 0.2430352753129664\n",
            "\n",
            "=== Generation: 65 === \n",
            "Fitness: 1665.5188385916424\n",
            "Best individual:\n",
            "Kappa: 2.509148189975977\n",
            "Mu: 1.0399142423482768\n",
            "Omega: 1.528375279725695\n",
            "Md: 0.23849133672990994\n",
            "\n",
            "=== Generation: 66 === \n",
            "Fitness: 1665.155595062972\n",
            "Best individual:\n",
            "Kappa: 2.4829746076644463\n",
            "Mu: 1.0429951876400674\n",
            "Omega: 1.5188457870630512\n",
            "Md: 0.2397693846171016\n",
            "\n",
            "=== Generation: 67 === \n",
            "Fitness: 1665.39325783017\n",
            "Best individual:\n",
            "Kappa: 2.499481833478985\n",
            "Mu: 1.0430950253255915\n",
            "Omega: 1.5322413116154427\n",
            "Md: 0.23706068480599787\n",
            "\n",
            "=== Generation: 68 === \n",
            "Fitness: 1664.8210119719593\n",
            "Best individual:\n",
            "Kappa: 2.523504526672662\n",
            "Mu: 1.0464480029075731\n",
            "Omega: 1.5219214552556868\n",
            "Md: 0.24102289368500715\n",
            "\n",
            "=== Generation: 69 === \n",
            "Fitness: 1665.0427051393317\n",
            "Best individual:\n",
            "Kappa: 2.5071891735357346\n",
            "Mu: 1.042813811513196\n",
            "Omega: 1.5191602560743043\n",
            "Md: 0.24278845231324112\n",
            "\n",
            "=== Generation: 70 === \n",
            "Fitness: 1665.4850158219276\n",
            "Best individual:\n",
            "Kappa: 2.503439529058159\n",
            "Mu: 1.0409313510308758\n",
            "Omega: 1.5347397465790937\n",
            "Md: 0.23689015762268506\n",
            "\n",
            "=== Generation: 71 === \n",
            "Fitness: 1665.7991846559937\n",
            "Best individual:\n",
            "Kappa: 2.4991885843525643\n",
            "Mu: 1.0422384492191994\n",
            "Omega: 1.522295723813468\n",
            "Md: 0.2398074505687641\n",
            "\n",
            "=== Generation: 72 === \n",
            "Fitness: 1665.3810150303439\n",
            "Best individual:\n",
            "Kappa: 2.53168498248428\n",
            "Mu: 1.0428948546411674\n",
            "Omega: 1.5313624700812443\n",
            "Md: 0.2398831596782383\n",
            "\n",
            "=== Generation: 73 === \n",
            "Fitness: 1665.0469576118842\n",
            "Best individual:\n",
            "Kappa: 2.469346554877232\n",
            "Mu: 1.0376657407571077\n",
            "Omega: 1.5195943396394436\n",
            "Md: 0.23859670492661042\n",
            "\n",
            "=== Generation: 74 === \n",
            "Fitness: 1665.1325457725297\n",
            "Best individual:\n",
            "Kappa: 2.4977713685093574\n",
            "Mu: 1.0403286590769827\n",
            "Omega: 1.5155216491472345\n",
            "Md: 0.24154731083666534\n",
            "\n",
            "=== Generation: 75 === \n",
            "Fitness: 1665.6527532484813\n",
            "Best individual:\n",
            "Kappa: 2.498452789871725\n",
            "Mu: 1.0415942704649994\n",
            "Omega: 1.5321287749334198\n",
            "Md: 0.23667882347557762\n",
            "\n",
            "=== Generation: 76 === \n",
            "Fitness: 1665.134813342065\n",
            "Best individual:\n",
            "Kappa: 2.5217098209287583\n",
            "Mu: 1.0453154883990585\n",
            "Omega: 1.5211210132188793\n",
            "Md: 0.24274091440662188\n",
            "\n",
            "=== Generation: 77 === \n",
            "Fitness: 1665.5351801988857\n",
            "Best individual:\n",
            "Kappa: 2.5091590520974054\n",
            "Mu: 1.044304329083244\n",
            "Omega: 1.5240258772017554\n",
            "Md: 0.23956245290069844\n",
            "\n",
            "=== Generation: 78 === \n",
            "Fitness: 1665.5029775468556\n",
            "Best individual:\n",
            "Kappa: 2.4811870370341453\n",
            "Mu: 1.0391026201924505\n",
            "Omega: 1.5282509700128848\n",
            "Md: 0.23647187527153876\n",
            "\n",
            "=== Generation: 79 === \n",
            "Fitness: 1665.2714590879036\n",
            "Best individual:\n",
            "Kappa: 2.487682149224666\n",
            "Mu: 1.0432920080389827\n",
            "Omega: 1.5225390867608926\n",
            "Md: 0.23916673031867933\n",
            "\n",
            "=== Generation: 80 === \n",
            "Fitness: 1665.2887561492564\n",
            "Best individual:\n",
            "Kappa: 2.5161097051137364\n",
            "Mu: 1.0413784510321797\n",
            "Omega: 1.530552460265454\n",
            "Md: 0.23774975913931543\n",
            "\n",
            "=== Generation: 81 === \n",
            "Fitness: 1665.5504061810395\n",
            "Best individual:\n",
            "Kappa: 2.5108774806631358\n",
            "Mu: 1.0401463186098407\n",
            "Omega: 1.5288050841315237\n",
            "Md: 0.2393756795936108\n",
            "\n",
            "=== Generation: 82 === \n",
            "Fitness: 1665.637854621536\n",
            "Best individual:\n",
            "Kappa: 2.501303498380673\n",
            "Mu: 1.0418299443619132\n",
            "Omega: 1.518997405051418\n",
            "Md: 0.24114316746529743\n",
            "\n",
            "=== Generation: 83 === \n",
            "Fitness: 1664.8930721934837\n",
            "Best individual:\n",
            "Kappa: 2.4729616716323917\n",
            "Mu: 1.0371620295998079\n",
            "Omega: 1.5306975977772506\n",
            "Md: 0.23562139392205994\n",
            "\n",
            "=== Generation: 84 === \n",
            "Fitness: 1664.861684204738\n",
            "Best individual:\n",
            "Kappa: 2.509975799787783\n",
            "Mu: 1.0407401829033343\n",
            "Omega: 1.5380102871976715\n",
            "Md: 0.23491797512233636\n",
            "\n",
            "=== Generation: 85 === \n",
            "Fitness: 1665.7392546627348\n",
            "Best individual:\n",
            "Kappa: 2.4947346309314042\n",
            "Mu: 1.0419906640329586\n",
            "Omega: 1.5274062592247282\n",
            "Md: 0.23764393195233555\n",
            "\n",
            "=== Generation: 86 === \n",
            "Fitness: 1665.6473357536795\n",
            "Best individual:\n",
            "Kappa: 2.495819922504342\n",
            "Mu: 1.0398117127255235\n",
            "Omega: 1.525983358131795\n",
            "Md: 0.23797536609339853\n",
            "\n",
            "=== Generation: 87 === \n",
            "Fitness: 1665.586342798447\n",
            "Best individual:\n",
            "Kappa: 2.513563927285973\n",
            "Mu: 1.041406229220476\n",
            "Omega: 1.5335971230228547\n",
            "Md: 0.23727574482639058\n",
            "\n",
            "=== Generation: 88 === \n",
            "Fitness: 1665.4494016559386\n",
            "Best individual:\n",
            "Kappa: 2.5082363265059877\n",
            "Mu: 1.0402554451969863\n",
            "Omega: 1.5234160807639856\n",
            "Md: 0.24099341559723678\n",
            "\n",
            "=== Generation: 89 === \n",
            "Fitness: 1664.4054840811361\n",
            "Best individual:\n",
            "Kappa: 2.542112251829147\n",
            "Mu: 1.0448789045795834\n",
            "Omega: 1.5347332817861385\n",
            "Md: 0.24084036981398793\n",
            "\n",
            "=== Generation: 90 === \n",
            "Fitness: 1665.2135281439207\n",
            "Best individual:\n",
            "Kappa: 2.485436036520489\n",
            "Mu: 1.0405350082312643\n",
            "Omega: 1.5216784789221969\n",
            "Md: 0.2401037101705207\n",
            "\n",
            "=== Generation: 91 === \n",
            "Fitness: 1665.4475465450803\n",
            "Best individual:\n",
            "Kappa: 2.506509473305504\n",
            "Mu: 1.043925360619356\n",
            "Omega: 1.5318850802953177\n",
            "Md: 0.2373353592471066\n",
            "\n",
            "=== Generation: 92 === \n",
            "Fitness: 1664.503802348675\n",
            "Best individual:\n",
            "Kappa: 2.5090204296088925\n",
            "Mu: 1.0382005253863993\n",
            "Omega: 1.5202879353112568\n",
            "Md: 0.24188072337881555\n",
            "\n",
            "=== Generation: 93 === \n",
            "Fitness: 1665.4842492468408\n",
            "Best individual:\n",
            "Kappa: 2.505342837135426\n",
            "Mu: 1.0406781855810028\n",
            "Omega: 1.5278352752975133\n",
            "Md: 0.23972000365406032\n",
            "\n",
            "=== Generation: 94 === \n",
            "Fitness: 1664.7475694439129\n",
            "Best individual:\n",
            "Kappa: 2.473350848363724\n",
            "Mu: 1.0399027489010007\n",
            "Omega: 1.518071139049301\n",
            "Md: 0.24028662648636437\n",
            "\n",
            "=== Generation: 95 === \n",
            "Fitness: 1665.18874558054\n",
            "Best individual:\n",
            "Kappa: 2.509555011759566\n",
            "Mu: 1.0429740479687615\n",
            "Omega: 1.5257051606843066\n",
            "Md: 0.2383136485680562\n",
            "\n",
            "=== Generation: 96 === \n",
            "Fitness: 1665.422748082964\n",
            "Best individual:\n",
            "Kappa: 2.5228373062939573\n",
            "Mu: 1.0448750646368798\n",
            "Omega: 1.532158999307264\n",
            "Md: 0.23873705740034293\n",
            "\n",
            "=== Generation: 97 === \n",
            "Fitness: 1664.846243585752\n",
            "Best individual:\n",
            "Kappa: 2.5037159287902035\n",
            "Mu: 1.0431093785001884\n",
            "Omega: 1.5388225357328011\n",
            "Md: 0.2353033791716251\n",
            "\n",
            "=== Generation: 98 === \n",
            "Fitness: 1665.1457447941746\n",
            "Best individual:\n",
            "Kappa: 2.501816664764754\n",
            "Mu: 1.0429840440165625\n",
            "Omega: 1.5332756342047917\n",
            "Md: 0.23754459229227193\n",
            "\n",
            "=== Generation: 99 === \n",
            "Fitness: 1665.5969950176282\n",
            "Best individual:\n",
            "Kappa: 2.4944711493355314\n",
            "Mu: 1.041232552760471\n",
            "Omega: 1.519562889030834\n",
            "Md: 0.2408645442045768\n",
            "\n",
            "==========\n",
            "Max number of generations exceeded!\n",
            "==========\n",
            "\n",
            "Best Fitness: 1665.7991846559937\n",
            "Best Gen: 71\n",
            "Kappa: 2.4991885843525643\n",
            "Mu: 1.0422384492191994\n",
            "Omega: 1.522295723813468\n",
            "Md: 0.2398074505687641\n"
          ]
        },
        {
          "output_type": "display_data",
          "data": {
            "text/plain": [
              "<Figure size 720x504 with 0 Axes>"
            ]
          },
          "metadata": {}
        },
        {
          "output_type": "display_data",
          "data": {
            "text/plain": [
              "<Figure size 720x504 with 0 Axes>"
            ]
          },
          "metadata": {}
        },
        {
          "output_type": "display_data",
          "data": {
            "text/plain": [
              "<Figure size 720x504 with 0 Axes>"
            ]
          },
          "metadata": {}
        },
        {
          "output_type": "display_data",
          "data": {
            "text/plain": [
              "<Figure size 720x504 with 0 Axes>"
            ]
          },
          "metadata": {}
        },
        {
          "output_type": "display_data",
          "data": {
            "text/plain": [
              "<Figure size 720x504 with 0 Axes>"
            ]
          },
          "metadata": {}
        },
        {
          "output_type": "display_data",
          "data": {
            "text/plain": [
              "<Figure size 720x504 with 0 Axes>"
            ]
          },
          "metadata": {}
        },
        {
          "output_type": "display_data",
          "data": {
            "text/plain": [
              "<Figure size 720x504 with 0 Axes>"
            ]
          },
          "metadata": {}
        },
        {
          "output_type": "display_data",
          "data": {
            "text/plain": [
              "<Figure size 720x504 with 0 Axes>"
            ]
          },
          "metadata": {}
        },
        {
          "output_type": "display_data",
          "data": {
            "text/plain": [
              "<Figure size 720x504 with 0 Axes>"
            ]
          },
          "metadata": {}
        },
        {
          "output_type": "display_data",
          "data": {
            "text/plain": [
              "<Figure size 720x504 with 0 Axes>"
            ]
          },
          "metadata": {}
        },
        {
          "output_type": "display_data",
          "data": {
            "text/plain": [
              "<Figure size 720x504 with 0 Axes>"
            ]
          },
          "metadata": {}
        },
        {
          "output_type": "display_data",
          "data": {
            "text/plain": [
              "<Figure size 720x504 with 0 Axes>"
            ]
          },
          "metadata": {}
        },
        {
          "output_type": "display_data",
          "data": {
            "text/plain": [
              "<Figure size 720x504 with 0 Axes>"
            ]
          },
          "metadata": {}
        },
        {
          "output_type": "display_data",
          "data": {
            "text/plain": [
              "<Figure size 720x504 with 0 Axes>"
            ]
          },
          "metadata": {}
        },
        {
          "output_type": "display_data",
          "data": {
            "text/plain": [
              "<Figure size 720x504 with 0 Axes>"
            ]
          },
          "metadata": {}
        },
        {
          "output_type": "display_data",
          "data": {
            "text/plain": [
              "<Figure size 720x504 with 0 Axes>"
            ]
          },
          "metadata": {}
        },
        {
          "output_type": "display_data",
          "data": {
            "text/plain": [
              "<Figure size 720x504 with 0 Axes>"
            ]
          },
          "metadata": {}
        },
        {
          "output_type": "display_data",
          "data": {
            "text/plain": [
              "<Figure size 720x504 with 0 Axes>"
            ]
          },
          "metadata": {}
        },
        {
          "output_type": "display_data",
          "data": {
            "text/plain": [
              "<Figure size 720x504 with 0 Axes>"
            ]
          },
          "metadata": {}
        },
        {
          "output_type": "display_data",
          "data": {
            "text/plain": [
              "<Figure size 720x504 with 0 Axes>"
            ]
          },
          "metadata": {}
        },
        {
          "output_type": "display_data",
          "data": {
            "text/plain": [
              "<Figure size 720x504 with 0 Axes>"
            ]
          },
          "metadata": {}
        },
        {
          "output_type": "display_data",
          "data": {
            "text/plain": [
              "<Figure size 720x504 with 0 Axes>"
            ]
          },
          "metadata": {}
        },
        {
          "output_type": "display_data",
          "data": {
            "text/plain": [
              "<Figure size 720x504 with 0 Axes>"
            ]
          },
          "metadata": {}
        },
        {
          "output_type": "display_data",
          "data": {
            "text/plain": [
              "<Figure size 720x504 with 0 Axes>"
            ]
          },
          "metadata": {}
        },
        {
          "output_type": "display_data",
          "data": {
            "text/plain": [
              "<Figure size 720x504 with 0 Axes>"
            ]
          },
          "metadata": {}
        },
        {
          "output_type": "display_data",
          "data": {
            "text/plain": [
              "<Figure size 720x504 with 0 Axes>"
            ]
          },
          "metadata": {}
        },
        {
          "output_type": "display_data",
          "data": {
            "text/plain": [
              "<Figure size 720x504 with 0 Axes>"
            ]
          },
          "metadata": {}
        },
        {
          "output_type": "display_data",
          "data": {
            "text/plain": [
              "<Figure size 720x504 with 0 Axes>"
            ]
          },
          "metadata": {}
        },
        {
          "output_type": "display_data",
          "data": {
            "text/plain": [
              "<Figure size 720x504 with 0 Axes>"
            ]
          },
          "metadata": {}
        },
        {
          "output_type": "display_data",
          "data": {
            "text/plain": [
              "<Figure size 720x504 with 0 Axes>"
            ]
          },
          "metadata": {}
        },
        {
          "output_type": "display_data",
          "data": {
            "text/plain": [
              "<Figure size 720x504 with 0 Axes>"
            ]
          },
          "metadata": {}
        },
        {
          "output_type": "display_data",
          "data": {
            "text/plain": [
              "<Figure size 720x504 with 0 Axes>"
            ]
          },
          "metadata": {}
        },
        {
          "output_type": "display_data",
          "data": {
            "text/plain": [
              "<Figure size 720x504 with 0 Axes>"
            ]
          },
          "metadata": {}
        },
        {
          "output_type": "display_data",
          "data": {
            "text/plain": [
              "<Figure size 720x504 with 0 Axes>"
            ]
          },
          "metadata": {}
        },
        {
          "output_type": "display_data",
          "data": {
            "text/plain": [
              "<Figure size 720x504 with 0 Axes>"
            ]
          },
          "metadata": {}
        },
        {
          "output_type": "display_data",
          "data": {
            "text/plain": [
              "<Figure size 720x504 with 0 Axes>"
            ]
          },
          "metadata": {}
        },
        {
          "output_type": "display_data",
          "data": {
            "text/plain": [
              "<Figure size 720x504 with 0 Axes>"
            ]
          },
          "metadata": {}
        },
        {
          "output_type": "display_data",
          "data": {
            "text/plain": [
              "<Figure size 720x504 with 0 Axes>"
            ]
          },
          "metadata": {}
        },
        {
          "output_type": "display_data",
          "data": {
            "text/plain": [
              "<Figure size 720x504 with 0 Axes>"
            ]
          },
          "metadata": {}
        },
        {
          "output_type": "display_data",
          "data": {
            "text/plain": [
              "<Figure size 720x504 with 0 Axes>"
            ]
          },
          "metadata": {}
        },
        {
          "output_type": "display_data",
          "data": {
            "text/plain": [
              "<Figure size 720x504 with 0 Axes>"
            ]
          },
          "metadata": {}
        },
        {
          "output_type": "display_data",
          "data": {
            "text/plain": [
              "<Figure size 720x504 with 0 Axes>"
            ]
          },
          "metadata": {}
        },
        {
          "output_type": "display_data",
          "data": {
            "text/plain": [
              "<Figure size 720x504 with 0 Axes>"
            ]
          },
          "metadata": {}
        },
        {
          "output_type": "display_data",
          "data": {
            "text/plain": [
              "<Figure size 720x504 with 0 Axes>"
            ]
          },
          "metadata": {}
        },
        {
          "output_type": "display_data",
          "data": {
            "text/plain": [
              "<Figure size 720x504 with 0 Axes>"
            ]
          },
          "metadata": {}
        },
        {
          "output_type": "display_data",
          "data": {
            "text/plain": [
              "<Figure size 720x504 with 0 Axes>"
            ]
          },
          "metadata": {}
        },
        {
          "output_type": "display_data",
          "data": {
            "text/plain": [
              "<Figure size 720x504 with 0 Axes>"
            ]
          },
          "metadata": {}
        },
        {
          "output_type": "display_data",
          "data": {
            "text/plain": [
              "<Figure size 720x504 with 0 Axes>"
            ]
          },
          "metadata": {}
        },
        {
          "output_type": "display_data",
          "data": {
            "text/plain": [
              "<Figure size 720x504 with 0 Axes>"
            ]
          },
          "metadata": {}
        },
        {
          "output_type": "display_data",
          "data": {
            "text/plain": [
              "<Figure size 720x504 with 0 Axes>"
            ]
          },
          "metadata": {}
        },
        {
          "output_type": "display_data",
          "data": {
            "text/plain": [
              "<Figure size 720x504 with 0 Axes>"
            ]
          },
          "metadata": {}
        },
        {
          "output_type": "display_data",
          "data": {
            "text/plain": [
              "<Figure size 720x504 with 0 Axes>"
            ]
          },
          "metadata": {}
        },
        {
          "output_type": "display_data",
          "data": {
            "text/plain": [
              "<Figure size 720x504 with 0 Axes>"
            ]
          },
          "metadata": {}
        },
        {
          "output_type": "display_data",
          "data": {
            "text/plain": [
              "<Figure size 720x504 with 0 Axes>"
            ]
          },
          "metadata": {}
        },
        {
          "output_type": "display_data",
          "data": {
            "text/plain": [
              "<Figure size 720x504 with 0 Axes>"
            ]
          },
          "metadata": {}
        },
        {
          "output_type": "display_data",
          "data": {
            "text/plain": [
              "<Figure size 720x504 with 0 Axes>"
            ]
          },
          "metadata": {}
        },
        {
          "output_type": "display_data",
          "data": {
            "text/plain": [
              "<Figure size 720x504 with 0 Axes>"
            ]
          },
          "metadata": {}
        },
        {
          "output_type": "display_data",
          "data": {
            "text/plain": [
              "<Figure size 720x504 with 0 Axes>"
            ]
          },
          "metadata": {}
        },
        {
          "output_type": "display_data",
          "data": {
            "text/plain": [
              "<Figure size 720x504 with 0 Axes>"
            ]
          },
          "metadata": {}
        },
        {
          "output_type": "display_data",
          "data": {
            "text/plain": [
              "<Figure size 720x504 with 0 Axes>"
            ]
          },
          "metadata": {}
        },
        {
          "output_type": "display_data",
          "data": {
            "text/plain": [
              "<Figure size 720x504 with 0 Axes>"
            ]
          },
          "metadata": {}
        },
        {
          "output_type": "display_data",
          "data": {
            "text/plain": [
              "<Figure size 720x504 with 0 Axes>"
            ]
          },
          "metadata": {}
        },
        {
          "output_type": "display_data",
          "data": {
            "text/plain": [
              "<Figure size 720x504 with 0 Axes>"
            ]
          },
          "metadata": {}
        },
        {
          "output_type": "display_data",
          "data": {
            "text/plain": [
              "<Figure size 720x504 with 0 Axes>"
            ]
          },
          "metadata": {}
        },
        {
          "output_type": "display_data",
          "data": {
            "text/plain": [
              "<Figure size 720x504 with 0 Axes>"
            ]
          },
          "metadata": {}
        },
        {
          "output_type": "display_data",
          "data": {
            "text/plain": [
              "<Figure size 720x504 with 0 Axes>"
            ]
          },
          "metadata": {}
        },
        {
          "output_type": "display_data",
          "data": {
            "text/plain": [
              "<Figure size 720x504 with 0 Axes>"
            ]
          },
          "metadata": {}
        },
        {
          "output_type": "display_data",
          "data": {
            "text/plain": [
              "<Figure size 720x504 with 0 Axes>"
            ]
          },
          "metadata": {}
        },
        {
          "output_type": "display_data",
          "data": {
            "text/plain": [
              "<Figure size 720x504 with 0 Axes>"
            ]
          },
          "metadata": {}
        },
        {
          "output_type": "display_data",
          "data": {
            "text/plain": [
              "<Figure size 720x504 with 0 Axes>"
            ]
          },
          "metadata": {}
        },
        {
          "output_type": "display_data",
          "data": {
            "text/plain": [
              "<Figure size 720x504 with 0 Axes>"
            ]
          },
          "metadata": {}
        },
        {
          "output_type": "display_data",
          "data": {
            "text/plain": [
              "<Figure size 720x504 with 0 Axes>"
            ]
          },
          "metadata": {}
        },
        {
          "output_type": "display_data",
          "data": {
            "text/plain": [
              "<Figure size 720x504 with 0 Axes>"
            ]
          },
          "metadata": {}
        },
        {
          "output_type": "display_data",
          "data": {
            "text/plain": [
              "<Figure size 720x504 with 0 Axes>"
            ]
          },
          "metadata": {}
        },
        {
          "output_type": "display_data",
          "data": {
            "text/plain": [
              "<Figure size 720x504 with 0 Axes>"
            ]
          },
          "metadata": {}
        },
        {
          "output_type": "display_data",
          "data": {
            "text/plain": [
              "<Figure size 720x504 with 0 Axes>"
            ]
          },
          "metadata": {}
        },
        {
          "output_type": "display_data",
          "data": {
            "text/plain": [
              "<Figure size 720x504 with 0 Axes>"
            ]
          },
          "metadata": {}
        },
        {
          "output_type": "display_data",
          "data": {
            "text/plain": [
              "<Figure size 720x504 with 0 Axes>"
            ]
          },
          "metadata": {}
        },
        {
          "output_type": "display_data",
          "data": {
            "text/plain": [
              "<Figure size 720x504 with 0 Axes>"
            ]
          },
          "metadata": {}
        },
        {
          "output_type": "display_data",
          "data": {
            "text/plain": [
              "<Figure size 720x504 with 0 Axes>"
            ]
          },
          "metadata": {}
        },
        {
          "output_type": "display_data",
          "data": {
            "text/plain": [
              "<Figure size 720x504 with 0 Axes>"
            ]
          },
          "metadata": {}
        },
        {
          "output_type": "display_data",
          "data": {
            "text/plain": [
              "<Figure size 720x504 with 0 Axes>"
            ]
          },
          "metadata": {}
        },
        {
          "output_type": "display_data",
          "data": {
            "text/plain": [
              "<Figure size 720x504 with 0 Axes>"
            ]
          },
          "metadata": {}
        },
        {
          "output_type": "display_data",
          "data": {
            "text/plain": [
              "<Figure size 720x504 with 0 Axes>"
            ]
          },
          "metadata": {}
        },
        {
          "output_type": "display_data",
          "data": {
            "text/plain": [
              "<Figure size 720x504 with 0 Axes>"
            ]
          },
          "metadata": {}
        },
        {
          "output_type": "display_data",
          "data": {
            "text/plain": [
              "<Figure size 720x504 with 0 Axes>"
            ]
          },
          "metadata": {}
        },
        {
          "output_type": "display_data",
          "data": {
            "text/plain": [
              "<Figure size 720x504 with 0 Axes>"
            ]
          },
          "metadata": {}
        },
        {
          "output_type": "display_data",
          "data": {
            "text/plain": [
              "<Figure size 720x504 with 0 Axes>"
            ]
          },
          "metadata": {}
        },
        {
          "output_type": "display_data",
          "data": {
            "text/plain": [
              "<Figure size 720x504 with 0 Axes>"
            ]
          },
          "metadata": {}
        },
        {
          "output_type": "display_data",
          "data": {
            "text/plain": [
              "<Figure size 720x504 with 0 Axes>"
            ]
          },
          "metadata": {}
        },
        {
          "output_type": "display_data",
          "data": {
            "text/plain": [
              "<Figure size 720x504 with 0 Axes>"
            ]
          },
          "metadata": {}
        },
        {
          "output_type": "display_data",
          "data": {
            "text/plain": [
              "<Figure size 720x504 with 0 Axes>"
            ]
          },
          "metadata": {}
        },
        {
          "output_type": "display_data",
          "data": {
            "text/plain": [
              "<Figure size 720x504 with 0 Axes>"
            ]
          },
          "metadata": {}
        },
        {
          "output_type": "display_data",
          "data": {
            "text/plain": [
              "<Figure size 720x504 with 0 Axes>"
            ]
          },
          "metadata": {}
        },
        {
          "output_type": "display_data",
          "data": {
            "text/plain": [
              "<Figure size 720x504 with 0 Axes>"
            ]
          },
          "metadata": {}
        },
        {
          "output_type": "display_data",
          "data": {
            "text/plain": [
              "<Figure size 720x504 with 0 Axes>"
            ]
          },
          "metadata": {}
        },
        {
          "output_type": "display_data",
          "data": {
            "text/plain": [
              "<Figure size 720x504 with 0 Axes>"
            ]
          },
          "metadata": {}
        },
        {
          "output_type": "display_data",
          "data": {
            "text/plain": [
              "<Figure size 720x504 with 0 Axes>"
            ]
          },
          "metadata": {}
        },
        {
          "output_type": "display_data",
          "data": {
            "text/plain": [
              "<Figure size 720x504 with 0 Axes>"
            ]
          },
          "metadata": {}
        },
        {
          "output_type": "display_data",
          "data": {
            "text/plain": [
              "<Figure size 720x504 with 0 Axes>"
            ]
          },
          "metadata": {}
        }
      ]
    },
    {
      "cell_type": "code",
      "source": [
        "plt.figure(figsize=((10,7)))\n",
        "plt.scatter(Xdata, Ydata, c='black')\n",
        "plt.plot(Xdata, shadowedKappaMuPDF(Xdata, kappa_hat_sku, mu_hat_sku, omega_hat_sku, md_hat_sku), label='Shadowed $\\kappa$-$\\mu$ GA (MSE)')\n",
        "plt.plot(Xdata, shadowed_k_u_pdf, label='Shadowed $\\kappa$-$\\mu$ MLE', c='red')\n",
        "plt.title(f'Shadowed $\\kappa$-$\\mu$ fit comparison')\n",
        "plt.legend()\n",
        "plt.grid(True)\n",
        "plt.xlabel(r'mV')\n",
        "plt.ylabel('pdf')\n",
        "plt.show()"
      ],
      "metadata": {
        "colab": {
          "base_uri": "https://localhost:8080/",
          "height": 460
        },
        "id": "XLFYEk9X4Kyd",
        "outputId": "2a42385f-4061-425e-959c-ade4c24c5d1b"
      },
      "execution_count": 20,
      "outputs": [
        {
          "output_type": "display_data",
          "data": {
            "text/plain": [
              "<Figure size 720x504 with 1 Axes>"
            ],
            "image/png": "[encoded data removed]"
          },
          "metadata": {
            "needs_background": "light"
          }
        }
      ]
    },
    {
      "cell_type": "code",
      "source": [
        "(kappa_hat_sku, mu_hat_sku, omega_hat_sku, md_hat_sku)"
      ],
      "metadata": {
        "colab": {
          "base_uri": "https://localhost:8080/"
        },
        "id": "RdyNg_mW8WWY",
        "outputId": "c73430d8-167c-45e1-9c78-2e7ddc80e7bb"
      },
      "execution_count": 21,
      "outputs": [
        {
          "output_type": "execute_result",
          "data": {
            "text/plain": [
              "(2.4991885843525643, 1.0422384492191994, 1.522295723813468, 0.2398074505687641)"
            ]
          },
          "metadata": {},
          "execution_count": 21
        }
      ]
    },
    {
      "cell_type": "code",
      "source": [
        "# Scores - RAD\n",
        "pVec1 = Ydata/np.sum(Ydata)\n",
        "pVec2 = shadowedKappaMuPDF(Xdata, kappa_hat_sku, mu_hat_sku, omega_hat_sku, md_hat_sku)\\\n",
        "/np.sum(shadowedKappaMuPDF(Xdata, kappa_hat_sku, mu_hat_sku, omega_hat_sku, md_hat_sku))\n",
        "KLD_1 = kldiv(pVec1, pVec2)\n",
        "KLD_2 = kldiv(pVec2, pVec1)\n",
        "rad_ga_mse_sku = RAD(KLD_1, KLD_2)\n",
        "\n",
        "## AIC Analysis\n",
        "\n",
        "n = len(data_mV)\n",
        "K = 3\n",
        "\n",
        "# AIC MLE - KAPPA MU\n",
        "sum = np.sum(np.log(computePDF(data_mV, mle_kappa_mu[0], mle_kappa_mu[1], mle_kappa_mu[2])))\n",
        "AIC_mle_kappa_mu = -2*sum + 2*K + (2*K*(K+1))/(n-K-1)\n",
        "\n",
        "# AIC MLE - SHADOWED KAPPA MU\n",
        "sum = np.sum(np.log(shadowedKappaMuPDF(data_mV, mle_shadowed_kappa_mu[0], mle_shadowed_kappa_mu[1], mle_shadowed_kappa_mu[2], mle_shadowed_kappa_mu[3])))\n",
        "AIC_mle_shadowed_kappa_mu = -2*sum + 2*K + (2*K*(K+1))/(n-K-1)\n",
        "\n",
        "# AIC MLE - GA SHADOWED KAPPA MU\n",
        "sum = np.sum(np.log(shadowedKappaMuPDF(data_mV, kappa_hat_sku, mu_hat_sku, omega_hat_sku, md_hat_sku)))\n",
        "AIC_ga_shadowed_kappa_mu = -2*sum + 2*K + (2*K*(K+1))/(n-K-1)\n",
        "\n",
        "# AIC GENETIC ALGORITHM - FITNESS: MSE\n",
        "sum = np.sum(np.log(computePDF(data_mV, kappa_hat, mu_hat, omega_hat)))\n",
        "AIC_ga_mse = -2*sum + 2*K + (2*K*(K+1))/(n-K-1)\n",
        "  \n",
        "# AIC GENETIC ALGORITHM - FITNESS: RAD\n",
        "sum = np.sum(np.log(computePDF(data_mV, kappa_hat_rad, mu_hat_rad, omega_hat_rad)))\n",
        "AIC_ga_rad = -2*sum + 2*K + (2*K*(K+1))/(n-K-1)\n",
        "\n",
        "rads = {'Methods':['Genetic Algorithm - KappaMu (MSE)', 'Genetic Algorithm - KappaMu (RAD)',\\\n",
        "                   'Maximum Likelihood Estimator - KappaMu', 'Maximum Likelihood Estimator - Shadowed KappaMu',\\\n",
        "                   'Genetic Algorithm - Shadowed KappaMu (MSE)'],\n",
        "\t\t'Resistor Average Distance':[rad_mse, rad_rad, rad_mle_kappa_mu, rad_mle_shadowed_kappa_mu, rad_ga_mse_sku],\n",
        "    'Akaike Information Criteria':[AIC_ga_mse[0], AIC_ga_rad[0], AIC_mle_kappa_mu[0], AIC_mle_shadowed_kappa_mu[0], AIC_ga_shadowed_kappa_mu[0]]}\n",
        "\n",
        "# Create DataFrame\n",
        "df = pd.DataFrame(rads)\n",
        "display(df.sort_values(by='Akaike Information Criteria').reset_index(drop=True))"
      ],
      "metadata": {
        "colab": {
          "base_uri": "https://localhost:8080/",
          "height": 206
        },
        "id": "LZtT4l1k4uDL",
        "outputId": "60c27fc7-64be-4222-835b-800ae8426e75"
      },
      "execution_count": 22,
      "outputs": [
        {
          "output_type": "display_data",
          "data": {
            "text/plain": [
              "                                           Methods  Resistor Average Distance  \\\n",
              "0  Maximum Likelihood Estimator - Shadowed KappaMu                   0.009950   \n",
              "1       Genetic Algorithm - Shadowed KappaMu (MSE)                   0.009988   \n",
              "2                Genetic Algorithm - KappaMu (RAD)                   0.046084   \n",
              "3           Maximum Likelihood Estimator - KappaMu                   0.069296   \n",
              "4                Genetic Algorithm - KappaMu (MSE)                   0.069462   \n",
              "\n",
              "   Akaike Information Criteria  \n",
              "0                313225.159357  \n",
              "1                313249.069608  \n",
              "2                339771.834761  \n",
              "3                380914.753628  \n",
              "4                381191.932148  "
            ],
            "text/html": [
              "\n",
              "  <div id=\"df-eb96b117-e60c-45ee-ac45-1057805f4dcd\">\n",
              "    <div class=\"colab-df-container\">\n",
              "      <div>\n",
              "<style scoped>\n",
              "    .dataframe tbody tr th:only-of-type {\n",
              "        vertical-align: middle;\n",
              "    }\n",
              "\n",
              "    .dataframe tbody tr th {\n",
              "        vertical-align: top;\n",
              "    }\n",
              "\n",
              "    .dataframe thead th {\n",
              "        text-align: right;\n",
              "    }\n",
              "</style>\n",
              "<table border=\"1\" class=\"dataframe\">\n",
              "  <thead>\n",
              "    <tr style=\"text-align: right;\">\n",
              "      <th></th>\n",
              "      <th>Methods</th>\n",
              "      <th>Resistor Average Distance</th>\n",
              "      <th>Akaike Information Criteria</th>\n",
              "    </tr>\n",
              "  </thead>\n",
              "  <tbody>\n",
              "    <tr>\n",
              "      <th>0</th>\n",
              "      <td>Maximum Likelihood Estimator - Shadowed KappaMu</td>\n",
              "      <td>0.009950</td>\n",
              "      <td>313225.159357</td>\n",
              "    </tr>\n",
              "    <tr>\n",
              "      <th>1</th>\n",
              "      <td>Genetic Algorithm - Shadowed KappaMu (MSE)</td>\n",
              "      <td>0.009988</td>\n",
              "      <td>313249.069608</td>\n",
              "    </tr>\n",
              "    <tr>\n",
              "      <th>2</th>\n",
              "      <td>Genetic Algorithm - KappaMu (RAD)</td>\n",
              "      <td>0.046084</td>\n",
              "      <td>339771.834761</td>\n",
              "    </tr>\n",
              "    <tr>\n",
              "      <th>3</th>\n",
              "      <td>Maximum Likelihood Estimator - KappaMu</td>\n",
              "      <td>0.069296</td>\n",
              "      <td>380914.753628</td>\n",
              "    </tr>\n",
              "    <tr>\n",
              "      <th>4</th>\n",
              "      <td>Genetic Algorithm - KappaMu (MSE)</td>\n",
              "      <td>0.069462</td>\n",
              "      <td>381191.932148</td>\n",
              "    </tr>\n",
              "  </tbody>\n",
              "</table>\n",
              "</div>\n",
              "      <button class=\"colab-df-convert\" onclick=\"convertToInteractive('df-eb96b117-e60c-45ee-ac45-1057805f4dcd')\"\n",
              "              title=\"Convert this dataframe to an interactive table.\"\n",
              "              style=\"display:none;\">\n",
              "        \n",
              "  <svg xmlns=\"http://www.w3.org/2000/svg\" height=\"24px\"viewBox=\"0 0 24 24\"\n",
              "       width=\"24px\">\n",
              "    <path d=\"M0 0h24v24H0V0z\" fill=\"none\"/>\n",
              "    <path d=\"M18.56 5.44l.94 2.06.94-2.06 2.06-.94-2.06-.94-.94-2.06-.94 2.06-2.06.94zm-11 1L8.5 8.5l.94-2.06 2.06-.94-2.06-.94L8.5 2.5l-.94 2.06-2.06.94zm10 10l.94 2.06.94-2.06 2.06-.94-2.06-.94-.94-2.06-.94 2.06-2.06.94z\"/><path d=\"M17.41 7.96l-1.37-1.37c-.4-.4-.92-.59-1.43-.59-.52 0-1.04.2-1.43.59L10.3 9.45l-7.72 7.72c-.78.78-.78 2.05 0 2.83L4 21.41c.39.39.9.59 1.41.59.51 0 1.02-.2 1.41-.59l7.78-7.78 2.81-2.81c.8-.78.8-2.07 0-2.86zM5.41 20L4 18.59l7.72-7.72 1.47 1.35L5.41 20z\"/>\n",
              "  </svg>\n",
              "      </button>\n",
              "      \n",
              "  <style>\n",
              "    .colab-df-container {\n",
              "      display:flex;\n",
              "      flex-wrap:wrap;\n",
              "      gap: 12px;\n",
              "    }\n",
              "\n",
              "    .colab-df-convert {\n",
              "      background-color: #E8F0FE;\n",
              "      border: none;\n",
              "      border-radius: 50%;\n",
              "      cursor: pointer;\n",
              "      display: none;\n",
              "      fill: #1967D2;\n",
              "      height: 32px;\n",
              "      padding: 0 0 0 0;\n",
              "      width: 32px;\n",
              "    }\n",
              "\n",
              "    .colab-df-convert:hover {\n",
              "      background-color: #E2EBFA;\n",
              "      box-shadow: 0px 1px 2px rgba(60, 64, 67, 0.3), 0px 1px 3px 1px rgba(60, 64, 67, 0.15);\n",
              "      fill: #174EA6;\n",
              "    }\n",
              "\n",
              "    [theme=dark] .colab-df-convert {\n",
              "      background-color: #3B4455;\n",
              "      fill: #D2E3FC;\n",
              "    }\n",
              "\n",
              "    [theme=dark] .colab-df-convert:hover {\n",
              "      background-color: #434B5C;\n",
              "      box-shadow: 0px 1px 3px 1px rgba(0, 0, 0, 0.15);\n",
              "      filter: drop-shadow(0px 1px 2px rgba(0, 0, 0, 0.3));\n",
              "      fill: #FFFFFF;\n",
              "    }\n",
              "  </style>\n",
              "\n",
              "      <script>\n",
              "        const buttonEl =\n",
              "          document.querySelector('#df-eb96b117-e60c-45ee-ac45-1057805f4dcd button.colab-df-convert');\n",
              "        buttonEl.style.display =\n",
              "          google.colab.kernel.accessAllowed ? 'block' : 'none';\n",
              "\n",
              "        async function convertToInteractive(key) {\n",
              "          const element = document.querySelector('#df-eb96b117-e60c-45ee-ac45-1057805f4dcd');\n",
              "          const dataTable =\n",
              "            await google.colab.kernel.invokeFunction('convertToInteractive',\n",
              "                                                     [key], {});\n",
              "          if (!dataTable) return;\n",
              "\n",
              "          const docLinkHtml = 'Like what you see? Visit the ' +\n",
              "            '<a target=\"_blank\" href=https://colab.research.google.com/notebooks/data_table.ipynb>data table notebook</a>'\n",
              "            + ' to learn more about interactive tables.';\n",
              "          element.innerHTML = '';\n",
              "          dataTable['output_type'] = 'display_data';\n",
              "          await google.colab.output.renderOutput(dataTable, element);\n",
              "          const docLink = document.createElement('div');\n",
              "          docLink.innerHTML = docLinkHtml;\n",
              "          element.appendChild(docLink);\n",
              "        }\n",
              "      </script>\n",
              "    </div>\n",
              "  </div>\n",
              "  "
            ]
          },
          "metadata": {}
        }
      ]
    },
    {
      "cell_type": "markdown",
      "source": [
        "### GA: Shadowed $\\kappa-\\mu$ (RAD) fit"
      ],
      "metadata": {
        "id": "4d04pEGoVUjp"
      }
    },
    {
      "cell_type": "code",
      "source": [
        "fitnessType = 'RAD'\n",
        "# X, Y = getDensityEstimationSamples(pathAB_linear[nAP].dropna(), nExtractedSamples)\n",
        "kappa_hat_sku_rad, mu_hat_sku_rad, omega_hat_sku_rad, md_hat_sku_rad = geneticAlgorithm_sku(Xdata,Ydata, mle_shadowed_kappa_mu)"
      ],
      "metadata": {
        "colab": {
          "base_uri": "https://localhost:8080/",
          "height": 1000
        },
        "id": "wk0Ox-gJ63Zj",
        "outputId": "11ad7c41-87f2-49dc-88bd-37380e37a3ce"
      },
      "execution_count": 23,
      "outputs": [
        {
          "output_type": "stream",
          "name": "stderr",
          "text": [
            "/usr/local/lib/python3.7/dist-packages/ipykernel_launcher.py:12: RuntimeWarning: invalid value encountered in multiply\n",
            "  if sys.path[0] == '':\n",
            "/usr/local/lib/python3.7/dist-packages/ipykernel_launcher.py:30: RuntimeWarning: invalid value encountered in true_divide\n",
            "/usr/local/lib/python3.7/dist-packages/ipykernel_launcher.py:32: RuntimeWarning: divide by zero encountered in log2\n",
            "/usr/local/lib/python3.7/dist-packages/ipykernel_launcher.py:32: RuntimeWarning: invalid value encountered in multiply\n",
            "/usr/local/lib/python3.7/dist-packages/ipykernel_launcher.py:12: RuntimeWarning: invalid value encountered in multiply\n",
            "  if sys.path[0] == '':\n"
          ]
        },
        {
          "output_type": "stream",
          "name": "stdout",
          "text": [
            "=== Generation: 0 === \n",
            "Fitness: nan\n",
            "Best individual:\n",
            "Kappa: 7.093941657418481\n",
            "Mu: 0.8967538060073209\n",
            "Omega: 0.15700193927380177\n",
            "Md: 0.7555196586829269\n",
            "\n"
          ]
        },
        {
          "output_type": "stream",
          "name": "stderr",
          "text": [
            "/usr/local/lib/python3.7/dist-packages/ipykernel_launcher.py:32: RuntimeWarning: divide by zero encountered in log2\n",
            "/usr/local/lib/python3.7/dist-packages/ipykernel_launcher.py:32: RuntimeWarning: invalid value encountered in multiply\n"
          ]
        },
        {
          "output_type": "stream",
          "name": "stdout",
          "text": [
            "=== Generation: 1 === \n",
            "Fitness: nan\n",
            "Best individual:\n",
            "Kappa: 7.474452851123421\n",
            "Mu: 0.9708050750603137\n",
            "Omega: 0.24992358327268024\n",
            "Md: 0.2024538917024093\n",
            "\n"
          ]
        },
        {
          "output_type": "stream",
          "name": "stderr",
          "text": [
            "/usr/local/lib/python3.7/dist-packages/ipykernel_launcher.py:12: RuntimeWarning: invalid value encountered in multiply\n",
            "  if sys.path[0] == '':\n",
            "/usr/local/lib/python3.7/dist-packages/ipykernel_launcher.py:32: RuntimeWarning: divide by zero encountered in log2\n",
            "/usr/local/lib/python3.7/dist-packages/ipykernel_launcher.py:32: RuntimeWarning: invalid value encountered in multiply\n"
          ]
        },
        {
          "output_type": "stream",
          "name": "stdout",
          "text": [
            "=== Generation: 2 === \n",
            "Fitness: 21.945926892938473\n",
            "Best individual:\n",
            "Kappa: 2.6909578808623036\n",
            "Mu: 0.8226128597461316\n",
            "Omega: 1.0020401677027024\n",
            "Md: 0.37780197749311784\n",
            "\n"
          ]
        },
        {
          "output_type": "stream",
          "name": "stderr",
          "text": [
            "/usr/local/lib/python3.7/dist-packages/ipykernel_launcher.py:12: RuntimeWarning: invalid value encountered in multiply\n",
            "  if sys.path[0] == '':\n",
            "/usr/local/lib/python3.7/dist-packages/ipykernel_launcher.py:32: RuntimeWarning: divide by zero encountered in log2\n",
            "/usr/local/lib/python3.7/dist-packages/ipykernel_launcher.py:32: RuntimeWarning: invalid value encountered in multiply\n"
          ]
        },
        {
          "output_type": "stream",
          "name": "stdout",
          "text": [
            "=== Generation: 3 === \n",
            "Fitness: 23.513205572424717\n",
            "Best individual:\n",
            "Kappa: 2.5229451678725017\n",
            "Mu: 0.9369469186312915\n",
            "Omega: 0.9970721764862471\n",
            "Md: 0.2655440468864985\n",
            "\n"
          ]
        },
        {
          "output_type": "stream",
          "name": "stderr",
          "text": [
            "/usr/local/lib/python3.7/dist-packages/ipykernel_launcher.py:12: RuntimeWarning: invalid value encountered in multiply\n",
            "  if sys.path[0] == '':\n",
            "/usr/local/lib/python3.7/dist-packages/ipykernel_launcher.py:32: RuntimeWarning: divide by zero encountered in log2\n",
            "/usr/local/lib/python3.7/dist-packages/ipykernel_launcher.py:32: RuntimeWarning: invalid value encountered in multiply\n"
          ]
        },
        {
          "output_type": "stream",
          "name": "stdout",
          "text": [
            "=== Generation: 4 === \n",
            "Fitness: nan\n",
            "Best individual:\n",
            "Kappa: 7.6353913328472895\n",
            "Mu: 0.8430880725519887\n",
            "Omega: 0.1302711289238969\n",
            "Md: 0.5152421798329109\n",
            "\n"
          ]
        },
        {
          "output_type": "stream",
          "name": "stderr",
          "text": [
            "/usr/local/lib/python3.7/dist-packages/ipykernel_launcher.py:12: RuntimeWarning: invalid value encountered in multiply\n",
            "  if sys.path[0] == '':\n",
            "/usr/local/lib/python3.7/dist-packages/ipykernel_launcher.py:32: RuntimeWarning: divide by zero encountered in log2\n",
            "/usr/local/lib/python3.7/dist-packages/ipykernel_launcher.py:32: RuntimeWarning: invalid value encountered in multiply\n"
          ]
        },
        {
          "output_type": "stream",
          "name": "stdout",
          "text": [
            "=== Generation: 5 === \n",
            "Fitness: nan\n",
            "Best individual:\n",
            "Kappa: 4.9009891101481875\n",
            "Mu: 0.7115424110877115\n",
            "Omega: 0.13243098864223884\n",
            "Md: 0.3844858130369855\n",
            "\n"
          ]
        },
        {
          "output_type": "stream",
          "name": "stderr",
          "text": [
            "/usr/local/lib/python3.7/dist-packages/ipykernel_launcher.py:12: RuntimeWarning: invalid value encountered in multiply\n",
            "  if sys.path[0] == '':\n",
            "/usr/local/lib/python3.7/dist-packages/ipykernel_launcher.py:32: RuntimeWarning: divide by zero encountered in log2\n",
            "/usr/local/lib/python3.7/dist-packages/ipykernel_launcher.py:32: RuntimeWarning: invalid value encountered in multiply\n"
          ]
        },
        {
          "output_type": "stream",
          "name": "stdout",
          "text": [
            "=== Generation: 6 === \n",
            "Fitness: 16.72883420390416\n",
            "Best individual:\n",
            "Kappa: 2.2729955768219283\n",
            "Mu: 0.8948798177250896\n",
            "Omega: 0.9268994388532684\n",
            "Md: 0.5127004686232278\n",
            "\n"
          ]
        },
        {
          "output_type": "stream",
          "name": "stderr",
          "text": [
            "/usr/local/lib/python3.7/dist-packages/ipykernel_launcher.py:12: RuntimeWarning: invalid value encountered in multiply\n",
            "  if sys.path[0] == '':\n",
            "/usr/local/lib/python3.7/dist-packages/ipykernel_launcher.py:32: RuntimeWarning: divide by zero encountered in log2\n",
            "/usr/local/lib/python3.7/dist-packages/ipykernel_launcher.py:32: RuntimeWarning: invalid value encountered in multiply\n"
          ]
        },
        {
          "output_type": "stream",
          "name": "stdout",
          "text": [
            "=== Generation: 7 === \n",
            "Fitness: nan\n",
            "Best individual:\n",
            "Kappa: 4.506839260648496\n",
            "Mu: 0.8260483221881476\n",
            "Omega: 0.1337012838209477\n",
            "Md: 0.32179911262804045\n",
            "\n"
          ]
        },
        {
          "output_type": "stream",
          "name": "stderr",
          "text": [
            "/usr/local/lib/python3.7/dist-packages/ipykernel_launcher.py:12: RuntimeWarning: invalid value encountered in multiply\n",
            "  if sys.path[0] == '':\n",
            "/usr/local/lib/python3.7/dist-packages/ipykernel_launcher.py:32: RuntimeWarning: divide by zero encountered in log2\n",
            "/usr/local/lib/python3.7/dist-packages/ipykernel_launcher.py:32: RuntimeWarning: invalid value encountered in multiply\n"
          ]
        },
        {
          "output_type": "stream",
          "name": "stdout",
          "text": [
            "=== Generation: 8 === \n",
            "Fitness: 20.33955188477473\n",
            "Best individual:\n",
            "Kappa: 2.6362881498879736\n",
            "Mu: 0.8059319072610546\n",
            "Omega: 0.9884498166995256\n",
            "Md: 0.31401530606125555\n",
            "\n",
            "=== Generation: 9 === \n",
            "Fitness: 28.418803738795575\n",
            "Best individual:\n",
            "Kappa: 2.675975130515188\n",
            "Mu: 0.9781899629725282\n",
            "Omega: 1.0470917488414846\n",
            "Md: 0.3768962627145441\n",
            "\n",
            "=== Generation: 10 === \n",
            "Fitness: 30.91609384423188\n",
            "Best individual:\n",
            "Kappa: 2.661426108674991\n",
            "Mu: 0.9728122277587754\n",
            "Omega: 1.0626300072003074\n",
            "Md: 0.3280790482630179\n",
            "\n",
            "=== Generation: 11 === \n",
            "Fitness: 33.991476831601176\n",
            "Best individual:\n",
            "Kappa: 2.394588077300159\n",
            "Mu: 1.0237288919543572\n",
            "Omega: 1.0767275985013338\n",
            "Md: 0.2961896334601196\n",
            "\n",
            "=== Generation: 12 === \n",
            "Fitness: 38.42346218815289\n",
            "Best individual:\n",
            "Kappa: 2.389847500914974\n",
            "Mu: 0.9893978312378773\n",
            "Omega: 1.1130216794094625\n",
            "Md: 0.26843901488615013\n",
            "\n",
            "=== Generation: 13 === \n",
            "Fitness: 42.90142097511588\n",
            "Best individual:\n",
            "Kappa: 1.863158371169784\n",
            "Mu: 0.9815756958734642\n",
            "Omega: 1.1394291169435213\n",
            "Md: 0.2890197461216551\n",
            "\n",
            "=== Generation: 14 === \n",
            "Fitness: 46.70601987587075\n",
            "Best individual:\n",
            "Kappa: 1.86392595466109\n",
            "Mu: 0.9506775493600462\n",
            "Omega: 1.154385546108194\n",
            "Md: 0.26876418950119585\n",
            "\n",
            "=== Generation: 15 === \n",
            "Fitness: 51.208652969802074\n",
            "Best individual:\n",
            "Kappa: 2.3085442181383975\n",
            "Mu: 1.0290311691325327\n",
            "Omega: 1.1888048502191912\n",
            "Md: 0.2660312162590388\n",
            "\n",
            "=== Generation: 16 === \n",
            "Fitness: 56.05615399870728\n",
            "Best individual:\n",
            "Kappa: 1.803799728946157\n",
            "Mu: 0.9843214001918272\n",
            "Omega: 1.2110712184931687\n",
            "Md: 0.25952780375376916\n",
            "\n",
            "=== Generation: 17 === \n",
            "Fitness: 62.44517696277861\n",
            "Best individual:\n",
            "Kappa: 1.8674002412133492\n",
            "Mu: 0.9804669027687236\n",
            "Omega: 1.2434454900021885\n",
            "Md: 0.2564390766099139\n",
            "\n",
            "=== Generation: 18 === \n",
            "Fitness: 68.12404399921614\n",
            "Best individual:\n",
            "Kappa: 1.963873016122456\n",
            "Mu: 0.9234396391087139\n",
            "Omega: 1.2702241107895558\n",
            "Md: 0.25003197667800314\n",
            "\n",
            "=== Generation: 19 === \n",
            "Fitness: 74.0677489306944\n",
            "Best individual:\n",
            "Kappa: 2.2044622812947283\n",
            "Mu: 0.9903525916276046\n",
            "Omega: 1.297366904942978\n",
            "Md: 0.2479896402226871\n",
            "\n",
            "=== Generation: 20 === \n",
            "Fitness: 79.32240978929786\n",
            "Best individual:\n",
            "Kappa: 2.30210476563641\n",
            "Mu: 0.9846161716372656\n",
            "Omega: 1.3295884827589821\n",
            "Md: 0.25677691168905037\n",
            "\n",
            "=== Generation: 21 === \n",
            "Fitness: 87.91004439004544\n",
            "Best individual:\n",
            "Kappa: 2.1136250215478998\n",
            "Mu: 0.9571589642264852\n",
            "Omega: 1.3573570483496145\n",
            "Md: 0.23776665606258418\n",
            "\n",
            "=== Generation: 22 === \n",
            "Fitness: 91.91816970239437\n",
            "Best individual:\n",
            "Kappa: 2.3730063694549006\n",
            "Mu: 0.9852052556997825\n",
            "Omega: 1.3900040090438444\n",
            "Md: 0.23935307918782878\n",
            "\n",
            "=== Generation: 23 === \n",
            "Fitness: 97.98827525159415\n",
            "Best individual:\n",
            "Kappa: 2.2681159620091775\n",
            "Mu: 0.9807763796745077\n",
            "Omega: 1.4147495629874105\n",
            "Md: 0.23444858943344632\n",
            "\n",
            "=== Generation: 24 === \n",
            "Fitness: 104.08542091889079\n",
            "Best individual:\n",
            "Kappa: 2.285796004728863\n",
            "Mu: 0.9846530647794361\n",
            "Omega: 1.451795247258449\n",
            "Md: 0.22795610752791445\n",
            "\n",
            "=== Generation: 25 === \n",
            "Fitness: 108.98207016750416\n",
            "Best individual:\n",
            "Kappa: 2.1895716250889072\n",
            "Mu: 0.9464187603742367\n",
            "Omega: 1.4786131540170768\n",
            "Md: 0.2237871266684979\n",
            "\n",
            "=== Generation: 26 === \n",
            "Fitness: 112.14092327683423\n",
            "Best individual:\n",
            "Kappa: 2.1295289360178526\n",
            "Mu: 0.948811727594756\n",
            "Omega: 1.5034649766870978\n",
            "Md: 0.21836009864037273\n",
            "\n",
            "=== Generation: 27 === \n",
            "Fitness: 114.79280024834364\n",
            "Best individual:\n",
            "Kappa: 2.2247420787770134\n",
            "Mu: 0.9450050025762992\n",
            "Omega: 1.5412514993692148\n",
            "Md: 0.21504507583825266\n",
            "\n",
            "=== Generation: 28 === \n",
            "Fitness: 115.79233102281485\n",
            "Best individual:\n",
            "Kappa: 2.2384448360564564\n",
            "Mu: 0.9423037457900811\n",
            "Omega: 1.5514496218305183\n",
            "Md: 0.21063575122843126\n",
            "\n",
            "=== Generation: 29 === \n",
            "Fitness: 116.80292451051535\n",
            "Best individual:\n",
            "Kappa: 2.1194272288997835\n",
            "Mu: 0.9292225960207208\n",
            "Omega: 1.5675939675226411\n",
            "Md: 0.20583387794076208\n",
            "\n",
            "=== Generation: 30 === \n",
            "Fitness: 117.91430861495759\n",
            "Best individual:\n",
            "Kappa: 2.170685509639263\n",
            "Mu: 0.934554465774434\n",
            "Omega: 1.5830790822395566\n",
            "Md: 0.2007299152156553\n",
            "\n",
            "=== Generation: 31 === \n",
            "Fitness: 118.371202099898\n",
            "Best individual:\n",
            "Kappa: 2.1479078766898705\n",
            "Mu: 0.9401307719324787\n",
            "Omega: 1.5707408503680944\n",
            "Md: 0.19905248976774667\n",
            "\n",
            "=== Generation: 32 === \n",
            "Fitness: 119.1428496333557\n",
            "Best individual:\n",
            "Kappa: 2.1081430085360693\n",
            "Mu: 0.9433808989633532\n",
            "Omega: 1.565458501829517\n",
            "Md: 0.19227439475169553\n",
            "\n",
            "=== Generation: 33 === \n",
            "Fitness: 119.58618617833544\n",
            "Best individual:\n",
            "Kappa: 2.0682490067079224\n",
            "Mu: 0.9462924099539779\n",
            "Omega: 1.5688095578651484\n",
            "Md: 0.18915494932797258\n",
            "\n",
            "=== Generation: 34 === \n",
            "Fitness: 120.16096571834899\n",
            "Best individual:\n",
            "Kappa: 2.022552702704723\n",
            "Mu: 0.9258275728752814\n",
            "Omega: 1.5941527938060942\n",
            "Md: 0.1858027868989095\n",
            "\n",
            "=== Generation: 35 === \n",
            "Fitness: 120.41494525705005\n",
            "Best individual:\n",
            "Kappa: 1.997864518470931\n",
            "Mu: 0.9195830101242529\n",
            "Omega: 1.5947647231278321\n",
            "Md: 0.1818411932327973\n",
            "\n",
            "=== Generation: 36 === \n",
            "Fitness: 120.55246446851915\n",
            "Best individual:\n",
            "Kappa: 2.0042251274657863\n",
            "Mu: 0.9266622506343691\n",
            "Omega: 1.5937375873663222\n",
            "Md: 0.18254636111745698\n",
            "\n",
            "=== Generation: 37 === \n",
            "Fitness: 120.91036106754753\n",
            "Best individual:\n",
            "Kappa: 1.934863471663862\n",
            "Mu: 0.9240432296383589\n",
            "Omega: 1.5829335330153924\n",
            "Md: 0.17985572426606503\n",
            "\n",
            "=== Generation: 38 === \n",
            "Fitness: 121.0071519196274\n",
            "Best individual:\n",
            "Kappa: 1.9648682664885326\n",
            "Mu: 0.9275532003591822\n",
            "Omega: 1.5954181903815914\n",
            "Md: 0.1750499519611257\n",
            "\n",
            "=== Generation: 39 === \n",
            "Fitness: 121.1468299676572\n",
            "Best individual:\n",
            "Kappa: 1.935268686502646\n",
            "Mu: 0.9222617222872777\n",
            "Omega: 1.5973812034603179\n",
            "Md: 0.17301938010702225\n",
            "\n",
            "=== Generation: 40 === \n",
            "Fitness: 121.27032251764375\n",
            "Best individual:\n",
            "Kappa: 1.902082885413665\n",
            "Mu: 0.9245945414424604\n",
            "Omega: 1.583861899155807\n",
            "Md: 0.17418226855913027\n",
            "\n",
            "=== Generation: 41 === \n",
            "Fitness: 121.32969852572712\n",
            "Best individual:\n",
            "Kappa: 1.887047070965161\n",
            "Mu: 0.9246024407233432\n",
            "Omega: 1.5834353298675967\n",
            "Md: 0.17207534446079903\n",
            "\n",
            "=== Generation: 42 === \n",
            "Fitness: 121.33188680073089\n",
            "Best individual:\n",
            "Kappa: 1.8691208250881277\n",
            "Mu: 0.9258139569780863\n",
            "Omega: 1.5852626568249426\n",
            "Md: 0.17116859888195216\n",
            "\n",
            "=== Generation: 43 === \n",
            "Fitness: 121.39392359105513\n",
            "Best individual:\n",
            "Kappa: 1.868699969245468\n",
            "Mu: 0.9180656166785596\n",
            "Omega: 1.5933266699425515\n",
            "Md: 0.16929498515878816\n",
            "\n",
            "=== Generation: 44 === \n",
            "Fitness: 121.41103393380465\n",
            "Best individual:\n",
            "Kappa: 1.8425814303322423\n",
            "Mu: 0.9222309164657382\n",
            "Omega: 1.5865487004422287\n",
            "Md: 0.16752451383754108\n",
            "\n",
            "=== Generation: 45 === \n",
            "Fitness: 121.42702571988062\n",
            "Best individual:\n",
            "Kappa: 1.8396413173097752\n",
            "Mu: 0.9170639281473693\n",
            "Omega: 1.5867444942916125\n",
            "Md: 0.16772085904904524\n",
            "\n",
            "=== Generation: 46 === \n",
            "Fitness: 121.42158307461068\n",
            "Best individual:\n",
            "Kappa: 1.8603895659058016\n",
            "Mu: 0.9191075611311227\n",
            "Omega: 1.590448619147642\n",
            "Md: 0.16902022512945958\n",
            "\n",
            "=== Generation: 47 === \n",
            "Fitness: 121.43464622353449\n",
            "Best individual:\n",
            "Kappa: 1.841713090365488\n",
            "Mu: 0.9193607819625064\n",
            "Omega: 1.5868315593913038\n",
            "Md: 0.16831414577849413\n",
            "\n",
            "=== Generation: 48 === \n",
            "Fitness: 121.41143912420661\n",
            "Best individual:\n",
            "Kappa: 1.8651089421613303\n",
            "Mu: 0.9212496588070894\n",
            "Omega: 1.5905956313810141\n",
            "Md: 0.16971728120881943\n",
            "\n",
            "=== Generation: 49 === \n",
            "Fitness: 121.42516028931412\n",
            "Best individual:\n",
            "Kappa: 1.8469978386208805\n",
            "Mu: 0.9182830530913307\n",
            "Omega: 1.5889179433066898\n",
            "Md: 0.16902905753979505\n",
            "\n",
            "=== Generation: 50 === \n",
            "Fitness: 121.43383711450892\n",
            "Best individual:\n",
            "Kappa: 1.8145536461282186\n",
            "Mu: 0.9174744934955151\n",
            "Omega: 1.5896514822071102\n",
            "Md: 0.1656899449870213\n",
            "\n",
            "=== Generation: 51 === \n",
            "Fitness: 121.43177488368725\n",
            "Best individual:\n",
            "Kappa: 1.824985660407708\n",
            "Mu: 0.9188750659838768\n",
            "Omega: 1.5875464577812723\n",
            "Md: 0.16716068263877956\n",
            "\n",
            "=== Generation: 52 === \n",
            "Fitness: 121.43098410609667\n",
            "Best individual:\n",
            "Kappa: 1.848129497495232\n",
            "Mu: 0.9198926219196297\n",
            "Omega: 1.5926442987601355\n",
            "Md: 0.16797605992218\n",
            "\n",
            "=== Generation: 53 === \n",
            "Fitness: 121.40303108012111\n",
            "Best individual:\n",
            "Kappa: 1.8295603591526453\n",
            "Mu: 0.9145882979864597\n",
            "Omega: 1.5903206003858241\n",
            "Md: 0.16791402407043285\n",
            "\n",
            "=== Generation: 54 === \n",
            "Fitness: 121.4258984005128\n",
            "Best individual:\n",
            "Kappa: 1.83122028115054\n",
            "Mu: 0.9153281013658213\n",
            "Omega: 1.5937932930249006\n",
            "Md: 0.16580692368480543\n",
            "\n",
            "=== Generation: 55 === \n",
            "Fitness: 121.4280088454207\n",
            "Best individual:\n",
            "Kappa: 1.8120829189351562\n",
            "Mu: 0.9148920305164807\n",
            "Omega: 1.5907011041671408\n",
            "Md: 0.16559585009419395\n",
            "\n",
            "=== Generation: 56 === \n",
            "Fitness: 121.44141055855513\n",
            "Best individual:\n",
            "Kappa: 1.829931864450964\n",
            "Mu: 0.917981006167915\n",
            "Omega: 1.5907215901217786\n",
            "Md: 0.1669463676117296\n",
            "\n",
            "=== Generation: 57 === \n",
            "Fitness: 121.41955681420123\n",
            "Best individual:\n",
            "Kappa: 1.8255687578237967\n",
            "Mu: 0.9182514027543688\n",
            "Omega: 1.5857990097198034\n",
            "Md: 0.16799364245728418\n",
            "\n",
            "=== Generation: 58 === \n",
            "Fitness: 121.41793730346942\n",
            "Best individual:\n",
            "Kappa: 1.817705663605388\n",
            "Mu: 0.9197198384090511\n",
            "Omega: 1.5873105778755254\n",
            "Md: 0.1655496792376207\n",
            "\n",
            "=== Generation: 59 === \n",
            "Fitness: 121.42952967696819\n",
            "Best individual:\n",
            "Kappa: 1.8246560445253617\n",
            "Mu: 0.9167848068669805\n",
            "Omega: 1.5921259104328196\n",
            "Md: 0.16680737775254847\n",
            "\n",
            "=== Generation: 60 === \n",
            "Fitness: 121.42535569661646\n",
            "Best individual:\n",
            "Kappa: 1.8543326039319203\n",
            "Mu: 0.9205556594982253\n",
            "Omega: 1.589176005314989\n",
            "Md: 0.16791366318044726\n",
            "\n",
            "=== Generation: 61 === \n",
            "Fitness: 121.43621969236413\n",
            "Best individual:\n",
            "Kappa: 1.8213444558130638\n",
            "Mu: 0.9162007881827785\n",
            "Omega: 1.5931237008498835\n",
            "Md: 0.16528928975405097\n",
            "\n",
            "=== Generation: 62 === \n",
            "Fitness: 121.43696474294616\n",
            "Best individual:\n",
            "Kappa: 1.8417495320691537\n",
            "Mu: 0.9176851831086484\n",
            "Omega: 1.592535306694564\n",
            "Md: 0.16669557433646068\n",
            "\n",
            "=== Generation: 63 === \n",
            "Fitness: 121.43686344312296\n",
            "Best individual:\n",
            "Kappa: 1.8384539333416265\n",
            "Mu: 0.9191921341525995\n",
            "Omega: 1.5929123212688672\n",
            "Md: 0.16697802139318058\n",
            "\n",
            "=== Generation: 64 === \n",
            "Fitness: 121.43162992429075\n",
            "Best individual:\n",
            "Kappa: 1.826015660593117\n",
            "Mu: 0.9169531925548319\n",
            "Omega: 1.5923124797896817\n",
            "Md: 0.16505659230983433\n",
            "\n",
            "=== Generation: 65 === \n",
            "Fitness: 121.43589508550845\n",
            "Best individual:\n",
            "Kappa: 1.8313905081837258\n",
            "Mu: 0.9178245197509949\n",
            "Omega: 1.5912648775073508\n",
            "Md: 0.1672993602801575\n",
            "\n",
            "=== Generation: 66 === \n",
            "Fitness: 121.43655473014987\n",
            "Best individual:\n",
            "Kappa: 1.8202412712324005\n",
            "Mu: 0.9164095897136126\n",
            "Omega: 1.5880312526541795\n",
            "Md: 0.16658959628173384\n",
            "\n",
            "=== Generation: 67 === \n",
            "Fitness: 121.41485552025514\n",
            "Best individual:\n",
            "Kappa: 1.812878332861133\n",
            "Mu: 0.917470174326072\n",
            "Omega: 1.5867432553588992\n",
            "Md: 0.1668319544643248\n",
            "\n",
            "=== Generation: 68 === \n",
            "Fitness: 121.41877444937086\n",
            "Best individual:\n",
            "Kappa: 1.8141897794668698\n",
            "Mu: 0.917233954470253\n",
            "Omega: 1.591928968329136\n",
            "Md: 0.1659871966207622\n",
            "\n",
            "=== Generation: 69 === \n",
            "Fitness: 121.4369841267362\n",
            "Best individual:\n",
            "Kappa: 1.8332038678063272\n",
            "Mu: 0.9191906450082022\n",
            "Omega: 1.5886707908373547\n",
            "Md: 0.1663866767574942\n",
            "\n",
            "=== Generation: 70 === \n",
            "Fitness: 121.43674559496289\n",
            "Best individual:\n",
            "Kappa: 1.829773874561256\n",
            "Mu: 0.91658197565208\n",
            "Omega: 1.5886240243843492\n",
            "Md: 0.1664373236124206\n",
            "\n",
            "=== Generation: 71 === \n",
            "Fitness: 121.43489916115672\n",
            "Best individual:\n",
            "Kappa: 1.8319949851924833\n",
            "Mu: 0.916243967600521\n",
            "Omega: 1.5938753480508447\n",
            "Md: 0.16626923936036286\n",
            "\n",
            "=== Generation: 72 === \n",
            "Fitness: 121.41661661740503\n",
            "Best individual:\n",
            "Kappa: 1.8250215546268875\n",
            "Mu: 0.9176302101659566\n",
            "Omega: 1.5867879913009055\n",
            "Md: 0.16544666860056506\n",
            "\n",
            "=== Generation: 73 === \n",
            "Fitness: 121.41854297565598\n",
            "Best individual:\n",
            "Kappa: 1.836178014140807\n",
            "Mu: 0.9157872773184141\n",
            "Omega: 1.5873308819359588\n",
            "Md: 0.16809444209767807\n",
            "\n",
            "=== Generation: 74 === \n",
            "Fitness: 121.42421729589364\n",
            "Best individual:\n",
            "Kappa: 1.8219436594494853\n",
            "Mu: 0.9177980213703624\n",
            "Omega: 1.5946248412569242\n",
            "Md: 0.16562561939067927\n",
            "\n",
            "=== Generation: 75 === \n",
            "Fitness: 121.43617124204115\n",
            "Best individual:\n",
            "Kappa: 1.8356837513090498\n",
            "Mu: 0.9179271636593739\n",
            "Omega: 1.58713251331602\n",
            "Md: 0.1670929503453078\n",
            "\n",
            "=== Generation: 76 === \n",
            "Fitness: 121.42588149283019\n",
            "Best individual:\n",
            "Kappa: 1.816326194702798\n",
            "Mu: 0.9159123242264853\n",
            "Omega: 1.5926442105133034\n",
            "Md: 0.16594393825327375\n",
            "\n",
            "=== Generation: 77 === \n",
            "Fitness: 121.4332604237606\n",
            "Best individual:\n",
            "Kappa: 1.8260443279571628\n",
            "Mu: 0.9161294853091043\n",
            "Omega: 1.591199473841451\n",
            "Md: 0.16544985049983718\n",
            "\n",
            "=== Generation: 78 === \n",
            "Fitness: 121.42676054297961\n",
            "Best individual:\n",
            "Kappa: 1.8142755018875119\n",
            "Mu: 0.9182957212555112\n",
            "Omega: 1.587215012713784\n",
            "Md: 0.16538026997161165\n",
            "\n",
            "=== Generation: 79 === \n",
            "Fitness: 121.4363534368462\n",
            "Best individual:\n",
            "Kappa: 1.8307689504202396\n",
            "Mu: 0.9175008277455415\n",
            "Omega: 1.5868244813987897\n",
            "Md: 0.16683493014319592\n",
            "\n",
            "=== Generation: 80 === \n",
            "Fitness: 121.42186525915665\n",
            "Best individual:\n",
            "Kappa: 1.830229204729109\n",
            "Mu: 0.919965750117735\n",
            "Omega: 1.5930220637604198\n",
            "Md: 0.1654642783087804\n",
            "\n",
            "=== Generation: 81 === \n",
            "Fitness: 121.4300089428781\n",
            "Best individual:\n",
            "Kappa: 1.8539716532712738\n",
            "Mu: 0.9195508361991095\n",
            "Omega: 1.5922060137895693\n",
            "Md: 0.16843897544018266\n",
            "\n",
            "=== Generation: 82 === \n",
            "Fitness: 121.44044120523914\n",
            "Best individual:\n",
            "Kappa: 1.8341283637212547\n",
            "Mu: 0.9169865960134891\n",
            "Omega: 1.5916341782280365\n",
            "Md: 0.16634972936832934\n",
            "\n",
            "=== Generation: 83 === \n",
            "Fitness: 121.44368502521179\n",
            "Best individual:\n",
            "Kappa: 1.8394500788429289\n",
            "Mu: 0.9185371943450905\n",
            "Omega: 1.59024962968803\n",
            "Md: 0.167153496002895\n",
            "\n",
            "=== Generation: 84 === \n",
            "Fitness: 121.43134583682875\n",
            "Best individual:\n",
            "Kappa: 1.8262936614409961\n",
            "Mu: 0.9189214900257541\n",
            "Omega: 1.5853413821123428\n",
            "Md: 0.16695088691903398\n",
            "\n",
            "=== Generation: 85 === \n",
            "Fitness: 121.40720617756591\n",
            "Best individual:\n",
            "Kappa: 1.821875552953664\n",
            "Mu: 0.9197713514072908\n",
            "Omega: 1.5939682919735663\n",
            "Md: 0.16471140939750323\n",
            "\n",
            "=== Generation: 86 === \n",
            "Fitness: 121.42595492555289\n",
            "Best individual:\n",
            "Kappa: 1.8190680673309774\n",
            "Mu: 0.9167711342849685\n",
            "Omega: 1.5898264698537659\n",
            "Md: 0.16685557237347948\n",
            "\n",
            "=== Generation: 87 === \n",
            "Fitness: 121.40981463278368\n",
            "Best individual:\n",
            "Kappa: 1.807712907375122\n",
            "Mu: 0.914247184967252\n",
            "Omega: 1.5953898608715629\n",
            "Md: 0.16388325793754813\n",
            "\n",
            "=== Generation: 88 === \n",
            "Fitness: 121.4185231042061\n",
            "Best individual:\n",
            "Kappa: 1.8608278252335724\n",
            "Mu: 0.9191651984210629\n",
            "Omega: 1.5928409296320054\n",
            "Md: 0.1680857538845932\n",
            "\n",
            "=== Generation: 89 === \n",
            "Fitness: 121.43189769774054\n",
            "Best individual:\n",
            "Kappa: 1.834430453915569\n",
            "Mu: 0.9194421696130833\n",
            "Omega: 1.5892250041957914\n",
            "Md: 0.16779452318092314\n",
            "\n",
            "=== Generation: 90 === \n",
            "Fitness: 121.41244163829279\n",
            "Best individual:\n",
            "Kappa: 1.844758944662507\n",
            "Mu: 0.9173162432668888\n",
            "Omega: 1.5967099228045787\n",
            "Md: 0.16747488962311444\n",
            "\n",
            "=== Generation: 91 === \n",
            "Fitness: 121.42180730685007\n",
            "Best individual:\n",
            "Kappa: 1.8530584439853004\n",
            "Mu: 0.9197829755420452\n",
            "Omega: 1.5936774822220663\n",
            "Md: 0.16696052645111814\n",
            "\n",
            "=== Generation: 92 === \n",
            "Fitness: 121.38149072529497\n",
            "Best individual:\n",
            "Kappa: 1.8092199967599873\n",
            "Mu: 0.9159435589923359\n",
            "Omega: 1.5824927246189515\n",
            "Md: 0.16759515088899704\n",
            "\n",
            "=== Generation: 93 === \n",
            "Fitness: 121.43574479387274\n",
            "Best individual:\n",
            "Kappa: 1.8182217832485452\n",
            "Mu: 0.9156030035563907\n",
            "Omega: 1.5914443059072017\n",
            "Md: 0.16530488692122175\n",
            "\n",
            "=== Generation: 94 === \n",
            "Fitness: 121.44293317305582\n",
            "Best individual:\n",
            "Kappa: 1.840251436715783\n",
            "Mu: 0.9189206858096695\n",
            "Omega: 1.5905287168029612\n",
            "Md: 0.16739846773179584\n",
            "\n",
            "=== Generation: 95 === \n",
            "Fitness: 121.42573898597169\n",
            "Best individual:\n",
            "Kappa: 1.8445381307694564\n",
            "Mu: 0.9190534463874164\n",
            "Omega: 1.5944111115158983\n",
            "Md: 0.16619904477486647\n",
            "\n",
            "=== Generation: 96 === \n",
            "Fitness: 121.42800406031822\n",
            "Best individual:\n",
            "Kappa: 1.8393740738976334\n",
            "Mu: 0.9203121190939741\n",
            "Omega: 1.5898774237775775\n",
            "Md: 0.16798235790391666\n",
            "\n",
            "=== Generation: 97 === \n",
            "Fitness: 121.43704255048969\n",
            "Best individual:\n",
            "Kappa: 1.848561888141029\n",
            "Mu: 0.9199012531034683\n",
            "Omega: 1.589648232683336\n",
            "Md: 0.16804469643569686\n",
            "\n",
            "=== Generation: 98 === \n",
            "Fitness: 121.42185844451505\n",
            "Best individual:\n",
            "Kappa: 1.8363935381065029\n",
            "Mu: 0.9183446998188516\n",
            "Omega: 1.588187631468765\n",
            "Md: 0.16864123614986692\n",
            "\n",
            "=== Generation: 99 === \n",
            "Fitness: 121.42111466185588\n",
            "Best individual:\n",
            "Kappa: 1.8365628214507783\n",
            "Mu: 0.9160455587653411\n",
            "Omega: 1.5942930160227606\n",
            "Md: 0.16732318583601985\n",
            "\n",
            "==========\n",
            "Max number of generations exceeded!\n",
            "==========\n",
            "\n",
            "Best Fitness: 121.44368502521179\n",
            "Best Gen: 83\n",
            "Kappa: 1.8394500788429289\n",
            "Mu: 0.9185371943450905\n",
            "Omega: 1.59024962968803\n",
            "Md: 0.167153496002895\n"
          ]
        },
        {
          "output_type": "display_data",
          "data": {
            "text/plain": [
              "<Figure size 720x504 with 0 Axes>"
            ]
          },
          "metadata": {}
        },
        {
          "output_type": "display_data",
          "data": {
            "text/plain": [
              "<Figure size 720x504 with 0 Axes>"
            ]
          },
          "metadata": {}
        },
        {
          "output_type": "display_data",
          "data": {
            "text/plain": [
              "<Figure size 720x504 with 0 Axes>"
            ]
          },
          "metadata": {}
        },
        {
          "output_type": "display_data",
          "data": {
            "text/plain": [
              "<Figure size 720x504 with 0 Axes>"
            ]
          },
          "metadata": {}
        },
        {
          "output_type": "display_data",
          "data": {
            "text/plain": [
              "<Figure size 720x504 with 0 Axes>"
            ]
          },
          "metadata": {}
        },
        {
          "output_type": "display_data",
          "data": {
            "text/plain": [
              "<Figure size 720x504 with 0 Axes>"
            ]
          },
          "metadata": {}
        },
        {
          "output_type": "display_data",
          "data": {
            "text/plain": [
              "<Figure size 720x504 with 0 Axes>"
            ]
          },
          "metadata": {}
        },
        {
          "output_type": "display_data",
          "data": {
            "text/plain": [
              "<Figure size 720x504 with 0 Axes>"
            ]
          },
          "metadata": {}
        },
        {
          "output_type": "display_data",
          "data": {
            "text/plain": [
              "<Figure size 720x504 with 0 Axes>"
            ]
          },
          "metadata": {}
        },
        {
          "output_type": "display_data",
          "data": {
            "text/plain": [
              "<Figure size 720x504 with 0 Axes>"
            ]
          },
          "metadata": {}
        },
        {
          "output_type": "display_data",
          "data": {
            "text/plain": [
              "<Figure size 720x504 with 0 Axes>"
            ]
          },
          "metadata": {}
        },
        {
          "output_type": "display_data",
          "data": {
            "text/plain": [
              "<Figure size 720x504 with 0 Axes>"
            ]
          },
          "metadata": {}
        },
        {
          "output_type": "display_data",
          "data": {
            "text/plain": [
              "<Figure size 720x504 with 0 Axes>"
            ]
          },
          "metadata": {}
        },
        {
          "output_type": "display_data",
          "data": {
            "text/plain": [
              "<Figure size 720x504 with 0 Axes>"
            ]
          },
          "metadata": {}
        },
        {
          "output_type": "display_data",
          "data": {
            "text/plain": [
              "<Figure size 720x504 with 0 Axes>"
            ]
          },
          "metadata": {}
        },
        {
          "output_type": "display_data",
          "data": {
            "text/plain": [
              "<Figure size 720x504 with 0 Axes>"
            ]
          },
          "metadata": {}
        },
        {
          "output_type": "display_data",
          "data": {
            "text/plain": [
              "<Figure size 720x504 with 0 Axes>"
            ]
          },
          "metadata": {}
        },
        {
          "output_type": "display_data",
          "data": {
            "text/plain": [
              "<Figure size 720x504 with 0 Axes>"
            ]
          },
          "metadata": {}
        },
        {
          "output_type": "display_data",
          "data": {
            "text/plain": [
              "<Figure size 720x504 with 0 Axes>"
            ]
          },
          "metadata": {}
        },
        {
          "output_type": "display_data",
          "data": {
            "text/plain": [
              "<Figure size 720x504 with 0 Axes>"
            ]
          },
          "metadata": {}
        },
        {
          "output_type": "display_data",
          "data": {
            "text/plain": [
              "<Figure size 720x504 with 0 Axes>"
            ]
          },
          "metadata": {}
        },
        {
          "output_type": "display_data",
          "data": {
            "text/plain": [
              "<Figure size 720x504 with 0 Axes>"
            ]
          },
          "metadata": {}
        },
        {
          "output_type": "display_data",
          "data": {
            "text/plain": [
              "<Figure size 720x504 with 0 Axes>"
            ]
          },
          "metadata": {}
        },
        {
          "output_type": "display_data",
          "data": {
            "text/plain": [
              "<Figure size 720x504 with 0 Axes>"
            ]
          },
          "metadata": {}
        },
        {
          "output_type": "display_data",
          "data": {
            "text/plain": [
              "<Figure size 720x504 with 0 Axes>"
            ]
          },
          "metadata": {}
        },
        {
          "output_type": "display_data",
          "data": {
            "text/plain": [
              "<Figure size 720x504 with 0 Axes>"
            ]
          },
          "metadata": {}
        },
        {
          "output_type": "display_data",
          "data": {
            "text/plain": [
              "<Figure size 720x504 with 0 Axes>"
            ]
          },
          "metadata": {}
        },
        {
          "output_type": "display_data",
          "data": {
            "text/plain": [
              "<Figure size 720x504 with 0 Axes>"
            ]
          },
          "metadata": {}
        },
        {
          "output_type": "display_data",
          "data": {
            "text/plain": [
              "<Figure size 720x504 with 0 Axes>"
            ]
          },
          "metadata": {}
        },
        {
          "output_type": "display_data",
          "data": {
            "text/plain": [
              "<Figure size 720x504 with 0 Axes>"
            ]
          },
          "metadata": {}
        },
        {
          "output_type": "display_data",
          "data": {
            "text/plain": [
              "<Figure size 720x504 with 0 Axes>"
            ]
          },
          "metadata": {}
        },
        {
          "output_type": "display_data",
          "data": {
            "text/plain": [
              "<Figure size 720x504 with 0 Axes>"
            ]
          },
          "metadata": {}
        },
        {
          "output_type": "display_data",
          "data": {
            "text/plain": [
              "<Figure size 720x504 with 0 Axes>"
            ]
          },
          "metadata": {}
        },
        {
          "output_type": "display_data",
          "data": {
            "text/plain": [
              "<Figure size 720x504 with 0 Axes>"
            ]
          },
          "metadata": {}
        },
        {
          "output_type": "display_data",
          "data": {
            "text/plain": [
              "<Figure size 720x504 with 0 Axes>"
            ]
          },
          "metadata": {}
        },
        {
          "output_type": "display_data",
          "data": {
            "text/plain": [
              "<Figure size 720x504 with 0 Axes>"
            ]
          },
          "metadata": {}
        },
        {
          "output_type": "display_data",
          "data": {
            "text/plain": [
              "<Figure size 720x504 with 0 Axes>"
            ]
          },
          "metadata": {}
        },
        {
          "output_type": "display_data",
          "data": {
            "text/plain": [
              "<Figure size 720x504 with 0 Axes>"
            ]
          },
          "metadata": {}
        },
        {
          "output_type": "display_data",
          "data": {
            "text/plain": [
              "<Figure size 720x504 with 0 Axes>"
            ]
          },
          "metadata": {}
        },
        {
          "output_type": "display_data",
          "data": {
            "text/plain": [
              "<Figure size 720x504 with 0 Axes>"
            ]
          },
          "metadata": {}
        },
        {
          "output_type": "display_data",
          "data": {
            "text/plain": [
              "<Figure size 720x504 with 0 Axes>"
            ]
          },
          "metadata": {}
        },
        {
          "output_type": "display_data",
          "data": {
            "text/plain": [
              "<Figure size 720x504 with 0 Axes>"
            ]
          },
          "metadata": {}
        },
        {
          "output_type": "display_data",
          "data": {
            "text/plain": [
              "<Figure size 720x504 with 0 Axes>"
            ]
          },
          "metadata": {}
        },
        {
          "output_type": "display_data",
          "data": {
            "text/plain": [
              "<Figure size 720x504 with 0 Axes>"
            ]
          },
          "metadata": {}
        },
        {
          "output_type": "display_data",
          "data": {
            "text/plain": [
              "<Figure size 720x504 with 0 Axes>"
            ]
          },
          "metadata": {}
        },
        {
          "output_type": "display_data",
          "data": {
            "text/plain": [
              "<Figure size 720x504 with 0 Axes>"
            ]
          },
          "metadata": {}
        },
        {
          "output_type": "display_data",
          "data": {
            "text/plain": [
              "<Figure size 720x504 with 0 Axes>"
            ]
          },
          "metadata": {}
        },
        {
          "output_type": "display_data",
          "data": {
            "text/plain": [
              "<Figure size 720x504 with 0 Axes>"
            ]
          },
          "metadata": {}
        },
        {
          "output_type": "display_data",
          "data": {
            "text/plain": [
              "<Figure size 720x504 with 0 Axes>"
            ]
          },
          "metadata": {}
        },
        {
          "output_type": "display_data",
          "data": {
            "text/plain": [
              "<Figure size 720x504 with 0 Axes>"
            ]
          },
          "metadata": {}
        },
        {
          "output_type": "display_data",
          "data": {
            "text/plain": [
              "<Figure size 720x504 with 0 Axes>"
            ]
          },
          "metadata": {}
        },
        {
          "output_type": "display_data",
          "data": {
            "text/plain": [
              "<Figure size 720x504 with 0 Axes>"
            ]
          },
          "metadata": {}
        },
        {
          "output_type": "display_data",
          "data": {
            "text/plain": [
              "<Figure size 720x504 with 0 Axes>"
            ]
          },
          "metadata": {}
        },
        {
          "output_type": "display_data",
          "data": {
            "text/plain": [
              "<Figure size 720x504 with 0 Axes>"
            ]
          },
          "metadata": {}
        },
        {
          "output_type": "display_data",
          "data": {
            "text/plain": [
              "<Figure size 720x504 with 0 Axes>"
            ]
          },
          "metadata": {}
        },
        {
          "output_type": "display_data",
          "data": {
            "text/plain": [
              "<Figure size 720x504 with 0 Axes>"
            ]
          },
          "metadata": {}
        },
        {
          "output_type": "display_data",
          "data": {
            "text/plain": [
              "<Figure size 720x504 with 0 Axes>"
            ]
          },
          "metadata": {}
        },
        {
          "output_type": "display_data",
          "data": {
            "text/plain": [
              "<Figure size 720x504 with 0 Axes>"
            ]
          },
          "metadata": {}
        },
        {
          "output_type": "display_data",
          "data": {
            "text/plain": [
              "<Figure size 720x504 with 0 Axes>"
            ]
          },
          "metadata": {}
        },
        {
          "output_type": "display_data",
          "data": {
            "text/plain": [
              "<Figure size 720x504 with 0 Axes>"
            ]
          },
          "metadata": {}
        },
        {
          "output_type": "display_data",
          "data": {
            "text/plain": [
              "<Figure size 720x504 with 0 Axes>"
            ]
          },
          "metadata": {}
        },
        {
          "output_type": "display_data",
          "data": {
            "text/plain": [
              "<Figure size 720x504 with 0 Axes>"
            ]
          },
          "metadata": {}
        },
        {
          "output_type": "display_data",
          "data": {
            "text/plain": [
              "<Figure size 720x504 with 0 Axes>"
            ]
          },
          "metadata": {}
        },
        {
          "output_type": "display_data",
          "data": {
            "text/plain": [
              "<Figure size 720x504 with 0 Axes>"
            ]
          },
          "metadata": {}
        },
        {
          "output_type": "display_data",
          "data": {
            "text/plain": [
              "<Figure size 720x504 with 0 Axes>"
            ]
          },
          "metadata": {}
        },
        {
          "output_type": "display_data",
          "data": {
            "text/plain": [
              "<Figure size 720x504 with 0 Axes>"
            ]
          },
          "metadata": {}
        },
        {
          "output_type": "display_data",
          "data": {
            "text/plain": [
              "<Figure size 720x504 with 0 Axes>"
            ]
          },
          "metadata": {}
        },
        {
          "output_type": "display_data",
          "data": {
            "text/plain": [
              "<Figure size 720x504 with 0 Axes>"
            ]
          },
          "metadata": {}
        },
        {
          "output_type": "display_data",
          "data": {
            "text/plain": [
              "<Figure size 720x504 with 0 Axes>"
            ]
          },
          "metadata": {}
        },
        {
          "output_type": "display_data",
          "data": {
            "text/plain": [
              "<Figure size 720x504 with 0 Axes>"
            ]
          },
          "metadata": {}
        },
        {
          "output_type": "display_data",
          "data": {
            "text/plain": [
              "<Figure size 720x504 with 0 Axes>"
            ]
          },
          "metadata": {}
        },
        {
          "output_type": "display_data",
          "data": {
            "text/plain": [
              "<Figure size 720x504 with 0 Axes>"
            ]
          },
          "metadata": {}
        },
        {
          "output_type": "display_data",
          "data": {
            "text/plain": [
              "<Figure size 720x504 with 0 Axes>"
            ]
          },
          "metadata": {}
        },
        {
          "output_type": "display_data",
          "data": {
            "text/plain": [
              "<Figure size 720x504 with 0 Axes>"
            ]
          },
          "metadata": {}
        },
        {
          "output_type": "display_data",
          "data": {
            "text/plain": [
              "<Figure size 720x504 with 0 Axes>"
            ]
          },
          "metadata": {}
        },
        {
          "output_type": "display_data",
          "data": {
            "text/plain": [
              "<Figure size 720x504 with 0 Axes>"
            ]
          },
          "metadata": {}
        },
        {
          "output_type": "display_data",
          "data": {
            "text/plain": [
              "<Figure size 720x504 with 0 Axes>"
            ]
          },
          "metadata": {}
        },
        {
          "output_type": "display_data",
          "data": {
            "text/plain": [
              "<Figure size 720x504 with 0 Axes>"
            ]
          },
          "metadata": {}
        },
        {
          "output_type": "display_data",
          "data": {
            "text/plain": [
              "<Figure size 720x504 with 0 Axes>"
            ]
          },
          "metadata": {}
        },
        {
          "output_type": "display_data",
          "data": {
            "text/plain": [
              "<Figure size 720x504 with 0 Axes>"
            ]
          },
          "metadata": {}
        },
        {
          "output_type": "display_data",
          "data": {
            "text/plain": [
              "<Figure size 720x504 with 0 Axes>"
            ]
          },
          "metadata": {}
        },
        {
          "output_type": "display_data",
          "data": {
            "text/plain": [
              "<Figure size 720x504 with 0 Axes>"
            ]
          },
          "metadata": {}
        },
        {
          "output_type": "display_data",
          "data": {
            "text/plain": [
              "<Figure size 720x504 with 0 Axes>"
            ]
          },
          "metadata": {}
        },
        {
          "output_type": "display_data",
          "data": {
            "text/plain": [
              "<Figure size 720x504 with 0 Axes>"
            ]
          },
          "metadata": {}
        },
        {
          "output_type": "display_data",
          "data": {
            "text/plain": [
              "<Figure size 720x504 with 0 Axes>"
            ]
          },
          "metadata": {}
        },
        {
          "output_type": "display_data",
          "data": {
            "text/plain": [
              "<Figure size 720x504 with 0 Axes>"
            ]
          },
          "metadata": {}
        },
        {
          "output_type": "display_data",
          "data": {
            "text/plain": [
              "<Figure size 720x504 with 0 Axes>"
            ]
          },
          "metadata": {}
        },
        {
          "output_type": "display_data",
          "data": {
            "text/plain": [
              "<Figure size 720x504 with 0 Axes>"
            ]
          },
          "metadata": {}
        },
        {
          "output_type": "display_data",
          "data": {
            "text/plain": [
              "<Figure size 720x504 with 0 Axes>"
            ]
          },
          "metadata": {}
        },
        {
          "output_type": "display_data",
          "data": {
            "text/plain": [
              "<Figure size 720x504 with 0 Axes>"
            ]
          },
          "metadata": {}
        },
        {
          "output_type": "display_data",
          "data": {
            "text/plain": [
              "<Figure size 720x504 with 0 Axes>"
            ]
          },
          "metadata": {}
        },
        {
          "output_type": "display_data",
          "data": {
            "text/plain": [
              "<Figure size 720x504 with 0 Axes>"
            ]
          },
          "metadata": {}
        },
        {
          "output_type": "display_data",
          "data": {
            "text/plain": [
              "<Figure size 720x504 with 0 Axes>"
            ]
          },
          "metadata": {}
        },
        {
          "output_type": "display_data",
          "data": {
            "text/plain": [
              "<Figure size 720x504 with 0 Axes>"
            ]
          },
          "metadata": {}
        },
        {
          "output_type": "display_data",
          "data": {
            "text/plain": [
              "<Figure size 720x504 with 0 Axes>"
            ]
          },
          "metadata": {}
        },
        {
          "output_type": "display_data",
          "data": {
            "text/plain": [
              "<Figure size 720x504 with 0 Axes>"
            ]
          },
          "metadata": {}
        },
        {
          "output_type": "display_data",
          "data": {
            "text/plain": [
              "<Figure size 720x504 with 0 Axes>"
            ]
          },
          "metadata": {}
        },
        {
          "output_type": "display_data",
          "data": {
            "text/plain": [
              "<Figure size 720x504 with 0 Axes>"
            ]
          },
          "metadata": {}
        },
        {
          "output_type": "display_data",
          "data": {
            "text/plain": [
              "<Figure size 720x504 with 0 Axes>"
            ]
          },
          "metadata": {}
        },
        {
          "output_type": "display_data",
          "data": {
            "text/plain": [
              "<Figure size 720x504 with 0 Axes>"
            ]
          },
          "metadata": {}
        }
      ]
    },
    {
      "cell_type": "code",
      "source": [
        "(kappa_hat_sku_rad, mu_hat_sku_rad, omega_hat_sku_rad, md_hat_sku_rad)"
      ],
      "metadata": {
        "colab": {
          "base_uri": "https://localhost:8080/"
        },
        "id": "9N4hPZpsWrSn",
        "outputId": "6eb6be85-b130-43e7-c5bc-12baceb43220"
      },
      "execution_count": 24,
      "outputs": [
        {
          "output_type": "execute_result",
          "data": {
            "text/plain": [
              "(1.8394500788429289, 0.9185371943450905, 1.59024962968803, 0.167153496002895)"
            ]
          },
          "metadata": {},
          "execution_count": 24
        }
      ]
    },
    {
      "cell_type": "markdown",
      "source": [
        "### Comparison plot (linear scale)"
      ],
      "metadata": {
        "id": "XKP_EsTmW6YO"
      }
    },
    {
      "cell_type": "code",
      "source": [
        "plt.figure(figsize=((10,7)))\n",
        "plt.scatter(Xdata, Ydata, c='black')\n",
        "plt.plot(Xdata, shadowedKappaMuPDF(Xdata, kappa_hat_sku, mu_hat_sku, omega_hat_sku, md_hat_sku), label='Shadowed $\\kappa$-$\\mu$ GA (MSE)')\n",
        "plt.plot(Xdata, shadowedKappaMuPDF(Xdata, kappa_hat_sku_rad, mu_hat_sku_rad, omega_hat_sku_rad, md_hat_sku_rad), label='Shadowed $\\kappa$-$\\mu$ GA (RAD)', c='green')\n",
        "plt.plot(Xdata, shadowed_k_u_pdf, label='Shadowed $\\kappa$-$\\mu$ MLE', c='red')\n",
        "plt.title(f'Shadowed $\\kappa$-$\\mu$ fit comparison')\n",
        "plt.legend()\n",
        "plt.grid(True)\n",
        "plt.xlabel(r'mV')\n",
        "plt.ylabel('pdf')\n",
        "plt.show()\n",
        "\n",
        "plt.figure(figsize=((10,7)))\n",
        "plt.plot(Xdata, shadowedKappaMuPDF(Xdata, kappa_hat_sku, mu_hat_sku, omega_hat_sku, md_hat_sku), label='Shadowed $\\kappa$-$\\mu$ GA (MSE)')\n",
        "plt.plot(Xdata, shadowedKappaMuPDF(Xdata, kappa_hat_sku_rad, mu_hat_sku_rad, omega_hat_sku_rad, md_hat_sku_rad), label='Shadowed $\\kappa$-$\\mu$ GA (RAD)', c='green')\n",
        "plt.plot(Xdata, shadowed_k_u_pdf, label='Shadowed $\\kappa$-$\\mu$ MLE', c='red')\n",
        "plt.title(f'Shadowed $\\kappa$-$\\mu$ fit comparison (Zoomed)')\n",
        "plt.legend()\n",
        "plt.grid(True)\n",
        "plt.xlabel(r'mV')\n",
        "plt.ylabel('pdf')\n",
        "plt.ylim([.6, .85])\n",
        "plt.xlim([0, 1])\n",
        "plt.show()"
      ],
      "metadata": {
        "colab": {
          "base_uri": "https://localhost:8080/",
          "height": 903
        },
        "id": "-OuWA5BtqhDC",
        "outputId": "add93753-a7fd-4b15-fe3d-02e88a1e13fa"
      },
      "execution_count": 37,
      "outputs": [
        {
          "output_type": "display_data",
          "data": {
            "text/plain": [
              "<Figure size 720x504 with 1 Axes>"
            ],
            "image/png": "[encoded data removed]"
          },
          "metadata": {
            "needs_background": "light"
          }
        },
        {
          "output_type": "display_data",
          "data": {
            "text/plain": [
              "<Figure size 720x504 with 1 Axes>"
            ],
            "image/png": "[encoded data removed]"
          },
          "metadata": {
            "needs_background": "light"
          }
        }
      ]
    },
    {
      "cell_type": "markdown",
      "source": [
        "### Comparison plot (log-log scale)"
      ],
      "metadata": {
        "id": "jX1heQptqkiq"
      }
    },
    {
      "cell_type": "code",
      "source": [
        "plt.figure(figsize=((10,7)))\n",
        "plt.scatter(20*np.log10(Xdata), 10*np.log10(Ydata), c='black')\n",
        "plt.plot(20*np.log10(Xdata), 10*np.log10(shadowedKappaMuPDF(Xdata, kappa_hat_sku, mu_hat_sku, omega_hat_sku, md_hat_sku)), label='Shadowed $\\kappa$-$\\mu$ GA (MSE)')\n",
        "plt.plot(20*np.log10(Xdata), 10*np.log10(shadowedKappaMuPDF(Xdata, kappa_hat_sku_rad, mu_hat_sku_rad, omega_hat_sku_rad, md_hat_sku_rad)), label='Shadowed $\\kappa$-$\\mu$ GA (RAD)', c='green')\n",
        "plt.plot(20*np.log10(Xdata), 10*np.log10(shadowed_k_u_pdf), label='Shadowed $\\kappa$-$\\mu$ MLE', c='red')\n",
        "plt.title(f'Shadowed $\\kappa$-$\\mu$ fit comparison')\n",
        "plt.legend()\n",
        "plt.grid(True)\n",
        "plt.xlabel(r'dBm')\n",
        "plt.ylabel('log pdf')\n",
        "plt.show()\n",
        "\n",
        "plt.figure(figsize=((10,7)))\n",
        "plt.scatter(20*np.log10(Xdata), 10*np.log10(Ydata), c='black')\n",
        "plt.plot(20*np.log10(Xdata), 10*np.log10(shadowedKappaMuPDF(Xdata, kappa_hat_sku, mu_hat_sku, omega_hat_sku, md_hat_sku)), label='Shadowed $\\kappa$-$\\mu$ GA (MSE)')\n",
        "plt.plot(20*np.log10(Xdata), 10*np.log10(shadowedKappaMuPDF(Xdata, kappa_hat_sku_rad, mu_hat_sku_rad, omega_hat_sku_rad, md_hat_sku_rad)), label='Shadowed $\\kappa$-$\\mu$ GA (RAD)', c='green')\n",
        "plt.plot(20*np.log10(Xdata), 10*np.log10(shadowed_k_u_pdf), label='Shadowed $\\kappa$-$\\mu$ MLE', c='red')\n",
        "plt.title(f'Shadowed $\\kappa$-$\\mu$ fit comparison (Zoomed)')\n",
        "plt.legend()\n",
        "plt.grid(True)\n",
        "plt.xlabel(r'dBm')\n",
        "plt.ylabel('log pdf')\n",
        "plt.ylim([-30, 0])\n",
        "plt.xlim([-20, 15])\n",
        "plt.show()"
      ],
      "metadata": {
        "colab": {
          "base_uri": "https://localhost:8080/",
          "height": 903
        },
        "id": "8z7_YlHVnzJL",
        "outputId": "4812feca-8e4e-4a88-8ce6-2cdb95cc60a7"
      },
      "execution_count": 32,
      "outputs": [
        {
          "output_type": "display_data",
          "data": {
            "text/plain": [
              "<Figure size 720x504 with 1 Axes>"
            ],
            "image/png": "[encoded data removed]"
          },
          "metadata": {
            "needs_background": "light"
          }
        },
        {
          "output_type": "display_data",
          "data": {
            "text/plain": [
              "<Figure size 720x504 with 1 Axes>"
            ],
            "image/png": "[encoded data removed]"
          },
          "metadata": {
            "needs_background": "light"
          }
        }
      ]
    },
    {
      "cell_type": "markdown",
      "source": [
        "### RAD/AIC Scores"
      ],
      "metadata": {
        "id": "nkcqtzbPViC_"
      }
    },
    {
      "cell_type": "code",
      "source": [
        "# Scores - RAD\n",
        "pVec1 = Ydata/np.sum(Ydata)\n",
        "pVec2 = shadowedKappaMuPDF(Xdata, kappa_hat_sku, mu_hat_sku, omega_hat_sku, md_hat_sku)\\\n",
        "/np.sum(shadowedKappaMuPDF(Xdata, kappa_hat_sku, mu_hat_sku, omega_hat_sku, md_hat_sku))\n",
        "KLD_1 = kldiv(pVec1, pVec2)\n",
        "KLD_2 = kldiv(pVec2, pVec1)\n",
        "rad_ga_mse_sku = RAD(KLD_1, KLD_2)\n",
        "\n",
        "pVec1 = Ydata/np.sum(Ydata)\n",
        "pVec2 = shadowedKappaMuPDF(Xdata, kappa_hat_sku_rad, mu_hat_sku_rad, omega_hat_sku_rad, md_hat_sku_rad)\\\n",
        "/np.sum(shadowedKappaMuPDF(Xdata, kappa_hat_sku_rad, mu_hat_sku_rad, omega_hat_sku_rad, md_hat_sku_rad))\n",
        "KLD_1 = kldiv(pVec1, pVec2)\n",
        "KLD_2 = kldiv(pVec2, pVec1)\n",
        "rad_ga_rad_sku = RAD(KLD_1, KLD_2)\n",
        "\n",
        "## AIC Analysis\n",
        "\n",
        "n = len(data_mV)\n",
        "K = 3\n",
        "\n",
        "# AIC MLE - KAPPA MU\n",
        "sum = np.sum(np.log(computePDF(data_mV, mle_kappa_mu[0], mle_kappa_mu[1], mle_kappa_mu[2])))\n",
        "AIC_mle_kappa_mu = -2*sum + 2*K + (2*K*(K+1))/(n-K-1)\n",
        "\n",
        "# AIC MLE - SHADOWED KAPPA MU\n",
        "sum = np.sum(np.log(shadowedKappaMuPDF(data_mV, mle_shadowed_kappa_mu[0], mle_shadowed_kappa_mu[1], mle_shadowed_kappa_mu[2], mle_shadowed_kappa_mu[3])))\n",
        "AIC_mle_shadowed_kappa_mu = -2*sum + 2*K + (2*K*(K+1))/(n-K-1)\n",
        "\n",
        "# AIC GENETIC ALGORITHM SHADOWED KAPPA MU - FITNESS: MSE\n",
        "sum = np.sum(np.log(shadowedKappaMuPDF(data_mV, kappa_hat_sku, mu_hat_sku, omega_hat_sku, md_hat_sku)))\n",
        "AIC_ga_shadowed_kappa_mu = -2*sum + 2*K + (2*K*(K+1))/(n-K-1)\n",
        "\n",
        "# AIC GENETIC ALGORITHM SHADOWED KAPPA MU - FITNESS: RAD\n",
        "sum = np.sum(np.log(shadowedKappaMuPDF(data_mV, kappa_hat_sku_rad, mu_hat_sku_rad, omega_hat_sku_rad, md_hat_sku_rad)))\n",
        "AIC_ga_shadowed_kappa_mu_rad = -2*sum + 2*K + (2*K*(K+1))/(n-K-1)\n",
        "\n",
        "# AIC GENETIC ALGORITHM - FITNESS: MSE\n",
        "sum = np.sum(np.log(computePDF(data_mV, kappa_hat, mu_hat, omega_hat)))\n",
        "AIC_ga_mse = -2*sum + 2*K + (2*K*(K+1))/(n-K-1)\n",
        "  \n",
        "# AIC GENETIC ALGORITHM - FITNESS: RAD\n",
        "sum = np.sum(np.log(computePDF(data_mV, kappa_hat_rad, mu_hat_rad, omega_hat_rad)))\n",
        "AIC_ga_rad = -2*sum + 2*K + (2*K*(K+1))/(n-K-1)\n",
        "\n",
        "rads = {'Methods':['Genetic Algorithm - KappaMu (Fitness = MSE)', 'Genetic Algorithm - KappaMu (Fitness = RAD)',\\\n",
        "                   'Maximum Likelihood Estimator - KappaMu', 'Maximum Likelihood Estimator - Shadowed KappaMu',\\\n",
        "                   'Genetic Algorithm - Shadowed KappaMu (MSE)', 'Genetic Algorithm - Shadowed KappaMu (RAD)'],\n",
        "\t\t'Resistor Average Distance':[rad_mse, rad_rad, rad_mle_kappa_mu, rad_mle_shadowed_kappa_mu, rad_ga_mse_sku, rad_ga_rad_sku],\n",
        "    'Akaike Information Criteria':[AIC_ga_mse[0], AIC_ga_rad[0], AIC_mle_kappa_mu[0], AIC_mle_shadowed_kappa_mu[0], AIC_ga_shadowed_kappa_mu[0], AIC_ga_shadowed_kappa_mu_rad[0]]}\n",
        "\n",
        "# Create DataFrame\n",
        "df = pd.DataFrame(rads)\n",
        "display(df.sort_values(by='Akaike Information Criteria').reset_index(drop=True))"
      ],
      "metadata": {
        "colab": {
          "base_uri": "https://localhost:8080/",
          "height": 237
        },
        "id": "8VrY7Cu3K8PG",
        "outputId": "253d8b88-94ca-4c95-e4dc-c34b8ca747b1"
      },
      "execution_count": 26,
      "outputs": [
        {
          "output_type": "display_data",
          "data": {
            "text/plain": [
              "                                           Methods  Resistor Average Distance  \\\n",
              "0  Maximum Likelihood Estimator - Shadowed KappaMu                   0.009950   \n",
              "1       Genetic Algorithm - Shadowed KappaMu (MSE)                   0.009988   \n",
              "2       Genetic Algorithm - Shadowed KappaMu (RAD)                   0.008234   \n",
              "3      Genetic Algorithm - KappaMu (Fitness = RAD)                   0.046084   \n",
              "4           Maximum Likelihood Estimator - KappaMu                   0.069296   \n",
              "5      Genetic Algorithm - KappaMu (Fitness = MSE)                   0.069462   \n",
              "\n",
              "   Akaike Information Criteria  \n",
              "0                313225.159357  \n",
              "1                313249.069608  \n",
              "2                313525.113766  \n",
              "3                339771.834761  \n",
              "4                380914.753628  \n",
              "5                381191.932148  "
            ],
            "text/html": [
              "\n",
              "  <div id=\"df-67679932-7058-47f7-9a07-afc0c411e9ea\">\n",
              "    <div class=\"colab-df-container\">\n",
              "      <div>\n",
              "<style scoped>\n",
              "    .dataframe tbody tr th:only-of-type {\n",
              "        vertical-align: middle;\n",
              "    }\n",
              "\n",
              "    .dataframe tbody tr th {\n",
              "        vertical-align: top;\n",
              "    }\n",
              "\n",
              "    .dataframe thead th {\n",
              "        text-align: right;\n",
              "    }\n",
              "</style>\n",
              "<table border=\"1\" class=\"dataframe\">\n",
              "  <thead>\n",
              "    <tr style=\"text-align: right;\">\n",
              "      <th></th>\n",
              "      <th>Methods</th>\n",
              "      <th>Resistor Average Distance</th>\n",
              "      <th>Akaike Information Criteria</th>\n",
              "    </tr>\n",
              "  </thead>\n",
              "  <tbody>\n",
              "    <tr>\n",
              "      <th>0</th>\n",
              "      <td>Maximum Likelihood Estimator - Shadowed KappaMu</td>\n",
              "      <td>0.009950</td>\n",
              "      <td>313225.159357</td>\n",
              "    </tr>\n",
              "    <tr>\n",
              "      <th>1</th>\n",
              "      <td>Genetic Algorithm - Shadowed KappaMu (MSE)</td>\n",
              "      <td>0.009988</td>\n",
              "      <td>313249.069608</td>\n",
              "    </tr>\n",
              "    <tr>\n",
              "      <th>2</th>\n",
              "      <td>Genetic Algorithm - Shadowed KappaMu (RAD)</td>\n",
              "      <td>0.008234</td>\n",
              "      <td>313525.113766</td>\n",
              "    </tr>\n",
              "    <tr>\n",
              "      <th>3</th>\n",
              "      <td>Genetic Algorithm - KappaMu (Fitness = RAD)</td>\n",
              "      <td>0.046084</td>\n",
              "      <td>339771.834761</td>\n",
              "    </tr>\n",
              "    <tr>\n",
              "      <th>4</th>\n",
              "      <td>Maximum Likelihood Estimator - KappaMu</td>\n",
              "      <td>0.069296</td>\n",
              "      <td>380914.753628</td>\n",
              "    </tr>\n",
              "    <tr>\n",
              "      <th>5</th>\n",
              "      <td>Genetic Algorithm - KappaMu (Fitness = MSE)</td>\n",
              "      <td>0.069462</td>\n",
              "      <td>381191.932148</td>\n",
              "    </tr>\n",
              "  </tbody>\n",
              "</table>\n",
              "</div>\n",
              "      <button class=\"colab-df-convert\" onclick=\"convertToInteractive('df-67679932-7058-47f7-9a07-afc0c411e9ea')\"\n",
              "              title=\"Convert this dataframe to an interactive table.\"\n",
              "              style=\"display:none;\">\n",
              "        \n",
              "  <svg xmlns=\"http://www.w3.org/2000/svg\" height=\"24px\"viewBox=\"0 0 24 24\"\n",
              "       width=\"24px\">\n",
              "    <path d=\"M0 0h24v24H0V0z\" fill=\"none\"/>\n",
              "    <path d=\"M18.56 5.44l.94 2.06.94-2.06 2.06-.94-2.06-.94-.94-2.06-.94 2.06-2.06.94zm-11 1L8.5 8.5l.94-2.06 2.06-.94-2.06-.94L8.5 2.5l-.94 2.06-2.06.94zm10 10l.94 2.06.94-2.06 2.06-.94-2.06-.94-.94-2.06-.94 2.06-2.06.94z\"/><path d=\"M17.41 7.96l-1.37-1.37c-.4-.4-.92-.59-1.43-.59-.52 0-1.04.2-1.43.59L10.3 9.45l-7.72 7.72c-.78.78-.78 2.05 0 2.83L4 21.41c.39.39.9.59 1.41.59.51 0 1.02-.2 1.41-.59l7.78-7.78 2.81-2.81c.8-.78.8-2.07 0-2.86zM5.41 20L4 18.59l7.72-7.72 1.47 1.35L5.41 20z\"/>\n",
              "  </svg>\n",
              "      </button>\n",
              "      \n",
              "  <style>\n",
              "    .colab-df-container {\n",
              "      display:flex;\n",
              "      flex-wrap:wrap;\n",
              "      gap: 12px;\n",
              "    }\n",
              "\n",
              "    .colab-df-convert {\n",
              "      background-color: #E8F0FE;\n",
              "      border: none;\n",
              "      border-radius: 50%;\n",
              "      cursor: pointer;\n",
              "      display: none;\n",
              "      fill: #1967D2;\n",
              "      height: 32px;\n",
              "      padding: 0 0 0 0;\n",
              "      width: 32px;\n",
              "    }\n",
              "\n",
              "    .colab-df-convert:hover {\n",
              "      background-color: #E2EBFA;\n",
              "      box-shadow: 0px 1px 2px rgba(60, 64, 67, 0.3), 0px 1px 3px 1px rgba(60, 64, 67, 0.15);\n",
              "      fill: #174EA6;\n",
              "    }\n",
              "\n",
              "    [theme=dark] .colab-df-convert {\n",
              "      background-color: #3B4455;\n",
              "      fill: #D2E3FC;\n",
              "    }\n",
              "\n",
              "    [theme=dark] .colab-df-convert:hover {\n",
              "      background-color: #434B5C;\n",
              "      box-shadow: 0px 1px 3px 1px rgba(0, 0, 0, 0.15);\n",
              "      filter: drop-shadow(0px 1px 2px rgba(0, 0, 0, 0.3));\n",
              "      fill: #FFFFFF;\n",
              "    }\n",
              "  </style>\n",
              "\n",
              "      <script>\n",
              "        const buttonEl =\n",
              "          document.querySelector('#df-67679932-7058-47f7-9a07-afc0c411e9ea button.colab-df-convert');\n",
              "        buttonEl.style.display =\n",
              "          google.colab.kernel.accessAllowed ? 'block' : 'none';\n",
              "\n",
              "        async function convertToInteractive(key) {\n",
              "          const element = document.querySelector('#df-67679932-7058-47f7-9a07-afc0c411e9ea');\n",
              "          const dataTable =\n",
              "            await google.colab.kernel.invokeFunction('convertToInteractive',\n",
              "                                                     [key], {});\n",
              "          if (!dataTable) return;\n",
              "\n",
              "          const docLinkHtml = 'Like what you see? Visit the ' +\n",
              "            '<a target=\"_blank\" href=https://colab.research.google.com/notebooks/data_table.ipynb>data table notebook</a>'\n",
              "            + ' to learn more about interactive tables.';\n",
              "          element.innerHTML = '';\n",
              "          dataTable['output_type'] = 'display_data';\n",
              "          await google.colab.output.renderOutput(dataTable, element);\n",
              "          const docLink = document.createElement('div');\n",
              "          docLink.innerHTML = docLinkHtml;\n",
              "          element.appendChild(docLink);\n",
              "        }\n",
              "      </script>\n",
              "    </div>\n",
              "  </div>\n",
              "  "
            ]
          },
          "metadata": {}
        }
      ]
    },
    {
      "cell_type": "code",
      "source": [
        ""
      ],
      "metadata": {
        "id": "0IMLtXL-Lnlq"
      },
      "execution_count": 26,
      "outputs": []
    }
  ]
}