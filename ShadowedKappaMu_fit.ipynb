{
  "nbformat": 4,
  "nbformat_minor": 0,
  "metadata": {
    "colab": {
      "name": "ShadowedKappaMu_fit.ipynb",
      "provenance": [],
      "collapsed_sections": [],
      "toc_visible": true,
      "authorship_tag": "ABX9TyMzQvxoUNpXJ7SmLGBjWVII",
      "include_colab_link": true
    },
    "kernelspec": {
      "name": "python3",
      "display_name": "Python 3"
    },
    "language_info": {
      "name": "python"
    }
  },
  "cells": [
    {
      "cell_type": "markdown",
      "metadata": {
        "id": "view-in-github",
        "colab_type": "text"
      },
      "source": [
        "<a href=\"https://colab.research.google.com/github/SamuelBFG/ga-fading/blob/main/ShadowedKappaMu_fit.ipynb\" target=\"_parent\"><img src=\"https://colab.research.google.com/assets/colab-badge.svg\" alt=\"Open In Colab\"/></a>"
      ]
    },
    {
      "cell_type": "code",
      "source": [
        "import os\n",
        "import numpy as np\n",
        "import pandas as pd\n",
        "import seaborn as sns\n",
        "import random\n",
        "import matplotlib.pyplot as plt\n",
        "from scipy import special as sp\n",
        "from scipy.stats import gaussian_kde\n",
        "from scipy.io import loadmat\n",
        "from sklearn.neighbors import KernelDensity\n",
        "from scipy import special as sp\n",
        "\n",
        "plt.rcParams.update({'figure.max_open_warning': 0})\n",
        "%matplotlib inline\n",
        "\n",
        "## Set up directories\n",
        "paths = ['plots', \n",
        "            'plots/gen/', \n",
        "        ]\n",
        "for i in paths:\n",
        "    if not os.path.exists(i):\n",
        "        os.makedirs(i)"
      ],
      "metadata": {
        "id": "OvYKCRkZ4Ia-"
      },
      "execution_count": 1,
      "outputs": []
    },
    {
      "cell_type": "markdown",
      "source": [
        "## Data (dBm)"
      ],
      "metadata": {
        "id": "KLvibRp9RvBl"
      }
    },
    {
      "cell_type": "code",
      "execution_count": 2,
      "metadata": {
        "id": "qnYjLSZewTA8"
      },
      "outputs": [],
      "source": [
        "data_dBm = pd.read_csv('/content/P_dBm_out_LOS_Head_Indoor.txt', sep=\" \", header=None).transpose().dropna().reset_index(drop=True)"
      ]
    },
    {
      "cell_type": "code",
      "source": [
        "data_dBm.describe()"
      ],
      "metadata": {
        "colab": {
          "base_uri": "https://localhost:8080/",
          "height": 300
        },
        "id": "_4aJF9bH4QR6",
        "outputId": "a1d4629e-e591-4c5c-969f-edfdc6f1b56e"
      },
      "execution_count": 3,
      "outputs": [
        {
          "output_type": "execute_result",
          "data": {
            "text/plain": [
              "                   0\n",
              "count  181144.000000\n",
              "mean      -59.800541\n",
              "std         6.614254\n",
              "min      -101.912900\n",
              "25%       -63.651613\n",
              "50%       -59.441935\n",
              "75%       -55.325806\n",
              "max       -43.725806"
            ],
            "text/html": [
              "\n",
              "  <div id=\"df-5ec226ba-7c6f-42bd-b776-4fa325a07232\">\n",
              "    <div class=\"colab-df-container\">\n",
              "      <div>\n",
              "<style scoped>\n",
              "    .dataframe tbody tr th:only-of-type {\n",
              "        vertical-align: middle;\n",
              "    }\n",
              "\n",
              "    .dataframe tbody tr th {\n",
              "        vertical-align: top;\n",
              "    }\n",
              "\n",
              "    .dataframe thead th {\n",
              "        text-align: right;\n",
              "    }\n",
              "</style>\n",
              "<table border=\"1\" class=\"dataframe\">\n",
              "  <thead>\n",
              "    <tr style=\"text-align: right;\">\n",
              "      <th></th>\n",
              "      <th>0</th>\n",
              "    </tr>\n",
              "  </thead>\n",
              "  <tbody>\n",
              "    <tr>\n",
              "      <th>count</th>\n",
              "      <td>181144.000000</td>\n",
              "    </tr>\n",
              "    <tr>\n",
              "      <th>mean</th>\n",
              "      <td>-59.800541</td>\n",
              "    </tr>\n",
              "    <tr>\n",
              "      <th>std</th>\n",
              "      <td>6.614254</td>\n",
              "    </tr>\n",
              "    <tr>\n",
              "      <th>min</th>\n",
              "      <td>-101.912900</td>\n",
              "    </tr>\n",
              "    <tr>\n",
              "      <th>25%</th>\n",
              "      <td>-63.651613</td>\n",
              "    </tr>\n",
              "    <tr>\n",
              "      <th>50%</th>\n",
              "      <td>-59.441935</td>\n",
              "    </tr>\n",
              "    <tr>\n",
              "      <th>75%</th>\n",
              "      <td>-55.325806</td>\n",
              "    </tr>\n",
              "    <tr>\n",
              "      <th>max</th>\n",
              "      <td>-43.725806</td>\n",
              "    </tr>\n",
              "  </tbody>\n",
              "</table>\n",
              "</div>\n",
              "      <button class=\"colab-df-convert\" onclick=\"convertToInteractive('df-5ec226ba-7c6f-42bd-b776-4fa325a07232')\"\n",
              "              title=\"Convert this dataframe to an interactive table.\"\n",
              "              style=\"display:none;\">\n",
              "        \n",
              "  <svg xmlns=\"http://www.w3.org/2000/svg\" height=\"24px\"viewBox=\"0 0 24 24\"\n",
              "       width=\"24px\">\n",
              "    <path d=\"M0 0h24v24H0V0z\" fill=\"none\"/>\n",
              "    <path d=\"M18.56 5.44l.94 2.06.94-2.06 2.06-.94-2.06-.94-.94-2.06-.94 2.06-2.06.94zm-11 1L8.5 8.5l.94-2.06 2.06-.94-2.06-.94L8.5 2.5l-.94 2.06-2.06.94zm10 10l.94 2.06.94-2.06 2.06-.94-2.06-.94-.94-2.06-.94 2.06-2.06.94z\"/><path d=\"M17.41 7.96l-1.37-1.37c-.4-.4-.92-.59-1.43-.59-.52 0-1.04.2-1.43.59L10.3 9.45l-7.72 7.72c-.78.78-.78 2.05 0 2.83L4 21.41c.39.39.9.59 1.41.59.51 0 1.02-.2 1.41-.59l7.78-7.78 2.81-2.81c.8-.78.8-2.07 0-2.86zM5.41 20L4 18.59l7.72-7.72 1.47 1.35L5.41 20z\"/>\n",
              "  </svg>\n",
              "      </button>\n",
              "      \n",
              "  <style>\n",
              "    .colab-df-container {\n",
              "      display:flex;\n",
              "      flex-wrap:wrap;\n",
              "      gap: 12px;\n",
              "    }\n",
              "\n",
              "    .colab-df-convert {\n",
              "      background-color: #E8F0FE;\n",
              "      border: none;\n",
              "      border-radius: 50%;\n",
              "      cursor: pointer;\n",
              "      display: none;\n",
              "      fill: #1967D2;\n",
              "      height: 32px;\n",
              "      padding: 0 0 0 0;\n",
              "      width: 32px;\n",
              "    }\n",
              "\n",
              "    .colab-df-convert:hover {\n",
              "      background-color: #E2EBFA;\n",
              "      box-shadow: 0px 1px 2px rgba(60, 64, 67, 0.3), 0px 1px 3px 1px rgba(60, 64, 67, 0.15);\n",
              "      fill: #174EA6;\n",
              "    }\n",
              "\n",
              "    [theme=dark] .colab-df-convert {\n",
              "      background-color: #3B4455;\n",
              "      fill: #D2E3FC;\n",
              "    }\n",
              "\n",
              "    [theme=dark] .colab-df-convert:hover {\n",
              "      background-color: #434B5C;\n",
              "      box-shadow: 0px 1px 3px 1px rgba(0, 0, 0, 0.15);\n",
              "      filter: drop-shadow(0px 1px 2px rgba(0, 0, 0, 0.3));\n",
              "      fill: #FFFFFF;\n",
              "    }\n",
              "  </style>\n",
              "\n",
              "      <script>\n",
              "        const buttonEl =\n",
              "          document.querySelector('#df-5ec226ba-7c6f-42bd-b776-4fa325a07232 button.colab-df-convert');\n",
              "        buttonEl.style.display =\n",
              "          google.colab.kernel.accessAllowed ? 'block' : 'none';\n",
              "\n",
              "        async function convertToInteractive(key) {\n",
              "          const element = document.querySelector('#df-5ec226ba-7c6f-42bd-b776-4fa325a07232');\n",
              "          const dataTable =\n",
              "            await google.colab.kernel.invokeFunction('convertToInteractive',\n",
              "                                                     [key], {});\n",
              "          if (!dataTable) return;\n",
              "\n",
              "          const docLinkHtml = 'Like what you see? Visit the ' +\n",
              "            '<a target=\"_blank\" href=https://colab.research.google.com/notebooks/data_table.ipynb>data table notebook</a>'\n",
              "            + ' to learn more about interactive tables.';\n",
              "          element.innerHTML = '';\n",
              "          dataTable['output_type'] = 'display_data';\n",
              "          await google.colab.output.renderOutput(dataTable, element);\n",
              "          const docLink = document.createElement('div');\n",
              "          docLink.innerHTML = docLinkHtml;\n",
              "          element.appendChild(docLink);\n",
              "        }\n",
              "      </script>\n",
              "    </div>\n",
              "  </div>\n",
              "  "
            ]
          },
          "metadata": {},
          "execution_count": 3
        }
      ]
    },
    {
      "cell_type": "code",
      "source": [
        "data_dBm"
      ],
      "metadata": {
        "colab": {
          "base_uri": "https://localhost:8080/",
          "height": 423
        },
        "id": "BSDq-an140gF",
        "outputId": "678a9643-51e9-4aa5-b8dd-4d86c4396d03"
      },
      "execution_count": 4,
      "outputs": [
        {
          "output_type": "execute_result",
          "data": {
            "text/plain": [
              "                0\n",
              "0      -49.058065\n",
              "1      -49.151613\n",
              "2      -49.151613\n",
              "3      -49.151613\n",
              "4      -49.245161\n",
              "...           ...\n",
              "181139 -62.716129\n",
              "181140 -62.529032\n",
              "181141 -62.716129\n",
              "181142 -62.622581\n",
              "181143 -62.716129\n",
              "\n",
              "[181144 rows x 1 columns]"
            ],
            "text/html": [
              "\n",
              "  <div id=\"df-45deeddd-7d6e-488c-b93c-494731f1c6fe\">\n",
              "    <div class=\"colab-df-container\">\n",
              "      <div>\n",
              "<style scoped>\n",
              "    .dataframe tbody tr th:only-of-type {\n",
              "        vertical-align: middle;\n",
              "    }\n",
              "\n",
              "    .dataframe tbody tr th {\n",
              "        vertical-align: top;\n",
              "    }\n",
              "\n",
              "    .dataframe thead th {\n",
              "        text-align: right;\n",
              "    }\n",
              "</style>\n",
              "<table border=\"1\" class=\"dataframe\">\n",
              "  <thead>\n",
              "    <tr style=\"text-align: right;\">\n",
              "      <th></th>\n",
              "      <th>0</th>\n",
              "    </tr>\n",
              "  </thead>\n",
              "  <tbody>\n",
              "    <tr>\n",
              "      <th>0</th>\n",
              "      <td>-49.058065</td>\n",
              "    </tr>\n",
              "    <tr>\n",
              "      <th>1</th>\n",
              "      <td>-49.151613</td>\n",
              "    </tr>\n",
              "    <tr>\n",
              "      <th>2</th>\n",
              "      <td>-49.151613</td>\n",
              "    </tr>\n",
              "    <tr>\n",
              "      <th>3</th>\n",
              "      <td>-49.151613</td>\n",
              "    </tr>\n",
              "    <tr>\n",
              "      <th>4</th>\n",
              "      <td>-49.245161</td>\n",
              "    </tr>\n",
              "    <tr>\n",
              "      <th>...</th>\n",
              "      <td>...</td>\n",
              "    </tr>\n",
              "    <tr>\n",
              "      <th>181139</th>\n",
              "      <td>-62.716129</td>\n",
              "    </tr>\n",
              "    <tr>\n",
              "      <th>181140</th>\n",
              "      <td>-62.529032</td>\n",
              "    </tr>\n",
              "    <tr>\n",
              "      <th>181141</th>\n",
              "      <td>-62.716129</td>\n",
              "    </tr>\n",
              "    <tr>\n",
              "      <th>181142</th>\n",
              "      <td>-62.622581</td>\n",
              "    </tr>\n",
              "    <tr>\n",
              "      <th>181143</th>\n",
              "      <td>-62.716129</td>\n",
              "    </tr>\n",
              "  </tbody>\n",
              "</table>\n",
              "<p>181144 rows × 1 columns</p>\n",
              "</div>\n",
              "      <button class=\"colab-df-convert\" onclick=\"convertToInteractive('df-45deeddd-7d6e-488c-b93c-494731f1c6fe')\"\n",
              "              title=\"Convert this dataframe to an interactive table.\"\n",
              "              style=\"display:none;\">\n",
              "        \n",
              "  <svg xmlns=\"http://www.w3.org/2000/svg\" height=\"24px\"viewBox=\"0 0 24 24\"\n",
              "       width=\"24px\">\n",
              "    <path d=\"M0 0h24v24H0V0z\" fill=\"none\"/>\n",
              "    <path d=\"M18.56 5.44l.94 2.06.94-2.06 2.06-.94-2.06-.94-.94-2.06-.94 2.06-2.06.94zm-11 1L8.5 8.5l.94-2.06 2.06-.94-2.06-.94L8.5 2.5l-.94 2.06-2.06.94zm10 10l.94 2.06.94-2.06 2.06-.94-2.06-.94-.94-2.06-.94 2.06-2.06.94z\"/><path d=\"M17.41 7.96l-1.37-1.37c-.4-.4-.92-.59-1.43-.59-.52 0-1.04.2-1.43.59L10.3 9.45l-7.72 7.72c-.78.78-.78 2.05 0 2.83L4 21.41c.39.39.9.59 1.41.59.51 0 1.02-.2 1.41-.59l7.78-7.78 2.81-2.81c.8-.78.8-2.07 0-2.86zM5.41 20L4 18.59l7.72-7.72 1.47 1.35L5.41 20z\"/>\n",
              "  </svg>\n",
              "      </button>\n",
              "      \n",
              "  <style>\n",
              "    .colab-df-container {\n",
              "      display:flex;\n",
              "      flex-wrap:wrap;\n",
              "      gap: 12px;\n",
              "    }\n",
              "\n",
              "    .colab-df-convert {\n",
              "      background-color: #E8F0FE;\n",
              "      border: none;\n",
              "      border-radius: 50%;\n",
              "      cursor: pointer;\n",
              "      display: none;\n",
              "      fill: #1967D2;\n",
              "      height: 32px;\n",
              "      padding: 0 0 0 0;\n",
              "      width: 32px;\n",
              "    }\n",
              "\n",
              "    .colab-df-convert:hover {\n",
              "      background-color: #E2EBFA;\n",
              "      box-shadow: 0px 1px 2px rgba(60, 64, 67, 0.3), 0px 1px 3px 1px rgba(60, 64, 67, 0.15);\n",
              "      fill: #174EA6;\n",
              "    }\n",
              "\n",
              "    [theme=dark] .colab-df-convert {\n",
              "      background-color: #3B4455;\n",
              "      fill: #D2E3FC;\n",
              "    }\n",
              "\n",
              "    [theme=dark] .colab-df-convert:hover {\n",
              "      background-color: #434B5C;\n",
              "      box-shadow: 0px 1px 3px 1px rgba(0, 0, 0, 0.15);\n",
              "      filter: drop-shadow(0px 1px 2px rgba(0, 0, 0, 0.3));\n",
              "      fill: #FFFFFF;\n",
              "    }\n",
              "  </style>\n",
              "\n",
              "      <script>\n",
              "        const buttonEl =\n",
              "          document.querySelector('#df-45deeddd-7d6e-488c-b93c-494731f1c6fe button.colab-df-convert');\n",
              "        buttonEl.style.display =\n",
              "          google.colab.kernel.accessAllowed ? 'block' : 'none';\n",
              "\n",
              "        async function convertToInteractive(key) {\n",
              "          const element = document.querySelector('#df-45deeddd-7d6e-488c-b93c-494731f1c6fe');\n",
              "          const dataTable =\n",
              "            await google.colab.kernel.invokeFunction('convertToInteractive',\n",
              "                                                     [key], {});\n",
              "          if (!dataTable) return;\n",
              "\n",
              "          const docLinkHtml = 'Like what you see? Visit the ' +\n",
              "            '<a target=\"_blank\" href=https://colab.research.google.com/notebooks/data_table.ipynb>data table notebook</a>'\n",
              "            + ' to learn more about interactive tables.';\n",
              "          element.innerHTML = '';\n",
              "          dataTable['output_type'] = 'display_data';\n",
              "          await google.colab.output.renderOutput(dataTable, element);\n",
              "          const docLink = document.createElement('div');\n",
              "          docLink.innerHTML = docLinkHtml;\n",
              "          element.appendChild(docLink);\n",
              "        }\n",
              "      </script>\n",
              "    </div>\n",
              "  </div>\n",
              "  "
            ]
          },
          "metadata": {},
          "execution_count": 4
        }
      ]
    },
    {
      "cell_type": "code",
      "source": [
        "def dBm2mV(dBm):\n",
        "  \n",
        "  mV =  np.power(10, (dBm + 46.9897)/20)\n",
        "  return mV"
      ],
      "metadata": {
        "id": "JYjDSj9dNs3-"
      },
      "execution_count": 12,
      "outputs": []
    },
    {
      "cell_type": "code",
      "source": [
        "data_mV = dBm2mV(data_dBm)\n",
        "globalMean = data_mV.mean()\n",
        "data_mV = data_mV / globalMean\n",
        "data_mV"
      ],
      "metadata": {
        "colab": {
          "base_uri": "https://localhost:8080/",
          "height": 423
        },
        "id": "wFz3HV9VNfF5",
        "outputId": "f88c1cf1-e780-4339-f420-094f0d6b03d0"
      },
      "execution_count": 13,
      "outputs": [
        {
          "output_type": "execute_result",
          "data": {
            "text/plain": [
              "               0\n",
              "0       2.649921\n",
              "1       2.621534\n",
              "2       2.621534\n",
              "3       2.621534\n",
              "4       2.593451\n",
              "...          ...\n",
              "181139  0.549958\n",
              "181140  0.561933\n",
              "181141  0.549958\n",
              "181142  0.555913\n",
              "181143  0.549958\n",
              "\n",
              "[181144 rows x 1 columns]"
            ],
            "text/html": [
              "\n",
              "  <div id=\"df-a3470db2-1ff2-4c29-9de5-00400107697d\">\n",
              "    <div class=\"colab-df-container\">\n",
              "      <div>\n",
              "<style scoped>\n",
              "    .dataframe tbody tr th:only-of-type {\n",
              "        vertical-align: middle;\n",
              "    }\n",
              "\n",
              "    .dataframe tbody tr th {\n",
              "        vertical-align: top;\n",
              "    }\n",
              "\n",
              "    .dataframe thead th {\n",
              "        text-align: right;\n",
              "    }\n",
              "</style>\n",
              "<table border=\"1\" class=\"dataframe\">\n",
              "  <thead>\n",
              "    <tr style=\"text-align: right;\">\n",
              "      <th></th>\n",
              "      <th>0</th>\n",
              "    </tr>\n",
              "  </thead>\n",
              "  <tbody>\n",
              "    <tr>\n",
              "      <th>0</th>\n",
              "      <td>2.649921</td>\n",
              "    </tr>\n",
              "    <tr>\n",
              "      <th>1</th>\n",
              "      <td>2.621534</td>\n",
              "    </tr>\n",
              "    <tr>\n",
              "      <th>2</th>\n",
              "      <td>2.621534</td>\n",
              "    </tr>\n",
              "    <tr>\n",
              "      <th>3</th>\n",
              "      <td>2.621534</td>\n",
              "    </tr>\n",
              "    <tr>\n",
              "      <th>4</th>\n",
              "      <td>2.593451</td>\n",
              "    </tr>\n",
              "    <tr>\n",
              "      <th>...</th>\n",
              "      <td>...</td>\n",
              "    </tr>\n",
              "    <tr>\n",
              "      <th>181139</th>\n",
              "      <td>0.549958</td>\n",
              "    </tr>\n",
              "    <tr>\n",
              "      <th>181140</th>\n",
              "      <td>0.561933</td>\n",
              "    </tr>\n",
              "    <tr>\n",
              "      <th>181141</th>\n",
              "      <td>0.549958</td>\n",
              "    </tr>\n",
              "    <tr>\n",
              "      <th>181142</th>\n",
              "      <td>0.555913</td>\n",
              "    </tr>\n",
              "    <tr>\n",
              "      <th>181143</th>\n",
              "      <td>0.549958</td>\n",
              "    </tr>\n",
              "  </tbody>\n",
              "</table>\n",
              "<p>181144 rows × 1 columns</p>\n",
              "</div>\n",
              "      <button class=\"colab-df-convert\" onclick=\"convertToInteractive('df-a3470db2-1ff2-4c29-9de5-00400107697d')\"\n",
              "              title=\"Convert this dataframe to an interactive table.\"\n",
              "              style=\"display:none;\">\n",
              "        \n",
              "  <svg xmlns=\"http://www.w3.org/2000/svg\" height=\"24px\"viewBox=\"0 0 24 24\"\n",
              "       width=\"24px\">\n",
              "    <path d=\"M0 0h24v24H0V0z\" fill=\"none\"/>\n",
              "    <path d=\"M18.56 5.44l.94 2.06.94-2.06 2.06-.94-2.06-.94-.94-2.06-.94 2.06-2.06.94zm-11 1L8.5 8.5l.94-2.06 2.06-.94-2.06-.94L8.5 2.5l-.94 2.06-2.06.94zm10 10l.94 2.06.94-2.06 2.06-.94-2.06-.94-.94-2.06-.94 2.06-2.06.94z\"/><path d=\"M17.41 7.96l-1.37-1.37c-.4-.4-.92-.59-1.43-.59-.52 0-1.04.2-1.43.59L10.3 9.45l-7.72 7.72c-.78.78-.78 2.05 0 2.83L4 21.41c.39.39.9.59 1.41.59.51 0 1.02-.2 1.41-.59l7.78-7.78 2.81-2.81c.8-.78.8-2.07 0-2.86zM5.41 20L4 18.59l7.72-7.72 1.47 1.35L5.41 20z\"/>\n",
              "  </svg>\n",
              "      </button>\n",
              "      \n",
              "  <style>\n",
              "    .colab-df-container {\n",
              "      display:flex;\n",
              "      flex-wrap:wrap;\n",
              "      gap: 12px;\n",
              "    }\n",
              "\n",
              "    .colab-df-convert {\n",
              "      background-color: #E8F0FE;\n",
              "      border: none;\n",
              "      border-radius: 50%;\n",
              "      cursor: pointer;\n",
              "      display: none;\n",
              "      fill: #1967D2;\n",
              "      height: 32px;\n",
              "      padding: 0 0 0 0;\n",
              "      width: 32px;\n",
              "    }\n",
              "\n",
              "    .colab-df-convert:hover {\n",
              "      background-color: #E2EBFA;\n",
              "      box-shadow: 0px 1px 2px rgba(60, 64, 67, 0.3), 0px 1px 3px 1px rgba(60, 64, 67, 0.15);\n",
              "      fill: #174EA6;\n",
              "    }\n",
              "\n",
              "    [theme=dark] .colab-df-convert {\n",
              "      background-color: #3B4455;\n",
              "      fill: #D2E3FC;\n",
              "    }\n",
              "\n",
              "    [theme=dark] .colab-df-convert:hover {\n",
              "      background-color: #434B5C;\n",
              "      box-shadow: 0px 1px 3px 1px rgba(0, 0, 0, 0.15);\n",
              "      filter: drop-shadow(0px 1px 2px rgba(0, 0, 0, 0.3));\n",
              "      fill: #FFFFFF;\n",
              "    }\n",
              "  </style>\n",
              "\n",
              "      <script>\n",
              "        const buttonEl =\n",
              "          document.querySelector('#df-a3470db2-1ff2-4c29-9de5-00400107697d button.colab-df-convert');\n",
              "        buttonEl.style.display =\n",
              "          google.colab.kernel.accessAllowed ? 'block' : 'none';\n",
              "\n",
              "        async function convertToInteractive(key) {\n",
              "          const element = document.querySelector('#df-a3470db2-1ff2-4c29-9de5-00400107697d');\n",
              "          const dataTable =\n",
              "            await google.colab.kernel.invokeFunction('convertToInteractive',\n",
              "                                                     [key], {});\n",
              "          if (!dataTable) return;\n",
              "\n",
              "          const docLinkHtml = 'Like what you see? Visit the ' +\n",
              "            '<a target=\"_blank\" href=https://colab.research.google.com/notebooks/data_table.ipynb>data table notebook</a>'\n",
              "            + ' to learn more about interactive tables.';\n",
              "          element.innerHTML = '';\n",
              "          dataTable['output_type'] = 'display_data';\n",
              "          await google.colab.output.renderOutput(dataTable, element);\n",
              "          const docLink = document.createElement('div');\n",
              "          docLink.innerHTML = docLinkHtml;\n",
              "          element.appendChild(docLink);\n",
              "        }\n",
              "      </script>\n",
              "    </div>\n",
              "  </div>\n",
              "  "
            ]
          },
          "metadata": {},
          "execution_count": 13
        }
      ]
    },
    {
      "cell_type": "markdown",
      "source": [
        "## Genetic Algorithm with $\\kappa$-$\\mu$"
      ],
      "metadata": {
        "id": "-zWMJ53mRlOM"
      }
    },
    {
      "cell_type": "markdown",
      "source": [
        "### KDE Samples plot:"
      ],
      "metadata": {
        "id": "_lUkO4kkSQwK"
      }
    },
    {
      "cell_type": "code",
      "source": [
        "nExtractedSamples = 81\n",
        "Xdata = np.linspace(data_mV.min(), data_mV.max(), nExtractedSamples).reshape(-1, 1)\n",
        "kde = KernelDensity(kernel='gaussian', bandwidth=0.07).fit(data_mV.values.reshape(-1, 1))\n",
        "logkde = kde.score_samples(Xdata)\n",
        "Ydata = np.exp(logkde).reshape(-1,1)\n",
        "plt.figure(figsize=(10,7))\n",
        "plt.scatter(Xdata[::3], Ydata[::3], c='black')\n",
        "plt.title('Linear plot')\n",
        "plt.ylabel('Density')\n",
        "plt.xlabel('mV')\n",
        "plt.grid()\n",
        "plt.show()"
      ],
      "metadata": {
        "colab": {
          "base_uri": "https://localhost:8080/",
          "height": 458
        },
        "id": "mROaUnfP-vgL",
        "outputId": "2168e087-cea4-40cf-daaf-cd1bf97480ca"
      },
      "execution_count": 15,
      "outputs": [
        {
          "output_type": "display_data",
          "data": {
            "text/plain": [
              "<Figure size 720x504 with 1 Axes>"
            ],
            "image/png": "[encoded data removed]"
          },
          "metadata": {
            "needs_background": "light"
          }
        }
      ]
    },
    {
      "cell_type": "markdown",
      "source": [
        "### MLE: $\\kappa$-$\\mu$ and Shadowed $\\kappa$-$\\mu$:"
      ],
      "metadata": {
        "id": "ZinmnDT5SGk6"
      }
    },
    {
      "cell_type": "code",
      "source": [
        "from scipy.special import gamma\n",
        "import math\n",
        "\n",
        "mle_kappa_mu = [0.0100000000000222, 0.794245863440659, 0.984845553504606]\n",
        "\n",
        "mle_shadowed_kappa_mu = [2.50378514576399, 1.04171495240545, 1.52666133132221, 0.238939978717897]\n",
        "\n",
        "mle_rice = [0.0260577235710763, 0.884270540895972]\n",
        "rice_K = (mle_rice[0]**2) / (2*mle_rice[1]**2)\n",
        "rice_omega = (mle_rice[0]**2) + (2*mle_rice[1]**2)\n",
        "\n",
        "mle_nak = [0.631008863728655, 1.56440816925206]\n",
        "nak_m = mle_nak[0]\n",
        "nak_omega = mle_nak[1]"
      ],
      "metadata": {
        "id": "xrmv95JQpZCZ"
      },
      "execution_count": 16,
      "outputs": []
    },
    {
      "cell_type": "code",
      "source": [
        "def computePDF(r, kappa, mu, omega):\n",
        "  '''\n",
        "  kappa-mu pdf.\n",
        "  '''\n",
        "\n",
        "  A = (2*mu * ((1 + kappa)**((mu+1)/2))) \\\n",
        "          /(np.sqrt(omega) * (kappa**((mu-1)/2)) * np.exp(mu * kappa))\n",
        "  B = (r / np.sqrt(omega))**(mu)\n",
        "  C = np.exp(-mu*(1+kappa) * (r/np.sqrt(omega))**2)\n",
        "  D = sp.iv(mu-1, 2*mu * np.sqrt(kappa * (1+kappa)) * (r/np.sqrt(omega)))\n",
        "\n",
        "  pdf = A * B * C * D\n",
        "  return pdf\n",
        "\n",
        "def shadowedKappaMuPDF(r, kappa, mu, omega, md):\n",
        "  '''\n",
        "  shadowed kappa-mu pdf.\n",
        "  '''\n",
        "  A = 2 * r**((2*mu) -1) / omega**(mu)\n",
        "  B = (mu**mu * md**md * (1+kappa)**mu) / (sp.gamma(mu) * ((mu*kappa)+md)**md)\n",
        "  C = np.exp((- mu * (1+kappa) * r**2) / omega)\n",
        "  D = (mu**2) * kappa * (1+kappa) * (r**2)\n",
        "  E = ((mu*kappa)+md) * omega\n",
        "  F = sp.hyp1f1(md, mu, D / E)\n",
        "\n",
        "  pdf = A * B * C * F\n",
        "  return pdf\n",
        "\n",
        "def kldiv(pVec1, pVec2):\n",
        "  '''\n",
        "  Kullback-Leibler divergence.\n",
        "  '''\n",
        "  KL = np.sum(pVec1*(np.log2(pVec1)-np.log2(pVec2)))\n",
        "  return KL\n",
        "\n",
        "def RAD(kldiv1, kldiv2):\n",
        "  '''\n",
        "  Resistor-Average Distance.\n",
        "  '''\n",
        "  RAD = 1/(1/kldiv1+1/kldiv2)\n",
        "  return RAD\n",
        "\n",
        "\n",
        "def fitness(X, Y, fitnessType, kappa, mu, omega):\n",
        "  '''\n",
        "  Fitness function (MSE/RAD) to determine how good a given solution is.\n",
        "  '''\n",
        "  if fitnessType == 'MSE':\n",
        "    y_pred = computePDF(X, kappa, mu, omega)\n",
        "    n = len(Y)\n",
        "    cost = 1/n * sum(val**2 for val in (Y-y_pred))\n",
        "    return 1/cost\n",
        "  elif fitnessType == 'RAD':\n",
        "    pVec1 = Y/np.sum(Y)\n",
        "    pVec2 = computePDF(X, kappa, mu, omega)/np.sum(computePDF(X, kappa, mu, omega))\n",
        "    KLD_1 = kldiv(pVec1, pVec2)\n",
        "    KLD_2 = kldiv(pVec2, pVec1)\n",
        "    cost = RAD(KLD_1, KLD_2)\n",
        "    return 1/cost\n",
        "\n",
        "\n",
        "def geneticAlgorithm(X, Y, mleResults):\n",
        "  '''\n",
        "  Evolutionary Loop\n",
        "  '''\n",
        "  solutions = []\n",
        "  bestParams = []\n",
        "  bestCriteria = 0\n",
        "  bestGen = 0\n",
        "\n",
        "\n",
        "  # Generate solutions (chromossomes)\n",
        "  for s in range(nPopulation):\n",
        "    solutions.append((random.uniform(0.01, 10), # kappa\n",
        "                        random.uniform(0.1, 1.0), # mu\n",
        "                        random.uniform(0.1, 1.0))) # r_hat^2\n",
        "\n",
        "  # Evolutionary Loop\n",
        "  for i in range(nMaxGen):\n",
        "    rankedSolutions = []\t\n",
        "    for s in solutions:\n",
        "      rankedSolutions.append( (fitness(X, Y, fitnessType, s[0],s[1],s[2]), s) )\n",
        "    rankedSolutions.sort()\n",
        "    rankedSolutions.reverse()\n",
        "    \n",
        "    print(f'=== Generation: {i} === ')\n",
        "    print(f'Fitness: {rankedSolutions[0][0]}')\n",
        "    print('Best individual:')\n",
        "    print(f'Kappa: {rankedSolutions[0][1][0]}')\n",
        "    print(f'Mu: {rankedSolutions[0][1][1]}')\n",
        "    print(f'Omega: {rankedSolutions[0][1][2]}\\n')\n",
        "\n",
        "    plt.figure(figsize=((10,7)))\n",
        "    plt.plot(20*np.log10(X), computePDF(X, rankedSolutions[0][1][0], rankedSolutions[0][1][1], rankedSolutions[0][1][2]), label='Predicted')\n",
        "    plt.scatter(20*np.log10(X), Y, color='m', label='Real')\n",
        "    plt.plot(20*np.log10(X), computePDF(X, mleResults[0], mleResults[1], mleResults[2]), label='Nidhi\\'s MLE')\n",
        "    plt.title(f'=== Generation: {i} === ')\n",
        "    plt.legend()\n",
        "    plt.grid(True)\n",
        "    plt.xlabel(r'$\\rho=r/\\hat{r}$')\n",
        "    plt.ylabel('pdf')\n",
        "    if savePlots: \n",
        "      plt.savefig(f'plots/gen/gen_{i}.png')\n",
        "    \n",
        "    if showPlots:\n",
        "      plt.show()\n",
        "      plt.clf()\n",
        "    else: \n",
        "      plt.clf()\n",
        "\n",
        "    # Keeping track the best params and generation:\n",
        "    if rankedSolutions[0][0] > bestCriteria:\n",
        "      bestCriteria = rankedSolutions[0][0]\n",
        "      bestGen = i\n",
        "      bestParams = rankedSolutions[0][1]\n",
        "\n",
        "    # Stop Criterion: Fitness > 150 (TRIAL AND ERROR)\n",
        "    # if rankedSolutions[0][0] > 152.8:\n",
        "    #   print('='*10+'\\n'+'Stopped by fitness criteria!\\n'+'='*10+'\\n')\n",
        "    #   # print('='*10)\n",
        "    #   # print('Stopped by fitness criteria!')\n",
        "    #   # print('='*10)\n",
        "    #   print('Best Fitness: {}\\nBest Gen: {}'.format(bestCriteria, bestGen))\n",
        "    #   print('Kappa: {}\\nMu: {}\\nOmega: {}'.format(bestParams[0],bestParams[1],bestParams[2]))\n",
        "    #   break\n",
        "\n",
        "    # Combine the best solutions and make a new solution of those combined solutions\n",
        "    bestSolutions = rankedSolutions[:100]\n",
        "    elements_kappa = []\n",
        "    elements_mu = []\n",
        "    elements_omega = [] \n",
        "    for s in bestSolutions:\n",
        "      elements_kappa.append(s[1][0])\n",
        "      elements_mu.append(s[1][1])\n",
        "      elements_omega.append(s[1][2])\n",
        "\n",
        "    newGen = []\n",
        "    for _ in range(nPopulation):\n",
        "      e1 = random.choice(elements_kappa) * random.uniform(0.975,1.025) # Mutation of 5%\n",
        "      e2 = random.choice(elements_mu) * random.uniform(0.975,1.025) # Mutation of 5%\n",
        "      e3 = random.choice(elements_omega) * random.uniform(0.975,1.025) # Mutation of 5%\n",
        "      newGen.append((e1,e2,e3))\n",
        "\n",
        "    solutions = newGen\n",
        "    \n",
        "    if i == nMaxGen-1:\n",
        "      print('='*10+'\\n'+'Max number of generations exceeded!\\n'+'='*10+'\\n')\n",
        "      # print()\n",
        "      # print('='*10)\n",
        "      print('Best Fitness: {}\\nBest Gen: {}'.format(bestCriteria, bestGen))\n",
        "      print('Kappa: {}\\nMu: {}\\nOmega: {}'.format(bestParams[0],bestParams[1],bestParams[2]))\n",
        "\n",
        "      return bestParams[0],bestParams[1],bestParams[2]"
      ],
      "metadata": {
        "id": "_Ur3OZvQSVum"
      },
      "execution_count": 20,
      "outputs": []
    },
    {
      "cell_type": "markdown",
      "source": [
        "### $\\kappa$-$\\mu$ MLE plot:"
      ],
      "metadata": {
        "id": "vL_hMWP2SXXi"
      }
    },
    {
      "cell_type": "code",
      "source": [
        "k_u_pdf = computePDF(Xdata, mle_kappa_mu[0], mle_kappa_mu[1], mle_kappa_mu[2])\n",
        "plt.figure(figsize=(10,7))\n",
        "plt.scatter(Xdata, Ydata, c='black', label='Real Data')\n",
        "plt.plot(Xdata, k_u_pdf, c='blue', label=r'$\\kappa$-$\\mu$ MLE')\n",
        "plt.title('Linear plot')\n",
        "plt.ylabel('Density')\n",
        "plt.xlabel('mV')\n",
        "plt.legend()\n",
        "plt.grid()\n",
        "plt.show()"
      ],
      "metadata": {
        "colab": {
          "base_uri": "https://localhost:8080/",
          "height": 458
        },
        "id": "Snoe0pDrNNVb",
        "outputId": "acd6ea65-57b5-4238-e13f-f19cb4369a6b"
      },
      "execution_count": 46,
      "outputs": [
        {
          "output_type": "display_data",
          "data": {
            "text/plain": [
              "<Figure size 720x504 with 1 Axes>"
            ],
            "image/png": "[encoded data removed]"
          },
          "metadata": {
            "needs_background": "light"
          }
        }
      ]
    },
    {
      "cell_type": "markdown",
      "source": [
        "### GA: $\\kappa$-$\\mu$ (MSE) fit"
      ],
      "metadata": {
        "id": "a0MsiraSTWQB"
      }
    },
    {
      "cell_type": "code",
      "source": [
        "### PARAMETERS\n",
        "nMaxGen = 100\n",
        "nPopulation = 1000\n",
        "savePlots = False\n",
        "showPlots = False\n",
        "fitnessType = 'MSE'\n",
        "# nAP = 'AP2'\n",
        "kappa_hat, mu_hat, omega_hat = geneticAlgorithm(Xdata, Ydata, mle_kappa_mu)"
      ],
      "metadata": {
        "colab": {
          "base_uri": "https://localhost:8080/",
          "height": 1000
        },
        "id": "QzIwvxNiOs7v",
        "outputId": "bf498697-a408-4e2b-c6a7-71cbeb74d53b"
      },
      "execution_count": 22,
      "outputs": [
        {
          "output_type": "stream",
          "name": "stdout",
          "text": [
            "=== Generation: 0 === \n",
            "Fitness: [307.35715335]\n",
            "Best individual:\n",
            "Kappa: 0.09894108532412162\n",
            "Mu: 0.8396989041806885\n",
            "Omega: 0.944531652114945\n",
            "\n",
            "=== Generation: 1 === \n",
            "Fitness: [309.6284247]\n",
            "Best individual:\n",
            "Kappa: 0.10118828203525057\n",
            "Mu: 0.7684476054186439\n",
            "Omega: 0.9486679840952398\n",
            "\n",
            "=== Generation: 2 === \n",
            "Fitness: [321.89714494]\n",
            "Best individual:\n",
            "Kappa: 0.10132542070714827\n",
            "Mu: 0.7857302741372602\n",
            "Omega: 0.9859027695727196\n",
            "\n",
            "=== Generation: 3 === \n",
            "Fitness: [324.30683257]\n",
            "Best individual:\n",
            "Kappa: 0.05945151428545724\n",
            "Mu: 0.8018284225997224\n",
            "Omega: 0.9828219765032611\n",
            "\n",
            "=== Generation: 4 === \n",
            "Fitness: [324.85145485]\n",
            "Best individual:\n",
            "Kappa: 0.057336054472141074\n",
            "Mu: 0.7900969159278893\n",
            "Omega: 0.9861759464652484\n",
            "\n",
            "=== Generation: 5 === \n",
            "Fitness: [325.05085542]\n",
            "Best individual:\n",
            "Kappa: 0.054573883687465886\n",
            "Mu: 0.7926260552990715\n",
            "Omega: 0.986727107116343\n",
            "\n",
            "=== Generation: 6 === \n",
            "Fitness: [325.0509373]\n",
            "Best individual:\n",
            "Kappa: 0.05369118770783353\n",
            "Mu: 0.7910366180309373\n",
            "Omega: 0.9847061387706695\n",
            "\n",
            "=== Generation: 7 === \n",
            "Fitness: [325.12536512]\n",
            "Best individual:\n",
            "Kappa: 0.053324399122424274\n",
            "Mu: 0.7936710380697432\n",
            "Omega: 0.984992479142203\n",
            "\n",
            "=== Generation: 8 === \n",
            "Fitness: [325.10033102]\n",
            "Best individual:\n",
            "Kappa: 0.05345199987349458\n",
            "Mu: 0.7934450927156593\n",
            "Omega: 0.9819236531751203\n",
            "\n",
            "=== Generation: 9 === \n",
            "Fitness: [325.12621138]\n",
            "Best individual:\n",
            "Kappa: 0.05316041442872546\n",
            "Mu: 0.7948397446842547\n",
            "Omega: 0.9832847695260996\n",
            "\n",
            "=== Generation: 10 === \n",
            "Fitness: [325.19051917]\n",
            "Best individual:\n",
            "Kappa: 0.05153525418580499\n",
            "Mu: 0.793197618462278\n",
            "Omega: 0.9862458433301551\n",
            "\n",
            "=== Generation: 11 === \n",
            "Fitness: [325.11805446]\n",
            "Best individual:\n",
            "Kappa: 0.052815717655743805\n",
            "Mu: 0.7920075502841197\n",
            "Omega: 0.9838173048207504\n",
            "\n",
            "=== Generation: 12 === \n",
            "Fitness: [325.24870652]\n",
            "Best individual:\n",
            "Kappa: 0.050186889099303716\n",
            "Mu: 0.7931617758867227\n",
            "Omega: 0.9832762682196208\n",
            "\n",
            "=== Generation: 13 === \n",
            "Fitness: [325.24974588]\n",
            "Best individual:\n",
            "Kappa: 0.050206815944631375\n",
            "Mu: 0.7947774832813923\n",
            "Omega: 0.9829578333445986\n",
            "\n",
            "=== Generation: 14 === \n",
            "Fitness: [325.22696857]\n",
            "Best individual:\n",
            "Kappa: 0.050004619396296114\n",
            "Mu: 0.7955350432607438\n",
            "Omega: 0.9809414039632381\n",
            "\n",
            "=== Generation: 15 === \n",
            "Fitness: [325.21757412]\n",
            "Best individual:\n",
            "Kappa: 0.05078010878656195\n",
            "Mu: 0.7940447454763236\n",
            "Omega: 0.986233422184203\n",
            "\n",
            "=== Generation: 16 === \n",
            "Fitness: [325.2706452]\n",
            "Best individual:\n",
            "Kappa: 0.04987071559143116\n",
            "Mu: 0.7939057674533936\n",
            "Omega: 0.9836870333578361\n",
            "\n",
            "=== Generation: 17 === \n",
            "Fitness: [325.30826427]\n",
            "Best individual:\n",
            "Kappa: 0.04790136956809906\n",
            "Mu: 0.7918095795366722\n",
            "Omega: 0.9871782142655584\n",
            "\n",
            "=== Generation: 18 === \n",
            "Fitness: [325.30528815]\n",
            "Best individual:\n",
            "Kappa: 0.048843146177747356\n",
            "Mu: 0.7930604815050817\n",
            "Omega: 0.9839029375401952\n",
            "\n",
            "=== Generation: 19 === \n",
            "Fitness: [325.43350995]\n",
            "Best individual:\n",
            "Kappa: 0.0453314262570418\n",
            "Mu: 0.7926989867483826\n",
            "Omega: 0.9858893594504613\n",
            "\n",
            "=== Generation: 20 === \n",
            "Fitness: [325.40613518]\n",
            "Best individual:\n",
            "Kappa: 0.04620522062283907\n",
            "Mu: 0.794915877010067\n",
            "Omega: 0.9841255881705846\n",
            "\n",
            "=== Generation: 21 === \n",
            "Fitness: [325.40480325]\n",
            "Best individual:\n",
            "Kappa: 0.046262703955363346\n",
            "Mu: 0.7935613485540804\n",
            "Omega: 0.9858818569612232\n",
            "\n",
            "=== Generation: 22 === \n",
            "Fitness: [325.39370855]\n",
            "Best individual:\n",
            "Kappa: 0.04608314894998725\n",
            "Mu: 0.7937997754085053\n",
            "Omega: 0.9817203130311449\n",
            "\n",
            "=== Generation: 23 === \n",
            "Fitness: [325.3774669]\n",
            "Best individual:\n",
            "Kappa: 0.04457267655531232\n",
            "Mu: 0.7906394621313116\n",
            "Omega: 0.9842958224114702\n",
            "\n",
            "=== Generation: 24 === \n",
            "Fitness: [325.45232594]\n",
            "Best individual:\n",
            "Kappa: 0.04323163653812583\n",
            "Mu: 0.7967494655541201\n",
            "Omega: 0.9807910800371183\n",
            "\n",
            "=== Generation: 25 === \n",
            "Fitness: [325.45455721]\n",
            "Best individual:\n",
            "Kappa: 0.04360235436404545\n",
            "Mu: 0.7927486246756479\n",
            "Omega: 0.9815862828731807\n",
            "\n",
            "=== Generation: 26 === \n",
            "Fitness: [325.49664496]\n",
            "Best individual:\n",
            "Kappa: 0.04373766588170705\n",
            "Mu: 0.7948024146352382\n",
            "Omega: 0.9829563728852027\n",
            "\n",
            "=== Generation: 27 === \n",
            "Fitness: [325.46960665]\n",
            "Best individual:\n",
            "Kappa: 0.04468647117979254\n",
            "Mu: 0.7940792847898759\n",
            "Omega: 0.9837570920924273\n",
            "\n",
            "=== Generation: 28 === \n",
            "Fitness: [325.51405233]\n",
            "Best individual:\n",
            "Kappa: 0.04272264498333936\n",
            "Mu: 0.7921548229654527\n",
            "Omega: 0.984739181658192\n",
            "\n",
            "=== Generation: 29 === \n",
            "Fitness: [325.49053116]\n",
            "Best individual:\n",
            "Kappa: 0.04385796779077873\n",
            "Mu: 0.7927897225730355\n",
            "Omega: 0.9850366415533074\n",
            "\n",
            "=== Generation: 30 === \n",
            "Fitness: [325.51482229]\n",
            "Best individual:\n",
            "Kappa: 0.042227332703651164\n",
            "Mu: 0.7963297562407732\n",
            "Omega: 0.9835716806797933\n",
            "\n",
            "=== Generation: 31 === \n",
            "Fitness: [325.57091105]\n",
            "Best individual:\n",
            "Kappa: 0.041287270135423805\n",
            "Mu: 0.7943301496982608\n",
            "Omega: 0.9819408362245714\n",
            "\n",
            "=== Generation: 32 === \n",
            "Fitness: [325.55618648]\n",
            "Best individual:\n",
            "Kappa: 0.04189426064214782\n",
            "Mu: 0.7927870471189828\n",
            "Omega: 0.9842920157346468\n",
            "\n",
            "=== Generation: 33 === \n",
            "Fitness: [325.60229279]\n",
            "Best individual:\n",
            "Kappa: 0.04091050763583903\n",
            "Mu: 0.7941491522160944\n",
            "Omega: 0.9844979670970777\n",
            "\n",
            "=== Generation: 34 === \n",
            "Fitness: [325.57597534]\n",
            "Best individual:\n",
            "Kappa: 0.04140622073139193\n",
            "Mu: 0.7936628079286633\n",
            "Omega: 0.9862099411774061\n",
            "\n",
            "=== Generation: 35 === \n",
            "Fitness: [325.60227774]\n",
            "Best individual:\n",
            "Kappa: 0.04059168193233159\n",
            "Mu: 0.7951149621485666\n",
            "Omega: 0.9843868292474474\n",
            "\n",
            "=== Generation: 36 === \n",
            "Fitness: [325.59028298]\n",
            "Best individual:\n",
            "Kappa: 0.040679957065474746\n",
            "Mu: 0.7923584873056222\n",
            "Omega: 0.9853996252931913\n",
            "\n",
            "=== Generation: 37 === \n",
            "Fitness: [325.58036538]\n",
            "Best individual:\n",
            "Kappa: 0.03950478239117798\n",
            "Mu: 0.7914782308884072\n",
            "Omega: 0.9884297443094118\n",
            "\n",
            "=== Generation: 38 === \n",
            "Fitness: [325.65034877]\n",
            "Best individual:\n",
            "Kappa: 0.03818224812156266\n",
            "Mu: 0.7953717272543115\n",
            "Omega: 0.986394190470986\n",
            "\n",
            "=== Generation: 39 === \n",
            "Fitness: [325.60442992]\n",
            "Best individual:\n",
            "Kappa: 0.04021571889089408\n",
            "Mu: 0.7956826479606114\n",
            "Omega: 0.9832219208922788\n",
            "\n",
            "=== Generation: 40 === \n",
            "Fitness: [325.6930941]\n",
            "Best individual:\n",
            "Kappa: 0.03800333794892813\n",
            "Mu: 0.7944640632886025\n",
            "Omega: 0.983420882747909\n",
            "\n",
            "=== Generation: 41 === \n",
            "Fitness: [325.65284992]\n",
            "Best individual:\n",
            "Kappa: 0.039166775335306526\n",
            "Mu: 0.7949230338493557\n",
            "Omega: 0.9834141522830252\n",
            "\n",
            "=== Generation: 42 === \n",
            "Fitness: [325.63779986]\n",
            "Best individual:\n",
            "Kappa: 0.03854528765896411\n",
            "Mu: 0.7925942358643548\n",
            "Omega: 0.98808781732632\n",
            "\n",
            "=== Generation: 43 === \n",
            "Fitness: [325.6566761]\n",
            "Best individual:\n",
            "Kappa: 0.03895515410310035\n",
            "Mu: 0.7941222310191917\n",
            "Omega: 0.9860480391948746\n",
            "\n",
            "=== Generation: 44 === \n",
            "Fitness: [325.69593008]\n",
            "Best individual:\n",
            "Kappa: 0.03736738968062411\n",
            "Mu: 0.7924774487457023\n",
            "Omega: 0.9862340462269213\n",
            "\n",
            "=== Generation: 45 === \n",
            "Fitness: [325.68432814]\n",
            "Best individual:\n",
            "Kappa: 0.03738534839194749\n",
            "Mu: 0.7927972203986726\n",
            "Omega: 0.9876252770411238\n",
            "\n",
            "=== Generation: 46 === \n",
            "Fitness: [325.71594677]\n",
            "Best individual:\n",
            "Kappa: 0.03610359474831887\n",
            "Mu: 0.7960718923380437\n",
            "Omega: 0.9817368088560733\n",
            "\n",
            "=== Generation: 47 === \n",
            "Fitness: [325.73898409]\n",
            "Best individual:\n",
            "Kappa: 0.03658712073866371\n",
            "Mu: 0.7937800615927081\n",
            "Omega: 0.9850597307817003\n",
            "\n",
            "=== Generation: 48 === \n",
            "Fitness: [325.76023816]\n",
            "Best individual:\n",
            "Kappa: 0.035240391411772654\n",
            "Mu: 0.7931472490089833\n",
            "Omega: 0.9870287248198046\n",
            "\n",
            "=== Generation: 49 === \n",
            "Fitness: [325.73967606]\n",
            "Best individual:\n",
            "Kappa: 0.036384849881941496\n",
            "Mu: 0.794552477665759\n",
            "Omega: 0.9853214844351362\n",
            "\n",
            "=== Generation: 50 === \n",
            "Fitness: [325.75978548]\n",
            "Best individual:\n",
            "Kappa: 0.03519323899940381\n",
            "Mu: 0.7955080258020186\n",
            "Omega: 0.9849148327653445\n",
            "\n",
            "=== Generation: 51 === \n",
            "Fitness: [325.78295694]\n",
            "Best individual:\n",
            "Kappa: 0.03502277234122193\n",
            "Mu: 0.7946688702946344\n",
            "Omega: 0.9837491172666261\n",
            "\n",
            "=== Generation: 52 === \n",
            "Fitness: [325.78135147]\n",
            "Best individual:\n",
            "Kappa: 0.0343155864730956\n",
            "Mu: 0.7933358019470078\n",
            "Omega: 0.9825707559925323\n",
            "\n",
            "=== Generation: 53 === \n",
            "Fitness: [325.77124659]\n",
            "Best individual:\n",
            "Kappa: 0.034700442846254065\n",
            "Mu: 0.7927447014064605\n",
            "Omega: 0.9835953874348949\n",
            "\n",
            "=== Generation: 54 === \n",
            "Fitness: [325.77440693]\n",
            "Best individual:\n",
            "Kappa: 0.03424397400099963\n",
            "Mu: 0.7958323339649256\n",
            "Omega: 0.9816887775538148\n",
            "\n",
            "=== Generation: 55 === \n",
            "Fitness: [325.79431685]\n",
            "Best individual:\n",
            "Kappa: 0.03456209298896188\n",
            "Mu: 0.7932656990214856\n",
            "Omega: 0.9852832034462392\n",
            "\n",
            "=== Generation: 56 === \n",
            "Fitness: [325.82259764]\n",
            "Best individual:\n",
            "Kappa: 0.03340232943015446\n",
            "Mu: 0.7951942193314101\n",
            "Omega: 0.9836120978433472\n",
            "\n",
            "=== Generation: 57 === \n",
            "Fitness: [325.79544602]\n",
            "Best individual:\n",
            "Kappa: 0.03469987730482403\n",
            "Mu: 0.7940149713135548\n",
            "Omega: 0.9846562024925266\n",
            "\n",
            "=== Generation: 58 === \n",
            "Fitness: [325.80129087]\n",
            "Best individual:\n",
            "Kappa: 0.03439491785982419\n",
            "Mu: 0.7935680778637604\n",
            "Omega: 0.9843251552685814\n",
            "\n",
            "=== Generation: 59 === \n",
            "Fitness: [325.81117145]\n",
            "Best individual:\n",
            "Kappa: 0.03388407604054239\n",
            "Mu: 0.7943840208519556\n",
            "Omega: 0.9857250269225005\n",
            "\n",
            "=== Generation: 60 === \n",
            "Fitness: [325.81550351]\n",
            "Best individual:\n",
            "Kappa: 0.03304599917416134\n",
            "Mu: 0.7922827938663437\n",
            "Omega: 0.9863664703053494\n",
            "\n",
            "=== Generation: 61 === \n",
            "Fitness: [325.84802059]\n",
            "Best individual:\n",
            "Kappa: 0.032569397056412076\n",
            "Mu: 0.7947754142065682\n",
            "Omega: 0.9850869296167402\n",
            "\n",
            "=== Generation: 62 === \n",
            "Fitness: [325.85131386]\n",
            "Best individual:\n",
            "Kappa: 0.031982028032655645\n",
            "Mu: 0.7926096810835291\n",
            "Omega: 0.9862999867990929\n",
            "\n",
            "=== Generation: 63 === \n",
            "Fitness: [325.84706266]\n",
            "Best individual:\n",
            "Kappa: 0.03266652262283407\n",
            "Mu: 0.7932983461993908\n",
            "Omega: 0.9848112555993389\n",
            "\n",
            "=== Generation: 64 === \n",
            "Fitness: [325.88203744]\n",
            "Best individual:\n",
            "Kappa: 0.031469250074015506\n",
            "Mu: 0.7938182321600693\n",
            "Omega: 0.9853225922078738\n",
            "\n",
            "=== Generation: 65 === \n",
            "Fitness: [325.86449481]\n",
            "Best individual:\n",
            "Kappa: 0.03100395908909031\n",
            "Mu: 0.7930018697063498\n",
            "Omega: 0.9877706321722199\n",
            "\n",
            "=== Generation: 66 === \n",
            "Fitness: [325.88718211]\n",
            "Best individual:\n",
            "Kappa: 0.0306560603980435\n",
            "Mu: 0.7955890882187595\n",
            "Omega: 0.9843025031113481\n",
            "\n",
            "=== Generation: 67 === \n",
            "Fitness: [325.89910203]\n",
            "Best individual:\n",
            "Kappa: 0.030739150647761875\n",
            "Mu: 0.7934503540787633\n",
            "Omega: 0.985222641431968\n",
            "\n",
            "=== Generation: 68 === \n",
            "Fitness: [325.86002667]\n",
            "Best individual:\n",
            "Kappa: 0.03190861266985078\n",
            "Mu: 0.7929513258678856\n",
            "Omega: 0.9860890349451517\n",
            "\n",
            "=== Generation: 69 === \n",
            "Fitness: [325.90294545]\n",
            "Best individual:\n",
            "Kappa: 0.030250937339249925\n",
            "Mu: 0.7952704878303387\n",
            "Omega: 0.9831030209548441\n",
            "\n",
            "=== Generation: 70 === \n",
            "Fitness: [325.87923323]\n",
            "Best individual:\n",
            "Kappa: 0.02986191961299685\n",
            "Mu: 0.7929948115855739\n",
            "Omega: 0.9821429494976917\n",
            "\n",
            "=== Generation: 71 === \n",
            "Fitness: [325.89214069]\n",
            "Best individual:\n",
            "Kappa: 0.03093961376412553\n",
            "Mu: 0.7936894283896326\n",
            "Omega: 0.9837927028803156\n",
            "\n",
            "=== Generation: 72 === \n",
            "Fitness: [325.88119343]\n",
            "Best individual:\n",
            "Kappa: 0.03153195573415172\n",
            "Mu: 0.7938604037353896\n",
            "Omega: 0.9851118073872522\n",
            "\n",
            "=== Generation: 73 === \n",
            "Fitness: [325.90518258]\n",
            "Best individual:\n",
            "Kappa: 0.029921757305953874\n",
            "Mu: 0.7935786233841459\n",
            "Omega: 0.9870441641140522\n",
            "\n",
            "=== Generation: 74 === \n",
            "Fitness: [325.91818921]\n",
            "Best individual:\n",
            "Kappa: 0.03005355589157793\n",
            "Mu: 0.7936849883478239\n",
            "Omega: 0.9846095177700837\n",
            "\n",
            "=== Generation: 75 === \n",
            "Fitness: [325.89940984]\n",
            "Best individual:\n",
            "Kappa: 0.0293779911057347\n",
            "Mu: 0.7963524353418987\n",
            "Omega: 0.9835478461983724\n",
            "\n",
            "=== Generation: 76 === \n",
            "Fitness: [325.94664644]\n",
            "Best individual:\n",
            "Kappa: 0.027444526913396987\n",
            "Mu: 0.7957758888713884\n",
            "Omega: 0.981527467522315\n",
            "\n",
            "=== Generation: 77 === \n",
            "Fitness: [325.9311835]\n",
            "Best individual:\n",
            "Kappa: 0.028679593991017247\n",
            "Mu: 0.7927124784350434\n",
            "Omega: 0.9868999464604602\n",
            "\n",
            "=== Generation: 78 === \n",
            "Fitness: [325.95377621]\n",
            "Best individual:\n",
            "Kappa: 0.027489705667146133\n",
            "Mu: 0.7934222210130604\n",
            "Omega: 0.9876523502231996\n",
            "\n",
            "=== Generation: 79 === \n",
            "Fitness: [325.95481712]\n",
            "Best individual:\n",
            "Kappa: 0.028055685066831457\n",
            "Mu: 0.7944795485948181\n",
            "Omega: 0.9825555098178238\n",
            "\n",
            "=== Generation: 80 === \n",
            "Fitness: [325.96341762]\n",
            "Best individual:\n",
            "Kappa: 0.02801061961824373\n",
            "Mu: 0.7946601087796007\n",
            "Omega: 0.9832852309493436\n",
            "\n",
            "=== Generation: 81 === \n",
            "Fitness: [325.96628065]\n",
            "Best individual:\n",
            "Kappa: 0.027344916281445367\n",
            "Mu: 0.7926043224981331\n",
            "Omega: 0.9857990378819154\n",
            "\n",
            "=== Generation: 82 === \n",
            "Fitness: [325.97476857]\n",
            "Best individual:\n",
            "Kappa: 0.027220857414258764\n",
            "Mu: 0.7952492242215988\n",
            "Omega: 0.9849499656176024\n",
            "\n",
            "=== Generation: 83 === \n",
            "Fitness: [325.96009736]\n",
            "Best individual:\n",
            "Kappa: 0.027533407037192974\n",
            "Mu: 0.7928758388888557\n",
            "Omega: 0.9839470552386198\n",
            "\n",
            "=== Generation: 84 === \n",
            "Fitness: [325.99365531]\n",
            "Best individual:\n",
            "Kappa: 0.02659033051854956\n",
            "Mu: 0.7941288183287143\n",
            "Omega: 0.9831962082202983\n",
            "\n",
            "=== Generation: 85 === \n",
            "Fitness: [325.99608108]\n",
            "Best individual:\n",
            "Kappa: 0.026110712783772277\n",
            "Mu: 0.7943345079180119\n",
            "Omega: 0.9824584781749165\n",
            "\n",
            "=== Generation: 86 === \n",
            "Fitness: [326.00266947]\n",
            "Best individual:\n",
            "Kappa: 0.025623264121413934\n",
            "Mu: 0.7957917190753077\n",
            "Omega: 0.9835097946287495\n",
            "\n",
            "=== Generation: 87 === \n",
            "Fitness: [326.01028013]\n",
            "Best individual:\n",
            "Kappa: 0.026123045948745677\n",
            "Mu: 0.7938961860634907\n",
            "Omega: 0.9843423643509497\n",
            "\n",
            "=== Generation: 88 === \n",
            "Fitness: [326.00294104]\n",
            "Best individual:\n",
            "Kappa: 0.02587678038531645\n",
            "Mu: 0.7944663372426548\n",
            "Omega: 0.9825371907878071\n",
            "\n",
            "=== Generation: 89 === \n",
            "Fitness: [326.01866526]\n",
            "Best individual:\n",
            "Kappa: 0.025151860085013893\n",
            "Mu: 0.7936612514775835\n",
            "Omega: 0.9867981609046074\n",
            "\n",
            "=== Generation: 90 === \n",
            "Fitness: [326.01215906]\n",
            "Best individual:\n",
            "Kappa: 0.025277935189237117\n",
            "Mu: 0.7942550984610328\n",
            "Omega: 0.982398643556207\n",
            "\n",
            "=== Generation: 91 === \n",
            "Fitness: [326.03072743]\n",
            "Best individual:\n",
            "Kappa: 0.025030428495034868\n",
            "Mu: 0.7942168816572144\n",
            "Omega: 0.9835572232746168\n",
            "\n",
            "=== Generation: 92 === \n",
            "Fitness: [326.01167287]\n",
            "Best individual:\n",
            "Kappa: 0.025312863565508725\n",
            "Mu: 0.7956579451718971\n",
            "Omega: 0.9842186488903825\n",
            "\n",
            "=== Generation: 93 === \n",
            "Fitness: [326.0150785]\n",
            "Best individual:\n",
            "Kappa: 0.023393352813077518\n",
            "Mu: 0.7947417323966754\n",
            "Omega: 0.9805865992808296\n",
            "\n",
            "=== Generation: 94 === \n",
            "Fitness: [326.01064899]\n",
            "Best individual:\n",
            "Kappa: 0.025764531870953355\n",
            "Mu: 0.7947701897928388\n",
            "Omega: 0.9855791071478905\n",
            "\n",
            "=== Generation: 95 === \n",
            "Fitness: [326.04658379]\n",
            "Best individual:\n",
            "Kappa: 0.023774619448440455\n",
            "Mu: 0.7928253516255361\n",
            "Omega: 0.9855319952330877\n",
            "\n",
            "=== Generation: 96 === \n",
            "Fitness: [326.03442824]\n",
            "Best individual:\n",
            "Kappa: 0.024976302860788217\n",
            "Mu: 0.7943709229938397\n",
            "Omega: 0.9839324538821014\n",
            "\n",
            "=== Generation: 97 === \n",
            "Fitness: [326.02809691]\n",
            "Best individual:\n",
            "Kappa: 0.02365509041159354\n",
            "Mu: 0.7926878047553282\n",
            "Omega: 0.9878603270744788\n",
            "\n",
            "=== Generation: 98 === \n",
            "Fitness: [326.0443875]\n",
            "Best individual:\n",
            "Kappa: 0.024418967047257857\n",
            "Mu: 0.794134269108594\n",
            "Omega: 0.9837650711190428\n",
            "\n",
            "=== Generation: 99 === \n",
            "Fitness: [326.04795768]\n",
            "Best individual:\n",
            "Kappa: 0.024319346229185544\n",
            "Mu: 0.7944711715119114\n",
            "Omega: 0.9839716206909839\n",
            "\n",
            "==========\n",
            "Max number of generations exceeded!\n",
            "==========\n",
            "\n",
            "Best Fitness: [326.04795768]\n",
            "Best Gen: 99\n",
            "Kappa: 0.024319346229185544\n",
            "Mu: 0.7944711715119114\n",
            "Omega: 0.9839716206909839\n"
          ]
        },
        {
          "output_type": "display_data",
          "data": {
            "text/plain": [
              "<Figure size 720x504 with 0 Axes>"
            ]
          },
          "metadata": {}
        },
        {
          "output_type": "display_data",
          "data": {
            "text/plain": [
              "<Figure size 720x504 with 0 Axes>"
            ]
          },
          "metadata": {}
        },
        {
          "output_type": "display_data",
          "data": {
            "text/plain": [
              "<Figure size 720x504 with 0 Axes>"
            ]
          },
          "metadata": {}
        },
        {
          "output_type": "display_data",
          "data": {
            "text/plain": [
              "<Figure size 720x504 with 0 Axes>"
            ]
          },
          "metadata": {}
        },
        {
          "output_type": "display_data",
          "data": {
            "text/plain": [
              "<Figure size 720x504 with 0 Axes>"
            ]
          },
          "metadata": {}
        },
        {
          "output_type": "display_data",
          "data": {
            "text/plain": [
              "<Figure size 720x504 with 0 Axes>"
            ]
          },
          "metadata": {}
        },
        {
          "output_type": "display_data",
          "data": {
            "text/plain": [
              "<Figure size 720x504 with 0 Axes>"
            ]
          },
          "metadata": {}
        },
        {
          "output_type": "display_data",
          "data": {
            "text/plain": [
              "<Figure size 720x504 with 0 Axes>"
            ]
          },
          "metadata": {}
        },
        {
          "output_type": "display_data",
          "data": {
            "text/plain": [
              "<Figure size 720x504 with 0 Axes>"
            ]
          },
          "metadata": {}
        },
        {
          "output_type": "display_data",
          "data": {
            "text/plain": [
              "<Figure size 720x504 with 0 Axes>"
            ]
          },
          "metadata": {}
        },
        {
          "output_type": "display_data",
          "data": {
            "text/plain": [
              "<Figure size 720x504 with 0 Axes>"
            ]
          },
          "metadata": {}
        },
        {
          "output_type": "display_data",
          "data": {
            "text/plain": [
              "<Figure size 720x504 with 0 Axes>"
            ]
          },
          "metadata": {}
        },
        {
          "output_type": "display_data",
          "data": {
            "text/plain": [
              "<Figure size 720x504 with 0 Axes>"
            ]
          },
          "metadata": {}
        },
        {
          "output_type": "display_data",
          "data": {
            "text/plain": [
              "<Figure size 720x504 with 0 Axes>"
            ]
          },
          "metadata": {}
        },
        {
          "output_type": "display_data",
          "data": {
            "text/plain": [
              "<Figure size 720x504 with 0 Axes>"
            ]
          },
          "metadata": {}
        },
        {
          "output_type": "display_data",
          "data": {
            "text/plain": [
              "<Figure size 720x504 with 0 Axes>"
            ]
          },
          "metadata": {}
        },
        {
          "output_type": "display_data",
          "data": {
            "text/plain": [
              "<Figure size 720x504 with 0 Axes>"
            ]
          },
          "metadata": {}
        },
        {
          "output_type": "display_data",
          "data": {
            "text/plain": [
              "<Figure size 720x504 with 0 Axes>"
            ]
          },
          "metadata": {}
        },
        {
          "output_type": "display_data",
          "data": {
            "text/plain": [
              "<Figure size 720x504 with 0 Axes>"
            ]
          },
          "metadata": {}
        },
        {
          "output_type": "display_data",
          "data": {
            "text/plain": [
              "<Figure size 720x504 with 0 Axes>"
            ]
          },
          "metadata": {}
        },
        {
          "output_type": "display_data",
          "data": {
            "text/plain": [
              "<Figure size 720x504 with 0 Axes>"
            ]
          },
          "metadata": {}
        },
        {
          "output_type": "display_data",
          "data": {
            "text/plain": [
              "<Figure size 720x504 with 0 Axes>"
            ]
          },
          "metadata": {}
        },
        {
          "output_type": "display_data",
          "data": {
            "text/plain": [
              "<Figure size 720x504 with 0 Axes>"
            ]
          },
          "metadata": {}
        },
        {
          "output_type": "display_data",
          "data": {
            "text/plain": [
              "<Figure size 720x504 with 0 Axes>"
            ]
          },
          "metadata": {}
        },
        {
          "output_type": "display_data",
          "data": {
            "text/plain": [
              "<Figure size 720x504 with 0 Axes>"
            ]
          },
          "metadata": {}
        },
        {
          "output_type": "display_data",
          "data": {
            "text/plain": [
              "<Figure size 720x504 with 0 Axes>"
            ]
          },
          "metadata": {}
        },
        {
          "output_type": "display_data",
          "data": {
            "text/plain": [
              "<Figure size 720x504 with 0 Axes>"
            ]
          },
          "metadata": {}
        },
        {
          "output_type": "display_data",
          "data": {
            "text/plain": [
              "<Figure size 720x504 with 0 Axes>"
            ]
          },
          "metadata": {}
        },
        {
          "output_type": "display_data",
          "data": {
            "text/plain": [
              "<Figure size 720x504 with 0 Axes>"
            ]
          },
          "metadata": {}
        },
        {
          "output_type": "display_data",
          "data": {
            "text/plain": [
              "<Figure size 720x504 with 0 Axes>"
            ]
          },
          "metadata": {}
        },
        {
          "output_type": "display_data",
          "data": {
            "text/plain": [
              "<Figure size 720x504 with 0 Axes>"
            ]
          },
          "metadata": {}
        },
        {
          "output_type": "display_data",
          "data": {
            "text/plain": [
              "<Figure size 720x504 with 0 Axes>"
            ]
          },
          "metadata": {}
        },
        {
          "output_type": "display_data",
          "data": {
            "text/plain": [
              "<Figure size 720x504 with 0 Axes>"
            ]
          },
          "metadata": {}
        },
        {
          "output_type": "display_data",
          "data": {
            "text/plain": [
              "<Figure size 720x504 with 0 Axes>"
            ]
          },
          "metadata": {}
        },
        {
          "output_type": "display_data",
          "data": {
            "text/plain": [
              "<Figure size 720x504 with 0 Axes>"
            ]
          },
          "metadata": {}
        },
        {
          "output_type": "display_data",
          "data": {
            "text/plain": [
              "<Figure size 720x504 with 0 Axes>"
            ]
          },
          "metadata": {}
        },
        {
          "output_type": "display_data",
          "data": {
            "text/plain": [
              "<Figure size 720x504 with 0 Axes>"
            ]
          },
          "metadata": {}
        },
        {
          "output_type": "display_data",
          "data": {
            "text/plain": [
              "<Figure size 720x504 with 0 Axes>"
            ]
          },
          "metadata": {}
        },
        {
          "output_type": "display_data",
          "data": {
            "text/plain": [
              "<Figure size 720x504 with 0 Axes>"
            ]
          },
          "metadata": {}
        },
        {
          "output_type": "display_data",
          "data": {
            "text/plain": [
              "<Figure size 720x504 with 0 Axes>"
            ]
          },
          "metadata": {}
        },
        {
          "output_type": "display_data",
          "data": {
            "text/plain": [
              "<Figure size 720x504 with 0 Axes>"
            ]
          },
          "metadata": {}
        },
        {
          "output_type": "display_data",
          "data": {
            "text/plain": [
              "<Figure size 720x504 with 0 Axes>"
            ]
          },
          "metadata": {}
        },
        {
          "output_type": "display_data",
          "data": {
            "text/plain": [
              "<Figure size 720x504 with 0 Axes>"
            ]
          },
          "metadata": {}
        },
        {
          "output_type": "display_data",
          "data": {
            "text/plain": [
              "<Figure size 720x504 with 0 Axes>"
            ]
          },
          "metadata": {}
        },
        {
          "output_type": "display_data",
          "data": {
            "text/plain": [
              "<Figure size 720x504 with 0 Axes>"
            ]
          },
          "metadata": {}
        },
        {
          "output_type": "display_data",
          "data": {
            "text/plain": [
              "<Figure size 720x504 with 0 Axes>"
            ]
          },
          "metadata": {}
        },
        {
          "output_type": "display_data",
          "data": {
            "text/plain": [
              "<Figure size 720x504 with 0 Axes>"
            ]
          },
          "metadata": {}
        },
        {
          "output_type": "display_data",
          "data": {
            "text/plain": [
              "<Figure size 720x504 with 0 Axes>"
            ]
          },
          "metadata": {}
        },
        {
          "output_type": "display_data",
          "data": {
            "text/plain": [
              "<Figure size 720x504 with 0 Axes>"
            ]
          },
          "metadata": {}
        },
        {
          "output_type": "display_data",
          "data": {
            "text/plain": [
              "<Figure size 720x504 with 0 Axes>"
            ]
          },
          "metadata": {}
        },
        {
          "output_type": "display_data",
          "data": {
            "text/plain": [
              "<Figure size 720x504 with 0 Axes>"
            ]
          },
          "metadata": {}
        },
        {
          "output_type": "display_data",
          "data": {
            "text/plain": [
              "<Figure size 720x504 with 0 Axes>"
            ]
          },
          "metadata": {}
        },
        {
          "output_type": "display_data",
          "data": {
            "text/plain": [
              "<Figure size 720x504 with 0 Axes>"
            ]
          },
          "metadata": {}
        },
        {
          "output_type": "display_data",
          "data": {
            "text/plain": [
              "<Figure size 720x504 with 0 Axes>"
            ]
          },
          "metadata": {}
        },
        {
          "output_type": "display_data",
          "data": {
            "text/plain": [
              "<Figure size 720x504 with 0 Axes>"
            ]
          },
          "metadata": {}
        },
        {
          "output_type": "display_data",
          "data": {
            "text/plain": [
              "<Figure size 720x504 with 0 Axes>"
            ]
          },
          "metadata": {}
        },
        {
          "output_type": "display_data",
          "data": {
            "text/plain": [
              "<Figure size 720x504 with 0 Axes>"
            ]
          },
          "metadata": {}
        },
        {
          "output_type": "display_data",
          "data": {
            "text/plain": [
              "<Figure size 720x504 with 0 Axes>"
            ]
          },
          "metadata": {}
        },
        {
          "output_type": "display_data",
          "data": {
            "text/plain": [
              "<Figure size 720x504 with 0 Axes>"
            ]
          },
          "metadata": {}
        },
        {
          "output_type": "display_data",
          "data": {
            "text/plain": [
              "<Figure size 720x504 with 0 Axes>"
            ]
          },
          "metadata": {}
        },
        {
          "output_type": "display_data",
          "data": {
            "text/plain": [
              "<Figure size 720x504 with 0 Axes>"
            ]
          },
          "metadata": {}
        },
        {
          "output_type": "display_data",
          "data": {
            "text/plain": [
              "<Figure size 720x504 with 0 Axes>"
            ]
          },
          "metadata": {}
        },
        {
          "output_type": "display_data",
          "data": {
            "text/plain": [
              "<Figure size 720x504 with 0 Axes>"
            ]
          },
          "metadata": {}
        },
        {
          "output_type": "display_data",
          "data": {
            "text/plain": [
              "<Figure size 720x504 with 0 Axes>"
            ]
          },
          "metadata": {}
        },
        {
          "output_type": "display_data",
          "data": {
            "text/plain": [
              "<Figure size 720x504 with 0 Axes>"
            ]
          },
          "metadata": {}
        },
        {
          "output_type": "display_data",
          "data": {
            "text/plain": [
              "<Figure size 720x504 with 0 Axes>"
            ]
          },
          "metadata": {}
        },
        {
          "output_type": "display_data",
          "data": {
            "text/plain": [
              "<Figure size 720x504 with 0 Axes>"
            ]
          },
          "metadata": {}
        },
        {
          "output_type": "display_data",
          "data": {
            "text/plain": [
              "<Figure size 720x504 with 0 Axes>"
            ]
          },
          "metadata": {}
        },
        {
          "output_type": "display_data",
          "data": {
            "text/plain": [
              "<Figure size 720x504 with 0 Axes>"
            ]
          },
          "metadata": {}
        },
        {
          "output_type": "display_data",
          "data": {
            "text/plain": [
              "<Figure size 720x504 with 0 Axes>"
            ]
          },
          "metadata": {}
        },
        {
          "output_type": "display_data",
          "data": {
            "text/plain": [
              "<Figure size 720x504 with 0 Axes>"
            ]
          },
          "metadata": {}
        },
        {
          "output_type": "display_data",
          "data": {
            "text/plain": [
              "<Figure size 720x504 with 0 Axes>"
            ]
          },
          "metadata": {}
        },
        {
          "output_type": "display_data",
          "data": {
            "text/plain": [
              "<Figure size 720x504 with 0 Axes>"
            ]
          },
          "metadata": {}
        },
        {
          "output_type": "display_data",
          "data": {
            "text/plain": [
              "<Figure size 720x504 with 0 Axes>"
            ]
          },
          "metadata": {}
        },
        {
          "output_type": "display_data",
          "data": {
            "text/plain": [
              "<Figure size 720x504 with 0 Axes>"
            ]
          },
          "metadata": {}
        },
        {
          "output_type": "display_data",
          "data": {
            "text/plain": [
              "<Figure size 720x504 with 0 Axes>"
            ]
          },
          "metadata": {}
        },
        {
          "output_type": "display_data",
          "data": {
            "text/plain": [
              "<Figure size 720x504 with 0 Axes>"
            ]
          },
          "metadata": {}
        },
        {
          "output_type": "display_data",
          "data": {
            "text/plain": [
              "<Figure size 720x504 with 0 Axes>"
            ]
          },
          "metadata": {}
        },
        {
          "output_type": "display_data",
          "data": {
            "text/plain": [
              "<Figure size 720x504 with 0 Axes>"
            ]
          },
          "metadata": {}
        },
        {
          "output_type": "display_data",
          "data": {
            "text/plain": [
              "<Figure size 720x504 with 0 Axes>"
            ]
          },
          "metadata": {}
        },
        {
          "output_type": "display_data",
          "data": {
            "text/plain": [
              "<Figure size 720x504 with 0 Axes>"
            ]
          },
          "metadata": {}
        },
        {
          "output_type": "display_data",
          "data": {
            "text/plain": [
              "<Figure size 720x504 with 0 Axes>"
            ]
          },
          "metadata": {}
        },
        {
          "output_type": "display_data",
          "data": {
            "text/plain": [
              "<Figure size 720x504 with 0 Axes>"
            ]
          },
          "metadata": {}
        },
        {
          "output_type": "display_data",
          "data": {
            "text/plain": [
              "<Figure size 720x504 with 0 Axes>"
            ]
          },
          "metadata": {}
        },
        {
          "output_type": "display_data",
          "data": {
            "text/plain": [
              "<Figure size 720x504 with 0 Axes>"
            ]
          },
          "metadata": {}
        },
        {
          "output_type": "display_data",
          "data": {
            "text/plain": [
              "<Figure size 720x504 with 0 Axes>"
            ]
          },
          "metadata": {}
        },
        {
          "output_type": "display_data",
          "data": {
            "text/plain": [
              "<Figure size 720x504 with 0 Axes>"
            ]
          },
          "metadata": {}
        },
        {
          "output_type": "display_data",
          "data": {
            "text/plain": [
              "<Figure size 720x504 with 0 Axes>"
            ]
          },
          "metadata": {}
        },
        {
          "output_type": "display_data",
          "data": {
            "text/plain": [
              "<Figure size 720x504 with 0 Axes>"
            ]
          },
          "metadata": {}
        },
        {
          "output_type": "display_data",
          "data": {
            "text/plain": [
              "<Figure size 720x504 with 0 Axes>"
            ]
          },
          "metadata": {}
        },
        {
          "output_type": "display_data",
          "data": {
            "text/plain": [
              "<Figure size 720x504 with 0 Axes>"
            ]
          },
          "metadata": {}
        },
        {
          "output_type": "display_data",
          "data": {
            "text/plain": [
              "<Figure size 720x504 with 0 Axes>"
            ]
          },
          "metadata": {}
        },
        {
          "output_type": "display_data",
          "data": {
            "text/plain": [
              "<Figure size 720x504 with 0 Axes>"
            ]
          },
          "metadata": {}
        },
        {
          "output_type": "display_data",
          "data": {
            "text/plain": [
              "<Figure size 720x504 with 0 Axes>"
            ]
          },
          "metadata": {}
        },
        {
          "output_type": "display_data",
          "data": {
            "text/plain": [
              "<Figure size 720x504 with 0 Axes>"
            ]
          },
          "metadata": {}
        },
        {
          "output_type": "display_data",
          "data": {
            "text/plain": [
              "<Figure size 720x504 with 0 Axes>"
            ]
          },
          "metadata": {}
        },
        {
          "output_type": "display_data",
          "data": {
            "text/plain": [
              "<Figure size 720x504 with 0 Axes>"
            ]
          },
          "metadata": {}
        },
        {
          "output_type": "display_data",
          "data": {
            "text/plain": [
              "<Figure size 720x504 with 0 Axes>"
            ]
          },
          "metadata": {}
        },
        {
          "output_type": "display_data",
          "data": {
            "text/plain": [
              "<Figure size 720x504 with 0 Axes>"
            ]
          },
          "metadata": {}
        },
        {
          "output_type": "display_data",
          "data": {
            "text/plain": [
              "<Figure size 720x504 with 0 Axes>"
            ]
          },
          "metadata": {}
        }
      ]
    },
    {
      "cell_type": "code",
      "source": [
        "kappa_hat, mu_hat, omega_hat"
      ],
      "metadata": {
        "colab": {
          "base_uri": "https://localhost:8080/"
        },
        "id": "nZEGwITLD38n",
        "outputId": "f7d0b697-c2be-45e5-813a-d5f75820b826"
      },
      "execution_count": 23,
      "outputs": [
        {
          "output_type": "execute_result",
          "data": {
            "text/plain": [
              "(0.024319346229185544, 0.7944711715119114, 0.9839716206909839)"
            ]
          },
          "metadata": {},
          "execution_count": 23
        }
      ]
    },
    {
      "cell_type": "code",
      "source": [
        "k_u_pdf = computePDF(Xdata, mle_kappa_mu[0], mle_kappa_mu[1], mle_kappa_mu[2])\n",
        "plt.figure(figsize=((10,7)))\n",
        "plt.scatter(Xdata, Ydata, c='black', label='Real Data')\n",
        "plt.plot(Xdata, k_u_pdf, c='blue', label=r'$\\kappa$-$\\mu$ MLE')\n",
        "plt.plot(Xdata, computePDF(Xdata, kappa_hat, mu_hat, omega_hat), label='$\\kappa$-$\\mu$ GA (MSE)', c='red')\n",
        "plt.title(f'Best GA Fit')\n",
        "plt.legend()\n",
        "plt.grid(True)\n",
        "plt.xlabel(r'mV')\n",
        "plt.ylabel('pdf')\n",
        "plt.show()\n",
        "\n",
        "plt.figure(figsize=((10,7)))\n",
        "plt.scatter(Xdata, Ydata, c='black', label='Real Data')\n",
        "plt.plot(Xdata, k_u_pdf, c='blue', label=r'$\\kappa$-$\\mu$ MLE')\n",
        "plt.plot(Xdata, computePDF(Xdata, kappa_hat, mu_hat, omega_hat), label='$\\kappa$-$\\mu$ GA (MSE)', c='red')\n",
        "plt.title(f'Best GA Fit (Zoomed)')\n",
        "plt.legend()\n",
        "plt.grid(True)\n",
        "plt.xlabel(r'mV')\n",
        "plt.ylabel('pdf')\n",
        "plt.ylim([.6, .85])\n",
        "plt.xlim([0, 1])\n",
        "plt.show()"
      ],
      "metadata": {
        "colab": {
          "base_uri": "https://localhost:8080/",
          "height": 899
        },
        "id": "Njx2FJOOEOZn",
        "outputId": "19ce3b1c-5ff2-4226-8f7d-88764176471f"
      },
      "execution_count": 45,
      "outputs": [
        {
          "output_type": "display_data",
          "data": {
            "text/plain": [
              "<Figure size 720x504 with 1 Axes>"
            ],
            "image/png": "[encoded data removed]"
          },
          "metadata": {
            "needs_background": "light"
          }
        },
        {
          "output_type": "display_data",
          "data": {
            "text/plain": [
              "<Figure size 720x504 with 1 Axes>"
            ],
            "image/png": "[encoded data removed]"
          },
          "metadata": {
            "needs_background": "light"
          }
        }
      ]
    },
    {
      "cell_type": "markdown",
      "source": [
        "### GA: $\\kappa$-$\\mu$ (RAD) fit"
      ],
      "metadata": {
        "id": "5pemIzw8VPqV"
      }
    },
    {
      "cell_type": "code",
      "source": [
        "fitnessType = 'RAD'\n",
        "# X, Y = getDensityEstimationSamples(pathAB_linear[nAP].dropna(), nExtractedSamples)\n",
        "kappa_hat_rad, mu_hat_rad, omega_hat_rad = geneticAlgorithm(Xdata, Ydata, mle_kappa_mu)"
      ],
      "metadata": {
        "id": "_2MEaaEjbCAz",
        "colab": {
          "base_uri": "https://localhost:8080/",
          "height": 1000
        },
        "outputId": "7fac769e-9745-4aa0-8ab9-11fa76044e35"
      },
      "execution_count": 25,
      "outputs": [
        {
          "output_type": "stream",
          "name": "stderr",
          "text": [
            "/usr/local/lib/python3.7/dist-packages/ipykernel_launcher.py:32: RuntimeWarning: divide by zero encountered in log2\n",
            "/usr/local/lib/python3.7/dist-packages/ipykernel_launcher.py:32: RuntimeWarning: invalid value encountered in multiply\n"
          ]
        },
        {
          "output_type": "stream",
          "name": "stdout",
          "text": [
            "=== Generation: 0 === \n",
            "Fitness: 7.659344517465317\n",
            "Best individual:\n",
            "Kappa: 1.4240217600222773\n",
            "Mu: 0.5706801388436423\n",
            "Omega: 0.888134686911024\n",
            "\n"
          ]
        },
        {
          "output_type": "stream",
          "name": "stderr",
          "text": [
            "/usr/local/lib/python3.7/dist-packages/ipykernel_launcher.py:32: RuntimeWarning: divide by zero encountered in log2\n",
            "/usr/local/lib/python3.7/dist-packages/ipykernel_launcher.py:32: RuntimeWarning: invalid value encountered in multiply\n"
          ]
        },
        {
          "output_type": "stream",
          "name": "stdout",
          "text": [
            "=== Generation: 1 === \n",
            "Fitness: 12.484335158177307\n",
            "Best individual:\n",
            "Kappa: 0.17393728690659968\n",
            "Mu: 0.6817026517344316\n",
            "Omega: 0.9319954218624886\n",
            "\n"
          ]
        },
        {
          "output_type": "stream",
          "name": "stderr",
          "text": [
            "/usr/local/lib/python3.7/dist-packages/ipykernel_launcher.py:32: RuntimeWarning: divide by zero encountered in log2\n",
            "/usr/local/lib/python3.7/dist-packages/ipykernel_launcher.py:32: RuntimeWarning: invalid value encountered in multiply\n"
          ]
        },
        {
          "output_type": "stream",
          "name": "stdout",
          "text": [
            "=== Generation: 2 === \n",
            "Fitness: 13.624792129561357\n",
            "Best individual:\n",
            "Kappa: 0.05710216873955773\n",
            "Mu: 0.8147379785405846\n",
            "Omega: 0.966597217314518\n",
            "\n",
            "=== Generation: 3 === \n",
            "Fitness: 15.728474068521916\n",
            "Best individual:\n",
            "Kappa: 0.055256302820135106\n",
            "Mu: 0.7296421901899017\n",
            "Omega: 1.0194549826843886\n",
            "\n",
            "=== Generation: 4 === \n",
            "Fitness: 16.582011470729974\n",
            "Best individual:\n",
            "Kappa: 0.05372600938722989\n",
            "Mu: 0.7337095200246501\n",
            "Omega: 1.0510650302673252\n",
            "\n",
            "=== Generation: 5 === \n",
            "Fitness: 17.14884460574514\n",
            "Best individual:\n",
            "Kappa: 0.05419733954884094\n",
            "Mu: 0.7362389970038832\n",
            "Omega: 1.0737208812472412\n",
            "\n",
            "=== Generation: 6 === \n",
            "Fitness: 17.57543342236977\n",
            "Best individual:\n",
            "Kappa: 0.055245865334943085\n",
            "Mu: 0.7193707427603558\n",
            "Omega: 1.0900572037138134\n",
            "\n",
            "=== Generation: 7 === \n",
            "Fitness: 18.317154428001828\n",
            "Best individual:\n",
            "Kappa: 0.054997015987788965\n",
            "Mu: 0.7316428863137091\n",
            "Omega: 1.1230945896765638\n",
            "\n",
            "=== Generation: 8 === \n",
            "Fitness: 18.875461235212683\n",
            "Best individual:\n",
            "Kappa: 0.055090845925003025\n",
            "Mu: 0.7195308114436101\n",
            "Omega: 1.147014520823344\n",
            "\n",
            "=== Generation: 9 === \n",
            "Fitness: 19.39701214190547\n",
            "Best individual:\n",
            "Kappa: 0.0541268478555404\n",
            "Mu: 0.7098970023991302\n",
            "Omega: 1.1725198292284122\n",
            "\n",
            "=== Generation: 10 === \n",
            "Fitness: 19.85473017458791\n",
            "Best individual:\n",
            "Kappa: 0.0564128198566228\n",
            "Mu: 0.7109003359392518\n",
            "Omega: 1.1983480073438795\n",
            "\n",
            "=== Generation: 11 === \n",
            "Fitness: 20.296283477200326\n",
            "Best individual:\n",
            "Kappa: 0.056608168168396915\n",
            "Mu: 0.6995571537745165\n",
            "Omega: 1.2260786028368142\n",
            "\n",
            "=== Generation: 12 === \n",
            "Fitness: 20.696425772306736\n",
            "Best individual:\n",
            "Kappa: 0.05470519057277917\n",
            "Mu: 0.7025470889692379\n",
            "Omega: 1.2545239557379733\n",
            "\n",
            "=== Generation: 13 === \n",
            "Fitness: 21.002408233900095\n",
            "Best individual:\n",
            "Kappa: 0.05198431322649903\n",
            "Mu: 0.7007670163991483\n",
            "Omega: 1.2807533724208726\n",
            "\n",
            "=== Generation: 14 === \n",
            "Fitness: 21.281751321458326\n",
            "Best individual:\n",
            "Kappa: 0.05117791665027891\n",
            "Mu: 0.6811925693173454\n",
            "Omega: 1.3161733800978157\n",
            "\n",
            "=== Generation: 15 === \n",
            "Fitness: 21.455215413187\n",
            "Best individual:\n",
            "Kappa: 0.05415030919432979\n",
            "Mu: 0.6975908252376615\n",
            "Omega: 1.3447797554346776\n",
            "\n",
            "=== Generation: 16 === \n",
            "Fitness: 21.576616050649342\n",
            "Best individual:\n",
            "Kappa: 0.05121783921024509\n",
            "Mu: 0.6889813634184225\n",
            "Omega: 1.365514144248432\n",
            "\n",
            "=== Generation: 17 === \n",
            "Fitness: 21.63561400304848\n",
            "Best individual:\n",
            "Kappa: 0.049444127576858024\n",
            "Mu: 0.6805485856594048\n",
            "Omega: 1.3877136231108211\n",
            "\n",
            "=== Generation: 18 === \n",
            "Fitness: 21.662095737921213\n",
            "Best individual:\n",
            "Kappa: 0.046699825345434424\n",
            "Mu: 0.6812880298106706\n",
            "Omega: 1.4137600614291077\n",
            "\n",
            "=== Generation: 19 === \n",
            "Fitness: 21.658710424249485\n",
            "Best individual:\n",
            "Kappa: 0.04775418691320361\n",
            "Mu: 0.6824596735732962\n",
            "Omega: 1.4102276504792857\n",
            "\n",
            "=== Generation: 20 === \n",
            "Fitness: 21.662988383016405\n",
            "Best individual:\n",
            "Kappa: 0.046405396156890474\n",
            "Mu: 0.682810591875807\n",
            "Omega: 1.4113614076720027\n",
            "\n",
            "=== Generation: 21 === \n",
            "Fitness: 21.664496420449623\n",
            "Best individual:\n",
            "Kappa: 0.045640228049950424\n",
            "Mu: 0.6803841936863806\n",
            "Omega: 1.3998879750618418\n",
            "\n",
            "=== Generation: 22 === \n",
            "Fitness: 21.66756167857424\n",
            "Best individual:\n",
            "Kappa: 0.04557044118754128\n",
            "Mu: 0.6821567866287571\n",
            "Omega: 1.408873745200785\n",
            "\n",
            "=== Generation: 23 === \n",
            "Fitness: 21.667942759514553\n",
            "Best individual:\n",
            "Kappa: 0.04434839675997879\n",
            "Mu: 0.6840402618998982\n",
            "Omega: 1.397377488605577\n",
            "\n",
            "=== Generation: 24 === \n",
            "Fitness: 21.67621734438659\n",
            "Best individual:\n",
            "Kappa: 0.043141921539598296\n",
            "Mu: 0.680942844537256\n",
            "Omega: 1.4110168607501643\n",
            "\n",
            "=== Generation: 25 === \n",
            "Fitness: 21.676730804317305\n",
            "Best individual:\n",
            "Kappa: 0.04284927836369684\n",
            "Mu: 0.6796259866788308\n",
            "Omega: 1.4091044197599913\n",
            "\n",
            "=== Generation: 26 === \n",
            "Fitness: 21.677520305170823\n",
            "Best individual:\n",
            "Kappa: 0.04261479219870148\n",
            "Mu: 0.6796554858809863\n",
            "Omega: 1.41016613085702\n",
            "\n",
            "=== Generation: 27 === \n",
            "Fitness: 21.679298048626706\n",
            "Best individual:\n",
            "Kappa: 0.04221284065131464\n",
            "Mu: 0.6827884209984304\n",
            "Omega: 1.404435571540043\n",
            "\n",
            "=== Generation: 28 === \n",
            "Fitness: 21.68139997509095\n",
            "Best individual:\n",
            "Kappa: 0.04170605735911542\n",
            "Mu: 0.6824490473197502\n",
            "Omega: 1.4063159686335778\n",
            "\n",
            "=== Generation: 29 === \n",
            "Fitness: 21.686097804923463\n",
            "Best individual:\n",
            "Kappa: 0.04023175506942409\n",
            "Mu: 0.6822234705791538\n",
            "Omega: 1.4033498492915617\n",
            "\n",
            "=== Generation: 30 === \n",
            "Fitness: 21.684866614788177\n",
            "Best individual:\n",
            "Kappa: 0.04073408391464791\n",
            "Mu: 0.6818686107780069\n",
            "Omega: 1.4083792581537207\n",
            "\n",
            "=== Generation: 31 === \n",
            "Fitness: 21.686560475125546\n",
            "Best individual:\n",
            "Kappa: 0.04018941737827017\n",
            "Mu: 0.6808177473238556\n",
            "Omega: 1.4096966193050657\n",
            "\n",
            "=== Generation: 32 === \n",
            "Fitness: 21.688580269812313\n",
            "Best individual:\n",
            "Kappa: 0.038753720096985515\n",
            "Mu: 0.6834963941464278\n",
            "Omega: 1.3989829229249888\n",
            "\n",
            "=== Generation: 33 === \n",
            "Fitness: 21.68873836092382\n",
            "Best individual:\n",
            "Kappa: 0.0394431959982299\n",
            "Mu: 0.6812360953804267\n",
            "Omega: 1.403866523473796\n",
            "\n",
            "=== Generation: 34 === \n",
            "Fitness: 21.691643371920073\n",
            "Best individual:\n",
            "Kappa: 0.03814174709251933\n",
            "Mu: 0.6820992254480315\n",
            "Omega: 1.4002038292132895\n",
            "\n",
            "=== Generation: 35 === \n",
            "Fitness: 21.692329121903718\n",
            "Best individual:\n",
            "Kappa: 0.03824623909856232\n",
            "Mu: 0.6828738996061362\n",
            "Omega: 1.4036201273683382\n",
            "\n",
            "=== Generation: 36 === \n",
            "Fitness: 21.69585320323143\n",
            "Best individual:\n",
            "Kappa: 0.03731744661601962\n",
            "Mu: 0.6806883622507756\n",
            "Omega: 1.4079193604874856\n",
            "\n",
            "=== Generation: 37 === \n",
            "Fitness: 21.694405336218907\n",
            "Best individual:\n",
            "Kappa: 0.03773624587053573\n",
            "Mu: 0.6818955131025889\n",
            "Omega: 1.409540137324585\n",
            "\n",
            "=== Generation: 38 === \n",
            "Fitness: 21.69768931395123\n",
            "Best individual:\n",
            "Kappa: 0.03609651707984798\n",
            "Mu: 0.6840723688114516\n",
            "Omega: 1.403471412561311\n",
            "\n",
            "=== Generation: 39 === \n",
            "Fitness: 21.700376571808\n",
            "Best individual:\n",
            "Kappa: 0.03553067218511318\n",
            "Mu: 0.6800521980248255\n",
            "Omega: 1.4053682043669098\n",
            "\n",
            "=== Generation: 40 === \n",
            "Fitness: 21.702418915238702\n",
            "Best individual:\n",
            "Kappa: 0.034700847170071825\n",
            "Mu: 0.6832150681973347\n",
            "Omega: 1.4095626542505366\n",
            "\n",
            "=== Generation: 41 === \n",
            "Fitness: 21.704668167079298\n",
            "Best individual:\n",
            "Kappa: 0.033918829310690644\n",
            "Mu: 0.6807876481863445\n",
            "Omega: 1.4136478476378334\n",
            "\n",
            "=== Generation: 42 === \n",
            "Fitness: 21.70530787856541\n",
            "Best individual:\n",
            "Kappa: 0.0341342409867124\n",
            "Mu: 0.6806371312500682\n",
            "Omega: 1.4088966580218316\n",
            "\n",
            "=== Generation: 43 === \n",
            "Fitness: 21.706665978325873\n",
            "Best individual:\n",
            "Kappa: 0.033388669910058864\n",
            "Mu: 0.6797413385007984\n",
            "Omega: 1.4087257279265046\n",
            "\n",
            "=== Generation: 44 === \n",
            "Fitness: 21.70874959371356\n",
            "Best individual:\n",
            "Kappa: 0.032629473088380025\n",
            "Mu: 0.6797193652413345\n",
            "Omega: 1.4086630262651847\n",
            "\n",
            "=== Generation: 45 === \n",
            "Fitness: 21.708794188451037\n",
            "Best individual:\n",
            "Kappa: 0.032830753713932896\n",
            "Mu: 0.6828256286812534\n",
            "Omega: 1.4055305674296248\n",
            "\n",
            "=== Generation: 46 === \n",
            "Fitness: 21.709941974440632\n",
            "Best individual:\n",
            "Kappa: 0.03248691005917297\n",
            "Mu: 0.681076880015004\n",
            "Omega: 1.4052577703281197\n",
            "\n",
            "=== Generation: 47 === \n",
            "Fitness: 21.71001112055015\n",
            "Best individual:\n",
            "Kappa: 0.032542985741037714\n",
            "Mu: 0.6819644206324877\n",
            "Omega: 1.405783296055366\n",
            "\n",
            "=== Generation: 48 === \n",
            "Fitness: 21.710400052222408\n",
            "Best individual:\n",
            "Kappa: 0.03191497121999042\n",
            "Mu: 0.6832252101373583\n",
            "Omega: 1.4018909973731666\n",
            "\n",
            "=== Generation: 49 === \n",
            "Fitness: 21.713619410587746\n",
            "Best individual:\n",
            "Kappa: 0.031010279140341743\n",
            "Mu: 0.680203173829954\n",
            "Omega: 1.4083165043802321\n",
            "\n",
            "=== Generation: 50 === \n",
            "Fitness: 21.71395772445684\n",
            "Best individual:\n",
            "Kappa: 0.03096111293771006\n",
            "Mu: 0.6811098116620521\n",
            "Omega: 1.4104488982018355\n",
            "\n",
            "=== Generation: 51 === \n",
            "Fitness: 21.715691697009426\n",
            "Best individual:\n",
            "Kappa: 0.02998602785778857\n",
            "Mu: 0.6802139060092025\n",
            "Omega: 1.412244938070182\n",
            "\n",
            "=== Generation: 52 === \n",
            "Fitness: 21.71553396717168\n",
            "Best individual:\n",
            "Kappa: 0.03027114772871846\n",
            "Mu: 0.6811783238052587\n",
            "Omega: 1.4112838632555724\n",
            "\n",
            "=== Generation: 53 === \n",
            "Fitness: 21.71472816580713\n",
            "Best individual:\n",
            "Kappa: 0.03051144186832049\n",
            "Mu: 0.681734562966614\n",
            "Omega: 1.4025478279103551\n",
            "\n",
            "=== Generation: 54 === \n",
            "Fitness: 21.71848730497183\n",
            "Best individual:\n",
            "Kappa: 0.028778305967201736\n",
            "Mu: 0.6814950822323337\n",
            "Omega: 1.4012839615778085\n",
            "\n",
            "=== Generation: 55 === \n",
            "Fitness: 21.718681612129423\n",
            "Best individual:\n",
            "Kappa: 0.02885851461603959\n",
            "Mu: 0.6808163017681761\n",
            "Omega: 1.4124586648820325\n",
            "\n",
            "=== Generation: 56 === \n",
            "Fitness: 21.720395043762437\n",
            "Best individual:\n",
            "Kappa: 0.028104740415161852\n",
            "Mu: 0.6817303036679314\n",
            "Omega: 1.4124097185210662\n",
            "\n",
            "=== Generation: 57 === \n",
            "Fitness: 21.71993286112606\n",
            "Best individual:\n",
            "Kappa: 0.028504549125036693\n",
            "Mu: 0.6803445192043186\n",
            "Omega: 1.406263843257771\n",
            "\n",
            "=== Generation: 58 === \n",
            "Fitness: 21.721106332231635\n",
            "Best individual:\n",
            "Kappa: 0.027635397689717803\n",
            "Mu: 0.6832873500354202\n",
            "Omega: 1.4098122680610101\n",
            "\n",
            "=== Generation: 59 === \n",
            "Fitness: 21.72159838244091\n",
            "Best individual:\n",
            "Kappa: 0.027756093005457498\n",
            "Mu: 0.6832589625559607\n",
            "Omega: 1.4061728067596937\n",
            "\n",
            "=== Generation: 60 === \n",
            "Fitness: 21.72313122412207\n",
            "Best individual:\n",
            "Kappa: 0.027219425249073968\n",
            "Mu: 0.6811783363206189\n",
            "Omega: 1.4110937858024672\n",
            "\n",
            "=== Generation: 61 === \n",
            "Fitness: 21.721398737982128\n",
            "Best individual:\n",
            "Kappa: 0.02710248910149667\n",
            "Mu: 0.6836450851081497\n",
            "Omega: 1.3995272642428154\n",
            "\n",
            "=== Generation: 62 === \n",
            "Fitness: 21.724494426751804\n",
            "Best individual:\n",
            "Kappa: 0.026519545285676172\n",
            "Mu: 0.6821546103172119\n",
            "Omega: 1.410936216383031\n",
            "\n",
            "=== Generation: 63 === \n",
            "Fitness: 21.724315914984935\n",
            "Best individual:\n",
            "Kappa: 0.02696827656782284\n",
            "Mu: 0.6817435216819681\n",
            "Omega: 1.4070726686974262\n",
            "\n",
            "=== Generation: 64 === \n",
            "Fitness: 21.72589983341095\n",
            "Best individual:\n",
            "Kappa: 0.026074877815371007\n",
            "Mu: 0.6819122662415578\n",
            "Omega: 1.4035172174632924\n",
            "\n",
            "=== Generation: 65 === \n",
            "Fitness: 21.724415472075034\n",
            "Best individual:\n",
            "Kappa: 0.026674164969129725\n",
            "Mu: 0.6810322375331769\n",
            "Omega: 1.4110107137478105\n",
            "\n",
            "=== Generation: 66 === \n",
            "Fitness: 21.72527198502737\n",
            "Best individual:\n",
            "Kappa: 0.024762773738874824\n",
            "Mu: 0.6782716896438088\n",
            "Omega: 1.4129489545117524\n",
            "\n",
            "=== Generation: 67 === \n",
            "Fitness: 21.724612203390855\n",
            "Best individual:\n",
            "Kappa: 0.026171598829215534\n",
            "Mu: 0.6831945239778673\n",
            "Omega: 1.401254574649011\n",
            "\n",
            "=== Generation: 68 === \n",
            "Fitness: 21.72860020738608\n",
            "Best individual:\n",
            "Kappa: 0.024634328599105693\n",
            "Mu: 0.6831357031669347\n",
            "Omega: 1.4030872293546974\n",
            "\n",
            "=== Generation: 69 === \n",
            "Fitness: 21.728094325610876\n",
            "Best individual:\n",
            "Kappa: 0.024378164427715086\n",
            "Mu: 0.6798376425194685\n",
            "Omega: 1.4135456550642118\n",
            "\n",
            "=== Generation: 70 === \n",
            "Fitness: 21.729510552989183\n",
            "Best individual:\n",
            "Kappa: 0.023424899010371182\n",
            "Mu: 0.6831869976106429\n",
            "Omega: 1.412323807013345\n",
            "\n",
            "=== Generation: 71 === \n",
            "Fitness: 21.728868731916148\n",
            "Best individual:\n",
            "Kappa: 0.02417455280759415\n",
            "Mu: 0.6833593760664388\n",
            "Omega: 1.4097380382451048\n",
            "\n",
            "=== Generation: 72 === \n",
            "Fitness: 21.72985780144147\n",
            "Best individual:\n",
            "Kappa: 0.02320472714756658\n",
            "Mu: 0.6791061470049367\n",
            "Omega: 1.4058607686457598\n",
            "\n",
            "=== Generation: 73 === \n",
            "Fitness: 21.73135432963207\n",
            "Best individual:\n",
            "Kappa: 0.02358519272292015\n",
            "Mu: 0.6818615694872479\n",
            "Omega: 1.4037356001358796\n",
            "\n",
            "=== Generation: 74 === \n",
            "Fitness: 21.73203763632661\n",
            "Best individual:\n",
            "Kappa: 0.023391392612624344\n",
            "Mu: 0.6817160055995879\n",
            "Omega: 1.4088137579903457\n",
            "\n",
            "=== Generation: 75 === \n",
            "Fitness: 21.731559983302528\n",
            "Best individual:\n",
            "Kappa: 0.023494706287518895\n",
            "Mu: 0.6827077580549654\n",
            "Omega: 1.407316165996937\n",
            "\n",
            "=== Generation: 76 === \n",
            "Fitness: 21.73101909529289\n",
            "Best individual:\n",
            "Kappa: 0.023868478601265293\n",
            "Mu: 0.6823079073078482\n",
            "Omega: 1.4074140815680074\n",
            "\n",
            "=== Generation: 77 === \n",
            "Fitness: 21.733293510218537\n",
            "Best individual:\n",
            "Kappa: 0.02232380535307948\n",
            "Mu: 0.6819330024781186\n",
            "Omega: 1.4018874930278646\n",
            "\n",
            "=== Generation: 78 === \n",
            "Fitness: 21.7347134256805\n",
            "Best individual:\n",
            "Kappa: 0.021987353710680384\n",
            "Mu: 0.6820663827021559\n",
            "Omega: 1.4089789656409393\n",
            "\n",
            "=== Generation: 79 === \n",
            "Fitness: 21.73392348306538\n",
            "Best individual:\n",
            "Kappa: 0.0222442164511492\n",
            "Mu: 0.6823119380216751\n",
            "Omega: 1.4032221698721954\n",
            "\n",
            "=== Generation: 80 === \n",
            "Fitness: 21.73349399829206\n",
            "Best individual:\n",
            "Kappa: 0.022612921909955133\n",
            "Mu: 0.6808072448525371\n",
            "Omega: 1.4076139212944407\n",
            "\n",
            "=== Generation: 81 === \n",
            "Fitness: 21.735141428277277\n",
            "Best individual:\n",
            "Kappa: 0.021687901604744875\n",
            "Mu: 0.6827323044180857\n",
            "Omega: 1.4047047167263516\n",
            "\n",
            "=== Generation: 82 === \n",
            "Fitness: 21.73612226029934\n",
            "Best individual:\n",
            "Kappa: 0.021067496615486216\n",
            "Mu: 0.6803625296737327\n",
            "Omega: 1.4091002781484097\n",
            "\n",
            "=== Generation: 83 === \n",
            "Fitness: 21.73658304047344\n",
            "Best individual:\n",
            "Kappa: 0.020707501572214734\n",
            "Mu: 0.6808601828810588\n",
            "Omega: 1.4040966029954431\n",
            "\n",
            "=== Generation: 84 === \n",
            "Fitness: 21.737729442692054\n",
            "Best individual:\n",
            "Kappa: 0.020506745758381937\n",
            "Mu: 0.6818994376918444\n",
            "Omega: 1.4061100194977578\n",
            "\n",
            "=== Generation: 85 === \n",
            "Fitness: 21.73667808493365\n",
            "Best individual:\n",
            "Kappa: 0.020233282817937372\n",
            "Mu: 0.6811339342051628\n",
            "Omega: 1.4016334981541858\n",
            "\n",
            "=== Generation: 86 === \n",
            "Fitness: 21.737917766750684\n",
            "Best individual:\n",
            "Kappa: 0.020389905207261524\n",
            "Mu: 0.682062130881381\n",
            "Omega: 1.40602501885863\n",
            "\n",
            "=== Generation: 87 === \n",
            "Fitness: 21.7369855654514\n",
            "Best individual:\n",
            "Kappa: 0.019480287916984817\n",
            "Mu: 0.6802294279474421\n",
            "Omega: 1.4017128122448734\n",
            "\n",
            "=== Generation: 88 === \n",
            "Fitness: 21.736661655221177\n",
            "Best individual:\n",
            "Kappa: 0.019922797677590563\n",
            "Mu: 0.6838150460805029\n",
            "Omega: 1.4007898797726612\n",
            "\n",
            "=== Generation: 89 === \n",
            "Fitness: 21.738674575150082\n",
            "Best individual:\n",
            "Kappa: 0.019799437451780973\n",
            "Mu: 0.6827479886304023\n",
            "Omega: 1.4066269755625387\n",
            "\n",
            "=== Generation: 90 === \n",
            "Fitness: 21.738519700687327\n",
            "Best individual:\n",
            "Kappa: 0.020061479598442476\n",
            "Mu: 0.681378196554112\n",
            "Omega: 1.4077846715388878\n",
            "\n",
            "=== Generation: 91 === \n",
            "Fitness: 21.739114669637736\n",
            "Best individual:\n",
            "Kappa: 0.019217906849504002\n",
            "Mu: 0.6805371995790507\n",
            "Omega: 1.4115150760489015\n",
            "\n",
            "=== Generation: 92 === \n",
            "Fitness: 21.73904908145004\n",
            "Best individual:\n",
            "Kappa: 0.01883240466601735\n",
            "Mu: 0.680538176292225\n",
            "Omega: 1.4134986957315012\n",
            "\n",
            "=== Generation: 93 === \n",
            "Fitness: 21.739736913172564\n",
            "Best individual:\n",
            "Kappa: 0.018511232445206468\n",
            "Mu: 0.679617687236587\n",
            "Omega: 1.4102228774745171\n",
            "\n",
            "=== Generation: 94 === \n",
            "Fitness: 21.740379201952813\n",
            "Best individual:\n",
            "Kappa: 0.018632538382697628\n",
            "Mu: 0.683069778910452\n",
            "Omega: 1.4043843465243926\n",
            "\n",
            "=== Generation: 95 === \n",
            "Fitness: 21.741262762578884\n",
            "Best individual:\n",
            "Kappa: 0.017960335821260772\n",
            "Mu: 0.6802004503708757\n",
            "Omega: 1.4101036970566043\n",
            "\n",
            "=== Generation: 96 === \n",
            "Fitness: 21.740128288849874\n",
            "Best individual:\n",
            "Kappa: 0.018797366487552356\n",
            "Mu: 0.6815468320962226\n",
            "Omega: 1.4033323369571074\n",
            "\n",
            "=== Generation: 97 === \n",
            "Fitness: 21.741530604375985\n",
            "Best individual:\n",
            "Kappa: 0.018178951528118863\n",
            "Mu: 0.6825812943380137\n",
            "Omega: 1.405597942972753\n",
            "\n",
            "=== Generation: 98 === \n",
            "Fitness: 21.74197572713637\n",
            "Best individual:\n",
            "Kappa: 0.01801897666496577\n",
            "Mu: 0.6819194228154372\n",
            "Omega: 1.4078914759103298\n",
            "\n",
            "=== Generation: 99 === \n",
            "Fitness: 21.74192126653271\n",
            "Best individual:\n",
            "Kappa: 0.017645932015301482\n",
            "Mu: 0.6814788975450705\n",
            "Omega: 1.4113078819096216\n",
            "\n",
            "==========\n",
            "Max number of generations exceeded!\n",
            "==========\n",
            "\n",
            "Best Fitness: 21.74197572713637\n",
            "Best Gen: 98\n",
            "Kappa: 0.01801897666496577\n",
            "Mu: 0.6819194228154372\n",
            "Omega: 1.4078914759103298\n"
          ]
        },
        {
          "output_type": "display_data",
          "data": {
            "text/plain": [
              "<Figure size 720x504 with 0 Axes>"
            ]
          },
          "metadata": {}
        },
        {
          "output_type": "display_data",
          "data": {
            "text/plain": [
              "<Figure size 720x504 with 0 Axes>"
            ]
          },
          "metadata": {}
        },
        {
          "output_type": "display_data",
          "data": {
            "text/plain": [
              "<Figure size 720x504 with 0 Axes>"
            ]
          },
          "metadata": {}
        },
        {
          "output_type": "display_data",
          "data": {
            "text/plain": [
              "<Figure size 720x504 with 0 Axes>"
            ]
          },
          "metadata": {}
        },
        {
          "output_type": "display_data",
          "data": {
            "text/plain": [
              "<Figure size 720x504 with 0 Axes>"
            ]
          },
          "metadata": {}
        },
        {
          "output_type": "display_data",
          "data": {
            "text/plain": [
              "<Figure size 720x504 with 0 Axes>"
            ]
          },
          "metadata": {}
        },
        {
          "output_type": "display_data",
          "data": {
            "text/plain": [
              "<Figure size 720x504 with 0 Axes>"
            ]
          },
          "metadata": {}
        },
        {
          "output_type": "display_data",
          "data": {
            "text/plain": [
              "<Figure size 720x504 with 0 Axes>"
            ]
          },
          "metadata": {}
        },
        {
          "output_type": "display_data",
          "data": {
            "text/plain": [
              "<Figure size 720x504 with 0 Axes>"
            ]
          },
          "metadata": {}
        },
        {
          "output_type": "display_data",
          "data": {
            "text/plain": [
              "<Figure size 720x504 with 0 Axes>"
            ]
          },
          "metadata": {}
        },
        {
          "output_type": "display_data",
          "data": {
            "text/plain": [
              "<Figure size 720x504 with 0 Axes>"
            ]
          },
          "metadata": {}
        },
        {
          "output_type": "display_data",
          "data": {
            "text/plain": [
              "<Figure size 720x504 with 0 Axes>"
            ]
          },
          "metadata": {}
        },
        {
          "output_type": "display_data",
          "data": {
            "text/plain": [
              "<Figure size 720x504 with 0 Axes>"
            ]
          },
          "metadata": {}
        },
        {
          "output_type": "display_data",
          "data": {
            "text/plain": [
              "<Figure size 720x504 with 0 Axes>"
            ]
          },
          "metadata": {}
        },
        {
          "output_type": "display_data",
          "data": {
            "text/plain": [
              "<Figure size 720x504 with 0 Axes>"
            ]
          },
          "metadata": {}
        },
        {
          "output_type": "display_data",
          "data": {
            "text/plain": [
              "<Figure size 720x504 with 0 Axes>"
            ]
          },
          "metadata": {}
        },
        {
          "output_type": "display_data",
          "data": {
            "text/plain": [
              "<Figure size 720x504 with 0 Axes>"
            ]
          },
          "metadata": {}
        },
        {
          "output_type": "display_data",
          "data": {
            "text/plain": [
              "<Figure size 720x504 with 0 Axes>"
            ]
          },
          "metadata": {}
        },
        {
          "output_type": "display_data",
          "data": {
            "text/plain": [
              "<Figure size 720x504 with 0 Axes>"
            ]
          },
          "metadata": {}
        },
        {
          "output_type": "display_data",
          "data": {
            "text/plain": [
              "<Figure size 720x504 with 0 Axes>"
            ]
          },
          "metadata": {}
        },
        {
          "output_type": "display_data",
          "data": {
            "text/plain": [
              "<Figure size 720x504 with 0 Axes>"
            ]
          },
          "metadata": {}
        },
        {
          "output_type": "display_data",
          "data": {
            "text/plain": [
              "<Figure size 720x504 with 0 Axes>"
            ]
          },
          "metadata": {}
        },
        {
          "output_type": "display_data",
          "data": {
            "text/plain": [
              "<Figure size 720x504 with 0 Axes>"
            ]
          },
          "metadata": {}
        },
        {
          "output_type": "display_data",
          "data": {
            "text/plain": [
              "<Figure size 720x504 with 0 Axes>"
            ]
          },
          "metadata": {}
        },
        {
          "output_type": "display_data",
          "data": {
            "text/plain": [
              "<Figure size 720x504 with 0 Axes>"
            ]
          },
          "metadata": {}
        },
        {
          "output_type": "display_data",
          "data": {
            "text/plain": [
              "<Figure size 720x504 with 0 Axes>"
            ]
          },
          "metadata": {}
        },
        {
          "output_type": "display_data",
          "data": {
            "text/plain": [
              "<Figure size 720x504 with 0 Axes>"
            ]
          },
          "metadata": {}
        },
        {
          "output_type": "display_data",
          "data": {
            "text/plain": [
              "<Figure size 720x504 with 0 Axes>"
            ]
          },
          "metadata": {}
        },
        {
          "output_type": "display_data",
          "data": {
            "text/plain": [
              "<Figure size 720x504 with 0 Axes>"
            ]
          },
          "metadata": {}
        },
        {
          "output_type": "display_data",
          "data": {
            "text/plain": [
              "<Figure size 720x504 with 0 Axes>"
            ]
          },
          "metadata": {}
        },
        {
          "output_type": "display_data",
          "data": {
            "text/plain": [
              "<Figure size 720x504 with 0 Axes>"
            ]
          },
          "metadata": {}
        },
        {
          "output_type": "display_data",
          "data": {
            "text/plain": [
              "<Figure size 720x504 with 0 Axes>"
            ]
          },
          "metadata": {}
        },
        {
          "output_type": "display_data",
          "data": {
            "text/plain": [
              "<Figure size 720x504 with 0 Axes>"
            ]
          },
          "metadata": {}
        },
        {
          "output_type": "display_data",
          "data": {
            "text/plain": [
              "<Figure size 720x504 with 0 Axes>"
            ]
          },
          "metadata": {}
        },
        {
          "output_type": "display_data",
          "data": {
            "text/plain": [
              "<Figure size 720x504 with 0 Axes>"
            ]
          },
          "metadata": {}
        },
        {
          "output_type": "display_data",
          "data": {
            "text/plain": [
              "<Figure size 720x504 with 0 Axes>"
            ]
          },
          "metadata": {}
        },
        {
          "output_type": "display_data",
          "data": {
            "text/plain": [
              "<Figure size 720x504 with 0 Axes>"
            ]
          },
          "metadata": {}
        },
        {
          "output_type": "display_data",
          "data": {
            "text/plain": [
              "<Figure size 720x504 with 0 Axes>"
            ]
          },
          "metadata": {}
        },
        {
          "output_type": "display_data",
          "data": {
            "text/plain": [
              "<Figure size 720x504 with 0 Axes>"
            ]
          },
          "metadata": {}
        },
        {
          "output_type": "display_data",
          "data": {
            "text/plain": [
              "<Figure size 720x504 with 0 Axes>"
            ]
          },
          "metadata": {}
        },
        {
          "output_type": "display_data",
          "data": {
            "text/plain": [
              "<Figure size 720x504 with 0 Axes>"
            ]
          },
          "metadata": {}
        },
        {
          "output_type": "display_data",
          "data": {
            "text/plain": [
              "<Figure size 720x504 with 0 Axes>"
            ]
          },
          "metadata": {}
        },
        {
          "output_type": "display_data",
          "data": {
            "text/plain": [
              "<Figure size 720x504 with 0 Axes>"
            ]
          },
          "metadata": {}
        },
        {
          "output_type": "display_data",
          "data": {
            "text/plain": [
              "<Figure size 720x504 with 0 Axes>"
            ]
          },
          "metadata": {}
        },
        {
          "output_type": "display_data",
          "data": {
            "text/plain": [
              "<Figure size 720x504 with 0 Axes>"
            ]
          },
          "metadata": {}
        },
        {
          "output_type": "display_data",
          "data": {
            "text/plain": [
              "<Figure size 720x504 with 0 Axes>"
            ]
          },
          "metadata": {}
        },
        {
          "output_type": "display_data",
          "data": {
            "text/plain": [
              "<Figure size 720x504 with 0 Axes>"
            ]
          },
          "metadata": {}
        },
        {
          "output_type": "display_data",
          "data": {
            "text/plain": [
              "<Figure size 720x504 with 0 Axes>"
            ]
          },
          "metadata": {}
        },
        {
          "output_type": "display_data",
          "data": {
            "text/plain": [
              "<Figure size 720x504 with 0 Axes>"
            ]
          },
          "metadata": {}
        },
        {
          "output_type": "display_data",
          "data": {
            "text/plain": [
              "<Figure size 720x504 with 0 Axes>"
            ]
          },
          "metadata": {}
        },
        {
          "output_type": "display_data",
          "data": {
            "text/plain": [
              "<Figure size 720x504 with 0 Axes>"
            ]
          },
          "metadata": {}
        },
        {
          "output_type": "display_data",
          "data": {
            "text/plain": [
              "<Figure size 720x504 with 0 Axes>"
            ]
          },
          "metadata": {}
        },
        {
          "output_type": "display_data",
          "data": {
            "text/plain": [
              "<Figure size 720x504 with 0 Axes>"
            ]
          },
          "metadata": {}
        },
        {
          "output_type": "display_data",
          "data": {
            "text/plain": [
              "<Figure size 720x504 with 0 Axes>"
            ]
          },
          "metadata": {}
        },
        {
          "output_type": "display_data",
          "data": {
            "text/plain": [
              "<Figure size 720x504 with 0 Axes>"
            ]
          },
          "metadata": {}
        },
        {
          "output_type": "display_data",
          "data": {
            "text/plain": [
              "<Figure size 720x504 with 0 Axes>"
            ]
          },
          "metadata": {}
        },
        {
          "output_type": "display_data",
          "data": {
            "text/plain": [
              "<Figure size 720x504 with 0 Axes>"
            ]
          },
          "metadata": {}
        },
        {
          "output_type": "display_data",
          "data": {
            "text/plain": [
              "<Figure size 720x504 with 0 Axes>"
            ]
          },
          "metadata": {}
        },
        {
          "output_type": "display_data",
          "data": {
            "text/plain": [
              "<Figure size 720x504 with 0 Axes>"
            ]
          },
          "metadata": {}
        },
        {
          "output_type": "display_data",
          "data": {
            "text/plain": [
              "<Figure size 720x504 with 0 Axes>"
            ]
          },
          "metadata": {}
        },
        {
          "output_type": "display_data",
          "data": {
            "text/plain": [
              "<Figure size 720x504 with 0 Axes>"
            ]
          },
          "metadata": {}
        },
        {
          "output_type": "display_data",
          "data": {
            "text/plain": [
              "<Figure size 720x504 with 0 Axes>"
            ]
          },
          "metadata": {}
        },
        {
          "output_type": "display_data",
          "data": {
            "text/plain": [
              "<Figure size 720x504 with 0 Axes>"
            ]
          },
          "metadata": {}
        },
        {
          "output_type": "display_data",
          "data": {
            "text/plain": [
              "<Figure size 720x504 with 0 Axes>"
            ]
          },
          "metadata": {}
        },
        {
          "output_type": "display_data",
          "data": {
            "text/plain": [
              "<Figure size 720x504 with 0 Axes>"
            ]
          },
          "metadata": {}
        },
        {
          "output_type": "display_data",
          "data": {
            "text/plain": [
              "<Figure size 720x504 with 0 Axes>"
            ]
          },
          "metadata": {}
        },
        {
          "output_type": "display_data",
          "data": {
            "text/plain": [
              "<Figure size 720x504 with 0 Axes>"
            ]
          },
          "metadata": {}
        },
        {
          "output_type": "display_data",
          "data": {
            "text/plain": [
              "<Figure size 720x504 with 0 Axes>"
            ]
          },
          "metadata": {}
        },
        {
          "output_type": "display_data",
          "data": {
            "text/plain": [
              "<Figure size 720x504 with 0 Axes>"
            ]
          },
          "metadata": {}
        },
        {
          "output_type": "display_data",
          "data": {
            "text/plain": [
              "<Figure size 720x504 with 0 Axes>"
            ]
          },
          "metadata": {}
        },
        {
          "output_type": "display_data",
          "data": {
            "text/plain": [
              "<Figure size 720x504 with 0 Axes>"
            ]
          },
          "metadata": {}
        },
        {
          "output_type": "display_data",
          "data": {
            "text/plain": [
              "<Figure size 720x504 with 0 Axes>"
            ]
          },
          "metadata": {}
        },
        {
          "output_type": "display_data",
          "data": {
            "text/plain": [
              "<Figure size 720x504 with 0 Axes>"
            ]
          },
          "metadata": {}
        },
        {
          "output_type": "display_data",
          "data": {
            "text/plain": [
              "<Figure size 720x504 with 0 Axes>"
            ]
          },
          "metadata": {}
        },
        {
          "output_type": "display_data",
          "data": {
            "text/plain": [
              "<Figure size 720x504 with 0 Axes>"
            ]
          },
          "metadata": {}
        },
        {
          "output_type": "display_data",
          "data": {
            "text/plain": [
              "<Figure size 720x504 with 0 Axes>"
            ]
          },
          "metadata": {}
        },
        {
          "output_type": "display_data",
          "data": {
            "text/plain": [
              "<Figure size 720x504 with 0 Axes>"
            ]
          },
          "metadata": {}
        },
        {
          "output_type": "display_data",
          "data": {
            "text/plain": [
              "<Figure size 720x504 with 0 Axes>"
            ]
          },
          "metadata": {}
        },
        {
          "output_type": "display_data",
          "data": {
            "text/plain": [
              "<Figure size 720x504 with 0 Axes>"
            ]
          },
          "metadata": {}
        },
        {
          "output_type": "display_data",
          "data": {
            "text/plain": [
              "<Figure size 720x504 with 0 Axes>"
            ]
          },
          "metadata": {}
        },
        {
          "output_type": "display_data",
          "data": {
            "text/plain": [
              "<Figure size 720x504 with 0 Axes>"
            ]
          },
          "metadata": {}
        },
        {
          "output_type": "display_data",
          "data": {
            "text/plain": [
              "<Figure size 720x504 with 0 Axes>"
            ]
          },
          "metadata": {}
        },
        {
          "output_type": "display_data",
          "data": {
            "text/plain": [
              "<Figure size 720x504 with 0 Axes>"
            ]
          },
          "metadata": {}
        },
        {
          "output_type": "display_data",
          "data": {
            "text/plain": [
              "<Figure size 720x504 with 0 Axes>"
            ]
          },
          "metadata": {}
        },
        {
          "output_type": "display_data",
          "data": {
            "text/plain": [
              "<Figure size 720x504 with 0 Axes>"
            ]
          },
          "metadata": {}
        },
        {
          "output_type": "display_data",
          "data": {
            "text/plain": [
              "<Figure size 720x504 with 0 Axes>"
            ]
          },
          "metadata": {}
        },
        {
          "output_type": "display_data",
          "data": {
            "text/plain": [
              "<Figure size 720x504 with 0 Axes>"
            ]
          },
          "metadata": {}
        },
        {
          "output_type": "display_data",
          "data": {
            "text/plain": [
              "<Figure size 720x504 with 0 Axes>"
            ]
          },
          "metadata": {}
        },
        {
          "output_type": "display_data",
          "data": {
            "text/plain": [
              "<Figure size 720x504 with 0 Axes>"
            ]
          },
          "metadata": {}
        },
        {
          "output_type": "display_data",
          "data": {
            "text/plain": [
              "<Figure size 720x504 with 0 Axes>"
            ]
          },
          "metadata": {}
        },
        {
          "output_type": "display_data",
          "data": {
            "text/plain": [
              "<Figure size 720x504 with 0 Axes>"
            ]
          },
          "metadata": {}
        },
        {
          "output_type": "display_data",
          "data": {
            "text/plain": [
              "<Figure size 720x504 with 0 Axes>"
            ]
          },
          "metadata": {}
        },
        {
          "output_type": "display_data",
          "data": {
            "text/plain": [
              "<Figure size 720x504 with 0 Axes>"
            ]
          },
          "metadata": {}
        },
        {
          "output_type": "display_data",
          "data": {
            "text/plain": [
              "<Figure size 720x504 with 0 Axes>"
            ]
          },
          "metadata": {}
        },
        {
          "output_type": "display_data",
          "data": {
            "text/plain": [
              "<Figure size 720x504 with 0 Axes>"
            ]
          },
          "metadata": {}
        },
        {
          "output_type": "display_data",
          "data": {
            "text/plain": [
              "<Figure size 720x504 with 0 Axes>"
            ]
          },
          "metadata": {}
        },
        {
          "output_type": "display_data",
          "data": {
            "text/plain": [
              "<Figure size 720x504 with 0 Axes>"
            ]
          },
          "metadata": {}
        },
        {
          "output_type": "display_data",
          "data": {
            "text/plain": [
              "<Figure size 720x504 with 0 Axes>"
            ]
          },
          "metadata": {}
        },
        {
          "output_type": "display_data",
          "data": {
            "text/plain": [
              "<Figure size 720x504 with 0 Axes>"
            ]
          },
          "metadata": {}
        },
        {
          "output_type": "display_data",
          "data": {
            "text/plain": [
              "<Figure size 720x504 with 0 Axes>"
            ]
          },
          "metadata": {}
        }
      ]
    },
    {
      "cell_type": "code",
      "source": [
        "(kappa_hat_rad, mu_hat_rad, omega_hat_rad)"
      ],
      "metadata": {
        "colab": {
          "base_uri": "https://localhost:8080/"
        },
        "id": "C26SuC3VQdbT",
        "outputId": "ad2188ea-a0eb-4316-985d-3adc12a94366"
      },
      "execution_count": 22,
      "outputs": [
        {
          "output_type": "execute_result",
          "data": {
            "text/plain": [
              "(0.0471305312830924, 0.6796464474023944, 1.4102588005886854)"
            ]
          },
          "metadata": {},
          "execution_count": 22
        }
      ]
    },
    {
      "cell_type": "markdown",
      "source": [
        "### Results plot"
      ],
      "metadata": {
        "id": "aDxd6kGmUUc_"
      }
    },
    {
      "cell_type": "code",
      "source": [
        "k_u_pdf = computePDF(Xdata, mle_kappa_mu[0], mle_kappa_mu[1], mle_kappa_mu[2])\n",
        "shadowed_k_u_pdf = shadowedKappaMuPDF(Xdata, mle_shadowed_kappa_mu[0], mle_shadowed_kappa_mu[1], mle_shadowed_kappa_mu[2], mle_shadowed_kappa_mu[3])\n",
        "\n",
        "plt.figure(figsize=((10,7)))\n",
        "plt.scatter(Xdata, Ydata, c='black')\n",
        "plt.plot(Xdata, shadowed_k_u_pdf, c='red', label=r'Shadowed $\\kappa$-$\\mu$ MLE')\n",
        "plt.plot(Xdata, k_u_pdf, c='blue', label=r'$\\kappa$-$\\mu$ MLE')\n",
        "plt.plot(Xdata, computePDF(Xdata, kappa_hat, mu_hat, omega_hat), label='$\\kappa$-$\\mu$ GA (MSE)', c='green')\n",
        "plt.plot(Xdata, computePDF(Xdata, kappa_hat_rad, mu_hat_rad, omega_hat_rad), label='$\\kappa$-$\\mu$ GA (RAD)', c='brown')\n",
        "plt.title(f'Best GA Fit')\n",
        "plt.legend()\n",
        "plt.grid(True)\n",
        "plt.xlabel(r'mV')\n",
        "plt.ylabel('pdf')\n",
        "plt.show()\n",
        "\n",
        "plt.figure(figsize=((10,7)))\n",
        "plt.scatter(Xdata, Ydata, c='black')\n",
        "plt.plot(Xdata, shadowed_k_u_pdf, c='red', label=r'Shadowed $\\kappa$-$\\mu$ MLE')\n",
        "plt.plot(Xdata, k_u_pdf, c='blue', label=r'$\\kappa$-$\\mu$ MLE')\n",
        "plt.plot(Xdata, computePDF(Xdata, kappa_hat, mu_hat, omega_hat), label='$\\kappa$-$\\mu$ GA (MSE)', c='green')\n",
        "plt.plot(Xdata, computePDF(Xdata, kappa_hat_rad, mu_hat_rad, omega_hat_rad), label='$\\kappa$-$\\mu$ GA (RAD)', c='brown')\n",
        "plt.title(f'Best GA Fit (Zoomed)')\n",
        "plt.legend()\n",
        "plt.grid(True)\n",
        "plt.xlabel(r'$dB$')\n",
        "plt.ylabel('pdf')\n",
        "plt.ylim([.6, .85])\n",
        "plt.xlim([0, 1])\n",
        "plt.show()"
      ],
      "metadata": {
        "colab": {
          "base_uri": "https://localhost:8080/",
          "height": 901
        },
        "id": "cvP_UhCoWwGi",
        "outputId": "791f2e4e-bf1d-41b7-8c7c-95b227bd2c7c"
      },
      "execution_count": 49,
      "outputs": [
        {
          "output_type": "display_data",
          "data": {
            "text/plain": [
              "<Figure size 720x504 with 1 Axes>"
            ],
            "image/png": "[encoded data removed]"
          },
          "metadata": {
            "needs_background": "light"
          }
        },
        {
          "output_type": "display_data",
          "data": {
            "text/plain": [
              "<Figure size 720x504 with 1 Axes>"
            ],
            "image/png": "[encoded data removed]"
          },
          "metadata": {
            "needs_background": "light"
          }
        }
      ]
    },
    {
      "cell_type": "markdown",
      "source": [
        "### RAD/AIC Scores"
      ],
      "metadata": {
        "id": "k0NjScVdUXLY"
      }
    },
    {
      "cell_type": "code",
      "source": [
        "# Scores - RAD\n",
        "pVec1 = Ydata/np.sum(Ydata)\n",
        "pVec2 = computePDF(Xdata, kappa_hat, mu_hat, omega_hat)/np.sum(computePDF(Xdata, kappa_hat, mu_hat, omega_hat))\n",
        "KLD_1 = kldiv(pVec1, pVec2)\n",
        "KLD_2 = kldiv(pVec2, pVec1)\n",
        "rad_mse = RAD(KLD_1, KLD_2)\n",
        "\n",
        "pVec2 = computePDF(Xdata, kappa_hat_rad, mu_hat_rad, omega_hat_rad)/np.sum(computePDF(Xdata, kappa_hat_rad, mu_hat_rad, omega_hat_rad))\n",
        "KLD_1 = kldiv(pVec1, pVec2)\n",
        "KLD_2 = kldiv(pVec2, pVec1)\n",
        "rad_rad = RAD(KLD_1, KLD_2)\n",
        "\n",
        "pVec2 = k_u_pdf/np.sum(k_u_pdf)\n",
        "KLD_1 = kldiv(pVec1, pVec2)\n",
        "KLD_2 = kldiv(pVec2, pVec1)\n",
        "rad_mle_kappa_mu = RAD(KLD_1, KLD_2)\n",
        "\n",
        "pVec2 = shadowed_k_u_pdf/np.sum(shadowed_k_u_pdf)\n",
        "KLD_1 = kldiv(pVec1, pVec2)\n",
        "KLD_2 = kldiv(pVec2, pVec1)\n",
        "rad_mle_shadowed_kappa_mu = RAD(KLD_1, KLD_2)\n",
        "\n",
        "# Scores - AIC\n",
        "\n",
        "n = len(data_mV)\n",
        "K = 3\n",
        "\n",
        "# AIC MLE - KAPPA MU\n",
        "sum = np.sum(np.log(computePDF(data_mV, mle_kappa_mu[0], mle_kappa_mu[1], mle_kappa_mu[2])))\n",
        "AIC_mle_kappa_mu = -2*sum + 2*K + (2*K*(K+1))/(n-K-1)\n",
        "\n",
        "# AIC MLE - SHADOWED KAPPA MU\n",
        "sum = np.sum(np.log(shadowedKappaMuPDF(data_mV, mle_shadowed_kappa_mu[0], mle_shadowed_kappa_mu[1], mle_shadowed_kappa_mu[2], mle_shadowed_kappa_mu[3])))\n",
        "AIC_mle_shadowed_kappa_mu = -2*sum + 2*K + (2*K*(K+1))/(n-K-1)\n",
        "\n",
        "# AIC GENETIC ALGORITHM - FITNESS: MSE\n",
        "sum = np.sum(np.log(computePDF(data_mV, kappa_hat, mu_hat, omega_hat)))\n",
        "AIC_ga_mse = -2*sum + 2*K + (2*K*(K+1))/(n-K-1)\n",
        "  \n",
        "# AIC GENETIC ALGORITHM - FITNESS: RAD\n",
        "sum = np.sum(np.log(computePDF(data_mV, kappa_hat_rad, mu_hat_rad, omega_hat_rad)))\n",
        "AIC_ga_rad = -2*sum + 2*K + (2*K*(K+1))/(n-K-1)\n",
        "\n",
        "rads = {'Methods':['Genetic Algorithm - KappaMu (MSE)', 'Genetic Algorithm - KappaMu (RAD)',\\\n",
        "                   'Maximum Likelihood Estimator - KappaMu', 'Maximum Likelihood Estimator - Shadowed KappaMu'],\n",
        "\t\t'Resistor Average Distance':[rad_mse, rad_rad, rad_mle_kappa_mu, rad_mle_shadowed_kappa_mu],\n",
        "    'Akaike Information Criteria':[AIC_ga_mse[0], AIC_ga_rad[0], AIC_mle_kappa_mu[0], AIC_mle_shadowed_kappa_mu[0]]}\n",
        "\n",
        "# Create DataFrame\n",
        "df = pd.DataFrame(rads)\n",
        "display(df.sort_values(by='Akaike Information Criteria').reset_index(drop=True))"
      ],
      "metadata": {
        "id": "3mSrNSj7ROxD",
        "colab": {
          "base_uri": "https://localhost:8080/",
          "height": 175
        },
        "outputId": "28348e04-f07e-4e8c-f56a-48735e1b243d"
      },
      "execution_count": 27,
      "outputs": [
        {
          "output_type": "display_data",
          "data": {
            "text/plain": [
              "                                           Methods  Resistor Average Distance  \\\n",
              "0  Maximum Likelihood Estimator - Shadowed KappaMu                   0.009950   \n",
              "1                Genetic Algorithm - KappaMu (RAD)                   0.045994   \n",
              "2           Maximum Likelihood Estimator - KappaMu                   0.069296   \n",
              "3                Genetic Algorithm - KappaMu (MSE)                   0.069476   \n",
              "\n",
              "   Akaike Information Criteria  \n",
              "0                313225.159357  \n",
              "1                339767.607016  \n",
              "2                380914.753628  \n",
              "3                381235.211642  "
            ],
            "text/html": [
              "\n",
              "  <div id=\"df-8d7d2b93-c554-456e-b03f-91432026fb75\">\n",
              "    <div class=\"colab-df-container\">\n",
              "      <div>\n",
              "<style scoped>\n",
              "    .dataframe tbody tr th:only-of-type {\n",
              "        vertical-align: middle;\n",
              "    }\n",
              "\n",
              "    .dataframe tbody tr th {\n",
              "        vertical-align: top;\n",
              "    }\n",
              "\n",
              "    .dataframe thead th {\n",
              "        text-align: right;\n",
              "    }\n",
              "</style>\n",
              "<table border=\"1\" class=\"dataframe\">\n",
              "  <thead>\n",
              "    <tr style=\"text-align: right;\">\n",
              "      <th></th>\n",
              "      <th>Methods</th>\n",
              "      <th>Resistor Average Distance</th>\n",
              "      <th>Akaike Information Criteria</th>\n",
              "    </tr>\n",
              "  </thead>\n",
              "  <tbody>\n",
              "    <tr>\n",
              "      <th>0</th>\n",
              "      <td>Maximum Likelihood Estimator - Shadowed KappaMu</td>\n",
              "      <td>0.009950</td>\n",
              "      <td>313225.159357</td>\n",
              "    </tr>\n",
              "    <tr>\n",
              "      <th>1</th>\n",
              "      <td>Genetic Algorithm - KappaMu (RAD)</td>\n",
              "      <td>0.045994</td>\n",
              "      <td>339767.607016</td>\n",
              "    </tr>\n",
              "    <tr>\n",
              "      <th>2</th>\n",
              "      <td>Maximum Likelihood Estimator - KappaMu</td>\n",
              "      <td>0.069296</td>\n",
              "      <td>380914.753628</td>\n",
              "    </tr>\n",
              "    <tr>\n",
              "      <th>3</th>\n",
              "      <td>Genetic Algorithm - KappaMu (MSE)</td>\n",
              "      <td>0.069476</td>\n",
              "      <td>381235.211642</td>\n",
              "    </tr>\n",
              "  </tbody>\n",
              "</table>\n",
              "</div>\n",
              "      <button class=\"colab-df-convert\" onclick=\"convertToInteractive('df-8d7d2b93-c554-456e-b03f-91432026fb75')\"\n",
              "              title=\"Convert this dataframe to an interactive table.\"\n",
              "              style=\"display:none;\">\n",
              "        \n",
              "  <svg xmlns=\"http://www.w3.org/2000/svg\" height=\"24px\"viewBox=\"0 0 24 24\"\n",
              "       width=\"24px\">\n",
              "    <path d=\"M0 0h24v24H0V0z\" fill=\"none\"/>\n",
              "    <path d=\"M18.56 5.44l.94 2.06.94-2.06 2.06-.94-2.06-.94-.94-2.06-.94 2.06-2.06.94zm-11 1L8.5 8.5l.94-2.06 2.06-.94-2.06-.94L8.5 2.5l-.94 2.06-2.06.94zm10 10l.94 2.06.94-2.06 2.06-.94-2.06-.94-.94-2.06-.94 2.06-2.06.94z\"/><path d=\"M17.41 7.96l-1.37-1.37c-.4-.4-.92-.59-1.43-.59-.52 0-1.04.2-1.43.59L10.3 9.45l-7.72 7.72c-.78.78-.78 2.05 0 2.83L4 21.41c.39.39.9.59 1.41.59.51 0 1.02-.2 1.41-.59l7.78-7.78 2.81-2.81c.8-.78.8-2.07 0-2.86zM5.41 20L4 18.59l7.72-7.72 1.47 1.35L5.41 20z\"/>\n",
              "  </svg>\n",
              "      </button>\n",
              "      \n",
              "  <style>\n",
              "    .colab-df-container {\n",
              "      display:flex;\n",
              "      flex-wrap:wrap;\n",
              "      gap: 12px;\n",
              "    }\n",
              "\n",
              "    .colab-df-convert {\n",
              "      background-color: #E8F0FE;\n",
              "      border: none;\n",
              "      border-radius: 50%;\n",
              "      cursor: pointer;\n",
              "      display: none;\n",
              "      fill: #1967D2;\n",
              "      height: 32px;\n",
              "      padding: 0 0 0 0;\n",
              "      width: 32px;\n",
              "    }\n",
              "\n",
              "    .colab-df-convert:hover {\n",
              "      background-color: #E2EBFA;\n",
              "      box-shadow: 0px 1px 2px rgba(60, 64, 67, 0.3), 0px 1px 3px 1px rgba(60, 64, 67, 0.15);\n",
              "      fill: #174EA6;\n",
              "    }\n",
              "\n",
              "    [theme=dark] .colab-df-convert {\n",
              "      background-color: #3B4455;\n",
              "      fill: #D2E3FC;\n",
              "    }\n",
              "\n",
              "    [theme=dark] .colab-df-convert:hover {\n",
              "      background-color: #434B5C;\n",
              "      box-shadow: 0px 1px 3px 1px rgba(0, 0, 0, 0.15);\n",
              "      filter: drop-shadow(0px 1px 2px rgba(0, 0, 0, 0.3));\n",
              "      fill: #FFFFFF;\n",
              "    }\n",
              "  </style>\n",
              "\n",
              "      <script>\n",
              "        const buttonEl =\n",
              "          document.querySelector('#df-8d7d2b93-c554-456e-b03f-91432026fb75 button.colab-df-convert');\n",
              "        buttonEl.style.display =\n",
              "          google.colab.kernel.accessAllowed ? 'block' : 'none';\n",
              "\n",
              "        async function convertToInteractive(key) {\n",
              "          const element = document.querySelector('#df-8d7d2b93-c554-456e-b03f-91432026fb75');\n",
              "          const dataTable =\n",
              "            await google.colab.kernel.invokeFunction('convertToInteractive',\n",
              "                                                     [key], {});\n",
              "          if (!dataTable) return;\n",
              "\n",
              "          const docLinkHtml = 'Like what you see? Visit the ' +\n",
              "            '<a target=\"_blank\" href=https://colab.research.google.com/notebooks/data_table.ipynb>data table notebook</a>'\n",
              "            + ' to learn more about interactive tables.';\n",
              "          element.innerHTML = '';\n",
              "          dataTable['output_type'] = 'display_data';\n",
              "          await google.colab.output.renderOutput(dataTable, element);\n",
              "          const docLink = document.createElement('div');\n",
              "          docLink.innerHTML = docLinkHtml;\n",
              "          element.appendChild(docLink);\n",
              "        }\n",
              "      </script>\n",
              "    </div>\n",
              "  </div>\n",
              "  "
            ]
          },
          "metadata": {}
        }
      ]
    },
    {
      "cell_type": "markdown",
      "source": [
        "## Genetic Algorithm with Shadowed $\\kappa-\\mu$:"
      ],
      "metadata": {
        "id": "Nc-dWQPvRZge"
      }
    },
    {
      "cell_type": "code",
      "source": [
        "def shadowedKappaMuPDF(r, kappa, mu, omega, md):\n",
        "  '''\n",
        "  shadowed kappa-mu pdf.\n",
        "  '''\n",
        "  A = 2 * r**((2*mu) -1) / omega**(mu)\n",
        "  B = (mu**mu * md**md * (1+kappa)**mu) / (sp.gamma(mu) * ((mu*kappa)+md)**md)\n",
        "  C = np.exp((- mu * (1+kappa) * r**2) / omega)\n",
        "  D = (mu**2) * kappa * (1+kappa) * (r**2)\n",
        "  E = ((mu*kappa)+md) * omega\n",
        "  F = sp.hyp1f1(md, mu, D / E)\n",
        "\n",
        "  pdf = A * B * C * F\n",
        "  return pdf\n",
        "\n",
        "def fitness_sku(X, Y, fitnessType, kappa, mu, omega, md):\n",
        "  '''\n",
        "  Fitness function (MSE/RAD) to determine how good a given solution is.\n",
        "  '''\n",
        "  if fitnessType == 'MSE':\n",
        "    y_pred = shadowedKappaMuPDF(X, kappa, mu, omega, md)\n",
        "    n = len(Y)\n",
        "    sum = []\n",
        "    for val in (Y-y_pred):\n",
        "      sum.append(val**2)\n",
        "    sum = np.sum(sum)\n",
        "    cost = 1/n * sum\n",
        "    return 1/cost\n",
        "  elif fitnessType == 'RAD':\n",
        "    pVec1 = Y/np.sum(Y)\n",
        "    pVec2 = shadowedKappaMuPDF(X, kappa, mu, omega, md)/np.sum(shadowedKappaMuPDF(X, kappa, mu, omega, md))\n",
        "    KLD_1 = kldiv(pVec1, pVec2)\n",
        "    KLD_2 = kldiv(pVec2, pVec1)\n",
        "    cost = RAD(KLD_1, KLD_2)\n",
        "    return 1/cost\n",
        "\n",
        "\n",
        "def geneticAlgorithm_sku(X, Y, mleResults):\n",
        "  '''\n",
        "  Evolutionary Loop\n",
        "  '''\n",
        "  solutions = []\n",
        "  bestParams = []\n",
        "  bestCriteria = 0\n",
        "  bestGen = 0\n",
        "\n",
        "\n",
        "  # Generate solutions (chromossomes)\n",
        "  for s in range(nPopulation):\n",
        "    solutions.append((random.uniform(0.01, 10), # kappa\n",
        "                        random.uniform(0.1, 1.0), # mu\n",
        "                        random.uniform(0.1, 1.0), # r_hat^2\n",
        "                        random.uniform(0.1, 1.0))) # md\n",
        "\n",
        "  # Evolutionary Loop\n",
        "  for i in range(nMaxGen):\n",
        "    rankedSolutions = []\t\n",
        "    for s in solutions:\n",
        "      rankedSolutions.append( (fitness_sku(X, Y, fitnessType, s[0],s[1],s[2],s[3]), s) )\n",
        "    rankedSolutions.sort()\n",
        "    rankedSolutions.reverse()\n",
        "    \n",
        "    print(f'=== Generation: {i} === ')\n",
        "    print(f'Fitness: {rankedSolutions[0][0]}')\n",
        "    print('Best individual:')\n",
        "    print(f'Kappa: {rankedSolutions[0][1][0]}')\n",
        "    print(f'Mu: {rankedSolutions[0][1][1]}')\n",
        "    print(f'Omega: {rankedSolutions[0][1][2]}')\n",
        "    print(f'Md: {rankedSolutions[0][1][3]}\\n')\n",
        "\n",
        "    plt.figure(figsize=((10,7)))\n",
        "    plt.plot(20*np.log10(X), shadowedKappaMuPDF(X, rankedSolutions[0][1][0], rankedSolutions[0][1][1], rankedSolutions[0][1][2], rankedSolutions[0][1][3]), label='Predicted')\n",
        "    plt.scatter(20*np.log10(X), Y, color='m', label='Real')\n",
        "    plt.plot(20*np.log10(X), shadowedKappaMuPDF(X, mle_shadowed_kappa_mu[0], mle_shadowed_kappa_mu[1], mle_shadowed_kappa_mu[2], mle_shadowed_kappa_mu[3]), label='Nidhi\\'s MLE')\n",
        "    plt.title(f'=== Generation: {i} === ')\n",
        "    plt.legend()\n",
        "    plt.grid(True)\n",
        "    plt.xlabel(r'$\\rho=r/\\hat{r}$')\n",
        "    plt.ylabel('pdf')\n",
        "    if savePlots: \n",
        "      plt.savefig(f'plots/gen/gen_{i}.png')\n",
        "    \n",
        "    if showPlots:\n",
        "      plt.show()\n",
        "      plt.clf()\n",
        "    else: \n",
        "      plt.clf()\n",
        "\n",
        "    # Keeping track the best params and generation:\n",
        "    if rankedSolutions[0][0] > bestCriteria:\n",
        "      bestCriteria = rankedSolutions[0][0]\n",
        "      bestGen = i\n",
        "      bestParams = rankedSolutions[0][1]\n",
        "\n",
        "    # Combine the best solutions and make a new solution of those combined solutions\n",
        "    bestSolutions = rankedSolutions[:100]\n",
        "    elements_kappa = []\n",
        "    elements_mu = []\n",
        "    elements_omega = [] \n",
        "    elements_md = [] \n",
        "    for s in bestSolutions:\n",
        "      elements_kappa.append(s[1][0])\n",
        "      elements_mu.append(s[1][1])\n",
        "      elements_omega.append(s[1][2])\n",
        "      elements_md.append(s[1][3])\n",
        "\n",
        "    newGen = []\n",
        "    for _ in range(nPopulation):\n",
        "      e1 = random.choice(elements_kappa) * random.uniform(0.975,1.025) # Mutation of 5%\n",
        "      e2 = random.choice(elements_mu) * random.uniform(0.975,1.025) # Mutation of 5%\n",
        "      e3 = random.choice(elements_omega) * random.uniform(0.975,1.025) # Mutation of 5%\n",
        "      e4 = random.choice(elements_md) * random.uniform(0.975,1.025) # Mutation of 5%\n",
        "      \n",
        "      newGen.append((e1,e2,e3,e4))\n",
        "\n",
        "    solutions = newGen\n",
        "    \n",
        "    if i == nMaxGen-1:\n",
        "      print('='*10+'\\n'+'Max number of generations exceeded!\\n'+'='*10+'\\n')\n",
        "      # print()\n",
        "      # print('='*10)\n",
        "      print('Best Fitness: {}\\nBest Gen: {}'.format(bestCriteria, bestGen))\n",
        "      print('Kappa: {}\\nMu: {}\\nOmega: {}\\nMd: {}'.format(bestParams[0],bestParams[1],bestParams[2],bestParams[3]))\n",
        "\n",
        "      return bestParams[0],bestParams[1],bestParams[2],bestParams[3]"
      ],
      "metadata": {
        "id": "4hMqftuWqV7h"
      },
      "execution_count": 28,
      "outputs": []
    },
    {
      "cell_type": "markdown",
      "source": [
        "### GA: Shadowed $\\kappa-\\mu$ (MSE) fit"
      ],
      "metadata": {
        "id": "SamrsctfUgqb"
      }
    },
    {
      "cell_type": "code",
      "source": [
        "fitnessType = 'MSE'\n",
        "# X, Y = getDensityEstimationSamples(pathAB_linear[nAP].dropna(), nExtractedSamples)\n",
        "kappa_hat_sku, mu_hat_sku, omega_hat_sku, md_hat_sku = geneticAlgorithm_sku(Xdata,Ydata, mle_shadowed_kappa_mu)"
      ],
      "metadata": {
        "colab": {
          "base_uri": "https://localhost:8080/",
          "height": 1000
        },
        "id": "SLmSxY6O2WLS",
        "outputId": "2efe57af-ed13-490e-f646-88470a80e41c"
      },
      "execution_count": 29,
      "outputs": [
        {
          "output_type": "stream",
          "name": "stderr",
          "text": [
            "/usr/local/lib/python3.7/dist-packages/ipykernel_launcher.py:12: RuntimeWarning: invalid value encountered in multiply\n",
            "  if sys.path[0] == '':\n"
          ]
        },
        {
          "output_type": "stream",
          "name": "stdout",
          "text": [
            "=== Generation: 0 === \n",
            "Fitness: nan\n",
            "Best individual:\n",
            "Kappa: 6.773268080990648\n",
            "Mu: 0.76161801519317\n",
            "Omega: 0.16866953529436476\n",
            "Md: 0.7376384538169947\n",
            "\n"
          ]
        },
        {
          "output_type": "stream",
          "name": "stderr",
          "text": [
            "/usr/local/lib/python3.7/dist-packages/ipykernel_launcher.py:12: RuntimeWarning: invalid value encountered in multiply\n",
            "  if sys.path[0] == '':\n"
          ]
        },
        {
          "output_type": "stream",
          "name": "stdout",
          "text": [
            "=== Generation: 1 === \n",
            "Fitness: nan\n",
            "Best individual:\n",
            "Kappa: 6.859327601142026\n",
            "Mu: 0.8545414483104811\n",
            "Omega: 0.1727577443817141\n",
            "Md: 0.9182645631120083\n",
            "\n"
          ]
        },
        {
          "output_type": "stream",
          "name": "stderr",
          "text": [
            "/usr/local/lib/python3.7/dist-packages/ipykernel_launcher.py:12: RuntimeWarning: invalid value encountered in multiply\n",
            "  if sys.path[0] == '':\n"
          ]
        },
        {
          "output_type": "stream",
          "name": "stdout",
          "text": [
            "=== Generation: 2 === \n",
            "Fitness: 363.93105301699825\n",
            "Best individual:\n",
            "Kappa: 2.5191352255282773\n",
            "Mu: 0.9427564382209945\n",
            "Omega: 0.9384431583400187\n",
            "Md: 0.7089278661887302\n",
            "\n"
          ]
        },
        {
          "output_type": "stream",
          "name": "stderr",
          "text": [
            "/usr/local/lib/python3.7/dist-packages/ipykernel_launcher.py:12: RuntimeWarning: invalid value encountered in multiply\n",
            "  if sys.path[0] == '':\n"
          ]
        },
        {
          "output_type": "stream",
          "name": "stdout",
          "text": [
            "=== Generation: 3 === \n",
            "Fitness: 373.11775675996074\n",
            "Best individual:\n",
            "Kappa: 7.978981235150527\n",
            "Mu: 0.944009987230209\n",
            "Omega: 0.9582835963293093\n",
            "Md: 0.7592280066575489\n",
            "\n",
            "=== Generation: 4 === \n",
            "Fitness: 464.99073820273793\n",
            "Best individual:\n",
            "Kappa: 4.156884670933029\n",
            "Mu: 0.9477385955199589\n",
            "Omega: 0.9864000471516664\n",
            "Md: 0.6283035256566956\n",
            "\n",
            "=== Generation: 5 === \n",
            "Fitness: 462.780577443798\n",
            "Best individual:\n",
            "Kappa: 5.131943902190956\n",
            "Mu: 0.9983590512186342\n",
            "Omega: 0.988535716930655\n",
            "Md: 0.6493591453655442\n",
            "\n",
            "=== Generation: 6 === \n",
            "Fitness: 479.3520323504369\n",
            "Best individual:\n",
            "Kappa: 4.18503524438758\n",
            "Mu: 0.9965343283644951\n",
            "Omega: 0.9944917467593233\n",
            "Md: 0.6466538297579023\n",
            "\n",
            "=== Generation: 7 === \n",
            "Fitness: 543.6394905295849\n",
            "Best individual:\n",
            "Kappa: 4.219635848463301\n",
            "Mu: 0.9836038833457175\n",
            "Omega: 1.0531852281476473\n",
            "Md: 0.6229210566648542\n",
            "\n",
            "=== Generation: 8 === \n",
            "Fitness: 577.5092747133209\n",
            "Best individual:\n",
            "Kappa: 4.981164485090076\n",
            "Mu: 1.0476370222960867\n",
            "Omega: 1.0771606237842903\n",
            "Md: 0.611709440529874\n",
            "\n",
            "=== Generation: 9 === \n",
            "Fitness: 619.0103609360491\n",
            "Best individual:\n",
            "Kappa: 3.2998852966317904\n",
            "Mu: 0.9943808349008815\n",
            "Omega: 1.069658341702277\n",
            "Md: 0.5665227256518178\n",
            "\n",
            "=== Generation: 10 === \n",
            "Fitness: 669.9155401996693\n",
            "Best individual:\n",
            "Kappa: 3.887783101445464\n",
            "Mu: 1.0052416707472125\n",
            "Omega: 1.1222538366347723\n",
            "Md: 0.5573999824495606\n",
            "\n",
            "=== Generation: 11 === \n",
            "Fitness: 688.5675469281741\n",
            "Best individual:\n",
            "Kappa: 4.087139200827555\n",
            "Mu: 1.03511374693535\n",
            "Omega: 1.1153612056514495\n",
            "Md: 0.549342334707041\n",
            "\n",
            "=== Generation: 12 === \n",
            "Fitness: 743.3378158315443\n",
            "Best individual:\n",
            "Kappa: 4.231345722231244\n",
            "Mu: 1.0816936380151378\n",
            "Omega: 1.1470516263477553\n",
            "Md: 0.5308400967876552\n",
            "\n",
            "=== Generation: 13 === \n",
            "Fitness: 752.9621562847971\n",
            "Best individual:\n",
            "Kappa: 3.996967449341688\n",
            "Mu: 1.063270019976671\n",
            "Omega: 1.1556458633634321\n",
            "Md: 0.5287120893488664\n",
            "\n",
            "=== Generation: 14 === \n",
            "Fitness: 775.0313236908928\n",
            "Best individual:\n",
            "Kappa: 4.088217555380727\n",
            "Mu: 1.085329705699322\n",
            "Omega: 1.1703900159631315\n",
            "Md: 0.5209138920895456\n",
            "\n",
            "=== Generation: 15 === \n",
            "Fitness: 826.4254099100349\n",
            "Best individual:\n",
            "Kappa: 3.9819076979159163\n",
            "Mu: 1.0940537412269218\n",
            "Omega: 1.1854520761863285\n",
            "Md: 0.5004297483092673\n",
            "\n",
            "=== Generation: 16 === \n",
            "Fitness: 836.8127497115587\n",
            "Best individual:\n",
            "Kappa: 3.8963367970136704\n",
            "Mu: 1.0700220789742787\n",
            "Omega: 1.2027763150823754\n",
            "Md: 0.4966483188500844\n",
            "\n",
            "=== Generation: 17 === \n",
            "Fitness: 885.1378722626132\n",
            "Best individual:\n",
            "Kappa: 3.8272961779146595\n",
            "Mu: 1.0842713708022294\n",
            "Omega: 1.2308272132851734\n",
            "Md: 0.4793816376087957\n",
            "\n",
            "=== Generation: 18 === \n",
            "Fitness: 899.842439737547\n",
            "Best individual:\n",
            "Kappa: 4.094391070654806\n",
            "Mu: 1.095416030666033\n",
            "Omega: 1.243879453684104\n",
            "Md: 0.47007580323281073\n",
            "\n",
            "=== Generation: 19 === \n",
            "Fitness: 935.9764132594934\n",
            "Best individual:\n",
            "Kappa: 3.7871952877674864\n",
            "Mu: 1.086355544611155\n",
            "Omega: 1.2305468108095121\n",
            "Md: 0.46179555925256816\n",
            "\n",
            "=== Generation: 20 === \n",
            "Fitness: 960.0159488676092\n",
            "Best individual:\n",
            "Kappa: 3.7333895422208925\n",
            "Mu: 1.094113932610499\n",
            "Omega: 1.2375426762815724\n",
            "Md: 0.4546981435737334\n",
            "\n",
            "=== Generation: 21 === \n",
            "Fitness: 998.2739490911755\n",
            "Best individual:\n",
            "Kappa: 3.668693441158684\n",
            "Mu: 1.1333933306049364\n",
            "Omega: 1.2551490296407182\n",
            "Md: 0.4390077345470861\n",
            "\n",
            "=== Generation: 22 === \n",
            "Fitness: 1030.3549485454887\n",
            "Best individual:\n",
            "Kappa: 3.696516267508148\n",
            "Mu: 1.093845587183175\n",
            "Omega: 1.2774486321030272\n",
            "Md: 0.4314938721140647\n",
            "\n",
            "=== Generation: 23 === \n",
            "Fitness: 1057.045246727791\n",
            "Best individual:\n",
            "Kappa: 3.674209729880717\n",
            "Mu: 1.1208995403207989\n",
            "Omega: 1.280792664987888\n",
            "Md: 0.42116042369279033\n",
            "\n",
            "=== Generation: 24 === \n",
            "Fitness: 1094.919319673644\n",
            "Best individual:\n",
            "Kappa: 3.479394774315807\n",
            "Mu: 1.0889285586132262\n",
            "Omega: 1.2738318122526735\n",
            "Md: 0.4106179597347877\n",
            "\n",
            "=== Generation: 25 === \n",
            "Fitness: 1127.6432712339122\n",
            "Best individual:\n",
            "Kappa: 3.5386780578392854\n",
            "Mu: 1.1124366030290576\n",
            "Omega: 1.3082978027866106\n",
            "Md: 0.40339542629758746\n",
            "\n",
            "=== Generation: 26 === \n",
            "Fitness: 1162.1922443180501\n",
            "Best individual:\n",
            "Kappa: 3.422179837387083\n",
            "Mu: 1.0935178369066267\n",
            "Omega: 1.3074693889116096\n",
            "Md: 0.39497850822919367\n",
            "\n",
            "=== Generation: 27 === \n",
            "Fitness: 1183.8694128374466\n",
            "Best individual:\n",
            "Kappa: 3.336688154717378\n",
            "Mu: 1.1147808230946772\n",
            "Omega: 1.3170218520905976\n",
            "Md: 0.39004012655059134\n",
            "\n",
            "=== Generation: 28 === \n",
            "Fitness: 1216.291903387552\n",
            "Best individual:\n",
            "Kappa: 3.3144458153239658\n",
            "Mu: 1.0815937737538768\n",
            "Omega: 1.339748483722591\n",
            "Md: 0.3822629534964047\n",
            "\n",
            "=== Generation: 29 === \n",
            "Fitness: 1248.164164050996\n",
            "Best individual:\n",
            "Kappa: 3.2416639121350026\n",
            "Mu: 1.0789276152841647\n",
            "Omega: 1.3462616466541055\n",
            "Md: 0.37489100164703476\n",
            "\n",
            "=== Generation: 30 === \n",
            "Fitness: 1273.032095216723\n",
            "Best individual:\n",
            "Kappa: 3.257862819659965\n",
            "Mu: 1.0848519431608583\n",
            "Omega: 1.348192069879741\n",
            "Md: 0.3669799776624876\n",
            "\n",
            "=== Generation: 31 === \n",
            "Fitness: 1300.8580922923618\n",
            "Best individual:\n",
            "Kappa: 3.2520083663884285\n",
            "Mu: 1.1089354646124459\n",
            "Omega: 1.3683696320945438\n",
            "Md: 0.35865469354803353\n",
            "\n",
            "=== Generation: 32 === \n",
            "Fitness: 1340.6618295968506\n",
            "Best individual:\n",
            "Kappa: 3.129125965484528\n",
            "Mu: 1.0907825337710995\n",
            "Omega: 1.363864773089479\n",
            "Md: 0.35240710290328886\n",
            "\n",
            "=== Generation: 33 === \n",
            "Fitness: 1375.8921391957747\n",
            "Best individual:\n",
            "Kappa: 3.0268444827700747\n",
            "Mu: 1.0734339461842266\n",
            "Omega: 1.3719805784021912\n",
            "Md: 0.34502313681303515\n",
            "\n",
            "=== Generation: 34 === \n",
            "Fitness: 1392.0408377246442\n",
            "Best individual:\n",
            "Kappa: 3.0092592129357576\n",
            "Mu: 1.1068013460879345\n",
            "Omega: 1.375200754729933\n",
            "Md: 0.33520573809557214\n",
            "\n",
            "=== Generation: 35 === \n",
            "Fitness: 1418.5090297297493\n",
            "Best individual:\n",
            "Kappa: 2.9910054657798284\n",
            "Mu: 1.0907880649113924\n",
            "Omega: 1.3841603825959612\n",
            "Md: 0.33324294199315413\n",
            "\n",
            "=== Generation: 36 === \n",
            "Fitness: 1446.0276953396553\n",
            "Best individual:\n",
            "Kappa: 2.921630069307872\n",
            "Mu: 1.082010926142828\n",
            "Omega: 1.4182296025573176\n",
            "Md: 0.3238336379074269\n",
            "\n",
            "=== Generation: 37 === \n",
            "Fitness: 1478.3335111588124\n",
            "Best individual:\n",
            "Kappa: 2.8456023088748545\n",
            "Mu: 1.069311233863078\n",
            "Omega: 1.3846107251973871\n",
            "Md: 0.3174682128175647\n",
            "\n",
            "=== Generation: 38 === \n",
            "Fitness: 1493.0367140050444\n",
            "Best individual:\n",
            "Kappa: 2.840715235003134\n",
            "Mu: 1.08396176844039\n",
            "Omega: 1.3979486978481552\n",
            "Md: 0.31358753746415596\n",
            "\n",
            "=== Generation: 39 === \n",
            "Fitness: 1523.7735775728167\n",
            "Best individual:\n",
            "Kappa: 2.852273332255208\n",
            "Mu: 1.071710164149271\n",
            "Omega: 1.4277513320819428\n",
            "Md: 0.306662842153354\n",
            "\n",
            "=== Generation: 40 === \n",
            "Fitness: 1538.657697058565\n",
            "Best individual:\n",
            "Kappa: 2.842709141843098\n",
            "Mu: 1.0769068262557988\n",
            "Omega: 1.4297485614173169\n",
            "Md: 0.300832855825543\n",
            "\n",
            "=== Generation: 41 === \n",
            "Fitness: 1559.0337216904602\n",
            "Best individual:\n",
            "Kappa: 2.733832074921029\n",
            "Mu: 1.0593945046033773\n",
            "Omega: 1.4334877826128678\n",
            "Md: 0.29706092537006357\n",
            "\n",
            "=== Generation: 42 === \n",
            "Fitness: 1573.24112824159\n",
            "Best individual:\n",
            "Kappa: 2.7999261745124113\n",
            "Mu: 1.0720336041779994\n",
            "Omega: 1.4506480532294257\n",
            "Md: 0.2904330446059342\n",
            "\n",
            "=== Generation: 43 === \n",
            "Fitness: 1590.8917815608863\n",
            "Best individual:\n",
            "Kappa: 2.7349378375594404\n",
            "Mu: 1.0588816423343337\n",
            "Omega: 1.4489209511477825\n",
            "Md: 0.28498822124215395\n",
            "\n",
            "=== Generation: 44 === \n",
            "Fitness: 1602.0952130845412\n",
            "Best individual:\n",
            "Kappa: 2.6888001862450635\n",
            "Mu: 1.0599032642020438\n",
            "Omega: 1.4462944439369172\n",
            "Md: 0.2814446181734646\n",
            "\n",
            "=== Generation: 45 === \n",
            "Fitness: 1624.0330275851588\n",
            "Best individual:\n",
            "Kappa: 2.6516894572898884\n",
            "Mu: 1.0627859209530328\n",
            "Omega: 1.4630593899843274\n",
            "Md: 0.2718315688461236\n",
            "\n",
            "=== Generation: 46 === \n",
            "Fitness: 1632.221284886932\n",
            "Best individual:\n",
            "Kappa: 2.664448201135667\n",
            "Mu: 1.0476979842598513\n",
            "Omega: 1.4955325449943735\n",
            "Md: 0.2663478351124237\n",
            "\n",
            "=== Generation: 47 === \n",
            "Fitness: 1638.4216876673468\n",
            "Best individual:\n",
            "Kappa: 2.6382623234621505\n",
            "Mu: 1.0544475617023072\n",
            "Omega: 1.49757183291704\n",
            "Md: 0.26445752646961274\n",
            "\n",
            "=== Generation: 48 === \n",
            "Fitness: 1648.5332107638314\n",
            "Best individual:\n",
            "Kappa: 2.6315483482148894\n",
            "Mu: 1.0540764916632699\n",
            "Omega: 1.4970909521819526\n",
            "Md: 0.2580131404605505\n",
            "\n",
            "=== Generation: 49 === \n",
            "Fitness: 1650.2821745382648\n",
            "Best individual:\n",
            "Kappa: 2.5826726454300375\n",
            "Mu: 1.0563329631132765\n",
            "Omega: 1.4960172656988624\n",
            "Md: 0.2579296982161409\n",
            "\n",
            "=== Generation: 50 === \n",
            "Fitness: 1657.3685119753563\n",
            "Best individual:\n",
            "Kappa: 2.5678091769960885\n",
            "Mu: 1.0506096846062043\n",
            "Omega: 1.5005102151953464\n",
            "Md: 0.2540495148955865\n",
            "\n",
            "=== Generation: 51 === \n",
            "Fitness: 1661.1368122746492\n",
            "Best individual:\n",
            "Kappa: 2.5521131471749245\n",
            "Mu: 1.0497835959107191\n",
            "Omega: 1.5062717980013693\n",
            "Md: 0.2495659441852148\n",
            "\n",
            "=== Generation: 52 === \n",
            "Fitness: 1659.3017766386631\n",
            "Best individual:\n",
            "Kappa: 2.5840482001574596\n",
            "Mu: 1.0528660033590695\n",
            "Omega: 1.5147944139629526\n",
            "Md: 0.2502648213605937\n",
            "\n",
            "=== Generation: 53 === \n",
            "Fitness: 1664.342178197537\n",
            "Best individual:\n",
            "Kappa: 2.517603572407549\n",
            "Mu: 1.0387067469157436\n",
            "Omega: 1.5217182887941232\n",
            "Md: 0.2422713912045202\n",
            "\n",
            "=== Generation: 54 === \n",
            "Fitness: 1664.6139555189345\n",
            "Best individual:\n",
            "Kappa: 2.5089765697374298\n",
            "Mu: 1.041412414629611\n",
            "Omega: 1.5134473126032968\n",
            "Md: 0.24433029296779885\n",
            "\n",
            "=== Generation: 55 === \n",
            "Fitness: 1664.0765764343234\n",
            "Best individual:\n",
            "Kappa: 2.5082150245877837\n",
            "Mu: 1.0454759551697947\n",
            "Omega: 1.5355076753776147\n",
            "Md: 0.23760247684268573\n",
            "\n",
            "=== Generation: 56 === \n",
            "Fitness: 1665.0328536860297\n",
            "Best individual:\n",
            "Kappa: 2.531278164325\n",
            "Mu: 1.0462121016099841\n",
            "Omega: 1.525150954274506\n",
            "Md: 0.242152853522652\n",
            "\n",
            "=== Generation: 57 === \n",
            "Fitness: 1665.2593807531737\n",
            "Best individual:\n",
            "Kappa: 2.520085392956704\n",
            "Mu: 1.0431927006261597\n",
            "Omega: 1.5328051743568665\n",
            "Md: 0.23936824441469354\n",
            "\n",
            "=== Generation: 58 === \n",
            "Fitness: 1665.478808533063\n",
            "Best individual:\n",
            "Kappa: 2.5137218354631043\n",
            "Mu: 1.0407628436981209\n",
            "Omega: 1.5300020373695942\n",
            "Md: 0.23809813928753884\n",
            "\n",
            "=== Generation: 59 === \n",
            "Fitness: 1665.6174600864797\n",
            "Best individual:\n",
            "Kappa: 2.501823786693589\n",
            "Mu: 1.03960883865789\n",
            "Omega: 1.5245099365288675\n",
            "Md: 0.239656405786085\n",
            "\n",
            "=== Generation: 60 === \n",
            "Fitness: 1665.5463121747218\n",
            "Best individual:\n",
            "Kappa: 2.4928898879265065\n",
            "Mu: 1.0399169951884375\n",
            "Omega: 1.532706540678433\n",
            "Md: 0.2360761495327943\n",
            "\n",
            "=== Generation: 61 === \n",
            "Fitness: 1665.8456955096383\n",
            "Best individual:\n",
            "Kappa: 2.505572655154482\n",
            "Mu: 1.0426860603474026\n",
            "Omega: 1.5259038323122887\n",
            "Md: 0.23911075684577013\n",
            "\n",
            "=== Generation: 62 === \n",
            "Fitness: 1664.9929334479068\n",
            "Best individual:\n",
            "Kappa: 2.5335010501468638\n",
            "Mu: 1.0463415979854973\n",
            "Omega: 1.5226236650482212\n",
            "Md: 0.24253057397234923\n",
            "\n",
            "=== Generation: 63 === \n",
            "Fitness: 1665.742262254929\n",
            "Best individual:\n",
            "Kappa: 2.499688448543398\n",
            "Mu: 1.040300906597673\n",
            "Omega: 1.5283792413124766\n",
            "Md: 0.23769957130975566\n",
            "\n",
            "=== Generation: 64 === \n",
            "Fitness: 1665.48664292727\n",
            "Best individual:\n",
            "Kappa: 2.519580575288094\n",
            "Mu: 1.0416269369771727\n",
            "Omega: 1.5250175354598199\n",
            "Md: 0.24124324083596563\n",
            "\n",
            "=== Generation: 65 === \n",
            "Fitness: 1665.3508866487964\n",
            "Best individual:\n",
            "Kappa: 2.4876191969406993\n",
            "Mu: 1.0404267734004158\n",
            "Omega: 1.5200131616159598\n",
            "Md: 0.24058980169147917\n",
            "\n",
            "=== Generation: 66 === \n",
            "Fitness: 1665.397664565362\n",
            "Best individual:\n",
            "Kappa: 2.4792491215817893\n",
            "Mu: 1.0389358930650903\n",
            "Omega: 1.5293766577988732\n",
            "Md: 0.23609998103097266\n",
            "\n",
            "=== Generation: 67 === \n",
            "Fitness: 1665.6137377073223\n",
            "Best individual:\n",
            "Kappa: 2.5056579850557053\n",
            "Mu: 1.0441407345120144\n",
            "Omega: 1.5231088072941654\n",
            "Md: 0.2400615949069337\n",
            "\n",
            "=== Generation: 68 === \n",
            "Fitness: 1664.5900402059883\n",
            "Best individual:\n",
            "Kappa: 2.4740921282924573\n",
            "Mu: 1.0412023658488316\n",
            "Omega: 1.5241186518931977\n",
            "Md: 0.23847151623308352\n",
            "\n",
            "=== Generation: 69 === \n",
            "Fitness: 1665.3152794876673\n",
            "Best individual:\n",
            "Kappa: 2.4789582537038317\n",
            "Mu: 1.039667306360443\n",
            "Omega: 1.5178922814087634\n",
            "Md: 0.23916814121617236\n",
            "\n",
            "=== Generation: 70 === \n",
            "Fitness: 1665.5116853326444\n",
            "Best individual:\n",
            "Kappa: 2.49688345568715\n",
            "Mu: 1.0400839413285605\n",
            "Omega: 1.5300688290540534\n",
            "Md: 0.23815582471741936\n",
            "\n",
            "=== Generation: 71 === \n",
            "Fitness: 1665.6862354674947\n",
            "Best individual:\n",
            "Kappa: 2.501128402316729\n",
            "Mu: 1.0433250513665477\n",
            "Omega: 1.5222299576512206\n",
            "Md: 0.24014018874694437\n",
            "\n",
            "=== Generation: 72 === \n",
            "Fitness: 1665.372703797202\n",
            "Best individual:\n",
            "Kappa: 2.5292367772603193\n",
            "Mu: 1.0441965511074915\n",
            "Omega: 1.5240448318489572\n",
            "Md: 0.2416052583577599\n",
            "\n",
            "=== Generation: 73 === \n",
            "Fitness: 1665.395140972074\n",
            "Best individual:\n",
            "Kappa: 2.5218260239307577\n",
            "Mu: 1.04464173724023\n",
            "Omega: 1.5317550625687575\n",
            "Md: 0.23824293322357368\n",
            "\n",
            "=== Generation: 74 === \n",
            "Fitness: 1665.2564657731125\n",
            "Best individual:\n",
            "Kappa: 2.522704112781926\n",
            "Mu: 1.0448692684122776\n",
            "Omega: 1.5293926286051034\n",
            "Md: 0.23868550480198472\n",
            "\n",
            "=== Generation: 75 === \n",
            "Fitness: 1665.3473879469375\n",
            "Best individual:\n",
            "Kappa: 2.5044938768417153\n",
            "Mu: 1.0404025485511856\n",
            "Omega: 1.5211888608273476\n",
            "Md: 0.23999085684596633\n",
            "\n",
            "=== Generation: 76 === \n",
            "Fitness: 1665.2455024615697\n",
            "Best individual:\n",
            "Kappa: 2.4828190627495452\n",
            "Mu: 1.0422883216584846\n",
            "Omega: 1.5276835962958097\n",
            "Md: 0.2367170826642973\n",
            "\n",
            "=== Generation: 77 === \n",
            "Fitness: 1665.6557692632705\n",
            "Best individual:\n",
            "Kappa: 2.5131753173218025\n",
            "Mu: 1.0422820390891465\n",
            "Omega: 1.5230612315215515\n",
            "Md: 0.24129146576569324\n",
            "\n",
            "=== Generation: 78 === \n",
            "Fitness: 1665.8390710293784\n",
            "Best individual:\n",
            "Kappa: 2.499587446621612\n",
            "Mu: 1.0422594045940454\n",
            "Omega: 1.52571097558722\n",
            "Md: 0.23870419589185476\n",
            "\n",
            "=== Generation: 79 === \n",
            "Fitness: 1664.95472142981\n",
            "Best individual:\n",
            "Kappa: 2.465440327798799\n",
            "Mu: 1.0394422205215659\n",
            "Omega: 1.522992875302959\n",
            "Md: 0.23631366910914725\n",
            "\n",
            "=== Generation: 80 === \n",
            "Fitness: 1665.4578327938648\n",
            "Best individual:\n",
            "Kappa: 2.5034193870947834\n",
            "Mu: 1.0419868349211872\n",
            "Omega: 1.5340182464607344\n",
            "Md: 0.23716690387662784\n",
            "\n",
            "=== Generation: 81 === \n",
            "Fitness: 1665.5457578875719\n",
            "Best individual:\n",
            "Kappa: 2.5166993367270107\n",
            "Mu: 1.0422603594188022\n",
            "Omega: 1.5315074591862667\n",
            "Md: 0.23922612680397118\n",
            "\n",
            "=== Generation: 82 === \n",
            "Fitness: 1664.7585306571264\n",
            "Best individual:\n",
            "Kappa: 2.4899187245148893\n",
            "Mu: 1.040327210277476\n",
            "Omega: 1.5249023181545578\n",
            "Md: 0.24005477600602362\n",
            "\n",
            "=== Generation: 83 === \n",
            "Fitness: 1664.9076025424126\n",
            "Best individual:\n",
            "Kappa: 2.4639650890623477\n",
            "Mu: 1.039261175012923\n",
            "Omega: 1.523049694921426\n",
            "Md: 0.23621831098379922\n",
            "\n",
            "=== Generation: 84 === \n",
            "Fitness: 1664.7287975404952\n",
            "Best individual:\n",
            "Kappa: 2.4760917180911095\n",
            "Mu: 1.0431368206129408\n",
            "Omega: 1.5193135393327275\n",
            "Md: 0.23918190220640098\n",
            "\n",
            "=== Generation: 85 === \n",
            "Fitness: 1665.3697424454551\n",
            "Best individual:\n",
            "Kappa: 2.4999005851987453\n",
            "Mu: 1.0416891329982445\n",
            "Omega: 1.5335591194367446\n",
            "Md: 0.23720291547926978\n",
            "\n",
            "=== Generation: 86 === \n",
            "Fitness: 1664.984719340357\n",
            "Best individual:\n",
            "Kappa: 2.4915910579469407\n",
            "Mu: 1.043852553330397\n",
            "Omega: 1.5194254920137733\n",
            "Md: 0.24092729068955265\n",
            "\n",
            "=== Generation: 87 === \n",
            "Fitness: 1664.7794922343578\n",
            "Best individual:\n",
            "Kappa: 2.517488503544199\n",
            "Mu: 1.0400883378925818\n",
            "Omega: 1.5297900050539037\n",
            "Md: 0.2405443710002265\n",
            "\n",
            "=== Generation: 88 === \n",
            "Fitness: 1665.5723635796583\n",
            "Best individual:\n",
            "Kappa: 2.489345723251976\n",
            "Mu: 1.0395709969812743\n",
            "Omega: 1.5307784903814985\n",
            "Md: 0.23627780910168736\n",
            "\n",
            "=== Generation: 89 === \n",
            "Fitness: 1664.8903474611413\n",
            "Best individual:\n",
            "Kappa: 2.482397800658836\n",
            "Mu: 1.0369258151693148\n",
            "Omega: 1.531721985163188\n",
            "Md: 0.23629889183467423\n",
            "\n",
            "=== Generation: 90 === \n",
            "Fitness: 1665.7137088326297\n",
            "Best individual:\n",
            "Kappa: 2.498877039003121\n",
            "Mu: 1.0396675870634067\n",
            "Omega: 1.5257365111101722\n",
            "Md: 0.23890384571903528\n",
            "\n",
            "=== Generation: 91 === \n",
            "Fitness: 1665.4751395454293\n",
            "Best individual:\n",
            "Kappa: 2.5268117889876844\n",
            "Mu: 1.0439613143853397\n",
            "Omega: 1.531993446150507\n",
            "Md: 0.23877928976784096\n",
            "\n",
            "=== Generation: 92 === \n",
            "Fitness: 1665.7850056597604\n",
            "Best individual:\n",
            "Kappa: 2.504637147071034\n",
            "Mu: 1.040976136600607\n",
            "Omega: 1.5307273342498955\n",
            "Md: 0.2378840781958218\n",
            "\n",
            "=== Generation: 93 === \n",
            "Fitness: 1665.5505410056114\n",
            "Best individual:\n",
            "Kappa: 2.518608186924361\n",
            "Mu: 1.044496441131058\n",
            "Omega: 1.5306725475823728\n",
            "Md: 0.23867953387398982\n",
            "\n",
            "=== Generation: 94 === \n",
            "Fitness: 1664.9661791561705\n",
            "Best individual:\n",
            "Kappa: 2.492416969280001\n",
            "Mu: 1.038898286284805\n",
            "Omega: 1.5367259795644124\n",
            "Md: 0.23564008720095012\n",
            "\n",
            "=== Generation: 95 === \n",
            "Fitness: 1665.8452693758825\n",
            "Best individual:\n",
            "Kappa: 2.4991305770018553\n",
            "Mu: 1.0409771604942277\n",
            "Omega: 1.5284388672478995\n",
            "Md: 0.23796040685155523\n",
            "\n",
            "=== Generation: 96 === \n",
            "Fitness: 1665.4919426404626\n",
            "Best individual:\n",
            "Kappa: 2.505807243815745\n",
            "Mu: 1.0404499328298922\n",
            "Omega: 1.5263297511557747\n",
            "Md: 0.23841230644879172\n",
            "\n",
            "=== Generation: 97 === \n",
            "Fitness: 1665.2664909617663\n",
            "Best individual:\n",
            "Kappa: 2.4852014598351366\n",
            "Mu: 1.0390597531143395\n",
            "Omega: 1.5201269067943894\n",
            "Md: 0.23870305019726856\n",
            "\n",
            "=== Generation: 98 === \n",
            "Fitness: 1665.0116330305045\n",
            "Best individual:\n",
            "Kappa: 2.4859120016687943\n",
            "Mu: 1.0410456010574654\n",
            "Omega: 1.5216236331750452\n",
            "Md: 0.2376113674805978\n",
            "\n",
            "=== Generation: 99 === \n",
            "Fitness: 1665.3475322890597\n",
            "Best individual:\n",
            "Kappa: 2.490518198738563\n",
            "Mu: 1.0429221730689617\n",
            "Omega: 1.5174964965149311\n",
            "Md: 0.24089508296839385\n",
            "\n",
            "==========\n",
            "Max number of generations exceeded!\n",
            "==========\n",
            "\n",
            "Best Fitness: 1665.8456955096383\n",
            "Best Gen: 61\n",
            "Kappa: 2.505572655154482\n",
            "Mu: 1.0426860603474026\n",
            "Omega: 1.5259038323122887\n",
            "Md: 0.23911075684577013\n"
          ]
        },
        {
          "output_type": "display_data",
          "data": {
            "text/plain": [
              "<Figure size 720x504 with 0 Axes>"
            ]
          },
          "metadata": {}
        },
        {
          "output_type": "display_data",
          "data": {
            "text/plain": [
              "<Figure size 720x504 with 0 Axes>"
            ]
          },
          "metadata": {}
        },
        {
          "output_type": "display_data",
          "data": {
            "text/plain": [
              "<Figure size 720x504 with 0 Axes>"
            ]
          },
          "metadata": {}
        },
        {
          "output_type": "display_data",
          "data": {
            "text/plain": [
              "<Figure size 720x504 with 0 Axes>"
            ]
          },
          "metadata": {}
        },
        {
          "output_type": "display_data",
          "data": {
            "text/plain": [
              "<Figure size 720x504 with 0 Axes>"
            ]
          },
          "metadata": {}
        },
        {
          "output_type": "display_data",
          "data": {
            "text/plain": [
              "<Figure size 720x504 with 0 Axes>"
            ]
          },
          "metadata": {}
        },
        {
          "output_type": "display_data",
          "data": {
            "text/plain": [
              "<Figure size 720x504 with 0 Axes>"
            ]
          },
          "metadata": {}
        },
        {
          "output_type": "display_data",
          "data": {
            "text/plain": [
              "<Figure size 720x504 with 0 Axes>"
            ]
          },
          "metadata": {}
        },
        {
          "output_type": "display_data",
          "data": {
            "text/plain": [
              "<Figure size 720x504 with 0 Axes>"
            ]
          },
          "metadata": {}
        },
        {
          "output_type": "display_data",
          "data": {
            "text/plain": [
              "<Figure size 720x504 with 0 Axes>"
            ]
          },
          "metadata": {}
        },
        {
          "output_type": "display_data",
          "data": {
            "text/plain": [
              "<Figure size 720x504 with 0 Axes>"
            ]
          },
          "metadata": {}
        },
        {
          "output_type": "display_data",
          "data": {
            "text/plain": [
              "<Figure size 720x504 with 0 Axes>"
            ]
          },
          "metadata": {}
        },
        {
          "output_type": "display_data",
          "data": {
            "text/plain": [
              "<Figure size 720x504 with 0 Axes>"
            ]
          },
          "metadata": {}
        },
        {
          "output_type": "display_data",
          "data": {
            "text/plain": [
              "<Figure size 720x504 with 0 Axes>"
            ]
          },
          "metadata": {}
        },
        {
          "output_type": "display_data",
          "data": {
            "text/plain": [
              "<Figure size 720x504 with 0 Axes>"
            ]
          },
          "metadata": {}
        },
        {
          "output_type": "display_data",
          "data": {
            "text/plain": [
              "<Figure size 720x504 with 0 Axes>"
            ]
          },
          "metadata": {}
        },
        {
          "output_type": "display_data",
          "data": {
            "text/plain": [
              "<Figure size 720x504 with 0 Axes>"
            ]
          },
          "metadata": {}
        },
        {
          "output_type": "display_data",
          "data": {
            "text/plain": [
              "<Figure size 720x504 with 0 Axes>"
            ]
          },
          "metadata": {}
        },
        {
          "output_type": "display_data",
          "data": {
            "text/plain": [
              "<Figure size 720x504 with 0 Axes>"
            ]
          },
          "metadata": {}
        },
        {
          "output_type": "display_data",
          "data": {
            "text/plain": [
              "<Figure size 720x504 with 0 Axes>"
            ]
          },
          "metadata": {}
        },
        {
          "output_type": "display_data",
          "data": {
            "text/plain": [
              "<Figure size 720x504 with 0 Axes>"
            ]
          },
          "metadata": {}
        },
        {
          "output_type": "display_data",
          "data": {
            "text/plain": [
              "<Figure size 720x504 with 0 Axes>"
            ]
          },
          "metadata": {}
        },
        {
          "output_type": "display_data",
          "data": {
            "text/plain": [
              "<Figure size 720x504 with 0 Axes>"
            ]
          },
          "metadata": {}
        },
        {
          "output_type": "display_data",
          "data": {
            "text/plain": [
              "<Figure size 720x504 with 0 Axes>"
            ]
          },
          "metadata": {}
        },
        {
          "output_type": "display_data",
          "data": {
            "text/plain": [
              "<Figure size 720x504 with 0 Axes>"
            ]
          },
          "metadata": {}
        },
        {
          "output_type": "display_data",
          "data": {
            "text/plain": [
              "<Figure size 720x504 with 0 Axes>"
            ]
          },
          "metadata": {}
        },
        {
          "output_type": "display_data",
          "data": {
            "text/plain": [
              "<Figure size 720x504 with 0 Axes>"
            ]
          },
          "metadata": {}
        },
        {
          "output_type": "display_data",
          "data": {
            "text/plain": [
              "<Figure size 720x504 with 0 Axes>"
            ]
          },
          "metadata": {}
        },
        {
          "output_type": "display_data",
          "data": {
            "text/plain": [
              "<Figure size 720x504 with 0 Axes>"
            ]
          },
          "metadata": {}
        },
        {
          "output_type": "display_data",
          "data": {
            "text/plain": [
              "<Figure size 720x504 with 0 Axes>"
            ]
          },
          "metadata": {}
        },
        {
          "output_type": "display_data",
          "data": {
            "text/plain": [
              "<Figure size 720x504 with 0 Axes>"
            ]
          },
          "metadata": {}
        },
        {
          "output_type": "display_data",
          "data": {
            "text/plain": [
              "<Figure size 720x504 with 0 Axes>"
            ]
          },
          "metadata": {}
        },
        {
          "output_type": "display_data",
          "data": {
            "text/plain": [
              "<Figure size 720x504 with 0 Axes>"
            ]
          },
          "metadata": {}
        },
        {
          "output_type": "display_data",
          "data": {
            "text/plain": [
              "<Figure size 720x504 with 0 Axes>"
            ]
          },
          "metadata": {}
        },
        {
          "output_type": "display_data",
          "data": {
            "text/plain": [
              "<Figure size 720x504 with 0 Axes>"
            ]
          },
          "metadata": {}
        },
        {
          "output_type": "display_data",
          "data": {
            "text/plain": [
              "<Figure size 720x504 with 0 Axes>"
            ]
          },
          "metadata": {}
        },
        {
          "output_type": "display_data",
          "data": {
            "text/plain": [
              "<Figure size 720x504 with 0 Axes>"
            ]
          },
          "metadata": {}
        },
        {
          "output_type": "display_data",
          "data": {
            "text/plain": [
              "<Figure size 720x504 with 0 Axes>"
            ]
          },
          "metadata": {}
        },
        {
          "output_type": "display_data",
          "data": {
            "text/plain": [
              "<Figure size 720x504 with 0 Axes>"
            ]
          },
          "metadata": {}
        },
        {
          "output_type": "display_data",
          "data": {
            "text/plain": [
              "<Figure size 720x504 with 0 Axes>"
            ]
          },
          "metadata": {}
        },
        {
          "output_type": "display_data",
          "data": {
            "text/plain": [
              "<Figure size 720x504 with 0 Axes>"
            ]
          },
          "metadata": {}
        },
        {
          "output_type": "display_data",
          "data": {
            "text/plain": [
              "<Figure size 720x504 with 0 Axes>"
            ]
          },
          "metadata": {}
        },
        {
          "output_type": "display_data",
          "data": {
            "text/plain": [
              "<Figure size 720x504 with 0 Axes>"
            ]
          },
          "metadata": {}
        },
        {
          "output_type": "display_data",
          "data": {
            "text/plain": [
              "<Figure size 720x504 with 0 Axes>"
            ]
          },
          "metadata": {}
        },
        {
          "output_type": "display_data",
          "data": {
            "text/plain": [
              "<Figure size 720x504 with 0 Axes>"
            ]
          },
          "metadata": {}
        },
        {
          "output_type": "display_data",
          "data": {
            "text/plain": [
              "<Figure size 720x504 with 0 Axes>"
            ]
          },
          "metadata": {}
        },
        {
          "output_type": "display_data",
          "data": {
            "text/plain": [
              "<Figure size 720x504 with 0 Axes>"
            ]
          },
          "metadata": {}
        },
        {
          "output_type": "display_data",
          "data": {
            "text/plain": [
              "<Figure size 720x504 with 0 Axes>"
            ]
          },
          "metadata": {}
        },
        {
          "output_type": "display_data",
          "data": {
            "text/plain": [
              "<Figure size 720x504 with 0 Axes>"
            ]
          },
          "metadata": {}
        },
        {
          "output_type": "display_data",
          "data": {
            "text/plain": [
              "<Figure size 720x504 with 0 Axes>"
            ]
          },
          "metadata": {}
        },
        {
          "output_type": "display_data",
          "data": {
            "text/plain": [
              "<Figure size 720x504 with 0 Axes>"
            ]
          },
          "metadata": {}
        },
        {
          "output_type": "display_data",
          "data": {
            "text/plain": [
              "<Figure size 720x504 with 0 Axes>"
            ]
          },
          "metadata": {}
        },
        {
          "output_type": "display_data",
          "data": {
            "text/plain": [
              "<Figure size 720x504 with 0 Axes>"
            ]
          },
          "metadata": {}
        },
        {
          "output_type": "display_data",
          "data": {
            "text/plain": [
              "<Figure size 720x504 with 0 Axes>"
            ]
          },
          "metadata": {}
        },
        {
          "output_type": "display_data",
          "data": {
            "text/plain": [
              "<Figure size 720x504 with 0 Axes>"
            ]
          },
          "metadata": {}
        },
        {
          "output_type": "display_data",
          "data": {
            "text/plain": [
              "<Figure size 720x504 with 0 Axes>"
            ]
          },
          "metadata": {}
        },
        {
          "output_type": "display_data",
          "data": {
            "text/plain": [
              "<Figure size 720x504 with 0 Axes>"
            ]
          },
          "metadata": {}
        },
        {
          "output_type": "display_data",
          "data": {
            "text/plain": [
              "<Figure size 720x504 with 0 Axes>"
            ]
          },
          "metadata": {}
        },
        {
          "output_type": "display_data",
          "data": {
            "text/plain": [
              "<Figure size 720x504 with 0 Axes>"
            ]
          },
          "metadata": {}
        },
        {
          "output_type": "display_data",
          "data": {
            "text/plain": [
              "<Figure size 720x504 with 0 Axes>"
            ]
          },
          "metadata": {}
        },
        {
          "output_type": "display_data",
          "data": {
            "text/plain": [
              "<Figure size 720x504 with 0 Axes>"
            ]
          },
          "metadata": {}
        },
        {
          "output_type": "display_data",
          "data": {
            "text/plain": [
              "<Figure size 720x504 with 0 Axes>"
            ]
          },
          "metadata": {}
        },
        {
          "output_type": "display_data",
          "data": {
            "text/plain": [
              "<Figure size 720x504 with 0 Axes>"
            ]
          },
          "metadata": {}
        },
        {
          "output_type": "display_data",
          "data": {
            "text/plain": [
              "<Figure size 720x504 with 0 Axes>"
            ]
          },
          "metadata": {}
        },
        {
          "output_type": "display_data",
          "data": {
            "text/plain": [
              "<Figure size 720x504 with 0 Axes>"
            ]
          },
          "metadata": {}
        },
        {
          "output_type": "display_data",
          "data": {
            "text/plain": [
              "<Figure size 720x504 with 0 Axes>"
            ]
          },
          "metadata": {}
        },
        {
          "output_type": "display_data",
          "data": {
            "text/plain": [
              "<Figure size 720x504 with 0 Axes>"
            ]
          },
          "metadata": {}
        },
        {
          "output_type": "display_data",
          "data": {
            "text/plain": [
              "<Figure size 720x504 with 0 Axes>"
            ]
          },
          "metadata": {}
        },
        {
          "output_type": "display_data",
          "data": {
            "text/plain": [
              "<Figure size 720x504 with 0 Axes>"
            ]
          },
          "metadata": {}
        },
        {
          "output_type": "display_data",
          "data": {
            "text/plain": [
              "<Figure size 720x504 with 0 Axes>"
            ]
          },
          "metadata": {}
        },
        {
          "output_type": "display_data",
          "data": {
            "text/plain": [
              "<Figure size 720x504 with 0 Axes>"
            ]
          },
          "metadata": {}
        },
        {
          "output_type": "display_data",
          "data": {
            "text/plain": [
              "<Figure size 720x504 with 0 Axes>"
            ]
          },
          "metadata": {}
        },
        {
          "output_type": "display_data",
          "data": {
            "text/plain": [
              "<Figure size 720x504 with 0 Axes>"
            ]
          },
          "metadata": {}
        },
        {
          "output_type": "display_data",
          "data": {
            "text/plain": [
              "<Figure size 720x504 with 0 Axes>"
            ]
          },
          "metadata": {}
        },
        {
          "output_type": "display_data",
          "data": {
            "text/plain": [
              "<Figure size 720x504 with 0 Axes>"
            ]
          },
          "metadata": {}
        },
        {
          "output_type": "display_data",
          "data": {
            "text/plain": [
              "<Figure size 720x504 with 0 Axes>"
            ]
          },
          "metadata": {}
        },
        {
          "output_type": "display_data",
          "data": {
            "text/plain": [
              "<Figure size 720x504 with 0 Axes>"
            ]
          },
          "metadata": {}
        },
        {
          "output_type": "display_data",
          "data": {
            "text/plain": [
              "<Figure size 720x504 with 0 Axes>"
            ]
          },
          "metadata": {}
        },
        {
          "output_type": "display_data",
          "data": {
            "text/plain": [
              "<Figure size 720x504 with 0 Axes>"
            ]
          },
          "metadata": {}
        },
        {
          "output_type": "display_data",
          "data": {
            "text/plain": [
              "<Figure size 720x504 with 0 Axes>"
            ]
          },
          "metadata": {}
        },
        {
          "output_type": "display_data",
          "data": {
            "text/plain": [
              "<Figure size 720x504 with 0 Axes>"
            ]
          },
          "metadata": {}
        },
        {
          "output_type": "display_data",
          "data": {
            "text/plain": [
              "<Figure size 720x504 with 0 Axes>"
            ]
          },
          "metadata": {}
        },
        {
          "output_type": "display_data",
          "data": {
            "text/plain": [
              "<Figure size 720x504 with 0 Axes>"
            ]
          },
          "metadata": {}
        },
        {
          "output_type": "display_data",
          "data": {
            "text/plain": [
              "<Figure size 720x504 with 0 Axes>"
            ]
          },
          "metadata": {}
        },
        {
          "output_type": "display_data",
          "data": {
            "text/plain": [
              "<Figure size 720x504 with 0 Axes>"
            ]
          },
          "metadata": {}
        },
        {
          "output_type": "display_data",
          "data": {
            "text/plain": [
              "<Figure size 720x504 with 0 Axes>"
            ]
          },
          "metadata": {}
        },
        {
          "output_type": "display_data",
          "data": {
            "text/plain": [
              "<Figure size 720x504 with 0 Axes>"
            ]
          },
          "metadata": {}
        },
        {
          "output_type": "display_data",
          "data": {
            "text/plain": [
              "<Figure size 720x504 with 0 Axes>"
            ]
          },
          "metadata": {}
        },
        {
          "output_type": "display_data",
          "data": {
            "text/plain": [
              "<Figure size 720x504 with 0 Axes>"
            ]
          },
          "metadata": {}
        },
        {
          "output_type": "display_data",
          "data": {
            "text/plain": [
              "<Figure size 720x504 with 0 Axes>"
            ]
          },
          "metadata": {}
        },
        {
          "output_type": "display_data",
          "data": {
            "text/plain": [
              "<Figure size 720x504 with 0 Axes>"
            ]
          },
          "metadata": {}
        },
        {
          "output_type": "display_data",
          "data": {
            "text/plain": [
              "<Figure size 720x504 with 0 Axes>"
            ]
          },
          "metadata": {}
        },
        {
          "output_type": "display_data",
          "data": {
            "text/plain": [
              "<Figure size 720x504 with 0 Axes>"
            ]
          },
          "metadata": {}
        },
        {
          "output_type": "display_data",
          "data": {
            "text/plain": [
              "<Figure size 720x504 with 0 Axes>"
            ]
          },
          "metadata": {}
        },
        {
          "output_type": "display_data",
          "data": {
            "text/plain": [
              "<Figure size 720x504 with 0 Axes>"
            ]
          },
          "metadata": {}
        },
        {
          "output_type": "display_data",
          "data": {
            "text/plain": [
              "<Figure size 720x504 with 0 Axes>"
            ]
          },
          "metadata": {}
        },
        {
          "output_type": "display_data",
          "data": {
            "text/plain": [
              "<Figure size 720x504 with 0 Axes>"
            ]
          },
          "metadata": {}
        },
        {
          "output_type": "display_data",
          "data": {
            "text/plain": [
              "<Figure size 720x504 with 0 Axes>"
            ]
          },
          "metadata": {}
        },
        {
          "output_type": "display_data",
          "data": {
            "text/plain": [
              "<Figure size 720x504 with 0 Axes>"
            ]
          },
          "metadata": {}
        },
        {
          "output_type": "display_data",
          "data": {
            "text/plain": [
              "<Figure size 720x504 with 0 Axes>"
            ]
          },
          "metadata": {}
        }
      ]
    },
    {
      "cell_type": "code",
      "source": [
        "plt.figure(figsize=((10,7)))\n",
        "plt.scatter(Xdata, Ydata, c='black')\n",
        "plt.plot(Xdata, shadowedKappaMuPDF(Xdata, kappa_hat_sku, mu_hat_sku, omega_hat_sku, md_hat_sku), label='Shadowed $\\kappa$-$\\mu$ GA (MSE)')\n",
        "plt.plot(Xdata, shadowed_k_u_pdf, label='Shadowed $\\kappa$-$\\mu$ MLE', c='red')\n",
        "plt.title(f'Shadowed $\\kappa$-$\\mu$ fit comparison')\n",
        "plt.legend()\n",
        "plt.grid(True)\n",
        "plt.xlabel(r'mV')\n",
        "plt.ylabel('pdf')\n",
        "plt.show()"
      ],
      "metadata": {
        "colab": {
          "base_uri": "https://localhost:8080/",
          "height": 460
        },
        "id": "XLFYEk9X4Kyd",
        "outputId": "6929a2d7-f22e-42a2-d5f4-e78021e19279"
      },
      "execution_count": 52,
      "outputs": [
        {
          "output_type": "display_data",
          "data": {
            "text/plain": [
              "<Figure size 720x504 with 1 Axes>"
            ],
            "image/png": "[encoded data removed]"
          },
          "metadata": {
            "needs_background": "light"
          }
        }
      ]
    },
    {
      "cell_type": "code",
      "source": [
        "(kappa_hat_sku, mu_hat_sku, omega_hat_sku, md_hat_sku)"
      ],
      "metadata": {
        "colab": {
          "base_uri": "https://localhost:8080/"
        },
        "id": "RdyNg_mW8WWY",
        "outputId": "f728e20b-709d-48e3-ef00-086b1c15ada6"
      },
      "execution_count": 33,
      "outputs": [
        {
          "output_type": "execute_result",
          "data": {
            "text/plain": [
              "(2.505572655154482,\n",
              " 1.0426860603474026,\n",
              " 1.5259038323122887,\n",
              " 0.23911075684577013)"
            ]
          },
          "metadata": {},
          "execution_count": 33
        }
      ]
    },
    {
      "cell_type": "code",
      "source": [
        "# Scores - RAD\n",
        "pVec1 = Ydata/np.sum(Ydata)\n",
        "pVec2 = shadowedKappaMuPDF(Xdata, kappa_hat_sku, mu_hat_sku, omega_hat_sku, md_hat_sku)\\\n",
        "/np.sum(shadowedKappaMuPDF(Xdata, kappa_hat_sku, mu_hat_sku, omega_hat_sku, md_hat_sku))\n",
        "KLD_1 = kldiv(pVec1, pVec2)\n",
        "KLD_2 = kldiv(pVec2, pVec1)\n",
        "rad_ga_mse_sku = RAD(KLD_1, KLD_2)\n",
        "\n",
        "## AIC Analysis\n",
        "\n",
        "n = len(data_mV)\n",
        "K = 3\n",
        "\n",
        "# AIC MLE - KAPPA MU\n",
        "sum = np.sum(np.log(computePDF(data_mV, mle_kappa_mu[0], mle_kappa_mu[1], mle_kappa_mu[2])))\n",
        "AIC_mle_kappa_mu = -2*sum + 2*K + (2*K*(K+1))/(n-K-1)\n",
        "\n",
        "# AIC MLE - SHADOWED KAPPA MU\n",
        "sum = np.sum(np.log(shadowedKappaMuPDF(data_mV, mle_shadowed_kappa_mu[0], mle_shadowed_kappa_mu[1], mle_shadowed_kappa_mu[2], mle_shadowed_kappa_mu[3])))\n",
        "AIC_mle_shadowed_kappa_mu = -2*sum + 2*K + (2*K*(K+1))/(n-K-1)\n",
        "\n",
        "# AIC MLE - GA SHADOWED KAPPA MU\n",
        "sum = np.sum(np.log(shadowedKappaMuPDF(data_mV, kappa_hat_sku, mu_hat_sku, omega_hat_sku, md_hat_sku)))\n",
        "AIC_ga_shadowed_kappa_mu = -2*sum + 2*K + (2*K*(K+1))/(n-K-1)\n",
        "\n",
        "# AIC GENETIC ALGORITHM - FITNESS: MSE\n",
        "sum = np.sum(np.log(computePDF(data_mV, kappa_hat, mu_hat, omega_hat)))\n",
        "AIC_ga_mse = -2*sum + 2*K + (2*K*(K+1))/(n-K-1)\n",
        "  \n",
        "# AIC GENETIC ALGORITHM - FITNESS: RAD\n",
        "sum = np.sum(np.log(computePDF(data_mV, kappa_hat_rad, mu_hat_rad, omega_hat_rad)))\n",
        "AIC_ga_rad = -2*sum + 2*K + (2*K*(K+1))/(n-K-1)\n",
        "\n",
        "rads = {'Methods':['Genetic Algorithm - KappaMu (MSE)', 'Genetic Algorithm - KappaMu (RAD)',\\\n",
        "                   'Maximum Likelihood Estimator - KappaMu', 'Maximum Likelihood Estimator - Shadowed KappaMu',\\\n",
        "                   'Genetic Algorithm - Shadowed KappaMu (MSE)'],\n",
        "\t\t'Resistor Average Distance':[rad_mse, rad_rad, rad_mle_kappa_mu, rad_mle_shadowed_kappa_mu, rad_ga_mse_sku],\n",
        "    'Akaike Information Criteria':[AIC_ga_mse[0], AIC_ga_rad[0], AIC_mle_kappa_mu[0], AIC_mle_shadowed_kappa_mu[0], AIC_ga_shadowed_kappa_mu[0]]}\n",
        "\n",
        "# Create DataFrame\n",
        "df = pd.DataFrame(rads)\n",
        "display(df.sort_values(by='Akaike Information Criteria').reset_index(drop=True))"
      ],
      "metadata": {
        "colab": {
          "base_uri": "https://localhost:8080/",
          "height": 206
        },
        "id": "LZtT4l1k4uDL",
        "outputId": "f7f6406a-9027-4806-c3f8-fc235f0ff392"
      },
      "execution_count": 34,
      "outputs": [
        {
          "output_type": "display_data",
          "data": {
            "text/plain": [
              "                                           Methods  Resistor Average Distance  \\\n",
              "0  Maximum Likelihood Estimator - Shadowed KappaMu                   0.009950   \n",
              "1       Genetic Algorithm - Shadowed KappaMu (MSE)                   0.009968   \n",
              "2                Genetic Algorithm - KappaMu (RAD)                   0.045994   \n",
              "3           Maximum Likelihood Estimator - KappaMu                   0.069296   \n",
              "4                Genetic Algorithm - KappaMu (MSE)                   0.069476   \n",
              "\n",
              "   Akaike Information Criteria  \n",
              "0                313225.159357  \n",
              "1                313228.553747  \n",
              "2                339767.607016  \n",
              "3                380914.753628  \n",
              "4                381235.211642  "
            ],
            "text/html": [
              "\n",
              "  <div id=\"df-8bec7540-d79c-4524-8c67-b4f8b439b036\">\n",
              "    <div class=\"colab-df-container\">\n",
              "      <div>\n",
              "<style scoped>\n",
              "    .dataframe tbody tr th:only-of-type {\n",
              "        vertical-align: middle;\n",
              "    }\n",
              "\n",
              "    .dataframe tbody tr th {\n",
              "        vertical-align: top;\n",
              "    }\n",
              "\n",
              "    .dataframe thead th {\n",
              "        text-align: right;\n",
              "    }\n",
              "</style>\n",
              "<table border=\"1\" class=\"dataframe\">\n",
              "  <thead>\n",
              "    <tr style=\"text-align: right;\">\n",
              "      <th></th>\n",
              "      <th>Methods</th>\n",
              "      <th>Resistor Average Distance</th>\n",
              "      <th>Akaike Information Criteria</th>\n",
              "    </tr>\n",
              "  </thead>\n",
              "  <tbody>\n",
              "    <tr>\n",
              "      <th>0</th>\n",
              "      <td>Maximum Likelihood Estimator - Shadowed KappaMu</td>\n",
              "      <td>0.009950</td>\n",
              "      <td>313225.159357</td>\n",
              "    </tr>\n",
              "    <tr>\n",
              "      <th>1</th>\n",
              "      <td>Genetic Algorithm - Shadowed KappaMu (MSE)</td>\n",
              "      <td>0.009968</td>\n",
              "      <td>313228.553747</td>\n",
              "    </tr>\n",
              "    <tr>\n",
              "      <th>2</th>\n",
              "      <td>Genetic Algorithm - KappaMu (RAD)</td>\n",
              "      <td>0.045994</td>\n",
              "      <td>339767.607016</td>\n",
              "    </tr>\n",
              "    <tr>\n",
              "      <th>3</th>\n",
              "      <td>Maximum Likelihood Estimator - KappaMu</td>\n",
              "      <td>0.069296</td>\n",
              "      <td>380914.753628</td>\n",
              "    </tr>\n",
              "    <tr>\n",
              "      <th>4</th>\n",
              "      <td>Genetic Algorithm - KappaMu (MSE)</td>\n",
              "      <td>0.069476</td>\n",
              "      <td>381235.211642</td>\n",
              "    </tr>\n",
              "  </tbody>\n",
              "</table>\n",
              "</div>\n",
              "      <button class=\"colab-df-convert\" onclick=\"convertToInteractive('df-8bec7540-d79c-4524-8c67-b4f8b439b036')\"\n",
              "              title=\"Convert this dataframe to an interactive table.\"\n",
              "              style=\"display:none;\">\n",
              "        \n",
              "  <svg xmlns=\"http://www.w3.org/2000/svg\" height=\"24px\"viewBox=\"0 0 24 24\"\n",
              "       width=\"24px\">\n",
              "    <path d=\"M0 0h24v24H0V0z\" fill=\"none\"/>\n",
              "    <path d=\"M18.56 5.44l.94 2.06.94-2.06 2.06-.94-2.06-.94-.94-2.06-.94 2.06-2.06.94zm-11 1L8.5 8.5l.94-2.06 2.06-.94-2.06-.94L8.5 2.5l-.94 2.06-2.06.94zm10 10l.94 2.06.94-2.06 2.06-.94-2.06-.94-.94-2.06-.94 2.06-2.06.94z\"/><path d=\"M17.41 7.96l-1.37-1.37c-.4-.4-.92-.59-1.43-.59-.52 0-1.04.2-1.43.59L10.3 9.45l-7.72 7.72c-.78.78-.78 2.05 0 2.83L4 21.41c.39.39.9.59 1.41.59.51 0 1.02-.2 1.41-.59l7.78-7.78 2.81-2.81c.8-.78.8-2.07 0-2.86zM5.41 20L4 18.59l7.72-7.72 1.47 1.35L5.41 20z\"/>\n",
              "  </svg>\n",
              "      </button>\n",
              "      \n",
              "  <style>\n",
              "    .colab-df-container {\n",
              "      display:flex;\n",
              "      flex-wrap:wrap;\n",
              "      gap: 12px;\n",
              "    }\n",
              "\n",
              "    .colab-df-convert {\n",
              "      background-color: #E8F0FE;\n",
              "      border: none;\n",
              "      border-radius: 50%;\n",
              "      cursor: pointer;\n",
              "      display: none;\n",
              "      fill: #1967D2;\n",
              "      height: 32px;\n",
              "      padding: 0 0 0 0;\n",
              "      width: 32px;\n",
              "    }\n",
              "\n",
              "    .colab-df-convert:hover {\n",
              "      background-color: #E2EBFA;\n",
              "      box-shadow: 0px 1px 2px rgba(60, 64, 67, 0.3), 0px 1px 3px 1px rgba(60, 64, 67, 0.15);\n",
              "      fill: #174EA6;\n",
              "    }\n",
              "\n",
              "    [theme=dark] .colab-df-convert {\n",
              "      background-color: #3B4455;\n",
              "      fill: #D2E3FC;\n",
              "    }\n",
              "\n",
              "    [theme=dark] .colab-df-convert:hover {\n",
              "      background-color: #434B5C;\n",
              "      box-shadow: 0px 1px 3px 1px rgba(0, 0, 0, 0.15);\n",
              "      filter: drop-shadow(0px 1px 2px rgba(0, 0, 0, 0.3));\n",
              "      fill: #FFFFFF;\n",
              "    }\n",
              "  </style>\n",
              "\n",
              "      <script>\n",
              "        const buttonEl =\n",
              "          document.querySelector('#df-8bec7540-d79c-4524-8c67-b4f8b439b036 button.colab-df-convert');\n",
              "        buttonEl.style.display =\n",
              "          google.colab.kernel.accessAllowed ? 'block' : 'none';\n",
              "\n",
              "        async function convertToInteractive(key) {\n",
              "          const element = document.querySelector('#df-8bec7540-d79c-4524-8c67-b4f8b439b036');\n",
              "          const dataTable =\n",
              "            await google.colab.kernel.invokeFunction('convertToInteractive',\n",
              "                                                     [key], {});\n",
              "          if (!dataTable) return;\n",
              "\n",
              "          const docLinkHtml = 'Like what you see? Visit the ' +\n",
              "            '<a target=\"_blank\" href=https://colab.research.google.com/notebooks/data_table.ipynb>data table notebook</a>'\n",
              "            + ' to learn more about interactive tables.';\n",
              "          element.innerHTML = '';\n",
              "          dataTable['output_type'] = 'display_data';\n",
              "          await google.colab.output.renderOutput(dataTable, element);\n",
              "          const docLink = document.createElement('div');\n",
              "          docLink.innerHTML = docLinkHtml;\n",
              "          element.appendChild(docLink);\n",
              "        }\n",
              "      </script>\n",
              "    </div>\n",
              "  </div>\n",
              "  "
            ]
          },
          "metadata": {}
        }
      ]
    },
    {
      "cell_type": "markdown",
      "source": [
        "### GA: Shadowed $\\kappa-\\mu$ (RAD) fit"
      ],
      "metadata": {
        "id": "4d04pEGoVUjp"
      }
    },
    {
      "cell_type": "code",
      "source": [
        "fitnessType = 'RAD'\n",
        "# X, Y = getDensityEstimationSamples(pathAB_linear[nAP].dropna(), nExtractedSamples)\n",
        "kappa_hat_sku_rad, mu_hat_sku_rad, omega_hat_sku_rad, md_hat_sku_rad = geneticAlgorithm_sku(Xdata,Ydata, mle_shadowed_kappa_mu)"
      ],
      "metadata": {
        "colab": {
          "base_uri": "https://localhost:8080/",
          "height": 1000
        },
        "id": "wk0Ox-gJ63Zj",
        "outputId": "59e30276-fef1-4c6f-84df-f026dc5e5d9e"
      },
      "execution_count": 35,
      "outputs": [
        {
          "output_type": "stream",
          "name": "stderr",
          "text": [
            "/usr/local/lib/python3.7/dist-packages/ipykernel_launcher.py:12: RuntimeWarning: invalid value encountered in multiply\n",
            "  if sys.path[0] == '':\n",
            "/usr/local/lib/python3.7/dist-packages/ipykernel_launcher.py:32: RuntimeWarning: divide by zero encountered in log2\n",
            "/usr/local/lib/python3.7/dist-packages/ipykernel_launcher.py:32: RuntimeWarning: invalid value encountered in multiply\n",
            "/usr/local/lib/python3.7/dist-packages/ipykernel_launcher.py:30: RuntimeWarning: invalid value encountered in true_divide\n",
            "/usr/local/lib/python3.7/dist-packages/ipykernel_launcher.py:12: RuntimeWarning: invalid value encountered in multiply\n",
            "  if sys.path[0] == '':\n",
            "/usr/local/lib/python3.7/dist-packages/ipykernel_launcher.py:32: RuntimeWarning: divide by zero encountered in log2\n",
            "/usr/local/lib/python3.7/dist-packages/ipykernel_launcher.py:32: RuntimeWarning: invalid value encountered in multiply\n"
          ]
        },
        {
          "output_type": "stream",
          "name": "stdout",
          "text": [
            "=== Generation: 0 === \n",
            "Fitness: 24.842656208376795\n",
            "Best individual:\n",
            "Kappa: 1.0147613285467403\n",
            "Mu: 0.9178032758085264\n",
            "Omega: 0.9841790160825302\n",
            "Md: 0.24153159174991162\n",
            "\n",
            "=== Generation: 1 === \n",
            "Fitness: nan\n",
            "Best individual:\n",
            "Kappa: 6.917354278246769\n",
            "Mu: 0.8055897064413703\n",
            "Omega: 0.174791788293287\n",
            "Md: 0.6522032372918156\n",
            "\n"
          ]
        },
        {
          "output_type": "stream",
          "name": "stderr",
          "text": [
            "/usr/local/lib/python3.7/dist-packages/ipykernel_launcher.py:12: RuntimeWarning: invalid value encountered in multiply\n",
            "  if sys.path[0] == '':\n",
            "/usr/local/lib/python3.7/dist-packages/ipykernel_launcher.py:32: RuntimeWarning: divide by zero encountered in log2\n",
            "/usr/local/lib/python3.7/dist-packages/ipykernel_launcher.py:32: RuntimeWarning: invalid value encountered in multiply\n"
          ]
        },
        {
          "output_type": "stream",
          "name": "stdout",
          "text": [
            "=== Generation: 2 === \n",
            "Fitness: nan\n",
            "Best individual:\n",
            "Kappa: 8.265020494247947\n",
            "Mu: 0.9446868208057387\n",
            "Omega: 0.18664466846214453\n",
            "Md: 0.4398533535199063\n",
            "\n"
          ]
        },
        {
          "output_type": "stream",
          "name": "stderr",
          "text": [
            "/usr/local/lib/python3.7/dist-packages/ipykernel_launcher.py:12: RuntimeWarning: invalid value encountered in multiply\n",
            "  if sys.path[0] == '':\n"
          ]
        },
        {
          "output_type": "stream",
          "name": "stdout",
          "text": [
            "=== Generation: 3 === \n",
            "Fitness: 24.270348139141916\n",
            "Best individual:\n",
            "Kappa: 0.857419267862304\n",
            "Mu: 0.9671250850342832\n",
            "Omega: 0.9842720190938814\n",
            "Md: 0.21051060112809264\n",
            "\n",
            "=== Generation: 4 === \n",
            "Fitness: 27.07114738135457\n",
            "Best individual:\n",
            "Kappa: 2.05779883732964\n",
            "Mu: 0.8787990611174791\n",
            "Omega: 1.066644308996065\n",
            "Md: 0.18637762052472798\n",
            "\n",
            "=== Generation: 5 === \n",
            "Fitness: 34.8462066836948\n",
            "Best individual:\n",
            "Kappa: 1.0347074226645567\n",
            "Mu: 0.8586956428412935\n",
            "Omega: 1.0656004935127814\n",
            "Md: 0.1903048164813749\n",
            "\n",
            "=== Generation: 6 === \n",
            "Fitness: 38.75994906174181\n",
            "Best individual:\n",
            "Kappa: 1.0523641378955966\n",
            "Mu: 0.9220357668096053\n",
            "Omega: 1.0888507545222068\n",
            "Md: 0.18481316295043604\n",
            "\n",
            "=== Generation: 7 === \n",
            "Fitness: 42.23071670836473\n",
            "Best individual:\n",
            "Kappa: 1.0028028291822664\n",
            "Mu: 0.828915179682522\n",
            "Omega: 1.1337673961050567\n",
            "Md: 0.18643741190650678\n",
            "\n",
            "=== Generation: 8 === \n",
            "Fitness: 48.00836842733916\n",
            "Best individual:\n",
            "Kappa: 1.0335029376393958\n",
            "Mu: 0.8931077881043857\n",
            "Omega: 1.159495827186302\n",
            "Md: 0.18472305606664605\n",
            "\n",
            "=== Generation: 9 === \n",
            "Fitness: 53.91952581730258\n",
            "Best individual:\n",
            "Kappa: 1.2454723004026542\n",
            "Mu: 0.8829623509181274\n",
            "Omega: 1.1827793494661403\n",
            "Md: 0.18663769079396134\n",
            "\n",
            "=== Generation: 10 === \n",
            "Fitness: 58.646526263998496\n",
            "Best individual:\n",
            "Kappa: 1.1410762389332567\n",
            "Mu: 0.8903788922182361\n",
            "Omega: 1.2043884374299418\n",
            "Md: 0.15270717082402854\n",
            "\n",
            "=== Generation: 11 === \n",
            "Fitness: 64.44445140952149\n",
            "Best individual:\n",
            "Kappa: 1.187149704176637\n",
            "Mu: 0.8976097726638417\n",
            "Omega: 1.232764650225927\n",
            "Md: 0.15424452635066316\n",
            "\n",
            "=== Generation: 12 === \n",
            "Fitness: 69.93244302531627\n",
            "Best individual:\n",
            "Kappa: 1.2042277419845593\n",
            "Mu: 0.9024482859569133\n",
            "Omega: 1.258948593510914\n",
            "Md: 0.15753095887762744\n",
            "\n",
            "=== Generation: 13 === \n",
            "Fitness: 76.33888722128574\n",
            "Best individual:\n",
            "Kappa: 1.2403003116442786\n",
            "Mu: 0.930644135889447\n",
            "Omega: 1.2921447690435426\n",
            "Md: 0.15679735223361888\n",
            "\n",
            "=== Generation: 14 === \n",
            "Fitness: 83.0776270892479\n",
            "Best individual:\n",
            "Kappa: 1.286589942719942\n",
            "Mu: 0.9021828805163535\n",
            "Omega: 1.320147651088509\n",
            "Md: 0.16295886365234225\n",
            "\n",
            "=== Generation: 15 === \n",
            "Fitness: 88.66982001199145\n",
            "Best individual:\n",
            "Kappa: 1.2680613067708026\n",
            "Mu: 0.8997762254365143\n",
            "Omega: 1.3502084424759353\n",
            "Md: 0.1592384837857799\n",
            "\n",
            "=== Generation: 16 === \n",
            "Fitness: 95.32291393658315\n",
            "Best individual:\n",
            "Kappa: 1.2980663142377626\n",
            "Mu: 0.8843669927916745\n",
            "Omega: 1.3835313935287994\n",
            "Md: 0.15434645252501877\n",
            "\n",
            "=== Generation: 17 === \n",
            "Fitness: 100.35743168251571\n",
            "Best individual:\n",
            "Kappa: 1.338657691926801\n",
            "Mu: 0.9024494900622737\n",
            "Omega: 1.4091127191672683\n",
            "Md: 0.1571347688795884\n",
            "\n",
            "=== Generation: 18 === \n",
            "Fitness: 105.22751074397235\n",
            "Best individual:\n",
            "Kappa: 1.344421610247927\n",
            "Mu: 0.896203112202553\n",
            "Omega: 1.4386442453026695\n",
            "Md: 0.14889821368201567\n",
            "\n",
            "=== Generation: 19 === \n",
            "Fitness: 110.24067584874446\n",
            "Best individual:\n",
            "Kappa: 1.419435300429058\n",
            "Mu: 0.8918116557829324\n",
            "Omega: 1.4673495154918013\n",
            "Md: 0.1528582592194701\n",
            "\n",
            "=== Generation: 20 === \n",
            "Fitness: 113.21376688722353\n",
            "Best individual:\n",
            "Kappa: 1.4288093501473087\n",
            "Mu: 0.8827690682864332\n",
            "Omega: 1.4983359009371253\n",
            "Md: 0.14962072017120515\n",
            "\n",
            "=== Generation: 21 === \n",
            "Fitness: 115.63474551063659\n",
            "Best individual:\n",
            "Kappa: 1.4760658138396516\n",
            "Mu: 0.8737210034567987\n",
            "Omega: 1.5341809530006223\n",
            "Md: 0.14999305596150475\n",
            "\n",
            "=== Generation: 22 === \n",
            "Fitness: 117.29840003967807\n",
            "Best individual:\n",
            "Kappa: 1.510127338081764\n",
            "Mu: 0.8779047583638182\n",
            "Omega: 1.5543882702106613\n",
            "Md: 0.14473706858574487\n",
            "\n",
            "=== Generation: 23 === \n",
            "Fitness: 118.15199045975584\n",
            "Best individual:\n",
            "Kappa: 1.504462994272774\n",
            "Mu: 0.8894202936560743\n",
            "Omega: 1.5635878794369789\n",
            "Md: 0.14335374839560402\n",
            "\n",
            "=== Generation: 24 === \n",
            "Fitness: 118.93364997593937\n",
            "Best individual:\n",
            "Kappa: 1.5561287039598346\n",
            "Mu: 0.8910374047808161\n",
            "Omega: 1.5761862583305422\n",
            "Md: 0.14277423516353613\n",
            "\n",
            "=== Generation: 25 === \n",
            "Fitness: 119.40222298874872\n",
            "Best individual:\n",
            "Kappa: 1.5848669886357685\n",
            "Mu: 0.8968764036566862\n",
            "Omega: 1.5850527396921195\n",
            "Md: 0.143154124801049\n",
            "\n",
            "=== Generation: 26 === \n",
            "Fitness: 119.85167701434546\n",
            "Best individual:\n",
            "Kappa: 1.6034846054639\n",
            "Mu: 0.9023377892262336\n",
            "Omega: 1.5765422428234708\n",
            "Md: 0.14809817083512286\n",
            "\n",
            "=== Generation: 27 === \n",
            "Fitness: 120.36966256274222\n",
            "Best individual:\n",
            "Kappa: 1.6444021900462074\n",
            "Mu: 0.9016550745885444\n",
            "Omega: 1.598782887785592\n",
            "Md: 0.15012081705523025\n",
            "\n",
            "=== Generation: 28 === \n",
            "Fitness: 120.43740174355916\n",
            "Best individual:\n",
            "Kappa: 1.665977457948319\n",
            "Mu: 0.8989995737562478\n",
            "Omega: 1.6075206870033012\n",
            "Md: 0.15063522698951287\n",
            "\n",
            "=== Generation: 29 === \n",
            "Fitness: 120.62616830315724\n",
            "Best individual:\n",
            "Kappa: 1.6762357130128955\n",
            "Mu: 0.9012973902220148\n",
            "Omega: 1.5950462171246176\n",
            "Md: 0.15132651935694258\n",
            "\n",
            "=== Generation: 30 === \n",
            "Fitness: 121.03796235439076\n",
            "Best individual:\n",
            "Kappa: 1.7666900919842532\n",
            "Mu: 0.9103284676841136\n",
            "Omega: 1.602129382039356\n",
            "Md: 0.15594858983032037\n",
            "\n",
            "=== Generation: 31 === \n",
            "Fitness: 121.11113504341304\n",
            "Best individual:\n",
            "Kappa: 1.7414536935461804\n",
            "Mu: 0.9163242116902907\n",
            "Omega: 1.586526810764008\n",
            "Md: 0.1583193910562576\n",
            "\n",
            "=== Generation: 32 === \n",
            "Fitness: 121.2073927391393\n",
            "Best individual:\n",
            "Kappa: 1.7461774258669158\n",
            "Mu: 0.9090985198608196\n",
            "Omega: 1.5822799555288396\n",
            "Md: 0.16072986775580353\n",
            "\n",
            "=== Generation: 33 === \n",
            "Fitness: 121.37663742316775\n",
            "Best individual:\n",
            "Kappa: 1.8115877100465474\n",
            "Mu: 0.9141726860834447\n",
            "Omega: 1.5986455724466127\n",
            "Md: 0.16277361057992365\n",
            "\n",
            "=== Generation: 34 === \n",
            "Fitness: 121.29139923817701\n",
            "Best individual:\n",
            "Kappa: 1.7727845508968112\n",
            "Mu: 0.9108360351847455\n",
            "Omega: 1.5906583595094905\n",
            "Md: 0.16033578941682544\n",
            "\n",
            "=== Generation: 35 === \n",
            "Fitness: 121.36826054739066\n",
            "Best individual:\n",
            "Kappa: 1.7865023711151953\n",
            "Mu: 0.9129177263974023\n",
            "Omega: 1.5921127224688882\n",
            "Md: 0.16191263414575516\n",
            "\n",
            "=== Generation: 36 === \n",
            "Fitness: 121.39964098093776\n",
            "Best individual:\n",
            "Kappa: 1.7996169539635571\n",
            "Mu: 0.91721428808436\n",
            "Omega: 1.5902656855243262\n",
            "Md: 0.16333110111498492\n",
            "\n",
            "=== Generation: 37 === \n",
            "Fitness: 121.42753466885678\n",
            "Best individual:\n",
            "Kappa: 1.8087498754638112\n",
            "Mu: 0.9159464169627498\n",
            "Omega: 1.5888445985066941\n",
            "Md: 0.16565466252926248\n",
            "\n",
            "=== Generation: 38 === \n",
            "Fitness: 121.42128124573952\n",
            "Best individual:\n",
            "Kappa: 1.8178385532450898\n",
            "Mu: 0.9162960101600047\n",
            "Omega: 1.5941254864459309\n",
            "Md: 0.16583279682599425\n",
            "\n",
            "=== Generation: 39 === \n",
            "Fitness: 121.41752741794053\n",
            "Best individual:\n",
            "Kappa: 1.8424815466620579\n",
            "Mu: 0.9175122039657605\n",
            "Omega: 1.590868009429492\n",
            "Md: 0.16877174112955387\n",
            "\n",
            "=== Generation: 40 === \n",
            "Fitness: 121.42121606815907\n",
            "Best individual:\n",
            "Kappa: 1.8100367978871204\n",
            "Mu: 0.9142695381291469\n",
            "Omega: 1.5888241226694249\n",
            "Md: 0.1656976672340292\n",
            "\n",
            "=== Generation: 41 === \n",
            "Fitness: 121.4317656799968\n",
            "Best individual:\n",
            "Kappa: 1.8187850290384189\n",
            "Mu: 0.9153327308871209\n",
            "Omega: 1.5917375210277533\n",
            "Md: 0.16507312209922848\n",
            "\n",
            "=== Generation: 42 === \n",
            "Fitness: 121.42024675895792\n",
            "Best individual:\n",
            "Kappa: 1.8233657289376834\n",
            "Mu: 0.9160630046468408\n",
            "Omega: 1.5845851098220591\n",
            "Md: 0.16703661041962742\n",
            "\n",
            "=== Generation: 43 === \n",
            "Fitness: 121.42194977077428\n",
            "Best individual:\n",
            "Kappa: 1.849859645205872\n",
            "Mu: 0.9186166775464215\n",
            "Omega: 1.5957979483025226\n",
            "Md: 0.16674559295058333\n",
            "\n",
            "=== Generation: 44 === \n",
            "Fitness: 121.42780818031315\n",
            "Best individual:\n",
            "Kappa: 1.8202004640056775\n",
            "Mu: 0.9187035528580559\n",
            "Omega: 1.5890132904838445\n",
            "Md: 0.1651654870395163\n",
            "\n",
            "=== Generation: 45 === \n",
            "Fitness: 121.42981479723353\n",
            "Best individual:\n",
            "Kappa: 1.8315725477669824\n",
            "Mu: 0.91530068754422\n",
            "Omega: 1.5911986584264748\n",
            "Md: 0.1667436788703089\n",
            "\n",
            "=== Generation: 46 === \n",
            "Fitness: 121.40343608156945\n",
            "Best individual:\n",
            "Kappa: 1.8348075203512162\n",
            "Mu: 0.9179961246158972\n",
            "Omega: 1.587545103181103\n",
            "Md: 0.16570812713505614\n",
            "\n",
            "=== Generation: 47 === \n",
            "Fitness: 121.41201613757804\n",
            "Best individual:\n",
            "Kappa: 1.8471741747447283\n",
            "Mu: 0.9174964290072243\n",
            "Omega: 1.5956251124541942\n",
            "Md: 0.1680356488293812\n",
            "\n",
            "=== Generation: 48 === \n",
            "Fitness: 121.41003716329952\n",
            "Best individual:\n",
            "Kappa: 1.8192111710486338\n",
            "Mu: 0.9191196719959345\n",
            "Omega: 1.5829885337689122\n",
            "Md: 0.16635552638825374\n",
            "\n",
            "=== Generation: 49 === \n",
            "Fitness: 121.41572853638665\n",
            "Best individual:\n",
            "Kappa: 1.8342606088298605\n",
            "Mu: 0.9152601368348136\n",
            "Omega: 1.594566170213819\n",
            "Md: 0.16560233374489822\n",
            "\n",
            "=== Generation: 50 === \n",
            "Fitness: 121.43474929699605\n",
            "Best individual:\n",
            "Kappa: 1.8227093500721832\n",
            "Mu: 0.9160585200657624\n",
            "Omega: 1.590519965388011\n",
            "Md: 0.16666553396345707\n",
            "\n",
            "=== Generation: 51 === \n",
            "Fitness: 121.4430333250899\n",
            "Best individual:\n",
            "Kappa: 1.8348190670317792\n",
            "Mu: 0.9182645375812185\n",
            "Omega: 1.5898785749244004\n",
            "Md: 0.16735459274104036\n",
            "\n",
            "=== Generation: 52 === \n",
            "Fitness: 121.43785311967324\n",
            "Best individual:\n",
            "Kappa: 1.8338721431433591\n",
            "Mu: 0.9184912196220458\n",
            "Omega: 1.5887659671259953\n",
            "Md: 0.16774756362373552\n",
            "\n",
            "=== Generation: 53 === \n",
            "Fitness: 121.42638181993911\n",
            "Best individual:\n",
            "Kappa: 1.8323228564954692\n",
            "Mu: 0.9172834194508772\n",
            "Omega: 1.5953037746422105\n",
            "Md: 0.16658097317657639\n",
            "\n",
            "=== Generation: 54 === \n",
            "Fitness: 121.42179183564701\n",
            "Best individual:\n",
            "Kappa: 1.8059831870195178\n",
            "Mu: 0.9167339069045847\n",
            "Omega: 1.5866653834859012\n",
            "Md: 0.16551991323622875\n",
            "\n",
            "=== Generation: 55 === \n",
            "Fitness: 121.43636354028301\n",
            "Best individual:\n",
            "Kappa: 1.8326713314796188\n",
            "Mu: 0.9182917840505694\n",
            "Omega: 1.5939071400598908\n",
            "Md: 0.16629837929801108\n",
            "\n",
            "=== Generation: 56 === \n",
            "Fitness: 121.42121982306216\n",
            "Best individual:\n",
            "Kappa: 1.8479689173380158\n",
            "Mu: 0.9199820487854209\n",
            "Omega: 1.5898875251789044\n",
            "Md: 0.16681646401675745\n",
            "\n",
            "=== Generation: 57 === \n",
            "Fitness: 121.42677180631149\n",
            "Best individual:\n",
            "Kappa: 1.832919657106422\n",
            "Mu: 0.9162694387423885\n",
            "Omega: 1.5872002339368245\n",
            "Md: 0.1679025414247178\n",
            "\n",
            "=== Generation: 58 === \n",
            "Fitness: 121.42584208003508\n",
            "Best individual:\n",
            "Kappa: 1.8329035010053942\n",
            "Mu: 0.9190671936038755\n",
            "Omega: 1.5906033459369118\n",
            "Md: 0.16773865710486482\n",
            "\n",
            "=== Generation: 59 === \n",
            "Fitness: 121.4326264353928\n",
            "Best individual:\n",
            "Kappa: 1.8439357996639392\n",
            "Mu: 0.9172375453661293\n",
            "Omega: 1.5911009083969807\n",
            "Md: 0.16710729757411275\n",
            "\n",
            "=== Generation: 60 === \n",
            "Fitness: 121.4430926911555\n",
            "Best individual:\n",
            "Kappa: 1.8268551597392169\n",
            "Mu: 0.9167972559951117\n",
            "Omega: 1.5911730207205086\n",
            "Md: 0.16625655876963327\n",
            "\n",
            "=== Generation: 61 === \n",
            "Fitness: 121.41136068380665\n",
            "Best individual:\n",
            "Kappa: 1.8311016172118104\n",
            "Mu: 0.9210488249787498\n",
            "Omega: 1.591675762612197\n",
            "Md: 0.16670645133151704\n",
            "\n",
            "=== Generation: 62 === \n",
            "Fitness: 121.43795167252928\n",
            "Best individual:\n",
            "Kappa: 1.8428449250439871\n",
            "Mu: 0.9190188337776172\n",
            "Omega: 1.587580694422447\n",
            "Md: 0.16791056604745858\n",
            "\n",
            "=== Generation: 63 === \n",
            "Fitness: 121.41706112651045\n",
            "Best individual:\n",
            "Kappa: 1.8215866435691401\n",
            "Mu: 0.9154193677379293\n",
            "Omega: 1.5878962973891024\n",
            "Md: 0.16539522965699635\n",
            "\n",
            "=== Generation: 64 === \n",
            "Fitness: 121.41794373815317\n",
            "Best individual:\n",
            "Kappa: 1.857004930020297\n",
            "Mu: 0.9176617784843436\n",
            "Omega: 1.5918444318797373\n",
            "Md: 0.1686264819582603\n",
            "\n",
            "=== Generation: 65 === \n",
            "Fitness: 121.43385309672647\n",
            "Best individual:\n",
            "Kappa: 1.8449672948509352\n",
            "Mu: 0.918464610434937\n",
            "Omega: 1.5913067122619238\n",
            "Md: 0.16825145663530106\n",
            "\n",
            "=== Generation: 66 === \n",
            "Fitness: 121.40629339072937\n",
            "Best individual:\n",
            "Kappa: 1.8531730294450004\n",
            "Mu: 0.9197141329617069\n",
            "Omega: 1.594783707679287\n",
            "Md: 0.16633656659784918\n",
            "\n",
            "=== Generation: 67 === \n",
            "Fitness: 121.43413416677353\n",
            "Best individual:\n",
            "Kappa: 1.8267827266182721\n",
            "Mu: 0.9154236778075706\n",
            "Omega: 1.5921255288947613\n",
            "Md: 0.1662179300138019\n",
            "\n",
            "=== Generation: 68 === \n",
            "Fitness: 121.41200096503005\n",
            "Best individual:\n",
            "Kappa: 1.8027134959877933\n",
            "Mu: 0.913460663893268\n",
            "Omega: 1.5899940067765619\n",
            "Md: 0.16457189989455315\n",
            "\n",
            "=== Generation: 69 === \n",
            "Fitness: 121.4263774147342\n",
            "Best individual:\n",
            "Kappa: 1.8181768913955183\n",
            "Mu: 0.9176219134217314\n",
            "Omega: 1.5852777392412425\n",
            "Md: 0.16592995922370485\n",
            "\n",
            "=== Generation: 70 === \n",
            "Fitness: 121.42042531812338\n",
            "Best individual:\n",
            "Kappa: 1.822177421690306\n",
            "Mu: 0.9155252501469973\n",
            "Omega: 1.5940254604959958\n",
            "Md: 0.16450799352799855\n",
            "\n",
            "=== Generation: 71 === \n",
            "Fitness: 121.42130351588091\n",
            "Best individual:\n",
            "Kappa: 1.8383242947268605\n",
            "Mu: 0.9203698651910092\n",
            "Omega: 1.591957442988494\n",
            "Md: 0.1658719294608704\n",
            "\n",
            "=== Generation: 72 === \n",
            "Fitness: 121.40905267651111\n",
            "Best individual:\n",
            "Kappa: 1.8354803330895322\n",
            "Mu: 0.917557820431403\n",
            "Omega: 1.598286302689991\n",
            "Md: 0.16618461970722342\n",
            "\n",
            "=== Generation: 73 === \n",
            "Fitness: 121.4198819752991\n",
            "Best individual:\n",
            "Kappa: 1.805307300715824\n",
            "Mu: 0.9169130770272634\n",
            "Omega: 1.590195305959789\n",
            "Md: 0.16501696823648734\n",
            "\n",
            "=== Generation: 74 === \n",
            "Fitness: 121.42426547888061\n",
            "Best individual:\n",
            "Kappa: 1.8245847420709904\n",
            "Mu: 0.9161824612220263\n",
            "Omega: 1.586054656624092\n",
            "Md: 0.1675612229761032\n",
            "\n",
            "=== Generation: 75 === \n",
            "Fitness: 121.44020926902682\n",
            "Best individual:\n",
            "Kappa: 1.828719170635344\n",
            "Mu: 0.9181394522683105\n",
            "Omega: 1.5893222922628285\n",
            "Md: 0.16712861287113642\n",
            "\n",
            "=== Generation: 76 === \n",
            "Fitness: 121.43542036470349\n",
            "Best individual:\n",
            "Kappa: 1.836803400222618\n",
            "Mu: 0.9172707844660166\n",
            "Omega: 1.5880364430875191\n",
            "Md: 0.16795288817629866\n",
            "\n",
            "=== Generation: 77 === \n",
            "Fitness: 121.4156742789945\n",
            "Best individual:\n",
            "Kappa: 1.8501837382159776\n",
            "Mu: 0.9200312507148132\n",
            "Omega: 1.588914246437102\n",
            "Md: 0.16947782803356226\n",
            "\n",
            "=== Generation: 78 === \n",
            "Fitness: 121.41038741425662\n",
            "Best individual:\n",
            "Kappa: 1.8383608988841562\n",
            "Mu: 0.9154342657574767\n",
            "Omega: 1.5916954743056213\n",
            "Md: 0.16817523676790544\n",
            "\n",
            "=== Generation: 79 === \n",
            "Fitness: 121.43607368319454\n",
            "Best individual:\n",
            "Kappa: 1.8298330571372434\n",
            "Mu: 0.9187561307838966\n",
            "Omega: 1.5869502331985534\n",
            "Md: 0.16654879312127177\n",
            "\n",
            "=== Generation: 80 === \n",
            "Fitness: 121.43502916226085\n",
            "Best individual:\n",
            "Kappa: 1.8283318842005098\n",
            "Mu: 0.9167753928606085\n",
            "Omega: 1.5876351506449566\n",
            "Md: 0.1664144936569597\n",
            "\n",
            "=== Generation: 81 === \n",
            "Fitness: 121.41379090154099\n",
            "Best individual:\n",
            "Kappa: 1.8445788610224396\n",
            "Mu: 0.9221352435681839\n",
            "Omega: 1.590936472725838\n",
            "Md: 0.16756660297287787\n",
            "\n",
            "=== Generation: 82 === \n",
            "Fitness: 121.43390162537611\n",
            "Best individual:\n",
            "Kappa: 1.827051210561122\n",
            "Mu: 0.9189590737685042\n",
            "Omega: 1.5925142927592986\n",
            "Md: 0.16580429342124325\n",
            "\n",
            "=== Generation: 83 === \n",
            "Fitness: 121.4159784243741\n",
            "Best individual:\n",
            "Kappa: 1.8214522974950138\n",
            "Mu: 0.9168285458834161\n",
            "Omega: 1.5923053454440363\n",
            "Md: 0.16689624095457647\n",
            "\n",
            "=== Generation: 84 === \n",
            "Fitness: 121.41115666947098\n",
            "Best individual:\n",
            "Kappa: 1.8276553631986188\n",
            "Mu: 0.9152663673200135\n",
            "Omega: 1.5977225891291849\n",
            "Md: 0.16509421707175206\n",
            "\n",
            "=== Generation: 85 === \n",
            "Fitness: 121.4296850697012\n",
            "Best individual:\n",
            "Kappa: 1.8471202659157484\n",
            "Mu: 0.9201037772580382\n",
            "Omega: 1.5892168798185802\n",
            "Md: 0.16721950453815804\n",
            "\n",
            "=== Generation: 86 === \n",
            "Fitness: 121.4292722949827\n",
            "Best individual:\n",
            "Kappa: 1.816478133889733\n",
            "Mu: 0.9170004473892585\n",
            "Omega: 1.5859278141486994\n",
            "Md: 0.16663348530987987\n",
            "\n",
            "=== Generation: 87 === \n",
            "Fitness: 121.41297223191557\n",
            "Best individual:\n",
            "Kappa: 1.841940867999351\n",
            "Mu: 0.9177234220679084\n",
            "Omega: 1.5839240745160468\n",
            "Md: 0.16872099806608168\n",
            "\n",
            "=== Generation: 88 === \n",
            "Fitness: 121.39831314214081\n",
            "Best individual:\n",
            "Kappa: 1.8222327920435681\n",
            "Mu: 0.92119219620273\n",
            "Omega: 1.5863260579220322\n",
            "Md: 0.16566904665036458\n",
            "\n",
            "=== Generation: 89 === \n",
            "Fitness: 121.435759327867\n",
            "Best individual:\n",
            "Kappa: 1.8157770951661643\n",
            "Mu: 0.9170333544345415\n",
            "Omega: 1.5883504720874464\n",
            "Md: 0.1660825739346417\n",
            "\n",
            "=== Generation: 90 === \n",
            "Fitness: 121.40348878429452\n",
            "Best individual:\n",
            "Kappa: 1.8392067521811784\n",
            "Mu: 0.9216881824355339\n",
            "Omega: 1.5899723988409833\n",
            "Md: 0.16816158121157815\n",
            "\n",
            "=== Generation: 91 === \n",
            "Fitness: 121.42594736717459\n",
            "Best individual:\n",
            "Kappa: 1.8098126718974799\n",
            "Mu: 0.9145383933700426\n",
            "Omega: 1.5896642597959385\n",
            "Md: 0.1652098892014888\n",
            "\n",
            "=== Generation: 92 === \n",
            "Fitness: 121.41443922664202\n",
            "Best individual:\n",
            "Kappa: 1.818063116281073\n",
            "Mu: 0.9160284472913681\n",
            "Omega: 1.5945252140759403\n",
            "Md: 0.16390807308319782\n",
            "\n",
            "=== Generation: 93 === \n",
            "Fitness: 121.43529557200516\n",
            "Best individual:\n",
            "Kappa: 1.827380365694017\n",
            "Mu: 0.9188466458378718\n",
            "Omega: 1.5868768404559728\n",
            "Md: 0.16641743537108558\n",
            "\n",
            "=== Generation: 94 === \n",
            "Fitness: 121.42275063328324\n",
            "Best individual:\n",
            "Kappa: 1.8102957364756922\n",
            "Mu: 0.9141872904622231\n",
            "Omega: 1.5920254900297768\n",
            "Md: 0.1648132864297934\n",
            "\n",
            "=== Generation: 95 === \n",
            "Fitness: 121.43384871341041\n",
            "Best individual:\n",
            "Kappa: 1.8351096867111858\n",
            "Mu: 0.9163458812107429\n",
            "Omega: 1.5902371316332413\n",
            "Md: 0.16755578215322733\n",
            "\n",
            "=== Generation: 96 === \n",
            "Fitness: 121.42036113720583\n",
            "Best individual:\n",
            "Kappa: 1.8071776081814845\n",
            "Mu: 0.9152433475592064\n",
            "Omega: 1.5876772808861066\n",
            "Md: 0.16467766601421682\n",
            "\n",
            "=== Generation: 97 === \n",
            "Fitness: 121.4346608761635\n",
            "Best individual:\n",
            "Kappa: 1.8211050253397763\n",
            "Mu: 0.9183259123220258\n",
            "Omega: 1.587810821282277\n",
            "Md: 0.1666406762806941\n",
            "\n",
            "=== Generation: 98 === \n",
            "Fitness: 121.43815371314066\n",
            "Best individual:\n",
            "Kappa: 1.8366915140523896\n",
            "Mu: 0.9187415628874841\n",
            "Omega: 1.5924920724793579\n",
            "Md: 0.1671079529065073\n",
            "\n",
            "=== Generation: 99 === \n",
            "Fitness: 121.42416753097224\n",
            "Best individual:\n",
            "Kappa: 1.8524146244069468\n",
            "Mu: 0.9195109895878485\n",
            "Omega: 1.5942191350438653\n",
            "Md: 0.1681355819693737\n",
            "\n",
            "==========\n",
            "Max number of generations exceeded!\n",
            "==========\n",
            "\n",
            "Best Fitness: 121.4430926911555\n",
            "Best Gen: 60\n",
            "Kappa: 1.8268551597392169\n",
            "Mu: 0.9167972559951117\n",
            "Omega: 1.5911730207205086\n",
            "Md: 0.16625655876963327\n"
          ]
        },
        {
          "output_type": "display_data",
          "data": {
            "text/plain": [
              "<Figure size 720x504 with 0 Axes>"
            ]
          },
          "metadata": {}
        },
        {
          "output_type": "display_data",
          "data": {
            "text/plain": [
              "<Figure size 720x504 with 0 Axes>"
            ]
          },
          "metadata": {}
        },
        {
          "output_type": "display_data",
          "data": {
            "text/plain": [
              "<Figure size 720x504 with 0 Axes>"
            ]
          },
          "metadata": {}
        },
        {
          "output_type": "display_data",
          "data": {
            "text/plain": [
              "<Figure size 720x504 with 0 Axes>"
            ]
          },
          "metadata": {}
        },
        {
          "output_type": "display_data",
          "data": {
            "text/plain": [
              "<Figure size 720x504 with 0 Axes>"
            ]
          },
          "metadata": {}
        },
        {
          "output_type": "display_data",
          "data": {
            "text/plain": [
              "<Figure size 720x504 with 0 Axes>"
            ]
          },
          "metadata": {}
        },
        {
          "output_type": "display_data",
          "data": {
            "text/plain": [
              "<Figure size 720x504 with 0 Axes>"
            ]
          },
          "metadata": {}
        },
        {
          "output_type": "display_data",
          "data": {
            "text/plain": [
              "<Figure size 720x504 with 0 Axes>"
            ]
          },
          "metadata": {}
        },
        {
          "output_type": "display_data",
          "data": {
            "text/plain": [
              "<Figure size 720x504 with 0 Axes>"
            ]
          },
          "metadata": {}
        },
        {
          "output_type": "display_data",
          "data": {
            "text/plain": [
              "<Figure size 720x504 with 0 Axes>"
            ]
          },
          "metadata": {}
        },
        {
          "output_type": "display_data",
          "data": {
            "text/plain": [
              "<Figure size 720x504 with 0 Axes>"
            ]
          },
          "metadata": {}
        },
        {
          "output_type": "display_data",
          "data": {
            "text/plain": [
              "<Figure size 720x504 with 0 Axes>"
            ]
          },
          "metadata": {}
        },
        {
          "output_type": "display_data",
          "data": {
            "text/plain": [
              "<Figure size 720x504 with 0 Axes>"
            ]
          },
          "metadata": {}
        },
        {
          "output_type": "display_data",
          "data": {
            "text/plain": [
              "<Figure size 720x504 with 0 Axes>"
            ]
          },
          "metadata": {}
        },
        {
          "output_type": "display_data",
          "data": {
            "text/plain": [
              "<Figure size 720x504 with 0 Axes>"
            ]
          },
          "metadata": {}
        },
        {
          "output_type": "display_data",
          "data": {
            "text/plain": [
              "<Figure size 720x504 with 0 Axes>"
            ]
          },
          "metadata": {}
        },
        {
          "output_type": "display_data",
          "data": {
            "text/plain": [
              "<Figure size 720x504 with 0 Axes>"
            ]
          },
          "metadata": {}
        },
        {
          "output_type": "display_data",
          "data": {
            "text/plain": [
              "<Figure size 720x504 with 0 Axes>"
            ]
          },
          "metadata": {}
        },
        {
          "output_type": "display_data",
          "data": {
            "text/plain": [
              "<Figure size 720x504 with 0 Axes>"
            ]
          },
          "metadata": {}
        },
        {
          "output_type": "display_data",
          "data": {
            "text/plain": [
              "<Figure size 720x504 with 0 Axes>"
            ]
          },
          "metadata": {}
        },
        {
          "output_type": "display_data",
          "data": {
            "text/plain": [
              "<Figure size 720x504 with 0 Axes>"
            ]
          },
          "metadata": {}
        },
        {
          "output_type": "display_data",
          "data": {
            "text/plain": [
              "<Figure size 720x504 with 0 Axes>"
            ]
          },
          "metadata": {}
        },
        {
          "output_type": "display_data",
          "data": {
            "text/plain": [
              "<Figure size 720x504 with 0 Axes>"
            ]
          },
          "metadata": {}
        },
        {
          "output_type": "display_data",
          "data": {
            "text/plain": [
              "<Figure size 720x504 with 0 Axes>"
            ]
          },
          "metadata": {}
        },
        {
          "output_type": "display_data",
          "data": {
            "text/plain": [
              "<Figure size 720x504 with 0 Axes>"
            ]
          },
          "metadata": {}
        },
        {
          "output_type": "display_data",
          "data": {
            "text/plain": [
              "<Figure size 720x504 with 0 Axes>"
            ]
          },
          "metadata": {}
        },
        {
          "output_type": "display_data",
          "data": {
            "text/plain": [
              "<Figure size 720x504 with 0 Axes>"
            ]
          },
          "metadata": {}
        },
        {
          "output_type": "display_data",
          "data": {
            "text/plain": [
              "<Figure size 720x504 with 0 Axes>"
            ]
          },
          "metadata": {}
        },
        {
          "output_type": "display_data",
          "data": {
            "text/plain": [
              "<Figure size 720x504 with 0 Axes>"
            ]
          },
          "metadata": {}
        },
        {
          "output_type": "display_data",
          "data": {
            "text/plain": [
              "<Figure size 720x504 with 0 Axes>"
            ]
          },
          "metadata": {}
        },
        {
          "output_type": "display_data",
          "data": {
            "text/plain": [
              "<Figure size 720x504 with 0 Axes>"
            ]
          },
          "metadata": {}
        },
        {
          "output_type": "display_data",
          "data": {
            "text/plain": [
              "<Figure size 720x504 with 0 Axes>"
            ]
          },
          "metadata": {}
        },
        {
          "output_type": "display_data",
          "data": {
            "text/plain": [
              "<Figure size 720x504 with 0 Axes>"
            ]
          },
          "metadata": {}
        },
        {
          "output_type": "display_data",
          "data": {
            "text/plain": [
              "<Figure size 720x504 with 0 Axes>"
            ]
          },
          "metadata": {}
        },
        {
          "output_type": "display_data",
          "data": {
            "text/plain": [
              "<Figure size 720x504 with 0 Axes>"
            ]
          },
          "metadata": {}
        },
        {
          "output_type": "display_data",
          "data": {
            "text/plain": [
              "<Figure size 720x504 with 0 Axes>"
            ]
          },
          "metadata": {}
        },
        {
          "output_type": "display_data",
          "data": {
            "text/plain": [
              "<Figure size 720x504 with 0 Axes>"
            ]
          },
          "metadata": {}
        },
        {
          "output_type": "display_data",
          "data": {
            "text/plain": [
              "<Figure size 720x504 with 0 Axes>"
            ]
          },
          "metadata": {}
        },
        {
          "output_type": "display_data",
          "data": {
            "text/plain": [
              "<Figure size 720x504 with 0 Axes>"
            ]
          },
          "metadata": {}
        },
        {
          "output_type": "display_data",
          "data": {
            "text/plain": [
              "<Figure size 720x504 with 0 Axes>"
            ]
          },
          "metadata": {}
        },
        {
          "output_type": "display_data",
          "data": {
            "text/plain": [
              "<Figure size 720x504 with 0 Axes>"
            ]
          },
          "metadata": {}
        },
        {
          "output_type": "display_data",
          "data": {
            "text/plain": [
              "<Figure size 720x504 with 0 Axes>"
            ]
          },
          "metadata": {}
        },
        {
          "output_type": "display_data",
          "data": {
            "text/plain": [
              "<Figure size 720x504 with 0 Axes>"
            ]
          },
          "metadata": {}
        },
        {
          "output_type": "display_data",
          "data": {
            "text/plain": [
              "<Figure size 720x504 with 0 Axes>"
            ]
          },
          "metadata": {}
        },
        {
          "output_type": "display_data",
          "data": {
            "text/plain": [
              "<Figure size 720x504 with 0 Axes>"
            ]
          },
          "metadata": {}
        },
        {
          "output_type": "display_data",
          "data": {
            "text/plain": [
              "<Figure size 720x504 with 0 Axes>"
            ]
          },
          "metadata": {}
        },
        {
          "output_type": "display_data",
          "data": {
            "text/plain": [
              "<Figure size 720x504 with 0 Axes>"
            ]
          },
          "metadata": {}
        },
        {
          "output_type": "display_data",
          "data": {
            "text/plain": [
              "<Figure size 720x504 with 0 Axes>"
            ]
          },
          "metadata": {}
        },
        {
          "output_type": "display_data",
          "data": {
            "text/plain": [
              "<Figure size 720x504 with 0 Axes>"
            ]
          },
          "metadata": {}
        },
        {
          "output_type": "display_data",
          "data": {
            "text/plain": [
              "<Figure size 720x504 with 0 Axes>"
            ]
          },
          "metadata": {}
        },
        {
          "output_type": "display_data",
          "data": {
            "text/plain": [
              "<Figure size 720x504 with 0 Axes>"
            ]
          },
          "metadata": {}
        },
        {
          "output_type": "display_data",
          "data": {
            "text/plain": [
              "<Figure size 720x504 with 0 Axes>"
            ]
          },
          "metadata": {}
        },
        {
          "output_type": "display_data",
          "data": {
            "text/plain": [
              "<Figure size 720x504 with 0 Axes>"
            ]
          },
          "metadata": {}
        },
        {
          "output_type": "display_data",
          "data": {
            "text/plain": [
              "<Figure size 720x504 with 0 Axes>"
            ]
          },
          "metadata": {}
        },
        {
          "output_type": "display_data",
          "data": {
            "text/plain": [
              "<Figure size 720x504 with 0 Axes>"
            ]
          },
          "metadata": {}
        },
        {
          "output_type": "display_data",
          "data": {
            "text/plain": [
              "<Figure size 720x504 with 0 Axes>"
            ]
          },
          "metadata": {}
        },
        {
          "output_type": "display_data",
          "data": {
            "text/plain": [
              "<Figure size 720x504 with 0 Axes>"
            ]
          },
          "metadata": {}
        },
        {
          "output_type": "display_data",
          "data": {
            "text/plain": [
              "<Figure size 720x504 with 0 Axes>"
            ]
          },
          "metadata": {}
        },
        {
          "output_type": "display_data",
          "data": {
            "text/plain": [
              "<Figure size 720x504 with 0 Axes>"
            ]
          },
          "metadata": {}
        },
        {
          "output_type": "display_data",
          "data": {
            "text/plain": [
              "<Figure size 720x504 with 0 Axes>"
            ]
          },
          "metadata": {}
        },
        {
          "output_type": "display_data",
          "data": {
            "text/plain": [
              "<Figure size 720x504 with 0 Axes>"
            ]
          },
          "metadata": {}
        },
        {
          "output_type": "display_data",
          "data": {
            "text/plain": [
              "<Figure size 720x504 with 0 Axes>"
            ]
          },
          "metadata": {}
        },
        {
          "output_type": "display_data",
          "data": {
            "text/plain": [
              "<Figure size 720x504 with 0 Axes>"
            ]
          },
          "metadata": {}
        },
        {
          "output_type": "display_data",
          "data": {
            "text/plain": [
              "<Figure size 720x504 with 0 Axes>"
            ]
          },
          "metadata": {}
        },
        {
          "output_type": "display_data",
          "data": {
            "text/plain": [
              "<Figure size 720x504 with 0 Axes>"
            ]
          },
          "metadata": {}
        },
        {
          "output_type": "display_data",
          "data": {
            "text/plain": [
              "<Figure size 720x504 with 0 Axes>"
            ]
          },
          "metadata": {}
        },
        {
          "output_type": "display_data",
          "data": {
            "text/plain": [
              "<Figure size 720x504 with 0 Axes>"
            ]
          },
          "metadata": {}
        },
        {
          "output_type": "display_data",
          "data": {
            "text/plain": [
              "<Figure size 720x504 with 0 Axes>"
            ]
          },
          "metadata": {}
        },
        {
          "output_type": "display_data",
          "data": {
            "text/plain": [
              "<Figure size 720x504 with 0 Axes>"
            ]
          },
          "metadata": {}
        },
        {
          "output_type": "display_data",
          "data": {
            "text/plain": [
              "<Figure size 720x504 with 0 Axes>"
            ]
          },
          "metadata": {}
        },
        {
          "output_type": "display_data",
          "data": {
            "text/plain": [
              "<Figure size 720x504 with 0 Axes>"
            ]
          },
          "metadata": {}
        },
        {
          "output_type": "display_data",
          "data": {
            "text/plain": [
              "<Figure size 720x504 with 0 Axes>"
            ]
          },
          "metadata": {}
        },
        {
          "output_type": "display_data",
          "data": {
            "text/plain": [
              "<Figure size 720x504 with 0 Axes>"
            ]
          },
          "metadata": {}
        },
        {
          "output_type": "display_data",
          "data": {
            "text/plain": [
              "<Figure size 720x504 with 0 Axes>"
            ]
          },
          "metadata": {}
        },
        {
          "output_type": "display_data",
          "data": {
            "text/plain": [
              "<Figure size 720x504 with 0 Axes>"
            ]
          },
          "metadata": {}
        },
        {
          "output_type": "display_data",
          "data": {
            "text/plain": [
              "<Figure size 720x504 with 0 Axes>"
            ]
          },
          "metadata": {}
        },
        {
          "output_type": "display_data",
          "data": {
            "text/plain": [
              "<Figure size 720x504 with 0 Axes>"
            ]
          },
          "metadata": {}
        },
        {
          "output_type": "display_data",
          "data": {
            "text/plain": [
              "<Figure size 720x504 with 0 Axes>"
            ]
          },
          "metadata": {}
        },
        {
          "output_type": "display_data",
          "data": {
            "text/plain": [
              "<Figure size 720x504 with 0 Axes>"
            ]
          },
          "metadata": {}
        },
        {
          "output_type": "display_data",
          "data": {
            "text/plain": [
              "<Figure size 720x504 with 0 Axes>"
            ]
          },
          "metadata": {}
        },
        {
          "output_type": "display_data",
          "data": {
            "text/plain": [
              "<Figure size 720x504 with 0 Axes>"
            ]
          },
          "metadata": {}
        },
        {
          "output_type": "display_data",
          "data": {
            "text/plain": [
              "<Figure size 720x504 with 0 Axes>"
            ]
          },
          "metadata": {}
        },
        {
          "output_type": "display_data",
          "data": {
            "text/plain": [
              "<Figure size 720x504 with 0 Axes>"
            ]
          },
          "metadata": {}
        },
        {
          "output_type": "display_data",
          "data": {
            "text/plain": [
              "<Figure size 720x504 with 0 Axes>"
            ]
          },
          "metadata": {}
        },
        {
          "output_type": "display_data",
          "data": {
            "text/plain": [
              "<Figure size 720x504 with 0 Axes>"
            ]
          },
          "metadata": {}
        },
        {
          "output_type": "display_data",
          "data": {
            "text/plain": [
              "<Figure size 720x504 with 0 Axes>"
            ]
          },
          "metadata": {}
        },
        {
          "output_type": "display_data",
          "data": {
            "text/plain": [
              "<Figure size 720x504 with 0 Axes>"
            ]
          },
          "metadata": {}
        },
        {
          "output_type": "display_data",
          "data": {
            "text/plain": [
              "<Figure size 720x504 with 0 Axes>"
            ]
          },
          "metadata": {}
        },
        {
          "output_type": "display_data",
          "data": {
            "text/plain": [
              "<Figure size 720x504 with 0 Axes>"
            ]
          },
          "metadata": {}
        },
        {
          "output_type": "display_data",
          "data": {
            "text/plain": [
              "<Figure size 720x504 with 0 Axes>"
            ]
          },
          "metadata": {}
        },
        {
          "output_type": "display_data",
          "data": {
            "text/plain": [
              "<Figure size 720x504 with 0 Axes>"
            ]
          },
          "metadata": {}
        },
        {
          "output_type": "display_data",
          "data": {
            "text/plain": [
              "<Figure size 720x504 with 0 Axes>"
            ]
          },
          "metadata": {}
        },
        {
          "output_type": "display_data",
          "data": {
            "text/plain": [
              "<Figure size 720x504 with 0 Axes>"
            ]
          },
          "metadata": {}
        },
        {
          "output_type": "display_data",
          "data": {
            "text/plain": [
              "<Figure size 720x504 with 0 Axes>"
            ]
          },
          "metadata": {}
        },
        {
          "output_type": "display_data",
          "data": {
            "text/plain": [
              "<Figure size 720x504 with 0 Axes>"
            ]
          },
          "metadata": {}
        },
        {
          "output_type": "display_data",
          "data": {
            "text/plain": [
              "<Figure size 720x504 with 0 Axes>"
            ]
          },
          "metadata": {}
        },
        {
          "output_type": "display_data",
          "data": {
            "text/plain": [
              "<Figure size 720x504 with 0 Axes>"
            ]
          },
          "metadata": {}
        },
        {
          "output_type": "display_data",
          "data": {
            "text/plain": [
              "<Figure size 720x504 with 0 Axes>"
            ]
          },
          "metadata": {}
        },
        {
          "output_type": "display_data",
          "data": {
            "text/plain": [
              "<Figure size 720x504 with 0 Axes>"
            ]
          },
          "metadata": {}
        },
        {
          "output_type": "display_data",
          "data": {
            "text/plain": [
              "<Figure size 720x504 with 0 Axes>"
            ]
          },
          "metadata": {}
        }
      ]
    },
    {
      "cell_type": "code",
      "source": [
        "(kappa_hat_sku_rad, mu_hat_sku_rad, omega_hat_sku_rad, md_hat_sku_rad)"
      ],
      "metadata": {
        "colab": {
          "base_uri": "https://localhost:8080/"
        },
        "id": "9N4hPZpsWrSn",
        "outputId": "f8541de2-6846-4bce-e69e-a7f7783314e3"
      },
      "execution_count": 40,
      "outputs": [
        {
          "output_type": "execute_result",
          "data": {
            "text/plain": [
              "(1.8268551597392169,\n",
              " 0.9167972559951117,\n",
              " 1.5911730207205086,\n",
              " 0.16625655876963327)"
            ]
          },
          "metadata": {},
          "execution_count": 40
        }
      ]
    },
    {
      "cell_type": "markdown",
      "source": [
        "### Comparison plot"
      ],
      "metadata": {
        "id": "XKP_EsTmW6YO"
      }
    },
    {
      "cell_type": "code",
      "source": [
        "plt.figure(figsize=((10,7)))\n",
        "plt.scatter(Xdata, Ydata, c='black')\n",
        "plt.plot(Xdata, shadowedKappaMuPDF(Xdata, kappa_hat_sku, mu_hat_sku, omega_hat_sku, md_hat_sku), label='Shadowed $\\kappa$-$\\mu$ GA (MSE)')\n",
        "plt.plot(Xdata, shadowedKappaMuPDF(Xdata, kappa_hat_sku_rad, mu_hat_sku_rad, omega_hat_sku_rad, md_hat_sku_rad), label='Shadowed $\\kappa$-$\\mu$ GA (RAD)', c='green')\n",
        "plt.plot(Xdata, shadowed_k_u_pdf, label='Shadowed $\\kappa$-$\\mu$ MLE', c='red')\n",
        "plt.title(f'Shadowed $\\kappa$-$\\mu$ fit comparison')\n",
        "plt.legend()\n",
        "plt.grid(True)\n",
        "plt.xlabel(r'mV')\n",
        "plt.ylabel('pdf')\n",
        "plt.show()\n",
        "\n",
        "plt.figure(figsize=((10,7)))\n",
        "plt.plot(Xdata, shadowedKappaMuPDF(Xdata, kappa_hat_sku, mu_hat_sku, omega_hat_sku, md_hat_sku), label='Shadowed $\\kappa$-$\\mu$ GA (MSE)')\n",
        "plt.plot(Xdata, shadowedKappaMuPDF(Xdata, kappa_hat_sku_rad, mu_hat_sku_rad, omega_hat_sku_rad, md_hat_sku_rad), label='Shadowed $\\kappa$-$\\mu$ GA (RAD)', c='green')\n",
        "plt.plot(Xdata, shadowed_k_u_pdf, label='Shadowed $\\kappa$-$\\mu$ MLE', c='red')\n",
        "plt.title(f'Shadowed $\\kappa$-$\\mu$ fit comparison (Zoomed)')\n",
        "plt.legend()\n",
        "plt.grid(True)\n",
        "plt.xlabel(r'mV')\n",
        "plt.ylabel('pdf')\n",
        "plt.ylim([.6, .85])\n",
        "plt.xlim([0, 1])\n",
        "plt.show()"
      ],
      "metadata": {
        "colab": {
          "base_uri": "https://localhost:8080/",
          "height": 903
        },
        "id": "cMDRtK2mKyxG",
        "outputId": "03f5ae5b-76bc-47cf-f8cb-c5c7427d4371"
      },
      "execution_count": 43,
      "outputs": [
        {
          "output_type": "display_data",
          "data": {
            "text/plain": [
              "<Figure size 720x504 with 1 Axes>"
            ],
            "image/png": "[encoded data removed]"
          },
          "metadata": {
            "needs_background": "light"
          }
        },
        {
          "output_type": "display_data",
          "data": {
            "text/plain": [
              "<Figure size 720x504 with 1 Axes>"
            ],
            "image/png": "[encoded data removed]"
          },
          "metadata": {
            "needs_background": "light"
          }
        }
      ]
    },
    {
      "cell_type": "markdown",
      "source": [
        "### RAD/AIC Scores"
      ],
      "metadata": {
        "id": "nkcqtzbPViC_"
      }
    },
    {
      "cell_type": "code",
      "source": [
        "# Scores - RAD\n",
        "pVec1 = Ydata/np.sum(Ydata)\n",
        "pVec2 = shadowedKappaMuPDF(Xdata, kappa_hat_sku, mu_hat_sku, omega_hat_sku, md_hat_sku)\\\n",
        "/np.sum(shadowedKappaMuPDF(Xdata, kappa_hat_sku, mu_hat_sku, omega_hat_sku, md_hat_sku))\n",
        "KLD_1 = kldiv(pVec1, pVec2)\n",
        "KLD_2 = kldiv(pVec2, pVec1)\n",
        "rad_ga_mse_sku = RAD(KLD_1, KLD_2)\n",
        "\n",
        "pVec1 = Ydata/np.sum(Ydata)\n",
        "pVec2 = shadowedKappaMuPDF(Xdata, kappa_hat_sku_rad, mu_hat_sku_rad, omega_hat_sku_rad, md_hat_sku_rad)\\\n",
        "/np.sum(shadowedKappaMuPDF(Xdata, kappa_hat_sku_rad, mu_hat_sku_rad, omega_hat_sku_rad, md_hat_sku_rad))\n",
        "KLD_1 = kldiv(pVec1, pVec2)\n",
        "KLD_2 = kldiv(pVec2, pVec1)\n",
        "rad_ga_rad_sku = RAD(KLD_1, KLD_2)\n",
        "\n",
        "## AIC Analysis\n",
        "\n",
        "n = len(data_mV)\n",
        "K = 3\n",
        "\n",
        "# AIC MLE - KAPPA MU\n",
        "sum = np.sum(np.log(computePDF(data_mV, mle_kappa_mu[0], mle_kappa_mu[1], mle_kappa_mu[2])))\n",
        "AIC_mle_kappa_mu = -2*sum + 2*K + (2*K*(K+1))/(n-K-1)\n",
        "\n",
        "# AIC MLE - SHADOWED KAPPA MU\n",
        "sum = np.sum(np.log(shadowedKappaMuPDF(data_mV, mle_shadowed_kappa_mu[0], mle_shadowed_kappa_mu[1], mle_shadowed_kappa_mu[2], mle_shadowed_kappa_mu[3])))\n",
        "AIC_mle_shadowed_kappa_mu = -2*sum + 2*K + (2*K*(K+1))/(n-K-1)\n",
        "\n",
        "# AIC GENETIC ALGORITHM SHADOWED KAPPA MU - FITNESS: MSE\n",
        "sum = np.sum(np.log(shadowedKappaMuPDF(data_mV, kappa_hat_sku, mu_hat_sku, omega_hat_sku, md_hat_sku)))\n",
        "AIC_ga_shadowed_kappa_mu = -2*sum + 2*K + (2*K*(K+1))/(n-K-1)\n",
        "\n",
        "# AIC GENETIC ALGORITHM SHADOWED KAPPA MU - FITNESS: RAD\n",
        "sum = np.sum(np.log(shadowedKappaMuPDF(data_mV, kappa_hat_sku_rad, mu_hat_sku_rad, omega_hat_sku_rad, md_hat_sku_rad)))\n",
        "AIC_ga_shadowed_kappa_mu_rad = -2*sum + 2*K + (2*K*(K+1))/(n-K-1)\n",
        "\n",
        "# AIC GENETIC ALGORITHM - FITNESS: MSE\n",
        "sum = np.sum(np.log(computePDF(data_mV, kappa_hat, mu_hat, omega_hat)))\n",
        "AIC_ga_mse = -2*sum + 2*K + (2*K*(K+1))/(n-K-1)\n",
        "  \n",
        "# AIC GENETIC ALGORITHM - FITNESS: RAD\n",
        "sum = np.sum(np.log(computePDF(data_mV, kappa_hat_rad, mu_hat_rad, omega_hat_rad)))\n",
        "AIC_ga_rad = -2*sum + 2*K + (2*K*(K+1))/(n-K-1)\n",
        "\n",
        "rads = {'Methods':['Genetic Algorithm - KappaMu (Fitness = MSE)', 'Genetic Algorithm - KappaMu (Fitness = RAD)',\\\n",
        "                   'Maximum Likelihood Estimator - KappaMu', 'Maximum Likelihood Estimator - Shadowed KappaMu',\\\n",
        "                   'Genetic Algorithm - Shadowed KappaMu (MSE)', 'Genetic Algorithm - Shadowed KappaMu (RAD)'],\n",
        "\t\t'Resistor Average Distance':[rad_mse, rad_rad, rad_mle_kappa_mu, rad_mle_shadowed_kappa_mu, rad_ga_mse_sku, rad_ga_rad_sku],\n",
        "    'Akaike Information Criteria':[AIC_ga_mse[0], AIC_ga_rad[0], AIC_mle_kappa_mu[0], AIC_mle_shadowed_kappa_mu[0], AIC_ga_shadowed_kappa_mu[0], AIC_ga_shadowed_kappa_mu_rad[0]]}\n",
        "\n",
        "# Create DataFrame\n",
        "df = pd.DataFrame(rads)\n",
        "display(df.sort_values(by='Akaike Information Criteria').reset_index(drop=True))"
      ],
      "metadata": {
        "colab": {
          "base_uri": "https://localhost:8080/",
          "height": 237
        },
        "id": "8VrY7Cu3K8PG",
        "outputId": "63f58eb1-d0c7-4772-e8f4-e773370f0714"
      },
      "execution_count": 39,
      "outputs": [
        {
          "output_type": "display_data",
          "data": {
            "text/plain": [
              "                                           Methods  Resistor Average Distance  \\\n",
              "0  Maximum Likelihood Estimator - Shadowed KappaMu                   0.009950   \n",
              "1       Genetic Algorithm - Shadowed KappaMu (MSE)                   0.009968   \n",
              "2       Genetic Algorithm - Shadowed KappaMu (RAD)                   0.008234   \n",
              "3      Genetic Algorithm - KappaMu (Fitness = RAD)                   0.045994   \n",
              "4           Maximum Likelihood Estimator - KappaMu                   0.069296   \n",
              "5      Genetic Algorithm - KappaMu (Fitness = MSE)                   0.069476   \n",
              "\n",
              "   Akaike Information Criteria  \n",
              "0                313225.159357  \n",
              "1                313228.553747  \n",
              "2                313546.321429  \n",
              "3                339767.607016  \n",
              "4                380914.753628  \n",
              "5                381235.211642  "
            ],
            "text/html": [
              "\n",
              "  <div id=\"df-e0d61c0f-1af6-4914-986b-544fde48af8a\">\n",
              "    <div class=\"colab-df-container\">\n",
              "      <div>\n",
              "<style scoped>\n",
              "    .dataframe tbody tr th:only-of-type {\n",
              "        vertical-align: middle;\n",
              "    }\n",
              "\n",
              "    .dataframe tbody tr th {\n",
              "        vertical-align: top;\n",
              "    }\n",
              "\n",
              "    .dataframe thead th {\n",
              "        text-align: right;\n",
              "    }\n",
              "</style>\n",
              "<table border=\"1\" class=\"dataframe\">\n",
              "  <thead>\n",
              "    <tr style=\"text-align: right;\">\n",
              "      <th></th>\n",
              "      <th>Methods</th>\n",
              "      <th>Resistor Average Distance</th>\n",
              "      <th>Akaike Information Criteria</th>\n",
              "    </tr>\n",
              "  </thead>\n",
              "  <tbody>\n",
              "    <tr>\n",
              "      <th>0</th>\n",
              "      <td>Maximum Likelihood Estimator - Shadowed KappaMu</td>\n",
              "      <td>0.009950</td>\n",
              "      <td>313225.159357</td>\n",
              "    </tr>\n",
              "    <tr>\n",
              "      <th>1</th>\n",
              "      <td>Genetic Algorithm - Shadowed KappaMu (MSE)</td>\n",
              "      <td>0.009968</td>\n",
              "      <td>313228.553747</td>\n",
              "    </tr>\n",
              "    <tr>\n",
              "      <th>2</th>\n",
              "      <td>Genetic Algorithm - Shadowed KappaMu (RAD)</td>\n",
              "      <td>0.008234</td>\n",
              "      <td>313546.321429</td>\n",
              "    </tr>\n",
              "    <tr>\n",
              "      <th>3</th>\n",
              "      <td>Genetic Algorithm - KappaMu (Fitness = RAD)</td>\n",
              "      <td>0.045994</td>\n",
              "      <td>339767.607016</td>\n",
              "    </tr>\n",
              "    <tr>\n",
              "      <th>4</th>\n",
              "      <td>Maximum Likelihood Estimator - KappaMu</td>\n",
              "      <td>0.069296</td>\n",
              "      <td>380914.753628</td>\n",
              "    </tr>\n",
              "    <tr>\n",
              "      <th>5</th>\n",
              "      <td>Genetic Algorithm - KappaMu (Fitness = MSE)</td>\n",
              "      <td>0.069476</td>\n",
              "      <td>381235.211642</td>\n",
              "    </tr>\n",
              "  </tbody>\n",
              "</table>\n",
              "</div>\n",
              "      <button class=\"colab-df-convert\" onclick=\"convertToInteractive('df-e0d61c0f-1af6-4914-986b-544fde48af8a')\"\n",
              "              title=\"Convert this dataframe to an interactive table.\"\n",
              "              style=\"display:none;\">\n",
              "        \n",
              "  <svg xmlns=\"http://www.w3.org/2000/svg\" height=\"24px\"viewBox=\"0 0 24 24\"\n",
              "       width=\"24px\">\n",
              "    <path d=\"M0 0h24v24H0V0z\" fill=\"none\"/>\n",
              "    <path d=\"M18.56 5.44l.94 2.06.94-2.06 2.06-.94-2.06-.94-.94-2.06-.94 2.06-2.06.94zm-11 1L8.5 8.5l.94-2.06 2.06-.94-2.06-.94L8.5 2.5l-.94 2.06-2.06.94zm10 10l.94 2.06.94-2.06 2.06-.94-2.06-.94-.94-2.06-.94 2.06-2.06.94z\"/><path d=\"M17.41 7.96l-1.37-1.37c-.4-.4-.92-.59-1.43-.59-.52 0-1.04.2-1.43.59L10.3 9.45l-7.72 7.72c-.78.78-.78 2.05 0 2.83L4 21.41c.39.39.9.59 1.41.59.51 0 1.02-.2 1.41-.59l7.78-7.78 2.81-2.81c.8-.78.8-2.07 0-2.86zM5.41 20L4 18.59l7.72-7.72 1.47 1.35L5.41 20z\"/>\n",
              "  </svg>\n",
              "      </button>\n",
              "      \n",
              "  <style>\n",
              "    .colab-df-container {\n",
              "      display:flex;\n",
              "      flex-wrap:wrap;\n",
              "      gap: 12px;\n",
              "    }\n",
              "\n",
              "    .colab-df-convert {\n",
              "      background-color: #E8F0FE;\n",
              "      border: none;\n",
              "      border-radius: 50%;\n",
              "      cursor: pointer;\n",
              "      display: none;\n",
              "      fill: #1967D2;\n",
              "      height: 32px;\n",
              "      padding: 0 0 0 0;\n",
              "      width: 32px;\n",
              "    }\n",
              "\n",
              "    .colab-df-convert:hover {\n",
              "      background-color: #E2EBFA;\n",
              "      box-shadow: 0px 1px 2px rgba(60, 64, 67, 0.3), 0px 1px 3px 1px rgba(60, 64, 67, 0.15);\n",
              "      fill: #174EA6;\n",
              "    }\n",
              "\n",
              "    [theme=dark] .colab-df-convert {\n",
              "      background-color: #3B4455;\n",
              "      fill: #D2E3FC;\n",
              "    }\n",
              "\n",
              "    [theme=dark] .colab-df-convert:hover {\n",
              "      background-color: #434B5C;\n",
              "      box-shadow: 0px 1px 3px 1px rgba(0, 0, 0, 0.15);\n",
              "      filter: drop-shadow(0px 1px 2px rgba(0, 0, 0, 0.3));\n",
              "      fill: #FFFFFF;\n",
              "    }\n",
              "  </style>\n",
              "\n",
              "      <script>\n",
              "        const buttonEl =\n",
              "          document.querySelector('#df-e0d61c0f-1af6-4914-986b-544fde48af8a button.colab-df-convert');\n",
              "        buttonEl.style.display =\n",
              "          google.colab.kernel.accessAllowed ? 'block' : 'none';\n",
              "\n",
              "        async function convertToInteractive(key) {\n",
              "          const element = document.querySelector('#df-e0d61c0f-1af6-4914-986b-544fde48af8a');\n",
              "          const dataTable =\n",
              "            await google.colab.kernel.invokeFunction('convertToInteractive',\n",
              "                                                     [key], {});\n",
              "          if (!dataTable) return;\n",
              "\n",
              "          const docLinkHtml = 'Like what you see? Visit the ' +\n",
              "            '<a target=\"_blank\" href=https://colab.research.google.com/notebooks/data_table.ipynb>data table notebook</a>'\n",
              "            + ' to learn more about interactive tables.';\n",
              "          element.innerHTML = '';\n",
              "          dataTable['output_type'] = 'display_data';\n",
              "          await google.colab.output.renderOutput(dataTable, element);\n",
              "          const docLink = document.createElement('div');\n",
              "          docLink.innerHTML = docLinkHtml;\n",
              "          element.appendChild(docLink);\n",
              "        }\n",
              "      </script>\n",
              "    </div>\n",
              "  </div>\n",
              "  "
            ]
          },
          "metadata": {}
        }
      ]
    },
    {
      "cell_type": "code",
      "source": [
        ""
      ],
      "metadata": {
        "id": "0IMLtXL-Lnlq"
      },
      "execution_count": null,
      "outputs": []
    }
  ]
}